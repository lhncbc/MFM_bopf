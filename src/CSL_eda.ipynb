{
 "cells": [
  {
   "cell_type": "code",
   "execution_count": null,
   "metadata": {},
   "outputs": [],
   "source": [
    "import sys\n",
    "print(sys.version)"
   ]
  },
  {
   "cell_type": "code",
   "execution_count": null,
   "metadata": {},
   "outputs": [],
   "source": [
    "import pandas as pd\n",
    "print(pd.__version__)"
   ]
  },
  {
   "cell_type": "code",
   "execution_count": null,
   "metadata": {},
   "outputs": [],
   "source": [
    "pd.options.display.max_columns = None\n",
    "pd.options.display.float_format = '{:,.2f}'.format\n",
    "from IPython.core.display import display, HTML\n",
    "display(HTML(\"<style>.container { width:100% !important; }</style>\"))"
   ]
  },
  {
   "cell_type": "code",
   "execution_count": null,
   "metadata": {
    "scrolled": true
   },
   "outputs": [],
   "source": [
    "csl_df = pd.read_sas('/home/mbopf/MFMDatasets/CSL_StudyItems/CSLDatasets/csllinkedbypreg.sas7bdat', format = 'sas7bdat', encoding='iso-8859-1')\n",
    "csl_df.head()"
   ]
  },
  {
   "cell_type": "code",
   "execution_count": null,
   "metadata": {},
   "outputs": [],
   "source": [
    "csl_df.info()"
   ]
  },
  {
   "cell_type": "code",
   "execution_count": null,
   "metadata": {},
   "outputs": [],
   "source": [
    "#import numpy as np\n",
    "#np.where(csl_df['Marital'].notnull() & csl_df['Marital'])\n",
    "s = csl_df.Vbase3.apply(lambda x: pd.isnull(x) or (pd.notnull(x) and abs(x - int(x)) < 1e-6))\n",
    "print(s)"
   ]
  },
  {
   "cell_type": "code",
   "execution_count": null,
   "metadata": {},
   "outputs": [],
   "source": [
    "s = csl_df['Vbase3'].apply(lambda x: pd.notnull(x) and abs(x - int(x)) > 1e-6)\n",
    "s.any()"
   ]
  },
  {
   "cell_type": "code",
   "execution_count": null,
   "metadata": {},
   "outputs": [],
   "source": [
    "csl_df['Marital'].head()"
   ]
  },
  {
   "cell_type": "code",
   "execution_count": null,
   "metadata": {},
   "outputs": [],
   "source": [
    "#csl_df.applymap(lambda x: str(int(x)) if abs(x - int(x)) < 1e-6 else str(round(x,2)))\n",
    "#csl_df['Marital'].apply(lambda x: str(int(x)) if abs(x - int(x)) < 1e-6 else str(round(x,2)))"
   ]
  },
  {
   "cell_type": "code",
   "execution_count": null,
   "metadata": {},
   "outputs": [],
   "source": [
    "def convert_integer (df):\n",
    "    for col in df.columns:\n",
    "        intcol_flag = True\n",
    "        if df[col].dtype == 'float64':\n",
    "            # This is the really inefficient part\n",
    "            for val in df[col]:\n",
    "                if pd.notnull(val) and abs(val - int(val)) > 1e-6:\n",
    "                    intcol_flag = False\n",
    "                    break;\n",
    "            if intcol_flag:\n",
    "                print(f\"{col} is integer\")\n",
    "                if df[col].abs().max() < 127:\n",
    "                    df[col] = df[col].astype('Int8')\n",
    "                elif df[col].abs().max() < 32767:\n",
    "                    df[col] = df[col].astype('Int16')\n",
    "                else:   # assuming no ints greater than 2147483647 \n",
    "                    df[col] = df[col].astype('Int32') \n",
    "            else:\n",
    "                print(f\"{col} is float\")\n",
    "        else:\n",
    "            print(f\"{col} is {df[col].dtype}\")\n",
    "    return df"
   ]
  },
  {
   "cell_type": "code",
   "execution_count": null,
   "metadata": {},
   "outputs": [],
   "source": [
    "csl_df.agg(['count', 'size', 'nunique'])"
   ]
  },
  {
   "cell_type": "code",
   "execution_count": null,
   "metadata": {},
   "outputs": [],
   "source": [
    "csl_df.describe()"
   ]
  },
  {
   "cell_type": "code",
   "execution_count": null,
   "metadata": {},
   "outputs": [],
   "source": [
    "csl_df.agg(['min','max'])"
   ]
  },
  {
   "cell_type": "code",
   "execution_count": null,
   "metadata": {},
   "outputs": [],
   "source": [
    "csl_df['Vbase3'][csl_df['Vbase3'].notnull()]"
   ]
  },
  {
   "cell_type": "code",
   "execution_count": null,
   "metadata": {
    "scrolled": true
   },
   "outputs": [],
   "source": [
    "csl_df.dtypes"
   ]
  },
  {
   "cell_type": "code",
   "execution_count": 3,
   "metadata": {},
   "outputs": [],
   "source": [
    "def convert_integer (df):\n",
    "    for col in df.columns:\n",
    "        intcol_flag = True\n",
    "        if df[col].dtype == 'float64':\n",
    "            for val in df[col]:\n",
    "                if pd.notnull(val) and abs(val - int(val)) > 1e-6:\n",
    "                    intcol_flag = False\n",
    "                    break;\n",
    "            if intcol_flag:\n",
    "                if df[col].abs().max() < 127:\n",
    "                    df[col] = df[col].astype('Int8')\n",
    "                elif df[col].abs().max() < 32767:\n",
    "                    df[col] = df[col].astype('Int16')\n",
    "                else:   # assuming no ints greater than 2147483647 \n",
    "                    df[col] = df[col].astype('Int32') \n",
    "        print(f\"{col} is {df[col].dtype}\")\n",
    "    return df"
   ]
  },
  {
   "cell_type": "code",
   "execution_count": null,
   "metadata": {},
   "outputs": [],
   "source": [
    "df = convert_integer(csl_df)"
   ]
  },
  {
   "cell_type": "code",
   "execution_count": null,
   "metadata": {},
   "outputs": [],
   "source": [
    "csl_df.columns"
   ]
  },
  {
   "cell_type": "code",
   "execution_count": null,
   "metadata": {},
   "outputs": [],
   "source": [
    "csl_df.dtypes"
   ]
  },
  {
   "cell_type": "code",
   "execution_count": null,
   "metadata": {},
   "outputs": [],
   "source": [
    "float(3.0).is_integer()"
   ]
  },
  {
   "cell_type": "code",
   "execution_count": null,
   "metadata": {},
   "outputs": [],
   "source": [
    "csl_df['Marital'].value_counts(dropna=False)"
   ]
  },
  {
   "cell_type": "code",
   "execution_count": null,
   "metadata": {
    "scrolled": true
   },
   "outputs": [],
   "source": [
    "def int_columns (df, col_list):\n",
    "    for col in col_list:\n",
    "        df[col] = df[col].astype('Int16')\n",
    "    return df\n",
    "#int_columns(csl_df, ['Education','Insurance'])        "
   ]
  },
  {
   "cell_type": "code",
   "execution_count": null,
   "metadata": {},
   "outputs": [],
   "source": [
    "csl_df.isnull().sum()"
   ]
  },
  {
   "cell_type": "code",
   "execution_count": null,
   "metadata": {},
   "outputs": [],
   "source": [
    "csl_df.dtypes"
   ]
  },
  {
   "cell_type": "code",
   "execution_count": null,
   "metadata": {
    "scrolled": false
   },
   "outputs": [],
   "source": [
    "csl_df"
   ]
  },
  {
   "cell_type": "code",
   "execution_count": null,
   "metadata": {},
   "outputs": [],
   "source": [
    "csl_df.index"
   ]
  },
  {
   "cell_type": "code",
   "execution_count": null,
   "metadata": {},
   "outputs": [],
   "source": [
    "csl_df.columns"
   ]
  },
  {
   "cell_type": "code",
   "execution_count": null,
   "metadata": {},
   "outputs": [],
   "source": [
    "csl_df.dtypes"
   ]
  },
  {
   "cell_type": "code",
   "execution_count": null,
   "metadata": {},
   "outputs": [],
   "source": [
    "csl_df.shape"
   ]
  },
  {
   "cell_type": "code",
   "execution_count": null,
   "metadata": {},
   "outputs": [],
   "source": [
    "csl_df.info()"
   ]
  },
  {
   "cell_type": "code",
   "execution_count": null,
   "metadata": {},
   "outputs": [],
   "source": [
    "csl_df.describe(include='all')"
   ]
  },
  {
   "cell_type": "code",
   "execution_count": null,
   "metadata": {},
   "outputs": [],
   "source": [
    "sites = csl_df.Sitenum\n",
    "sites.value_counts().plot(kind='bar')"
   ]
  },
  {
   "cell_type": "code",
   "execution_count": null,
   "metadata": {},
   "outputs": [],
   "source": [
    "csl_df['Sitenum'].head()"
   ]
  },
  {
   "cell_type": "code",
   "execution_count": null,
   "metadata": {},
   "outputs": [],
   "source": [
    "csl_df.to_csv('/home/mbopf/MFMDatasets/CSL_StudyItems/mbopf/csl_all.csv')"
   ]
  },
  {
   "cell_type": "code",
   "execution_count": null,
   "metadata": {},
   "outputs": [],
   "source": [
    "cols = csl_df.columns\n",
    "print(cols)\n",
    "[x for x in cols]"
   ]
  },
  {
   "cell_type": "code",
   "execution_count": null,
   "metadata": {
    "scrolled": true
   },
   "outputs": [],
   "source": [
    "csl_df['Sitenum']"
   ]
  },
  {
   "cell_type": "code",
   "execution_count": 1,
   "metadata": {},
   "outputs": [
    {
     "ename": "NameError",
     "evalue": "name 'csl_df' is not defined",
     "output_type": "error",
     "traceback": [
      "\u001b[0;31m---------------------------------------------------------------------------\u001b[0m",
      "\u001b[0;31mNameError\u001b[0m                                 Traceback (most recent call last)",
      "\u001b[0;32m<ipython-input-1-cf357d95ea9f>\u001b[0m in \u001b[0;36m<module>\u001b[0;34m\u001b[0m\n\u001b[1;32m      1\u001b[0m \u001b[0;31m# Clear some memory\u001b[0m\u001b[0;34m\u001b[0m\u001b[0;34m\u001b[0m\u001b[0;34m\u001b[0m\u001b[0m\n\u001b[1;32m      2\u001b[0m \u001b[0;32mimport\u001b[0m \u001b[0mgc\u001b[0m\u001b[0;34m\u001b[0m\u001b[0;34m\u001b[0m\u001b[0m\n\u001b[0;32m----> 3\u001b[0;31m \u001b[0;32mdel\u001b[0m \u001b[0mcsl_df\u001b[0m\u001b[0;34m\u001b[0m\u001b[0;34m\u001b[0m\u001b[0m\n\u001b[0m\u001b[1;32m      4\u001b[0m \u001b[0mgc\u001b[0m\u001b[0;34m.\u001b[0m\u001b[0mcollect\u001b[0m\u001b[0;34m(\u001b[0m\u001b[0;34m)\u001b[0m\u001b[0;34m\u001b[0m\u001b[0;34m\u001b[0m\u001b[0m\n\u001b[1;32m      5\u001b[0m \u001b[0;31m#df_formats = pd.read_sas('/home/mbopf/MFMDatasets/CSL_StudyItems/CSLDatasets/cslformats_deidentified.sas7bdat', format = 'sas7bdat', encoding='iso-8859-1')\u001b[0m\u001b[0;34m\u001b[0m\u001b[0;34m\u001b[0m\u001b[0;34m\u001b[0m\u001b[0m\n",
      "\u001b[0;31mNameError\u001b[0m: name 'csl_df' is not defined"
     ]
    }
   ],
   "source": [
    "# Clear some memory\n",
    "import gc\n",
    "del csl_df\n",
    "gc.collect()\n",
    "#df_formats = pd.read_sas('/home/mbopf/MFMDatasets/CSL_StudyItems/CSLDatasets/cslformats_deidentified.sas7bdat', format = 'sas7bdat', encoding='iso-8859-1')"
   ]
  },
  {
   "cell_type": "code",
   "execution_count": 1,
   "metadata": {},
   "outputs": [
    {
     "data": {
      "text/html": [
       "<div>\n",
       "<style scoped>\n",
       "    .dataframe tbody tr th:only-of-type {\n",
       "        vertical-align: middle;\n",
       "    }\n",
       "\n",
       "    .dataframe tbody tr th {\n",
       "        vertical-align: top;\n",
       "    }\n",
       "\n",
       "    .dataframe thead th {\n",
       "        text-align: right;\n",
       "    }\n",
       "</style>\n",
       "<table border=\"1\" class=\"dataframe\">\n",
       "  <thead>\n",
       "    <tr style=\"text-align: right;\">\n",
       "      <th></th>\n",
       "      <th>col0</th>\n",
       "      <th>col1</th>\n",
       "      <th>col2</th>\n",
       "      <th>col3</th>\n",
       "      <th>col4</th>\n",
       "      <th>col5</th>\n",
       "      <th>col6</th>\n",
       "      <th>col7</th>\n",
       "      <th>col8</th>\n",
       "    </tr>\n",
       "  </thead>\n",
       "  <tbody>\n",
       "    <tr>\n",
       "      <th>0</th>\n",
       "      <td>2.0</td>\n",
       "      <td>NaN</td>\n",
       "      <td>111111.0</td>\n",
       "      <td>1.0</td>\n",
       "      <td>2.0</td>\n",
       "      <td>5000.0</td>\n",
       "      <td>111111.0</td>\n",
       "      <td>2.0</td>\n",
       "      <td>NaN</td>\n",
       "    </tr>\n",
       "    <tr>\n",
       "      <th>1</th>\n",
       "      <td>1.0</td>\n",
       "      <td>NaN</td>\n",
       "      <td>2.0</td>\n",
       "      <td>3.3</td>\n",
       "      <td>1.0</td>\n",
       "      <td>2.0</td>\n",
       "      <td>1.0</td>\n",
       "      <td>3.3</td>\n",
       "      <td>1.0</td>\n",
       "    </tr>\n",
       "    <tr>\n",
       "      <th>2</th>\n",
       "      <td>111111.0</td>\n",
       "      <td>5000.0</td>\n",
       "      <td>1.0</td>\n",
       "      <td>111111.0</td>\n",
       "      <td>5000.0</td>\n",
       "      <td>1.0</td>\n",
       "      <td>5000.0</td>\n",
       "      <td>3.3</td>\n",
       "      <td>2.0</td>\n",
       "    </tr>\n",
       "  </tbody>\n",
       "</table>\n",
       "</div>"
      ],
      "text/plain": [
       "       col0    col1      col2      col3    col4    col5      col6  col7  col8\n",
       "0       2.0     NaN  111111.0       1.0     2.0  5000.0  111111.0   2.0   NaN\n",
       "1       1.0     NaN       2.0       3.3     1.0     2.0       1.0   3.3   1.0\n",
       "2  111111.0  5000.0       1.0  111111.0  5000.0     1.0    5000.0   3.3   2.0"
      ]
     },
     "execution_count": 1,
     "metadata": {},
     "output_type": "execute_result"
    }
   ],
   "source": [
    "import numpy as np\n",
    "import pandas as pd\n",
    "np.random.seed(10)\n",
    "df = pd.DataFrame(np.random.choice([1, 2, 3.3, 5000, 111111, np.NaN], (3,9)), \n",
    "                  columns=[f'col{i}' for i in range(9)])\n",
    "df"
   ]
  },
  {
   "cell_type": "code",
   "execution_count": 4,
   "metadata": {
    "scrolled": true
   },
   "outputs": [
    {
     "name": "stdout",
     "output_type": "stream",
     "text": [
      "col0 is Int32\n",
      "col1 is Int16\n",
      "col2 is Int32\n",
      "col3 is float64\n",
      "col4 is Int16\n",
      "col5 is Int16\n",
      "col6 is Int32\n",
      "col7 is float64\n",
      "col8 is Int8\n"
     ]
    },
    {
     "data": {
      "text/html": [
       "<div>\n",
       "<style scoped>\n",
       "    .dataframe tbody tr th:only-of-type {\n",
       "        vertical-align: middle;\n",
       "    }\n",
       "\n",
       "    .dataframe tbody tr th {\n",
       "        vertical-align: top;\n",
       "    }\n",
       "\n",
       "    .dataframe thead th {\n",
       "        text-align: right;\n",
       "    }\n",
       "</style>\n",
       "<table border=\"1\" class=\"dataframe\">\n",
       "  <thead>\n",
       "    <tr style=\"text-align: right;\">\n",
       "      <th></th>\n",
       "      <th>col0</th>\n",
       "      <th>col1</th>\n",
       "      <th>col2</th>\n",
       "      <th>col3</th>\n",
       "      <th>col4</th>\n",
       "      <th>col5</th>\n",
       "      <th>col6</th>\n",
       "      <th>col7</th>\n",
       "      <th>col8</th>\n",
       "    </tr>\n",
       "  </thead>\n",
       "  <tbody>\n",
       "    <tr>\n",
       "      <th>0</th>\n",
       "      <td>2</td>\n",
       "      <td>NaN</td>\n",
       "      <td>111111</td>\n",
       "      <td>1.0</td>\n",
       "      <td>2</td>\n",
       "      <td>5000</td>\n",
       "      <td>111111</td>\n",
       "      <td>2.0</td>\n",
       "      <td>NaN</td>\n",
       "    </tr>\n",
       "    <tr>\n",
       "      <th>1</th>\n",
       "      <td>1</td>\n",
       "      <td>NaN</td>\n",
       "      <td>2</td>\n",
       "      <td>3.3</td>\n",
       "      <td>1</td>\n",
       "      <td>2</td>\n",
       "      <td>1</td>\n",
       "      <td>3.3</td>\n",
       "      <td>1</td>\n",
       "    </tr>\n",
       "    <tr>\n",
       "      <th>2</th>\n",
       "      <td>111111</td>\n",
       "      <td>5000</td>\n",
       "      <td>1</td>\n",
       "      <td>111111.0</td>\n",
       "      <td>5000</td>\n",
       "      <td>1</td>\n",
       "      <td>5000</td>\n",
       "      <td>3.3</td>\n",
       "      <td>2</td>\n",
       "    </tr>\n",
       "  </tbody>\n",
       "</table>\n",
       "</div>"
      ],
      "text/plain": [
       "     col0  col1    col2      col3  col4  col5    col6  col7  col8\n",
       "0       2   NaN  111111       1.0     2  5000  111111   2.0   NaN\n",
       "1       1   NaN       2       3.3     1     2       1   3.3     1\n",
       "2  111111  5000       1  111111.0  5000     1    5000   3.3     2"
      ]
     },
     "execution_count": 4,
     "metadata": {},
     "output_type": "execute_result"
    }
   ],
   "source": [
    "convert_integer(df)"
   ]
  },
  {
   "cell_type": "code",
   "execution_count": 13,
   "metadata": {},
   "outputs": [
    {
     "data": {
      "text/plain": [
       "0    1231231.0\n",
       "1    1231231.0\n",
       "2    1231231.0\n",
       "dtype: float64"
      ]
     },
     "execution_count": 13,
     "metadata": {},
     "output_type": "execute_result"
    }
   ],
   "source": [
    "df.max(axis=1)"
   ]
  },
  {
   "cell_type": "code",
   "execution_count": 14,
   "metadata": {},
   "outputs": [
    {
     "name": "stdout",
     "output_type": "stream",
     "text": [
      "col0     Int32\n",
      "col1     Int16\n",
      "col2     Int32\n",
      "col3     Int16\n",
      "col4      Int8\n",
      "col5      Int8\n",
      "col6     Int32\n",
      "col7     Int32\n",
      "col8     Int16\n",
      "col9     Int32\n",
      "col10    Int32\n",
      "col11    Int16\n",
      "col12    Int32\n",
      "col13    Int32\n",
      "col14     Int8\n",
      "col15    Int32\n",
      "col16     Int8\n",
      "col17    Int32\n",
      "col18    Int32\n",
      "col19    Int32\n",
      "dtype: category\n",
      "Categories (3, object): [Int8 < Int16 < Int32]\n",
      "col0     Int32\n",
      "col1     Int16\n",
      "col2     Int32\n",
      "col3     Int16\n",
      "col4      Int8\n",
      "col5      Int8\n",
      "col6     Int32\n",
      "col7     Int32\n",
      "col8     Int16\n",
      "col9     Int32\n",
      "col10    Int32\n",
      "col11    Int16\n",
      "col12    Int32\n",
      "col13    Int32\n",
      "col14     Int8\n",
      "col15    Int32\n",
      "col16     Int8\n",
      "col17    Int32\n",
      "col18    Int32\n",
      "col19    Int32\n",
      "dtype: category\n",
      "Categories (3, object): [Int8 < Int16 < Int32]\n"
     ]
    }
   ],
   "source": [
    "s = pd.cut(df.max(), bins=[0, 127, 32767, 2147483647], labels=['Int8', 'Int16', 'Int32'])\n",
    "print(s)\n",
    "s = s.where(df.dtypes=='float')  # So we only cast the previously float cols \n",
    "print(s)\n",
    "\n",
    "#for idx, gp in s.groupby(s):\n",
    "#    df.loc[:, gp.index] = df.loc[:, gp.index].astype(idx)"
   ]
  },
  {
   "cell_type": "code",
   "execution_count": null,
   "metadata": {},
   "outputs": [],
   "source": []
  }
 ],
 "metadata": {
  "kernelspec": {
   "display_name": "Python 3",
   "language": "python",
   "name": "python3"
  },
  "language_info": {
   "codemirror_mode": {
    "name": "ipython",
    "version": 3
   },
   "file_extension": ".py",
   "mimetype": "text/x-python",
   "name": "python",
   "nbconvert_exporter": "python",
   "pygments_lexer": "ipython3",
   "version": "3.7.3"
  }
 },
 "nbformat": 4,
 "nbformat_minor": 2
}
