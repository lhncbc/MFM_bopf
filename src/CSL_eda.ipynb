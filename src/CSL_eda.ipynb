{
 "cells": [
  {
   "cell_type": "code",
   "execution_count": null,
   "metadata": {},
   "outputs": [],
   "source": [
    "import sys\n",
    "print(sys.version)"
   ]
  },
  {
   "cell_type": "code",
   "execution_count": null,
   "metadata": {},
   "outputs": [],
   "source": [
    "import pandas as pd\n",
    "print(pd.__version__)"
   ]
  },
  {
   "cell_type": "code",
   "execution_count": null,
   "metadata": {},
   "outputs": [],
   "source": [
    "#pd.options.display.max_columns = None\n",
    "#pd.options.display.float_format = '{:,.2f}'.format\n",
    "#from IPython.core.display import display, HTML\n",
    "#display(HTML(\"<style>.container { width:100% !important; }</style>\"))"
   ]
  },
  {
   "cell_type": "code",
   "execution_count": null,
   "metadata": {
    "scrolled": true
   },
   "outputs": [],
   "source": [
    "csl_df = pd.read_sas('../data/csl/csllinkedbypreg.sas7bdat', format = 'sas7bdat', encoding='iso-8859-1')\n",
    "csl_df.head()"
   ]
  },
  {
   "cell_type": "code",
   "execution_count": null,
   "metadata": {},
   "outputs": [],
   "source": [
    "csl_df.info()"
   ]
  },
  {
   "cell_type": "code",
   "execution_count": null,
   "metadata": {},
   "outputs": [],
   "source": [
    "#csl_df.applymap(lambda x: str(int(x)) if abs(x - int(x)) < 1e-6 else str(round(x,2)))\n",
    "#csl_df['Marital'].apply(lambda x: str(int(x)) if abs(x - int(x)) < 1e-6 else str(round(x,2)))"
   ]
  },
  {
   "cell_type": "code",
   "execution_count": null,
   "metadata": {},
   "outputs": [],
   "source": [
    "def convert_integer (df):\n",
    "    for col in df.columns:\n",
    "        intcol_flag = True\n",
    "        if df[col].dtype == 'float64':\n",
    "            # This is the really inefficient part\n",
    "            for val in df[col]:\n",
    "                if pd.notnull(val) and abs(val - int(val)) > 1e-6:\n",
    "                    intcol_flag = False\n",
    "                    break;\n",
    "            if intcol_flag:\n",
    "                print(f\"{col} is integer\")\n",
    "                if df[col].abs().max() < 127:\n",
    "                    df[col] = df[col].astype('Int8')\n",
    "                elif df[col].abs().max() < 32767:\n",
    "                    df[col] = df[col].astype('Int16')\n",
    "                else:   # assuming no ints greater than 2147483647 \n",
    "                    df[col] = df[col].astype('Int32') \n",
    "            else:\n",
    "                print(f\"{col} is float\")\n",
    "        else:\n",
    "            print(f\"{col} is {df[col].dtype}\")\n",
    "    return df"
   ]
  },
  {
   "cell_type": "code",
   "execution_count": null,
   "metadata": {},
   "outputs": [],
   "source": [
    "csl_df.agg(['count', 'size', 'nunique'])"
   ]
  },
  {
   "cell_type": "code",
   "execution_count": null,
   "metadata": {},
   "outputs": [],
   "source": [
    "csl_df.describe()"
   ]
  },
  {
   "cell_type": "code",
   "execution_count": null,
   "metadata": {},
   "outputs": [],
   "source": [
    "csl_df.agg(['min','max'])"
   ]
  },
  {
   "cell_type": "code",
   "execution_count": null,
   "metadata": {
    "scrolled": true
   },
   "outputs": [],
   "source": [
    "csl_df.dtypes"
   ]
  },
  {
   "cell_type": "code",
   "execution_count": null,
   "metadata": {},
   "outputs": [],
   "source": [
    "def convert_integer (df):\n",
    "    type_dict = {}\n",
    "    for col in df.columns:\n",
    "        intcol_flag = True\n",
    "        if df[col].dtype == 'float64':\n",
    "            for val in df[col]:\n",
    "                if pd.notnull(val) and abs(val - int(val)) > 1e-6:\n",
    "                    intcol_flag = False\n",
    "                    break;\n",
    "            if intcol_flag:\n",
    "                if df[col].abs().max() < 127:\n",
    "                    df[col] = df[col].astype('Int8')\n",
    "                elif df[col].abs().max() < 32767:\n",
    "                    df[col] = df[col].astype('Int16')\n",
    "                else:   # assuming no ints greater than 2147483647 \n",
    "                    df[col] = df[col].astype('Int32') \n",
    "        print(f\"{col} is {df[col].dtype}\")\n",
    "        type_dict[col] = df[col].dtype\n",
    "    return type_dict"
   ]
  },
  {
   "cell_type": "code",
   "execution_count": null,
   "metadata": {},
   "outputs": [],
   "source": [
    "%%time\n",
    "type_dict = convert_integer(csl_df)"
   ]
  },
  {
   "cell_type": "code",
   "execution_count": null,
   "metadata": {},
   "outputs": [],
   "source": [
    "print(type_dict)"
   ]
  },
  {
   "cell_type": "code",
   "execution_count": null,
   "metadata": {},
   "outputs": [],
   "source": [
    "csl_df.columns"
   ]
  },
  {
   "cell_type": "code",
   "execution_count": null,
   "metadata": {},
   "outputs": [],
   "source": [
    "types = csl_df.dtypes\n",
    "types.value_counts()"
   ]
  },
  {
   "cell_type": "code",
   "execution_count": null,
   "metadata": {},
   "outputs": [],
   "source": [
    "types[(types != 'object') & (types != float)].index.values"
   ]
  },
  {
   "cell_type": "code",
   "execution_count": null,
   "metadata": {},
   "outputs": [],
   "source": [
    "csl_df.isnull().sum()"
   ]
  },
  {
   "cell_type": "code",
   "execution_count": null,
   "metadata": {},
   "outputs": [],
   "source": [
    "csl_df.info()"
   ]
  },
  {
   "cell_type": "code",
   "execution_count": null,
   "metadata": {},
   "outputs": [],
   "source": [
    "csl_df.describe(include='all')"
   ]
  },
  {
   "cell_type": "code",
   "execution_count": null,
   "metadata": {},
   "outputs": [],
   "source": [
    "#csl_df.to_csv('/home/mbopf/MFMDatasets/CSL_StudyItems/mbopf/csl_all.csv')"
   ]
  },
  {
   "cell_type": "code",
   "execution_count": null,
   "metadata": {},
   "outputs": [],
   "source": [
    "# Clear some memory\n",
    "#import gc\n",
    "#del csl_df\n",
    "#gc.collect()"
   ]
  },
  {
   "cell_type": "code",
   "execution_count": null,
   "metadata": {},
   "outputs": [],
   "source": [
    "import numpy as np\n",
    "import pandas as pd\n",
    "np.random.seed(10)\n",
    "df = pd.DataFrame(np.random.choice([1, 2, 3.3, 5000, 111111, np.NaN], (3,9)), \n",
    "                  columns=[f'col{i}' for i in range(9)])\n"
   ]
  },
  {
   "cell_type": "code",
   "execution_count": null,
   "metadata": {
    "scrolled": true
   },
   "outputs": [],
   "source": [
    "convert_integer(df)"
   ]
  },
  {
   "cell_type": "code",
   "execution_count": null,
   "metadata": {},
   "outputs": [],
   "source": [
    "df.max(axis=1)"
   ]
  },
  {
   "cell_type": "code",
   "execution_count": null,
   "metadata": {},
   "outputs": [],
   "source": [
    "s = pd.cut(df.max(), bins=[0, 127, 32767, 2147483647], labels=['Int8', 'Int16', 'Int32'])\n",
    "print(s)\n",
    "s = s.where(df.dtypes=='float')  # So we only cast the previously float cols \n",
    "print(s)\n",
    "\n",
    "#for idx, gp in s.groupby(s):\n",
    "#    df.loc[:, gp.index] = df.loc[:, gp.index].astype(idx)"
   ]
  },
  {
   "cell_type": "code",
   "execution_count": null,
   "metadata": {},
   "outputs": [],
   "source": []
  }
 ],
 "metadata": {
  "kernelspec": {
   "display_name": "Python 3",
   "language": "python",
   "name": "python3"
  },
  "language_info": {
   "codemirror_mode": {
    "name": "ipython",
    "version": 3
   },
   "file_extension": ".py",
   "mimetype": "text/x-python",
   "name": "python",
   "nbconvert_exporter": "python",
   "pygments_lexer": "ipython3",
   "version": "3.7.5"
  }
 },
 "nbformat": 4,
 "nbformat_minor": 2
}
