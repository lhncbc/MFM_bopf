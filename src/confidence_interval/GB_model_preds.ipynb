{
 "cells": [
  {
   "cell_type": "code",
   "execution_count": 1,
   "metadata": {},
   "outputs": [
    {
     "data": {
      "text/html": [
       "<style>.container { width:100% !important; }</style>"
      ],
      "text/plain": [
       "<IPython.core.display.HTML object>"
      ]
     },
     "metadata": {},
     "output_type": "display_data"
    }
   ],
   "source": [
    "import numpy as np\n",
    "import pandas as pd\n",
    "import matplotlib\n",
    "import matplotlib.pyplot as plt\n",
    "%matplotlib inline\n",
    "%config Completer.use_jedi = False\n",
    "from IPython.core.display import display, HTML\n",
    "display(HTML(\"<style>.container { width:100% !important; }</style>\"))"
   ]
  },
  {
   "cell_type": "code",
   "execution_count": 2,
   "metadata": {},
   "outputs": [],
   "source": [
    "df = pd.read_csv('../../data/csl/CSL_tytl_PI.csv', index_col=0)\n",
    "#corr_df = pd.read_csv('../../data/csl/Features/PI_Tl_Del_noSiteCorr.csv', index_col=0, header=None, delimiter='\\t')\n",
    "#corr_df = pd.read_csv('../../data/csl/Features/PI_Tl_Del_noSite_abCont_u50.csv', index_col=0, header=None, delimiter='\\t')\n",
    "corr_df = pd.read_csv('../../data/csl/Features/PI_Tl_Del_noSite_abCont_ALL.csv', index_col=0, header=None, delimiter='\\t')\n",
    "corr_vars = list(corr_df.index.values)"
   ]
  },
  {
   "cell_type": "code",
   "execution_count": 3,
   "metadata": {},
   "outputs": [
    {
     "name": "stdout",
     "output_type": "stream",
     "text": [
      "CPU times: user 2min 39s, sys: 3.5 s, total: 2min 43s\n",
      "Wall time: 2min 43s\n"
     ]
    },
    {
     "data": {
      "text/plain": [
       "recall     0.874315\n",
       "prec       0.137553\n",
       "MCC        0.264076\n",
       "PR_AUC     0.228090\n",
       "roc_auc    0.838146\n",
       "Name: mean, dtype: float64"
      ]
     },
     "execution_count": 3,
     "metadata": {},
     "output_type": "execute_result"
    }
   ],
   "source": [
    "%%time\n",
    "from mwb_bootstrap import bootstrap_stat\n",
    "from mwb_bootstrap import bootstrap_stat_all\n",
    "from sklearn.ensemble import GradientBoostingClassifier\n",
    "\n",
    "X = df.drop('trans_loss', axis=1, inplace=False)\n",
    "X = X[corr_vars]\n",
    "y = df['trans_loss'].values\n",
    "    \n",
    "clf = GradientBoostingClassifier(n_estimators=70, criterion=\"friedman_mse\",max_depth=11, \n",
    "                          min_samples_leaf=50, min_samples_split=900,max_leaf_nodes=None,\n",
    "                          max_features=12,subsample=0.9, learning_rate=0.1)\n",
    "#                          max_features=12,subsample=0.9, learning_rate=0.1,random_state=7)\n",
    "\n",
    "#stats_df, feats_df, X_train, y_train, X_test, y_test, y_pred = bootstrap_stat_all(X, y, clf, test_size=0.30, \n",
    "stats_df, feats_df, X_train, y_train, X_test, y_test, y_pred = bootstrap_stat_all(X, y, clf, test_size=0.20, \n",
    "                                                               sample_weights=True, nsamples=10, under=False)\n",
    "stats_df.loc['mean'] = stats_df.mean()\n",
    "stats_df.loc['mean',:]"
   ]
  },
  {
   "cell_type": "code",
   "execution_count": 5,
   "metadata": {},
   "outputs": [
    {
     "data": {
      "text/html": [
       "<div>\n",
       "<style scoped>\n",
       "    .dataframe tbody tr th:only-of-type {\n",
       "        vertical-align: middle;\n",
       "    }\n",
       "\n",
       "    .dataframe tbody tr th {\n",
       "        vertical-align: top;\n",
       "    }\n",
       "\n",
       "    .dataframe thead th {\n",
       "        text-align: right;\n",
       "    }\n",
       "</style>\n",
       "<table border=\"1\" class=\"dataframe\">\n",
       "  <thead>\n",
       "    <tr style=\"text-align: right;\">\n",
       "      <th></th>\n",
       "      <th>recall</th>\n",
       "      <th>prec</th>\n",
       "      <th>MCC</th>\n",
       "      <th>PR_AUC</th>\n",
       "      <th>roc_auc</th>\n",
       "    </tr>\n",
       "  </thead>\n",
       "  <tbody>\n",
       "    <tr>\n",
       "      <th>0</th>\n",
       "      <td>0.877216</td>\n",
       "      <td>0.136866</td>\n",
       "      <td>0.263553</td>\n",
       "      <td>0.226673</td>\n",
       "      <td>0.839196</td>\n",
       "    </tr>\n",
       "    <tr>\n",
       "      <th>1</th>\n",
       "      <td>0.880761</td>\n",
       "      <td>0.137891</td>\n",
       "      <td>0.266173</td>\n",
       "      <td>0.229356</td>\n",
       "      <td>0.836556</td>\n",
       "    </tr>\n",
       "    <tr>\n",
       "      <th>2</th>\n",
       "      <td>0.886239</td>\n",
       "      <td>0.138728</td>\n",
       "      <td>0.268917</td>\n",
       "      <td>0.234877</td>\n",
       "      <td>0.841690</td>\n",
       "    </tr>\n",
       "    <tr>\n",
       "      <th>3</th>\n",
       "      <td>0.871737</td>\n",
       "      <td>0.138116</td>\n",
       "      <td>0.264449</td>\n",
       "      <td>0.216330</td>\n",
       "      <td>0.836136</td>\n",
       "    </tr>\n",
       "    <tr>\n",
       "      <th>4</th>\n",
       "      <td>0.872382</td>\n",
       "      <td>0.137022</td>\n",
       "      <td>0.262695</td>\n",
       "      <td>0.224684</td>\n",
       "      <td>0.836889</td>\n",
       "    </tr>\n",
       "    <tr>\n",
       "      <th>5</th>\n",
       "      <td>0.863680</td>\n",
       "      <td>0.136352</td>\n",
       "      <td>0.259498</td>\n",
       "      <td>0.228142</td>\n",
       "      <td>0.832322</td>\n",
       "    </tr>\n",
       "    <tr>\n",
       "      <th>6</th>\n",
       "      <td>0.866258</td>\n",
       "      <td>0.136565</td>\n",
       "      <td>0.260469</td>\n",
       "      <td>0.219824</td>\n",
       "      <td>0.837482</td>\n",
       "    </tr>\n",
       "    <tr>\n",
       "      <th>7</th>\n",
       "      <td>0.874315</td>\n",
       "      <td>0.138242</td>\n",
       "      <td>0.265272</td>\n",
       "      <td>0.235186</td>\n",
       "      <td>0.839324</td>\n",
       "    </tr>\n",
       "    <tr>\n",
       "      <th>8</th>\n",
       "      <td>0.867870</td>\n",
       "      <td>0.137076</td>\n",
       "      <td>0.261737</td>\n",
       "      <td>0.228849</td>\n",
       "      <td>0.838540</td>\n",
       "    </tr>\n",
       "    <tr>\n",
       "      <th>9</th>\n",
       "      <td>0.882694</td>\n",
       "      <td>0.138677</td>\n",
       "      <td>0.267993</td>\n",
       "      <td>0.236979</td>\n",
       "      <td>0.843322</td>\n",
       "    </tr>\n",
       "    <tr>\n",
       "      <th>mean</th>\n",
       "      <td>0.874315</td>\n",
       "      <td>0.137553</td>\n",
       "      <td>0.264076</td>\n",
       "      <td>0.228090</td>\n",
       "      <td>0.838146</td>\n",
       "    </tr>\n",
       "  </tbody>\n",
       "</table>\n",
       "</div>"
      ],
      "text/plain": [
       "        recall      prec       MCC    PR_AUC   roc_auc\n",
       "0     0.877216  0.136866  0.263553  0.226673  0.839196\n",
       "1     0.880761  0.137891  0.266173  0.229356  0.836556\n",
       "2     0.886239  0.138728  0.268917  0.234877  0.841690\n",
       "3     0.871737  0.138116  0.264449  0.216330  0.836136\n",
       "4     0.872382  0.137022  0.262695  0.224684  0.836889\n",
       "5     0.863680  0.136352  0.259498  0.228142  0.832322\n",
       "6     0.866258  0.136565  0.260469  0.219824  0.837482\n",
       "7     0.874315  0.138242  0.265272  0.235186  0.839324\n",
       "8     0.867870  0.137076  0.261737  0.228849  0.838540\n",
       "9     0.882694  0.138677  0.267993  0.236979  0.843322\n",
       "mean  0.874315  0.137553  0.264076  0.228090  0.838146"
      ]
     },
     "execution_count": 5,
     "metadata": {},
     "output_type": "execute_result"
    }
   ],
   "source": [
    "stats_df"
   ]
  },
  {
   "cell_type": "code",
   "execution_count": 6,
   "metadata": {},
   "outputs": [
    {
     "data": {
      "text/html": [
       "<div>\n",
       "<style scoped>\n",
       "    .dataframe tbody tr th:only-of-type {\n",
       "        vertical-align: middle;\n",
       "    }\n",
       "\n",
       "    .dataframe tbody tr th {\n",
       "        vertical-align: top;\n",
       "    }\n",
       "\n",
       "    .dataframe thead th {\n",
       "        text-align: right;\n",
       "    }\n",
       "</style>\n",
       "<table border=\"1\" class=\"dataframe\">\n",
       "  <thead>\n",
       "    <tr style=\"text-align: right;\">\n",
       "      <th></th>\n",
       "      <th>mean</th>\n",
       "      <th>median</th>\n",
       "      <th>std</th>\n",
       "    </tr>\n",
       "  </thead>\n",
       "  <tbody>\n",
       "    <tr>\n",
       "      <th>Delmode</th>\n",
       "      <td>0.174265</td>\n",
       "      <td>0.174265</td>\n",
       "      <td>0.027252</td>\n",
       "    </tr>\n",
       "    <tr>\n",
       "      <th>Inoxy_incrdose</th>\n",
       "      <td>0.043990</td>\n",
       "      <td>0.040045</td>\n",
       "      <td>0.012982</td>\n",
       "    </tr>\n",
       "    <tr>\n",
       "      <th>Intratocolytix</th>\n",
       "      <td>0.038696</td>\n",
       "      <td>0.038696</td>\n",
       "      <td>0.008633</td>\n",
       "    </tr>\n",
       "    <tr>\n",
       "      <th>CS_FTP</th>\n",
       "      <td>0.029794</td>\n",
       "      <td>0.029794</td>\n",
       "      <td>0.006948</td>\n",
       "    </tr>\n",
       "    <tr>\n",
       "      <th>DMControl</th>\n",
       "      <td>0.027182</td>\n",
       "      <td>0.027182</td>\n",
       "      <td>0.007157</td>\n",
       "    </tr>\n",
       "    <tr>\n",
       "      <th>Insurance</th>\n",
       "      <td>0.027057</td>\n",
       "      <td>0.029031</td>\n",
       "      <td>0.005564</td>\n",
       "    </tr>\n",
       "    <tr>\n",
       "      <th>TrialLabor</th>\n",
       "      <td>0.026307</td>\n",
       "      <td>0.026043</td>\n",
       "      <td>0.010659</td>\n",
       "    </tr>\n",
       "    <tr>\n",
       "      <th>Hxanemia</th>\n",
       "      <td>0.025138</td>\n",
       "      <td>0.025138</td>\n",
       "      <td>0.003507</td>\n",
       "    </tr>\n",
       "    <tr>\n",
       "      <th>Lac_Min</th>\n",
       "      <td>0.023982</td>\n",
       "      <td>0.023982</td>\n",
       "      <td>0.009379</td>\n",
       "    </tr>\n",
       "    <tr>\n",
       "      <th>Education</th>\n",
       "      <td>0.022383</td>\n",
       "      <td>0.021994</td>\n",
       "      <td>0.005569</td>\n",
       "    </tr>\n",
       "  </tbody>\n",
       "</table>\n",
       "</div>"
      ],
      "text/plain": [
       "                    mean    median       std\n",
       "Delmode         0.174265  0.174265  0.027252\n",
       "Inoxy_incrdose  0.043990  0.040045  0.012982\n",
       "Intratocolytix  0.038696  0.038696  0.008633\n",
       "CS_FTP          0.029794  0.029794  0.006948\n",
       "DMControl       0.027182  0.027182  0.007157\n",
       "Insurance       0.027057  0.029031  0.005564\n",
       "TrialLabor      0.026307  0.026043  0.010659\n",
       "Hxanemia        0.025138  0.025138  0.003507\n",
       "Lac_Min         0.023982  0.023982  0.009379\n",
       "Education       0.022383  0.021994  0.005569"
      ]
     },
     "execution_count": 6,
     "metadata": {},
     "output_type": "execute_result"
    }
   ],
   "source": [
    "feats_df['mean'] = feats_df.mean(axis=1)\n",
    "feats_df['median'] = feats_df.median(axis=1)\n",
    "feats_df['std'] = feats_df.std(axis=1)\n",
    "sort_feat = feats_df.sort_values(by='mean', ascending=False)\n",
    "sort_feat[['mean','median','std']].head(10)"
   ]
  },
  {
   "cell_type": "code",
   "execution_count": 8,
   "metadata": {
    "scrolled": true
   },
   "outputs": [
    {
     "data": {
      "text/plain": [
       "recall     0.908852\n",
       "prec       0.142240\n",
       "MCC        0.280337\n",
       "PR_AUC     0.301485\n",
       "roc_auc    0.876292\n",
       "dtype: float64"
      ]
     },
     "execution_count": 8,
     "metadata": {},
     "output_type": "execute_result"
    }
   ],
   "source": [
    "y_train_pred = clf.predict(X_train)\n",
    "train_stats =  calc_stats(y_train, y_train_pred, X_train, clf)\n",
    "train_stats "
   ]
  },
  {
   "cell_type": "code",
   "execution_count": 10,
   "metadata": {},
   "outputs": [],
   "source": [
    "from mwb_bootstrap import bootstrap_stat_samp\n",
    "import random\n",
    "from sklearn.model_selection import train_test_split\n",
    "\n",
    "samp_rate = []\n",
    "mask = random.sample(range(len(X)), 30000)\n",
    "X_samp = X.iloc[mask]\n",
    "y_samp = y[mask]\n",
    "y_count = np.bincount(y_samp)\n",
    "#print(y_count)\n",
    "samp_rate.append(y_count[1]/len(y_samp))\n",
    "#print(f'samp_rate = {samp_rate}')\n"
   ]
  },
  {
   "cell_type": "code",
   "execution_count": 11,
   "metadata": {},
   "outputs": [
    {
     "name": "stdout",
     "output_type": "stream",
     "text": [
      "0.055790552358058076\n"
     ]
    }
   ],
   "source": [
    "yt_counts = np.bincount(y_train)\n",
    "print(yt_counts[1]/len(y_train))"
   ]
  },
  {
   "cell_type": "code",
   "execution_count": 13,
   "metadata": {
    "scrolled": true
   },
   "outputs": [
    {
     "data": {
      "text/plain": [
       "recall     0.892980\n",
       "prec       0.144871\n",
       "MCC        0.277348\n",
       "PR_AUC     0.288290\n",
       "roc_auc    0.866357\n",
       "dtype: float64"
      ]
     },
     "execution_count": 13,
     "metadata": {},
     "output_type": "execute_result"
    }
   ],
   "source": [
    "from mwb_bootstrap import calc_stats\n",
    "samp_ypred = clf.predict(X_samp)\n",
    "stats_s = calc_stats(y_samp, samp_ypred, X_samp, clf)\n",
    "stats_s"
   ]
  },
  {
   "cell_type": "markdown",
   "metadata": {},
   "source": [
    "# Note: loop below hides variables stats_df & feats_df"
   ]
  },
  {
   "cell_type": "code",
   "execution_count": 16,
   "metadata": {},
   "outputs": [
    {
     "name": "stdout",
     "output_type": "stream",
     "text": [
      "y_pos[41]: 9.928598095949226%\n",
      "y_pos[44]: 6.92512398693601%\n",
      "y_pos[48]: 1.7155643958229736%\n",
      "y_pos[49]: 5.239958805355304%\n",
      "y_pos[51]: 0.9277708592777085%\n"
     ]
    },
    {
     "data": {
      "text/html": [
       "<div>\n",
       "<style scoped>\n",
       "    .dataframe tbody tr th:only-of-type {\n",
       "        vertical-align: middle;\n",
       "    }\n",
       "\n",
       "    .dataframe tbody tr th {\n",
       "        vertical-align: top;\n",
       "    }\n",
       "\n",
       "    .dataframe thead th {\n",
       "        text-align: right;\n",
       "    }\n",
       "</style>\n",
       "<table border=\"1\" class=\"dataframe\">\n",
       "  <thead>\n",
       "    <tr style=\"text-align: right;\">\n",
       "      <th></th>\n",
       "      <th>41</th>\n",
       "      <th>44</th>\n",
       "      <th>48</th>\n",
       "      <th>49</th>\n",
       "      <th>51</th>\n",
       "    </tr>\n",
       "  </thead>\n",
       "  <tbody>\n",
       "    <tr>\n",
       "      <th>recall</th>\n",
       "      <td>0.9600</td>\n",
       "      <td>0.8830</td>\n",
       "      <td>0.3442</td>\n",
       "      <td>0.9222</td>\n",
       "      <td>0.2148</td>\n",
       "    </tr>\n",
       "    <tr>\n",
       "      <th>prec</th>\n",
       "      <td>0.1112</td>\n",
       "      <td>0.1681</td>\n",
       "      <td>0.1369</td>\n",
       "      <td>0.1591</td>\n",
       "      <td>0.1208</td>\n",
       "    </tr>\n",
       "    <tr>\n",
       "      <th>MCC</th>\n",
       "      <td>0.0976</td>\n",
       "      <td>0.2944</td>\n",
       "      <td>0.1958</td>\n",
       "      <td>0.3162</td>\n",
       "      <td>0.1506</td>\n",
       "    </tr>\n",
       "    <tr>\n",
       "      <th>PR_AUC</th>\n",
       "      <td>0.1963</td>\n",
       "      <td>0.3311</td>\n",
       "      <td>0.1588</td>\n",
       "      <td>0.3027</td>\n",
       "      <td>0.0841</td>\n",
       "    </tr>\n",
       "    <tr>\n",
       "      <th>roc_auc</th>\n",
       "      <td>0.6724</td>\n",
       "      <td>0.8605</td>\n",
       "      <td>0.8883</td>\n",
       "      <td>0.8964</td>\n",
       "      <td>0.8576</td>\n",
       "    </tr>\n",
       "    <tr>\n",
       "      <th>NTN</th>\n",
       "      <td>1,389.0000</td>\n",
       "      <td>6,282.0000</td>\n",
       "      <td>9,456.0000</td>\n",
       "      <td>6,921.0000</td>\n",
       "      <td>9,762.0000</td>\n",
       "    </tr>\n",
       "    <tr>\n",
       "      <th>NFP</th>\n",
       "      <td>7,618.0000</td>\n",
       "      <td>3,026.0000</td>\n",
       "      <td>372.0000</td>\n",
       "      <td>2,555.0000</td>\n",
       "      <td>145.0000</td>\n",
       "    </tr>\n",
       "    <tr>\n",
       "      <th>NFN</th>\n",
       "      <td>40.0000</td>\n",
       "      <td>81.0000</td>\n",
       "      <td>113.0000</td>\n",
       "      <td>41.0000</td>\n",
       "      <td>73.0000</td>\n",
       "    </tr>\n",
       "    <tr>\n",
       "      <th>NTP</th>\n",
       "      <td>953.0000</td>\n",
       "      <td>611.0000</td>\n",
       "      <td>59.0000</td>\n",
       "      <td>483.0000</td>\n",
       "      <td>20.0000</td>\n",
       "    </tr>\n",
       "  </tbody>\n",
       "</table>\n",
       "</div>"
      ],
      "text/plain": [
       "                41         44         48         49         51\n",
       "recall      0.9600     0.8830     0.3442     0.9222     0.2148\n",
       "prec        0.1112     0.1681     0.1369     0.1591     0.1208\n",
       "MCC         0.0976     0.2944     0.1958     0.3162     0.1506\n",
       "PR_AUC      0.1963     0.3311     0.1588     0.3027     0.0841\n",
       "roc_auc     0.6724     0.8605     0.8883     0.8964     0.8576\n",
       "NTN     1,389.0000 6,282.0000 9,456.0000 6,921.0000 9,762.0000\n",
       "NFP     7,618.0000 3,026.0000   372.0000 2,555.0000   145.0000\n",
       "NFN        40.0000    81.0000   113.0000    41.0000    73.0000\n",
       "NTP       953.0000   611.0000    59.0000   483.0000    20.0000"
      ]
     },
     "execution_count": 16,
     "metadata": {},
     "output_type": "execute_result"
    }
   ],
   "source": [
    "site_stats = pd.DataFrame()\n",
    "site_feats = pd.DataFrame()\n",
    "\n",
    "from mwb_bootstrap import calc_stats\n",
    "from sklearn.metrics import confusion_matrix\n",
    "#pd.options.display.float_format = '{:,.4f}'.format\n",
    "np.set_printoptions(precision=3)\n",
    "# Loop through Sites\n",
    "for site in [41, 44, 48, 49, 51]:\n",
    "    site_df = df[df['Sitenum'] == site]\n",
    "    X_site = site_df.drop('trans_loss', axis=1, inplace=False)\n",
    "    X_site = X_site[corr_vars]\n",
    "    y_site = site_df['trans_loss'].values\n",
    "    ys_counts = np.bincount(y_site)\n",
    "    print(f'y_pos[{site}]: {(ys_counts[1]/len(y_site))*100}%')\n",
    "                 \n",
    "    site_ypred = clf.predict(X_site)\n",
    "    stats_s = calc_stats(y_site, site_ypred, X_site, clf, conf_flag=True)\n",
    "    site_stats[site] = stats_s\n",
    "#    print(f'\\nSite{site} confusion matrix:\\n{confusion_matrix(y_site, site_ypred)}')\n",
    "#    print(f'\\nSite{site} confusion matrix:\\n{confusion_matrix(y_site, site_ypred, normalize=\"all\")}')\n",
    "    #tn, fp, fn, tp = confusion_matrix(y_site, site_ypred)\n",
    "    #print(f'tn,fp,fn,tp[{site}]: {tn,fp,fn,tp}')\n",
    "    \n",
    "    \n",
    "site_stats"
   ]
  }
 ],
 "metadata": {
  "kernelspec": {
   "display_name": "Python [conda env:root] *",
   "language": "python",
   "name": "conda-root-py"
  },
  "language_info": {
   "codemirror_mode": {
    "name": "ipython",
    "version": 3
   },
   "file_extension": ".py",
   "mimetype": "text/x-python",
   "name": "python",
   "nbconvert_exporter": "python",
   "pygments_lexer": "ipython3",
   "version": "3.7.9"
  }
 },
 "nbformat": 4,
 "nbformat_minor": 4
}
