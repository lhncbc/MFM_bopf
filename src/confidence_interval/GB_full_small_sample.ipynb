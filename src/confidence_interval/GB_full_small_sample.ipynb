{
 "cells": [
  {
   "cell_type": "code",
   "execution_count": 1,
   "metadata": {},
   "outputs": [
    {
     "data": {
      "text/html": [
       "<style>.container { width:100% !important; }</style>"
      ],
      "text/plain": [
       "<IPython.core.display.HTML object>"
      ]
     },
     "metadata": {},
     "output_type": "display_data"
    }
   ],
   "source": [
    "import numpy as np\n",
    "import pandas as pd\n",
    "import matplotlib\n",
    "import matplotlib.pyplot as plt\n",
    "%matplotlib inline\n",
    "%config Completer.use_jedi = False\n",
    "from IPython.core.display import display, HTML\n",
    "display(HTML(\"<style>.container { width:100% !important; }</style>\"))"
   ]
  },
  {
   "cell_type": "code",
   "execution_count": 2,
   "metadata": {},
   "outputs": [],
   "source": [
    "df = pd.read_csv('../../data/csl/CSL_tytl_PI.csv', index_col=0)\n",
    "#corr_df = pd.read_csv('../../data/csl/Features/PI_Tl_Del_noSiteCorr.csv', index_col=0, header=None, delimiter='\\t')\n",
    "#corr_df = pd.read_csv('../../data/csl/Features/PI_Tl_Del_noSite_abCont_u50.csv', index_col=0, header=None, delimiter='\\t')\n",
    "corr_df = pd.read_csv('../../data/csl/Features/PI_Tl_Del_noSite_abCont_ALL.csv', index_col=0, header=None, delimiter='\\t')\n",
    "corr_vars = list(corr_df.index.values)"
   ]
  },
  {
   "cell_type": "markdown",
   "metadata": {},
   "source": [
    "# This version takes smaller samples, close to the size of the individual Sites, to verify that it isn't the sample size that is causing the Sites to perform worse."
   ]
  },
  {
   "cell_type": "code",
   "execution_count": 3,
   "metadata": {},
   "outputs": [
    {
     "name": "stdout",
     "output_type": "stream",
     "text": [
      "(no random(seed) call) Mean y_pos = 0.05570533333333334\n",
      "CPU times: user 3min 1s, sys: 372 ms, total: 3min 1s\n",
      "Wall time: 3min 1s\n"
     ]
    },
    {
     "data": {
      "text/plain": [
       "recall     0.799126\n",
       "prec       0.138249\n",
       "MCC        0.247977\n",
       "PR_AUC     0.198236\n",
       "roc_auc    0.822942\n",
       "Name: mean, dtype: float64"
      ]
     },
     "execution_count": 3,
     "metadata": {},
     "output_type": "execute_result"
    }
   ],
   "source": [
    "%%time\n",
    "from mwb_bootstrap import bootstrap_stat_samp\n",
    "from sklearn.ensemble import GradientBoostingClassifier\n",
    "\n",
    "X = df.drop('trans_loss', axis=1, inplace=False)\n",
    "X = X[corr_vars]\n",
    "y = df['trans_loss'].values\n",
    "    \n",
    "clf = GradientBoostingClassifier(n_estimators=70, criterion=\"friedman_mse\",max_depth=11, \n",
    "                          min_samples_leaf=50, min_samples_split=900,max_leaf_nodes=None,\n",
    "                          max_features=12,subsample=0.9, learning_rate=0.1,random_state=7)\n",
    "\n",
    "stats_df, feats_df, X_train = bootstrap_stat_samp(X, y, clf, samp_size=30000, test_size=0.30, \n",
    "                                                 sample_weights=True, nsamples=100, under=False)\n",
    "#stats_df, feats_df, X_train = bootstrap_stat_samp(X, y, clf, samp_size=10, test_size=0.25, \n",
    "#                                                 sample_weights=True, nsamples=3, under=False)\n",
    "stats_df.loc['mean'] = stats_df.mean()\n",
    "stats_df.loc['mean',:]"
   ]
  },
  {
   "cell_type": "code",
   "execution_count": 4,
   "metadata": {},
   "outputs": [],
   "source": [
    "feats_df['mean'] = feats_df.mean(axis=1)"
   ]
  },
  {
   "cell_type": "code",
   "execution_count": 5,
   "metadata": {},
   "outputs": [],
   "source": [
    "feats_df['median'] = feats_df.median(axis=1)\n",
    "feats_df['std'] = feats_df.std(axis=1)"
   ]
  },
  {
   "cell_type": "code",
   "execution_count": 6,
   "metadata": {},
   "outputs": [],
   "source": [
    "sort_feat = feats_df.sort_values(by='mean', ascending=False)"
   ]
  },
  {
   "cell_type": "code",
   "execution_count": 7,
   "metadata": {
    "scrolled": true
   },
   "outputs": [
    {
     "data": {
      "text/html": [
       "<div>\n",
       "<style scoped>\n",
       "    .dataframe tbody tr th:only-of-type {\n",
       "        vertical-align: middle;\n",
       "    }\n",
       "\n",
       "    .dataframe tbody tr th {\n",
       "        vertical-align: top;\n",
       "    }\n",
       "\n",
       "    .dataframe thead th {\n",
       "        text-align: right;\n",
       "    }\n",
       "</style>\n",
       "<table border=\"1\" class=\"dataframe\">\n",
       "  <thead>\n",
       "    <tr style=\"text-align: right;\">\n",
       "      <th></th>\n",
       "      <th>mean</th>\n",
       "      <th>median</th>\n",
       "      <th>std</th>\n",
       "    </tr>\n",
       "  </thead>\n",
       "  <tbody>\n",
       "    <tr>\n",
       "      <th>Delmode</th>\n",
       "      <td>0.151710</td>\n",
       "      <td>0.149064</td>\n",
       "      <td>0.018629</td>\n",
       "    </tr>\n",
       "    <tr>\n",
       "      <th>Intratocolytix</th>\n",
       "      <td>0.050464</td>\n",
       "      <td>0.049665</td>\n",
       "      <td>0.011605</td>\n",
       "    </tr>\n",
       "    <tr>\n",
       "      <th>Inoxy_incrdose</th>\n",
       "      <td>0.048272</td>\n",
       "      <td>0.049731</td>\n",
       "      <td>0.010344</td>\n",
       "    </tr>\n",
       "    <tr>\n",
       "      <th>CS_FTP</th>\n",
       "      <td>0.027891</td>\n",
       "      <td>0.027891</td>\n",
       "      <td>0.006692</td>\n",
       "    </tr>\n",
       "    <tr>\n",
       "      <th>Analgesia</th>\n",
       "      <td>0.026837</td>\n",
       "      <td>0.026406</td>\n",
       "      <td>0.003996</td>\n",
       "    </tr>\n",
       "    <tr>\n",
       "      <th>Insurance</th>\n",
       "      <td>0.025168</td>\n",
       "      <td>0.023555</td>\n",
       "      <td>0.007008</td>\n",
       "    </tr>\n",
       "    <tr>\n",
       "      <th>Dilat_lst</th>\n",
       "      <td>0.022645</td>\n",
       "      <td>0.022294</td>\n",
       "      <td>0.005902</td>\n",
       "    </tr>\n",
       "    <tr>\n",
       "      <th>Admconsistency</th>\n",
       "      <td>0.022592</td>\n",
       "      <td>0.021423</td>\n",
       "      <td>0.005128</td>\n",
       "    </tr>\n",
       "    <tr>\n",
       "      <th>ROMmeth</th>\n",
       "      <td>0.021613</td>\n",
       "      <td>0.021558</td>\n",
       "      <td>0.005513</td>\n",
       "    </tr>\n",
       "    <tr>\n",
       "      <th>Hxanemia</th>\n",
       "      <td>0.020881</td>\n",
       "      <td>0.020643</td>\n",
       "      <td>0.005112</td>\n",
       "    </tr>\n",
       "    <tr>\n",
       "      <th>AdmSBP</th>\n",
       "      <td>0.020703</td>\n",
       "      <td>0.020192</td>\n",
       "      <td>0.003957</td>\n",
       "    </tr>\n",
       "    <tr>\n",
       "      <th>Education</th>\n",
       "      <td>0.020199</td>\n",
       "      <td>0.019146</td>\n",
       "      <td>0.007691</td>\n",
       "    </tr>\n",
       "    <tr>\n",
       "      <th>BESTGA</th>\n",
       "      <td>0.020150</td>\n",
       "      <td>0.019883</td>\n",
       "      <td>0.003199</td>\n",
       "    </tr>\n",
       "    <tr>\n",
       "      <th>prelaborCD</th>\n",
       "      <td>0.019880</td>\n",
       "      <td>0.019516</td>\n",
       "      <td>0.006040</td>\n",
       "    </tr>\n",
       "    <tr>\n",
       "      <th>Admcontract</th>\n",
       "      <td>0.018480</td>\n",
       "      <td>0.017718</td>\n",
       "      <td>0.004481</td>\n",
       "    </tr>\n",
       "    <tr>\n",
       "      <th>new_BMI</th>\n",
       "      <td>0.018022</td>\n",
       "      <td>0.018022</td>\n",
       "      <td>0.003805</td>\n",
       "    </tr>\n",
       "    <tr>\n",
       "      <th>AdmDBP</th>\n",
       "      <td>0.016897</td>\n",
       "      <td>0.016897</td>\n",
       "      <td>0.002900</td>\n",
       "    </tr>\n",
       "    <tr>\n",
       "      <th>Admpresent</th>\n",
       "      <td>0.015747</td>\n",
       "      <td>0.013846</td>\n",
       "      <td>0.006673</td>\n",
       "    </tr>\n",
       "    <tr>\n",
       "      <th>DMControl</th>\n",
       "      <td>0.015322</td>\n",
       "      <td>0.015322</td>\n",
       "      <td>0.004405</td>\n",
       "    </tr>\n",
       "    <tr>\n",
       "      <th>HxnumCS</th>\n",
       "      <td>0.015211</td>\n",
       "      <td>0.014275</td>\n",
       "      <td>0.004762</td>\n",
       "    </tr>\n",
       "  </tbody>\n",
       "</table>\n",
       "</div>"
      ],
      "text/plain": [
       "                    mean    median       std\n",
       "Delmode         0.151710  0.149064  0.018629\n",
       "Intratocolytix  0.050464  0.049665  0.011605\n",
       "Inoxy_incrdose  0.048272  0.049731  0.010344\n",
       "CS_FTP          0.027891  0.027891  0.006692\n",
       "Analgesia       0.026837  0.026406  0.003996\n",
       "Insurance       0.025168  0.023555  0.007008\n",
       "Dilat_lst       0.022645  0.022294  0.005902\n",
       "Admconsistency  0.022592  0.021423  0.005128\n",
       "ROMmeth         0.021613  0.021558  0.005513\n",
       "Hxanemia        0.020881  0.020643  0.005112\n",
       "AdmSBP          0.020703  0.020192  0.003957\n",
       "Education       0.020199  0.019146  0.007691\n",
       "BESTGA          0.020150  0.019883  0.003199\n",
       "prelaborCD      0.019880  0.019516  0.006040\n",
       "Admcontract     0.018480  0.017718  0.004481\n",
       "new_BMI         0.018022  0.018022  0.003805\n",
       "AdmDBP          0.016897  0.016897  0.002900\n",
       "Admpresent      0.015747  0.013846  0.006673\n",
       "DMControl       0.015322  0.015322  0.004405\n",
       "HxnumCS         0.015211  0.014275  0.004762"
      ]
     },
     "execution_count": 7,
     "metadata": {},
     "output_type": "execute_result"
    }
   ],
   "source": [
    "sort_feat[['mean','median','std']].head(20)"
   ]
  }
 ],
 "metadata": {
  "kernelspec": {
   "display_name": "Python [conda env:root] *",
   "language": "python",
   "name": "conda-root-py"
  },
  "language_info": {
   "codemirror_mode": {
    "name": "ipython",
    "version": 3
   },
   "file_extension": ".py",
   "mimetype": "text/x-python",
   "name": "python",
   "nbconvert_exporter": "python",
   "pygments_lexer": "ipython3",
   "version": "3.7.9"
  }
 },
 "nbformat": 4,
 "nbformat_minor": 4
}
