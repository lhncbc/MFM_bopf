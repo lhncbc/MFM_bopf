{
 "cells": [
  {
   "cell_type": "code",
   "execution_count": 1,
   "metadata": {},
   "outputs": [
    {
     "data": {
      "text/html": [
       "<style>.container { width:100% !important; }</style>"
      ],
      "text/plain": [
       "<IPython.core.display.HTML object>"
      ]
     },
     "metadata": {},
     "output_type": "display_data"
    }
   ],
   "source": [
    "import numpy as np\n",
    "import pandas as pd\n",
    "import matplotlib\n",
    "import matplotlib.pyplot as plt\n",
    "%matplotlib inline\n",
    "%config Completer.use_jedi = False\n",
    "from IPython.core.display import display, HTML\n",
    "display(HTML(\"<style>.container { width:100% !important; }</style>\"))"
   ]
  },
  {
   "cell_type": "code",
   "execution_count": 6,
   "metadata": {},
   "outputs": [],
   "source": [
    "df = pd.read_csv('../../data/csl/CSL_hety_PI_comp.csv', index_col=0)\n",
    "corr_df = pd.read_csv('../../data/csl/Features/PI_he_ty_noSite.csv', index_col=0, header=None, delimiter='\\t')\n",
    "corr_vars = list(corr_df.index.values)"
   ]
  },
  {
   "cell_type": "code",
   "execution_count": 8,
   "metadata": {},
   "outputs": [
    {
     "name": "stdout",
     "output_type": "stream",
     "text": [
      "CPU times: user 1min 31s, sys: 47.9 ms, total: 1min 32s\n",
      "Wall time: 1min 32s\n"
     ]
    },
    {
     "data": {
      "text/html": [
       "<div>\n",
       "<style scoped>\n",
       "    .dataframe tbody tr th:only-of-type {\n",
       "        vertical-align: middle;\n",
       "    }\n",
       "\n",
       "    .dataframe tbody tr th {\n",
       "        vertical-align: top;\n",
       "    }\n",
       "\n",
       "    .dataframe thead th {\n",
       "        text-align: right;\n",
       "    }\n",
       "</style>\n",
       "<table border=\"1\" class=\"dataframe\">\n",
       "  <thead>\n",
       "    <tr style=\"text-align: right;\">\n",
       "      <th></th>\n",
       "      <th>41</th>\n",
       "      <th>44</th>\n",
       "      <th>48</th>\n",
       "      <th>49</th>\n",
       "      <th>51</th>\n",
       "    </tr>\n",
       "  </thead>\n",
       "  <tbody>\n",
       "    <tr>\n",
       "      <th>recall</th>\n",
       "      <td>0.750373</td>\n",
       "      <td>0.855654</td>\n",
       "      <td>0.526506</td>\n",
       "      <td>0.894203</td>\n",
       "      <td>0.381395</td>\n",
       "    </tr>\n",
       "    <tr>\n",
       "      <th>prec</th>\n",
       "      <td>0.103423</td>\n",
       "      <td>0.161930</td>\n",
       "      <td>0.054547</td>\n",
       "      <td>0.176439</td>\n",
       "      <td>0.034865</td>\n",
       "    </tr>\n",
       "    <tr>\n",
       "      <th>MCC</th>\n",
       "      <td>0.236145</td>\n",
       "      <td>0.294122</td>\n",
       "      <td>0.128121</td>\n",
       "      <td>0.332610</td>\n",
       "      <td>0.088667</td>\n",
       "    </tr>\n",
       "    <tr>\n",
       "      <th>PR_AUC</th>\n",
       "      <td>0.181086</td>\n",
       "      <td>0.292690</td>\n",
       "      <td>0.069785</td>\n",
       "      <td>0.262366</td>\n",
       "      <td>0.052782</td>\n",
       "    </tr>\n",
       "    <tr>\n",
       "      <th>roc_auc</th>\n",
       "      <td>0.881882</td>\n",
       "      <td>0.854826</td>\n",
       "      <td>0.810168</td>\n",
       "      <td>0.883033</td>\n",
       "      <td>0.763495</td>\n",
       "    </tr>\n",
       "  </tbody>\n",
       "</table>\n",
       "</div>"
      ],
      "text/plain": [
       "               41        44        48        49        51\n",
       "recall   0.750373  0.855654  0.526506  0.894203  0.381395\n",
       "prec     0.103423  0.161930  0.054547  0.176439  0.034865\n",
       "MCC      0.236145  0.294122  0.128121  0.332610  0.088667\n",
       "PR_AUC   0.181086  0.292690  0.069785  0.262366  0.052782\n",
       "roc_auc  0.881882  0.854826  0.810168  0.883033  0.763495"
      ]
     },
     "execution_count": 8,
     "metadata": {},
     "output_type": "execute_result"
    }
   ],
   "source": [
    "%%time\n",
    "from mwb_bootstrap import bootstrap_stat\n",
    "from sklearn.ensemble import GradientBoostingClassifier\n",
    "\n",
    "site_stats = pd.DataFrame()\n",
    "site_feats = pd.DataFrame()\n",
    "\n",
    "# Loop through Sites\n",
    "for site in [41, 44, 48, 49, 51]:\n",
    "    site_df = df[df['Sitenum'] == site]\n",
    "    X = site_df.drop('high_EBL', axis=1, inplace=False)\n",
    "    X = X[corr_vars]\n",
    "    y = site_df['high_EBL'].values\n",
    "    \n",
    "    clf = GradientBoostingClassifier(n_estimators=70, criterion=\"friedman_mse\",max_depth=11, \n",
    "                          min_samples_leaf=50, min_samples_split=900,max_leaf_nodes=None,\n",
    "                          max_features=12,subsample=0.9, learning_rate=0.1,random_state=7)\n",
    "    stats_df, feats_df, X_train = bootstrap_stat(X, y, clf, test_size=0.25, \n",
    "                                                 sample_weights=True, nsamples=20, under=False)\n",
    "    stats_df.loc['mean'] = stats_df.mean()\n",
    "    site_stats[site] = stats_df.loc['mean',:]\n",
    "    \n",
    "    feats_df['mean'] = feats_df.mean(axis=1)\n",
    "    if site_feats.empty:\n",
    "        feats_df.sort_values(by='mean', inplace=True, ascending=False)\n",
    "        site_feats[site] = feats_df['mean']\n",
    "    else:\n",
    "        this_site = pd.DataFrame(feats_df['mean'])\n",
    "        this_site.columns = [site]\n",
    "        site_feats = site_feats.merge(this_site, left_index=True, \n",
    "                                      right_index=True, how='left')\n",
    "    \n",
    "site_stats"
   ]
  },
  {
   "cell_type": "code",
   "execution_count": 9,
   "metadata": {},
   "outputs": [
    {
     "data": {
      "text/plain": [
       "<Figure size 432x288 with 0 Axes>"
      ]
     },
     "metadata": {},
     "output_type": "display_data"
    },
    {
     "data": {
      "image/png": "[encoded data removed]",
      "text/plain": [
       "<Figure size 864x360 with 1 Axes>"
      ]
     },
     "metadata": {
      "needs_background": "light"
     },
     "output_type": "display_data"
    }
   ],
   "source": [
    "fig = plt.figure()\n",
    "ax = site_stats.T.plot.bar(figsize=(12,5), title=\"Prediction stats by Sitenum\")\n",
    "ax.set_ylabel(\"Score\")\n",
    "ax.set_xlabel(\"Sitenum\")\n",
    "plt.draw()\n",
    "#ax.set_xticklabels(ax.get_xticklabels(), rotation=90, fontsize=16)\n",
    "plt.show()"
   ]
  },
  {
   "cell_type": "code",
   "execution_count": 10,
   "metadata": {},
   "outputs": [
    {
     "data": {
      "text/plain": [
       "<Figure size 432x288 with 0 Axes>"
      ]
     },
     "metadata": {},
     "output_type": "display_data"
    },
    {
     "data": {
      "image/png": "[encoded data removed]",
      "text/plain": [
       "<Figure size 864x360 with 1 Axes>"
      ]
     },
     "metadata": {
      "needs_background": "light"
     },
     "output_type": "display_data"
    }
   ],
   "source": [
    "fig = plt.figure()\n",
    "ax = site_stats.T.plot(figsize=(12,5), title=\"Prediction stats by Sitenum\")\n",
    "ax.set_ylabel(\"Score\")\n",
    "ax.set_xlabel(\"Sitenum\")\n",
    "plt.draw()\n",
    "#ax.set_xticklabels(ax.get_xticklabels(), rotation=90, fontsize=16)\n",
    "plt.show()"
   ]
  },
  {
   "cell_type": "code",
   "execution_count": 11,
   "metadata": {},
   "outputs": [
    {
     "data": {
      "text/html": [
       "<div>\n",
       "<style scoped>\n",
       "    .dataframe tbody tr th:only-of-type {\n",
       "        vertical-align: middle;\n",
       "    }\n",
       "\n",
       "    .dataframe tbody tr th {\n",
       "        vertical-align: top;\n",
       "    }\n",
       "\n",
       "    .dataframe thead th {\n",
       "        text-align: right;\n",
       "    }\n",
       "</style>\n",
       "<table border=\"1\" class=\"dataframe\">\n",
       "  <thead>\n",
       "    <tr style=\"text-align: right;\">\n",
       "      <th></th>\n",
       "      <th>41</th>\n",
       "      <th>44</th>\n",
       "      <th>48</th>\n",
       "      <th>49</th>\n",
       "      <th>51</th>\n",
       "    </tr>\n",
       "  </thead>\n",
       "  <tbody>\n",
       "    <tr>\n",
       "      <th>Delmode</th>\n",
       "      <td>0.129777</td>\n",
       "      <td>0.237246</td>\n",
       "      <td>0.060253</td>\n",
       "      <td>0.226282</td>\n",
       "      <td>0.093035</td>\n",
       "    </tr>\n",
       "    <tr>\n",
       "      <th>Delfetalpos</th>\n",
       "      <td>0.086013</td>\n",
       "      <td>0.001191</td>\n",
       "      <td>0.002327</td>\n",
       "      <td>0.085528</td>\n",
       "      <td>0.014635</td>\n",
       "    </tr>\n",
       "    <tr>\n",
       "      <th>CS_FTP</th>\n",
       "      <td>0.054955</td>\n",
       "      <td>0.072612</td>\n",
       "      <td>0.007772</td>\n",
       "      <td>0.032322</td>\n",
       "      <td>0.058300</td>\n",
       "    </tr>\n",
       "    <tr>\n",
       "      <th>Anteanemia</th>\n",
       "      <td>0.045004</td>\n",
       "      <td>0.000341</td>\n",
       "      <td>0.000829</td>\n",
       "      <td>0.009400</td>\n",
       "      <td>0.000000</td>\n",
       "    </tr>\n",
       "    <tr>\n",
       "      <th>Presentdel</th>\n",
       "      <td>0.044315</td>\n",
       "      <td>0.001589</td>\n",
       "      <td>0.005821</td>\n",
       "      <td>0.002130</td>\n",
       "      <td>0.005032</td>\n",
       "    </tr>\n",
       "    <tr>\n",
       "      <th>...</th>\n",
       "      <td>...</td>\n",
       "      <td>...</td>\n",
       "      <td>...</td>\n",
       "      <td>...</td>\n",
       "      <td>...</td>\n",
       "    </tr>\n",
       "    <tr>\n",
       "      <th>Activeherpes</th>\n",
       "      <td>0.000000</td>\n",
       "      <td>0.000000</td>\n",
       "      <td>0.000000</td>\n",
       "      <td>0.000048</td>\n",
       "      <td>0.000852</td>\n",
       "    </tr>\n",
       "    <tr>\n",
       "      <th>Hxheartdis</th>\n",
       "      <td>0.000000</td>\n",
       "      <td>0.003303</td>\n",
       "      <td>0.001081</td>\n",
       "      <td>0.000126</td>\n",
       "      <td>0.000000</td>\n",
       "    </tr>\n",
       "    <tr>\n",
       "      <th>Hxanemia</th>\n",
       "      <td>0.000000</td>\n",
       "      <td>0.000255</td>\n",
       "      <td>0.000704</td>\n",
       "      <td>0.055324</td>\n",
       "      <td>0.000000</td>\n",
       "    </tr>\n",
       "    <tr>\n",
       "      <th>HospElectInd</th>\n",
       "      <td>0.000000</td>\n",
       "      <td>0.000000</td>\n",
       "      <td>0.000000</td>\n",
       "      <td>0.001453</td>\n",
       "      <td>0.000000</td>\n",
       "    </tr>\n",
       "    <tr>\n",
       "      <th>Hxrenaldis</th>\n",
       "      <td>0.000000</td>\n",
       "      <td>0.000805</td>\n",
       "      <td>0.000000</td>\n",
       "      <td>0.000000</td>\n",
       "      <td>0.000009</td>\n",
       "    </tr>\n",
       "  </tbody>\n",
       "</table>\n",
       "<p>196 rows × 5 columns</p>\n",
       "</div>"
      ],
      "text/plain": [
       "                    41        44        48        49        51\n",
       "Delmode       0.129777  0.237246  0.060253  0.226282  0.093035\n",
       "Delfetalpos   0.086013  0.001191  0.002327  0.085528  0.014635\n",
       "CS_FTP        0.054955  0.072612  0.007772  0.032322  0.058300\n",
       "Anteanemia    0.045004  0.000341  0.000829  0.009400  0.000000\n",
       "Presentdel    0.044315  0.001589  0.005821  0.002130  0.005032\n",
       "...                ...       ...       ...       ...       ...\n",
       "Activeherpes  0.000000  0.000000  0.000000  0.000048  0.000852\n",
       "Hxheartdis    0.000000  0.003303  0.001081  0.000126  0.000000\n",
       "Hxanemia      0.000000  0.000255  0.000704  0.055324  0.000000\n",
       "HospElectInd  0.000000  0.000000  0.000000  0.001453  0.000000\n",
       "Hxrenaldis    0.000000  0.000805  0.000000  0.000000  0.000009\n",
       "\n",
       "[196 rows x 5 columns]"
      ]
     },
     "execution_count": 11,
     "metadata": {},
     "output_type": "execute_result"
    }
   ],
   "source": [
    "site_feats"
   ]
  },
  {
   "cell_type": "code",
   "execution_count": 12,
   "metadata": {},
   "outputs": [
    {
     "name": "stdout",
     "output_type": "stream",
     "text": [
      "['Delmode' 'Delfetalpos' 'CS_FTP' 'Anteanemia' 'Presentdel' 'transfus_yes'\n",
      " 'MthInd_Miso' 'MthInd_Mec' 'Admcontract' 'BESTGA' 'Lac_None' 'TrialLabor'\n",
      " 'new_BMI' 'AdmSBP' 'AdmBishop' 'Augment' 'Analgesia' 'AdmDBP' 'new_age'\n",
      " 'Dilat_lst' 'Episiotomy' 'HosEpitype' 'CS_UScar' 'Education' 'Lac_Min']\n"
     ]
    },
    {
     "data": {
      "text/plain": [
       "<Figure size 432x288 with 0 Axes>"
      ]
     },
     "metadata": {},
     "output_type": "display_data"
    },
    {
     "data": {
      "image/png": "[encoded data removed]",
      "text/plain": [
       "<Figure size 864x360 with 1 Axes>"
      ]
     },
     "metadata": {
      "needs_background": "light"
     },
     "output_type": "display_data"
    }
   ],
   "source": [
    "fig = plt.figure()\n",
    "num_labels = 25\n",
    "x_labels = site_feats.index[0:num_labels].values\n",
    "print(x_labels)\n",
    "ax = site_feats.iloc[0:num_labels,:].plot(figsize=(12,5), title=\"Top features by Site\")\n",
    "ax.set_ylabel(\"Raw coefficient\")\n",
    "ax.set_xlabel(\"Variable\")\n",
    "ax.set_xticks(range(num_labels))\n",
    "ax.set_xticklabels(x_labels)\n",
    "plt.draw()\n",
    "ax.set_xticklabels(ax.get_xticklabels(), rotation=90, fontsize=12)\n",
    "#ax.set_xticks(ax.get_xticks(), rotation=90, fontsize=12)\n",
    "plt.show()"
   ]
  },
  {
   "cell_type": "code",
   "execution_count": 13,
   "metadata": {},
   "outputs": [
    {
     "data": {
      "text/plain": [
       "Delmode         0.129777\n",
       "Delfetalpos     0.086013\n",
       "CS_FTP          0.054955\n",
       "Anteanemia      0.045004\n",
       "Presentdel      0.044315\n",
       "transfus_yes    0.034298\n",
       "MthInd_Miso     0.029273\n",
       "MthInd_Mec      0.028121\n",
       "Admcontract     0.025707\n",
       "BESTGA          0.024719\n",
       "Lac_None        0.023324\n",
       "TrialLabor      0.020477\n",
       "Name: 41, dtype: float64"
      ]
     },
     "execution_count": 13,
     "metadata": {},
     "output_type": "execute_result"
    }
   ],
   "source": [
    "site_feats[41].sort_values(ascending=False)[0:12]"
   ]
  },
  {
   "cell_type": "code",
   "execution_count": 14,
   "metadata": {},
   "outputs": [
    {
     "data": {
      "text/plain": [
       "Delmode            0.237246\n",
       "transfus_yes       0.078836\n",
       "prelaborCD         0.074644\n",
       "CS_FTP             0.072612\n",
       "Admefface          0.051660\n",
       "Episiotomy         0.030966\n",
       "new_age            0.024733\n",
       "Lac_Min            0.022332\n",
       "Antefetdistress    0.022106\n",
       "Dilat_lst          0.021836\n",
       "BESTGA             0.019754\n",
       "new_BMI            0.019587\n",
       "Name: 44, dtype: float64"
      ]
     },
     "execution_count": 14,
     "metadata": {},
     "output_type": "execute_result"
    }
   ],
   "source": [
    "site_feats[44].sort_values(ascending=False)[0:12]"
   ]
  },
  {
   "cell_type": "code",
   "execution_count": 15,
   "metadata": {},
   "outputs": [
    {
     "data": {
      "text/plain": [
       "Insurance         0.129630\n",
       "Admefface         0.060327\n",
       "Delmode           0.060253\n",
       "new_age           0.045932\n",
       "new_BMI           0.043954\n",
       "AdmSBP            0.035675\n",
       "TrialLabor        0.035069\n",
       "AdmDBP            0.031993\n",
       "prelaborCD        0.031446\n",
       "BESTGA            0.024583\n",
       "high_Gravidity    0.024216\n",
       "momrace_new       0.021344\n",
       "Name: 48, dtype: float64"
      ]
     },
     "execution_count": 15,
     "metadata": {},
     "output_type": "execute_result"
    }
   ],
   "source": [
    "site_feats[48].sort_values(ascending=False)[0:12]"
   ]
  },
  {
   "cell_type": "code",
   "execution_count": 16,
   "metadata": {},
   "outputs": [
    {
     "data": {
      "text/plain": [
       "Delmode        0.226282\n",
       "Delfetalpos    0.085528\n",
       "Admefface      0.069588\n",
       "Lac_None       0.059224\n",
       "Hxanemia       0.055324\n",
       "TrialLabor     0.042555\n",
       "Lac_Min        0.036816\n",
       "CS_FTP         0.032322\n",
       "Dilat_lst      0.022657\n",
       "Intrafever     0.020496\n",
       "uscar          0.017109\n",
       "BESTGA         0.016926\n",
       "Name: 49, dtype: float64"
      ]
     },
     "execution_count": 16,
     "metadata": {},
     "output_type": "execute_result"
    }
   ],
   "source": [
    "site_feats[49].sort_values(ascending=False)[0:12]"
   ]
  },
  {
   "cell_type": "code",
   "execution_count": 17,
   "metadata": {},
   "outputs": [
    {
     "data": {
      "text/plain": [
       "Index(['Accrete', 'Activeherpes', 'AdmBishop', 'Admcervpos', 'Admconsistency',\n",
       "       'Admcontract', 'AdmDBP', 'Admefface', 'Admpresent', 'Admreason',\n",
       "       ...\n",
       "       'TD_nos', 'ThreatenedPB', 'threatpb9', 'transfus_yes', 'TrialLabor',\n",
       "       'UnspecHBP', 'Urupture', 'uscar', 'version9', 'vertex'],\n",
       "      dtype='object', length=196)"
      ]
     },
     "execution_count": 17,
     "metadata": {},
     "output_type": "execute_result"
    }
   ],
   "source": [
    "pd.DataFrame(feats_df['mean']).index"
   ]
  },
  {
   "cell_type": "code",
   "execution_count": 18,
   "metadata": {},
   "outputs": [
    {
     "data": {
      "text/html": [
       "<div>\n",
       "<style scoped>\n",
       "    .dataframe tbody tr th:only-of-type {\n",
       "        vertical-align: middle;\n",
       "    }\n",
       "\n",
       "    .dataframe tbody tr th {\n",
       "        vertical-align: top;\n",
       "    }\n",
       "\n",
       "    .dataframe thead th {\n",
       "        text-align: right;\n",
       "    }\n",
       "</style>\n",
       "<table border=\"1\" class=\"dataframe\">\n",
       "  <thead>\n",
       "    <tr style=\"text-align: right;\">\n",
       "      <th></th>\n",
       "      <th>41</th>\n",
       "      <th>44</th>\n",
       "      <th>48</th>\n",
       "      <th>49</th>\n",
       "      <th>51</th>\n",
       "      <th>s44</th>\n",
       "    </tr>\n",
       "  </thead>\n",
       "  <tbody>\n",
       "    <tr>\n",
       "      <th>Delmode</th>\n",
       "      <td>0.129777</td>\n",
       "      <td>0.237246</td>\n",
       "      <td>0.060253</td>\n",
       "      <td>0.226282</td>\n",
       "      <td>0.093035</td>\n",
       "      <td>0.093035</td>\n",
       "    </tr>\n",
       "    <tr>\n",
       "      <th>Delfetalpos</th>\n",
       "      <td>0.086013</td>\n",
       "      <td>0.001191</td>\n",
       "      <td>0.002327</td>\n",
       "      <td>0.085528</td>\n",
       "      <td>0.014635</td>\n",
       "      <td>0.014635</td>\n",
       "    </tr>\n",
       "    <tr>\n",
       "      <th>CS_FTP</th>\n",
       "      <td>0.054955</td>\n",
       "      <td>0.072612</td>\n",
       "      <td>0.007772</td>\n",
       "      <td>0.032322</td>\n",
       "      <td>0.058300</td>\n",
       "      <td>0.058300</td>\n",
       "    </tr>\n",
       "    <tr>\n",
       "      <th>Anteanemia</th>\n",
       "      <td>0.045004</td>\n",
       "      <td>0.000341</td>\n",
       "      <td>0.000829</td>\n",
       "      <td>0.009400</td>\n",
       "      <td>0.000000</td>\n",
       "      <td>0.000000</td>\n",
       "    </tr>\n",
       "    <tr>\n",
       "      <th>Presentdel</th>\n",
       "      <td>0.044315</td>\n",
       "      <td>0.001589</td>\n",
       "      <td>0.005821</td>\n",
       "      <td>0.002130</td>\n",
       "      <td>0.005032</td>\n",
       "      <td>0.005032</td>\n",
       "    </tr>\n",
       "    <tr>\n",
       "      <th>...</th>\n",
       "      <td>...</td>\n",
       "      <td>...</td>\n",
       "      <td>...</td>\n",
       "      <td>...</td>\n",
       "      <td>...</td>\n",
       "      <td>...</td>\n",
       "    </tr>\n",
       "    <tr>\n",
       "      <th>Activeherpes</th>\n",
       "      <td>0.000000</td>\n",
       "      <td>0.000000</td>\n",
       "      <td>0.000000</td>\n",
       "      <td>0.000048</td>\n",
       "      <td>0.000852</td>\n",
       "      <td>0.000852</td>\n",
       "    </tr>\n",
       "    <tr>\n",
       "      <th>Hxheartdis</th>\n",
       "      <td>0.000000</td>\n",
       "      <td>0.003303</td>\n",
       "      <td>0.001081</td>\n",
       "      <td>0.000126</td>\n",
       "      <td>0.000000</td>\n",
       "      <td>0.000000</td>\n",
       "    </tr>\n",
       "    <tr>\n",
       "      <th>Hxanemia</th>\n",
       "      <td>0.000000</td>\n",
       "      <td>0.000255</td>\n",
       "      <td>0.000704</td>\n",
       "      <td>0.055324</td>\n",
       "      <td>0.000000</td>\n",
       "      <td>0.000000</td>\n",
       "    </tr>\n",
       "    <tr>\n",
       "      <th>HospElectInd</th>\n",
       "      <td>0.000000</td>\n",
       "      <td>0.000000</td>\n",
       "      <td>0.000000</td>\n",
       "      <td>0.001453</td>\n",
       "      <td>0.000000</td>\n",
       "      <td>0.000000</td>\n",
       "    </tr>\n",
       "    <tr>\n",
       "      <th>Hxrenaldis</th>\n",
       "      <td>0.000000</td>\n",
       "      <td>0.000805</td>\n",
       "      <td>0.000000</td>\n",
       "      <td>0.000000</td>\n",
       "      <td>0.000009</td>\n",
       "      <td>0.000009</td>\n",
       "    </tr>\n",
       "  </tbody>\n",
       "</table>\n",
       "<p>196 rows × 6 columns</p>\n",
       "</div>"
      ],
      "text/plain": [
       "                    41        44        48        49        51       s44\n",
       "Delmode       0.129777  0.237246  0.060253  0.226282  0.093035  0.093035\n",
       "Delfetalpos   0.086013  0.001191  0.002327  0.085528  0.014635  0.014635\n",
       "CS_FTP        0.054955  0.072612  0.007772  0.032322  0.058300  0.058300\n",
       "Anteanemia    0.045004  0.000341  0.000829  0.009400  0.000000  0.000000\n",
       "Presentdel    0.044315  0.001589  0.005821  0.002130  0.005032  0.005032\n",
       "...                ...       ...       ...       ...       ...       ...\n",
       "Activeherpes  0.000000  0.000000  0.000000  0.000048  0.000852  0.000852\n",
       "Hxheartdis    0.000000  0.003303  0.001081  0.000126  0.000000  0.000000\n",
       "Hxanemia      0.000000  0.000255  0.000704  0.055324  0.000000  0.000000\n",
       "HospElectInd  0.000000  0.000000  0.000000  0.001453  0.000000  0.000000\n",
       "Hxrenaldis    0.000000  0.000805  0.000000  0.000000  0.000009  0.000009\n",
       "\n",
       "[196 rows x 6 columns]"
      ]
     },
     "execution_count": 18,
     "metadata": {},
     "output_type": "execute_result"
    }
   ],
   "source": [
    "#site_feats = pd.DataFrame()\n",
    "#site_feats['s41'] = feats_df['mean']\n",
    "site_feats['s44'] = feats_df['mean']\n",
    "site_feats"
   ]
  },
  {
   "cell_type": "code",
   "execution_count": 19,
   "metadata": {},
   "outputs": [
    {
     "ename": "KeyError",
     "evalue": "\"['trans_loss'] not found in axis\"",
     "output_type": "error",
     "traceback": [
      "\u001b[0;31m---------------------------------------------------------------------------\u001b[0m",
      "\u001b[0;31mKeyError\u001b[0m                                  Traceback (most recent call last)",
      "\u001b[0;32m<ipython-input-19-53177d1edb96>\u001b[0m in \u001b[0;36m<module>\u001b[0;34m\u001b[0m\n\u001b[1;32m      1\u001b[0m \u001b[0ms49_df\u001b[0m \u001b[0;34m=\u001b[0m \u001b[0mdf\u001b[0m\u001b[0;34m[\u001b[0m\u001b[0mdf\u001b[0m\u001b[0;34m[\u001b[0m\u001b[0;34m'Sitenum'\u001b[0m\u001b[0;34m]\u001b[0m \u001b[0;34m==\u001b[0m \u001b[0;36m49\u001b[0m\u001b[0;34m]\u001b[0m\u001b[0;34m\u001b[0m\u001b[0;34m\u001b[0m\u001b[0m\n\u001b[0;32m----> 2\u001b[0;31m \u001b[0mX\u001b[0m \u001b[0;34m=\u001b[0m \u001b[0ms49_df\u001b[0m\u001b[0;34m.\u001b[0m\u001b[0mdrop\u001b[0m\u001b[0;34m(\u001b[0m\u001b[0;34m'trans_loss'\u001b[0m\u001b[0;34m,\u001b[0m \u001b[0maxis\u001b[0m\u001b[0;34m=\u001b[0m\u001b[0;36m1\u001b[0m\u001b[0;34m,\u001b[0m \u001b[0minplace\u001b[0m\u001b[0;34m=\u001b[0m\u001b[0;32mFalse\u001b[0m\u001b[0;34m)\u001b[0m\u001b[0;34m\u001b[0m\u001b[0;34m\u001b[0m\u001b[0m\n\u001b[0m\u001b[1;32m      3\u001b[0m \u001b[0mX\u001b[0m \u001b[0;34m=\u001b[0m \u001b[0mX\u001b[0m\u001b[0;34m[\u001b[0m\u001b[0mcorr_vars\u001b[0m\u001b[0;34m]\u001b[0m\u001b[0;34m\u001b[0m\u001b[0;34m\u001b[0m\u001b[0m\n\u001b[1;32m      4\u001b[0m \u001b[0my\u001b[0m \u001b[0;34m=\u001b[0m \u001b[0ms49_df\u001b[0m\u001b[0;34m[\u001b[0m\u001b[0;34m'trans_loss'\u001b[0m\u001b[0;34m]\u001b[0m\u001b[0;34m.\u001b[0m\u001b[0mvalues\u001b[0m\u001b[0;34m\u001b[0m\u001b[0;34m\u001b[0m\u001b[0m\n\u001b[1;32m      5\u001b[0m \u001b[0mX\u001b[0m\u001b[0;34m\u001b[0m\u001b[0;34m\u001b[0m\u001b[0m\n",
      "\u001b[0;32m/opt/miniconda3/lib/python3.7/site-packages/pandas/core/frame.py\u001b[0m in \u001b[0;36mdrop\u001b[0;34m(self, labels, axis, index, columns, level, inplace, errors)\u001b[0m\n\u001b[1;32m   4313\u001b[0m             \u001b[0mlevel\u001b[0m\u001b[0;34m=\u001b[0m\u001b[0mlevel\u001b[0m\u001b[0;34m,\u001b[0m\u001b[0;34m\u001b[0m\u001b[0;34m\u001b[0m\u001b[0m\n\u001b[1;32m   4314\u001b[0m             \u001b[0minplace\u001b[0m\u001b[0;34m=\u001b[0m\u001b[0minplace\u001b[0m\u001b[0;34m,\u001b[0m\u001b[0;34m\u001b[0m\u001b[0;34m\u001b[0m\u001b[0m\n\u001b[0;32m-> 4315\u001b[0;31m             \u001b[0merrors\u001b[0m\u001b[0;34m=\u001b[0m\u001b[0merrors\u001b[0m\u001b[0;34m,\u001b[0m\u001b[0;34m\u001b[0m\u001b[0;34m\u001b[0m\u001b[0m\n\u001b[0m\u001b[1;32m   4316\u001b[0m         )\n\u001b[1;32m   4317\u001b[0m \u001b[0;34m\u001b[0m\u001b[0m\n",
      "\u001b[0;32m/opt/miniconda3/lib/python3.7/site-packages/pandas/core/generic.py\u001b[0m in \u001b[0;36mdrop\u001b[0;34m(self, labels, axis, index, columns, level, inplace, errors)\u001b[0m\n\u001b[1;32m   4151\u001b[0m         \u001b[0;32mfor\u001b[0m \u001b[0maxis\u001b[0m\u001b[0;34m,\u001b[0m \u001b[0mlabels\u001b[0m \u001b[0;32min\u001b[0m \u001b[0maxes\u001b[0m\u001b[0;34m.\u001b[0m\u001b[0mitems\u001b[0m\u001b[0;34m(\u001b[0m\u001b[0;34m)\u001b[0m\u001b[0;34m:\u001b[0m\u001b[0;34m\u001b[0m\u001b[0;34m\u001b[0m\u001b[0m\n\u001b[1;32m   4152\u001b[0m             \u001b[0;32mif\u001b[0m \u001b[0mlabels\u001b[0m \u001b[0;32mis\u001b[0m \u001b[0;32mnot\u001b[0m \u001b[0;32mNone\u001b[0m\u001b[0;34m:\u001b[0m\u001b[0;34m\u001b[0m\u001b[0;34m\u001b[0m\u001b[0m\n\u001b[0;32m-> 4153\u001b[0;31m                 \u001b[0mobj\u001b[0m \u001b[0;34m=\u001b[0m \u001b[0mobj\u001b[0m\u001b[0;34m.\u001b[0m\u001b[0m_drop_axis\u001b[0m\u001b[0;34m(\u001b[0m\u001b[0mlabels\u001b[0m\u001b[0;34m,\u001b[0m \u001b[0maxis\u001b[0m\u001b[0;34m,\u001b[0m \u001b[0mlevel\u001b[0m\u001b[0;34m=\u001b[0m\u001b[0mlevel\u001b[0m\u001b[0;34m,\u001b[0m \u001b[0merrors\u001b[0m\u001b[0;34m=\u001b[0m\u001b[0merrors\u001b[0m\u001b[0;34m)\u001b[0m\u001b[0;34m\u001b[0m\u001b[0;34m\u001b[0m\u001b[0m\n\u001b[0m\u001b[1;32m   4154\u001b[0m \u001b[0;34m\u001b[0m\u001b[0m\n\u001b[1;32m   4155\u001b[0m         \u001b[0;32mif\u001b[0m \u001b[0minplace\u001b[0m\u001b[0;34m:\u001b[0m\u001b[0;34m\u001b[0m\u001b[0;34m\u001b[0m\u001b[0m\n",
      "\u001b[0;32m/opt/miniconda3/lib/python3.7/site-packages/pandas/core/generic.py\u001b[0m in \u001b[0;36m_drop_axis\u001b[0;34m(self, labels, axis, level, errors)\u001b[0m\n\u001b[1;32m   4186\u001b[0m                 \u001b[0mnew_axis\u001b[0m \u001b[0;34m=\u001b[0m \u001b[0maxis\u001b[0m\u001b[0;34m.\u001b[0m\u001b[0mdrop\u001b[0m\u001b[0;34m(\u001b[0m\u001b[0mlabels\u001b[0m\u001b[0;34m,\u001b[0m \u001b[0mlevel\u001b[0m\u001b[0;34m=\u001b[0m\u001b[0mlevel\u001b[0m\u001b[0;34m,\u001b[0m \u001b[0merrors\u001b[0m\u001b[0;34m=\u001b[0m\u001b[0merrors\u001b[0m\u001b[0;34m)\u001b[0m\u001b[0;34m\u001b[0m\u001b[0;34m\u001b[0m\u001b[0m\n\u001b[1;32m   4187\u001b[0m             \u001b[0;32melse\u001b[0m\u001b[0;34m:\u001b[0m\u001b[0;34m\u001b[0m\u001b[0;34m\u001b[0m\u001b[0m\n\u001b[0;32m-> 4188\u001b[0;31m                 \u001b[0mnew_axis\u001b[0m \u001b[0;34m=\u001b[0m \u001b[0maxis\u001b[0m\u001b[0;34m.\u001b[0m\u001b[0mdrop\u001b[0m\u001b[0;34m(\u001b[0m\u001b[0mlabels\u001b[0m\u001b[0;34m,\u001b[0m \u001b[0merrors\u001b[0m\u001b[0;34m=\u001b[0m\u001b[0merrors\u001b[0m\u001b[0;34m)\u001b[0m\u001b[0;34m\u001b[0m\u001b[0;34m\u001b[0m\u001b[0m\n\u001b[0m\u001b[1;32m   4189\u001b[0m             \u001b[0mresult\u001b[0m \u001b[0;34m=\u001b[0m \u001b[0mself\u001b[0m\u001b[0;34m.\u001b[0m\u001b[0mreindex\u001b[0m\u001b[0;34m(\u001b[0m\u001b[0;34m**\u001b[0m\u001b[0;34m{\u001b[0m\u001b[0maxis_name\u001b[0m\u001b[0;34m:\u001b[0m \u001b[0mnew_axis\u001b[0m\u001b[0;34m}\u001b[0m\u001b[0;34m)\u001b[0m\u001b[0;34m\u001b[0m\u001b[0;34m\u001b[0m\u001b[0m\n\u001b[1;32m   4190\u001b[0m \u001b[0;34m\u001b[0m\u001b[0m\n",
      "\u001b[0;32m/opt/miniconda3/lib/python3.7/site-packages/pandas/core/indexes/base.py\u001b[0m in \u001b[0;36mdrop\u001b[0;34m(self, labels, errors)\u001b[0m\n\u001b[1;32m   5589\u001b[0m         \u001b[0;32mif\u001b[0m \u001b[0mmask\u001b[0m\u001b[0;34m.\u001b[0m\u001b[0many\u001b[0m\u001b[0;34m(\u001b[0m\u001b[0;34m)\u001b[0m\u001b[0;34m:\u001b[0m\u001b[0;34m\u001b[0m\u001b[0;34m\u001b[0m\u001b[0m\n\u001b[1;32m   5590\u001b[0m             \u001b[0;32mif\u001b[0m \u001b[0merrors\u001b[0m \u001b[0;34m!=\u001b[0m \u001b[0;34m\"ignore\"\u001b[0m\u001b[0;34m:\u001b[0m\u001b[0;34m\u001b[0m\u001b[0;34m\u001b[0m\u001b[0m\n\u001b[0;32m-> 5591\u001b[0;31m                 \u001b[0;32mraise\u001b[0m \u001b[0mKeyError\u001b[0m\u001b[0;34m(\u001b[0m\u001b[0;34mf\"{labels[mask]} not found in axis\"\u001b[0m\u001b[0;34m)\u001b[0m\u001b[0;34m\u001b[0m\u001b[0;34m\u001b[0m\u001b[0m\n\u001b[0m\u001b[1;32m   5592\u001b[0m             \u001b[0mindexer\u001b[0m \u001b[0;34m=\u001b[0m \u001b[0mindexer\u001b[0m\u001b[0;34m[\u001b[0m\u001b[0;34m~\u001b[0m\u001b[0mmask\u001b[0m\u001b[0;34m]\u001b[0m\u001b[0;34m\u001b[0m\u001b[0;34m\u001b[0m\u001b[0m\n\u001b[1;32m   5593\u001b[0m         \u001b[0;32mreturn\u001b[0m \u001b[0mself\u001b[0m\u001b[0;34m.\u001b[0m\u001b[0mdelete\u001b[0m\u001b[0;34m(\u001b[0m\u001b[0mindexer\u001b[0m\u001b[0;34m)\u001b[0m\u001b[0;34m\u001b[0m\u001b[0;34m\u001b[0m\u001b[0m\n",
      "\u001b[0;31mKeyError\u001b[0m: \"['trans_loss'] not found in axis\""
     ]
    }
   ],
   "source": [
    "s49_df = df[df['Sitenum'] == 49]\n",
    "X = s49_df.drop('trans_loss', axis=1, inplace=False)\n",
    "X = X[corr_vars]\n",
    "y = s49_df['trans_loss'].values\n",
    "X"
   ]
  },
  {
   "cell_type": "code",
   "execution_count": null,
   "metadata": {},
   "outputs": [],
   "source": [
    "%%time\n",
    "from mwb_bootstrap import bootstrap_stat\n",
    "from sklearn.ensemble import GradientBoostingClassifier\n",
    "clf = GradientBoostingClassifier(n_estimators=70, criterion=\"friedman_mse\",max_depth=11, min_samples_leaf=50,\n",
    "                                     min_samples_split=900,max_leaf_nodes=None,max_features=12,subsample=0.9,\n",
    "                                     learning_rate=0.1,random_state=7)\n",
    "print(clf.get_params())\n",
    "#stats_df, feats_df, X_train = bootstrap_stat(X, y, clf, nsamples=25, under=True)\n",
    "stats_df, feats_df, X_train = bootstrap_stat(X, y, clf, test_size=0.2, sample_weights=True, nsamples=10, \n",
    "                                             under=False)\n",
    "stats_df.loc['mean'] = stats_df.mean()\n",
    "stats_df.loc['mean',:]"
   ]
  },
  {
   "cell_type": "code",
   "execution_count": null,
   "metadata": {
    "scrolled": true
   },
   "outputs": [],
   "source": [
    "feats_df['mean'] = feats_df.mean(axis=1)\n",
    "feats_df.sort_values(by='mean', inplace=True, ascending=False)\n",
    "feats_df.head(30)"
   ]
  },
  {
   "cell_type": "code",
   "execution_count": null,
   "metadata": {},
   "outputs": [],
   "source": [
    "s44_df = df[df['Sitenum'] == 44]\n",
    "X = s44_df.drop('trans_loss', axis=1, inplace=False)\n",
    "X = X[corr_vars]\n",
    "y = s44_df['trans_loss'].values\n",
    "X"
   ]
  },
  {
   "cell_type": "code",
   "execution_count": null,
   "metadata": {},
   "outputs": [],
   "source": [
    "%%time\n",
    "from mwb_bootstrap import bootstrap_stat\n",
    "from sklearn.ensemble import GradientBoostingClassifier\n",
    "clf = GradientBoostingClassifier(n_estimators=70, criterion=\"friedman_mse\",max_depth=11, min_samples_leaf=50,\n",
    "                                     min_samples_split=900,max_leaf_nodes=None,max_features=12,subsample=0.9,\n",
    "                                     learning_rate=0.1,random_state=7)\n",
    "print(clf.get_params())\n",
    "#stats_df, feats_df, X_train = bootstrap_stat(X, y, clf, nsamples=25, under=True)\n",
    "stats_df, feats_df, X_train = bootstrap_stat(X, y, clf, test_size=0.2, sample_weights=True, nsamples=10, \n",
    "                                             under=False)\n",
    "stats_df.loc['mean'] = stats_df.mean()\n",
    "stats_df.loc['mean',:]"
   ]
  },
  {
   "cell_type": "code",
   "execution_count": null,
   "metadata": {
    "scrolled": true
   },
   "outputs": [],
   "source": [
    "feats_df['mean'] = feats_df.mean(axis=1)\n",
    "feats_df.sort_values(by='mean', inplace=True, ascending=False)\n",
    "feats_df.head(30)"
   ]
  },
  {
   "cell_type": "code",
   "execution_count": null,
   "metadata": {},
   "outputs": [],
   "source": [
    "stats_df"
   ]
  },
  {
   "cell_type": "code",
   "execution_count": null,
   "metadata": {},
   "outputs": [],
   "source": []
  }
 ],
 "metadata": {
  "kernelspec": {
   "display_name": "Python [conda env:root] *",
   "language": "python",
   "name": "conda-root-py"
  },
  "language_info": {
   "codemirror_mode": {
    "name": "ipython",
    "version": 3
   },
   "file_extension": ".py",
   "mimetype": "text/x-python",
   "name": "python",
   "nbconvert_exporter": "python",
   "pygments_lexer": "ipython3",
   "version": "3.7.9"
  }
 },
 "nbformat": 4,
 "nbformat_minor": 4
}
