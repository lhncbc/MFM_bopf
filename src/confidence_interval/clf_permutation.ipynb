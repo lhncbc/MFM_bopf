{
 "cells": [
  {
   "cell_type": "code",
   "execution_count": 1,
   "id": "1ad0a415",
   "metadata": {},
   "outputs": [],
   "source": [
    "import numpy as np\n",
    "import pandas as pd\n",
    "from sklearn.linear_model import LogisticRegression\n",
    "from sklearn.ensemble import RandomForestClassifier, GradientBoostingClassifier\n",
    "from sklearn.metrics import roc_auc_score, auc, matthews_corrcoef"
   ]
  },
  {
   "cell_type": "code",
   "execution_count": 2,
   "id": "11e4f4d5",
   "metadata": {},
   "outputs": [],
   "source": [
    "def permutation_test_between_clfs(y_test, pred_proba_1, pred_proba_2, nsamples=1000):\n",
    "    auc_differences = []\n",
    "    auc1 = roc_auc_score(y_test.ravel(), pred_proba_1.ravel())\n",
    "    auc2 = roc_auc_score(y_test.ravel(), pred_proba_2.ravel())\n",
    "    observed_difference = auc1 - auc2\n",
    "    for _ in range(nsamples):\n",
    "        mask = np.random.randint(2, size=len(pred_proba_1.ravel()))\n",
    "        p1 = np.where(mask, pred_proba_1.ravel(), pred_proba_2.ravel())\n",
    "        p2 = np.where(mask, pred_proba_2.ravel(), pred_proba_1.ravel())\n",
    "        auc1 = roc_auc_score(y_test.ravel(), p1)\n",
    "        auc2 = roc_auc_score(y_test.ravel(), p2)\n",
    "        auc_differences.append(auc1 - auc2)\n",
    "   # return observed_difference, np.mean(auc_differences >= observed_difference)\n",
    "    return observed_difference, np.mean(auc_differences)"
   ]
  },
  {
   "cell_type": "code",
   "execution_count": 3,
   "id": "9a77da72",
   "metadata": {},
   "outputs": [],
   "source": [
    "from imblearn.over_sampling import RandomOverSampler\n",
    "from imblearn.under_sampling import RandomUnderSampler\n",
    "from collections import Counter\n",
    "def sample_data(X, y, samp_type, samp_strat, seed=0):\n",
    "    if samp_type == 'over':\n",
    "        sampler = RandomOverSampler(sampling_strategy=samp_strat, random_state=seed)\n",
    "    elif samp_type == 'under':\n",
    "        sampler = RandomUnderSampler(sampling_strategy=samp_strat, random_state=seed)\n",
    "    else:\n",
    "        print(\"Invalid 'samp_type'\")\n",
    "        \n",
    "    # fit and apply the transform\n",
    "    X_res, y_res = sampler.fit_resample(X, y)\n",
    "    # summarize class distribution\n",
    "    #print(Counter(y_res))\n",
    "    #print(X_res.shape)\n",
    "    \n",
    "    return X_res, y_res"
   ]
  },
  {
   "cell_type": "code",
   "execution_count": 4,
   "id": "c9d8db4b",
   "metadata": {},
   "outputs": [
    {
     "name": "stdout",
     "output_type": "stream",
     "text": [
      "('a', 'b')\n",
      "('a', 'c')\n",
      "('b', 'c')\n"
     ]
    }
   ],
   "source": [
    "algs = []\n",
    "import itertools\n",
    "for item in itertools.combinations(['a','b','c'], 2):\n",
    "    print(item)"
   ]
  },
  {
   "cell_type": "code",
   "execution_count": 5,
   "id": "ccf841c5",
   "metadata": {},
   "outputs": [],
   "source": [
    "from sklearn.model_selection import train_test_split\n",
    "from sklearn.metrics import matthews_corrcoef\n",
    "def run_clf(X, y, clf, under=False, samp_strat=1.0, seed=0):\n",
    "    stats_df = pd.DataFrame()\n",
    "    X_train, X_test, y_train, y_test = train_test_split(X, y, test_size=0.3, stratify=y, random_state=seed)\n",
    "\n",
    "    if under:\n",
    "        # Undersample the training data\n",
    "        #print('Undersampling')\n",
    "        X_res, y_res = sample_data(X_train, y_train, \"under\", samp_strat=samp_strat, seed=seed)\n",
    "    else:\n",
    "        #print('No Undersampling')\n",
    "        X_res, y_res = X, y # Not subsampled - for use with class_weight='balanced'\n",
    "            \n",
    "#        print(f'In kfold_cv: train_y.shape = {train_y.shape}')\n",
    "#        if sample_weights:\n",
    "#            weights = class_weight.compute_sample_weight('balanced', y=y_res)\n",
    "#            print(f'np.unique(weights): {np.unique(weights)}')\n",
    "#            clf.fit(X_res, y_res, sample_weight=weights)\n",
    "#        else:\n",
    "#            clf.fit(X_res, y_res)\n",
    "#            \n",
    "    clf.fit(X_res, y_res)\n",
    "    y_pred = clf.predict(X_test)\n",
    "    probs = clf.predict_proba(X_test)\n",
    "    proba = clf.predict_proba(X_test)[:,1]\n",
    "    prob1 = probs[:,1]\n",
    "    for idx in range(len(proba)):\n",
    "        assert(proba[idx] == prob1[idx])\n",
    "        \n",
    "    mcc = matthews_corrcoef(y_pred=y_pred, y_true=y_test)\n",
    "    print(f'MCC = {mcc}')\n",
    "\n",
    "    return y_test, prob1"
   ]
  },
  {
   "cell_type": "code",
   "execution_count": 6,
   "id": "04ede66d",
   "metadata": {},
   "outputs": [],
   "source": [
    "df = pd.read_csv('../../data/csl/CSL_tl_PI.csv', index_col=0)\n",
    "X = df.drop('trans_loss', axis=1, inplace=False)\n",
    "#X = X[corr_vars]\n",
    "y = df['trans_loss'].values"
   ]
  },
  {
   "cell_type": "code",
   "execution_count": 7,
   "id": "e67f838c",
   "metadata": {},
   "outputs": [
    {
     "name": "stdout",
     "output_type": "stream",
     "text": [
      "{'C': 0.1, 'class_weight': 'balanced', 'dual': False, 'fit_intercept': True, 'intercept_scaling': 1, 'l1_ratio': None, 'max_iter': 100, 'multi_class': 'auto', 'n_jobs': None, 'penalty': 'l2', 'random_state': 7, 'solver': 'liblinear', 'tol': 0.0001, 'verbose': 0, 'warm_start': False}\n",
      "MCC = 0.24344305950994968\n",
      "CPU times: user 3.36 s, sys: 246 ms, total: 3.6 s\n",
      "Wall time: 3.01 s\n"
     ]
    }
   ],
   "source": [
    "%%time\n",
    "clf = LogisticRegression(C=0.1,solver=\"liblinear\",class_weight=\"balanced\",random_state=7)\n",
    "print(clf.get_params())\n",
    "y_test_LR, prob1_LR = run_clf(X, y, clf, under=True, samp_strat=0.5)"
   ]
  },
  {
   "cell_type": "code",
   "execution_count": 8,
   "id": "720cd461",
   "metadata": {},
   "outputs": [
    {
     "data": {
      "text/plain": [
       "66"
      ]
     },
     "execution_count": 8,
     "metadata": {},
     "output_type": "execute_result"
    }
   ],
   "source": [
    "corr_df = pd.read_csv('../../data/csl/CramerTheil/Cramer_PI_Tl_coeff_Union50.csv', index_col=0, header=None, delimiter='\\t')\n",
    "corr_vars = list(corr_df.index.values)\n",
    "len(corr_vars)"
   ]
  },
  {
   "cell_type": "code",
   "execution_count": 9,
   "id": "976447be",
   "metadata": {},
   "outputs": [],
   "source": [
    "df = pd.read_csv('../../data/csl/CSL_tl_PI.csv', index_col=0)\n",
    "X = df.drop('trans_loss', axis=1, inplace=False)\n",
    "X = X[corr_vars]\n",
    "y = df['trans_loss'].values"
   ]
  },
  {
   "cell_type": "code",
   "execution_count": 10,
   "id": "0ab4dc03",
   "metadata": {},
   "outputs": [
    {
     "name": "stdout",
     "output_type": "stream",
     "text": [
      "RandomForestClassifier(class_weight='balanced', max_depth=40,\n",
      "                       max_leaf_nodes=100, min_samples_leaf=16,\n",
      "                       n_estimators=128, random_state=7)\n",
      "MCC = 0.25868352792106786\n",
      "CPU times: user 19.6 s, sys: 49 ms, total: 19.7 s\n",
      "Wall time: 19.7 s\n"
     ]
    }
   ],
   "source": [
    "%%time\n",
    "from sklearn.ensemble import RandomForestClassifier\n",
    "clf = RandomForestClassifier(n_estimators=128, criterion=\"gini\",max_depth=40, min_samples_leaf=16,\n",
    "                                     min_samples_split=2,max_leaf_nodes=100,max_features=\"auto\",\n",
    "                                     class_weight=\"balanced\",random_state=7)\n",
    "print(clf)\n",
    "y_test_RF, prob1_RF = run_clf(X, y, clf, under=False)"
   ]
  },
  {
   "cell_type": "code",
   "execution_count": 11,
   "id": "6d4cc79a",
   "metadata": {},
   "outputs": [
    {
     "name": "stdout",
     "output_type": "stream",
     "text": [
      "{'ccp_alpha': 0.0, 'criterion': 'friedman_mse', 'init': None, 'learning_rate': 0.1, 'loss': 'deviance', 'max_depth': 11, 'max_features': 12, 'max_leaf_nodes': None, 'min_impurity_decrease': 0.0, 'min_impurity_split': None, 'min_samples_leaf': 50, 'min_samples_split': 900, 'min_weight_fraction_leaf': 0.0, 'n_estimators': 70, 'n_iter_no_change': None, 'random_state': 7, 'subsample': 0.9, 'tol': 0.0001, 'validation_fraction': 0.1, 'verbose': 0, 'warm_start': False}\n",
      "MCC = 0.2608890511902654\n",
      "CPU times: user 1.98 s, sys: 2.82 ms, total: 1.99 s\n",
      "Wall time: 1.98 s\n"
     ]
    }
   ],
   "source": [
    "%%time\n",
    "from sklearn.ensemble import GradientBoostingClassifier\n",
    "clf = GradientBoostingClassifier(n_estimators=70, criterion=\"friedman_mse\",max_depth=11, min_samples_leaf=50,\n",
    "                                     min_samples_split=900,max_leaf_nodes=None,max_features=12,subsample=0.9,\n",
    "                                     learning_rate=0.1,random_state=7)\n",
    "print(clf.get_params())\n",
    "y_test_GB, prob1_GB = run_clf(X, y, clf, under=True)"
   ]
  },
  {
   "cell_type": "code",
   "execution_count": 12,
   "id": "ee836553",
   "metadata": {},
   "outputs": [],
   "source": [
    "for idx in range(len(y_test_GB)):\n",
    "    assert(y_test_GB[idx] == y_test_LR[idx])\n",
    "    assert(y_test_GB[idx] == y_test_RF[idx])\n",
    "    assert(y_test_LR[idx] == y_test_RF[idx])"
   ]
  },
  {
   "cell_type": "code",
   "execution_count": 13,
   "id": "0ee80e82",
   "metadata": {},
   "outputs": [
    {
     "name": "stdout",
     "output_type": "stream",
     "text": [
      "CPU times: user 29.2 s, sys: 7.49 ms, total: 29.2 s\n",
      "Wall time: 29.2 s\n"
     ]
    },
    {
     "data": {
      "text/plain": [
       "(-0.005299695569188856, -1.5352893877671692e-05)"
      ]
     },
     "execution_count": 13,
     "metadata": {},
     "output_type": "execute_result"
    }
   ],
   "source": [
    "%%time\n",
    "permutation_test_between_clfs(y_test_LR, prob1_GB, prob1_RF, nsamples=1000)"
   ]
  },
  {
   "cell_type": "code",
   "execution_count": 14,
   "id": "122e5a0e",
   "metadata": {},
   "outputs": [
    {
     "name": "stdout",
     "output_type": "stream",
     "text": [
      "CPU times: user 27.6 s, sys: 2.05 ms, total: 27.6 s\n",
      "Wall time: 27.6 s\n"
     ]
    },
    {
     "data": {
      "text/plain": [
       "(-0.02640234209095549, -7.512043906406596e-05)"
      ]
     },
     "execution_count": 14,
     "metadata": {},
     "output_type": "execute_result"
    }
   ],
   "source": [
    "%%time\n",
    "permutation_test_between_clfs(y_test_LR, prob1_LR, prob1_RF, nsamples=1000)"
   ]
  },
  {
   "cell_type": "code",
   "execution_count": 15,
   "id": "2e2cbc06",
   "metadata": {},
   "outputs": [
    {
     "name": "stdout",
     "output_type": "stream",
     "text": [
      "CPU times: user 27.9 s, sys: 6.19 ms, total: 27.9 s\n",
      "Wall time: 27.9 s\n"
     ]
    },
    {
     "data": {
      "text/plain": [
       "(-0.021102646521766633, -3.2724699970076876e-05)"
      ]
     },
     "execution_count": 15,
     "metadata": {},
     "output_type": "execute_result"
    }
   ],
   "source": [
    "%%time\n",
    "permutation_test_between_clfs(y_test_LR, prob1_LR, prob1_GB, nsamples=1000)"
   ]
  },
  {
   "cell_type": "code",
   "execution_count": null,
   "id": "e0438412",
   "metadata": {},
   "outputs": [],
   "source": []
  }
 ],
 "metadata": {
  "kernelspec": {
   "display_name": "Python [conda env:tf]",
   "language": "python",
   "name": "conda-env-tf-py"
  },
  "language_info": {
   "codemirror_mode": {
    "name": "ipython",
    "version": 3
   },
   "file_extension": ".py",
   "mimetype": "text/x-python",
   "name": "python",
   "nbconvert_exporter": "python",
   "pygments_lexer": "ipython3",
   "version": "3.9.4"
  }
 },
 "nbformat": 4,
 "nbformat_minor": 5
}
