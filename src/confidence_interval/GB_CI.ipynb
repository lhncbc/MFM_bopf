{
 "cells": [
  {
   "cell_type": "code",
   "execution_count": 1,
   "metadata": {},
   "outputs": [],
   "source": [
    "import numpy as np\n",
    "import pandas as pd\n",
    "from sklearn.linear_model import LogisticRegression\n",
    "from sklearn.model_selection import StratifiedKFold\n",
    "from sklearn.metrics import accuracy_score, balanced_accuracy_score, confusion_matrix, recall_score, \\\n",
    "                            classification_report, roc_auc_score, precision_score, \\\n",
    "                            f1_score, matthews_corrcoef, average_precision_score, \\\n",
    "                            precision_recall_curve, auc, roc_curve\n",
    "from collections import Counter\n",
    "%config Completer.use_jedi = False"
   ]
  },
  {
   "cell_type": "code",
   "execution_count": 2,
   "metadata": {},
   "outputs": [],
   "source": [
    "def calc_stats(y_test, y_pred, X_test, clf):\n",
    "    probs = clf.predict_proba(X_test)\n",
    "    prob1 = probs[:, 1]\n",
    "    stats_s = pd.Series(dtype='float')\n",
    "    stats_s['recall'] = recall_score(y_test, y_pred)\n",
    "    stats_s['prec'] = precision_score(y_test, y_pred)\n",
    "    stats_s['MCC'] = matthews_corrcoef(y_test, y_pred)\n",
    "    precision, recall, _ = precision_recall_curve(y_test, prob1, pos_label=1)\n",
    "    stats_s['PR_AUC'] = auc(recall, precision)\n",
    "    stats_s['avg_prec'] = average_precision_score(y_test, prob1)\n",
    "    stats_s['roc_auc'] = roc_auc_score(y_test, prob1)\n",
    "    \n",
    "    return stats_s\n"
   ]
  },
  {
   "cell_type": "code",
   "execution_count": 3,
   "metadata": {},
   "outputs": [],
   "source": [
    "from imblearn.over_sampling import RandomOverSampler\n",
    "from imblearn.under_sampling import RandomUnderSampler\n",
    "from collections import Counter\n",
    "def sample_data(X, y, samp_type, samp_strat, seed=0):\n",
    "    if samp_type == 'over':\n",
    "        sampler = RandomOverSampler(sampling_strategy=samp_strat, random_state=seed)\n",
    "    elif samp_type == 'under':\n",
    "        sampler = RandomUnderSampler(sampling_strategy=samp_strat, random_state=seed)\n",
    "    else:\n",
    "        print(\"Invalid 'samp_type'\")\n",
    "        \n",
    "    # fit and apply the transform\n",
    "    X_res, y_res = sampler.fit_resample(X, y)\n",
    "    # summarize class distribution\n",
    "    #print(Counter(y_res))\n",
    "    #print(X_res.shape)\n",
    "    \n",
    "    return X_res, y_res"
   ]
  },
  {
   "cell_type": "markdown",
   "metadata": {},
   "source": [
    "# Bootstrapped  random statistics runs"
   ]
  },
  {
   "cell_type": "code",
   "execution_count": 4,
   "metadata": {},
   "outputs": [],
   "source": [
    "from sklearn.utils import class_weight\n",
    "from sklearn.model_selection import train_test_split\n",
    "def bootstrap_stat(X, y, clf, nsamples=100, under=False, samp_strat=1.0):\n",
    "    stats_df = pd.DataFrame()\n",
    "    for seed in range(nsamples):\n",
    "        X_train, X_test, y_train, y_test = train_test_split(X, y, test_size=0.3, stratify=y, random_state=seed)\n",
    "        #print(f'In bstrap(): y_train.shape = {y_train.shape}; X_train.shape = {X_train.shape}')\n",
    "        #print(f'In bstrap(): np.bincount(y_train) = {np.bincount(y_train)}')\n",
    "\n",
    "        if under:\n",
    "            # Undersample the training data\n",
    "            #print('Undersampling')\n",
    "            X_res, y_res = sample_data(X_train, y_train, \"under\", samp_strat=samp_strat, seed=seed)\n",
    "        else:\n",
    "            #print('No Undersampling')\n",
    "            X_res, y_res = X, y # Not subsampled - for use with class_weight='balanced'\n",
    "            \n",
    "#        print(f'In kfold_cv: train_y.shape = {train_y.shape}')\n",
    "#        if sample_weights:\n",
    "#            weights = class_weight.compute_sample_weight('balanced', y=y_res)\n",
    "#            print(f'np.unique(weights): {np.unique(weights)}')\n",
    "#            clf.fit(X_res, y_res, sample_weight=weights)\n",
    "#        else:\n",
    "#            clf.fit(X_res, y_res)\n",
    "#            \n",
    "        clf.fit(X_res, y_res)\n",
    "        y_pred = clf.predict(X_test)\n",
    "\n",
    "        stats_s = calc_stats(y_test, y_pred, X_test, clf)\n",
    "        if stats_df.empty:\n",
    "            stats_df = pd.DataFrame(stats_s)\n",
    "            stats_df = stats_df.T\n",
    "        else:\n",
    "            stats_df = stats_df.append(stats_s, ignore_index=True)\n",
    "\n",
    "    return stats_df"
   ]
  },
  {
   "cell_type": "code",
   "execution_count": 5,
   "metadata": {},
   "outputs": [
    {
     "data": {
      "text/plain": [
       "66"
      ]
     },
     "execution_count": 5,
     "metadata": {},
     "output_type": "execute_result"
    }
   ],
   "source": [
    "corr_df = pd.read_csv('../../data/csl/CramerTheil/Cramer_PI_Tl_coeff_Union50.csv', index_col=0, header=None, delimiter='\\t')\n",
    "corr_vars = list(corr_df.index.values)\n",
    "len(corr_vars)"
   ]
  },
  {
   "cell_type": "code",
   "execution_count": 6,
   "metadata": {},
   "outputs": [],
   "source": [
    "df = pd.read_csv('../../data/csl/CSL_tl_PI.csv', index_col=0)\n",
    "X = df.drop('trans_loss', axis=1, inplace=False)\n",
    "X = X[corr_vars]\n",
    "y = df['trans_loss'].values"
   ]
  },
  {
   "cell_type": "code",
   "execution_count": 7,
   "metadata": {},
   "outputs": [
    {
     "name": "stdout",
     "output_type": "stream",
     "text": [
      "{'ccp_alpha': 0.0, 'criterion': 'friedman_mse', 'init': None, 'learning_rate': 0.1, 'loss': 'deviance', 'max_depth': 11, 'max_features': 12, 'max_leaf_nodes': None, 'min_impurity_decrease': 0.0, 'min_impurity_split': None, 'min_samples_leaf': 50, 'min_samples_split': 900, 'min_weight_fraction_leaf': 0.0, 'n_estimators': 70, 'n_iter_no_change': None, 'presort': 'deprecated', 'random_state': 7, 'subsample': 0.9, 'tol': 0.0001, 'validation_fraction': 0.1, 'verbose': 0, 'warm_start': False}\n",
      "CPU times: user 3min 20s, sys: 5.2 s, total: 3min 25s\n",
      "Wall time: 3min 25s\n"
     ]
    },
    {
     "data": {
      "text/html": [
       "<div>\n",
       "<style scoped>\n",
       "    .dataframe tbody tr th:only-of-type {\n",
       "        vertical-align: middle;\n",
       "    }\n",
       "\n",
       "    .dataframe tbody tr th {\n",
       "        vertical-align: top;\n",
       "    }\n",
       "\n",
       "    .dataframe thead th {\n",
       "        text-align: right;\n",
       "    }\n",
       "</style>\n",
       "<table border=\"1\" class=\"dataframe\">\n",
       "  <thead>\n",
       "    <tr style=\"text-align: right;\">\n",
       "      <th></th>\n",
       "      <th>recall</th>\n",
       "      <th>prec</th>\n",
       "      <th>MCC</th>\n",
       "      <th>PR_AUC</th>\n",
       "      <th>avg_prec</th>\n",
       "      <th>roc_auc</th>\n",
       "    </tr>\n",
       "  </thead>\n",
       "  <tbody>\n",
       "    <tr>\n",
       "      <th>0</th>\n",
       "      <td>0.877538</td>\n",
       "      <td>0.135311</td>\n",
       "      <td>0.260889</td>\n",
       "      <td>0.209422</td>\n",
       "      <td>0.209679</td>\n",
       "      <td>0.835075</td>\n",
       "    </tr>\n",
       "    <tr>\n",
       "      <th>1</th>\n",
       "      <td>0.878827</td>\n",
       "      <td>0.134117</td>\n",
       "      <td>0.259066</td>\n",
       "      <td>0.211624</td>\n",
       "      <td>0.211989</td>\n",
       "      <td>0.832683</td>\n",
       "    </tr>\n",
       "    <tr>\n",
       "      <th>2</th>\n",
       "      <td>0.892684</td>\n",
       "      <td>0.136138</td>\n",
       "      <td>0.265895</td>\n",
       "      <td>0.218659</td>\n",
       "      <td>0.218952</td>\n",
       "      <td>0.838557</td>\n",
       "    </tr>\n",
       "    <tr>\n",
       "      <th>3</th>\n",
       "      <td>0.883661</td>\n",
       "      <td>0.135743</td>\n",
       "      <td>0.263081</td>\n",
       "      <td>0.197194</td>\n",
       "      <td>0.197513</td>\n",
       "      <td>0.830856</td>\n",
       "    </tr>\n",
       "    <tr>\n",
       "      <th>4</th>\n",
       "      <td>0.876893</td>\n",
       "      <td>0.134643</td>\n",
       "      <td>0.259554</td>\n",
       "      <td>0.205716</td>\n",
       "      <td>0.206028</td>\n",
       "      <td>0.831923</td>\n",
       "    </tr>\n",
       "    <tr>\n",
       "      <th>...</th>\n",
       "      <td>...</td>\n",
       "      <td>...</td>\n",
       "      <td>...</td>\n",
       "      <td>...</td>\n",
       "      <td>...</td>\n",
       "      <td>...</td>\n",
       "    </tr>\n",
       "    <tr>\n",
       "      <th>96</th>\n",
       "      <td>0.868514</td>\n",
       "      <td>0.134106</td>\n",
       "      <td>0.256657</td>\n",
       "      <td>0.208588</td>\n",
       "      <td>0.208958</td>\n",
       "      <td>0.830800</td>\n",
       "    </tr>\n",
       "    <tr>\n",
       "      <th>97</th>\n",
       "      <td>0.887850</td>\n",
       "      <td>0.136231</td>\n",
       "      <td>0.264925</td>\n",
       "      <td>0.207154</td>\n",
       "      <td>0.207383</td>\n",
       "      <td>0.834856</td>\n",
       "    </tr>\n",
       "    <tr>\n",
       "      <th>98</th>\n",
       "      <td>0.873348</td>\n",
       "      <td>0.134012</td>\n",
       "      <td>0.257609</td>\n",
       "      <td>0.211869</td>\n",
       "      <td>0.212237</td>\n",
       "      <td>0.832695</td>\n",
       "    </tr>\n",
       "    <tr>\n",
       "      <th>99</th>\n",
       "      <td>0.883983</td>\n",
       "      <td>0.135130</td>\n",
       "      <td>0.262070</td>\n",
       "      <td>0.210727</td>\n",
       "      <td>0.211007</td>\n",
       "      <td>0.833594</td>\n",
       "    </tr>\n",
       "    <tr>\n",
       "      <th>mean</th>\n",
       "      <td>0.879149</td>\n",
       "      <td>0.134749</td>\n",
       "      <td>0.260262</td>\n",
       "      <td>0.210099</td>\n",
       "      <td>0.210383</td>\n",
       "      <td>0.833064</td>\n",
       "    </tr>\n",
       "  </tbody>\n",
       "</table>\n",
       "<p>101 rows × 6 columns</p>\n",
       "</div>"
      ],
      "text/plain": [
       "        recall      prec       MCC    PR_AUC  avg_prec   roc_auc\n",
       "0     0.877538  0.135311  0.260889  0.209422  0.209679  0.835075\n",
       "1     0.878827  0.134117  0.259066  0.211624  0.211989  0.832683\n",
       "2     0.892684  0.136138  0.265895  0.218659  0.218952  0.838557\n",
       "3     0.883661  0.135743  0.263081  0.197194  0.197513  0.830856\n",
       "4     0.876893  0.134643  0.259554  0.205716  0.206028  0.831923\n",
       "...        ...       ...       ...       ...       ...       ...\n",
       "96    0.868514  0.134106  0.256657  0.208588  0.208958  0.830800\n",
       "97    0.887850  0.136231  0.264925  0.207154  0.207383  0.834856\n",
       "98    0.873348  0.134012  0.257609  0.211869  0.212237  0.832695\n",
       "99    0.883983  0.135130  0.262070  0.210727  0.211007  0.833594\n",
       "mean  0.879149  0.134749  0.260262  0.210099  0.210383  0.833064\n",
       "\n",
       "[101 rows x 6 columns]"
      ]
     },
     "execution_count": 7,
     "metadata": {},
     "output_type": "execute_result"
    }
   ],
   "source": [
    "%%time\n",
    "from sklearn.ensemble import GradientBoostingClassifier\n",
    "clf = GradientBoostingClassifier(n_estimators=70, criterion=\"friedman_mse\",max_depth=11, min_samples_leaf=50,\n",
    "                                     min_samples_split=900,max_leaf_nodes=None,max_features=12,subsample=0.9,\n",
    "                                     learning_rate=0.1,random_state=7)\n",
    "print(clf.get_params())\n",
    "stats_df = bootstrap_stat(X, y, clf, nsamples=100, under=True)\n",
    "stats_df.loc['mean'] = stats_df.mean()\n",
    "#stats_df.loc['mean',:]\n",
    "stats_df"
   ]
  },
  {
   "cell_type": "code",
   "execution_count": 8,
   "metadata": {},
   "outputs": [
    {
     "name": "stdout",
     "output_type": "stream",
     "text": [
      "Recall:    mean = 0.8791; 95% CI = [0.865  0.8901]\n",
      "Precision: mean = 0.1347; 95% CI = [0.1322 0.1367]\n",
      "MCC:       mean = 0.2603; 95% CI = [0.2547 0.2649]\n",
      "PR_AUC:    mean = 0.2101; 95% CI = [0.2017 0.2185]\n",
      "ROC_AUC:   mean = 0.8331; 95% CI = [0.8289 0.838 ]\n"
     ]
    }
   ],
   "source": [
    "print(f'Recall:    mean = {stats_df[\"recall\"][\"mean\"]:.4f}; 95% CI = {np.around(np.percentile(stats_df[\"recall\"], (2.5, 97.5)), 4)}')\n",
    "print(f'Precision: mean = {stats_df[\"prec\"][\"mean\"]:.4f}; 95% CI = {np.around(np.percentile(stats_df[\"prec\"], (2.5, 97.5)), 4)}')\n",
    "print(f'MCC:       mean = {stats_df[\"MCC\"][\"mean\"]:.4f}; 95% CI = {np.around(np.percentile(stats_df[\"MCC\"], (2.5, 97.5)), 4)}')\n",
    "print(f'PR_AUC:    mean = {stats_df[\"PR_AUC\"][\"mean\"]:.4f}; 95% CI = {np.around(np.percentile(stats_df[\"PR_AUC\"], (2.5, 97.5)), 4)}')\n",
    "print(f'ROC_AUC:   mean = {stats_df[\"roc_auc\"][\"mean\"]:.4f}; 95% CI = {np.around(np.percentile(stats_df[\"roc_auc\"], (2.5, 97.5)), 4)}')"
   ]
  },
  {
   "cell_type": "code",
   "execution_count": 9,
   "metadata": {},
   "outputs": [
    {
     "name": "stdout",
     "output_type": "stream",
     "text": [
      "{'ccp_alpha': 0.0, 'criterion': 'friedman_mse', 'init': None, 'learning_rate': 0.1, 'loss': 'deviance', 'max_depth': 11, 'max_features': 12, 'max_leaf_nodes': None, 'min_impurity_decrease': 0.0, 'min_impurity_split': None, 'min_samples_leaf': 50, 'min_samples_split': 900, 'min_weight_fraction_leaf': 0.0, 'n_estimators': 70, 'n_iter_no_change': None, 'presort': 'deprecated', 'random_state': 7, 'subsample': 0.9, 'tol': 0.0001, 'validation_fraction': 0.1, 'verbose': 0, 'warm_start': False}\n",
      "CPU times: user 32min 21s, sys: 33.1 s, total: 32min 54s\n",
      "Wall time: 32min 53s\n"
     ]
    },
    {
     "data": {
      "text/html": [
       "<div>\n",
       "<style scoped>\n",
       "    .dataframe tbody tr th:only-of-type {\n",
       "        vertical-align: middle;\n",
       "    }\n",
       "\n",
       "    .dataframe tbody tr th {\n",
       "        vertical-align: top;\n",
       "    }\n",
       "\n",
       "    .dataframe thead th {\n",
       "        text-align: right;\n",
       "    }\n",
       "</style>\n",
       "<table border=\"1\" class=\"dataframe\">\n",
       "  <thead>\n",
       "    <tr style=\"text-align: right;\">\n",
       "      <th></th>\n",
       "      <th>recall</th>\n",
       "      <th>prec</th>\n",
       "      <th>MCC</th>\n",
       "      <th>PR_AUC</th>\n",
       "      <th>avg_prec</th>\n",
       "      <th>roc_auc</th>\n",
       "    </tr>\n",
       "  </thead>\n",
       "  <tbody>\n",
       "    <tr>\n",
       "      <th>0</th>\n",
       "      <td>0.877538</td>\n",
       "      <td>0.135311</td>\n",
       "      <td>0.260889</td>\n",
       "      <td>0.209422</td>\n",
       "      <td>0.209679</td>\n",
       "      <td>0.835075</td>\n",
       "    </tr>\n",
       "    <tr>\n",
       "      <th>1</th>\n",
       "      <td>0.878827</td>\n",
       "      <td>0.134117</td>\n",
       "      <td>0.259066</td>\n",
       "      <td>0.211624</td>\n",
       "      <td>0.211989</td>\n",
       "      <td>0.832683</td>\n",
       "    </tr>\n",
       "    <tr>\n",
       "      <th>2</th>\n",
       "      <td>0.892684</td>\n",
       "      <td>0.136138</td>\n",
       "      <td>0.265895</td>\n",
       "      <td>0.218659</td>\n",
       "      <td>0.218952</td>\n",
       "      <td>0.838557</td>\n",
       "    </tr>\n",
       "    <tr>\n",
       "      <th>3</th>\n",
       "      <td>0.883661</td>\n",
       "      <td>0.135743</td>\n",
       "      <td>0.263081</td>\n",
       "      <td>0.197194</td>\n",
       "      <td>0.197513</td>\n",
       "      <td>0.830856</td>\n",
       "    </tr>\n",
       "    <tr>\n",
       "      <th>4</th>\n",
       "      <td>0.876893</td>\n",
       "      <td>0.134643</td>\n",
       "      <td>0.259554</td>\n",
       "      <td>0.205716</td>\n",
       "      <td>0.206028</td>\n",
       "      <td>0.831923</td>\n",
       "    </tr>\n",
       "    <tr>\n",
       "      <th>...</th>\n",
       "      <td>...</td>\n",
       "      <td>...</td>\n",
       "      <td>...</td>\n",
       "      <td>...</td>\n",
       "      <td>...</td>\n",
       "      <td>...</td>\n",
       "    </tr>\n",
       "    <tr>\n",
       "      <th>996</th>\n",
       "      <td>0.884950</td>\n",
       "      <td>0.134292</td>\n",
       "      <td>0.260803</td>\n",
       "      <td>0.215623</td>\n",
       "      <td>0.215885</td>\n",
       "      <td>0.834144</td>\n",
       "    </tr>\n",
       "    <tr>\n",
       "      <th>997</th>\n",
       "      <td>0.879149</td>\n",
       "      <td>0.131877</td>\n",
       "      <td>0.255111</td>\n",
       "      <td>0.205804</td>\n",
       "      <td>0.206022</td>\n",
       "      <td>0.830366</td>\n",
       "    </tr>\n",
       "    <tr>\n",
       "      <th>998</th>\n",
       "      <td>0.877216</td>\n",
       "      <td>0.133157</td>\n",
       "      <td>0.256974</td>\n",
       "      <td>0.215063</td>\n",
       "      <td>0.215297</td>\n",
       "      <td>0.831413</td>\n",
       "    </tr>\n",
       "    <tr>\n",
       "      <th>999</th>\n",
       "      <td>0.881727</td>\n",
       "      <td>0.135479</td>\n",
       "      <td>0.262163</td>\n",
       "      <td>0.219947</td>\n",
       "      <td>0.220211</td>\n",
       "      <td>0.835798</td>\n",
       "    </tr>\n",
       "    <tr>\n",
       "      <th>mean</th>\n",
       "      <td>0.878627</td>\n",
       "      <td>0.134629</td>\n",
       "      <td>0.259928</td>\n",
       "      <td>0.210339</td>\n",
       "      <td>0.210621</td>\n",
       "      <td>0.832752</td>\n",
       "    </tr>\n",
       "  </tbody>\n",
       "</table>\n",
       "<p>1001 rows × 6 columns</p>\n",
       "</div>"
      ],
      "text/plain": [
       "        recall      prec       MCC    PR_AUC  avg_prec   roc_auc\n",
       "0     0.877538  0.135311  0.260889  0.209422  0.209679  0.835075\n",
       "1     0.878827  0.134117  0.259066  0.211624  0.211989  0.832683\n",
       "2     0.892684  0.136138  0.265895  0.218659  0.218952  0.838557\n",
       "3     0.883661  0.135743  0.263081  0.197194  0.197513  0.830856\n",
       "4     0.876893  0.134643  0.259554  0.205716  0.206028  0.831923\n",
       "...        ...       ...       ...       ...       ...       ...\n",
       "996   0.884950  0.134292  0.260803  0.215623  0.215885  0.834144\n",
       "997   0.879149  0.131877  0.255111  0.205804  0.206022  0.830366\n",
       "998   0.877216  0.133157  0.256974  0.215063  0.215297  0.831413\n",
       "999   0.881727  0.135479  0.262163  0.219947  0.220211  0.835798\n",
       "mean  0.878627  0.134629  0.259928  0.210339  0.210621  0.832752\n",
       "\n",
       "[1001 rows x 6 columns]"
      ]
     },
     "execution_count": 9,
     "metadata": {},
     "output_type": "execute_result"
    }
   ],
   "source": [
    "%%time\n",
    "from sklearn.ensemble import GradientBoostingClassifier\n",
    "clf = GradientBoostingClassifier(n_estimators=70, criterion=\"friedman_mse\",max_depth=11, min_samples_leaf=50,\n",
    "                                     min_samples_split=900,max_leaf_nodes=None,max_features=12,subsample=0.9,\n",
    "                                     learning_rate=0.1,random_state=7)\n",
    "print(clf.get_params())\n",
    "stats_df = bootstrap_stat(X, y, clf, nsamples=1000, under=True)\n",
    "stats_df.loc['mean'] = stats_df.mean()\n",
    "#stats_df.loc['mean',:]\n",
    "stats_df"
   ]
  },
  {
   "cell_type": "code",
   "execution_count": 10,
   "metadata": {},
   "outputs": [
    {
     "data": {
      "text/plain": [
       "0.8327524415060947"
      ]
     },
     "execution_count": 10,
     "metadata": {},
     "output_type": "execute_result"
    }
   ],
   "source": [
    "type(stats_df)\n",
    "stats_df.loc['mean','roc_auc']"
   ]
  },
  {
   "cell_type": "code",
   "execution_count": 11,
   "metadata": {
    "scrolled": true
   },
   "outputs": [
    {
     "name": "stdout",
     "output_type": "stream",
     "text": [
      "Recall:    mean = 0.8786; 95% CI = [0.8659 0.8911]\n",
      "Precision: mean = 0.1346; 95% CI = [0.1323 0.1366]\n",
      "MCC:       mean = 0.2599; 95% CI = [0.2545 0.2648]\n",
      "PR_AUC:    mean = 0.2103; 95% CI = [0.2012 0.2197]\n",
      "ROC_AUC:   mean = 0.8328; 95% CI = [0.828  0.8378]\n"
     ]
    }
   ],
   "source": [
    "print(f'Recall:    mean = {stats_df[\"recall\"][\"mean\"]:.4f}; 95% CI = {np.around(np.percentile(stats_df[\"recall\"], (2.5, 97.5)), 4)}')\n",
    "print(f'Precision: mean = {stats_df[\"prec\"][\"mean\"]:.4f}; 95% CI = {np.around(np.percentile(stats_df[\"prec\"], (2.5, 97.5)), 4)}')\n",
    "print(f'MCC:       mean = {stats_df[\"MCC\"][\"mean\"]:.4f}; 95% CI = {np.around(np.percentile(stats_df[\"MCC\"], (2.5, 97.5)), 4)}')\n",
    "print(f'PR_AUC:    mean = {stats_df[\"PR_AUC\"][\"mean\"]:.4f}; 95% CI = {np.around(np.percentile(stats_df[\"PR_AUC\"], (2.5, 97.5)), 4)}')\n",
    "print(f'ROC_AUC:   mean = {stats_df[\"roc_auc\"][\"mean\"]:.4f}; 95% CI = {np.around(np.percentile(stats_df[\"roc_auc\"], (2.5, 97.5)), 4)}')"
   ]
  },
  {
   "cell_type": "code",
   "execution_count": 12,
   "metadata": {},
   "outputs": [
    {
     "name": "stdout",
     "output_type": "stream",
     "text": [
      "[0.86593619 0.89107316]\n",
      "[0.13232569 0.13655021]\n",
      "[0.25450128 0.2647815 ]\n",
      "[0.20119317 0.21966511]\n",
      "[0.2014788  0.21993051]\n",
      "[0.8279541  0.83775522]\n"
     ]
    }
   ],
   "source": [
    "print(np.percentile(stats_df['recall'], (2.5, 97.5)))\n",
    "print(np.percentile(stats_df['prec'], (2.5, 97.5)))\n",
    "print(np.percentile(stats_df['MCC'], (2.5, 97.5)))\n",
    "print(np.percentile(stats_df['PR_AUC'], (2.5, 97.5)))\n",
    "print(np.percentile(stats_df['avg_prec'], (2.5, 97.5)))\n",
    "print(np.percentile(stats_df['roc_auc'], (2.5, 97.5)))"
   ]
  },
  {
   "cell_type": "markdown",
   "metadata": {},
   "source": [
    "# RF w/out Freq; max_features=auto (Union50, samp_strat=0.7)\n",
    "### This mimics best original performer"
   ]
  },
  {
   "cell_type": "code",
   "execution_count": 13,
   "metadata": {
    "scrolled": false
   },
   "outputs": [
    {
     "name": "stdout",
     "output_type": "stream",
     "text": [
      "RandomForestClassifier(max_depth=40, max_leaf_nodes=100, min_samples_leaf=16,\n",
      "                       n_estimators=128)\n",
      "CPU times: user 5min 29s, sys: 4.83 s, total: 5min 33s\n",
      "Wall time: 5min 33s\n"
     ]
    },
    {
     "data": {
      "text/html": [
       "<div>\n",
       "<style scoped>\n",
       "    .dataframe tbody tr th:only-of-type {\n",
       "        vertical-align: middle;\n",
       "    }\n",
       "\n",
       "    .dataframe tbody tr th {\n",
       "        vertical-align: top;\n",
       "    }\n",
       "\n",
       "    .dataframe thead th {\n",
       "        text-align: right;\n",
       "    }\n",
       "</style>\n",
       "<table border=\"1\" class=\"dataframe\">\n",
       "  <thead>\n",
       "    <tr style=\"text-align: right;\">\n",
       "      <th></th>\n",
       "      <th>recall</th>\n",
       "      <th>prec</th>\n",
       "      <th>MCC</th>\n",
       "      <th>PR_AUC</th>\n",
       "      <th>avg_prec</th>\n",
       "      <th>roc_auc</th>\n",
       "    </tr>\n",
       "  </thead>\n",
       "  <tbody>\n",
       "    <tr>\n",
       "      <th>0</th>\n",
       "      <td>0.862069</td>\n",
       "      <td>0.137894</td>\n",
       "      <td>0.261805</td>\n",
       "      <td>0.209968</td>\n",
       "      <td>0.210329</td>\n",
       "      <td>0.831599</td>\n",
       "    </tr>\n",
       "    <tr>\n",
       "      <th>1</th>\n",
       "      <td>0.849178</td>\n",
       "      <td>0.138335</td>\n",
       "      <td>0.259565</td>\n",
       "      <td>0.205813</td>\n",
       "      <td>0.206024</td>\n",
       "      <td>0.827801</td>\n",
       "    </tr>\n",
       "    <tr>\n",
       "      <th>2</th>\n",
       "      <td>0.864647</td>\n",
       "      <td>0.139522</td>\n",
       "      <td>0.265212</td>\n",
       "      <td>0.213718</td>\n",
       "      <td>0.214087</td>\n",
       "      <td>0.831747</td>\n",
       "    </tr>\n",
       "    <tr>\n",
       "      <th>3</th>\n",
       "      <td>0.862069</td>\n",
       "      <td>0.139570</td>\n",
       "      <td>0.264691</td>\n",
       "      <td>0.193705</td>\n",
       "      <td>0.193973</td>\n",
       "      <td>0.828223</td>\n",
       "    </tr>\n",
       "    <tr>\n",
       "      <th>4</th>\n",
       "      <td>0.857557</td>\n",
       "      <td>0.137783</td>\n",
       "      <td>0.260562</td>\n",
       "      <td>0.197350</td>\n",
       "      <td>0.197557</td>\n",
       "      <td>0.826541</td>\n",
       "    </tr>\n",
       "    <tr>\n",
       "      <th>...</th>\n",
       "      <td>...</td>\n",
       "      <td>...</td>\n",
       "      <td>...</td>\n",
       "      <td>...</td>\n",
       "      <td>...</td>\n",
       "      <td>...</td>\n",
       "    </tr>\n",
       "    <tr>\n",
       "      <th>96</th>\n",
       "      <td>0.847567</td>\n",
       "      <td>0.138268</td>\n",
       "      <td>0.259076</td>\n",
       "      <td>0.204451</td>\n",
       "      <td>0.204649</td>\n",
       "      <td>0.826667</td>\n",
       "    </tr>\n",
       "    <tr>\n",
       "      <th>97</th>\n",
       "      <td>0.870448</td>\n",
       "      <td>0.139883</td>\n",
       "      <td>0.267193</td>\n",
       "      <td>0.201113</td>\n",
       "      <td>0.201312</td>\n",
       "      <td>0.831498</td>\n",
       "    </tr>\n",
       "    <tr>\n",
       "      <th>98</th>\n",
       "      <td>0.851434</td>\n",
       "      <td>0.138499</td>\n",
       "      <td>0.260371</td>\n",
       "      <td>0.199620</td>\n",
       "      <td>0.199903</td>\n",
       "      <td>0.828942</td>\n",
       "    </tr>\n",
       "    <tr>\n",
       "      <th>99</th>\n",
       "      <td>0.862069</td>\n",
       "      <td>0.138236</td>\n",
       "      <td>0.262396</td>\n",
       "      <td>0.199917</td>\n",
       "      <td>0.200237</td>\n",
       "      <td>0.829283</td>\n",
       "    </tr>\n",
       "    <tr>\n",
       "      <th>mean</th>\n",
       "      <td>0.857644</td>\n",
       "      <td>0.138097</td>\n",
       "      <td>0.261123</td>\n",
       "      <td>0.204385</td>\n",
       "      <td>0.204646</td>\n",
       "      <td>0.829726</td>\n",
       "    </tr>\n",
       "  </tbody>\n",
       "</table>\n",
       "<p>101 rows × 6 columns</p>\n",
       "</div>"
      ],
      "text/plain": [
       "        recall      prec       MCC    PR_AUC  avg_prec   roc_auc\n",
       "0     0.862069  0.137894  0.261805  0.209968  0.210329  0.831599\n",
       "1     0.849178  0.138335  0.259565  0.205813  0.206024  0.827801\n",
       "2     0.864647  0.139522  0.265212  0.213718  0.214087  0.831747\n",
       "3     0.862069  0.139570  0.264691  0.193705  0.193973  0.828223\n",
       "4     0.857557  0.137783  0.260562  0.197350  0.197557  0.826541\n",
       "...        ...       ...       ...       ...       ...       ...\n",
       "96    0.847567  0.138268  0.259076  0.204451  0.204649  0.826667\n",
       "97    0.870448  0.139883  0.267193  0.201113  0.201312  0.831498\n",
       "98    0.851434  0.138499  0.260371  0.199620  0.199903  0.828942\n",
       "99    0.862069  0.138236  0.262396  0.199917  0.200237  0.829283\n",
       "mean  0.857644  0.138097  0.261123  0.204385  0.204646  0.829726\n",
       "\n",
       "[101 rows x 6 columns]"
      ]
     },
     "execution_count": 13,
     "metadata": {},
     "output_type": "execute_result"
    }
   ],
   "source": [
    "%%time\n",
    "## Random Undersampling\n",
    "from sklearn.ensemble import RandomForestClassifier\n",
    "clf = RandomForestClassifier(n_estimators=128, criterion=\"gini\",max_depth=40, min_samples_leaf=16,\n",
    "                                     min_samples_split=2,max_leaf_nodes=100,max_features=\"auto\",\n",
    "                                     class_weight=None)\n",
    "print(clf)\n",
    "stats_df = bootstrap_stat(X, y, clf, nsamples=100, under=True, samp_strat=0.7)\n",
    "stats_df.loc['mean'] = stats_df.mean()\n",
    "#stats_df.loc['mean',:]\n",
    "stats_df"
   ]
  },
  {
   "cell_type": "code",
   "execution_count": 14,
   "metadata": {},
   "outputs": [
    {
     "name": "stdout",
     "output_type": "stream",
     "text": [
      "[0.84466645 0.87044795]\n",
      "[0.13589273 0.13973803]\n",
      "[0.25553646 0.26556014]\n",
      "[0.19435715 0.21349837]\n",
      "[0.19462125 0.21377546]\n",
      "[0.82515394 0.8342248 ]\n"
     ]
    }
   ],
   "source": [
    "print(np.percentile(stats_df['recall'], (2.5, 97.5)))\n",
    "print(np.percentile(stats_df['prec'], (2.5, 97.5)))\n",
    "print(np.percentile(stats_df['MCC'], (2.5, 97.5)))\n",
    "print(np.percentile(stats_df['PR_AUC'], (2.5, 97.5)))\n",
    "print(np.percentile(stats_df['avg_prec'], (2.5, 97.5)))\n",
    "print(np.percentile(stats_df['roc_auc'], (2.5, 97.5)))"
   ]
  },
  {
   "cell_type": "code",
   "execution_count": 15,
   "metadata": {},
   "outputs": [
    {
     "name": "stdout",
     "output_type": "stream",
     "text": [
      "PR_AUC CI: = [0.19435715 0.21349837]\n"
     ]
    },
    {
     "ename": "KeyError",
     "evalue": "'ROC'",
     "output_type": "error",
     "traceback": [
      "\u001b[0;31m---------------------------------------------------------------------------\u001b[0m",
      "\u001b[0;31mKeyError\u001b[0m                                  Traceback (most recent call last)",
      "\u001b[0;32m/opt/miniconda3/lib/python3.7/site-packages/pandas/core/indexes/base.py\u001b[0m in \u001b[0;36mget_loc\u001b[0;34m(self, key, method, tolerance)\u001b[0m\n\u001b[1;32m   3079\u001b[0m             \u001b[0;32mtry\u001b[0m\u001b[0;34m:\u001b[0m\u001b[0;34m\u001b[0m\u001b[0;34m\u001b[0m\u001b[0m\n\u001b[0;32m-> 3080\u001b[0;31m                 \u001b[0;32mreturn\u001b[0m \u001b[0mself\u001b[0m\u001b[0;34m.\u001b[0m\u001b[0m_engine\u001b[0m\u001b[0;34m.\u001b[0m\u001b[0mget_loc\u001b[0m\u001b[0;34m(\u001b[0m\u001b[0mcasted_key\u001b[0m\u001b[0;34m)\u001b[0m\u001b[0;34m\u001b[0m\u001b[0;34m\u001b[0m\u001b[0m\n\u001b[0m\u001b[1;32m   3081\u001b[0m             \u001b[0;32mexcept\u001b[0m \u001b[0mKeyError\u001b[0m \u001b[0;32mas\u001b[0m \u001b[0merr\u001b[0m\u001b[0;34m:\u001b[0m\u001b[0;34m\u001b[0m\u001b[0;34m\u001b[0m\u001b[0m\n",
      "\u001b[0;32mpandas/_libs/index.pyx\u001b[0m in \u001b[0;36mpandas._libs.index.IndexEngine.get_loc\u001b[0;34m()\u001b[0m\n",
      "\u001b[0;32mpandas/_libs/index.pyx\u001b[0m in \u001b[0;36mpandas._libs.index.IndexEngine.get_loc\u001b[0;34m()\u001b[0m\n",
      "\u001b[0;32mpandas/_libs/hashtable_class_helper.pxi\u001b[0m in \u001b[0;36mpandas._libs.hashtable.PyObjectHashTable.get_item\u001b[0;34m()\u001b[0m\n",
      "\u001b[0;32mpandas/_libs/hashtable_class_helper.pxi\u001b[0m in \u001b[0;36mpandas._libs.hashtable.PyObjectHashTable.get_item\u001b[0;34m()\u001b[0m\n",
      "\u001b[0;31mKeyError\u001b[0m: 'ROC'",
      "\nThe above exception was the direct cause of the following exception:\n",
      "\u001b[0;31mKeyError\u001b[0m                                  Traceback (most recent call last)",
      "\u001b[0;32m/tmp/ipykernel_32053/2845930530.py\u001b[0m in \u001b[0;36m<module>\u001b[0;34m\u001b[0m\n\u001b[1;32m      1\u001b[0m \u001b[0mprint\u001b[0m\u001b[0;34m(\u001b[0m\u001b[0;34mf'PR_AUC CI: = {np.percentile(stats_df[\"PR_AUC\"], (2.5, 97.5))}'\u001b[0m\u001b[0;34m)\u001b[0m\u001b[0;34m\u001b[0m\u001b[0;34m\u001b[0m\u001b[0m\n\u001b[0;32m----> 2\u001b[0;31m \u001b[0mprint\u001b[0m\u001b[0;34m(\u001b[0m\u001b[0;34mf'ROC CI: = {np.percentile(stats_df[\"ROC\"], (2.5, 97.5))}'\u001b[0m\u001b[0;34m)\u001b[0m\u001b[0;34m\u001b[0m\u001b[0;34m\u001b[0m\u001b[0m\n\u001b[0m\u001b[1;32m      3\u001b[0m \u001b[0mprint\u001b[0m\u001b[0;34m(\u001b[0m\u001b[0;34mf'MCC CI: = {np.percentile(stats_df[\"MCC\"], (2.5, 97.5))}'\u001b[0m\u001b[0;34m)\u001b[0m\u001b[0;34m\u001b[0m\u001b[0;34m\u001b[0m\u001b[0m\n",
      "\u001b[0;32m/opt/miniconda3/lib/python3.7/site-packages/pandas/core/frame.py\u001b[0m in \u001b[0;36m__getitem__\u001b[0;34m(self, key)\u001b[0m\n\u001b[1;32m   3022\u001b[0m             \u001b[0;32mif\u001b[0m \u001b[0mself\u001b[0m\u001b[0;34m.\u001b[0m\u001b[0mcolumns\u001b[0m\u001b[0;34m.\u001b[0m\u001b[0mnlevels\u001b[0m \u001b[0;34m>\u001b[0m \u001b[0;36m1\u001b[0m\u001b[0;34m:\u001b[0m\u001b[0;34m\u001b[0m\u001b[0;34m\u001b[0m\u001b[0m\n\u001b[1;32m   3023\u001b[0m                 \u001b[0;32mreturn\u001b[0m \u001b[0mself\u001b[0m\u001b[0;34m.\u001b[0m\u001b[0m_getitem_multilevel\u001b[0m\u001b[0;34m(\u001b[0m\u001b[0mkey\u001b[0m\u001b[0;34m)\u001b[0m\u001b[0;34m\u001b[0m\u001b[0;34m\u001b[0m\u001b[0m\n\u001b[0;32m-> 3024\u001b[0;31m             \u001b[0mindexer\u001b[0m \u001b[0;34m=\u001b[0m \u001b[0mself\u001b[0m\u001b[0;34m.\u001b[0m\u001b[0mcolumns\u001b[0m\u001b[0;34m.\u001b[0m\u001b[0mget_loc\u001b[0m\u001b[0;34m(\u001b[0m\u001b[0mkey\u001b[0m\u001b[0;34m)\u001b[0m\u001b[0;34m\u001b[0m\u001b[0;34m\u001b[0m\u001b[0m\n\u001b[0m\u001b[1;32m   3025\u001b[0m             \u001b[0;32mif\u001b[0m \u001b[0mis_integer\u001b[0m\u001b[0;34m(\u001b[0m\u001b[0mindexer\u001b[0m\u001b[0;34m)\u001b[0m\u001b[0;34m:\u001b[0m\u001b[0;34m\u001b[0m\u001b[0;34m\u001b[0m\u001b[0m\n\u001b[1;32m   3026\u001b[0m                 \u001b[0mindexer\u001b[0m \u001b[0;34m=\u001b[0m \u001b[0;34m[\u001b[0m\u001b[0mindexer\u001b[0m\u001b[0;34m]\u001b[0m\u001b[0;34m\u001b[0m\u001b[0;34m\u001b[0m\u001b[0m\n",
      "\u001b[0;32m/opt/miniconda3/lib/python3.7/site-packages/pandas/core/indexes/base.py\u001b[0m in \u001b[0;36mget_loc\u001b[0;34m(self, key, method, tolerance)\u001b[0m\n\u001b[1;32m   3080\u001b[0m                 \u001b[0;32mreturn\u001b[0m \u001b[0mself\u001b[0m\u001b[0;34m.\u001b[0m\u001b[0m_engine\u001b[0m\u001b[0;34m.\u001b[0m\u001b[0mget_loc\u001b[0m\u001b[0;34m(\u001b[0m\u001b[0mcasted_key\u001b[0m\u001b[0;34m)\u001b[0m\u001b[0;34m\u001b[0m\u001b[0;34m\u001b[0m\u001b[0m\n\u001b[1;32m   3081\u001b[0m             \u001b[0;32mexcept\u001b[0m \u001b[0mKeyError\u001b[0m \u001b[0;32mas\u001b[0m \u001b[0merr\u001b[0m\u001b[0;34m:\u001b[0m\u001b[0;34m\u001b[0m\u001b[0;34m\u001b[0m\u001b[0m\n\u001b[0;32m-> 3082\u001b[0;31m                 \u001b[0;32mraise\u001b[0m \u001b[0mKeyError\u001b[0m\u001b[0;34m(\u001b[0m\u001b[0mkey\u001b[0m\u001b[0;34m)\u001b[0m \u001b[0;32mfrom\u001b[0m \u001b[0merr\u001b[0m\u001b[0;34m\u001b[0m\u001b[0;34m\u001b[0m\u001b[0m\n\u001b[0m\u001b[1;32m   3083\u001b[0m \u001b[0;34m\u001b[0m\u001b[0m\n\u001b[1;32m   3084\u001b[0m         \u001b[0;32mif\u001b[0m \u001b[0mtolerance\u001b[0m \u001b[0;32mis\u001b[0m \u001b[0;32mnot\u001b[0m \u001b[0;32mNone\u001b[0m\u001b[0;34m:\u001b[0m\u001b[0;34m\u001b[0m\u001b[0;34m\u001b[0m\u001b[0m\n",
      "\u001b[0;31mKeyError\u001b[0m: 'ROC'"
     ]
    }
   ],
   "source": [
    "print(f'PR_AUC CI: = {np.percentile(stats_df[\"PR_AUC\"], (2.5, 97.5))}')\n",
    "print(f'ROC CI: = {np.percentile(stats_df[\"ROC\"], (2.5, 97.5))}')\n",
    "print(f'MCC CI: = {np.percentile(stats_df[\"MCC\"], (2.5, 97.5))}')"
   ]
  },
  {
   "cell_type": "code",
   "execution_count": null,
   "metadata": {},
   "outputs": [],
   "source": []
  },
  {
   "cell_type": "markdown",
   "metadata": {},
   "source": [
    "# Trying RF w/ Freq & max_features=None (Union50, no undersampling)"
   ]
  },
  {
   "cell_type": "code",
   "execution_count": null,
   "metadata": {},
   "outputs": [],
   "source": [
    "df = pd.read_csv('../../data/csl/CSL_tl_PI_Freq.csv', index_col=0)\n",
    "X = df.drop('trans_loss', axis=1, inplace=False)\n",
    "X = X[corr_vars]\n",
    "y = df['trans_loss'].values"
   ]
  },
  {
   "cell_type": "code",
   "execution_count": null,
   "metadata": {},
   "outputs": [],
   "source": [
    "%%time\n",
    "## Random Undersampling\n",
    "from sklearn.ensemble import RandomForestClassifier\n",
    "clf = RandomForestClassifier(n_estimators=128, criterion=\"gini\",max_depth=40, min_samples_leaf=16,\n",
    "                                     min_samples_split=2,max_leaf_nodes=100,max_features=None,\n",
    "                                     class_weight=\"balanced\")\n",
    "print(clf)\n",
    "stats_df = bootstrap_stat(X, y, clf, nsamples=10, under=False)\n",
    "stats_df.loc['mean'] = stats_df.mean()\n",
    "#stats_df.loc['mean',:]\n",
    "stats_df"
   ]
  },
  {
   "cell_type": "code",
   "execution_count": null,
   "metadata": {},
   "outputs": [],
   "source": [
    "%%time\n",
    "## Random Undersampling\n",
    "from sklearn.ensemble import RandomForestClassifier\n",
    "clf = RandomForestClassifier(n_estimators=128, criterion=\"gini\",max_depth=40, min_samples_leaf=16,\n",
    "                                     min_samples_split=2,max_leaf_nodes=100,max_features=None,\n",
    "                                     class_weight=\"balanced\")\n",
    "print(clf)\n",
    "stats_df = bootstrap_stat(X, y, clf, nsamples=2, under=True, samp_strat=0.7)\n",
    "stats_df.loc['mean'] = stats_df.mean()\n",
    "#stats_df.loc['mean',:]\n",
    "stats_df"
   ]
  },
  {
   "cell_type": "markdown",
   "metadata": {},
   "source": [
    "# Trying RF w/ Freq & max_features=None (Union50 features, under=0.7)"
   ]
  },
  {
   "cell_type": "code",
   "execution_count": null,
   "metadata": {},
   "outputs": [],
   "source": [
    "df = pd.read_csv('../../data/csl/CSL_tl_PI_Freq.csv', index_col=0)\n",
    "X = df.drop('trans_loss', axis=1, inplace=False)\n",
    "X = X[corr_vars]\n",
    "y = df['trans_loss'].values"
   ]
  },
  {
   "cell_type": "code",
   "execution_count": null,
   "metadata": {},
   "outputs": [],
   "source": [
    "%%time\n",
    "## Random Undersampling\n",
    "from sklearn.ensemble import RandomForestClassifier\n",
    "clf = RandomForestClassifier(n_estimators=128, criterion=\"gini\",max_depth=40, min_samples_leaf=16,\n",
    "                                     min_samples_split=2,max_leaf_nodes=100,max_features=None,\n",
    "                                     class_weight=None)\n",
    "print(clf)\n",
    "stats_df = bootstrap_stat(X, y, clf, nsamples=5, under=True, samp_strat=0.7)\n",
    "stats_df.loc['mean'] = stats_df.mean()\n",
    "#stats_df.loc['mean',:]\n",
    "stats_df"
   ]
  },
  {
   "cell_type": "markdown",
   "metadata": {},
   "source": [
    "# Trying RF w/ Freq & max_features=None (ALL features, under=0.7)"
   ]
  },
  {
   "cell_type": "code",
   "execution_count": null,
   "metadata": {},
   "outputs": [],
   "source": [
    "df = pd.read_csv('../../data/csl/CSL_tl_PI_Freq.csv', index_col=0)\n",
    "X = df.drop('trans_loss', axis=1, inplace=False)\n",
    "y = df['trans_loss'].values"
   ]
  },
  {
   "cell_type": "code",
   "execution_count": null,
   "metadata": {},
   "outputs": [],
   "source": [
    "%%time\n",
    "## Random Undersampling\n",
    "from sklearn.ensemble import RandomForestClassifier\n",
    "clf = RandomForestClassifier(n_estimators=128, criterion=\"gini\",max_depth=40, min_samples_leaf=16,\n",
    "                                     min_samples_split=2,max_leaf_nodes=100,max_features=None,\n",
    "                                     class_weight=None)\n",
    "print(clf)\n",
    "stats_df = bootstrap_stat(X, y, clf, nsamples=2, under=True, samp_strat=0.7)\n",
    "stats_df.loc['mean'] = stats_df.mean()\n",
    "#stats_df.loc['mean',:]\n",
    "stats_df"
   ]
  },
  {
   "cell_type": "markdown",
   "metadata": {},
   "source": [
    "# Trying RF w/ Freq & max_features=auto (ALL features, under=0.7)"
   ]
  },
  {
   "cell_type": "code",
   "execution_count": null,
   "metadata": {},
   "outputs": [],
   "source": [
    "%%time\n",
    "## Random Undersampling\n",
    "from sklearn.ensemble import RandomForestClassifier\n",
    "clf = RandomForestClassifier(n_estimators=128, criterion=\"gini\",max_depth=40, min_samples_leaf=16,\n",
    "                                     min_samples_split=2,max_leaf_nodes=100,max_features=\"auto\",\n",
    "                                     class_weight=None)\n",
    "print(clf)\n",
    "stats_df = bootstrap_stat(X, y, clf, nsamples=2, under=True, samp_strat=0.7)\n",
    "stats_df.loc['mean'] = stats_df.mean()\n",
    "#stats_df.loc['mean',:]\n",
    "stats_df"
   ]
  },
  {
   "cell_type": "code",
   "execution_count": null,
   "metadata": {},
   "outputs": [],
   "source": []
  },
  {
   "cell_type": "code",
   "execution_count": null,
   "metadata": {},
   "outputs": [],
   "source": []
  }
 ],
 "metadata": {
  "kernelspec": {
   "display_name": "Python [conda env:root] *",
   "language": "python",
   "name": "conda-root-py"
  },
  "language_info": {
   "codemirror_mode": {
    "name": "ipython",
    "version": 3
   },
   "file_extension": ".py",
   "mimetype": "text/x-python",
   "name": "python",
   "nbconvert_exporter": "python",
   "pygments_lexer": "ipython3",
   "version": "3.7.9"
  }
 },
 "nbformat": 4,
 "nbformat_minor": 4
}
