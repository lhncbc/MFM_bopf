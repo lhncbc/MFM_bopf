{
 "cells": [
  {
   "cell_type": "code",
   "execution_count": 6,
   "id": "ddfa2ca6",
   "metadata": {},
   "outputs": [],
   "source": [
    "\"\"\"\n",
    "Optuna example that optimizes a classifier configuration for cancer dataset using XGBoost.\n",
    "\n",
    "In this example, we optimize the accuracy of cancer detection using the XGBoost. The accuracy is\n",
    "estimated by cross-validation. We optimize both the choice of booster model and its\n",
    "hyperparameters.\n",
    "\n",
    "\"\"\"\n",
    "\n",
    "import os\n",
    "import shutil\n",
    "\n",
    "import optuna\n",
    "\n",
    "import sklearn.datasets\n",
    "import sklearn.metrics\n",
    "import xgboost as xgb"
   ]
  },
  {
   "cell_type": "code",
   "execution_count": 7,
   "id": "c093b5f6",
   "metadata": {},
   "outputs": [],
   "source": [
    "#SEED = 7 #MWB\n",
    "SEED = 108\n",
    "N_FOLDS = 3\n",
    "CV_RESULT_DIR = \"./xgboost_cv_results\""
   ]
  },
  {
   "cell_type": "code",
   "execution_count": 8,
   "id": "778a5e26",
   "metadata": {},
   "outputs": [],
   "source": [
    "def objective(trial):\n",
    "    (data, target) = sklearn.datasets.load_breast_cancer(return_X_y=True)\n",
    "    dtrain = xgb.DMatrix(data, label=target)\n",
    "\n",
    "    param = {\n",
    "        \"verbosity\": 0,\n",
    "        \"objective\": \"binary:logistic\",\n",
    "        \"eval_metric\": \"auc\",\n",
    "        \"booster\": trial.suggest_categorical(\"booster\", [\"gbtree\", \"gblinear\", \"dart\"]),\n",
    "        \"lambda\": trial.suggest_float(\"lambda\", 1e-8, 1.0, log=True),\n",
    "        \"alpha\": trial.suggest_float(\"alpha\", 1e-8, 1.0, log=True),\n",
    "        # sampling ratio for training data.\n",
    "        \"subsample\": trial.suggest_float(\"subsample\", 0.2, 1.0),\n",
    "        # sampling according to each tree.\n",
    "        \"colsample_bytree\": trial.suggest_float(\"colsample_bytree\", 0.2, 1.0),\n",
    "    }\n",
    "\n",
    "    if param[\"booster\"] == \"gbtree\" or param[\"booster\"] == \"dart\":\n",
    "        param[\"max_depth\"] = trial.suggest_int(\"max_depth\", 1, 9)\n",
    "        # minimum child weight, larger the term more conservative the tree.\n",
    "        param[\"min_child_weight\"] = trial.suggest_int(\"min_child_weight\", 2, 10)\n",
    "        param[\"eta\"] = trial.suggest_float(\"eta\", 1e-8, 1.0, log=True)\n",
    "        param[\"gamma\"] = trial.suggest_float(\"gamma\", 1e-8, 1.0, log=True)\n",
    "        param[\"grow_policy\"] = trial.suggest_categorical(\"grow_policy\", [\"depthwise\", \"lossguide\"])\n",
    "\n",
    "    if param[\"booster\"] == \"dart\":\n",
    "        param[\"sample_type\"] = trial.suggest_categorical(\"sample_type\", [\"uniform\", \"weighted\"])\n",
    "        param[\"normalize_type\"] = trial.suggest_categorical(\"normalize_type\", [\"tree\", \"forest\"])\n",
    "        param[\"rate_drop\"] = trial.suggest_float(\"rate_drop\", 1e-8, 1.0, log=True)\n",
    "        param[\"skip_drop\"] = trial.suggest_float(\"skip_drop\", 1e-8, 1.0, log=True)\n",
    "\n",
    "    xgb_cv_results = xgb.cv(\n",
    "        params=param,\n",
    "        dtrain=dtrain,\n",
    "        num_boost_round=10000,\n",
    "        nfold=N_FOLDS,\n",
    "        stratified=True,\n",
    "        early_stopping_rounds=100,\n",
    "        seed=SEED,\n",
    "        verbose_eval=False,\n",
    "    )\n",
    "    \n",
    "    trial.set_user_attr(\"n_estimators\", len(xgb_cv_results))\n",
    "\n",
    "    # Save cross-validation results.\n",
    "    filepath = os.path.join(CV_RESULT_DIR, \"{}.csv\".format(trial.number))\n",
    "    xgb_cv_results.to_csv(filepath, index=False)\n",
    "\n",
    "    # Extract the best score.\n",
    "    best_score = xgb_cv_results[\"test-auc-mean\"].values[-1]\n",
    "    return best_score\n"
   ]
  },
  {
   "cell_type": "code",
   "execution_count": 5,
   "id": "3bf747e8",
   "metadata": {},
   "outputs": [
    {
     "name": "stderr",
     "output_type": "stream",
     "text": [
      "\u001b[32m[I 2021-11-30 11:36:46,067]\u001b[0m A new study created in memory with name: no-name-080095a8-444f-4875-8076-01006d035257\u001b[0m\n",
      "\u001b[32m[I 2021-11-30 11:36:46,573]\u001b[0m Trial 0 finished with value: 0.986066 and parameters: {'booster': 'gbtree', 'lambda': 0.5326230708495907, 'alpha': 1.344193423305108e-06, 'subsample': 0.8686746191405466, 'colsample_bytree': 0.34855376256304305, 'max_depth': 9, 'min_child_weight': 5, 'eta': 3.8773829087567033e-07, 'gamma': 0.8256439518340901, 'grow_policy': 'lossguide'}. Best is trial 0 with value: 0.986066.\u001b[0m\n",
      "\u001b[32m[I 2021-11-30 11:36:46,951]\u001b[0m Trial 1 finished with value: 0.9852573333333333 and parameters: {'booster': 'dart', 'lambda': 1.6301875803867005e-06, 'alpha': 6.966820754581761e-07, 'subsample': 0.37813788801288983, 'colsample_bytree': 0.6867844982859739, 'max_depth': 7, 'min_child_weight': 6, 'eta': 0.0010639785467287553, 'gamma': 1.317598575825695e-07, 'grow_policy': 'lossguide', 'sample_type': 'uniform', 'normalize_type': 'tree', 'rate_drop': 0.010421635094729442, 'skip_drop': 1.5863985136741718e-07}. Best is trial 0 with value: 0.986066.\u001b[0m\n",
      "\u001b[32m[I 2021-11-30 11:36:47,340]\u001b[0m Trial 2 finished with value: 0.9883993333333333 and parameters: {'booster': 'dart', 'lambda': 1.1689577135388453e-08, 'alpha': 1.0844019627023547e-07, 'subsample': 0.4111665021376267, 'colsample_bytree': 0.7887681390599963, 'max_depth': 7, 'min_child_weight': 2, 'eta': 4.555974739920119e-07, 'gamma': 0.6488657341384569, 'grow_policy': 'depthwise', 'sample_type': 'weighted', 'normalize_type': 'tree', 'rate_drop': 1.5536356451693065e-07, 'skip_drop': 8.15235788561606e-06}. Best is trial 2 with value: 0.9883993333333333.\u001b[0m\n",
      "\u001b[32m[I 2021-11-30 11:36:47,839]\u001b[0m Trial 3 finished with value: 0.9885756666666666 and parameters: {'booster': 'dart', 'lambda': 7.956726224307413e-06, 'alpha': 0.0003494557960692928, 'subsample': 0.3202307038314727, 'colsample_bytree': 0.22086773781929125, 'max_depth': 6, 'min_child_weight': 4, 'eta': 8.789178501569552e-06, 'gamma': 0.08527555361882361, 'grow_policy': 'lossguide', 'sample_type': 'weighted', 'normalize_type': 'tree', 'rate_drop': 0.0003424670618892334, 'skip_drop': 0.6878965585991198}. Best is trial 3 with value: 0.9885756666666666.\u001b[0m\n",
      "\u001b[32m[I 2021-11-30 11:36:48,007]\u001b[0m Trial 4 finished with value: 0.9654386666666666 and parameters: {'booster': 'gblinear', 'lambda': 1.1293753432179873e-07, 'alpha': 4.4740072968281504e-05, 'subsample': 0.728420668022866, 'colsample_bytree': 0.7994276400592093}. Best is trial 3 with value: 0.9885756666666666.\u001b[0m\n",
      "\u001b[32m[I 2021-11-30 11:36:48,673]\u001b[0m Trial 5 finished with value: 0.9863156666666667 and parameters: {'booster': 'gbtree', 'lambda': 0.1268207456336367, 'alpha': 1.2341586005454574e-07, 'subsample': 0.24682833399116869, 'colsample_bytree': 0.7834500901422998, 'max_depth': 9, 'min_child_weight': 4, 'eta': 0.0012454629290861569, 'gamma': 0.023709725599451913, 'grow_policy': 'lossguide'}. Best is trial 3 with value: 0.9885756666666666.\u001b[0m\n",
      "\u001b[32m[I 2021-11-30 11:36:48,989]\u001b[0m Trial 6 finished with value: 0.9806183333333333 and parameters: {'booster': 'dart', 'lambda': 0.00418055599772679, 'alpha': 1.335469158996337e-06, 'subsample': 0.7824324478719074, 'colsample_bytree': 0.9776743991676604, 'max_depth': 7, 'min_child_weight': 8, 'eta': 0.0006688875945856703, 'gamma': 8.064462924016841e-06, 'grow_policy': 'depthwise', 'sample_type': 'weighted', 'normalize_type': 'tree', 'rate_drop': 1.5777750027598221e-06, 'skip_drop': 3.9383999648425495e-07}. Best is trial 3 with value: 0.9885756666666666.\u001b[0m\n",
      "\u001b[32m[I 2021-11-30 11:36:49,230]\u001b[0m Trial 7 finished with value: 0.9873469999999999 and parameters: {'booster': 'gbtree', 'lambda': 0.008183994679248503, 'alpha': 1.5004587905255112e-06, 'subsample': 0.7049497813294461, 'colsample_bytree': 0.2773962429141154, 'max_depth': 8, 'min_child_weight': 5, 'eta': 3.027360077989982e-07, 'gamma': 0.051103045794489696, 'grow_policy': 'lossguide'}. Best is trial 3 with value: 0.9885756666666666.\u001b[0m\n",
      "\u001b[32m[I 2021-11-30 11:37:09,000]\u001b[0m Trial 8 finished with value: 0.9901176666666668 and parameters: {'booster': 'dart', 'lambda': 6.134440348097854e-07, 'alpha': 9.379961824100115e-08, 'subsample': 0.7158722996247999, 'colsample_bytree': 0.9822007491645366, 'max_depth': 9, 'min_child_weight': 5, 'eta': 0.009079852904163745, 'gamma': 0.1558719328427858, 'grow_policy': 'lossguide', 'sample_type': 'weighted', 'normalize_type': 'tree', 'rate_drop': 0.23686594123596683, 'skip_drop': 0.2978558512440873}. Best is trial 8 with value: 0.9901176666666668.\u001b[0m\n",
      "\u001b[32m[I 2021-11-30 11:37:09,306]\u001b[0m Trial 9 finished with value: 0.9826996666666666 and parameters: {'booster': 'gbtree', 'lambda': 1.0214082930048812e-07, 'alpha': 4.441765590018064e-06, 'subsample': 0.6815721395301658, 'colsample_bytree': 0.5762040451510182, 'max_depth': 4, 'min_child_weight': 10, 'eta': 1.250305496162808e-08, 'gamma': 0.0024232620538327267, 'grow_policy': 'depthwise'}. Best is trial 8 with value: 0.9901176666666668.\u001b[0m\n",
      "\u001b[32m[I 2021-11-30 11:37:09,797]\u001b[0m Trial 10 finished with value: 0.9842716666666665 and parameters: {'booster': 'gblinear', 'lambda': 0.00011963913337415189, 'alpha': 0.19478218573385406, 'subsample': 0.9780282660093029, 'colsample_bytree': 0.952764975270335}. Best is trial 8 with value: 0.9901176666666668.\u001b[0m\n",
      "\u001b[32m[I 2021-11-30 11:37:10,239]\u001b[0m Trial 11 finished with value: 0.9905626666666668 and parameters: {'booster': 'dart', 'lambda': 1.2426333088845259e-05, 'alpha': 0.01734691196225347, 'subsample': 0.5439908913996503, 'colsample_bytree': 0.4810100019096156, 'max_depth': 1, 'min_child_weight': 3, 'eta': 0.7562962352561061, 'gamma': 0.0002738432303534442, 'grow_policy': 'lossguide', 'sample_type': 'weighted', 'normalize_type': 'forest', 'rate_drop': 0.25815199163384156, 'skip_drop': 0.8614013896833382}. Best is trial 11 with value: 0.9905626666666668.\u001b[0m\n",
      "\u001b[32m[I 2021-11-30 11:37:11,661]\u001b[0m Trial 12 finished with value: 0.9912776666666666 and parameters: {'booster': 'dart', 'lambda': 4.2432495725478736e-05, 'alpha': 0.023613537356521042, 'subsample': 0.4996858333586412, 'colsample_bytree': 0.44977867691136203, 'max_depth': 2, 'min_child_weight': 2, 'eta': 0.4505555785898337, 'gamma': 8.070631871387868e-05, 'grow_policy': 'lossguide', 'sample_type': 'weighted', 'normalize_type': 'forest', 'rate_drop': 0.997991508241244, 'skip_drop': 0.9755718576178026}. Best is trial 12 with value: 0.9912776666666666.\u001b[0m\n",
      "\u001b[32m[I 2021-11-30 11:37:12,655]\u001b[0m Trial 13 finished with value: 0.9857983333333333 and parameters: {'booster': 'dart', 'lambda': 0.00010761387723110758, 'alpha': 0.04522922964294396, 'subsample': 0.5360811062203193, 'colsample_bytree': 0.46769723585512923, 'max_depth': 1, 'min_child_weight': 2, 'eta': 0.360226701454784, 'gamma': 6.710978590174141e-05, 'grow_policy': 'lossguide', 'sample_type': 'weighted', 'normalize_type': 'forest', 'rate_drop': 0.8779625029217438, 'skip_drop': 0.006187597848845442}. Best is trial 12 with value: 0.9912776666666666.\u001b[0m\n",
      "\u001b[32m[I 2021-11-30 11:37:13,108]\u001b[0m Trial 14 finished with value: 0.9921263333333333 and parameters: {'booster': 'dart', 'lambda': 1.3336319324853983e-05, 'alpha': 0.006914668358539636, 'subsample': 0.5310828968992993, 'colsample_bytree': 0.4636610215904436, 'max_depth': 1, 'min_child_weight': 2, 'eta': 0.46873048889503566, 'gamma': 0.0006799171009173338, 'grow_policy': 'lossguide', 'sample_type': 'uniform', 'normalize_type': 'forest', 'rate_drop': 0.027515831825450084, 'skip_drop': 0.003082429844838329}. Best is trial 14 with value: 0.9921263333333333.\u001b[0m\n",
      "\u001b[32m[I 2021-11-30 11:37:14,353]\u001b[0m Trial 15 finished with value: 0.9939203333333332 and parameters: {'booster': 'gblinear', 'lambda': 0.001157503691808135, 'alpha': 0.002379404663168474, 'subsample': 0.46570253815137697, 'colsample_bytree': 0.4189466924145795}. Best is trial 15 with value: 0.9939203333333332.\u001b[0m\n",
      "\u001b[32m[I 2021-11-30 11:37:15,655]\u001b[0m Trial 16 finished with value: 0.9942373333333333 and parameters: {'booster': 'gblinear', 'lambda': 0.0008907581409482646, 'alpha': 0.001592099473309119, 'subsample': 0.44228034221462575, 'colsample_bytree': 0.36841179189414064}. Best is trial 16 with value: 0.9942373333333333.\u001b[0m\n"
     ]
    },
    {
     "name": "stderr",
     "output_type": "stream",
     "text": [
      "\u001b[32m[I 2021-11-30 11:37:16,740]\u001b[0m Trial 17 finished with value: 0.9940793333333332 and parameters: {'booster': 'gblinear', 'lambda': 0.0013030633270566968, 'alpha': 0.0014266255828929283, 'subsample': 0.42248918156361265, 'colsample_bytree': 0.342602561641062}. Best is trial 16 with value: 0.9942373333333333.\u001b[0m\n",
      "\u001b[32m[I 2021-11-30 11:37:17,710]\u001b[0m Trial 18 finished with value: 0.9948316666666667 and parameters: {'booster': 'gblinear', 'lambda': 0.001085044224629079, 'alpha': 0.0004942991637657497, 'subsample': 0.24859463786253522, 'colsample_bytree': 0.33660414374234615}. Best is trial 18 with value: 0.9948316666666667.\u001b[0m\n",
      "\u001b[32m[I 2021-11-30 11:37:19,232]\u001b[0m Trial 19 finished with value: 0.9921783333333334 and parameters: {'booster': 'gblinear', 'lambda': 0.045800339307490015, 'alpha': 6.282193326851764e-05, 'subsample': 0.20081355333945108, 'colsample_bytree': 0.27933733651003667}. Best is trial 18 with value: 0.9948316666666667.\u001b[0m\n"
     ]
    },
    {
     "name": "stdout",
     "output_type": "stream",
     "text": [
      "Number of finished trials:  20\n",
      "Best trial:\n",
      "  Value: 0.9948316666666667\n",
      "  Params: \n",
      "    booster: gblinear\n",
      "    lambda: 0.001085044224629079\n",
      "    alpha: 0.0004942991637657497\n",
      "    subsample: 0.24859463786253522\n",
      "    colsample_bytree: 0.33660414374234615\n",
      "  Number of estimators: 557\n"
     ]
    }
   ],
   "source": [
    "if __name__ == \"__main__\":\n",
    "    if not os.path.exists(CV_RESULT_DIR):\n",
    "        os.mkdir(CV_RESULT_DIR)\n",
    "\n",
    "    study = optuna.create_study(direction=\"maximize\")\n",
    "    study.optimize(objective, n_trials=20, timeout=600)\n",
    "\n",
    "    print(\"Number of finished trials: \", len(study.trials))\n",
    "    print(\"Best trial:\")\n",
    "    trial = study.best_trial\n",
    "\n",
    "    print(\"  Value: {}\".format(trial.value))\n",
    "    print(\"  Params: \")\n",
    "    for key, value in trial.params.items():\n",
    "        print(\"    {}: {}\".format(key, value))\n",
    "\n",
    "    print(\"  Number of estimators: {}\".format(trial.user_attrs[\"n_estimators\"]))\n",
    "\n",
    "    shutil.rmtree(CV_RESULT_DIR)\n"
   ]
  },
  {
   "cell_type": "code",
   "execution_count": 10,
   "id": "36f8d63e",
   "metadata": {},
   "outputs": [
    {
     "name": "stderr",
     "output_type": "stream",
     "text": [
      "\u001b[32m[I 2021-11-30 14:21:50,162]\u001b[0m A new study created in memory with name: no-name-40e21e08-66ab-4e9e-8be5-4ca46440ce07\u001b[0m\n",
      "\u001b[32m[I 2021-11-30 14:21:50,811]\u001b[0m Trial 0 finished with value: 0.9874196666666667 and parameters: {'booster': 'gblinear', 'lambda': 0.00017019467061261584, 'alpha': 0.11809985089651562, 'subsample': 0.35503350046998644, 'colsample_bytree': 0.5976677076348662}. Best is trial 0 with value: 0.9874196666666667.\u001b[0m\n",
      "\u001b[32m[I 2021-11-30 14:21:50,998]\u001b[0m Trial 1 finished with value: 0.9835406666666667 and parameters: {'booster': 'gbtree', 'lambda': 1.8500036107574693e-05, 'alpha': 0.1728984759396956, 'subsample': 0.5889118111053057, 'colsample_bytree': 0.7437351633534912, 'max_depth': 7, 'min_child_weight': 6, 'eta': 4.733481548194257e-07, 'gamma': 3.6435414902649324e-08, 'grow_policy': 'lossguide'}. Best is trial 0 with value: 0.9874196666666667.\u001b[0m\n",
      "\u001b[32m[I 2021-11-30 14:21:51,116]\u001b[0m Trial 2 finished with value: 0.9757910000000001 and parameters: {'booster': 'gblinear', 'lambda': 2.616792912409911e-06, 'alpha': 1.6646437897553433e-07, 'subsample': 0.7330999034863004, 'colsample_bytree': 0.5429078428547169}. Best is trial 0 with value: 0.9874196666666667.\u001b[0m\n",
      "\u001b[32m[I 2021-11-30 14:21:51,471]\u001b[0m Trial 3 finished with value: 0.9851793333333333 and parameters: {'booster': 'gbtree', 'lambda': 1.8125352355839178e-05, 'alpha': 2.6442969878377266e-08, 'subsample': 0.6196375741691644, 'colsample_bytree': 0.34838331768091535, 'max_depth': 6, 'min_child_weight': 10, 'eta': 5.994003341487976e-06, 'gamma': 0.07668279429780371, 'grow_policy': 'depthwise'}. Best is trial 0 with value: 0.9874196666666667.\u001b[0m\n",
      "\u001b[32m[I 2021-11-30 14:21:51,788]\u001b[0m Trial 4 finished with value: 0.9850180000000001 and parameters: {'booster': 'gbtree', 'lambda': 0.00904594233034832, 'alpha': 1.7726782013227481e-06, 'subsample': 0.6139410027587391, 'colsample_bytree': 0.32013546361658335, 'max_depth': 9, 'min_child_weight': 10, 'eta': 3.210137934607948e-05, 'gamma': 0.00198641714440535, 'grow_policy': 'lossguide'}. Best is trial 0 with value: 0.9874196666666667.\u001b[0m\n",
      "\u001b[32m[I 2021-11-30 14:21:52,034]\u001b[0m Trial 5 finished with value: 0.9892463333333333 and parameters: {'booster': 'gbtree', 'lambda': 1.3624528534200577e-07, 'alpha': 0.0002985768285303723, 'subsample': 0.8581741652353732, 'colsample_bytree': 0.20321549887306667, 'max_depth': 3, 'min_child_weight': 2, 'eta': 5.964745489745159e-05, 'gamma': 6.730886382389334e-05, 'grow_policy': 'depthwise'}. Best is trial 5 with value: 0.9892463333333333.\u001b[0m\n",
      "\u001b[32m[I 2021-11-30 14:21:52,376]\u001b[0m Trial 6 finished with value: 0.9897873333333335 and parameters: {'booster': 'gbtree', 'lambda': 0.5407167725914005, 'alpha': 2.8706894365440897e-08, 'subsample': 0.7762615908772332, 'colsample_bytree': 0.21374108481676946, 'max_depth': 5, 'min_child_weight': 10, 'eta': 0.23450734085971836, 'gamma': 0.24134227101480565, 'grow_policy': 'depthwise'}. Best is trial 6 with value: 0.9897873333333335.\u001b[0m\n",
      "\u001b[32m[I 2021-11-30 14:21:54,357]\u001b[0m Trial 7 finished with value: 0.9868903333333333 and parameters: {'booster': 'dart', 'lambda': 2.5040273478137647e-08, 'alpha': 0.9947868968732427, 'subsample': 0.4351454828487937, 'colsample_bytree': 0.6746074001369187, 'max_depth': 4, 'min_child_weight': 7, 'eta': 0.02622007916733938, 'gamma': 0.006876079046893042, 'grow_policy': 'depthwise', 'sample_type': 'weighted', 'normalize_type': 'forest', 'rate_drop': 4.297645925937778e-05, 'skip_drop': 0.06477201703756043}. Best is trial 6 with value: 0.9897873333333335.\u001b[0m\n",
      "\u001b[32m[I 2021-11-30 14:21:54,511]\u001b[0m Trial 8 finished with value: 0.9907843333333334 and parameters: {'booster': 'gblinear', 'lambda': 2.7621245688212e-06, 'alpha': 3.510655494281478e-08, 'subsample': 0.5164293205055677, 'colsample_bytree': 0.43598994912961964}. Best is trial 8 with value: 0.9907843333333334.\u001b[0m\n",
      "\u001b[32m[I 2021-11-30 14:21:55,607]\u001b[0m Trial 9 finished with value: 0.993795 and parameters: {'booster': 'gblinear', 'lambda': 0.0006017007973934153, 'alpha': 4.274317016290667e-06, 'subsample': 0.9478028095329396, 'colsample_bytree': 0.9218569179300735}. Best is trial 9 with value: 0.993795.\u001b[0m\n",
      "\u001b[32m[I 2021-11-30 14:21:56,107]\u001b[0m Trial 10 finished with value: 0.9145583333333333 and parameters: {'booster': 'dart', 'lambda': 0.0021025692041462536, 'alpha': 7.38982012571554e-05, 'subsample': 0.9615758636894025, 'colsample_bytree': 0.9841815711904462, 'max_depth': 1, 'min_child_weight': 2, 'eta': 4.463833187691498e-08, 'gamma': 2.470333100264787e-08, 'grow_policy': 'lossguide', 'sample_type': 'uniform', 'normalize_type': 'tree', 'rate_drop': 0.6697704065331271, 'skip_drop': 1.3894633323436064e-08}. Best is trial 9 with value: 0.993795.\u001b[0m\n",
      "\u001b[32m[I 2021-11-30 14:21:56,252]\u001b[0m Trial 11 finished with value: 0.977505 and parameters: {'booster': 'gblinear', 'lambda': 6.397299146448465e-07, 'alpha': 5.989967626924959e-06, 'subsample': 0.2587146955035315, 'colsample_bytree': 0.9754682020733497}. Best is trial 9 with value: 0.993795.\u001b[0m\n",
      "\u001b[32m[I 2021-11-30 14:21:57,185]\u001b[0m Trial 12 finished with value: 0.9940720000000001 and parameters: {'booster': 'gblinear', 'lambda': 0.0011005849296659629, 'alpha': 1.3046105707593157e-06, 'subsample': 0.47971283015241317, 'colsample_bytree': 0.8283458258848093}. Best is trial 12 with value: 0.9940720000000001.\u001b[0m\n",
      "\u001b[32m[I 2021-11-30 14:21:57,516]\u001b[0m Trial 13 finished with value: 0.9926876666666667 and parameters: {'booster': 'gblinear', 'lambda': 0.003937091356055327, 'alpha': 0.000712392685444121, 'subsample': 0.9985934535828848, 'colsample_bytree': 0.8418882385587219}. Best is trial 12 with value: 0.9940720000000001.\u001b[0m\n",
      "\u001b[32m[I 2021-11-30 14:21:58,751]\u001b[0m Trial 14 finished with value: 0.9905893333333333 and parameters: {'booster': 'gblinear', 'lambda': 0.24922551741130206, 'alpha': 2.7115569065601985e-06, 'subsample': 0.2168778403969146, 'colsample_bytree': 0.8427282235580602}. Best is trial 12 with value: 0.9940720000000001.\u001b[0m\n",
      "\u001b[32m[I 2021-11-30 14:21:59,421]\u001b[0m Trial 15 finished with value: 0.993915 and parameters: {'booster': 'gblinear', 'lambda': 0.00026536519500662136, 'alpha': 2.2496647155368624e-05, 'subsample': 0.4624428466937372, 'colsample_bytree': 0.8550311439545686}. Best is trial 12 with value: 0.9940720000000001.\u001b[0m\n",
      "\u001b[32m[I 2021-11-30 14:22:01,000]\u001b[0m Trial 16 finished with value: 0.9912616666666666 and parameters: {'booster': 'gblinear', 'lambda': 0.04623793481144789, 'alpha': 0.003041103209834736, 'subsample': 0.3894679159385922, 'colsample_bytree': 0.7375405266182861}. Best is trial 12 with value: 0.9940720000000001.\u001b[0m\n",
      "\u001b[32m[I 2021-11-30 14:22:08,860]\u001b[0m Trial 17 finished with value: 0.9879919999999999 and parameters: {'booster': 'dart', 'lambda': 0.0001005429583373723, 'alpha': 2.934860347605806e-05, 'subsample': 0.4764638776492761, 'colsample_bytree': 0.8523496239685103, 'max_depth': 1, 'min_child_weight': 5, 'eta': 0.004278466529486346, 'gamma': 9.002895344309407e-06, 'grow_policy': 'lossguide', 'sample_type': 'uniform', 'normalize_type': 'forest', 'rate_drop': 1.2617271159176185e-07, 'skip_drop': 2.3860512981737943e-06}. Best is trial 12 with value: 0.9940720000000001.\u001b[0m\n",
      "\u001b[32m[I 2021-11-30 14:22:10,236]\u001b[0m Trial 18 finished with value: 0.9917363333333333 and parameters: {'booster': 'gblinear', 'lambda': 0.038721416115692645, 'alpha': 3.212703723987728e-07, 'subsample': 0.3171727217634923, 'colsample_bytree': 0.7615299856896373}. Best is trial 12 with value: 0.9940720000000001.\u001b[0m\n",
      "\u001b[32m[I 2021-11-30 14:22:10,827]\u001b[0m Trial 19 finished with value: 0.9938739999999999 and parameters: {'booster': 'gblinear', 'lambda': 0.0006508741573046647, 'alpha': 2.6788442045072467e-05, 'subsample': 0.5541322845435694, 'colsample_bytree': 0.6554594978535476}. Best is trial 12 with value: 0.9940720000000001.\u001b[0m\n"
     ]
    },
    {
     "name": "stdout",
     "output_type": "stream",
     "text": [
      "Number of finished trials:  20\n",
      "Best trial:\n",
      "  Value: 0.9940720000000001\n",
      "  Params: \n",
      "    booster: gblinear\n",
      "    lambda: 0.0011005849296659629\n",
      "    alpha: 1.3046105707593157e-06\n",
      "    subsample: 0.47971283015241317\n",
      "    colsample_bytree: 0.8283458258848093\n",
      "  Number of estimators: 331\n"
     ]
    }
   ],
   "source": [
    "if __name__ == \"__main__\":\n",
    "    if not os.path.exists(CV_RESULT_DIR):\n",
    "        os.mkdir(CV_RESULT_DIR)\n",
    "\n",
    "    study = optuna.create_study(direction=\"maximize\")\n",
    "    study.optimize(objective, n_trials=20, timeout=600)\n",
    "\n",
    "    print(\"Number of finished trials: \", len(study.trials))\n",
    "    print(\"Best trial:\")\n",
    "    trial = study.best_trial\n",
    "\n",
    "    print(\"  Value: {}\".format(trial.value))\n",
    "    print(\"  Params: \")\n",
    "    for key, value in trial.params.items():\n",
    "        print(\"    {}: {}\".format(key, value))\n",
    "\n",
    "    print(\"  Number of estimators: {}\".format(trial.user_attrs[\"n_estimators\"]))\n",
    "\n",
    "    shutil.rmtree(CV_RESULT_DIR)\n"
   ]
  },
  {
   "cell_type": "code",
   "execution_count": null,
   "id": "1910402a",
   "metadata": {},
   "outputs": [],
   "source": []
  }
 ],
 "metadata": {
  "kernelspec": {
   "display_name": "Python [conda env:root] *",
   "language": "python",
   "name": "conda-root-py"
  },
  "language_info": {
   "codemirror_mode": {
    "name": "ipython",
    "version": 3
   },
   "file_extension": ".py",
   "mimetype": "text/x-python",
   "name": "python",
   "nbconvert_exporter": "python",
   "pygments_lexer": "ipython3",
   "version": "3.7.9"
  }
 },
 "nbformat": 4,
 "nbformat_minor": 5
}
