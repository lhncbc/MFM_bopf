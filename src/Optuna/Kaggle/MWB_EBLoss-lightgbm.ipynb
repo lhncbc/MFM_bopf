{
 "cells": [
  {
   "cell_type": "markdown",
   "metadata": {},
   "source": [
    "<h1 align='center'>Welcome to my Notebook</h1>"
   ]
  },
  {
   "cell_type": "markdown",
   "metadata": {},
   "source": [
    "# Originally taken from:\n",
    "https://www.kaggle.com/vagifa/vehicle-insurance-eda-undersampling-lightgbm/notebook"
   ]
  },
  {
   "cell_type": "code",
   "execution_count": 25,
   "metadata": {
    "_cell_guid": "b1076dfc-b9ad-4769-8c92-a6c4dae69d19",
    "_uuid": "8f2839f25d086af736a60e9eeb907d3b93b6e0e5"
   },
   "outputs": [],
   "source": [
    "import numpy as np \n",
    "import pandas as pd \n",
    "\n",
    "import matplotlib.pyplot as plt\n",
    "#import plotly.express as px\n",
    "import seaborn as sns\n",
    "\n",
    "from lightgbm import LGBMClassifier\n",
    "\n",
    "from sklearn.model_selection import StratifiedKFold,KFold\n",
    "from collections import Counter\n",
    "from imblearn.under_sampling import RandomUnderSampler\n",
    "from sklearn.metrics import classification_report, roc_auc_score, \\\n",
    "                            confusion_matrix, accuracy_score, f1_score\n",
    "from sklearn.metrics import matthews_corrcoef\n",
    "\n",
    "from sklearn.model_selection import train_test_split\n",
    "\n",
    "import optuna\n",
    "from optuna.samplers import TPESampler\n",
    "sns.set(style='white', context='notebook', palette='deep')\n",
    "%config Completer.use_jedi = False"
   ]
  },
  {
   "cell_type": "code",
   "execution_count": null,
   "metadata": {},
   "outputs": [],
   "source": [
    "csl_df = pd.read_csv('/MFMDatasets/MFM_bopf/data/csl/CSL_he_PI_comp.csv', index_col=0)\n",
    "X = csl_df.drop('high_EBL', axis=1, inplace=False)\n",
    "y = csl_df['high_EBL'].values\n",
    "\n",
    "X_train, X_test, y_train, y_test = train_test_split(X, y, test_size=0.3, stratify=y,\n",
    "                                                    random_state=7)"
   ]
  },
  {
   "cell_type": "markdown",
   "metadata": {},
   "source": [
    "<h1 align='center'>Exploratory Data Analysis</h1>"
   ]
  },
  {
   "cell_type": "code",
   "execution_count": 27,
   "metadata": {
    "_cell_guid": "79c7e3d0-c299-4dcb-8224-4455121ee9b0",
    "_uuid": "d629ff2d2480ee46fbb7e2d37f6b5fab8052498a"
   },
   "outputs": [
    {
     "data": {
      "text/html": [
       "<div>\n",
       "<style scoped>\n",
       "    .dataframe tbody tr th:only-of-type {\n",
       "        vertical-align: middle;\n",
       "    }\n",
       "\n",
       "    .dataframe tbody tr th {\n",
       "        vertical-align: top;\n",
       "    }\n",
       "\n",
       "    .dataframe thead th {\n",
       "        text-align: right;\n",
       "    }\n",
       "</style>\n",
       "<table border=\"1\" class=\"dataframe\">\n",
       "  <thead>\n",
       "    <tr style=\"text-align: right;\">\n",
       "      <th></th>\n",
       "      <th>Accrete</th>\n",
       "      <th>AdmBishop</th>\n",
       "      <th>Admcervpos</th>\n",
       "      <th>Admconsistency</th>\n",
       "      <th>Admcontract</th>\n",
       "      <th>AdmDBP</th>\n",
       "      <th>Admefface</th>\n",
       "      <th>Admpresent</th>\n",
       "      <th>AdmSBP</th>\n",
       "      <th>Analgesia</th>\n",
       "      <th>...</th>\n",
       "      <th>ThreatenedPB</th>\n",
       "      <th>threatpb9</th>\n",
       "      <th>UnspecHBP</th>\n",
       "      <th>uscar</th>\n",
       "      <th>version9</th>\n",
       "      <th>new_age</th>\n",
       "      <th>new_BMI</th>\n",
       "      <th>new_high_Age</th>\n",
       "      <th>new_high_BMI</th>\n",
       "      <th>Sitenum</th>\n",
       "    </tr>\n",
       "    <tr>\n",
       "      <th>MomID</th>\n",
       "      <th></th>\n",
       "      <th></th>\n",
       "      <th></th>\n",
       "      <th></th>\n",
       "      <th></th>\n",
       "      <th></th>\n",
       "      <th></th>\n",
       "      <th></th>\n",
       "      <th></th>\n",
       "      <th></th>\n",
       "      <th></th>\n",
       "      <th></th>\n",
       "      <th></th>\n",
       "      <th></th>\n",
       "      <th></th>\n",
       "      <th></th>\n",
       "      <th></th>\n",
       "      <th></th>\n",
       "      <th></th>\n",
       "      <th></th>\n",
       "      <th></th>\n",
       "    </tr>\n",
       "  </thead>\n",
       "  <tbody>\n",
       "    <tr>\n",
       "      <th>41-00003</th>\n",
       "      <td>0</td>\n",
       "      <td>6</td>\n",
       "      <td>3</td>\n",
       "      <td>2</td>\n",
       "      <td>2.9</td>\n",
       "      <td>77</td>\n",
       "      <td>70.0</td>\n",
       "      <td>1</td>\n",
       "      <td>105.0</td>\n",
       "      <td>8</td>\n",
       "      <td>...</td>\n",
       "      <td>0</td>\n",
       "      <td>0</td>\n",
       "      <td>0</td>\n",
       "      <td>0</td>\n",
       "      <td>0</td>\n",
       "      <td>36</td>\n",
       "      <td>22</td>\n",
       "      <td>1</td>\n",
       "      <td>1</td>\n",
       "      <td>41</td>\n",
       "    </tr>\n",
       "    <tr>\n",
       "      <th>41-00004</th>\n",
       "      <td>0</td>\n",
       "      <td>5</td>\n",
       "      <td>3</td>\n",
       "      <td>2</td>\n",
       "      <td>3.3</td>\n",
       "      <td>65</td>\n",
       "      <td>70.0</td>\n",
       "      <td>1</td>\n",
       "      <td>122.0</td>\n",
       "      <td>8</td>\n",
       "      <td>...</td>\n",
       "      <td>0</td>\n",
       "      <td>0</td>\n",
       "      <td>0</td>\n",
       "      <td>0</td>\n",
       "      <td>0</td>\n",
       "      <td>34</td>\n",
       "      <td>31</td>\n",
       "      <td>1</td>\n",
       "      <td>1</td>\n",
       "      <td>41</td>\n",
       "    </tr>\n",
       "    <tr>\n",
       "      <th>41-00006</th>\n",
       "      <td>0</td>\n",
       "      <td>11</td>\n",
       "      <td>1</td>\n",
       "      <td>3</td>\n",
       "      <td>5.0</td>\n",
       "      <td>98</td>\n",
       "      <td>100.0</td>\n",
       "      <td>77</td>\n",
       "      <td>134.0</td>\n",
       "      <td>8</td>\n",
       "      <td>...</td>\n",
       "      <td>0</td>\n",
       "      <td>0</td>\n",
       "      <td>0</td>\n",
       "      <td>0</td>\n",
       "      <td>0</td>\n",
       "      <td>21</td>\n",
       "      <td>22</td>\n",
       "      <td>1</td>\n",
       "      <td>1</td>\n",
       "      <td>41</td>\n",
       "    </tr>\n",
       "    <tr>\n",
       "      <th>41-00007</th>\n",
       "      <td>0</td>\n",
       "      <td>4</td>\n",
       "      <td>2</td>\n",
       "      <td>2</td>\n",
       "      <td>2.9</td>\n",
       "      <td>105</td>\n",
       "      <td>50.0</td>\n",
       "      <td>77</td>\n",
       "      <td>145.0</td>\n",
       "      <td>7</td>\n",
       "      <td>...</td>\n",
       "      <td>0</td>\n",
       "      <td>0</td>\n",
       "      <td>0</td>\n",
       "      <td>0</td>\n",
       "      <td>0</td>\n",
       "      <td>42</td>\n",
       "      <td>24</td>\n",
       "      <td>2</td>\n",
       "      <td>1</td>\n",
       "      <td>41</td>\n",
       "    </tr>\n",
       "    <tr>\n",
       "      <th>41-00008</th>\n",
       "      <td>0</td>\n",
       "      <td>6</td>\n",
       "      <td>3</td>\n",
       "      <td>2</td>\n",
       "      <td>6.7</td>\n",
       "      <td>71</td>\n",
       "      <td>70.0</td>\n",
       "      <td>77</td>\n",
       "      <td>118.0</td>\n",
       "      <td>8</td>\n",
       "      <td>...</td>\n",
       "      <td>0</td>\n",
       "      <td>0</td>\n",
       "      <td>0</td>\n",
       "      <td>0</td>\n",
       "      <td>0</td>\n",
       "      <td>33</td>\n",
       "      <td>18</td>\n",
       "      <td>1</td>\n",
       "      <td>0</td>\n",
       "      <td>41</td>\n",
       "    </tr>\n",
       "  </tbody>\n",
       "</table>\n",
       "<p>5 rows × 195 columns</p>\n",
       "</div>"
      ],
      "text/plain": [
       "          Accrete  AdmBishop  Admcervpos  Admconsistency  Admcontract  AdmDBP  \\\n",
       "MomID                                                                           \n",
       "41-00003        0          6           3               2          2.9      77   \n",
       "41-00004        0          5           3               2          3.3      65   \n",
       "41-00006        0         11           1               3          5.0      98   \n",
       "41-00007        0          4           2               2          2.9     105   \n",
       "41-00008        0          6           3               2          6.7      71   \n",
       "\n",
       "          Admefface  Admpresent  AdmSBP  Analgesia  ...  ThreatenedPB  \\\n",
       "MomID                                               ...                 \n",
       "41-00003       70.0           1   105.0          8  ...             0   \n",
       "41-00004       70.0           1   122.0          8  ...             0   \n",
       "41-00006      100.0          77   134.0          8  ...             0   \n",
       "41-00007       50.0          77   145.0          7  ...             0   \n",
       "41-00008       70.0          77   118.0          8  ...             0   \n",
       "\n",
       "          threatpb9  UnspecHBP  uscar  version9  new_age  new_BMI  \\\n",
       "MomID                                                               \n",
       "41-00003          0          0      0         0       36       22   \n",
       "41-00004          0          0      0         0       34       31   \n",
       "41-00006          0          0      0         0       21       22   \n",
       "41-00007          0          0      0         0       42       24   \n",
       "41-00008          0          0      0         0       33       18   \n",
       "\n",
       "          new_high_Age  new_high_BMI  Sitenum  \n",
       "MomID                                          \n",
       "41-00003             1             1       41  \n",
       "41-00004             1             1       41  \n",
       "41-00006             1             1       41  \n",
       "41-00007             2             1       41  \n",
       "41-00008             1             0       41  \n",
       "\n",
       "[5 rows x 195 columns]"
      ]
     },
     "execution_count": 27,
     "metadata": {},
     "output_type": "execute_result"
    }
   ],
   "source": [
    "X.head()"
   ]
  },
  {
   "cell_type": "code",
   "execution_count": 30,
   "metadata": {},
   "outputs": [
    {
     "name": "stdout",
     "output_type": "stream",
     "text": [
      "<class 'pandas.core.frame.DataFrame'>\n",
      "Index: 136487 entries, 41-00003 to 52-07251\n",
      "Columns: 196 entries, high_EBL to Sitenum\n",
      "dtypes: float64(4), int64(192)\n",
      "memory usage: 205.1+ MB\n"
     ]
    }
   ],
   "source": [
    "csl_df.info()"
   ]
  },
  {
   "cell_type": "code",
   "execution_count": 31,
   "metadata": {},
   "outputs": [
    {
     "data": {
      "text/plain": [
       "Accrete           37.090262\n",
       "AdmBishop         -1.514264\n",
       "Admcervpos        -0.633467\n",
       "Admconsistency    -0.589096\n",
       "Admcontract        0.159128\n",
       "                    ...    \n",
       "new_age            0.222815\n",
       "new_BMI            2.154541\n",
       "new_high_Age      -0.595479\n",
       "new_high_BMI      -0.458363\n",
       "Sitenum           -0.152035\n",
       "Length: 195, dtype: float64"
      ]
     },
     "execution_count": 31,
     "metadata": {},
     "output_type": "execute_result"
    }
   ],
   "source": [
    "X.skew()"
   ]
  },
  {
   "cell_type": "code",
   "execution_count": 9,
   "metadata": {},
   "outputs": [],
   "source": [
    "#all_features = pd.concat([train.drop(['id','Response'],axis=1),test.drop('id',axis=1)],axis=0)\n",
    "#y = train['Response']"
   ]
  },
  {
   "cell_type": "markdown",
   "metadata": {},
   "source": [
    "Let's combine the train and test set so our transformations are easier as we don't have to apply them seperately to each set"
   ]
  },
  {
   "cell_type": "markdown",
   "metadata": {},
   "source": [
    "<h1 align='center'>Categorical Features Data Analysis</h1>"
   ]
  },
  {
   "cell_type": "code",
   "execution_count": 44,
   "metadata": {},
   "outputs": [
    {
     "name": "stdout",
     "output_type": "stream",
     "text": [
      "0.0422\n",
      "0.0422\n"
     ]
    }
   ],
   "source": [
    "%precision %.3f\n",
    "#np.set_printoptions(precision=3)\n",
    "print(f'{np.bincount(y)[1]/len(y):.4f}')\n",
    "print(f'{np.bincount(y_train)[1]/len(y_train):.4f}')"
   ]
  },
  {
   "cell_type": "code",
   "execution_count": 33,
   "metadata": {},
   "outputs": [
    {
     "data": {
      "image/png": "[encoded data removed]",
      "text/plain": [
       "<Figure size 432x288 with 1 Axes>"
      ]
     },
     "metadata": {},
     "output_type": "display_data"
    }
   ],
   "source": [
    "fig1, ax1 = plt.subplots()\n",
    "ax1.pie(csl_df['high_EBL'].value_counts(), labels=['< 1L','>= 1L'], autopct='%1.1f%%')\n",
    "plt.show()"
   ]
  },
  {
   "cell_type": "code",
   "execution_count": 12,
   "metadata": {},
   "outputs": [],
   "source": [
    "#fig = px.pie(train,values=train['Response'].value_counts(),names=['Class 0','Class 1'],hole=0.6,labels={0:'Response = 0'},color_discrete_sequence=px.colors.sequential.Sunset)\n",
    "#fig.show(showlegend=True)\n",
    "#plt.show()"
   ]
  },
  {
   "cell_type": "code",
   "execution_count": 13,
   "metadata": {},
   "outputs": [],
   "source": [
    "#fig = px.pie(train,values=train['Response'].value_counts(),names=['Class 0','Class 1'],hole=0.6,labels={0:'Response = 0'},color_discrete_sequence=px.colors.sequential.Sunset)\n",
    "#fig.show(showlegend=True)"
   ]
  },
  {
   "cell_type": "code",
   "execution_count": 34,
   "metadata": {},
   "outputs": [
    {
     "name": "stderr",
     "output_type": "stream",
     "text": [
      "/opt/miniconda3/lib/python3.7/site-packages/seaborn/_decorators.py:43: FutureWarning: Pass the following variable as a keyword arg: x. From version 0.12, the only valid positional argument will be `data`, and passing other arguments without an explicit keyword will result in an error or misinterpretation.\n",
      "  FutureWarning\n"
     ]
    },
    {
     "data": {
      "image/png": "[encoded data removed]",
      "text/plain": [
       "<Figure size 432x288 with 1 Axes>"
      ]
     },
     "metadata": {},
     "output_type": "display_data"
    }
   ],
   "source": [
    "sns.countplot(csl_df['high_EBL'])\n",
    "plt.show()"
   ]
  },
  {
   "cell_type": "markdown",
   "metadata": {},
   "source": [
    "We can see from the above visualisations that:\n",
    "\n",
    "* The Data is highly imbalanced"
   ]
  },
  {
   "cell_type": "code",
   "execution_count": 35,
   "metadata": {},
   "outputs": [
    {
     "name": "stderr",
     "output_type": "stream",
     "text": [
      "/opt/miniconda3/lib/python3.7/site-packages/seaborn/_decorators.py:43: FutureWarning: Pass the following variables as keyword args: x, y. From version 0.12, the only valid positional argument will be `data`, and passing other arguments without an explicit keyword will result in an error or misinterpretation.\n",
      "  FutureWarning\n"
     ]
    },
    {
     "data": {
      "image/png": "[encoded data removed]",
      "text/plain": [
       "<Figure size 1440x720 with 1 Axes>"
      ]
     },
     "metadata": {},
     "output_type": "display_data"
    }
   ],
   "source": [
    "plt.figure(figsize=(20,10))\n",
    "sns.barplot(csl_df['new_age'],csl_df['high_EBL'])\n",
    "plt.show()"
   ]
  },
  {
   "cell_type": "code",
   "execution_count": 19,
   "metadata": {},
   "outputs": [
    {
     "name": "stderr",
     "output_type": "stream",
     "text": [
      "/opt/miniconda3/lib/python3.7/site-packages/seaborn/_decorators.py:43: FutureWarning: Pass the following variable as a keyword arg: x. From version 0.12, the only valid positional argument will be `data`, and passing other arguments without an explicit keyword will result in an error or misinterpretation.\n",
      "  FutureWarning\n"
     ]
    },
    {
     "data": {
      "image/png": "[encoded data removed]",
      "text/plain": [
       "<Figure size 432x288 with 1 Axes>"
      ]
     },
     "metadata": {},
     "output_type": "display_data"
    }
   ],
   "source": [
    "sns.boxplot(csl_df['new_age'])\n",
    "plt.show()"
   ]
  },
  {
   "cell_type": "code",
   "execution_count": 20,
   "metadata": {},
   "outputs": [
    {
     "name": "stderr",
     "output_type": "stream",
     "text": [
      "/opt/miniconda3/lib/python3.7/site-packages/seaborn/_decorators.py:43: FutureWarning: Pass the following variables as keyword args: x, y. From version 0.12, the only valid positional argument will be `data`, and passing other arguments without an explicit keyword will result in an error or misinterpretation.\n",
      "  FutureWarning\n"
     ]
    },
    {
     "data": {
      "image/png": "[encoded data removed]",
      "text/plain": [
       "<Figure size 1440x720 with 1 Axes>"
      ]
     },
     "metadata": {},
     "output_type": "display_data"
    }
   ],
   "source": [
    "plt.figure(figsize=(20,10))\n",
    "sns.barplot(csl_df['new_BMI'],csl_df['high_EBL'])\n",
    "plt.show()"
   ]
  },
  {
   "cell_type": "code",
   "execution_count": 21,
   "metadata": {},
   "outputs": [
    {
     "name": "stderr",
     "output_type": "stream",
     "text": [
      "/opt/miniconda3/lib/python3.7/site-packages/seaborn/_decorators.py:43: FutureWarning: Pass the following variable as a keyword arg: x. From version 0.12, the only valid positional argument will be `data`, and passing other arguments without an explicit keyword will result in an error or misinterpretation.\n",
      "  FutureWarning\n"
     ]
    },
    {
     "data": {
      "image/png": "[encoded data removed]",
      "text/plain": [
       "<Figure size 432x288 with 1 Axes>"
      ]
     },
     "metadata": {},
     "output_type": "display_data"
    }
   ],
   "source": [
    "sns.boxplot(csl_df['new_BMI'])\n",
    "plt.show()"
   ]
  },
  {
   "cell_type": "markdown",
   "metadata": {},
   "source": [
    "<h1 align='center'>Modelling</h1>"
   ]
  },
  {
   "cell_type": "code",
   "execution_count": 28,
   "metadata": {},
   "outputs": [],
   "source": [
    "#X = all_features.iloc[:len(train),:]\n",
    "#X_test = all_features.iloc[len(train):,:]\n",
    "\n",
    "#kf = StratifiedKFold(n_splits=12,shuffle=True,random_state=42)"
   ]
  },
  {
   "cell_type": "markdown",
   "metadata": {},
   "source": [
    "We define resplit our train and test set, and set up 12 Fold Stratified Cross Validation. It is important to stratify as this ensures that during our training and validation, we split according to target distribution"
   ]
  },
  {
   "cell_type": "code",
   "execution_count": 29,
   "metadata": {},
   "outputs": [],
   "source": [
    "#for train_index,val_index in kf.split(X,y):\n",
    "#    X_train,X_val = X.iloc[train_index],X.iloc[val_index],\n",
    "#    y_train,y_val = y.iloc[train_index],y.iloc[val_index],"
   ]
  },
  {
   "cell_type": "code",
   "execution_count": 46,
   "metadata": {},
   "outputs": [
    {
     "name": "stdout",
     "output_type": "stream",
     "text": [
      "(95540, 195)\n",
      "(136487, 195)\n",
      "(136487,)\n"
     ]
    }
   ],
   "source": [
    "# MWB\n",
    "print(X_train.shape)\n",
    "print(X.shape)\n",
    "print(y.shape)"
   ]
  },
  {
   "cell_type": "markdown",
   "metadata": {},
   "source": [
    "Here we define our validation set"
   ]
  },
  {
   "cell_type": "markdown",
   "metadata": {},
   "source": [
    "<h1 align='center'>Modelling Using Undersampling</h1>"
   ]
  },
  {
   "cell_type": "markdown",
   "metadata": {},
   "source": [
    "We will use `imblearn`'s RandomUnderSampler to undersample from the majority class so that they match"
   ]
  },
  {
   "cell_type": "code",
   "execution_count": 45,
   "metadata": {},
   "outputs": [],
   "source": [
    "sampler = RandomUnderSampler(sampling_strategy=1.0, random_state=7)\n",
    "X_rus, y_rus = sampler.fit_resample(X_train, y_train)"
   ]
  },
  {
   "cell_type": "code",
   "execution_count": 48,
   "metadata": {},
   "outputs": [
    {
     "name": "stdout",
     "output_type": "stream",
     "text": [
      "(8064, 195)\n",
      "(8064,)\n",
      "[4032 4032]\n"
     ]
    }
   ],
   "source": [
    "print(X_rus.shape)\n",
    "print(y_rus.shape)\n",
    "print(np.bincount(y_rus))"
   ]
  },
  {
   "cell_type": "markdown",
   "metadata": {},
   "source": [
    "<h1 align='center'>Basic LightGBM</h1>"
   ]
  },
  {
   "cell_type": "markdown",
   "metadata": {},
   "source": [
    "Let's fit a vanilla LGBMClassifier on the undersampled data and evaluate it"
   ]
  },
  {
   "cell_type": "code",
   "execution_count": 54,
   "metadata": {},
   "outputs": [
    {
     "name": "stdout",
     "output_type": "stream",
     "text": [
      "[[30820  8399]\n",
      " [  197  1531]]\n",
      "              precision    recall  f1-score   support\n",
      "\n",
      "           0       0.99      0.79      0.88     39219\n",
      "           1       0.15      0.89      0.26      1728\n",
      "\n",
      "    accuracy                           0.79     40947\n",
      "   macro avg       0.57      0.84      0.57     40947\n",
      "weighted avg       0.96      0.79      0.85     40947\n",
      "\n",
      "ROC AUC Score: 0.8359194832932451\n",
      "MCC: 0.31514527276704923\n"
     ]
    }
   ],
   "source": [
    "from sklearn.metrics import matthews_corrcoef\n",
    "lgb_rus = LGBMClassifier()\n",
    "lgb_rus.fit(X_rus, y_rus)\n",
    "y_pred = lgb_rus.predict(X_test)\n",
    "print(confusion_matrix(y_pred=y_pred, y_true=y_test))\n",
    "print(classification_report(y_test, y_pred))\n",
    "print(f'ROC AUC Score: {roc_auc_score(y_test, y_pred)}')\n",
    "print(f'MCC: {matthews_corrcoef(y_test, y_pred)}')"
   ]
  },
  {
   "cell_type": "markdown",
   "metadata": {},
   "source": [
    "<h1 align='center'>Hyperparameter Tuning</h1>"
   ]
  },
  {
   "cell_type": "code",
   "execution_count": 56,
   "metadata": {},
   "outputs": [
    {
     "name": "stderr",
     "output_type": "stream",
     "text": [
      "\u001b[32m[I 2021-11-30 18:41:00,088]\u001b[0m A new study created in memory with name: no-name-82096b05-1bcf-4d71-9cad-e730aadf253e\u001b[0m\n",
      "\u001b[32m[I 2021-11-30 18:41:01,641]\u001b[0m Trial 0 finished with value: 0.2993033882418646 and parameters: {'n_estimators': 250, 'num_leaves': 476, 'max_depth': 16, 'learning_rate': 0.5986986183486169, 'min_child_samples': 16}. Best is trial 0 with value: 0.2993033882418646.\u001b[0m\n",
      "\u001b[32m[I 2021-11-30 18:41:02,290]\u001b[0m Trial 1 finished with value: 0.2950260651391619 and parameters: {'n_estimators': 162, 'num_leaves': 38, 'max_depth': 18, 'learning_rate': 0.6011549002420344, 'min_child_samples': 39}. Best is trial 0 with value: 0.2993033882418646.\u001b[0m\n",
      "\u001b[32m[I 2021-11-30 18:41:03,607]\u001b[0m Trial 2 finished with value: 0.30500315771102937 and parameters: {'n_estimators': 108, 'num_leaves': 486, 'max_depth': 18, 'learning_rate': 0.21241787676720833, 'min_child_samples': 17}. Best is trial 2 with value: 0.30500315771102937.\u001b[0m\n",
      "\u001b[32m[I 2021-11-30 18:41:04,845]\u001b[0m Trial 3 finished with value: 0.30110732571590554 and parameters: {'n_estimators': 173, 'num_leaves': 159, 'max_depth': 12, 'learning_rate': 0.43200182414025157, 'min_child_samples': 21}. Best is trial 2 with value: 0.30500315771102937.\u001b[0m\n",
      "\u001b[32m[I 2021-11-30 18:41:06,072]\u001b[0m Trial 4 finished with value: 0.29662041426319463 and parameters: {'n_estimators': 345, 'num_leaves': 78, 'max_depth': 8, 'learning_rate': 0.3664252071093623, 'min_child_samples': 28}. Best is trial 2 with value: 0.30500315771102937.\u001b[0m\n",
      "\u001b[32m[I 2021-11-30 18:41:08,054]\u001b[0m Trial 5 finished with value: 0.3022006819631693 and parameters: {'n_estimators': 414, 'num_leaves': 108, 'max_depth': 12, 'learning_rate': 0.5924553274051563, 'min_child_samples': 11}. Best is trial 2 with value: 0.30500315771102937.\u001b[0m\n",
      "\u001b[32m[I 2021-11-30 18:41:08,883]\u001b[0m Trial 6 finished with value: 0.27754501422020916 and parameters: {'n_estimators': 343, 'num_leaves': 93, 'max_depth': 5, 'learning_rate': 0.9488906486996079, 'min_child_samples': 49}. Best is trial 2 with value: 0.30500315771102937.\u001b[0m\n",
      "\u001b[32m[I 2021-11-30 18:41:09,989]\u001b[0m Trial 7 finished with value: 0.2863488484732427 and parameters: {'n_estimators': 424, 'num_leaves': 159, 'max_depth': 5, 'learning_rate': 0.6842646032095057, 'min_child_samples': 28}. Best is trial 2 with value: 0.30500315771102937.\u001b[0m\n",
      "\u001b[32m[I 2021-11-30 18:41:10,573]\u001b[0m Trial 8 finished with value: 0.2762886590664262 and parameters: {'n_estimators': 148, 'num_leaves': 253, 'max_depth': 4, 'learning_rate': 0.9093294700385742, 'min_child_samples': 20}. Best is trial 2 with value: 0.30500315771102937.\u001b[0m\n",
      "\u001b[32m[I 2021-11-30 18:41:12,869]\u001b[0m Trial 9 finished with value: 0.29870702826834944 and parameters: {'n_estimators': 365, 'num_leaves': 163, 'max_depth': 12, 'learning_rate': 0.5467556083153453, 'min_child_samples': 17}. Best is trial 2 with value: 0.30500315771102937.\u001b[0m\n",
      "\u001b[32m[I 2021-11-30 18:41:15,187]\u001b[0m Trial 10 finished with value: 0.31535293831033606 and parameters: {'n_estimators': 254, 'num_leaves': 467, 'max_depth': 20, 'learning_rate': 0.029702456481993794, 'min_child_samples': 36}. Best is trial 10 with value: 0.31535293831033606.\u001b[0m\n",
      "\u001b[32m[I 2021-11-30 18:41:17,319]\u001b[0m Trial 11 finished with value: 0.3107105703249266 and parameters: {'n_estimators': 254, 'num_leaves': 493, 'max_depth': 20, 'learning_rate': 0.03991332219292948, 'min_child_samples': 36}. Best is trial 10 with value: 0.31535293831033606.\u001b[0m\n",
      "\u001b[32m[I 2021-11-30 18:41:19,251]\u001b[0m Trial 12 finished with value: 0.31440754144399863 and parameters: {'n_estimators': 254, 'num_leaves': 390, 'max_depth': 20, 'learning_rate': 0.03506029238739772, 'min_child_samples': 39}. Best is trial 10 with value: 0.31535293831033606.\u001b[0m\n",
      "\u001b[32m[I 2021-11-30 18:41:20,922]\u001b[0m Trial 13 finished with value: 0.31684458185014486 and parameters: {'n_estimators': 269, 'num_leaves': 384, 'max_depth': 15, 'learning_rate': 0.00458387174227631, 'min_child_samples': 43}. Best is trial 13 with value: 0.31684458185014486.\u001b[0m\n",
      "\u001b[32m[I 2021-11-30 18:41:22,478]\u001b[0m Trial 14 finished with value: 0.30306307899007034 and parameters: {'n_estimators': 295, 'num_leaves': 348, 'max_depth': 15, 'learning_rate': 0.20901588306786265, 'min_child_samples': 48}. Best is trial 13 with value: 0.31684458185014486.\u001b[0m\n",
      "\u001b[32m[I 2021-11-30 18:41:25,840]\u001b[0m Trial 15 finished with value: 0.30053103804052944 and parameters: {'n_estimators': 487, 'num_leaves': 389, 'max_depth': 15, 'learning_rate': 0.187613878170224, 'min_child_samples': 43}. Best is trial 13 with value: 0.31684458185014486.\u001b[0m\n",
      "\u001b[32m[I 2021-11-30 18:41:27,111]\u001b[0m Trial 16 finished with value: 0.3057467358278751 and parameters: {'n_estimators': 231, 'num_leaves': 312, 'max_depth': 10, 'learning_rate': 0.12043890301120572, 'min_child_samples': 33}. Best is trial 13 with value: 0.31684458185014486.\u001b[0m\n",
      "\u001b[32m[I 2021-11-30 18:41:28,449]\u001b[0m Trial 17 finished with value: 0.3033105386012052 and parameters: {'n_estimators': 197, 'num_leaves': 431, 'max_depth': 17, 'learning_rate': 0.3475941887885935, 'min_child_samples': 44}. Best is trial 13 with value: 0.31684458185014486.\u001b[0m\n",
      "\u001b[32m[I 2021-11-30 18:41:30,229]\u001b[0m Trial 18 finished with value: 0.3031593976283732 and parameters: {'n_estimators': 297, 'num_leaves': 270, 'max_depth': 14, 'learning_rate': 0.294312176282855, 'min_child_samples': 32}. Best is trial 13 with value: 0.31684458185014486.\u001b[0m\n",
      "\u001b[32m[I 2021-11-30 18:41:31,780]\u001b[0m Trial 19 finished with value: 0.3219404644321208 and parameters: {'n_estimators': 214, 'num_leaves': 426, 'max_depth': 20, 'learning_rate': 0.011088090324846922, 'min_child_samples': 44}. Best is trial 19 with value: 0.3219404644321208.\u001b[0m\n",
      "\u001b[32m[I 2021-11-30 18:41:33,007]\u001b[0m Trial 20 finished with value: 0.295280597297085 and parameters: {'n_estimators': 207, 'num_leaves': 404, 'max_depth': 18, 'learning_rate': 0.7879278042992451, 'min_child_samples': 45}. Best is trial 19 with value: 0.3219404644321208.\u001b[0m\n",
      "\u001b[32m[I 2021-11-30 18:41:35,431]\u001b[0m Trial 21 finished with value: 0.3154252947785198 and parameters: {'n_estimators': 292, 'num_leaves': 445, 'max_depth': 20, 'learning_rate': 0.002406236767943237, 'min_child_samples': 40}. Best is trial 19 with value: 0.3219404644321208.\u001b[0m\n",
      "\u001b[32m[I 2021-11-30 18:41:37,960]\u001b[0m Trial 22 finished with value: 0.3067762559483838 and parameters: {'n_estimators': 291, 'num_leaves': 328, 'max_depth': 19, 'learning_rate': 0.13053352326577378, 'min_child_samples': 41}. Best is trial 19 with value: 0.3219404644321208.\u001b[0m\n",
      "\u001b[32m[I 2021-11-30 18:41:39,632]\u001b[0m Trial 23 finished with value: 0.30719560092300396 and parameters: {'n_estimators': 319, 'num_leaves': 432, 'max_depth': 14, 'learning_rate': 0.10264099453933935, 'min_child_samples': 46}. Best is trial 19 with value: 0.3219404644321208.\u001b[0m\n",
      "\u001b[32m[I 2021-11-30 18:41:41,094]\u001b[0m Trial 24 finished with value: 0.3020015262530625 and parameters: {'n_estimators': 202, 'num_leaves': 364, 'max_depth': 17, 'learning_rate': 0.2641439594257239, 'min_child_samples': 49}. Best is trial 19 with value: 0.3219404644321208.\u001b[0m\n",
      "\u001b[32m[I 2021-11-30 18:41:42,765]\u001b[0m Trial 25 finished with value: 0.3203308185304002 and parameters: {'n_estimators': 397, 'num_leaves': 281, 'max_depth': 9, 'learning_rate': 0.00655919022991761, 'min_child_samples': 40}. Best is trial 19 with value: 0.3219404644321208.\u001b[0m\n",
      "\u001b[32m[I 2021-11-30 18:41:44,332]\u001b[0m Trial 26 finished with value: 0.3052906420406179 and parameters: {'n_estimators': 392, 'num_leaves': 253, 'max_depth': 10, 'learning_rate': 0.13893663687974006, 'min_child_samples': 36}. Best is trial 19 with value: 0.3219404644321208.\u001b[0m\n",
      "\u001b[32m[I 2021-11-30 18:41:45,918]\u001b[0m Trial 27 finished with value: 0.30623022414321716 and parameters: {'n_estimators': 489, 'num_leaves': 292, 'max_depth': 8, 'learning_rate': 0.09343808076640674, 'min_child_samples': 42}. Best is trial 19 with value: 0.3219404644321208.\u001b[0m\n",
      "\u001b[32m[I 2021-11-30 18:41:47,894]\u001b[0m Trial 28 finished with value: 0.3160614743697295 and parameters: {'n_estimators': 444, 'num_leaves': 203, 'max_depth': 9, 'learning_rate': 0.0017626213612581534, 'min_child_samples': 47}. Best is trial 19 with value: 0.3219404644321208.\u001b[0m\n",
      "\u001b[32m[I 2021-11-30 18:41:48,871]\u001b[0m Trial 29 finished with value: 0.301732425235309 and parameters: {'n_estimators': 227, 'num_leaves': 212, 'max_depth': 7, 'learning_rate': 0.4464541229438891, 'min_child_samples': 25}. Best is trial 19 with value: 0.3219404644321208.\u001b[0m\n"
     ]
    },
    {
     "name": "stderr",
     "output_type": "stream",
     "text": [
      "\u001b[32m[I 2021-11-30 18:41:49,799]\u001b[0m Trial 30 finished with value: 0.3022130576294397 and parameters: {'n_estimators': 117, 'num_leaves': 358, 'max_depth': 11, 'learning_rate': 0.28419076646436664, 'min_child_samples': 34}. Best is trial 19 with value: 0.3219404644321208.\u001b[0m\n",
      "\u001b[32m[I 2021-11-30 18:41:51,598]\u001b[0m Trial 31 finished with value: 0.309323980676666 and parameters: {'n_estimators': 453, 'num_leaves': 221, 'max_depth': 9, 'learning_rate': 0.06470861479578509, 'min_child_samples': 48}. Best is trial 19 with value: 0.3219404644321208.\u001b[0m\n",
      "\u001b[32m[I 2021-11-30 18:41:53,108]\u001b[0m Trial 32 finished with value: 0.30277118148353954 and parameters: {'n_estimators': 466, 'num_leaves': 204, 'max_depth': 7, 'learning_rate': 0.1750841453254722, 'min_child_samples': 46}. Best is trial 19 with value: 0.3219404644321208.\u001b[0m\n",
      "\u001b[32m[I 2021-11-30 18:41:54,956]\u001b[0m Trial 33 finished with value: 0.3066738682867458 and parameters: {'n_estimators': 387, 'num_leaves': 304, 'max_depth': 13, 'learning_rate': 0.07805498401213935, 'min_child_samples': 50}. Best is trial 19 with value: 0.3219404644321208.\u001b[0m\n",
      "\u001b[32m[I 2021-11-30 18:41:57,106]\u001b[0m Trial 34 finished with value: 0.3136486196437218 and parameters: {'n_estimators': 428, 'num_leaves': 408, 'max_depth': 9, 'learning_rate': 0.0015930484162780356, 'min_child_samples': 38}. Best is trial 19 with value: 0.3219404644321208.\u001b[0m\n",
      "\u001b[32m[I 2021-11-30 18:41:58,902]\u001b[0m Trial 35 finished with value: 0.30209548153280064 and parameters: {'n_estimators': 448, 'num_leaves': 28, 'max_depth': 11, 'learning_rate': 0.15111019165945944, 'min_child_samples': 43}. Best is trial 19 with value: 0.3219404644321208.\u001b[0m\n",
      "\u001b[32m[I 2021-11-30 18:41:59,830]\u001b[0m Trial 36 finished with value: 0.31200507617681156 and parameters: {'n_estimators': 327, 'num_leaves': 185, 'max_depth': 7, 'learning_rate': 0.07670545250045416, 'min_child_samples': 47}. Best is trial 19 with value: 0.3219404644321208.\u001b[0m\n",
      "\u001b[32m[I 2021-11-30 18:42:02,291]\u001b[0m Trial 37 finished with value: 0.3052455443016876 and parameters: {'n_estimators': 271, 'num_leaves': 270, 'max_depth': 16, 'learning_rate': 0.2480406812239873, 'min_child_samples': 38}. Best is trial 19 with value: 0.3219404644321208.\u001b[0m\n",
      "\u001b[32m[I 2021-11-30 18:42:04,916]\u001b[0m Trial 38 finished with value: 0.3151495185825008 and parameters: {'n_estimators': 369, 'num_leaves': 121, 'max_depth': 13, 'learning_rate': 0.0022846581638183584, 'min_child_samples': 44}. Best is trial 19 with value: 0.3219404644321208.\u001b[0m\n",
      "\u001b[32m[I 2021-11-30 18:42:05,817]\u001b[0m Trial 39 finished with value: 0.2931766538805452 and parameters: {'n_estimators': 174, 'num_leaves': 458, 'max_depth': 10, 'learning_rate': 0.6652081119630039, 'min_child_samples': 41}. Best is trial 19 with value: 0.3219404644321208.\u001b[0m\n",
      "\u001b[32m[I 2021-11-30 18:42:07,126]\u001b[0m Trial 40 finished with value: 0.2997588002804209 and parameters: {'n_estimators': 397, 'num_leaves': 59, 'max_depth': 8, 'learning_rate': 0.4177016184495774, 'min_child_samples': 30}. Best is trial 19 with value: 0.3219404644321208.\u001b[0m\n",
      "\u001b[32m[I 2021-11-30 18:42:08,925]\u001b[0m Trial 41 finished with value: 0.3118549309919007 and parameters: {'n_estimators': 278, 'num_leaves': 422, 'max_depth': 19, 'learning_rate': 0.05828331108683283, 'min_child_samples': 40}. Best is trial 19 with value: 0.3219404644321208.\u001b[0m\n",
      "\u001b[32m[I 2021-11-30 18:42:11,201]\u001b[0m Trial 42 finished with value: 0.3143400146817325 and parameters: {'n_estimators': 333, 'num_leaves': 462, 'max_depth': 19, 'learning_rate': 0.0016688623866329012, 'min_child_samples': 45}. Best is trial 19 with value: 0.3219404644321208.\u001b[0m\n",
      "\u001b[32m[I 2021-11-30 18:42:12,595]\u001b[0m Trial 43 finished with value: 0.3071375003718753 and parameters: {'n_estimators': 227, 'num_leaves': 453, 'max_depth': 18, 'learning_rate': 0.1047444447438145, 'min_child_samples': 41}. Best is trial 19 with value: 0.3219404644321208.\u001b[0m\n",
      "\u001b[32m[I 2021-11-30 18:42:13,548]\u001b[0m Trial 44 finished with value: 0.2976209534711737 and parameters: {'n_estimators': 357, 'num_leaves': 492, 'max_depth': 6, 'learning_rate': 0.21583297205567106, 'min_child_samples': 38}. Best is trial 19 with value: 0.3219404644321208.\u001b[0m\n",
      "\u001b[32m[I 2021-11-30 18:42:15,589]\u001b[0m Trial 45 finished with value: 0.31149816693525745 and parameters: {'n_estimators': 308, 'num_leaves': 137, 'max_depth': 17, 'learning_rate': 0.040600954859649534, 'min_child_samples': 50}. Best is trial 19 with value: 0.3219404644321208.\u001b[0m\n",
      "\u001b[32m[I 2021-11-30 18:42:17,455]\u001b[0m Trial 46 finished with value: 0.3086647672948583 and parameters: {'n_estimators': 268, 'num_leaves': 379, 'max_depth': 20, 'learning_rate': 0.15325576908140187, 'min_child_samples': 35}. Best is trial 19 with value: 0.3219404644321208.\u001b[0m\n",
      "\u001b[32m[I 2021-11-30 18:42:19,691]\u001b[0m Trial 47 finished with value: 0.32004541592900765 and parameters: {'n_estimators': 428, 'num_leaves': 435, 'max_depth': 11, 'learning_rate': 0.0056304077708602945, 'min_child_samples': 43}. Best is trial 19 with value: 0.3219404644321208.\u001b[0m\n",
      "\u001b[32m[I 2021-11-30 18:42:21,373]\u001b[0m Trial 48 finished with value: 0.29037506360136595 and parameters: {'n_estimators': 415, 'num_leaves': 326, 'max_depth': 11, 'learning_rate': 0.832110218548128, 'min_child_samples': 47}. Best is trial 19 with value: 0.3219404644321208.\u001b[0m\n",
      "\u001b[32m[I 2021-11-30 18:42:23,123]\u001b[0m Trial 49 finished with value: 0.3094037071357606 and parameters: {'n_estimators': 437, 'num_leaves': 337, 'max_depth': 9, 'learning_rate': 0.06497864646068627, 'min_child_samples': 43}. Best is trial 19 with value: 0.3219404644321208.\u001b[0m\n",
      "\u001b[32m[I 2021-11-30 18:42:25,504]\u001b[0m Trial 50 finished with value: 0.3006585665139365 and parameters: {'n_estimators': 473, 'num_leaves': 377, 'max_depth': 12, 'learning_rate': 0.21918242721343667, 'min_child_samples': 44}. Best is trial 19 with value: 0.3219404644321208.\u001b[0m\n",
      "\u001b[32m[I 2021-11-30 18:42:27,632]\u001b[0m Trial 51 finished with value: 0.312551861061128 and parameters: {'n_estimators': 407, 'num_leaves': 444, 'max_depth': 10, 'learning_rate': 0.0009607582565954119, 'min_child_samples': 39}. Best is trial 19 with value: 0.3219404644321208.\u001b[0m\n",
      "\u001b[32m[I 2021-11-30 18:42:28,705]\u001b[0m Trial 52 finished with value: 0.3160594909404531 and parameters: {'n_estimators': 243, 'num_leaves': 410, 'max_depth': 8, 'learning_rate': 0.0416090983664801, 'min_child_samples': 12}. Best is trial 19 with value: 0.3219404644321208.\u001b[0m\n",
      "\u001b[32m[I 2021-11-30 18:42:30,040]\u001b[0m Trial 53 finished with value: 0.31362001446962423 and parameters: {'n_estimators': 239, 'num_leaves': 226, 'max_depth': 9, 'learning_rate': 0.04072541246660658, 'min_child_samples': 13}. Best is trial 19 with value: 0.3219404644321208.\u001b[0m\n",
      "\u001b[32m[I 2021-11-30 18:42:30,714]\u001b[0m Trial 54 finished with value: 0.3143058979110277 and parameters: {'n_estimators': 180, 'num_leaves': 479, 'max_depth': 6, 'learning_rate': 0.10963476813575693, 'min_child_samples': 22}. Best is trial 19 with value: 0.3219404644321208.\u001b[0m\n",
      "\u001b[32m[I 2021-11-30 18:42:31,851]\u001b[0m Trial 55 finished with value: 0.31478167172738847 and parameters: {'n_estimators': 244, 'num_leaves': 406, 'max_depth': 8, 'learning_rate': 0.04175780280549414, 'min_child_samples': 10}. Best is trial 19 with value: 0.3219404644321208.\u001b[0m\n",
      "\u001b[32m[I 2021-11-30 18:42:33,082]\u001b[0m Trial 56 finished with value: 0.3060039039997283 and parameters: {'n_estimators': 155, 'num_leaves': 415, 'max_depth': 11, 'learning_rate': 0.1774713390855827, 'min_child_samples': 16}. Best is trial 19 with value: 0.3219404644321208.\u001b[0m\n",
      "\u001b[32m[I 2021-11-30 18:42:34,851]\u001b[0m Trial 57 finished with value: 0.30879413801982597 and parameters: {'n_estimators': 215, 'num_leaves': 389, 'max_depth': 12, 'learning_rate': 0.08660828892501593, 'min_child_samples': 13}. Best is trial 19 with value: 0.3219404644321208.\u001b[0m\n",
      "\u001b[32m[I 2021-11-30 18:42:36,520]\u001b[0m Trial 58 finished with value: 0.3072892054363189 and parameters: {'n_estimators': 259, 'num_leaves': 185, 'max_depth': 13, 'learning_rate': 0.12077974250328119, 'min_child_samples': 27}. Best is trial 19 with value: 0.3219404644321208.\u001b[0m\n",
      "\u001b[32m[I 2021-11-30 18:42:37,441]\u001b[0m Trial 59 finished with value: 0.2961245167844597 and parameters: {'n_estimators': 499, 'num_leaves': 283, 'max_depth': 4, 'learning_rate': 0.3427576312031805, 'min_child_samples': 23}. Best is trial 19 with value: 0.3219404644321208.\u001b[0m\n"
     ]
    }
   ],
   "source": [
    "def create_model(trial):\n",
    "    n_estimators = trial.suggest_int('n_estimators',100,500)\n",
    "    num_leaves = trial.suggest_int('num_leaves',10,500)\n",
    "    max_depth = trial.suggest_int('max_depth',4,20)\n",
    "    learning_rate = trial.suggest_uniform('learning_rate',0.0001,1)\n",
    "    min_child_samples = trial.suggest_int('min_child_samples',10,50)\n",
    "#    model = LGBMClassifier(n_estimators=n_estimators, num_leaves=num_leaves, \n",
    "#                           max_depth=max_depth, learning_rate=learning_rate, \n",
    "#                           min_child_samples=min_child_samples, class_weight='balanced')\n",
    "    model = LGBMClassifier(n_estimators=n_estimators, num_leaves=num_leaves, \n",
    "                           max_depth=max_depth, learning_rate=learning_rate, \n",
    "                           min_child_samples=min_child_samples)\n",
    "    return model\n",
    "\n",
    "def objective(trial):\n",
    "    model = create_model(trial)\n",
    "    model.fit(X_rus, y_rus)\n",
    "    #score = roc_auc_score(y_val,model.predict(X_val))\n",
    "    score = matthews_corrcoef(y_test, model.predict(X_test))  # MWB\n",
    "    return score\n",
    "\n",
    "sampler = TPESampler(seed=42)\n",
    "study = optuna.create_study(sampler=sampler,direction='maximize')\n",
    "study.optimize(objective,n_trials=60)"
   ]
  },
  {
   "cell_type": "code",
   "execution_count": 61,
   "metadata": {},
   "outputs": [
    {
     "name": "stdout",
     "output_type": "stream",
     "text": [
      "              precision    recall  f1-score   support\n",
      "\n",
      "           0       0.99      0.79      0.88     39219\n",
      "           1       0.16      0.89      0.27      1728\n",
      "\n",
      "    accuracy                           0.80     40947\n",
      "   macro avg       0.58      0.84      0.58     40947\n",
      "weighted avg       0.96      0.80      0.86     40947\n",
      "\n",
      "ROC AUC Score: 0.839654917649042\n",
      "MCC: 0.3219404644321208\n"
     ]
    }
   ],
   "source": [
    "lgb_params = study.best_params\n",
    "lgb_params['random_state'] = 42\n",
    "lgb = LGBMClassifier(**lgb_params)\n",
    "lgb.fit(X_rus, y_rus)\n",
    "preds = lgb.predict(X_test)\n",
    "print(classification_report(y_test,lgb.predict(X_test)))\n",
    "print(f'ROC AUC Score: {roc_auc_score(y_test, preds)}')\n",
    "print(f'MCC: {matthews_corrcoef(y_test, preds)}')"
   ]
  },
  {
   "cell_type": "code",
   "execution_count": 64,
   "metadata": {
    "scrolled": true
   },
   "outputs": [
    {
     "data": {
      "image/png": "[encoded data removed]",
      "text/plain": [
       "<Figure size 432x288 with 2 Axes>"
      ]
     },
     "metadata": {},
     "output_type": "display_data"
    }
   ],
   "source": [
    "sns.heatmap(confusion_matrix(y_test, preds), cmap='magma', annot=True, fmt='g')\n",
    "plt.show()"
   ]
  },
  {
   "cell_type": "code",
   "execution_count": 65,
   "metadata": {},
   "outputs": [
    {
     "data": {
      "text/plain": [
       "{'n_estimators': 214,\n",
       " 'num_leaves': 426,\n",
       " 'max_depth': 20,\n",
       " 'learning_rate': 0.011,\n",
       " 'min_child_samples': 44,\n",
       " 'random_state': 42}"
      ]
     },
     "execution_count": 65,
     "metadata": {},
     "output_type": "execute_result"
    }
   ],
   "source": [
    "lgb_params"
   ]
  },
  {
   "cell_type": "markdown",
   "metadata": {},
   "source": [
    "<h1 align='center'>Thanks and make sure to learn!</h1>"
   ]
  }
 ],
 "metadata": {
  "kernelspec": {
   "display_name": "Python 3 (ipykernel)",
   "language": "python",
   "name": "python3"
  },
  "language_info": {
   "codemirror_mode": {
    "name": "ipython",
    "version": 3
   },
   "file_extension": ".py",
   "mimetype": "text/x-python",
   "name": "python",
   "nbconvert_exporter": "python",
   "pygments_lexer": "ipython3",
   "version": "3.9.10"
  }
 },
 "nbformat": 4,
 "nbformat_minor": 4
}
