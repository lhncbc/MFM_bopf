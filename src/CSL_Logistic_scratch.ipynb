{
 "cells": [
  {
   "cell_type": "code",
   "execution_count": 1,
   "metadata": {},
   "outputs": [],
   "source": [
    "# Code credit: Saeed Abdul Rahim\n",
    "# https://medium.com/@saeedAR/smote-and-near-miss-in-python-machine-learning-in-imbalanced-datasets-b7976d9a7a79\n",
    "import numpy as np\n",
    "import pandas as pd\n",
    "from sklearn.linear_model import LogisticRegression\n",
    "from sklearn.model_selection import train_test_split\n",
    "from sklearn.metrics import accuracy_score, balanced_accuracy_score, confusion_matrix, recall_score, \\\n",
    "                            classification_report, roc_auc_score, precision_score, \\\n",
    "                            f1_score\n",
    "#from imblearn.over_sampling import SMOTE"
   ]
  },
  {
   "cell_type": "code",
   "execution_count": 3,
   "metadata": {},
   "outputs": [],
   "source": [
    "df = pd.read_csv('../data/csl/CSL_June/onepreg_norm.csv', usecols=list(range(1,253)))"
   ]
  },
  {
   "cell_type": "code",
   "execution_count": 4,
   "metadata": {
    "scrolled": true
   },
   "outputs": [
    {
     "name": "stdout",
     "output_type": "stream",
     "text": [
      "(189916, 252)\n"
     ]
    },
    {
     "data": {
      "text/html": [
       "<div>\n",
       "<style scoped>\n",
       "    .dataframe tbody tr th:only-of-type {\n",
       "        vertical-align: middle;\n",
       "    }\n",
       "\n",
       "    .dataframe tbody tr th {\n",
       "        vertical-align: top;\n",
       "    }\n",
       "\n",
       "    .dataframe thead th {\n",
       "        text-align: right;\n",
       "    }\n",
       "</style>\n",
       "<table border=\"1\" class=\"dataframe\">\n",
       "  <thead>\n",
       "    <tr style=\"text-align: right;\">\n",
       "      <th></th>\n",
       "      <th>MomID</th>\n",
       "      <th>Sitenum</th>\n",
       "      <th>MomNearMiss</th>\n",
       "      <th>Momdeath</th>\n",
       "      <th>MomICU</th>\n",
       "      <th>Activeherpes</th>\n",
       "      <th>Alcohol</th>\n",
       "      <th>Anteabruption</th>\n",
       "      <th>Anteanemia</th>\n",
       "      <th>Anteasthma</th>\n",
       "      <th>...</th>\n",
       "      <th>vertex</th>\n",
       "      <th>vertex_new</th>\n",
       "      <th>Momage</th>\n",
       "      <th>Preweight</th>\n",
       "      <th>Admweight</th>\n",
       "      <th>Admtemp</th>\n",
       "      <th>AdmSBP</th>\n",
       "      <th>AdmDBP</th>\n",
       "      <th>AdmFHR</th>\n",
       "      <th>Birthweight1</th>\n",
       "    </tr>\n",
       "  </thead>\n",
       "  <tbody>\n",
       "    <tr>\n",
       "      <th>0</th>\n",
       "      <td>41-00002</td>\n",
       "      <td>41</td>\n",
       "      <td>1</td>\n",
       "      <td>1</td>\n",
       "      <td>1</td>\n",
       "      <td>1</td>\n",
       "      <td>1</td>\n",
       "      <td>1</td>\n",
       "      <td>2</td>\n",
       "      <td>1</td>\n",
       "      <td>...</td>\n",
       "      <td>9</td>\n",
       "      <td>9</td>\n",
       "      <td>1.513764</td>\n",
       "      <td>1.304124</td>\n",
       "      <td>1.242846</td>\n",
       "      <td>1.152457</td>\n",
       "      <td>1.998093</td>\n",
       "      <td>0.853841</td>\n",
       "      <td>0.029027</td>\n",
       "      <td>-0.488526</td>\n",
       "    </tr>\n",
       "    <tr>\n",
       "      <th>1</th>\n",
       "      <td>41-00003</td>\n",
       "      <td>41</td>\n",
       "      <td>1</td>\n",
       "      <td>1</td>\n",
       "      <td>1</td>\n",
       "      <td>1</td>\n",
       "      <td>1</td>\n",
       "      <td>1</td>\n",
       "      <td>1</td>\n",
       "      <td>1</td>\n",
       "      <td>...</td>\n",
       "      <td>1</td>\n",
       "      <td>1</td>\n",
       "      <td>1.352260</td>\n",
       "      <td>-0.275241</td>\n",
       "      <td>-0.022888</td>\n",
       "      <td>0.246083</td>\n",
       "      <td>-1.444831</td>\n",
       "      <td>0.266498</td>\n",
       "      <td>0.029027</td>\n",
       "      <td>0.977089</td>\n",
       "    </tr>\n",
       "    <tr>\n",
       "      <th>2</th>\n",
       "      <td>41-00004</td>\n",
       "      <td>41</td>\n",
       "      <td>1</td>\n",
       "      <td>1</td>\n",
       "      <td>1</td>\n",
       "      <td>1</td>\n",
       "      <td>1</td>\n",
       "      <td>1</td>\n",
       "      <td>1</td>\n",
       "      <td>1</td>\n",
       "      <td>...</td>\n",
       "      <td>1</td>\n",
       "      <td>1</td>\n",
       "      <td>1.029253</td>\n",
       "      <td>1.455986</td>\n",
       "      <td>1.242846</td>\n",
       "      <td>-3.709006</td>\n",
       "      <td>-0.144171</td>\n",
       "      <td>-0.908188</td>\n",
       "      <td>0.029027</td>\n",
       "      <td>0.574889</td>\n",
       "    </tr>\n",
       "    <tr>\n",
       "      <th>3</th>\n",
       "      <td>41-00005</td>\n",
       "      <td>41</td>\n",
       "      <td>1</td>\n",
       "      <td>1</td>\n",
       "      <td>1</td>\n",
       "      <td>1</td>\n",
       "      <td>1</td>\n",
       "      <td>1</td>\n",
       "      <td>1</td>\n",
       "      <td>1</td>\n",
       "      <td>...</td>\n",
       "      <td>1</td>\n",
       "      <td>1</td>\n",
       "      <td>0.544742</td>\n",
       "      <td>-1.004179</td>\n",
       "      <td>-1.343653</td>\n",
       "      <td>-1.237076</td>\n",
       "      <td>1.079980</td>\n",
       "      <td>0.266498</td>\n",
       "      <td>0.029027</td>\n",
       "      <td>0.003766</td>\n",
       "    </tr>\n",
       "    <tr>\n",
       "      <th>4</th>\n",
       "      <td>41-00006</td>\n",
       "      <td>41</td>\n",
       "      <td>1</td>\n",
       "      <td>1</td>\n",
       "      <td>1</td>\n",
       "      <td>1</td>\n",
       "      <td>1</td>\n",
       "      <td>1</td>\n",
       "      <td>1</td>\n",
       "      <td>1</td>\n",
       "      <td>...</td>\n",
       "      <td>1</td>\n",
       "      <td>1</td>\n",
       "      <td>-1.070294</td>\n",
       "      <td>-0.275241</td>\n",
       "      <td>-0.298047</td>\n",
       "      <td>-0.770156</td>\n",
       "      <td>0.773942</td>\n",
       "      <td>2.322200</td>\n",
       "      <td>0.790118</td>\n",
       "      <td>0.861255</td>\n",
       "    </tr>\n",
       "    <tr>\n",
       "      <th>...</th>\n",
       "      <td>...</td>\n",
       "      <td>...</td>\n",
       "      <td>...</td>\n",
       "      <td>...</td>\n",
       "      <td>...</td>\n",
       "      <td>...</td>\n",
       "      <td>...</td>\n",
       "      <td>...</td>\n",
       "      <td>...</td>\n",
       "      <td>...</td>\n",
       "      <td>...</td>\n",
       "      <td>...</td>\n",
       "      <td>...</td>\n",
       "      <td>...</td>\n",
       "      <td>...</td>\n",
       "      <td>...</td>\n",
       "      <td>...</td>\n",
       "      <td>...</td>\n",
       "      <td>...</td>\n",
       "      <td>...</td>\n",
       "      <td>...</td>\n",
       "    </tr>\n",
       "    <tr>\n",
       "      <th>189911</th>\n",
       "      <td>52-07247</td>\n",
       "      <td>52</td>\n",
       "      <td>1</td>\n",
       "      <td>1</td>\n",
       "      <td>1</td>\n",
       "      <td>1</td>\n",
       "      <td>1</td>\n",
       "      <td>1</td>\n",
       "      <td>1</td>\n",
       "      <td>1</td>\n",
       "      <td>...</td>\n",
       "      <td>1</td>\n",
       "      <td>1</td>\n",
       "      <td>-1.393301</td>\n",
       "      <td>2.670600</td>\n",
       "      <td>2.123366</td>\n",
       "      <td>-0.001110</td>\n",
       "      <td>-0.067661</td>\n",
       "      <td>-0.027173</td>\n",
       "      <td>0.029027</td>\n",
       "      <td>1.861927</td>\n",
       "    </tr>\n",
       "    <tr>\n",
       "      <th>189912</th>\n",
       "      <td>52-07248</td>\n",
       "      <td>52</td>\n",
       "      <td>1</td>\n",
       "      <td>1</td>\n",
       "      <td>1</td>\n",
       "      <td>1</td>\n",
       "      <td>1</td>\n",
       "      <td>2</td>\n",
       "      <td>1</td>\n",
       "      <td>1</td>\n",
       "      <td>...</td>\n",
       "      <td>0</td>\n",
       "      <td>0</td>\n",
       "      <td>1.029253</td>\n",
       "      <td>-0.214497</td>\n",
       "      <td>2.040744</td>\n",
       "      <td>-0.001110</td>\n",
       "      <td>-0.067661</td>\n",
       "      <td>-0.027173</td>\n",
       "      <td>0.029027</td>\n",
       "      <td>-4.621526</td>\n",
       "    </tr>\n",
       "    <tr>\n",
       "      <th>189913</th>\n",
       "      <td>52-07249</td>\n",
       "      <td>52</td>\n",
       "      <td>2</td>\n",
       "      <td>1</td>\n",
       "      <td>2</td>\n",
       "      <td>1</td>\n",
       "      <td>1</td>\n",
       "      <td>2</td>\n",
       "      <td>1</td>\n",
       "      <td>1</td>\n",
       "      <td>...</td>\n",
       "      <td>9</td>\n",
       "      <td>9</td>\n",
       "      <td>0.060231</td>\n",
       "      <td>-0.639887</td>\n",
       "      <td>-1.398685</td>\n",
       "      <td>-0.001110</td>\n",
       "      <td>-0.067661</td>\n",
       "      <td>-0.027173</td>\n",
       "      <td>0.029027</td>\n",
       "      <td>-3.522717</td>\n",
       "    </tr>\n",
       "    <tr>\n",
       "      <th>189914</th>\n",
       "      <td>52-07250</td>\n",
       "      <td>52</td>\n",
       "      <td>1</td>\n",
       "      <td>1</td>\n",
       "      <td>1</td>\n",
       "      <td>1</td>\n",
       "      <td>1</td>\n",
       "      <td>1</td>\n",
       "      <td>1</td>\n",
       "      <td>1</td>\n",
       "      <td>...</td>\n",
       "      <td>1</td>\n",
       "      <td>1</td>\n",
       "      <td>-1.877812</td>\n",
       "      <td>-0.548822</td>\n",
       "      <td>-0.463152</td>\n",
       "      <td>-0.001110</td>\n",
       "      <td>-0.067661</td>\n",
       "      <td>-0.027173</td>\n",
       "      <td>0.029027</td>\n",
       "      <td>-1.001732</td>\n",
       "    </tr>\n",
       "    <tr>\n",
       "      <th>189915</th>\n",
       "      <td>52-07251</td>\n",
       "      <td>52</td>\n",
       "      <td>1</td>\n",
       "      <td>1</td>\n",
       "      <td>1</td>\n",
       "      <td>1</td>\n",
       "      <td>1</td>\n",
       "      <td>1</td>\n",
       "      <td>1</td>\n",
       "      <td>1</td>\n",
       "      <td>...</td>\n",
       "      <td>1</td>\n",
       "      <td>1</td>\n",
       "      <td>2.644289</td>\n",
       "      <td>0.878759</td>\n",
       "      <td>0.444841</td>\n",
       "      <td>-0.001110</td>\n",
       "      <td>-0.067661</td>\n",
       "      <td>-0.027173</td>\n",
       "      <td>0.029027</td>\n",
       "      <td>-3.849303</td>\n",
       "    </tr>\n",
       "  </tbody>\n",
       "</table>\n",
       "<p>189916 rows × 252 columns</p>\n",
       "</div>"
      ],
      "text/plain": [
       "           MomID  Sitenum  MomNearMiss  Momdeath  MomICU  Activeherpes  \\\n",
       "0       41-00002       41            1         1       1             1   \n",
       "1       41-00003       41            1         1       1             1   \n",
       "2       41-00004       41            1         1       1             1   \n",
       "3       41-00005       41            1         1       1             1   \n",
       "4       41-00006       41            1         1       1             1   \n",
       "...          ...      ...          ...       ...     ...           ...   \n",
       "189911  52-07247       52            1         1       1             1   \n",
       "189912  52-07248       52            1         1       1             1   \n",
       "189913  52-07249       52            2         1       2             1   \n",
       "189914  52-07250       52            1         1       1             1   \n",
       "189915  52-07251       52            1         1       1             1   \n",
       "\n",
       "        Alcohol  Anteabruption  Anteanemia  Anteasthma  ...  vertex  \\\n",
       "0             1              1           2           1  ...       9   \n",
       "1             1              1           1           1  ...       1   \n",
       "2             1              1           1           1  ...       1   \n",
       "3             1              1           1           1  ...       1   \n",
       "4             1              1           1           1  ...       1   \n",
       "...         ...            ...         ...         ...  ...     ...   \n",
       "189911        1              1           1           1  ...       1   \n",
       "189912        1              2           1           1  ...       0   \n",
       "189913        1              2           1           1  ...       9   \n",
       "189914        1              1           1           1  ...       1   \n",
       "189915        1              1           1           1  ...       1   \n",
       "\n",
       "        vertex_new    Momage  Preweight  Admweight   Admtemp    AdmSBP  \\\n",
       "0                9  1.513764   1.304124   1.242846  1.152457  1.998093   \n",
       "1                1  1.352260  -0.275241  -0.022888  0.246083 -1.444831   \n",
       "2                1  1.029253   1.455986   1.242846 -3.709006 -0.144171   \n",
       "3                1  0.544742  -1.004179  -1.343653 -1.237076  1.079980   \n",
       "4                1 -1.070294  -0.275241  -0.298047 -0.770156  0.773942   \n",
       "...            ...       ...        ...        ...       ...       ...   \n",
       "189911           1 -1.393301   2.670600   2.123366 -0.001110 -0.067661   \n",
       "189912           0  1.029253  -0.214497   2.040744 -0.001110 -0.067661   \n",
       "189913           9  0.060231  -0.639887  -1.398685 -0.001110 -0.067661   \n",
       "189914           1 -1.877812  -0.548822  -0.463152 -0.001110 -0.067661   \n",
       "189915           1  2.644289   0.878759   0.444841 -0.001110 -0.067661   \n",
       "\n",
       "          AdmDBP    AdmFHR  Birthweight1  \n",
       "0       0.853841  0.029027     -0.488526  \n",
       "1       0.266498  0.029027      0.977089  \n",
       "2      -0.908188  0.029027      0.574889  \n",
       "3       0.266498  0.029027      0.003766  \n",
       "4       2.322200  0.790118      0.861255  \n",
       "...          ...       ...           ...  \n",
       "189911 -0.027173  0.029027      1.861927  \n",
       "189912 -0.027173  0.029027     -4.621526  \n",
       "189913 -0.027173  0.029027     -3.522717  \n",
       "189914 -0.027173  0.029027     -1.001732  \n",
       "189915 -0.027173  0.029027     -3.849303  \n",
       "\n",
       "[189916 rows x 252 columns]"
      ]
     },
     "execution_count": 4,
     "metadata": {},
     "output_type": "execute_result"
    }
   ],
   "source": [
    "print(df.shape)\n",
    "df"
   ]
  },
  {
   "cell_type": "code",
   "execution_count": 5,
   "metadata": {},
   "outputs": [
    {
     "name": "stdout",
     "output_type": "stream",
     "text": [
      "depression9\n",
      "heart_disease9\n"
     ]
    }
   ],
   "source": [
    "for col in df:\n",
    "    if df[col].isna().any():\n",
    "        print(col)"
   ]
  },
  {
   "cell_type": "code",
   "execution_count": 6,
   "metadata": {},
   "outputs": [
    {
     "data": {
      "text/html": [
       "<div>\n",
       "<style scoped>\n",
       "    .dataframe tbody tr th:only-of-type {\n",
       "        vertical-align: middle;\n",
       "    }\n",
       "\n",
       "    .dataframe tbody tr th {\n",
       "        vertical-align: top;\n",
       "    }\n",
       "\n",
       "    .dataframe thead th {\n",
       "        text-align: right;\n",
       "    }\n",
       "</style>\n",
       "<table border=\"1\" class=\"dataframe\">\n",
       "  <thead>\n",
       "    <tr style=\"text-align: right;\">\n",
       "      <th></th>\n",
       "      <th>Activeherpes</th>\n",
       "      <th>Alcohol</th>\n",
       "      <th>Anteabruption</th>\n",
       "      <th>Anteanemia</th>\n",
       "      <th>Anteasthma</th>\n",
       "      <th>Antebleed3</th>\n",
       "      <th>AnteCHBP</th>\n",
       "      <th>Antechorio</th>\n",
       "      <th>Antefetaldth</th>\n",
       "      <th>Antefetdistress</th>\n",
       "      <th>...</th>\n",
       "      <th>vertex</th>\n",
       "      <th>vertex_new</th>\n",
       "      <th>Momage</th>\n",
       "      <th>Preweight</th>\n",
       "      <th>Admweight</th>\n",
       "      <th>Admtemp</th>\n",
       "      <th>AdmSBP</th>\n",
       "      <th>AdmDBP</th>\n",
       "      <th>AdmFHR</th>\n",
       "      <th>Birthweight1</th>\n",
       "    </tr>\n",
       "  </thead>\n",
       "  <tbody>\n",
       "    <tr>\n",
       "      <th>0</th>\n",
       "      <td>1</td>\n",
       "      <td>1</td>\n",
       "      <td>1</td>\n",
       "      <td>2</td>\n",
       "      <td>1</td>\n",
       "      <td>1</td>\n",
       "      <td>1</td>\n",
       "      <td>1</td>\n",
       "      <td>1</td>\n",
       "      <td>1</td>\n",
       "      <td>...</td>\n",
       "      <td>9</td>\n",
       "      <td>9</td>\n",
       "      <td>1.513764</td>\n",
       "      <td>1.304124</td>\n",
       "      <td>1.242846</td>\n",
       "      <td>1.152457</td>\n",
       "      <td>1.998093</td>\n",
       "      <td>0.853841</td>\n",
       "      <td>0.029027</td>\n",
       "      <td>-0.488526</td>\n",
       "    </tr>\n",
       "    <tr>\n",
       "      <th>1</th>\n",
       "      <td>1</td>\n",
       "      <td>1</td>\n",
       "      <td>1</td>\n",
       "      <td>1</td>\n",
       "      <td>1</td>\n",
       "      <td>1</td>\n",
       "      <td>1</td>\n",
       "      <td>1</td>\n",
       "      <td>1</td>\n",
       "      <td>1</td>\n",
       "      <td>...</td>\n",
       "      <td>1</td>\n",
       "      <td>1</td>\n",
       "      <td>1.352260</td>\n",
       "      <td>-0.275241</td>\n",
       "      <td>-0.022888</td>\n",
       "      <td>0.246083</td>\n",
       "      <td>-1.444831</td>\n",
       "      <td>0.266498</td>\n",
       "      <td>0.029027</td>\n",
       "      <td>0.977089</td>\n",
       "    </tr>\n",
       "    <tr>\n",
       "      <th>2</th>\n",
       "      <td>1</td>\n",
       "      <td>1</td>\n",
       "      <td>1</td>\n",
       "      <td>1</td>\n",
       "      <td>1</td>\n",
       "      <td>1</td>\n",
       "      <td>1</td>\n",
       "      <td>1</td>\n",
       "      <td>1</td>\n",
       "      <td>1</td>\n",
       "      <td>...</td>\n",
       "      <td>1</td>\n",
       "      <td>1</td>\n",
       "      <td>1.029253</td>\n",
       "      <td>1.455986</td>\n",
       "      <td>1.242846</td>\n",
       "      <td>-3.709006</td>\n",
       "      <td>-0.144171</td>\n",
       "      <td>-0.908188</td>\n",
       "      <td>0.029027</td>\n",
       "      <td>0.574889</td>\n",
       "    </tr>\n",
       "    <tr>\n",
       "      <th>3</th>\n",
       "      <td>1</td>\n",
       "      <td>1</td>\n",
       "      <td>1</td>\n",
       "      <td>1</td>\n",
       "      <td>1</td>\n",
       "      <td>1</td>\n",
       "      <td>1</td>\n",
       "      <td>1</td>\n",
       "      <td>1</td>\n",
       "      <td>1</td>\n",
       "      <td>...</td>\n",
       "      <td>1</td>\n",
       "      <td>1</td>\n",
       "      <td>0.544742</td>\n",
       "      <td>-1.004179</td>\n",
       "      <td>-1.343653</td>\n",
       "      <td>-1.237076</td>\n",
       "      <td>1.079980</td>\n",
       "      <td>0.266498</td>\n",
       "      <td>0.029027</td>\n",
       "      <td>0.003766</td>\n",
       "    </tr>\n",
       "    <tr>\n",
       "      <th>4</th>\n",
       "      <td>1</td>\n",
       "      <td>1</td>\n",
       "      <td>1</td>\n",
       "      <td>1</td>\n",
       "      <td>1</td>\n",
       "      <td>1</td>\n",
       "      <td>1</td>\n",
       "      <td>1</td>\n",
       "      <td>1</td>\n",
       "      <td>1</td>\n",
       "      <td>...</td>\n",
       "      <td>1</td>\n",
       "      <td>1</td>\n",
       "      <td>-1.070294</td>\n",
       "      <td>-0.275241</td>\n",
       "      <td>-0.298047</td>\n",
       "      <td>-0.770156</td>\n",
       "      <td>0.773942</td>\n",
       "      <td>2.322200</td>\n",
       "      <td>0.790118</td>\n",
       "      <td>0.861255</td>\n",
       "    </tr>\n",
       "  </tbody>\n",
       "</table>\n",
       "<p>5 rows × 245 columns</p>\n",
       "</div>"
      ],
      "text/plain": [
       "   Activeherpes  Alcohol  Anteabruption  Anteanemia  Anteasthma  Antebleed3  \\\n",
       "0             1        1              1           2           1           1   \n",
       "1             1        1              1           1           1           1   \n",
       "2             1        1              1           1           1           1   \n",
       "3             1        1              1           1           1           1   \n",
       "4             1        1              1           1           1           1   \n",
       "\n",
       "   AnteCHBP  Antechorio  Antefetaldth  Antefetdistress  ...  vertex  \\\n",
       "0         1           1             1                1  ...       9   \n",
       "1         1           1             1                1  ...       1   \n",
       "2         1           1             1                1  ...       1   \n",
       "3         1           1             1                1  ...       1   \n",
       "4         1           1             1                1  ...       1   \n",
       "\n",
       "   vertex_new    Momage  Preweight  Admweight   Admtemp    AdmSBP    AdmDBP  \\\n",
       "0           9  1.513764   1.304124   1.242846  1.152457  1.998093  0.853841   \n",
       "1           1  1.352260  -0.275241  -0.022888  0.246083 -1.444831  0.266498   \n",
       "2           1  1.029253   1.455986   1.242846 -3.709006 -0.144171 -0.908188   \n",
       "3           1  0.544742  -1.004179  -1.343653 -1.237076  1.079980  0.266498   \n",
       "4           1 -1.070294  -0.275241  -0.298047 -0.770156  0.773942  2.322200   \n",
       "\n",
       "     AdmFHR  Birthweight1  \n",
       "0  0.029027     -0.488526  \n",
       "1  0.029027      0.977089  \n",
       "2  0.029027      0.574889  \n",
       "3  0.029027      0.003766  \n",
       "4  0.790118      0.861255  \n",
       "\n",
       "[5 rows x 245 columns]"
      ]
     },
     "execution_count": 6,
     "metadata": {},
     "output_type": "execute_result"
    }
   ],
   "source": [
    "X = df.iloc[:,5:]\n",
    "X.drop('depression9', axis=1, inplace=True)\n",
    "X.drop('heart_disease9', axis=1, inplace=True)\n",
    "X.head()"
   ]
  },
  {
   "cell_type": "code",
   "execution_count": 7,
   "metadata": {},
   "outputs": [
    {
     "name": "stdout",
     "output_type": "stream",
     "text": [
      "(189916,)\n",
      "(189916, 245)\n"
     ]
    }
   ],
   "source": [
    "y = df['MomNearMiss']\n",
    "print(y.shape)\n",
    "print(X.shape)"
   ]
  },
  {
   "cell_type": "code",
   "execution_count": 8,
   "metadata": {},
   "outputs": [],
   "source": [
    "X_train, X_test, y_train, y_test = train_test_split(X, y, stratify=y, random_state=7)\n",
    "#X_train, X_test, y_train, y_test = train_test_split(X, y)"
   ]
  },
  {
   "cell_type": "code",
   "execution_count": 9,
   "metadata": {},
   "outputs": [
    {
     "name": "stdout",
     "output_type": "stream",
     "text": [
      "CPU times: user 45.9 s, sys: 671 ms, total: 46.6 s\n",
      "Wall time: 46.6 s\n"
     ]
    },
    {
     "data": {
      "text/plain": [
       "LogisticRegression(solver='liblinear')"
      ]
     },
     "execution_count": 9,
     "metadata": {},
     "output_type": "execute_result"
    }
   ],
   "source": [
    "%%time\n",
    "#lr = LogisticRegression(random_state=11) # 6.09s - ConvergenceWarning (using lbfgs)\n",
    "#lr = LogisticRegression(solver='lbfgs', max_iter=1000, random_state=11) # ConvWarning\n",
    "#lr = LogisticRegression(solver='lbfgs', max_iter=4000, random_state=11) # 3min ConvWarning\n",
    "#lr = LogisticRegression(solver='lbfgs', max_iter=10000, class_weight='balanced', random_state=7) # 8 minutes wall - no warnings\n",
    "#lr = LogisticRegression(solver='saga', max_iter=1000) # 1m 13s - ConvergenceWarning\n",
    "lr = LogisticRegression(solver='liblinear') # 2.44s - No Warnings\n",
    "lr.fit(X_train, y_train)"
   ]
  },
  {
   "cell_type": "code",
   "execution_count": 10,
   "metadata": {},
   "outputs": [
    {
     "name": "stdout",
     "output_type": "stream",
     "text": [
      "CPU times: user 102 ms, sys: 76.3 ms, total: 178 ms\n",
      "Wall time: 98.3 ms\n"
     ]
    }
   ],
   "source": [
    "%%time\n",
    "y_pred = lr.predict(X_test)"
   ]
  },
  {
   "cell_type": "code",
   "execution_count": 11,
   "metadata": {
    "scrolled": true
   },
   "outputs": [],
   "source": [
    "#print(f'lr.coeff_ = {lr.coef_}')"
   ]
  },
  {
   "cell_type": "code",
   "execution_count": 12,
   "metadata": {
    "scrolled": true
   },
   "outputs": [
    {
     "name": "stdout",
     "output_type": "stream",
     "text": [
      "[[47241    13]\n",
      " [  207    18]]\n",
      "Accuracy = 0.995366372501527\n",
      "Balanced Accuracy = 0.5398624455072587\n",
      "Recall = 0.9997248910145173\n",
      "\n",
      "Classification Report:\n",
      "               precision    recall  f1-score   support\n",
      "\n",
      "           1       1.00      1.00      1.00     47254\n",
      "           2       0.58      0.08      0.14       225\n",
      "\n",
      "    accuracy                           1.00     47479\n",
      "   macro avg       0.79      0.54      0.57     47479\n",
      "weighted avg       0.99      1.00      0.99     47479\n",
      "\n",
      "ROC_AUC = 0.5398624455072587\n",
      "MCC = 0.21434565252142518\n"
     ]
    }
   ],
   "source": [
    "from sklearn.metrics import matthews_corrcoef\n",
    "print(confusion_matrix(y_test, y_pred))\n",
    "print(f'Accuracy = {accuracy_score(y_test, y_pred)}')\n",
    "print(f'Balanced Accuracy = {balanced_accuracy_score(y_test, y_pred)}')\n",
    "print(f'Recall = {recall_score(y_test, y_pred)}')\n",
    "print(f'\\nClassification Report:\\n {classification_report(y_test, y_pred)}')\n",
    "print(f'ROC_AUC = {roc_auc_score(y_test, y_pred)}')\n",
    "print(f'MCC = {matthews_corrcoef(y_test, y_pred)}')"
   ]
  },
  {
   "cell_type": "code",
   "execution_count": 13,
   "metadata": {},
   "outputs": [
    {
     "name": "stdout",
     "output_type": "stream",
     "text": [
      "0.23.2\n"
     ]
    }
   ],
   "source": [
    "import sklearn\n",
    "print(sklearn.__version__) # 0.22 required for plot_precision_recall_curve"
   ]
  },
  {
   "cell_type": "code",
   "execution_count": 14,
   "metadata": {},
   "outputs": [],
   "source": [
    "from sklearn.metrics import precision_recall_curve\n",
    "from sklearn.metrics import plot_precision_recall_curve\n",
    "import matplotlib.pyplot as plt"
   ]
  },
  {
   "cell_type": "code",
   "execution_count": 15,
   "metadata": {},
   "outputs": [],
   "source": [
    "probs = lr.predict_proba(X_test)\n",
    "probs = probs[:, 1]\n",
    "precision, recall, _ = precision_recall_curve(y_test, probs, pos_label=2)"
   ]
  },
  {
   "cell_type": "code",
   "execution_count": 16,
   "metadata": {},
   "outputs": [
    {
     "name": "stdout",
     "output_type": "stream",
     "text": [
      "[0.005839   0.0058132  0.00581335 ... 0.5        1.         1.        ]\n"
     ]
    }
   ],
   "source": [
    "print(precision)"
   ]
  },
  {
   "cell_type": "code",
   "execution_count": 17,
   "metadata": {},
   "outputs": [
    {
     "name": "stdout",
     "output_type": "stream",
     "text": [
      "prec_s = 0.9956373292867982\n",
      "recall_s = 0.9997248910145173\n",
      "f1_s = 0.9976769234018289\n",
      "prec_s_micro = 0.995366372501527\n",
      "recall_s_micro = 0.995366372501527\n",
      "f1_s_micro = 0.995366372501527\n",
      "prec_s_macro = 0.7881412452885603\n",
      "recall_s_macro = 0.5398624455072587\n",
      "f1_s_macro = 0.5691509617009145\n"
     ]
    }
   ],
   "source": [
    "prec_s = precision_score(y_test, y_pred)\n",
    "recall_s = recall_score(y_test, y_pred)\n",
    "f1_s = f1_score(y_test, y_pred)\n",
    "print(f'prec_s = {prec_s}')\n",
    "print(f'recall_s = {recall_s}')\n",
    "print(f'f1_s = {f1_s}')\n",
    "prec_s_micro = precision_score(y_test, y_pred, average='micro')\n",
    "recall_s_micro = recall_score(y_test, y_pred, average='micro')\n",
    "f1_s_micro = f1_score(y_test, y_pred, average='micro')\n",
    "print(f'prec_s_micro = {prec_s_micro}')\n",
    "print(f'recall_s_micro = {recall_s_micro}')\n",
    "print(f'f1_s_micro = {f1_s_micro}')\n",
    "prec_s_macro = precision_score(y_test, y_pred, average='macro')\n",
    "recall_s_macro = recall_score(y_test, y_pred, average='macro')\n",
    "f1_s_macro = f1_score(y_test, y_pred, average='macro')\n",
    "print(f'prec_s_macro = {prec_s_macro}')\n",
    "print(f'recall_s_macro = {recall_s_macro}')\n",
    "print(f'f1_s_macro = {f1_s_macro}')"
   ]
  },
  {
   "cell_type": "code",
   "execution_count": 18,
   "metadata": {},
   "outputs": [
    {
     "name": "stdout",
     "output_type": "stream",
     "text": [
      "Average precision-recall score: 0.98\n"
     ]
    }
   ],
   "source": [
    "from sklearn.metrics import average_precision_score\n",
    "y_score = lr.decision_function(X_test)\n",
    "average_precision = average_precision_score(y_test, y_score)\n",
    "\n",
    "print('Average precision-recall score: {0:0.2f}'.format(\n",
    "      average_precision))"
   ]
  },
  {
   "cell_type": "code",
   "execution_count": 19,
   "metadata": {},
   "outputs": [
    {
     "data": {
      "text/plain": [
       "Text(0.5, 1.0, '2-class Precision-Recall curve: AP=0.98')"
      ]
     },
     "execution_count": 19,
     "metadata": {},
     "output_type": "execute_result"
    },
    {
     "data": {
      "image/png": "[encoded data removed]",
      "text/plain": [
       "<Figure size 432x288 with 1 Axes>"
      ]
     },
     "metadata": {
      "needs_background": "light"
     },
     "output_type": "display_data"
    }
   ],
   "source": [
    "%matplotlib inline\n",
    "disp = plot_precision_recall_curve(lr, X_test, y_test)\n",
    "disp.ax_.set_title('2-class Precision-Recall curve: '\n",
    "                   'AP={0:0.2f}'.format(average_precision))"
   ]
  },
  {
   "cell_type": "code",
   "execution_count": 20,
   "metadata": {},
   "outputs": [
    {
     "data": {
      "image/png": "[encoded data removed]",
      "text/plain": [
       "<Figure size 432x288 with 1 Axes>"
      ]
     },
     "metadata": {
      "needs_background": "light"
     },
     "output_type": "display_data"
    }
   ],
   "source": [
    "from sklearn.metrics import plot_roc_curve\n",
    "roc = plot_roc_curve(lr, X_test, y_test)"
   ]
  },
  {
   "cell_type": "code",
   "execution_count": 21,
   "metadata": {},
   "outputs": [
    {
     "name": "stdout",
     "output_type": "stream",
     "text": [
      "[    0 47254   225]\n",
      "[    0 47448    31]\n"
     ]
    }
   ],
   "source": [
    "print(np.bincount(y_test))\n",
    "print(np.bincount(y_pred))"
   ]
  },
  {
   "cell_type": "code",
   "execution_count": 22,
   "metadata": {},
   "outputs": [
    {
     "name": "stdout",
     "output_type": "stream",
     "text": [
      "37490     1\n",
      "5112      1\n",
      "105226    1\n",
      "63190     1\n",
      "62532     1\n",
      "         ..\n",
      "87522     1\n",
      "56838     1\n",
      "26978     1\n",
      "41097     1\n",
      "162671    1\n",
      "Name: MomNearMiss, Length: 47479, dtype: int64\n"
     ]
    }
   ],
   "source": [
    "print(y_test)"
   ]
  },
  {
   "cell_type": "code",
   "execution_count": 23,
   "metadata": {},
   "outputs": [
    {
     "name": "stdout",
     "output_type": "stream",
     "text": [
      "[1 1 1 ... 1 1 1]\n"
     ]
    }
   ],
   "source": [
    "print(y_pred)"
   ]
  },
  {
   "cell_type": "code",
   "execution_count": 24,
   "metadata": {},
   "outputs": [],
   "source": [
    "probs = lr.predict_proba(X_test)"
   ]
  },
  {
   "cell_type": "code",
   "execution_count": 25,
   "metadata": {},
   "outputs": [
    {
     "data": {
      "text/plain": [
       "(47479, 2)"
      ]
     },
     "execution_count": 25,
     "metadata": {},
     "output_type": "execute_result"
    }
   ],
   "source": [
    "probs.shape\n"
   ]
  },
  {
   "cell_type": "code",
   "execution_count": 26,
   "metadata": {},
   "outputs": [
    {
     "data": {
      "text/plain": [
       "array([[9.99400655e-01, 5.99344589e-04],\n",
       "       [9.99179993e-01, 8.20007103e-04],\n",
       "       [9.99427454e-01, 5.72546114e-04],\n",
       "       ...,\n",
       "       [9.98525259e-01, 1.47474112e-03],\n",
       "       [9.99227977e-01, 7.72022708e-04],\n",
       "       [9.99986326e-01, 1.36741180e-05]])"
      ]
     },
     "execution_count": 26,
     "metadata": {},
     "output_type": "execute_result"
    }
   ],
   "source": [
    "probs"
   ]
  },
  {
   "cell_type": "code",
   "execution_count": 27,
   "metadata": {
    "scrolled": true
   },
   "outputs": [
    {
     "name": "stdout",
     "output_type": "stream",
     "text": [
      "0.6890 0.3110\n",
      "0.5361 0.4639\n",
      "0.6552 0.3448\n",
      "0.6876 0.3124\n",
      "0.3994 0.6006\n",
      "0.6954 0.3046\n",
      "0.3336 0.6664\n",
      "0.6961 0.3039\n",
      "0.6715 0.3285\n",
      "0.5236 0.4764\n",
      "0.5471 0.4529\n",
      "0.4341 0.5659\n",
      "0.5483 0.4517\n",
      "0.0312 0.9688\n",
      "0.0604 0.9396\n",
      "0.6242 0.3758\n",
      "0.6748 0.3252\n",
      "0.6843 0.3157\n",
      "0.6459 0.3541\n",
      "0.5757 0.4243\n",
      "0.5754 0.4246\n",
      "0.4593 0.5407\n",
      "0.1473 0.8527\n",
      "0.3669 0.6331\n",
      "0.4408 0.5592\n",
      "0.6439 0.3561\n",
      "0.6616 0.3384\n",
      "0.2339 0.7661\n",
      "0.2709 0.7291\n",
      "0.3713 0.6287\n",
      "0.2831 0.7169\n",
      "0.6329 0.3671\n",
      "0.4120 0.5880\n",
      "0.6122 0.3878\n",
      "0.6609 0.3391\n",
      "0.5393 0.4607\n",
      "0.5964 0.4036\n",
      "0.5035 0.4965\n",
      "0.4538 0.5462\n",
      "0.5562 0.4438\n",
      "0.6872 0.3128\n",
      "0.6783 0.3217\n",
      "0.5752 0.4248\n",
      "0.3964 0.6036\n",
      "0.6357 0.3643\n",
      "0.6957 0.3043\n",
      "0.6942 0.3058\n",
      "0.0577 0.9423\n",
      "0.6565 0.3435\n",
      "0.5708 0.4292\n",
      "0.1936 0.8064\n",
      "0.6131 0.3869\n",
      "0.6322 0.3678\n",
      "0.6789 0.3211\n",
      "0.4496 0.5504\n",
      "0.5850 0.4150\n",
      "0.1047 0.8953\n",
      "0.5951 0.4049\n",
      "0.5969 0.4031\n",
      "0.5393 0.4607\n",
      "0.6188 0.3812\n",
      "0.4077 0.5923\n",
      "0.4855 0.5145\n",
      "0.5178 0.4822\n",
      "0.4463 0.5537\n",
      "0.6723 0.3277\n",
      "0.0405 0.9595\n",
      "0.5073 0.4927\n",
      "0.5513 0.4487\n",
      "0.3994 0.6006\n",
      "0.6581 0.3419\n",
      "0.6225 0.3775\n",
      "0.5469 0.4531\n",
      "0.5319 0.4681\n",
      "0.5801 0.4199\n",
      "0.4974 0.5026\n",
      "0.6345 0.3655\n",
      "0.6695 0.3305\n",
      "0.6443 0.3557\n",
      "0.6908 0.3092\n",
      "0.6762 0.3238\n",
      "0.6017 0.3983\n",
      "0.4561 0.5439\n",
      "0.5854 0.4146\n",
      "0.5954 0.4046\n",
      "0.5954 0.4046\n",
      "0.5723 0.4277\n",
      "0.5871 0.4129\n",
      "0.1542 0.8458\n",
      "0.0541 0.9459\n",
      "0.6590 0.3410\n",
      "0.2800 0.7200\n",
      "0.6916 0.3084\n",
      "0.4260 0.5740\n",
      "0.6142 0.3858\n",
      "0.5776 0.4224\n",
      "0.6316 0.3684\n"
     ]
    }
   ],
   "source": [
    "for i,j in probs:\n",
    "    if i < 0.7:\n",
    "        print('{0:0.4f}'.format(i),'{0:0.4f}'.format(j))"
   ]
  },
  {
   "cell_type": "code",
   "execution_count": 28,
   "metadata": {},
   "outputs": [
    {
     "data": {
      "text/plain": [
       "array([5.99344589e-04, 8.20007103e-04, 5.72546114e-04, ...,\n",
       "       1.47474112e-03, 7.72022708e-04, 1.36741180e-05])"
      ]
     },
     "execution_count": 28,
     "metadata": {},
     "output_type": "execute_result"
    }
   ],
   "source": [
    "proba = probs[:,1]\n",
    "proba"
   ]
  },
  {
   "cell_type": "code",
   "execution_count": 29,
   "metadata": {},
   "outputs": [
    {
     "name": "stdout",
     "output_type": "stream",
     "text": [
      "0.9509813161025757\n"
     ]
    }
   ],
   "source": [
    "auc = roc_auc_score(y_test, proba)\n",
    "print(auc)"
   ]
  },
  {
   "cell_type": "code",
   "execution_count": 30,
   "metadata": {},
   "outputs": [
    {
     "data": {
      "text/plain": [
       "0.9509813161025757"
      ]
     },
     "execution_count": 30,
     "metadata": {},
     "output_type": "execute_result"
    }
   ],
   "source": [
    "from sklearn.metrics import roc_curve, plot_roc_curve\n",
    "fpr, tpr, thresholds = roc_curve(y_test, proba, pos_label=2)\n",
    "roc_auc = sklearn.metrics.auc(fpr, tpr)\n",
    "roc_auc"
   ]
  },
  {
   "cell_type": "code",
   "execution_count": 31,
   "metadata": {},
   "outputs": [
    {
     "data": {
      "image/png": "[encoded data removed]",
      "text/plain": [
       "<Figure size 432x288 with 1 Axes>"
      ]
     },
     "metadata": {
      "needs_background": "light"
     },
     "output_type": "display_data"
    }
   ],
   "source": [
    "import matplotlib.pyplot as plt\n",
    "plt.title('Receiver Operating Characteristic')\n",
    "plt.plot(fpr, tpr, 'b', label = 'AUC = %0.2f' % roc_auc)\n",
    "plt.legend(loc = 'lower right')\n",
    "plt.plot([0, 1], [0, 1],'r--')\n",
    "plt.xlim([0, 1])\n",
    "plt.ylim([0, 1])\n",
    "plt.ylabel('True Positive Rate')\n",
    "plt.xlabel('False Positive Rate')\n",
    "plt.show()"
   ]
  },
  {
   "cell_type": "code",
   "execution_count": 32,
   "metadata": {},
   "outputs": [
    {
     "name": "stdout",
     "output_type": "stream",
     "text": [
      "<class 'numpy.ndarray'>\n",
      "(375,) (375,)\n"
     ]
    }
   ],
   "source": [
    "print(type(fpr))\n",
    "print(fpr.shape, tpr.shape)"
   ]
  },
  {
   "cell_type": "code",
   "execution_count": 33,
   "metadata": {},
   "outputs": [
    {
     "name": "stdout",
     "output_type": "stream",
     "text": [
      "<class 'numpy.ndarray'>; <class 'numpy.ndarray'>\n",
      "(38535,); (38535,)\n"
     ]
    }
   ],
   "source": [
    "print(f'{type(precision)}; {type(recall)}')\n",
    "print(f'{precision.shape}; {recall.shape}')"
   ]
  },
  {
   "cell_type": "code",
   "execution_count": 34,
   "metadata": {},
   "outputs": [],
   "source": [
    "np.savetxt('/tmp/fpr_tpr.dat', (fpr, tpr), delimiter=',')\n",
    "np.savetxt('/tmp/prec_rec.dat', (precision, recall), delimiter=',')"
   ]
  },
  {
   "cell_type": "code",
   "execution_count": 35,
   "metadata": {},
   "outputs": [],
   "source": [
    "f, t = np.loadtxt('/tmp/fpr_tpr.dat', delimiter=',')\n",
    "p, r = np.loadtxt('/tmp/prec_rec.dat', delimiter=',')"
   ]
  },
  {
   "cell_type": "code",
   "execution_count": 36,
   "metadata": {},
   "outputs": [
    {
     "name": "stdout",
     "output_type": "stream",
     "text": [
      "True\n",
      "True\n",
      "True\n",
      "True\n"
     ]
    }
   ],
   "source": [
    "print(np.all(f==fpr))\n",
    "print(np.all(t==tpr))\n",
    "print(np.all(p==precision))\n",
    "print(np.all(r==recall))"
   ]
  },
  {
   "cell_type": "code",
   "execution_count": 37,
   "metadata": {},
   "outputs": [
    {
     "data": {
      "image/png": "[encoded data removed]",
      "text/plain": [
       "<Figure size 432x288 with 1 Axes>"
      ]
     },
     "metadata": {
      "needs_background": "light"
     },
     "output_type": "display_data"
    }
   ],
   "source": [
    "from sklearn.metrics import auc\n",
    "roc_auc = auc(f, t)\n",
    "plt.title('ROC Curve')\n",
    "plt.plot(f, t, 'g', label = 'AUC = %0.2f' % roc_auc)\n",
    "plt.legend(loc = 'lower right')\n",
    "plt.plot([0, 1], [0, 1],'r--')\n",
    "plt.xlim([0, 1])\n",
    "plt.ylim([0, 1])\n",
    "plt.ylabel('True Positive Rate')\n",
    "plt.xlabel('False Positive Rate')\n",
    "plt.show()"
   ]
  },
  {
   "cell_type": "code",
   "execution_count": 38,
   "metadata": {},
   "outputs": [
    {
     "data": {
      "image/png": "[encoded data removed]",
      "text/plain": [
       "<Figure size 432x288 with 1 Axes>"
      ]
     },
     "metadata": {
      "needs_background": "light"
     },
     "output_type": "display_data"
    }
   ],
   "source": [
    "# calculate the no skill line as the proportion of the positive class\n",
    "#no_skill = len(y[y==1]) / len(y)\n",
    "# plot the no skill precision-recall curve\n",
    "#plt.plot([0, 1], [no_skill, no_skill], linestyle='--', label='No Skill')\n",
    "pr_auc = auc(recall, precision)\n",
    "plt.plot(r, p, marker='.', label='AUC = %0.3f' % pr_auc)\n",
    "# axis labels\n",
    "plt.xlabel('Recall')\n",
    "plt.ylabel('Precision')\n",
    "# show the legend\n",
    "plt.legend()\n",
    "# show the plot\n",
    "plt.show()"
   ]
  },
  {
   "cell_type": "code",
   "execution_count": 39,
   "metadata": {},
   "outputs": [
    {
     "data": {
      "text/plain": [
       "189018"
      ]
     },
     "execution_count": 39,
     "metadata": {},
     "output_type": "execute_result"
    }
   ],
   "source": [
    "len(y[y==1])"
   ]
  },
  {
   "cell_type": "code",
   "execution_count": 40,
   "metadata": {},
   "outputs": [
    {
     "data": {
      "text/plain": [
       "189916"
      ]
     },
     "execution_count": 40,
     "metadata": {},
     "output_type": "execute_result"
    }
   ],
   "source": [
    "len(y)"
   ]
  },
  {
   "cell_type": "code",
   "execution_count": 41,
   "metadata": {},
   "outputs": [],
   "source": [
    "f_rf, t_rf = np.loadtxt('/MFMDatasets/MFM_bopf/src/multi_predict/RF/output/tr_test.dat', delimiter=',')\n",
    "p_rf, r_rf = np.loadtxt('/MFMDatasets/MFM_bopf/src/multi_predict/RF/output/pr_test.dat', delimiter=',')"
   ]
  },
  {
   "cell_type": "code",
   "execution_count": 42,
   "metadata": {},
   "outputs": [
    {
     "data": {
      "image/png": "[encoded data removed]",
      "text/plain": [
       "<Figure size 432x288 with 1 Axes>"
      ]
     },
     "metadata": {
      "needs_background": "light"
     },
     "output_type": "display_data"
    }
   ],
   "source": [
    "roc_auc_rf = auc(f_rf, t_rf)\n",
    "plt.title('ROC Curve')\n",
    "plt.plot(f_rf, t_rf, 'b', label = 'AUC = %0.2f' % roc_auc_rf)\n",
    "plt.legend(loc = 'lower right')\n",
    "plt.plot([0, 1], [0, 1],'r--')\n",
    "plt.xlim([0, 1])\n",
    "plt.ylim([0, 1])\n",
    "plt.ylabel('TPRate')\n",
    "plt.xlabel('FPRate')\n",
    "plt.show()"
   ]
  },
  {
   "cell_type": "code",
   "execution_count": 43,
   "metadata": {},
   "outputs": [
    {
     "data": {
      "image/png": "[encoded data removed]",
      "text/plain": [
       "<Figure size 432x288 with 1 Axes>"
      ]
     },
     "metadata": {
      "needs_background": "light"
     },
     "output_type": "display_data"
    }
   ],
   "source": [
    "# calculate the no skill line as the proportion of the positive class\n",
    "#no_skill = len(y[y==1]) / len(y)\n",
    "# plot the no skill precision-recall curve\n",
    "#plt.plot([0, 1], [no_skill, no_skill], linestyle='--', label='No Skill')\n",
    "pr_auc_rf = auc(r_rf, p_rf)\n",
    "plt.plot(r_rf, p_rf, 'g', label='AUC = %0.3f' % pr_auc_rf)\n",
    "# axis labels\n",
    "plt.xlabel('Recall')\n",
    "plt.ylabel('Precision')\n",
    "# show the legend\n",
    "plt.legend()\n",
    "# show the plot\n",
    "plt.show()"
   ]
  },
  {
   "cell_type": "code",
   "execution_count": null,
   "metadata": {},
   "outputs": [],
   "source": []
  }
 ],
 "metadata": {
  "kernelspec": {
   "display_name": "Python 3",
   "language": "python",
   "name": "python3"
  },
  "language_info": {
   "codemirror_mode": {
    "name": "ipython",
    "version": 3
   },
   "file_extension": ".py",
   "mimetype": "text/x-python",
   "name": "python",
   "nbconvert_exporter": "python",
   "pygments_lexer": "ipython3",
   "version": "3.7.9"
  }
 },
 "nbformat": 4,
 "nbformat_minor": 2
}
