{
 "cells": [
  {
   "cell_type": "markdown",
   "metadata": {},
   "source": [
    "# This Notebook does the following:\n",
    "1. **Performs EDA on csllinkedbypreg full dataset**\n",
    "1. **Tries to simulate Venkatesh EBLoss target**\n",
    "1. **Uses util_mwb.convert_integer to create IntegerArray (Int8)**\n",
    "1. **Saves off both converted data, and a type dict for future reads**\n",
    "1. **Saves off a high_EBL file for future use**"
   ]
  },
  {
   "cell_type": "code",
   "execution_count": 1,
   "metadata": {},
   "outputs": [
    {
     "name": "stdout",
     "output_type": "stream",
     "text": [
      "3.7.9 (default, Aug 31 2020, 12:42:55) \n",
      "[GCC 7.3.0]\n",
      "1.2.3\n"
     ]
    }
   ],
   "source": [
    "# Requires at least Python 3.6, I believe\n",
    "import sys\n",
    "import pandas as pd\n",
    "import numpy as np\n",
    "import matplotlib.pyplot as plt\n",
    "%matplotlib inline\n",
    "%config Completer.use_jedi = False\n",
    "print(sys.version)\n",
    "print(pd.__version__) # Must be at least 0.24.1 for IntegerArray"
   ]
  },
  {
   "cell_type": "markdown",
   "metadata": {},
   "source": [
    "# If \"short_cut\", already converted file will be read instead of the sas7bdat"
   ]
  },
  {
   "cell_type": "code",
   "execution_count": 2,
   "metadata": {},
   "outputs": [
    {
     "name": "stdout",
     "output_type": "stream",
     "text": [
      "CPU times: user 19.7 s, sys: 7.2 s, total: 26.9 s\n",
      "Wall time: 29.9 s\n"
     ]
    },
    {
     "data": {
      "text/html": [
       "<div>\n",
       "<style scoped>\n",
       "    .dataframe tbody tr th:only-of-type {\n",
       "        vertical-align: middle;\n",
       "    }\n",
       "\n",
       "    .dataframe tbody tr th {\n",
       "        vertical-align: top;\n",
       "    }\n",
       "\n",
       "    .dataframe thead th {\n",
       "        text-align: right;\n",
       "    }\n",
       "</style>\n",
       "<table border=\"1\" class=\"dataframe\">\n",
       "  <thead>\n",
       "    <tr style=\"text-align: right;\">\n",
       "      <th></th>\n",
       "      <th>Sitenum</th>\n",
       "      <th>MomID</th>\n",
       "      <th>Marital</th>\n",
       "      <th>Education</th>\n",
       "      <th>Insurance</th>\n",
       "      <th>Momage</th>\n",
       "      <th>Parity</th>\n",
       "      <th>Gravidity</th>\n",
       "      <th>Hxlivebirth</th>\n",
       "      <th>Hxmacrosomia</th>\n",
       "      <th>...</th>\n",
       "      <th>Fulldilattime</th>\n",
       "      <th>Placenttime</th>\n",
       "      <th>Inducttime</th>\n",
       "      <th>Ripentime</th>\n",
       "      <th>ROMtime</th>\n",
       "      <th>Epiduraltime</th>\n",
       "      <th>Intraantibtime</th>\n",
       "      <th>USdays</th>\n",
       "      <th>LMPdays</th>\n",
       "      <th>onepregflag</th>\n",
       "    </tr>\n",
       "  </thead>\n",
       "  <tbody>\n",
       "    <tr>\n",
       "      <th>0</th>\n",
       "      <td>41</td>\n",
       "      <td>41-00001</td>\n",
       "      <td>1.0</td>\n",
       "      <td>3.0</td>\n",
       "      <td>1.0</td>\n",
       "      <td>34.0</td>\n",
       "      <td>4.0</td>\n",
       "      <td>5.0</td>\n",
       "      <td>4.0</td>\n",
       "      <td>1.0</td>\n",
       "      <td>...</td>\n",
       "      <td>15.0</td>\n",
       "      <td>4.0</td>\n",
       "      <td>361.0</td>\n",
       "      <td>NaN</td>\n",
       "      <td>300.0</td>\n",
       "      <td>343.0</td>\n",
       "      <td>346.0</td>\n",
       "      <td>103.0</td>\n",
       "      <td>271.0</td>\n",
       "      <td>2.0</td>\n",
       "    </tr>\n",
       "    <tr>\n",
       "      <th>1</th>\n",
       "      <td>41</td>\n",
       "      <td>41-00001</td>\n",
       "      <td>1.0</td>\n",
       "      <td>3.0</td>\n",
       "      <td>1.0</td>\n",
       "      <td>36.0</td>\n",
       "      <td>5.0</td>\n",
       "      <td>6.0</td>\n",
       "      <td>5.0</td>\n",
       "      <td>2.0</td>\n",
       "      <td>...</td>\n",
       "      <td>18.0</td>\n",
       "      <td>3.0</td>\n",
       "      <td>369.0</td>\n",
       "      <td>NaN</td>\n",
       "      <td>251.0</td>\n",
       "      <td>314.0</td>\n",
       "      <td>NaN</td>\n",
       "      <td>128.0</td>\n",
       "      <td>278.0</td>\n",
       "      <td>2.0</td>\n",
       "    </tr>\n",
       "    <tr>\n",
       "      <th>2</th>\n",
       "      <td>41</td>\n",
       "      <td>41-00002</td>\n",
       "      <td>1.0</td>\n",
       "      <td>3.0</td>\n",
       "      <td>1.0</td>\n",
       "      <td>37.0</td>\n",
       "      <td>1.0</td>\n",
       "      <td>3.0</td>\n",
       "      <td>1.0</td>\n",
       "      <td>1.0</td>\n",
       "      <td>...</td>\n",
       "      <td>NaN</td>\n",
       "      <td>1.0</td>\n",
       "      <td>NaN</td>\n",
       "      <td>NaN</td>\n",
       "      <td>1.0</td>\n",
       "      <td>4.0</td>\n",
       "      <td>NaN</td>\n",
       "      <td>128.0</td>\n",
       "      <td>268.0</td>\n",
       "      <td>1.0</td>\n",
       "    </tr>\n",
       "    <tr>\n",
       "      <th>3</th>\n",
       "      <td>41</td>\n",
       "      <td>41-00003</td>\n",
       "      <td>1.0</td>\n",
       "      <td>3.0</td>\n",
       "      <td>1.0</td>\n",
       "      <td>36.0</td>\n",
       "      <td>1.0</td>\n",
       "      <td>4.0</td>\n",
       "      <td>1.0</td>\n",
       "      <td>1.0</td>\n",
       "      <td>...</td>\n",
       "      <td>69.0</td>\n",
       "      <td>4.0</td>\n",
       "      <td>382.0</td>\n",
       "      <td>NaN</td>\n",
       "      <td>369.0</td>\n",
       "      <td>364.0</td>\n",
       "      <td>NaN</td>\n",
       "      <td>133.0</td>\n",
       "      <td>273.0</td>\n",
       "      <td>1.0</td>\n",
       "    </tr>\n",
       "    <tr>\n",
       "      <th>4</th>\n",
       "      <td>41</td>\n",
       "      <td>41-00004</td>\n",
       "      <td>1.0</td>\n",
       "      <td>2.0</td>\n",
       "      <td>1.0</td>\n",
       "      <td>34.0</td>\n",
       "      <td>2.0</td>\n",
       "      <td>6.0</td>\n",
       "      <td>2.0</td>\n",
       "      <td>1.0</td>\n",
       "      <td>...</td>\n",
       "      <td>12.0</td>\n",
       "      <td>5.0</td>\n",
       "      <td>339.0</td>\n",
       "      <td>NaN</td>\n",
       "      <td>105.0</td>\n",
       "      <td>116.0</td>\n",
       "      <td>455.0</td>\n",
       "      <td>204.0</td>\n",
       "      <td>274.0</td>\n",
       "      <td>1.0</td>\n",
       "    </tr>\n",
       "  </tbody>\n",
       "</table>\n",
       "<p>5 rows × 779 columns</p>\n",
       "</div>"
      ],
      "text/plain": [
       "  Sitenum     MomID  Marital  Education  Insurance  Momage  Parity  Gravidity  \\\n",
       "0      41  41-00001      1.0        3.0        1.0    34.0     4.0        5.0   \n",
       "1      41  41-00001      1.0        3.0        1.0    36.0     5.0        6.0   \n",
       "2      41  41-00002      1.0        3.0        1.0    37.0     1.0        3.0   \n",
       "3      41  41-00003      1.0        3.0        1.0    36.0     1.0        4.0   \n",
       "4      41  41-00004      1.0        2.0        1.0    34.0     2.0        6.0   \n",
       "\n",
       "   Hxlivebirth  Hxmacrosomia  ...  Fulldilattime  Placenttime  Inducttime  \\\n",
       "0          4.0           1.0  ...           15.0          4.0       361.0   \n",
       "1          5.0           2.0  ...           18.0          3.0       369.0   \n",
       "2          1.0           1.0  ...            NaN          1.0         NaN   \n",
       "3          1.0           1.0  ...           69.0          4.0       382.0   \n",
       "4          2.0           1.0  ...           12.0          5.0       339.0   \n",
       "\n",
       "   Ripentime  ROMtime  Epiduraltime  Intraantibtime  USdays  LMPdays  \\\n",
       "0        NaN    300.0         343.0           346.0   103.0    271.0   \n",
       "1        NaN    251.0         314.0             NaN   128.0    278.0   \n",
       "2        NaN      1.0           4.0             NaN   128.0    268.0   \n",
       "3        NaN    369.0         364.0             NaN   133.0    273.0   \n",
       "4        NaN    105.0         116.0           455.0   204.0    274.0   \n",
       "\n",
       "   onepregflag  \n",
       "0          2.0  \n",
       "1          2.0  \n",
       "2          1.0  \n",
       "3          1.0  \n",
       "4          1.0  \n",
       "\n",
       "[5 rows x 779 columns]"
      ]
     },
     "execution_count": 2,
     "metadata": {},
     "output_type": "execute_result"
    }
   ],
   "source": [
    "# Hard-coded (but relative) path name. Note that ../data isn't populated it Git to save space\n",
    "%time csl_df = pd.read_sas('../data/csl/csllinkedbypreg.sas7bdat', format = 'sas7bdat', encoding='iso-8859-1')\n",
    "csl_df.head()"
   ]
  },
  {
   "cell_type": "markdown",
   "metadata": {},
   "source": [
    "## Use mwb_util.convert_integer to use IntegerArray types as appropriate\n",
    "We don't want floats for categoricals just because of NaNs\n",
    "\n",
    "### Note: this takes about 7 minutes"
   ]
  },
  {
   "cell_type": "code",
   "execution_count": 3,
   "metadata": {},
   "outputs": [
    {
     "name": "stdout",
     "output_type": "stream",
     "text": [
      "CPU times: user 3min 37s, sys: 3min 44s, total: 7min 22s\n",
      "Wall time: 7min 22s\n"
     ]
    },
    {
     "data": {
      "text/html": [
       "<div>\n",
       "<style scoped>\n",
       "    .dataframe tbody tr th:only-of-type {\n",
       "        vertical-align: middle;\n",
       "    }\n",
       "\n",
       "    .dataframe tbody tr th {\n",
       "        vertical-align: top;\n",
       "    }\n",
       "\n",
       "    .dataframe thead th {\n",
       "        text-align: right;\n",
       "    }\n",
       "</style>\n",
       "<table border=\"1\" class=\"dataframe\">\n",
       "  <thead>\n",
       "    <tr style=\"text-align: right;\">\n",
       "      <th></th>\n",
       "      <th>Sitenum</th>\n",
       "      <th>MomID</th>\n",
       "      <th>Marital</th>\n",
       "      <th>Education</th>\n",
       "      <th>Insurance</th>\n",
       "      <th>Momage</th>\n",
       "      <th>Parity</th>\n",
       "      <th>Gravidity</th>\n",
       "      <th>Hxlivebirth</th>\n",
       "      <th>Hxmacrosomia</th>\n",
       "      <th>...</th>\n",
       "      <th>Fulldilattime</th>\n",
       "      <th>Placenttime</th>\n",
       "      <th>Inducttime</th>\n",
       "      <th>Ripentime</th>\n",
       "      <th>ROMtime</th>\n",
       "      <th>Epiduraltime</th>\n",
       "      <th>Intraantibtime</th>\n",
       "      <th>USdays</th>\n",
       "      <th>LMPdays</th>\n",
       "      <th>onepregflag</th>\n",
       "    </tr>\n",
       "  </thead>\n",
       "  <tbody>\n",
       "    <tr>\n",
       "      <th>0</th>\n",
       "      <td>41</td>\n",
       "      <td>41-00001</td>\n",
       "      <td>1</td>\n",
       "      <td>3</td>\n",
       "      <td>1</td>\n",
       "      <td>34</td>\n",
       "      <td>4</td>\n",
       "      <td>5</td>\n",
       "      <td>4</td>\n",
       "      <td>1</td>\n",
       "      <td>...</td>\n",
       "      <td>15</td>\n",
       "      <td>4</td>\n",
       "      <td>361</td>\n",
       "      <td>&lt;NA&gt;</td>\n",
       "      <td>300</td>\n",
       "      <td>343</td>\n",
       "      <td>346</td>\n",
       "      <td>103</td>\n",
       "      <td>271</td>\n",
       "      <td>2</td>\n",
       "    </tr>\n",
       "    <tr>\n",
       "      <th>1</th>\n",
       "      <td>41</td>\n",
       "      <td>41-00001</td>\n",
       "      <td>1</td>\n",
       "      <td>3</td>\n",
       "      <td>1</td>\n",
       "      <td>36</td>\n",
       "      <td>5</td>\n",
       "      <td>6</td>\n",
       "      <td>5</td>\n",
       "      <td>2</td>\n",
       "      <td>...</td>\n",
       "      <td>18</td>\n",
       "      <td>3</td>\n",
       "      <td>369</td>\n",
       "      <td>&lt;NA&gt;</td>\n",
       "      <td>251</td>\n",
       "      <td>314</td>\n",
       "      <td>&lt;NA&gt;</td>\n",
       "      <td>128</td>\n",
       "      <td>278</td>\n",
       "      <td>2</td>\n",
       "    </tr>\n",
       "    <tr>\n",
       "      <th>2</th>\n",
       "      <td>41</td>\n",
       "      <td>41-00002</td>\n",
       "      <td>1</td>\n",
       "      <td>3</td>\n",
       "      <td>1</td>\n",
       "      <td>37</td>\n",
       "      <td>1</td>\n",
       "      <td>3</td>\n",
       "      <td>1</td>\n",
       "      <td>1</td>\n",
       "      <td>...</td>\n",
       "      <td>&lt;NA&gt;</td>\n",
       "      <td>1</td>\n",
       "      <td>&lt;NA&gt;</td>\n",
       "      <td>&lt;NA&gt;</td>\n",
       "      <td>1</td>\n",
       "      <td>4</td>\n",
       "      <td>&lt;NA&gt;</td>\n",
       "      <td>128</td>\n",
       "      <td>268</td>\n",
       "      <td>1</td>\n",
       "    </tr>\n",
       "    <tr>\n",
       "      <th>3</th>\n",
       "      <td>41</td>\n",
       "      <td>41-00003</td>\n",
       "      <td>1</td>\n",
       "      <td>3</td>\n",
       "      <td>1</td>\n",
       "      <td>36</td>\n",
       "      <td>1</td>\n",
       "      <td>4</td>\n",
       "      <td>1</td>\n",
       "      <td>1</td>\n",
       "      <td>...</td>\n",
       "      <td>69</td>\n",
       "      <td>4</td>\n",
       "      <td>382</td>\n",
       "      <td>&lt;NA&gt;</td>\n",
       "      <td>369</td>\n",
       "      <td>364</td>\n",
       "      <td>&lt;NA&gt;</td>\n",
       "      <td>133</td>\n",
       "      <td>273</td>\n",
       "      <td>1</td>\n",
       "    </tr>\n",
       "    <tr>\n",
       "      <th>4</th>\n",
       "      <td>41</td>\n",
       "      <td>41-00004</td>\n",
       "      <td>1</td>\n",
       "      <td>2</td>\n",
       "      <td>1</td>\n",
       "      <td>34</td>\n",
       "      <td>2</td>\n",
       "      <td>6</td>\n",
       "      <td>2</td>\n",
       "      <td>1</td>\n",
       "      <td>...</td>\n",
       "      <td>12</td>\n",
       "      <td>5</td>\n",
       "      <td>339</td>\n",
       "      <td>&lt;NA&gt;</td>\n",
       "      <td>105</td>\n",
       "      <td>116</td>\n",
       "      <td>455</td>\n",
       "      <td>204</td>\n",
       "      <td>274</td>\n",
       "      <td>1</td>\n",
       "    </tr>\n",
       "    <tr>\n",
       "      <th>...</th>\n",
       "      <td>...</td>\n",
       "      <td>...</td>\n",
       "      <td>...</td>\n",
       "      <td>...</td>\n",
       "      <td>...</td>\n",
       "      <td>...</td>\n",
       "      <td>...</td>\n",
       "      <td>...</td>\n",
       "      <td>...</td>\n",
       "      <td>...</td>\n",
       "      <td>...</td>\n",
       "      <td>...</td>\n",
       "      <td>...</td>\n",
       "      <td>...</td>\n",
       "      <td>...</td>\n",
       "      <td>...</td>\n",
       "      <td>...</td>\n",
       "      <td>...</td>\n",
       "      <td>...</td>\n",
       "      <td>...</td>\n",
       "      <td>...</td>\n",
       "    </tr>\n",
       "    <tr>\n",
       "      <th>228433</th>\n",
       "      <td>52</td>\n",
       "      <td>52-07247</td>\n",
       "      <td>8</td>\n",
       "      <td>1</td>\n",
       "      <td>8</td>\n",
       "      <td>19</td>\n",
       "      <td>0</td>\n",
       "      <td>1</td>\n",
       "      <td>0</td>\n",
       "      <td>9</td>\n",
       "      <td>...</td>\n",
       "      <td>86</td>\n",
       "      <td>5</td>\n",
       "      <td>1236</td>\n",
       "      <td>471</td>\n",
       "      <td>464</td>\n",
       "      <td>403</td>\n",
       "      <td>&lt;NA&gt;</td>\n",
       "      <td>&lt;NA&gt;</td>\n",
       "      <td>260</td>\n",
       "      <td>1</td>\n",
       "    </tr>\n",
       "    <tr>\n",
       "      <th>228434</th>\n",
       "      <td>52</td>\n",
       "      <td>52-07248</td>\n",
       "      <td>8</td>\n",
       "      <td>8</td>\n",
       "      <td>8</td>\n",
       "      <td>34</td>\n",
       "      <td>1</td>\n",
       "      <td>3</td>\n",
       "      <td>1</td>\n",
       "      <td>9</td>\n",
       "      <td>...</td>\n",
       "      <td>&lt;NA&gt;</td>\n",
       "      <td>&lt;NA&gt;</td>\n",
       "      <td>168</td>\n",
       "      <td>1580</td>\n",
       "      <td>&lt;NA&gt;</td>\n",
       "      <td>182</td>\n",
       "      <td>&lt;NA&gt;</td>\n",
       "      <td>&lt;NA&gt;</td>\n",
       "      <td>175</td>\n",
       "      <td>1</td>\n",
       "    </tr>\n",
       "    <tr>\n",
       "      <th>228435</th>\n",
       "      <td>52</td>\n",
       "      <td>52-07249</td>\n",
       "      <td>8</td>\n",
       "      <td>8</td>\n",
       "      <td>8</td>\n",
       "      <td>28</td>\n",
       "      <td>3</td>\n",
       "      <td>5</td>\n",
       "      <td>2</td>\n",
       "      <td>9</td>\n",
       "      <td>...</td>\n",
       "      <td>&lt;NA&gt;</td>\n",
       "      <td>&lt;NA&gt;</td>\n",
       "      <td>&lt;NA&gt;</td>\n",
       "      <td>&lt;NA&gt;</td>\n",
       "      <td>&lt;NA&gt;</td>\n",
       "      <td>&lt;NA&gt;</td>\n",
       "      <td>&lt;NA&gt;</td>\n",
       "      <td>&lt;NA&gt;</td>\n",
       "      <td>&lt;NA&gt;</td>\n",
       "      <td>1</td>\n",
       "    </tr>\n",
       "    <tr>\n",
       "      <th>228436</th>\n",
       "      <td>52</td>\n",
       "      <td>52-07250</td>\n",
       "      <td>8</td>\n",
       "      <td>8</td>\n",
       "      <td>8</td>\n",
       "      <td>16</td>\n",
       "      <td>0</td>\n",
       "      <td>1</td>\n",
       "      <td>0</td>\n",
       "      <td>9</td>\n",
       "      <td>...</td>\n",
       "      <td>&lt;NA&gt;</td>\n",
       "      <td>5</td>\n",
       "      <td>&lt;NA&gt;</td>\n",
       "      <td>&lt;NA&gt;</td>\n",
       "      <td>&lt;NA&gt;</td>\n",
       "      <td>248</td>\n",
       "      <td>&lt;NA&gt;</td>\n",
       "      <td>&lt;NA&gt;</td>\n",
       "      <td>&lt;NA&gt;</td>\n",
       "      <td>1</td>\n",
       "    </tr>\n",
       "    <tr>\n",
       "      <th>228437</th>\n",
       "      <td>52</td>\n",
       "      <td>52-07251</td>\n",
       "      <td>8</td>\n",
       "      <td>8</td>\n",
       "      <td>8</td>\n",
       "      <td>44</td>\n",
       "      <td>3</td>\n",
       "      <td>7</td>\n",
       "      <td>3</td>\n",
       "      <td>9</td>\n",
       "      <td>...</td>\n",
       "      <td>4</td>\n",
       "      <td>6</td>\n",
       "      <td>244</td>\n",
       "      <td>&lt;NA&gt;</td>\n",
       "      <td>&lt;NA&gt;</td>\n",
       "      <td>13</td>\n",
       "      <td>&lt;NA&gt;</td>\n",
       "      <td>&lt;NA&gt;</td>\n",
       "      <td>212</td>\n",
       "      <td>1</td>\n",
       "    </tr>\n",
       "  </tbody>\n",
       "</table>\n",
       "<p>228438 rows × 779 columns</p>\n",
       "</div>"
      ],
      "text/plain": [
       "       Sitenum     MomID  Marital  Education  Insurance  Momage  Parity  \\\n",
       "0           41  41-00001        1          3          1      34       4   \n",
       "1           41  41-00001        1          3          1      36       5   \n",
       "2           41  41-00002        1          3          1      37       1   \n",
       "3           41  41-00003        1          3          1      36       1   \n",
       "4           41  41-00004        1          2          1      34       2   \n",
       "...        ...       ...      ...        ...        ...     ...     ...   \n",
       "228433      52  52-07247        8          1          8      19       0   \n",
       "228434      52  52-07248        8          8          8      34       1   \n",
       "228435      52  52-07249        8          8          8      28       3   \n",
       "228436      52  52-07250        8          8          8      16       0   \n",
       "228437      52  52-07251        8          8          8      44       3   \n",
       "\n",
       "        Gravidity  Hxlivebirth  Hxmacrosomia  ...  Fulldilattime  Placenttime  \\\n",
       "0               5            4             1  ...             15            4   \n",
       "1               6            5             2  ...             18            3   \n",
       "2               3            1             1  ...           <NA>            1   \n",
       "3               4            1             1  ...             69            4   \n",
       "4               6            2             1  ...             12            5   \n",
       "...           ...          ...           ...  ...            ...          ...   \n",
       "228433          1            0             9  ...             86            5   \n",
       "228434          3            1             9  ...           <NA>         <NA>   \n",
       "228435          5            2             9  ...           <NA>         <NA>   \n",
       "228436          1            0             9  ...           <NA>            5   \n",
       "228437          7            3             9  ...              4            6   \n",
       "\n",
       "        Inducttime  Ripentime  ROMtime  Epiduraltime  Intraantibtime  USdays  \\\n",
       "0              361       <NA>      300           343             346     103   \n",
       "1              369       <NA>      251           314            <NA>     128   \n",
       "2             <NA>       <NA>        1             4            <NA>     128   \n",
       "3              382       <NA>      369           364            <NA>     133   \n",
       "4              339       <NA>      105           116             455     204   \n",
       "...            ...        ...      ...           ...             ...     ...   \n",
       "228433        1236        471      464           403            <NA>    <NA>   \n",
       "228434         168       1580     <NA>           182            <NA>    <NA>   \n",
       "228435        <NA>       <NA>     <NA>          <NA>            <NA>    <NA>   \n",
       "228436        <NA>       <NA>     <NA>           248            <NA>    <NA>   \n",
       "228437         244       <NA>     <NA>            13            <NA>    <NA>   \n",
       "\n",
       "        LMPdays  onepregflag  \n",
       "0           271            2  \n",
       "1           278            2  \n",
       "2           268            1  \n",
       "3           273            1  \n",
       "4           274            1  \n",
       "...         ...          ...  \n",
       "228433      260            1  \n",
       "228434      175            1  \n",
       "228435     <NA>            1  \n",
       "228436     <NA>            1  \n",
       "228437      212            1  \n",
       "\n",
       "[228438 rows x 779 columns]"
      ]
     },
     "execution_count": 3,
     "metadata": {},
     "output_type": "execute_result"
    }
   ],
   "source": [
    "from util_mwb import convert_integer\n",
    "%time all_types = convert_integer(csl_df)\n",
    "csl_df"
   ]
  },
  {
   "cell_type": "code",
   "execution_count": 4,
   "metadata": {},
   "outputs": [
    {
     "name": "stdout",
     "output_type": "stream",
     "text": [
      "File not written: /MFMDatasets/MFM_bopf/data/csl/MFM_linked-by-preg_typedict.npy\n"
     ]
    }
   ],
   "source": [
    "out_flag = False\n",
    "# Write out dictionary of type mappings\n",
    "filename = '/MFMDatasets/MFM_bopf/data/csl/MFM_linked-by-preg_typedict.npy'\n",
    "if out_flag:\n",
    "    np.save(filename, all_types)\n",
    "else:\n",
    "    print(f'File not written: {filename}')"
   ]
  },
  {
   "cell_type": "code",
   "execution_count": 5,
   "metadata": {},
   "outputs": [],
   "source": [
    "csl_df.set_index('MomID', inplace=True)"
   ]
  },
  {
   "cell_type": "code",
   "execution_count": 6,
   "metadata": {},
   "outputs": [
    {
     "name": "stdout",
     "output_type": "stream",
     "text": [
      "File not written: /MFMDatasets/MFM_bopf/data/csl/MFM_linked-by-preg_Int8.csv\n"
     ]
    }
   ],
   "source": [
    "out_flag = False\n",
    "# Write out Int8 version of file\n",
    "int8_file = '/MFMDatasets/MFM_bopf/data/csl/MFM_linked-by-preg_Int8.csv'\n",
    "if out_flag:\n",
    "    csl_df.to_csv(int8_file)\n",
    "else:\n",
    "    print(f'File not written: {int8_file}')"
   ]
  },
  {
   "cell_type": "code",
   "execution_count": 7,
   "metadata": {},
   "outputs": [],
   "source": [
    "# This test takes a long time, so commented out\n",
    "# test_types = np.load(filename, allow_pickle='TRUE').item()\n",
    "# test_df = pd.read_csv('/MFMDatasets/MFM_bopf/data/csl/MFM_linked-by-preg_Int8.csv', index_col=0, dtype=test_types)\n",
    "# test_df "
   ]
  },
  {
   "cell_type": "code",
   "execution_count": 8,
   "metadata": {},
   "outputs": [],
   "source": [
    "# Test is commented out, so also the memory clean up\n",
    "#del test_types, test_df\n",
    "#%reset_selective -f [test_types, test_df] # Free up extra memory since linkedByPreg is big"
   ]
  },
  {
   "cell_type": "code",
   "execution_count": 9,
   "metadata": {},
   "outputs": [
    {
     "name": "stdout",
     "output_type": "stream",
     "text": [
      "Momage\n",
      "Cerclage\n",
      "Triagedilat\n",
      "Numvagex\n",
      "Bloodproduct\n",
      "Posttransfus\n",
      "Docage\n",
      "Hospdosage1\n",
      "Hospdosage2\n",
      "Hospdosage3\n",
      "Ntransfuse1\n",
      "Ntransfuse2\n",
      "Ntransfuse3\n",
      "Ntransfuse4\n",
      "postpartum_hemorrhage9\n",
      "hemorrhage\n",
      "hemorrhage_new\n",
      "Triagetime\n"
     ]
    }
   ],
   "source": [
    "for col in csl_df:\n",
    "    if 'trans' in col.lower() or 'blood' in col.lower() or 'age' in col.lower():\n",
    "        print(col)"
   ]
  },
  {
   "cell_type": "code",
   "execution_count": 10,
   "metadata": {},
   "outputs": [
    {
     "data": {
      "text/plain": [
       "2    113499\n",
       "1     98233\n",
       "3     16706\n",
       "Name: Hostype, dtype: int64"
      ]
     },
     "execution_count": 10,
     "metadata": {},
     "output_type": "execute_result"
    }
   ],
   "source": [
    "csl_df['Hostype'].astype(int).value_counts()"
   ]
  },
  {
   "cell_type": "code",
   "execution_count": 11,
   "metadata": {
    "scrolled": false
   },
   "outputs": [
    {
     "data": {
      "text/html": [
       "<div>\n",
       "<style scoped>\n",
       "    .dataframe tbody tr th:only-of-type {\n",
       "        vertical-align: middle;\n",
       "    }\n",
       "\n",
       "    .dataframe tbody tr th {\n",
       "        vertical-align: top;\n",
       "    }\n",
       "\n",
       "    .dataframe thead th {\n",
       "        text-align: right;\n",
       "    }\n",
       "</style>\n",
       "<table border=\"1\" class=\"dataframe\">\n",
       "  <thead>\n",
       "    <tr style=\"text-align: right;\">\n",
       "      <th>Sitenum</th>\n",
       "      <th>41</th>\n",
       "      <th>42</th>\n",
       "      <th>43</th>\n",
       "      <th>44</th>\n",
       "      <th>45</th>\n",
       "      <th>46</th>\n",
       "      <th>47</th>\n",
       "      <th>48</th>\n",
       "      <th>49</th>\n",
       "      <th>50</th>\n",
       "      <th>51</th>\n",
       "      <th>52</th>\n",
       "    </tr>\n",
       "    <tr>\n",
       "      <th>Hostype</th>\n",
       "      <th></th>\n",
       "      <th></th>\n",
       "      <th></th>\n",
       "      <th></th>\n",
       "      <th></th>\n",
       "      <th></th>\n",
       "      <th></th>\n",
       "      <th></th>\n",
       "      <th></th>\n",
       "      <th></th>\n",
       "      <th></th>\n",
       "      <th></th>\n",
       "    </tr>\n",
       "  </thead>\n",
       "  <tbody>\n",
       "    <tr>\n",
       "      <th>1</th>\n",
       "      <td>0</td>\n",
       "      <td>6420</td>\n",
       "      <td>12637</td>\n",
       "      <td>23141</td>\n",
       "      <td>0</td>\n",
       "      <td>7877</td>\n",
       "      <td>0</td>\n",
       "      <td>18258</td>\n",
       "      <td>3759</td>\n",
       "      <td>0</td>\n",
       "      <td>18392</td>\n",
       "      <td>7749</td>\n",
       "    </tr>\n",
       "    <tr>\n",
       "      <th>2</th>\n",
       "      <td>33614</td>\n",
       "      <td>0</td>\n",
       "      <td>0</td>\n",
       "      <td>0</td>\n",
       "      <td>20329</td>\n",
       "      <td>0</td>\n",
       "      <td>14667</td>\n",
       "      <td>0</td>\n",
       "      <td>24110</td>\n",
       "      <td>20779</td>\n",
       "      <td>0</td>\n",
       "      <td>0</td>\n",
       "    </tr>\n",
       "    <tr>\n",
       "      <th>3</th>\n",
       "      <td>16706</td>\n",
       "      <td>0</td>\n",
       "      <td>0</td>\n",
       "      <td>0</td>\n",
       "      <td>0</td>\n",
       "      <td>0</td>\n",
       "      <td>0</td>\n",
       "      <td>0</td>\n",
       "      <td>0</td>\n",
       "      <td>0</td>\n",
       "      <td>0</td>\n",
       "      <td>0</td>\n",
       "    </tr>\n",
       "  </tbody>\n",
       "</table>\n",
       "</div>"
      ],
      "text/plain": [
       "Sitenum     41    42     43     44     45    46     47     48     49     50  \\\n",
       "Hostype                                                                       \n",
       "1            0  6420  12637  23141      0  7877      0  18258   3759      0   \n",
       "2        33614     0      0      0  20329     0  14667      0  24110  20779   \n",
       "3        16706     0      0      0      0     0      0      0      0      0   \n",
       "\n",
       "Sitenum     51    52  \n",
       "Hostype               \n",
       "1        18392  7749  \n",
       "2            0     0  \n",
       "3            0     0  "
      ]
     },
     "execution_count": 11,
     "metadata": {},
     "output_type": "execute_result"
    }
   ],
   "source": [
    "pd.crosstab(index=csl_df['Hostype'], columns=csl_df['Sitenum'])"
   ]
  },
  {
   "cell_type": "code",
   "execution_count": 12,
   "metadata": {},
   "outputs": [
    {
     "data": {
      "text/plain": [
       "1      53704\n",
       "2      62443\n",
       "777    23141\n",
       "666    68712\n",
       "555    20438\n",
       "Name: Inoxy_incrdose, dtype: int64"
      ]
     },
     "execution_count": 12,
     "metadata": {},
     "output_type": "execute_result"
    }
   ],
   "source": [
    "csl_df['Inoxy_incrdose'].astype(int).value_counts(sort=False)"
   ]
  },
  {
   "cell_type": "code",
   "execution_count": 13,
   "metadata": {},
   "outputs": [
    {
     "name": "stdout",
     "output_type": "stream",
     "text": [
      "228438\n"
     ]
    },
    {
     "data": {
      "text/html": [
       "<div>\n",
       "<style scoped>\n",
       "    .dataframe tbody tr th:only-of-type {\n",
       "        vertical-align: middle;\n",
       "    }\n",
       "\n",
       "    .dataframe tbody tr th {\n",
       "        vertical-align: top;\n",
       "    }\n",
       "\n",
       "    .dataframe thead th {\n",
       "        text-align: right;\n",
       "    }\n",
       "</style>\n",
       "<table border=\"1\" class=\"dataframe\">\n",
       "  <thead>\n",
       "    <tr style=\"text-align: right;\">\n",
       "      <th></th>\n",
       "      <th>Bloodproduct</th>\n",
       "      <th>Posttransfus</th>\n",
       "      <th>EBLoss</th>\n",
       "      <th>Delmode</th>\n",
       "    </tr>\n",
       "    <tr>\n",
       "      <th>MomID</th>\n",
       "      <th></th>\n",
       "      <th></th>\n",
       "      <th></th>\n",
       "      <th></th>\n",
       "    </tr>\n",
       "  </thead>\n",
       "  <tbody>\n",
       "    <tr>\n",
       "      <th>41-00001</th>\n",
       "      <td>1</td>\n",
       "      <td>1</td>\n",
       "      <td>NaN</td>\n",
       "      <td>1</td>\n",
       "    </tr>\n",
       "    <tr>\n",
       "      <th>41-00001</th>\n",
       "      <td>1</td>\n",
       "      <td>1</td>\n",
       "      <td>NaN</td>\n",
       "      <td>1</td>\n",
       "    </tr>\n",
       "    <tr>\n",
       "      <th>41-00002</th>\n",
       "      <td>1</td>\n",
       "      <td>1</td>\n",
       "      <td>NaN</td>\n",
       "      <td>5</td>\n",
       "    </tr>\n",
       "    <tr>\n",
       "      <th>41-00003</th>\n",
       "      <td>1</td>\n",
       "      <td>1</td>\n",
       "      <td>250.0</td>\n",
       "      <td>1</td>\n",
       "    </tr>\n",
       "    <tr>\n",
       "      <th>41-00004</th>\n",
       "      <td>1</td>\n",
       "      <td>1</td>\n",
       "      <td>250.0</td>\n",
       "      <td>1</td>\n",
       "    </tr>\n",
       "  </tbody>\n",
       "</table>\n",
       "</div>"
      ],
      "text/plain": [
       "          Bloodproduct  Posttransfus  EBLoss  Delmode\n",
       "MomID                                                \n",
       "41-00001             1             1     NaN        1\n",
       "41-00001             1             1     NaN        1\n",
       "41-00002             1             1     NaN        5\n",
       "41-00003             1             1   250.0        1\n",
       "41-00004             1             1   250.0        1"
      ]
     },
     "execution_count": 13,
     "metadata": {},
     "output_type": "execute_result"
    }
   ],
   "source": [
    "trans_df = csl_df[['Bloodproduct','Posttransfus', 'EBLoss', 'Delmode']].copy()\n",
    "print(len(trans_df.index))\n",
    "trans_df['EBLoss'].isna().sum()\n",
    "trans_df.head()  # Note - the util_mwb.convert_integer function changes the DataFrame *in place*"
   ]
  },
  {
   "cell_type": "code",
   "execution_count": 14,
   "metadata": {},
   "outputs": [
    {
     "name": "stdout",
     "output_type": "stream",
     "text": [
      "170535\n"
     ]
    }
   ],
   "source": [
    "print(228438 - 57903)"
   ]
  },
  {
   "cell_type": "code",
   "execution_count": 15,
   "metadata": {},
   "outputs": [
    {
     "data": {
      "text/plain": [
       "(-0.001, 999.9]      162912\n",
       "(999.9, 990000.0]      7623\n",
       "Name: EBLoss, dtype: int64"
      ]
     },
     "execution_count": 15,
     "metadata": {},
     "output_type": "execute_result"
    }
   ],
   "source": [
    "trans_df['EBLoss'].value_counts(dropna=False, bins=[0,999.9,990000])"
   ]
  },
  {
   "cell_type": "code",
   "execution_count": 16,
   "metadata": {},
   "outputs": [
    {
     "name": "stdout",
     "output_type": "stream",
     "text": [
      "170535\n"
     ]
    }
   ],
   "source": [
    "print(162912 + 7623)"
   ]
  },
  {
   "cell_type": "code",
   "execution_count": 17,
   "metadata": {},
   "outputs": [
    {
     "data": {
      "text/plain": [
       "1      168992\n",
       "2        1709\n",
       "9       57737\n",
       "NaN         0\n",
       "Name: Bloodproduct, dtype: Int64"
      ]
     },
     "execution_count": 17,
     "metadata": {},
     "output_type": "execute_result"
    }
   ],
   "source": [
    "trans_df['Bloodproduct'].value_counts(dropna=False).sort_index()"
   ]
  },
  {
   "cell_type": "code",
   "execution_count": 18,
   "metadata": {},
   "outputs": [
    {
     "data": {
      "text/html": [
       "<div>\n",
       "<style scoped>\n",
       "    .dataframe tbody tr th:only-of-type {\n",
       "        vertical-align: middle;\n",
       "    }\n",
       "\n",
       "    .dataframe tbody tr th {\n",
       "        vertical-align: top;\n",
       "    }\n",
       "\n",
       "    .dataframe thead th {\n",
       "        text-align: right;\n",
       "    }\n",
       "</style>\n",
       "<table border=\"1\" class=\"dataframe\">\n",
       "  <thead>\n",
       "    <tr style=\"text-align: right;\">\n",
       "      <th></th>\n",
       "      <th>Bloodproduct</th>\n",
       "      <th>Posttransfus</th>\n",
       "      <th>EBLoss</th>\n",
       "      <th>Delmode</th>\n",
       "      <th>xfus_any</th>\n",
       "    </tr>\n",
       "    <tr>\n",
       "      <th>MomID</th>\n",
       "      <th></th>\n",
       "      <th></th>\n",
       "      <th></th>\n",
       "      <th></th>\n",
       "      <th></th>\n",
       "    </tr>\n",
       "  </thead>\n",
       "  <tbody>\n",
       "    <tr>\n",
       "      <th>41-00001</th>\n",
       "      <td>1</td>\n",
       "      <td>1</td>\n",
       "      <td>NaN</td>\n",
       "      <td>1</td>\n",
       "      <td>0</td>\n",
       "    </tr>\n",
       "    <tr>\n",
       "      <th>41-00001</th>\n",
       "      <td>1</td>\n",
       "      <td>1</td>\n",
       "      <td>NaN</td>\n",
       "      <td>1</td>\n",
       "      <td>0</td>\n",
       "    </tr>\n",
       "    <tr>\n",
       "      <th>41-00002</th>\n",
       "      <td>1</td>\n",
       "      <td>1</td>\n",
       "      <td>NaN</td>\n",
       "      <td>5</td>\n",
       "      <td>0</td>\n",
       "    </tr>\n",
       "    <tr>\n",
       "      <th>41-00003</th>\n",
       "      <td>1</td>\n",
       "      <td>1</td>\n",
       "      <td>250.0</td>\n",
       "      <td>1</td>\n",
       "      <td>0</td>\n",
       "    </tr>\n",
       "    <tr>\n",
       "      <th>41-00004</th>\n",
       "      <td>1</td>\n",
       "      <td>1</td>\n",
       "      <td>250.0</td>\n",
       "      <td>1</td>\n",
       "      <td>0</td>\n",
       "    </tr>\n",
       "    <tr>\n",
       "      <th>...</th>\n",
       "      <td>...</td>\n",
       "      <td>...</td>\n",
       "      <td>...</td>\n",
       "      <td>...</td>\n",
       "      <td>...</td>\n",
       "    </tr>\n",
       "    <tr>\n",
       "      <th>52-07247</th>\n",
       "      <td>1</td>\n",
       "      <td>1</td>\n",
       "      <td>300.0</td>\n",
       "      <td>2</td>\n",
       "      <td>0</td>\n",
       "    </tr>\n",
       "    <tr>\n",
       "      <th>52-07248</th>\n",
       "      <td>1</td>\n",
       "      <td>1</td>\n",
       "      <td>100.0</td>\n",
       "      <td>3</td>\n",
       "      <td>0</td>\n",
       "    </tr>\n",
       "    <tr>\n",
       "      <th>52-07249</th>\n",
       "      <td>2</td>\n",
       "      <td>1</td>\n",
       "      <td>2000.0</td>\n",
       "      <td>5</td>\n",
       "      <td>1</td>\n",
       "    </tr>\n",
       "    <tr>\n",
       "      <th>52-07250</th>\n",
       "      <td>1</td>\n",
       "      <td>1</td>\n",
       "      <td>150.0</td>\n",
       "      <td>1</td>\n",
       "      <td>0</td>\n",
       "    </tr>\n",
       "    <tr>\n",
       "      <th>52-07251</th>\n",
       "      <td>1</td>\n",
       "      <td>1</td>\n",
       "      <td>400.0</td>\n",
       "      <td>1</td>\n",
       "      <td>0</td>\n",
       "    </tr>\n",
       "  </tbody>\n",
       "</table>\n",
       "<p>228438 rows × 5 columns</p>\n",
       "</div>"
      ],
      "text/plain": [
       "          Bloodproduct  Posttransfus  EBLoss  Delmode  xfus_any\n",
       "MomID                                                          \n",
       "41-00001             1             1     NaN        1         0\n",
       "41-00001             1             1     NaN        1         0\n",
       "41-00002             1             1     NaN        5         0\n",
       "41-00003             1             1   250.0        1         0\n",
       "41-00004             1             1   250.0        1         0\n",
       "...                ...           ...     ...      ...       ...\n",
       "52-07247             1             1   300.0        2         0\n",
       "52-07248             1             1   100.0        3         0\n",
       "52-07249             2             1  2000.0        5         1\n",
       "52-07250             1             1   150.0        1         0\n",
       "52-07251             1             1   400.0        1         0\n",
       "\n",
       "[228438 rows x 5 columns]"
      ]
     },
     "execution_count": 18,
     "metadata": {},
     "output_type": "execute_result"
    }
   ],
   "source": [
    "trans_df['xfus_any'] = 0\n",
    "trans_df.loc[(trans_df['Bloodproduct'] == 2) | (trans_df['Posttransfus'] == 2), 'xfus_any'] = 1\n",
    "trans_df"
   ]
  },
  {
   "cell_type": "code",
   "execution_count": 19,
   "metadata": {},
   "outputs": [
    {
     "data": {
      "text/html": [
       "<div>\n",
       "<style scoped>\n",
       "    .dataframe tbody tr th:only-of-type {\n",
       "        vertical-align: middle;\n",
       "    }\n",
       "\n",
       "    .dataframe tbody tr th {\n",
       "        vertical-align: top;\n",
       "    }\n",
       "\n",
       "    .dataframe thead th {\n",
       "        text-align: right;\n",
       "    }\n",
       "</style>\n",
       "<table border=\"1\" class=\"dataframe\">\n",
       "  <thead>\n",
       "    <tr style=\"text-align: right;\">\n",
       "      <th></th>\n",
       "      <th>Bloodproduct</th>\n",
       "      <th>Posttransfus</th>\n",
       "      <th>EBLoss</th>\n",
       "      <th>Delmode</th>\n",
       "      <th>xfus_any</th>\n",
       "      <th>high_EBL</th>\n",
       "    </tr>\n",
       "    <tr>\n",
       "      <th>MomID</th>\n",
       "      <th></th>\n",
       "      <th></th>\n",
       "      <th></th>\n",
       "      <th></th>\n",
       "      <th></th>\n",
       "      <th></th>\n",
       "    </tr>\n",
       "  </thead>\n",
       "  <tbody>\n",
       "    <tr>\n",
       "      <th>41-00001</th>\n",
       "      <td>1</td>\n",
       "      <td>1</td>\n",
       "      <td>NaN</td>\n",
       "      <td>1</td>\n",
       "      <td>0</td>\n",
       "      <td>0</td>\n",
       "    </tr>\n",
       "    <tr>\n",
       "      <th>41-00001</th>\n",
       "      <td>1</td>\n",
       "      <td>1</td>\n",
       "      <td>NaN</td>\n",
       "      <td>1</td>\n",
       "      <td>0</td>\n",
       "      <td>0</td>\n",
       "    </tr>\n",
       "    <tr>\n",
       "      <th>41-00002</th>\n",
       "      <td>1</td>\n",
       "      <td>1</td>\n",
       "      <td>NaN</td>\n",
       "      <td>5</td>\n",
       "      <td>0</td>\n",
       "      <td>0</td>\n",
       "    </tr>\n",
       "    <tr>\n",
       "      <th>41-00003</th>\n",
       "      <td>1</td>\n",
       "      <td>1</td>\n",
       "      <td>250.0</td>\n",
       "      <td>1</td>\n",
       "      <td>0</td>\n",
       "      <td>0</td>\n",
       "    </tr>\n",
       "    <tr>\n",
       "      <th>41-00004</th>\n",
       "      <td>1</td>\n",
       "      <td>1</td>\n",
       "      <td>250.0</td>\n",
       "      <td>1</td>\n",
       "      <td>0</td>\n",
       "      <td>0</td>\n",
       "    </tr>\n",
       "    <tr>\n",
       "      <th>...</th>\n",
       "      <td>...</td>\n",
       "      <td>...</td>\n",
       "      <td>...</td>\n",
       "      <td>...</td>\n",
       "      <td>...</td>\n",
       "      <td>...</td>\n",
       "    </tr>\n",
       "    <tr>\n",
       "      <th>52-07247</th>\n",
       "      <td>1</td>\n",
       "      <td>1</td>\n",
       "      <td>300.0</td>\n",
       "      <td>2</td>\n",
       "      <td>0</td>\n",
       "      <td>0</td>\n",
       "    </tr>\n",
       "    <tr>\n",
       "      <th>52-07248</th>\n",
       "      <td>1</td>\n",
       "      <td>1</td>\n",
       "      <td>100.0</td>\n",
       "      <td>3</td>\n",
       "      <td>0</td>\n",
       "      <td>0</td>\n",
       "    </tr>\n",
       "    <tr>\n",
       "      <th>52-07249</th>\n",
       "      <td>2</td>\n",
       "      <td>1</td>\n",
       "      <td>2000.0</td>\n",
       "      <td>5</td>\n",
       "      <td>1</td>\n",
       "      <td>1</td>\n",
       "    </tr>\n",
       "    <tr>\n",
       "      <th>52-07250</th>\n",
       "      <td>1</td>\n",
       "      <td>1</td>\n",
       "      <td>150.0</td>\n",
       "      <td>1</td>\n",
       "      <td>0</td>\n",
       "      <td>0</td>\n",
       "    </tr>\n",
       "    <tr>\n",
       "      <th>52-07251</th>\n",
       "      <td>1</td>\n",
       "      <td>1</td>\n",
       "      <td>400.0</td>\n",
       "      <td>1</td>\n",
       "      <td>0</td>\n",
       "      <td>0</td>\n",
       "    </tr>\n",
       "  </tbody>\n",
       "</table>\n",
       "<p>228438 rows × 6 columns</p>\n",
       "</div>"
      ],
      "text/plain": [
       "          Bloodproduct  Posttransfus  EBLoss  Delmode  xfus_any  high_EBL\n",
       "MomID                                                                    \n",
       "41-00001             1             1     NaN        1         0         0\n",
       "41-00001             1             1     NaN        1         0         0\n",
       "41-00002             1             1     NaN        5         0         0\n",
       "41-00003             1             1   250.0        1         0         0\n",
       "41-00004             1             1   250.0        1         0         0\n",
       "...                ...           ...     ...      ...       ...       ...\n",
       "52-07247             1             1   300.0        2         0         0\n",
       "52-07248             1             1   100.0        3         0         0\n",
       "52-07249             2             1  2000.0        5         1         1\n",
       "52-07250             1             1   150.0        1         0         0\n",
       "52-07251             1             1   400.0        1         0         0\n",
       "\n",
       "[228438 rows x 6 columns]"
      ]
     },
     "execution_count": 19,
     "metadata": {},
     "output_type": "execute_result"
    }
   ],
   "source": [
    "trans_df['high_EBL'] = 0\n",
    "trans_df.loc[(trans_df['EBLoss'] >= 1000), 'high_EBL'] = 1\n",
    "trans_df"
   ]
  },
  {
   "cell_type": "code",
   "execution_count": 20,
   "metadata": {},
   "outputs": [
    {
     "data": {
      "text/html": [
       "<div>\n",
       "<style scoped>\n",
       "    .dataframe tbody tr th:only-of-type {\n",
       "        vertical-align: middle;\n",
       "    }\n",
       "\n",
       "    .dataframe tbody tr th {\n",
       "        vertical-align: top;\n",
       "    }\n",
       "\n",
       "    .dataframe thead th {\n",
       "        text-align: right;\n",
       "    }\n",
       "</style>\n",
       "<table border=\"1\" class=\"dataframe\">\n",
       "  <thead>\n",
       "    <tr style=\"text-align: right;\">\n",
       "      <th></th>\n",
       "      <th>Bloodproduct</th>\n",
       "      <th>Posttransfus</th>\n",
       "      <th>EBLoss</th>\n",
       "      <th>Delmode</th>\n",
       "      <th>xfus_any</th>\n",
       "      <th>high_EBL</th>\n",
       "    </tr>\n",
       "    <tr>\n",
       "      <th>MomID</th>\n",
       "      <th></th>\n",
       "      <th></th>\n",
       "      <th></th>\n",
       "      <th></th>\n",
       "      <th></th>\n",
       "      <th></th>\n",
       "    </tr>\n",
       "  </thead>\n",
       "  <tbody>\n",
       "    <tr>\n",
       "      <th>41-00001</th>\n",
       "      <td>1</td>\n",
       "      <td>1</td>\n",
       "      <td>NaN</td>\n",
       "      <td>1</td>\n",
       "      <td>0</td>\n",
       "      <td>9</td>\n",
       "    </tr>\n",
       "    <tr>\n",
       "      <th>41-00001</th>\n",
       "      <td>1</td>\n",
       "      <td>1</td>\n",
       "      <td>NaN</td>\n",
       "      <td>1</td>\n",
       "      <td>0</td>\n",
       "      <td>9</td>\n",
       "    </tr>\n",
       "    <tr>\n",
       "      <th>41-00002</th>\n",
       "      <td>1</td>\n",
       "      <td>1</td>\n",
       "      <td>NaN</td>\n",
       "      <td>5</td>\n",
       "      <td>0</td>\n",
       "      <td>9</td>\n",
       "    </tr>\n",
       "    <tr>\n",
       "      <th>41-00003</th>\n",
       "      <td>1</td>\n",
       "      <td>1</td>\n",
       "      <td>250.0</td>\n",
       "      <td>1</td>\n",
       "      <td>0</td>\n",
       "      <td>0</td>\n",
       "    </tr>\n",
       "    <tr>\n",
       "      <th>41-00004</th>\n",
       "      <td>1</td>\n",
       "      <td>1</td>\n",
       "      <td>250.0</td>\n",
       "      <td>1</td>\n",
       "      <td>0</td>\n",
       "      <td>0</td>\n",
       "    </tr>\n",
       "    <tr>\n",
       "      <th>...</th>\n",
       "      <td>...</td>\n",
       "      <td>...</td>\n",
       "      <td>...</td>\n",
       "      <td>...</td>\n",
       "      <td>...</td>\n",
       "      <td>...</td>\n",
       "    </tr>\n",
       "    <tr>\n",
       "      <th>52-07247</th>\n",
       "      <td>1</td>\n",
       "      <td>1</td>\n",
       "      <td>300.0</td>\n",
       "      <td>2</td>\n",
       "      <td>0</td>\n",
       "      <td>0</td>\n",
       "    </tr>\n",
       "    <tr>\n",
       "      <th>52-07248</th>\n",
       "      <td>1</td>\n",
       "      <td>1</td>\n",
       "      <td>100.0</td>\n",
       "      <td>3</td>\n",
       "      <td>0</td>\n",
       "      <td>0</td>\n",
       "    </tr>\n",
       "    <tr>\n",
       "      <th>52-07249</th>\n",
       "      <td>2</td>\n",
       "      <td>1</td>\n",
       "      <td>2000.0</td>\n",
       "      <td>5</td>\n",
       "      <td>1</td>\n",
       "      <td>1</td>\n",
       "    </tr>\n",
       "    <tr>\n",
       "      <th>52-07250</th>\n",
       "      <td>1</td>\n",
       "      <td>1</td>\n",
       "      <td>150.0</td>\n",
       "      <td>1</td>\n",
       "      <td>0</td>\n",
       "      <td>0</td>\n",
       "    </tr>\n",
       "    <tr>\n",
       "      <th>52-07251</th>\n",
       "      <td>1</td>\n",
       "      <td>1</td>\n",
       "      <td>400.0</td>\n",
       "      <td>1</td>\n",
       "      <td>0</td>\n",
       "      <td>0</td>\n",
       "    </tr>\n",
       "  </tbody>\n",
       "</table>\n",
       "<p>228438 rows × 6 columns</p>\n",
       "</div>"
      ],
      "text/plain": [
       "          Bloodproduct  Posttransfus  EBLoss  Delmode  xfus_any  high_EBL\n",
       "MomID                                                                    \n",
       "41-00001             1             1     NaN        1         0         9\n",
       "41-00001             1             1     NaN        1         0         9\n",
       "41-00002             1             1     NaN        5         0         9\n",
       "41-00003             1             1   250.0        1         0         0\n",
       "41-00004             1             1   250.0        1         0         0\n",
       "...                ...           ...     ...      ...       ...       ...\n",
       "52-07247             1             1   300.0        2         0         0\n",
       "52-07248             1             1   100.0        3         0         0\n",
       "52-07249             2             1  2000.0        5         1         1\n",
       "52-07250             1             1   150.0        1         0         0\n",
       "52-07251             1             1   400.0        1         0         0\n",
       "\n",
       "[228438 rows x 6 columns]"
      ]
     },
     "execution_count": 20,
     "metadata": {},
     "output_type": "execute_result"
    }
   ],
   "source": [
    "trans_df['high_EBL'] = 0\n",
    "trans_df.loc[(trans_df['EBLoss'] >= 1000), 'high_EBL'] = 1\n",
    "trans_df.loc[(trans_df['EBLoss'].isna()), 'high_EBL'] = 9\n",
    "trans_df"
   ]
  },
  {
   "cell_type": "markdown",
   "metadata": {},
   "source": [
    "## Save off high_EBLoss to file"
   ]
  },
  {
   "cell_type": "code",
   "execution_count": 21,
   "metadata": {},
   "outputs": [],
   "source": [
    "high_EBL_df = pd.DataFrame(trans_df['high_EBL'])"
   ]
  },
  {
   "cell_type": "code",
   "execution_count": 22,
   "metadata": {},
   "outputs": [
    {
     "name": "stdout",
     "output_type": "stream",
     "text": [
      "File not written: /MFMDatasets/MFM_bopf/data/csl/high_EBL.txt\n"
     ]
    }
   ],
   "source": [
    "out_flag = False\n",
    "filename = '/MFMDatasets/MFM_bopf/data/csl/high_EBL.txt'\n",
    "if out_flag:\n",
    "    high_EBL_df.to_csv(filename, header=True)\n",
    "else:\n",
    "    print(f'File not written: {filename}')"
   ]
  },
  {
   "cell_type": "code",
   "execution_count": 23,
   "metadata": {},
   "outputs": [
    {
     "data": {
      "text/plain": [
       "0    162912\n",
       "1      7623\n",
       "9     57903\n",
       "Name: high_EBL, dtype: int64"
      ]
     },
     "execution_count": 23,
     "metadata": {},
     "output_type": "execute_result"
    }
   ],
   "source": [
    "trans_df['high_EBL'].value_counts(dropna=False).sort_index()"
   ]
  },
  {
   "cell_type": "code",
   "execution_count": 24,
   "metadata": {},
   "outputs": [
    {
     "data": {
      "text/plain": [
       "1      136745\n",
       "2        5392\n",
       "9       86300\n",
       "NaN         1\n",
       "Name: Posttransfus, dtype: Int64"
      ]
     },
     "execution_count": 24,
     "metadata": {},
     "output_type": "execute_result"
    }
   ],
   "source": [
    "trans_df['Posttransfus'].value_counts(dropna=False).sort_index()"
   ]
  },
  {
   "cell_type": "code",
   "execution_count": 25,
   "metadata": {},
   "outputs": [
    {
     "data": {
      "text/plain": [
       "1      85476\n",
       "2       2200\n",
       "9      75236\n",
       "NaN        0\n",
       "Name: Posttransfus, dtype: Int64"
      ]
     },
     "execution_count": 25,
     "metadata": {},
     "output_type": "execute_result"
    }
   ],
   "source": [
    "trans_df[trans_df['high_EBL'] == 0]['Posttransfus'].value_counts(dropna=False).sort_index()"
   ]
  },
  {
   "cell_type": "code",
   "execution_count": 26,
   "metadata": {},
   "outputs": [
    {
     "data": {
      "text/plain": [
       "1      3723\n",
       "2       457\n",
       "9      3443\n",
       "NaN       0\n",
       "Name: Posttransfus, dtype: Int64"
      ]
     },
     "execution_count": 26,
     "metadata": {},
     "output_type": "execute_result"
    }
   ],
   "source": [
    "trans_df[trans_df['high_EBL'] == 1]['Posttransfus'].value_counts(dropna=False).sort_index()"
   ]
  },
  {
   "cell_type": "code",
   "execution_count": 27,
   "metadata": {},
   "outputs": [
    {
     "data": {
      "text/plain": [
       "1      47546\n",
       "2       2735\n",
       "9       7621\n",
       "NaN        1\n",
       "Name: Posttransfus, dtype: Int64"
      ]
     },
     "execution_count": 27,
     "metadata": {},
     "output_type": "execute_result"
    }
   ],
   "source": [
    "trans_df[trans_df['high_EBL'] == 9]['Posttransfus'].value_counts(dropna=False).sort_index()"
   ]
  },
  {
   "cell_type": "code",
   "execution_count": 28,
   "metadata": {},
   "outputs": [
    {
     "data": {
      "text/plain": [
       "0    160188\n",
       "1      2724\n",
       "Name: xfus_any, dtype: int64"
      ]
     },
     "execution_count": 28,
     "metadata": {},
     "output_type": "execute_result"
    }
   ],
   "source": [
    "trans_df[trans_df['high_EBL'] == 0]['xfus_any'].value_counts(dropna=False).sort_index()"
   ]
  },
  {
   "cell_type": "code",
   "execution_count": 29,
   "metadata": {},
   "outputs": [
    {
     "data": {
      "text/plain": [
       "0    6834\n",
       "1     789\n",
       "Name: xfus_any, dtype: int64"
      ]
     },
     "execution_count": 29,
     "metadata": {},
     "output_type": "execute_result"
    }
   ],
   "source": [
    "trans_df[trans_df['high_EBL'] == 1]['xfus_any'].value_counts(dropna=False).sort_index()"
   ]
  },
  {
   "cell_type": "code",
   "execution_count": 30,
   "metadata": {},
   "outputs": [
    {
     "data": {
      "text/plain": [
       "0    55125\n",
       "1     2778\n",
       "Name: xfus_any, dtype: int64"
      ]
     },
     "execution_count": 30,
     "metadata": {},
     "output_type": "execute_result"
    }
   ],
   "source": [
    "trans_df[trans_df['high_EBL'] == 9]['xfus_any'].value_counts(dropna=False).sort_index()"
   ]
  },
  {
   "cell_type": "code",
   "execution_count": 31,
   "metadata": {},
   "outputs": [
    {
     "data": {
      "text/plain": [
       "1      47546\n",
       "2       2735\n",
       "9       7621\n",
       "NaN        1\n",
       "Name: Posttransfus, dtype: Int64"
      ]
     },
     "execution_count": 31,
     "metadata": {},
     "output_type": "execute_result"
    }
   ],
   "source": [
    "trans_df[trans_df['EBLoss'].isna()]['Posttransfus'].value_counts(dropna=False).sort_index()"
   ]
  },
  {
   "cell_type": "code",
   "execution_count": 32,
   "metadata": {},
   "outputs": [
    {
     "data": {
      "text/plain": [
       "0    2200\n",
       "1     457\n",
       "9    2735\n",
       "Name: high_EBL, dtype: int64"
      ]
     },
     "execution_count": 32,
     "metadata": {},
     "output_type": "execute_result"
    }
   ],
   "source": [
    "trans_df[trans_df['Posttransfus'] == 2]['high_EBL'].value_counts(dropna=False).sort_index()"
   ]
  },
  {
   "cell_type": "code",
   "execution_count": 33,
   "metadata": {},
   "outputs": [
    {
     "data": {
      "text/plain": [
       "0    85476\n",
       "1     3723\n",
       "9    47546\n",
       "Name: high_EBL, dtype: int64"
      ]
     },
     "execution_count": 33,
     "metadata": {},
     "output_type": "execute_result"
    }
   ],
   "source": [
    "trans_df[trans_df['Posttransfus'] == 1]['high_EBL'].value_counts(dropna=False).sort_index()"
   ]
  },
  {
   "cell_type": "code",
   "execution_count": 34,
   "metadata": {},
   "outputs": [
    {
     "data": {
      "text/plain": [
       "0    75236\n",
       "1     3443\n",
       "9     7621\n",
       "Name: high_EBL, dtype: int64"
      ]
     },
     "execution_count": 34,
     "metadata": {},
     "output_type": "execute_result"
    }
   ],
   "source": [
    "trans_df[trans_df['Posttransfus'] == 9]['high_EBL'].value_counts(dropna=False).sort_index()"
   ]
  },
  {
   "cell_type": "code",
   "execution_count": 35,
   "metadata": {},
   "outputs": [
    {
     "data": {
      "text/plain": [
       "7621"
      ]
     },
     "execution_count": 35,
     "metadata": {},
     "output_type": "execute_result"
    }
   ],
   "source": [
    "trans_df[trans_df['Posttransfus'] == 9]['EBLoss'].isna().sum()"
   ]
  },
  {
   "cell_type": "code",
   "execution_count": 36,
   "metadata": {},
   "outputs": [
    {
     "data": {
      "text/plain": [
       "(-0.001, 999.0]      75236\n",
       "(999.0, 990000.0]     3443\n",
       "Name: EBLoss, dtype: int64"
      ]
     },
     "execution_count": 36,
     "metadata": {},
     "output_type": "execute_result"
    }
   ],
   "source": [
    "trans_df[trans_df['Posttransfus'] == 9]['EBLoss'].value_counts(bins=[0,999,990000])"
   ]
  },
  {
   "cell_type": "code",
   "execution_count": 37,
   "metadata": {},
   "outputs": [
    {
     "data": {
      "text/plain": [
       "7623"
      ]
     },
     "execution_count": 37,
     "metadata": {},
     "output_type": "execute_result"
    }
   ],
   "source": [
    "vhem = trans_df[trans_df['EBLoss'] >= 1000]\n",
    "len(vhem.index)"
   ]
  },
  {
   "cell_type": "code",
   "execution_count": 38,
   "metadata": {},
   "outputs": [
    {
     "data": {
      "text/plain": [
       "1    3723\n",
       "2     457\n",
       "9    3443\n",
       "Name: Posttransfus, dtype: Int64"
      ]
     },
     "execution_count": 38,
     "metadata": {},
     "output_type": "execute_result"
    }
   ],
   "source": [
    "vhem['Posttransfus'].value_counts(sort=False).sort_index()"
   ]
  },
  {
   "cell_type": "code",
   "execution_count": 39,
   "metadata": {},
   "outputs": [
    {
     "data": {
      "text/plain": [
       "162912"
      ]
     },
     "execution_count": 39,
     "metadata": {},
     "output_type": "execute_result"
    }
   ],
   "source": [
    "vhem_not = trans_df[trans_df['EBLoss'] < 1000]\n",
    "len(vhem_not.index)"
   ]
  },
  {
   "cell_type": "code",
   "execution_count": 40,
   "metadata": {},
   "outputs": [
    {
     "data": {
      "text/plain": [
       "1    85476\n",
       "2     2200\n",
       "9    75236\n",
       "Name: Posttransfus, dtype: Int64"
      ]
     },
     "execution_count": 40,
     "metadata": {},
     "output_type": "execute_result"
    }
   ],
   "source": [
    "vhem_not['Posttransfus'].value_counts().sort_index()"
   ]
  },
  {
   "cell_type": "code",
   "execution_count": 41,
   "metadata": {},
   "outputs": [
    {
     "data": {
      "text/plain": [
       "(-0.001, 999.0]      162912\n",
       "(999.0, 900000.0]      7622\n",
       "Name: EBLoss, dtype: int64"
      ]
     },
     "execution_count": 41,
     "metadata": {},
     "output_type": "execute_result"
    }
   ],
   "source": [
    "trans_df['EBLoss'].value_counts(dropna=False, bins=[0,999,900000])"
   ]
  },
  {
   "cell_type": "code",
   "execution_count": 42,
   "metadata": {},
   "outputs": [
    {
     "data": {
      "text/plain": [
       "1      136745\n",
       "2        5392\n",
       "9       86300\n",
       "NaN         1\n",
       "Name: Posttransfus, dtype: Int64"
      ]
     },
     "execution_count": 42,
     "metadata": {},
     "output_type": "execute_result"
    }
   ],
   "source": [
    "trans_df['Posttransfus'].value_counts(dropna=False).sort_index()"
   ]
  },
  {
   "cell_type": "code",
   "execution_count": 43,
   "metadata": {},
   "outputs": [
    {
     "data": {
      "text/plain": [
       "count    170535.000000\n",
       "mean        462.707264\n",
       "std        2200.072211\n",
       "min           0.000000\n",
       "25%         300.000000\n",
       "50%         350.000000\n",
       "75%         600.000000\n",
       "max      900150.000000\n",
       "Name: EBLoss, dtype: float64"
      ]
     },
     "execution_count": 43,
     "metadata": {},
     "output_type": "execute_result"
    }
   ],
   "source": [
    "trans_df['EBLoss'].describe()"
   ]
  },
  {
   "cell_type": "code",
   "execution_count": 44,
   "metadata": {},
   "outputs": [
    {
     "data": {
      "text/plain": [
       "1    47546\n",
       "2     2735\n",
       "9     7621\n",
       "Name: Posttransfus, dtype: Int64"
      ]
     },
     "execution_count": 44,
     "metadata": {},
     "output_type": "execute_result"
    }
   ],
   "source": [
    "trans_df[trans_df['EBLoss'].isna()]['Posttransfus'].value_counts().sort_index()"
   ]
  },
  {
   "cell_type": "code",
   "execution_count": 45,
   "metadata": {
    "scrolled": true
   },
   "outputs": [
    {
     "data": {
      "text/plain": [
       "2735"
      ]
     },
     "execution_count": 45,
     "metadata": {},
     "output_type": "execute_result"
    }
   ],
   "source": [
    "trans_df[trans_df['Posttransfus'] == 2.0]['EBLoss'].isna().sum()"
   ]
  },
  {
   "cell_type": "code",
   "execution_count": 46,
   "metadata": {},
   "outputs": [
    {
     "data": {
      "text/plain": [
       "(245, 6)"
      ]
     },
     "execution_count": 46,
     "metadata": {},
     "output_type": "execute_result"
    }
   ],
   "source": [
    "pty_EB350 = trans_df[(trans_df['Posttransfus'] == 2.0) & (trans_df['EBLoss'] == 350.0)]\n",
    "pty_EB350.shape"
   ]
  },
  {
   "cell_type": "code",
   "execution_count": 47,
   "metadata": {
    "scrolled": true
   },
   "outputs": [
    {
     "data": {
      "text/html": [
       "<div>\n",
       "<style scoped>\n",
       "    .dataframe tbody tr th:only-of-type {\n",
       "        vertical-align: middle;\n",
       "    }\n",
       "\n",
       "    .dataframe tbody tr th {\n",
       "        vertical-align: top;\n",
       "    }\n",
       "\n",
       "    .dataframe thead th {\n",
       "        text-align: right;\n",
       "    }\n",
       "</style>\n",
       "<table border=\"1\" class=\"dataframe\">\n",
       "  <thead>\n",
       "    <tr style=\"text-align: right;\">\n",
       "      <th></th>\n",
       "      <th>Bloodproduct</th>\n",
       "      <th>Posttransfus</th>\n",
       "      <th>EBLoss</th>\n",
       "      <th>Delmode</th>\n",
       "      <th>xfus_any</th>\n",
       "      <th>high_EBL</th>\n",
       "    </tr>\n",
       "    <tr>\n",
       "      <th>MomID</th>\n",
       "      <th></th>\n",
       "      <th></th>\n",
       "      <th></th>\n",
       "      <th></th>\n",
       "      <th></th>\n",
       "      <th></th>\n",
       "    </tr>\n",
       "  </thead>\n",
       "  <tbody>\n",
       "    <tr>\n",
       "      <th>41-00005</th>\n",
       "      <td>1</td>\n",
       "      <td>2</td>\n",
       "      <td>NaN</td>\n",
       "      <td>1</td>\n",
       "      <td>1</td>\n",
       "      <td>9</td>\n",
       "    </tr>\n",
       "    <tr>\n",
       "      <th>41-00018</th>\n",
       "      <td>1</td>\n",
       "      <td>2</td>\n",
       "      <td>150.0</td>\n",
       "      <td>1</td>\n",
       "      <td>1</td>\n",
       "      <td>0</td>\n",
       "    </tr>\n",
       "    <tr>\n",
       "      <th>41-00036</th>\n",
       "      <td>1</td>\n",
       "      <td>2</td>\n",
       "      <td>300.0</td>\n",
       "      <td>1</td>\n",
       "      <td>1</td>\n",
       "      <td>0</td>\n",
       "    </tr>\n",
       "    <tr>\n",
       "      <th>41-00040</th>\n",
       "      <td>1</td>\n",
       "      <td>2</td>\n",
       "      <td>NaN</td>\n",
       "      <td>1</td>\n",
       "      <td>1</td>\n",
       "      <td>9</td>\n",
       "    </tr>\n",
       "    <tr>\n",
       "      <th>41-00046</th>\n",
       "      <td>1</td>\n",
       "      <td>2</td>\n",
       "      <td>200.0</td>\n",
       "      <td>1</td>\n",
       "      <td>1</td>\n",
       "      <td>0</td>\n",
       "    </tr>\n",
       "    <tr>\n",
       "      <th>...</th>\n",
       "      <td>...</td>\n",
       "      <td>...</td>\n",
       "      <td>...</td>\n",
       "      <td>...</td>\n",
       "      <td>...</td>\n",
       "      <td>...</td>\n",
       "    </tr>\n",
       "    <tr>\n",
       "      <th>52-07229</th>\n",
       "      <td>2</td>\n",
       "      <td>1</td>\n",
       "      <td>1500.0</td>\n",
       "      <td>4</td>\n",
       "      <td>1</td>\n",
       "      <td>1</td>\n",
       "    </tr>\n",
       "    <tr>\n",
       "      <th>52-07232</th>\n",
       "      <td>2</td>\n",
       "      <td>1</td>\n",
       "      <td>400.0</td>\n",
       "      <td>1</td>\n",
       "      <td>1</td>\n",
       "      <td>0</td>\n",
       "    </tr>\n",
       "    <tr>\n",
       "      <th>52-07243</th>\n",
       "      <td>1</td>\n",
       "      <td>2</td>\n",
       "      <td>NaN</td>\n",
       "      <td>1</td>\n",
       "      <td>1</td>\n",
       "      <td>9</td>\n",
       "    </tr>\n",
       "    <tr>\n",
       "      <th>52-07245</th>\n",
       "      <td>2</td>\n",
       "      <td>1</td>\n",
       "      <td>700.0</td>\n",
       "      <td>3</td>\n",
       "      <td>1</td>\n",
       "      <td>0</td>\n",
       "    </tr>\n",
       "    <tr>\n",
       "      <th>52-07249</th>\n",
       "      <td>2</td>\n",
       "      <td>1</td>\n",
       "      <td>2000.0</td>\n",
       "      <td>5</td>\n",
       "      <td>1</td>\n",
       "      <td>1</td>\n",
       "    </tr>\n",
       "  </tbody>\n",
       "</table>\n",
       "<p>6291 rows × 6 columns</p>\n",
       "</div>"
      ],
      "text/plain": [
       "          Bloodproduct  Posttransfus  EBLoss  Delmode  xfus_any  high_EBL\n",
       "MomID                                                                    \n",
       "41-00005             1             2     NaN        1         1         9\n",
       "41-00018             1             2   150.0        1         1         0\n",
       "41-00036             1             2   300.0        1         1         0\n",
       "41-00040             1             2     NaN        1         1         9\n",
       "41-00046             1             2   200.0        1         1         0\n",
       "...                ...           ...     ...      ...       ...       ...\n",
       "52-07229             2             1  1500.0        4         1         1\n",
       "52-07232             2             1   400.0        1         1         0\n",
       "52-07243             1             2     NaN        1         1         9\n",
       "52-07245             2             1   700.0        3         1         0\n",
       "52-07249             2             1  2000.0        5         1         1\n",
       "\n",
       "[6291 rows x 6 columns]"
      ]
     },
     "execution_count": 47,
     "metadata": {},
     "output_type": "execute_result"
    }
   ],
   "source": [
    "pd.options.display.max_rows = 10\n",
    "ty = trans_df[(trans_df['Posttransfus'] == 2.0) | (trans_df['Bloodproduct'] == 2.0)]\n",
    "ty"
   ]
  },
  {
   "cell_type": "code",
   "execution_count": 48,
   "metadata": {},
   "outputs": [
    {
     "data": {
      "text/plain": [
       "2778"
      ]
     },
     "execution_count": 48,
     "metadata": {},
     "output_type": "execute_result"
    }
   ],
   "source": [
    "ty['EBLoss'].isna().sum()"
   ]
  },
  {
   "cell_type": "code",
   "execution_count": 49,
   "metadata": {},
   "outputs": [
    {
     "name": "stdout",
     "output_type": "stream",
     "text": [
      "Bloodproduct\n",
      "1    4556\n",
      "2    1709\n",
      "9      26\n",
      "Posttransfus\n",
      "2    5392\n",
      "9     848\n",
      "1      51\n",
      "Delmode\n",
      "1    3497\n",
      "4    1283\n",
      "5     913\n",
      "2     452\n",
      "3     146\n",
      "xfus_any\n",
      "1    6291\n",
      "high_EBL\n",
      "9    2778\n",
      "0    2724\n",
      "1     789\n"
     ]
    }
   ],
   "source": [
    "for col in ty:\n",
    "    if col != 'EBLoss':\n",
    "        print(col)\n",
    "        print(ty[col].value_counts().to_string())"
   ]
  },
  {
   "cell_type": "code",
   "execution_count": 50,
   "metadata": {},
   "outputs": [
    {
     "data": {
      "text/plain": [
       "(-0.001, 999.9]      2724\n",
       "(999.9, 900000.0]     789\n",
       "Name: EBLoss, dtype: int64"
      ]
     },
     "execution_count": 50,
     "metadata": {},
     "output_type": "execute_result"
    }
   ],
   "source": [
    "ty['EBLoss'].value_counts(dropna=False, bins=[0,999.9,900000])"
   ]
  },
  {
   "cell_type": "code",
   "execution_count": 51,
   "metadata": {},
   "outputs": [
    {
     "data": {
      "text/plain": [
       "9    2778\n",
       "0    2724\n",
       "1     789\n",
       "Name: high_EBL, dtype: int64"
      ]
     },
     "execution_count": 51,
     "metadata": {},
     "output_type": "execute_result"
    }
   ],
   "source": [
    "ty['high_EBL'].value_counts(dropna=False)"
   ]
  },
  {
   "cell_type": "code",
   "execution_count": 52,
   "metadata": {},
   "outputs": [
    {
     "name": "stdout",
     "output_type": "stream",
     "text": [
      "228438\n",
      "170534\n"
     ]
    }
   ],
   "source": [
    "print(trans_df.shape[0])\n",
    "val_df = trans_df[trans_df['EBLoss'] < 900000]\n",
    "print(val_df.shape[0])"
   ]
  },
  {
   "cell_type": "code",
   "execution_count": 53,
   "metadata": {},
   "outputs": [
    {
     "data": {
      "text/plain": [
       "(-0.001, 1000.0]      167832\n",
       "(1000.0, 900000.0]      2702\n",
       "Name: EBLoss, dtype: int64"
      ]
     },
     "execution_count": 53,
     "metadata": {},
     "output_type": "execute_result"
    }
   ],
   "source": [
    "val_df['EBLoss'].value_counts(dropna=False, bins=[0,1000,900000])"
   ]
  },
  {
   "cell_type": "code",
   "execution_count": 54,
   "metadata": {},
   "outputs": [
    {
     "data": {
      "text/plain": [
       "(-0.001, 999.0]      162912\n",
       "(999.0, 900000.0]      7622\n",
       "Name: EBLoss, dtype: int64"
      ]
     },
     "execution_count": 54,
     "metadata": {},
     "output_type": "execute_result"
    }
   ],
   "source": [
    "val_df['EBLoss'].value_counts(dropna=False, bins=[0,999,900000])"
   ]
  },
  {
   "cell_type": "code",
   "execution_count": 55,
   "metadata": {},
   "outputs": [
    {
     "data": {
      "text/plain": [
       "Bloodproduct  EBLoss           \n",
       "1             (-0.001, 999.0]      121121\n",
       "              (999.0, 900000.0]      6096\n",
       "2             (-0.001, 999.0]         938\n",
       "              (999.0, 900000.0]       655\n",
       "9             (-0.001, 999.0]       40853\n",
       "              (999.0, 900000.0]       871\n",
       "Name: EBLoss, dtype: int64"
      ]
     },
     "execution_count": 55,
     "metadata": {},
     "output_type": "execute_result"
    }
   ],
   "source": [
    "trans_df.groupby('Bloodproduct')['EBLoss'].value_counts(bins=[0,999,900000])"
   ]
  },
  {
   "cell_type": "code",
   "execution_count": 56,
   "metadata": {},
   "outputs": [
    {
     "data": {
      "text/plain": [
       "Bloodproduct  EBLoss           \n",
       "1             (-0.001, 999.0]      121121\n",
       "              (999.0, 900000.0]      6096\n",
       "2             (-0.001, 999.0]         938\n",
       "              (999.0, 900000.0]       655\n",
       "9             (-0.001, 999.0]       40853\n",
       "              (999.0, 900000.0]       871\n",
       "Name: EBLoss, dtype: int64"
      ]
     },
     "execution_count": 56,
     "metadata": {},
     "output_type": "execute_result"
    }
   ],
   "source": [
    "val_df.groupby('Bloodproduct')['EBLoss'].value_counts(bins=[0,999,900000])"
   ]
  },
  {
   "cell_type": "code",
   "execution_count": 57,
   "metadata": {},
   "outputs": [
    {
     "data": {
      "text/plain": [
       "Posttransfus  EBLoss           \n",
       "1             (-0.001, 999.0]      85476\n",
       "              (999.0, 900000.0]     3722\n",
       "2             (-0.001, 999.0]       2200\n",
       "              (999.0, 900000.0]      457\n",
       "9             (-0.001, 999.0]      75236\n",
       "              (999.0, 900000.0]     3443\n",
       "Name: EBLoss, dtype: int64"
      ]
     },
     "execution_count": 57,
     "metadata": {},
     "output_type": "execute_result"
    }
   ],
   "source": [
    "trans_df.groupby('Posttransfus')['EBLoss'].value_counts(bins=[0,999,900000])"
   ]
  },
  {
   "cell_type": "code",
   "execution_count": 58,
   "metadata": {},
   "outputs": [
    {
     "data": {
      "text/plain": [
       "1    89198\n",
       "9    78679\n",
       "2     2657\n",
       "Name: Posttransfus, dtype: Int64"
      ]
     },
     "execution_count": 58,
     "metadata": {},
     "output_type": "execute_result"
    }
   ],
   "source": [
    "val_df['Posttransfus'].value_counts()"
   ]
  },
  {
   "cell_type": "code",
   "execution_count": 59,
   "metadata": {},
   "outputs": [
    {
     "data": {
      "image/png": "[encoded data removed]",
      "text/plain": [
       "<Figure size 432x288 with 1 Axes>"
      ]
     },
     "metadata": {},
     "output_type": "display_data"
    }
   ],
   "source": [
    "labels = ['No','Yes', 'Unk']\n",
    "counts = trans_df['Posttransfus'].value_counts().sort_index().values\n",
    "plt.pie(counts,labels=labels,autopct='%1.2f%%')\n",
    "plt.show()"
   ]
  }
 ],
 "metadata": {
  "kernelspec": {
   "display_name": "Python [conda env:root] *",
   "language": "python",
   "name": "conda-root-py"
  },
  "language_info": {
   "codemirror_mode": {
    "name": "ipython",
    "version": 3
   },
   "file_extension": ".py",
   "mimetype": "text/x-python",
   "name": "python",
   "nbconvert_exporter": "python",
   "pygments_lexer": "ipython3",
   "version": "3.7.9"
  }
 },
 "nbformat": 4,
 "nbformat_minor": 2
}
