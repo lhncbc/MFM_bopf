{
 "cells": [
  {
   "cell_type": "markdown",
   "metadata": {},
   "source": [
    "\n",
    "\n",
    "# Re-use the best values\n",
    "\n",
    "In some cases, you may want to re-evaluate the objective function with the best\n",
    "hyperparameters again after the hyperparameter optimization.\n",
    "\n",
    "For example,\n",
    "\n",
    "- You have found good hyperparameters with Optuna and want to run a similar `objective` function using the best hyperparameters found so far to further analyze the results, or\n",
    "- You have optimized with Optuna using a partial dataset to reduce training time. After the hyperparameter tuning, you want to train the model using the whole dataset with the best hyperparameter values found.\n",
    "\n",
    ":class:`~optuna.study.Study.best_trial` provides an interface to re-evaluate the objective function with the current best hyperparameter values.\n",
    "\n",
    "This tutorial shows an example of how to re-run a different `objective` function with the current best values, like the first example above.\n",
    "\n",
    "\n",
    "## Investigating the best model further\n",
    "\n",
    "Let's consider a classical supervised classification problem with Optuna as follows:\n"
   ]
  },
  {
   "cell_type": "code",
   "execution_count": 1,
   "metadata": {},
   "outputs": [
    {
     "name": "stderr",
     "output_type": "stream",
     "text": [
      "\u001b[32m[I 2021-11-29 14:52:21,612]\u001b[0m A new study created in memory with name: no-name-770b72a2-ba94-49f9-aafa-d8223056d3eb\u001b[0m\n",
      "\u001b[32m[I 2021-11-29 14:52:21,650]\u001b[0m Trial 0 finished with value: 0.44 and parameters: {'C': 8.846651589958445e-07}. Best is trial 0 with value: 0.44.\u001b[0m\n",
      "\u001b[32m[I 2021-11-29 14:52:21,660]\u001b[0m Trial 1 finished with value: 0.44 and parameters: {'C': 1.2758883812212135e-06}. Best is trial 0 with value: 0.44.\u001b[0m\n",
      "\u001b[32m[I 2021-11-29 14:52:21,671]\u001b[0m Trial 2 finished with value: 0.92 and parameters: {'C': 7.061920481968822}. Best is trial 2 with value: 0.92.\u001b[0m\n",
      "\u001b[32m[I 2021-11-29 14:52:21,679]\u001b[0m Trial 3 finished with value: 0.92 and parameters: {'C': 0.3539644519100983}. Best is trial 2 with value: 0.92.\u001b[0m\n",
      "\u001b[32m[I 2021-11-29 14:52:21,690]\u001b[0m Trial 4 finished with value: 0.44 and parameters: {'C': 0.0010807287625208943}. Best is trial 2 with value: 0.92.\u001b[0m\n",
      "\u001b[32m[I 2021-11-29 14:52:21,701]\u001b[0m Trial 5 finished with value: 0.92 and parameters: {'C': 8.779128006723946}. Best is trial 2 with value: 0.92.\u001b[0m\n",
      "\u001b[32m[I 2021-11-29 14:52:21,709]\u001b[0m Trial 6 finished with value: 0.92 and parameters: {'C': 0.2610008853601802}. Best is trial 2 with value: 0.92.\u001b[0m\n",
      "\u001b[32m[I 2021-11-29 14:52:21,719]\u001b[0m Trial 7 finished with value: 0.92 and parameters: {'C': 9.028044199433358}. Best is trial 2 with value: 0.92.\u001b[0m\n",
      "\u001b[32m[I 2021-11-29 14:52:21,729]\u001b[0m Trial 8 finished with value: 0.92 and parameters: {'C': 0.04721307633645328}. Best is trial 2 with value: 0.92.\u001b[0m\n",
      "\u001b[32m[I 2021-11-29 14:52:21,738]\u001b[0m Trial 9 finished with value: 0.44 and parameters: {'C': 0.0008400869180355489}. Best is trial 2 with value: 0.92.\u001b[0m\n"
     ]
    },
    {
     "name": "stdout",
     "output_type": "stream",
     "text": [
      "0.92\n"
     ]
    }
   ],
   "source": [
    "from sklearn import metrics\n",
    "from sklearn.datasets import make_classification\n",
    "from sklearn.linear_model import LogisticRegression\n",
    "from sklearn.model_selection import train_test_split\n",
    "\n",
    "\n",
    "import optuna\n",
    "\n",
    "\n",
    "def objective(trial):\n",
    "    X, y = make_classification(n_features=10, random_state=1)\n",
    "    X_train, X_test, y_train, y_test = train_test_split(X, y, random_state=1)\n",
    "\n",
    "    C = trial.suggest_loguniform(\"C\", 1e-7, 10.0)\n",
    "\n",
    "    clf = LogisticRegression(C=C)\n",
    "    clf.fit(X_train, y_train)\n",
    "\n",
    "    return clf.score(X_test, y_test)\n",
    "\n",
    "\n",
    "study = optuna.create_study(direction=\"maximize\")\n",
    "study.optimize(objective, n_trials=10)\n",
    "\n",
    "print(study.best_trial.value)  # Show the best value."
   ]
  },
  {
   "cell_type": "markdown",
   "metadata": {},
   "source": [
    "Suppose after the hyperparameter optimization, you want to calculate other evaluation metrics\n",
    "such as recall, precision, and f1-score on the same dataset.\n",
    "You can define another objective function that shares most of the ``objective``\n",
    "function to reproduce the model with the best hyperparameters.\n",
    "\n"
   ]
  },
  {
   "cell_type": "code",
   "execution_count": 2,
   "metadata": {},
   "outputs": [],
   "source": [
    "def detailed_objective(trial):\n",
    "    # Use same code objective to reproduce the best model\n",
    "    X, y = make_classification(n_features=10, random_state=1)\n",
    "    X_train, X_test, y_train, y_test = train_test_split(X, y, random_state=1)\n",
    "\n",
    "    C = trial.suggest_loguniform(\"C\", 1e-7, 10.0)\n",
    "\n",
    "    clf = LogisticRegression(C=C)\n",
    "    clf.fit(X_train, y_train)\n",
    "\n",
    "    # calculate more evaluation metrics\n",
    "    pred = clf.predict(X_test)\n",
    "\n",
    "    acc = metrics.accuracy_score(pred, y_test)\n",
    "    recall = metrics.recall_score(pred, y_test)\n",
    "    precision = metrics.precision_score(pred, y_test)\n",
    "    f1 = metrics.f1_score(pred, y_test)\n",
    "\n",
    "    return acc, f1, recall, precision"
   ]
  },
  {
   "cell_type": "markdown",
   "metadata": {},
   "source": [
    "Pass ``study.best_trial`` as the argument of ``detailed_objective``.\n",
    "\n"
   ]
  },
  {
   "cell_type": "code",
   "execution_count": 3,
   "metadata": {},
   "outputs": [
    {
     "data": {
      "text/plain": [
       "(0.92, 0.9285714285714286, 0.9285714285714286, 0.9285714285714286)"
      ]
     },
     "execution_count": 3,
     "metadata": {},
     "output_type": "execute_result"
    }
   ],
   "source": [
    "detailed_objective(study.best_trial)  # calculate acc, f1, recall, and precision"
   ]
  },
  {
   "cell_type": "markdown",
   "metadata": {},
   "source": [
    "## The difference between :class:`~optuna.study.Study.best_trial` and ordinal trials\n",
    "\n",
    "This uses :class:`~optuna.study.Study.best_trial`, which returns the `best_trial` as a\n",
    ":class:`~optuna.trial.FrozenTrial`.\n",
    "The :class:`~optuna.trial.FrozenTrial` is different from an active trial\n",
    "and behaves differently from :class:`~optuna.trial.Trial` in some situations.\n",
    "For example, pruning does not work because :class:`~optuna.trial.FrozenTrial.should_prune`\n",
    "always returns ``False``.\n",
    "\n"
   ]
  }
 ],
 "metadata": {
  "kernelspec": {
   "display_name": "Python 3",
   "language": "python",
   "name": "python3"
  },
  "language_info": {
   "codemirror_mode": {
    "name": "ipython",
    "version": 3
   },
   "file_extension": ".py",
   "mimetype": "text/x-python",
   "name": "python",
   "nbconvert_exporter": "python",
   "pygments_lexer": "ipython3",
   "version": "3.7.9"
  }
 },
 "nbformat": 4,
 "nbformat_minor": 1
}
