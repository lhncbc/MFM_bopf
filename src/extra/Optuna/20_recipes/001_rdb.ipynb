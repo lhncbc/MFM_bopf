{
 "cells": [
  {
   "cell_type": "markdown",
   "metadata": {},
   "source": [
    "\n",
    "\n",
    "# Saving/Resuming Study with RDB Backend\n",
    "\n",
    "An RDB backend enables persistent experiments (i.e., to save and resume a study) as well as access to history of studies.\n",
    "In addition, we can run multi-node optimization tasks with this feature, which is described in `distributed`.\n",
    "\n",
    "In this section, let's try simple examples running on a local environment with SQLite DB.\n",
    "\n",
    "<div class=\"alert alert-info\"><h4>Note</h4><p>You can also utilize other RDB backends, e.g., PostgreSQL or MySQL, by setting the storage argument to the DB's URL.\n",
    "    Please refer to `SQLAlchemy's document <https://docs.sqlalchemy.org/en/latest/core/engines.html#database-urls>`_ for how to set up the URL.</p></div>\n",
    "\n",
    "\n",
    "## New Study\n",
    "\n",
    "We can create a persistent study by calling :func:`~optuna.study.create_study` function as follows.\n",
    "An SQLite file ``example.db`` is automatically initialized with a new study record.\n"
   ]
  },
  {
   "cell_type": "code",
   "execution_count": 1,
   "metadata": {},
   "outputs": [
    {
     "name": "stderr",
     "output_type": "stream",
     "text": [
      "\u001b[32m[I 2021-08-27 10:39:14,388]\u001b[0m A new study created in RDB with name: example-study\u001b[0m\n"
     ]
    },
    {
     "name": "stdout",
     "output_type": "stream",
     "text": [
      "A new study created in RDB with name: example-study\n"
     ]
    }
   ],
   "source": [
    "import logging\n",
    "import sys\n",
    "\n",
    "import optuna\n",
    "\n",
    "# Add stream handler of stdout to show the messages\n",
    "optuna.logging.get_logger(\"optuna\").addHandler(logging.StreamHandler(sys.stdout))\n",
    "study_name = \"example-study\"  # Unique identifier of the study.\n",
    "storage_name = \"sqlite:///{}.db\".format(study_name)\n",
    "study = optuna.create_study(study_name=study_name, storage=storage_name)"
   ]
  },
  {
   "cell_type": "markdown",
   "metadata": {},
   "source": [
    "To run a study, call :func:`~optuna.study.Study.optimize` method passing an objective function.\n",
    "\n"
   ]
  },
  {
   "cell_type": "code",
   "execution_count": 2,
   "metadata": {},
   "outputs": [
    {
     "name": "stderr",
     "output_type": "stream",
     "text": [
      "\u001b[32m[I 2021-08-27 10:40:13,465]\u001b[0m Trial 0 finished with value: 15.801337181374793 and parameters: {'x': -1.9750895815534513}. Best is trial 0 with value: 15.801337181374793.\u001b[0m\n"
     ]
    },
    {
     "name": "stdout",
     "output_type": "stream",
     "text": [
      "Trial 0 finished with value: 15.801337181374793 and parameters: {'x': -1.9750895815534513}. Best is trial 0 with value: 15.801337181374793.\n"
     ]
    },
    {
     "name": "stderr",
     "output_type": "stream",
     "text": [
      "\u001b[32m[I 2021-08-27 10:40:13,778]\u001b[0m Trial 1 finished with value: 20.56818788704258 and parameters: {'x': -2.535216410166397}. Best is trial 0 with value: 15.801337181374793.\u001b[0m\n"
     ]
    },
    {
     "name": "stdout",
     "output_type": "stream",
     "text": [
      "Trial 1 finished with value: 20.56818788704258 and parameters: {'x': -2.535216410166397}. Best is trial 0 with value: 15.801337181374793.\n"
     ]
    },
    {
     "name": "stderr",
     "output_type": "stream",
     "text": [
      "\u001b[32m[I 2021-08-27 10:40:14,067]\u001b[0m Trial 2 finished with value: 5.042694667903596 and parameters: {'x': 4.245594502109318}. Best is trial 2 with value: 5.042694667903596.\u001b[0m\n"
     ]
    },
    {
     "name": "stdout",
     "output_type": "stream",
     "text": [
      "Trial 2 finished with value: 5.042694667903596 and parameters: {'x': 4.245594502109318}. Best is trial 2 with value: 5.042694667903596.\n"
     ]
    }
   ],
   "source": [
    "def objective(trial):\n",
    "    x = trial.suggest_float(\"x\", -10, 10)\n",
    "    return (x - 2) ** 2\n",
    "\n",
    "\n",
    "study.optimize(objective, n_trials=3)"
   ]
  },
  {
   "cell_type": "markdown",
   "metadata": {},
   "source": [
    "## Resume Study\n",
    "\n",
    "To resume a study, instantiate a :class:`~optuna.study.Study` object\n",
    "passing the study name ``example-study`` and the DB URL ``sqlite:///example-study.db``.\n",
    "\n"
   ]
  },
  {
   "cell_type": "code",
   "execution_count": 3,
   "metadata": {},
   "outputs": [
    {
     "name": "stderr",
     "output_type": "stream",
     "text": [
      "\u001b[32m[I 2021-08-27 10:40:28,255]\u001b[0m Using an existing study with name 'example-study' instead of creating a new one.\u001b[0m\n"
     ]
    },
    {
     "name": "stdout",
     "output_type": "stream",
     "text": [
      "Using an existing study with name 'example-study' instead of creating a new one.\n"
     ]
    },
    {
     "name": "stderr",
     "output_type": "stream",
     "text": [
      "\u001b[32m[I 2021-08-27 10:40:28,680]\u001b[0m Trial 3 finished with value: 115.63720897559784 and parameters: {'x': -8.75347427465179}. Best is trial 2 with value: 5.042694667903596.\u001b[0m\n"
     ]
    },
    {
     "name": "stdout",
     "output_type": "stream",
     "text": [
      "Trial 3 finished with value: 115.63720897559784 and parameters: {'x': -8.75347427465179}. Best is trial 2 with value: 5.042694667903596.\n"
     ]
    },
    {
     "name": "stderr",
     "output_type": "stream",
     "text": [
      "\u001b[32m[I 2021-08-27 10:40:29,243]\u001b[0m Trial 4 finished with value: 65.5740809526728 and parameters: {'x': -6.097782471311069}. Best is trial 2 with value: 5.042694667903596.\u001b[0m\n"
     ]
    },
    {
     "name": "stdout",
     "output_type": "stream",
     "text": [
      "Trial 4 finished with value: 65.5740809526728 and parameters: {'x': -6.097782471311069}. Best is trial 2 with value: 5.042694667903596.\n"
     ]
    },
    {
     "name": "stderr",
     "output_type": "stream",
     "text": [
      "\u001b[32m[I 2021-08-27 10:40:29,839]\u001b[0m Trial 5 finished with value: 11.184848315594344 and parameters: {'x': -1.3443756241777542}. Best is trial 2 with value: 5.042694667903596.\u001b[0m\n"
     ]
    },
    {
     "name": "stdout",
     "output_type": "stream",
     "text": [
      "Trial 5 finished with value: 11.184848315594344 and parameters: {'x': -1.3443756241777542}. Best is trial 2 with value: 5.042694667903596.\n"
     ]
    }
   ],
   "source": [
    "study = optuna.create_study(study_name=study_name, storage=storage_name, load_if_exists=True)\n",
    "study.optimize(objective, n_trials=3)"
   ]
  },
  {
   "cell_type": "markdown",
   "metadata": {},
   "source": [
    "## Experimental History\n",
    "\n",
    "We can access histories of studies and trials via the :class:`~optuna.study.Study` class.\n",
    "For example, we can get all trials of ``example-study`` as:\n",
    "\n"
   ]
  },
  {
   "cell_type": "code",
   "execution_count": 4,
   "metadata": {},
   "outputs": [
    {
     "name": "stderr",
     "output_type": "stream",
     "text": [
      "\u001b[32m[I 2021-08-27 10:40:44,117]\u001b[0m Using an existing study with name 'example-study' instead of creating a new one.\u001b[0m\n"
     ]
    },
    {
     "name": "stdout",
     "output_type": "stream",
     "text": [
      "Using an existing study with name 'example-study' instead of creating a new one.\n"
     ]
    }
   ],
   "source": [
    "study = optuna.create_study(study_name=study_name, storage=storage_name, load_if_exists=True)\n",
    "df = study.trials_dataframe(attrs=(\"number\", \"value\", \"params\", \"state\"))"
   ]
  },
  {
   "cell_type": "markdown",
   "metadata": {},
   "source": [
    "The method :func:`~optuna.study.Study.trials_dataframe` returns a pandas dataframe like:\n",
    "\n"
   ]
  },
  {
   "cell_type": "code",
   "execution_count": 5,
   "metadata": {},
   "outputs": [
    {
     "name": "stdout",
     "output_type": "stream",
     "text": [
      "   number       value  params_x     state\n",
      "0       0   15.801337 -1.975090  COMPLETE\n",
      "1       1   20.568188 -2.535216  COMPLETE\n",
      "2       2    5.042695  4.245595  COMPLETE\n",
      "3       3  115.637209 -8.753474  COMPLETE\n",
      "4       4   65.574081 -6.097782  COMPLETE\n",
      "5       5   11.184848 -1.344376  COMPLETE\n"
     ]
    }
   ],
   "source": [
    "print(df)"
   ]
  },
  {
   "cell_type": "markdown",
   "metadata": {},
   "source": [
    "A :class:`~optuna.study.Study` object also provides properties\n",
    "such as :attr:`~optuna.study.Study.trials`, :attr:`~optuna.study.Study.best_value`,\n",
    ":attr:`~optuna.study.Study.best_params` (see also `first`).\n",
    "\n"
   ]
  },
  {
   "cell_type": "code",
   "execution_count": 6,
   "metadata": {},
   "outputs": [
    {
     "name": "stdout",
     "output_type": "stream",
     "text": [
      "Best params:  {'x': 4.245594502109318}\n",
      "Best value:  5.042694667903596\n",
      "Best Trial:  FrozenTrial(number=2, values=[5.042694667903596], datetime_start=datetime.datetime(2021, 8, 27, 10, 40, 13, 815434), datetime_complete=datetime.datetime(2021, 8, 27, 10, 40, 13, 890104), params={'x': 4.245594502109318}, distributions={'x': UniformDistribution(high=10.0, low=-10.0)}, user_attrs={}, system_attrs={}, intermediate_values={}, trial_id=3, state=TrialState.COMPLETE, value=None)\n",
      "Trials:  [FrozenTrial(number=0, values=[15.801337181374793], datetime_start=datetime.datetime(2021, 8, 27, 10, 40, 13, 171746), datetime_complete=datetime.datetime(2021, 8, 27, 10, 40, 13, 267375), params={'x': -1.9750895815534513}, distributions={'x': UniformDistribution(high=10.0, low=-10.0)}, user_attrs={}, system_attrs={}, intermediate_values={}, trial_id=1, state=TrialState.COMPLETE, value=None), FrozenTrial(number=1, values=[20.56818788704258], datetime_start=datetime.datetime(2021, 8, 27, 10, 40, 13, 505451), datetime_complete=datetime.datetime(2021, 8, 27, 10, 40, 13, 580100), params={'x': -2.535216410166397}, distributions={'x': UniformDistribution(high=10.0, low=-10.0)}, user_attrs={}, system_attrs={}, intermediate_values={}, trial_id=2, state=TrialState.COMPLETE, value=None), FrozenTrial(number=2, values=[5.042694667903596], datetime_start=datetime.datetime(2021, 8, 27, 10, 40, 13, 815434), datetime_complete=datetime.datetime(2021, 8, 27, 10, 40, 13, 890104), params={'x': 4.245594502109318}, distributions={'x': UniformDistribution(high=10.0, low=-10.0)}, user_attrs={}, system_attrs={}, intermediate_values={}, trial_id=3, state=TrialState.COMPLETE, value=None), FrozenTrial(number=3, values=[115.63720897559784], datetime_start=datetime.datetime(2021, 8, 27, 10, 40, 28, 383281), datetime_complete=datetime.datetime(2021, 8, 27, 10, 40, 28, 474491), params={'x': -8.75347427465179}, distributions={'x': UniformDistribution(high=10.0, low=-10.0)}, user_attrs={}, system_attrs={}, intermediate_values={}, trial_id=4, state=TrialState.COMPLETE, value=None), FrozenTrial(number=4, values=[65.5740809526728], datetime_start=datetime.datetime(2021, 8, 27, 10, 40, 28, 718544), datetime_complete=datetime.datetime(2021, 8, 27, 10, 40, 28, 785221), params={'x': -6.097782471311069}, distributions={'x': UniformDistribution(high=10.0, low=-10.0)}, user_attrs={}, system_attrs={}, intermediate_values={}, trial_id=5, state=TrialState.COMPLETE, value=None), FrozenTrial(number=5, values=[11.184848315594344], datetime_start=datetime.datetime(2021, 8, 27, 10, 40, 29, 281840), datetime_complete=datetime.datetime(2021, 8, 27, 10, 40, 29, 641802), params={'x': -1.3443756241777542}, distributions={'x': UniformDistribution(high=10.0, low=-10.0)}, user_attrs={}, system_attrs={}, intermediate_values={}, trial_id=6, state=TrialState.COMPLETE, value=None)]\n"
     ]
    }
   ],
   "source": [
    "print(\"Best params: \", study.best_params)\n",
    "print(\"Best value: \", study.best_value)\n",
    "print(\"Best Trial: \", study.best_trial)\n",
    "print(\"Trials: \", study.trials)"
   ]
  },
  {
   "cell_type": "code",
   "execution_count": 7,
   "metadata": {},
   "outputs": [
    {
     "name": "stderr",
     "output_type": "stream",
     "text": [
      "\u001b[32m[I 2021-08-27 10:44:26,312]\u001b[0m Using an existing study with name 'example-study' instead of creating a new one.\u001b[0m\n"
     ]
    },
    {
     "name": "stdout",
     "output_type": "stream",
     "text": [
      "Using an existing study with name 'example-study' instead of creating a new one.\n"
     ]
    },
    {
     "name": "stderr",
     "output_type": "stream",
     "text": [
      "\u001b[32m[I 2021-08-27 10:44:26,729]\u001b[0m Trial 6 finished with value: 38.73194516462048 and parameters: {'x': 8.223499430756018}. Best is trial 2 with value: 5.042694667903596.\u001b[0m\n"
     ]
    },
    {
     "name": "stdout",
     "output_type": "stream",
     "text": [
      "Trial 6 finished with value: 38.73194516462048 and parameters: {'x': 8.223499430756018}. Best is trial 2 with value: 5.042694667903596.\n"
     ]
    },
    {
     "name": "stderr",
     "output_type": "stream",
     "text": [
      "\u001b[32m[I 2021-08-27 10:44:27,070]\u001b[0m Trial 7 finished with value: 14.599647057114916 and parameters: {'x': -1.8209484499420974}. Best is trial 2 with value: 5.042694667903596.\u001b[0m\n"
     ]
    },
    {
     "name": "stdout",
     "output_type": "stream",
     "text": [
      "Trial 7 finished with value: 14.599647057114916 and parameters: {'x': -1.8209484499420974}. Best is trial 2 with value: 5.042694667903596.\n"
     ]
    },
    {
     "name": "stderr",
     "output_type": "stream",
     "text": [
      "\u001b[32m[I 2021-08-27 10:44:27,379]\u001b[0m Trial 8 finished with value: 20.71653396856652 and parameters: {'x': -2.5515419330779014}. Best is trial 2 with value: 5.042694667903596.\u001b[0m\n"
     ]
    },
    {
     "name": "stdout",
     "output_type": "stream",
     "text": [
      "Trial 8 finished with value: 20.71653396856652 and parameters: {'x': -2.5515419330779014}. Best is trial 2 with value: 5.042694667903596.\n"
     ]
    }
   ],
   "source": [
    "# MWB - added extra run\n",
    "study = optuna.create_study(study_name=study_name, storage=storage_name, load_if_exists=True)\n",
    "study.optimize(objective, n_trials=3)"
   ]
  },
  {
   "cell_type": "code",
   "execution_count": null,
   "metadata": {},
   "outputs": [],
   "source": []
  }
 ],
 "metadata": {
  "kernelspec": {
   "display_name": "Python 3",
   "language": "python",
   "name": "python3"
  },
  "language_info": {
   "codemirror_mode": {
    "name": "ipython",
    "version": 3
   },
   "file_extension": ".py",
   "mimetype": "text/x-python",
   "name": "python",
   "nbconvert_exporter": "python",
   "pygments_lexer": "ipython3",
   "version": "3.7.9"
  }
 },
 "nbformat": 4,
 "nbformat_minor": 1
}
