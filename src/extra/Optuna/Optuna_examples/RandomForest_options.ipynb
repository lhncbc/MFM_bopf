{
 "cells": [
  {
   "cell_type": "code",
   "execution_count": 10,
   "id": "361435dc",
   "metadata": {},
   "outputs": [
    {
     "name": "stderr",
     "output_type": "stream",
     "text": [
      "\u001b[32m[I 2021-08-27 17:27:16,948]\u001b[0m A new study created in memory with name: no-name-19a6261f-dfb3-4303-b197-963153d08cb5\u001b[0m\n",
      "\u001b[32m[I 2021-08-27 17:27:16,985]\u001b[0m Trial 0 finished with value: 0.96 and parameters: {'rf_max_depth': 31}. Best is trial 0 with value: 0.96.\u001b[0m\n",
      "\u001b[32m[I 2021-08-27 17:27:17,021]\u001b[0m Trial 1 finished with value: 0.9466666666666667 and parameters: {'rf_max_depth': 3}. Best is trial 0 with value: 0.96.\u001b[0m\n",
      "\u001b[32m[I 2021-08-27 17:27:17,057]\u001b[0m Trial 2 finished with value: 0.96 and parameters: {'rf_max_depth': 9}. Best is trial 0 with value: 0.96.\u001b[0m\n",
      "\u001b[32m[I 2021-08-27 17:27:17,102]\u001b[0m Trial 3 finished with value: 0.9666666666666667 and parameters: {'rf_max_depth': 16}. Best is trial 3 with value: 0.9666666666666667.\u001b[0m\n",
      "\u001b[32m[I 2021-08-27 17:27:17,131]\u001b[0m Trial 4 finished with value: 0.9533333333333333 and parameters: {'rf_max_depth': 3}. Best is trial 3 with value: 0.9666666666666667.\u001b[0m\n"
     ]
    },
    {
     "name": "stdout",
     "output_type": "stream",
     "text": [
      "iris.keys(): dict_keys(['data', 'target', 'frame', 'target_names', 'DESCR', 'feature_names', 'filename'])\n",
      "SCORE: [0.98 0.94 0.96]\n",
      "SCORE: [0.96 0.92 0.96]\n",
      "SCORE: [0.98 0.94 0.96]\n",
      "SCORE: [0.98 0.94 0.98]\n",
      "SCORE: [0.98 0.96 0.92]\n"
     ]
    },
    {
     "name": "stderr",
     "output_type": "stream",
     "text": [
      "\u001b[32m[I 2021-08-27 17:27:17,164]\u001b[0m Trial 5 finished with value: 0.96 and parameters: {'rf_max_depth': 4}. Best is trial 3 with value: 0.9666666666666667.\u001b[0m\n",
      "\u001b[32m[I 2021-08-27 17:27:17,202]\u001b[0m Trial 6 finished with value: 0.9533333333333333 and parameters: {'rf_max_depth': 4}. Best is trial 3 with value: 0.9666666666666667.\u001b[0m\n",
      "\u001b[32m[I 2021-08-27 17:27:17,228]\u001b[0m Trial 7 finished with value: 0.96 and parameters: {'rf_max_depth': 10}. Best is trial 3 with value: 0.9666666666666667.\u001b[0m\n",
      "\u001b[32m[I 2021-08-27 17:27:17,255]\u001b[0m Trial 8 finished with value: 0.96 and parameters: {'rf_max_depth': 27}. Best is trial 3 with value: 0.9666666666666667.\u001b[0m\n",
      "\u001b[32m[I 2021-08-27 17:27:17,288]\u001b[0m Trial 9 finished with value: 0.96 and parameters: {'rf_max_depth': 18}. Best is trial 3 with value: 0.9666666666666667.\u001b[0m\n",
      "\u001b[32m[I 2021-08-27 17:27:17,325]\u001b[0m Trial 10 finished with value: 0.9466666666666667 and parameters: {'rf_max_depth': 14}. Best is trial 3 with value: 0.9666666666666667.\u001b[0m\n",
      "\u001b[32m[I 2021-08-27 17:27:17,364]\u001b[0m Trial 11 finished with value: 0.96 and parameters: {'rf_max_depth': 31}. Best is trial 3 with value: 0.9666666666666667.\u001b[0m\n"
     ]
    },
    {
     "name": "stdout",
     "output_type": "stream",
     "text": [
      "SCORE: [0.98 0.92 0.98]\n",
      "SCORE: [0.98 0.94 0.94]\n",
      "SCORE: [0.98 0.94 0.96]\n",
      "SCORE: [0.98 0.92 0.98]\n",
      "SCORE: [0.98 0.94 0.96]\n",
      "SCORE: [0.98 0.94 0.92]\n",
      "SCORE: [0.98 0.92 0.98]\n"
     ]
    },
    {
     "name": "stderr",
     "output_type": "stream",
     "text": [
      "\u001b[32m[I 2021-08-27 17:27:17,403]\u001b[0m Trial 12 finished with value: 0.96 and parameters: {'rf_max_depth': 19}. Best is trial 3 with value: 0.9666666666666667.\u001b[0m\n",
      "\u001b[32m[I 2021-08-27 17:27:17,434]\u001b[0m Trial 13 finished with value: 0.9466666666666667 and parameters: {'rf_max_depth': 32}. Best is trial 3 with value: 0.9666666666666667.\u001b[0m\n",
      "\u001b[32m[I 2021-08-27 17:27:17,465]\u001b[0m Trial 14 finished with value: 0.94 and parameters: {'rf_max_depth': 13}. Best is trial 3 with value: 0.9666666666666667.\u001b[0m\n",
      "\u001b[32m[I 2021-08-27 17:27:17,503]\u001b[0m Trial 15 finished with value: 0.9533333333333333 and parameters: {'rf_max_depth': 6}. Best is trial 3 with value: 0.9666666666666667.\u001b[0m\n",
      "\u001b[32m[I 2021-08-27 17:27:17,539]\u001b[0m Trial 16 finished with value: 0.96 and parameters: {'rf_max_depth': 21}. Best is trial 3 with value: 0.9666666666666667.\u001b[0m\n",
      "\u001b[32m[I 2021-08-27 17:27:17,587]\u001b[0m Trial 17 finished with value: 0.9533333333333333 and parameters: {'rf_max_depth': 2}. Best is trial 3 with value: 0.9666666666666667.\u001b[0m\n"
     ]
    },
    {
     "name": "stdout",
     "output_type": "stream",
     "text": [
      "SCORE: [0.98 0.92 0.98]\n",
      "SCORE: [0.98 0.94 0.92]\n",
      "SCORE: [0.98 0.9  0.94]\n",
      "SCORE: [0.98 0.94 0.94]\n",
      "SCORE: [0.98 0.94 0.96]\n",
      "SCORE: [0.96 0.94 0.96]\n"
     ]
    },
    {
     "name": "stderr",
     "output_type": "stream",
     "text": [
      "\u001b[32m[I 2021-08-27 17:27:17,617]\u001b[0m Trial 18 finished with value: 0.94 and parameters: {'rf_max_depth': 23}. Best is trial 3 with value: 0.9666666666666667.\u001b[0m\n",
      "\u001b[32m[I 2021-08-27 17:27:17,656]\u001b[0m Trial 19 finished with value: 0.9666666666666667 and parameters: {'rf_max_depth': 15}. Best is trial 3 with value: 0.9666666666666667.\u001b[0m\n",
      "\u001b[32m[I 2021-08-27 17:27:17,687]\u001b[0m Trial 20 finished with value: 0.9666666666666667 and parameters: {'rf_max_depth': 8}. Best is trial 3 with value: 0.9666666666666667.\u001b[0m\n",
      "\u001b[32m[I 2021-08-27 17:27:17,726]\u001b[0m Trial 21 finished with value: 0.9533333333333333 and parameters: {'rf_max_depth': 8}. Best is trial 3 with value: 0.9666666666666667.\u001b[0m\n",
      "\u001b[32m[I 2021-08-27 17:27:17,759]\u001b[0m Trial 22 finished with value: 0.9666666666666667 and parameters: {'rf_max_depth': 13}. Best is trial 3 with value: 0.9666666666666667.\u001b[0m\n",
      "\u001b[32m[I 2021-08-27 17:27:17,788]\u001b[0m Trial 23 finished with value: 0.9533333333333333 and parameters: {'rf_max_depth': 6}. Best is trial 3 with value: 0.9666666666666667.\u001b[0m\n"
     ]
    },
    {
     "name": "stdout",
     "output_type": "stream",
     "text": [
      "SCORE: [0.98 0.9  0.94]\n",
      "SCORE: [0.98 0.94 0.98]\n",
      "SCORE: [0.98 0.94 0.98]\n",
      "SCORE: [0.96 0.94 0.96]\n",
      "SCORE: [0.98 0.94 0.98]\n",
      "SCORE: [0.98 0.92 0.96]\n"
     ]
    },
    {
     "name": "stderr",
     "output_type": "stream",
     "text": [
      "\u001b[32m[I 2021-08-27 17:27:17,818]\u001b[0m Trial 24 finished with value: 0.96 and parameters: {'rf_max_depth': 11}. Best is trial 3 with value: 0.9666666666666667.\u001b[0m\n",
      "\u001b[32m[I 2021-08-27 17:27:17,846]\u001b[0m Trial 25 finished with value: 0.96 and parameters: {'rf_max_depth': 7}. Best is trial 3 with value: 0.9666666666666667.\u001b[0m\n",
      "\u001b[32m[I 2021-08-27 17:27:17,883]\u001b[0m Trial 26 finished with value: 0.9533333333333333 and parameters: {'rf_max_depth': 12}. Best is trial 3 with value: 0.9666666666666667.\u001b[0m\n",
      "\u001b[32m[I 2021-08-27 17:27:17,920]\u001b[0m Trial 27 finished with value: 0.96 and parameters: {'rf_max_depth': 15}. Best is trial 3 with value: 0.9666666666666667.\u001b[0m\n",
      "\u001b[32m[I 2021-08-27 17:27:17,955]\u001b[0m Trial 28 finished with value: 0.9533333333333333 and parameters: {'rf_max_depth': 5}. Best is trial 3 with value: 0.9666666666666667.\u001b[0m\n",
      "\u001b[32m[I 2021-08-27 17:27:17,985]\u001b[0m Trial 29 finished with value: 0.9533333333333333 and parameters: {'rf_max_depth': 18}. Best is trial 3 with value: 0.9666666666666667.\u001b[0m\n"
     ]
    },
    {
     "name": "stdout",
     "output_type": "stream",
     "text": [
      "SCORE: [0.98 0.94 0.96]\n",
      "SCORE: [0.98 0.94 0.96]\n",
      "SCORE: [0.98 0.92 0.96]\n",
      "SCORE: [0.98 0.94 0.96]\n",
      "SCORE: [0.98 0.94 0.94]\n",
      "SCORE: [0.98 0.94 0.94]\n"
     ]
    },
    {
     "name": "stderr",
     "output_type": "stream",
     "text": [
      "\u001b[32m[I 2021-08-27 17:27:18,030]\u001b[0m Trial 30 finished with value: 0.9533333333333333 and parameters: {'rf_max_depth': 15}. Best is trial 3 with value: 0.9666666666666667.\u001b[0m\n",
      "\u001b[32m[I 2021-08-27 17:27:18,074]\u001b[0m Trial 31 finished with value: 0.96 and parameters: {'rf_max_depth': 9}. Best is trial 3 with value: 0.9666666666666667.\u001b[0m\n",
      "\u001b[32m[I 2021-08-27 17:27:18,115]\u001b[0m Trial 32 finished with value: 0.9533333333333333 and parameters: {'rf_max_depth': 11}. Best is trial 3 with value: 0.9666666666666667.\u001b[0m\n",
      "\u001b[32m[I 2021-08-27 17:27:18,156]\u001b[0m Trial 33 finished with value: 0.9333333333333332 and parameters: {'rf_max_depth': 16}. Best is trial 3 with value: 0.9666666666666667.\u001b[0m\n",
      "\u001b[32m[I 2021-08-27 17:27:18,194]\u001b[0m Trial 34 finished with value: 0.9533333333333333 and parameters: {'rf_max_depth': 24}. Best is trial 3 with value: 0.9666666666666667.\u001b[0m\n"
     ]
    },
    {
     "name": "stdout",
     "output_type": "stream",
     "text": [
      "SCORE: [0.98 0.94 0.94]\n",
      "SCORE: [0.98 0.94 0.96]\n",
      "SCORE: [0.98 0.92 0.96]\n",
      "SCORE: [0.98 0.9  0.92]\n",
      "SCORE: [0.98 0.94 0.94]\n"
     ]
    },
    {
     "name": "stderr",
     "output_type": "stream",
     "text": [
      "\u001b[32m[I 2021-08-27 17:27:18,235]\u001b[0m Trial 35 finished with value: 0.96 and parameters: {'rf_max_depth': 8}. Best is trial 3 with value: 0.9666666666666667.\u001b[0m\n",
      "\u001b[32m[I 2021-08-27 17:27:18,268]\u001b[0m Trial 36 finished with value: 0.96 and parameters: {'rf_max_depth': 9}. Best is trial 3 with value: 0.9666666666666667.\u001b[0m\n",
      "\u001b[32m[I 2021-08-27 17:27:18,305]\u001b[0m Trial 37 finished with value: 0.9533333333333333 and parameters: {'rf_max_depth': 13}. Best is trial 3 with value: 0.9666666666666667.\u001b[0m\n",
      "\u001b[32m[I 2021-08-27 17:27:18,343]\u001b[0m Trial 38 finished with value: 0.9533333333333333 and parameters: {'rf_max_depth': 10}. Best is trial 3 with value: 0.9666666666666667.\u001b[0m\n",
      "\u001b[32m[I 2021-08-27 17:27:18,384]\u001b[0m Trial 39 finished with value: 0.96 and parameters: {'rf_max_depth': 4}. Best is trial 3 with value: 0.9666666666666667.\u001b[0m\n",
      "\u001b[32m[I 2021-08-27 17:27:18,415]\u001b[0m Trial 40 finished with value: 0.9533333333333333 and parameters: {'rf_max_depth': 17}. Best is trial 3 with value: 0.9666666666666667.\u001b[0m\n"
     ]
    },
    {
     "name": "stdout",
     "output_type": "stream",
     "text": [
      "SCORE: [0.98 0.94 0.96]\n",
      "SCORE: [0.98 0.94 0.96]\n",
      "SCORE: [0.98 0.94 0.94]\n",
      "SCORE: [0.98 0.92 0.96]\n",
      "SCORE: [0.98 0.92 0.98]\n",
      "SCORE: [0.98 0.94 0.94]\n"
     ]
    },
    {
     "name": "stderr",
     "output_type": "stream",
     "text": [
      "\u001b[32m[I 2021-08-27 17:27:18,453]\u001b[0m Trial 41 finished with value: 0.9666666666666667 and parameters: {'rf_max_depth': 9}. Best is trial 3 with value: 0.9666666666666667.\u001b[0m\n",
      "\u001b[32m[I 2021-08-27 17:27:18,484]\u001b[0m Trial 42 finished with value: 0.96 and parameters: {'rf_max_depth': 7}. Best is trial 3 with value: 0.9666666666666667.\u001b[0m\n",
      "\u001b[32m[I 2021-08-27 17:27:18,511]\u001b[0m Trial 43 finished with value: 0.9533333333333333 and parameters: {'rf_max_depth': 11}. Best is trial 3 with value: 0.9666666666666667.\u001b[0m\n",
      "\u001b[32m[I 2021-08-27 17:27:18,546]\u001b[0m Trial 44 finished with value: 0.9466666666666667 and parameters: {'rf_max_depth': 20}. Best is trial 3 with value: 0.9666666666666667.\u001b[0m\n",
      "\u001b[32m[I 2021-08-27 17:27:18,579]\u001b[0m Trial 45 finished with value: 0.9666666666666667 and parameters: {'rf_max_depth': 13}. Best is trial 3 with value: 0.9666666666666667.\u001b[0m\n",
      "\u001b[32m[I 2021-08-27 17:27:18,611]\u001b[0m Trial 46 finished with value: 0.96 and parameters: {'rf_max_depth': 6}. Best is trial 3 with value: 0.9666666666666667.\u001b[0m\n",
      "\u001b[32m[I 2021-08-27 17:27:18,651]\u001b[0m Trial 47 finished with value: 0.9533333333333333 and parameters: {'rf_max_depth': 8}. Best is trial 3 with value: 0.9666666666666667.\u001b[0m\n"
     ]
    },
    {
     "name": "stdout",
     "output_type": "stream",
     "text": [
      "SCORE: [0.98 0.94 0.98]\n",
      "SCORE: [0.98 0.94 0.96]\n",
      "SCORE: [0.98 0.94 0.94]\n",
      "SCORE: [0.98 0.92 0.94]\n",
      "SCORE: [0.98 0.94 0.98]\n",
      "SCORE: [0.98 0.92 0.98]\n",
      "SCORE: [0.98 0.92 0.96]\n"
     ]
    },
    {
     "name": "stderr",
     "output_type": "stream",
     "text": [
      "\u001b[32m[I 2021-08-27 17:27:18,693]\u001b[0m Trial 48 finished with value: 0.9533333333333333 and parameters: {'rf_max_depth': 13}. Best is trial 3 with value: 0.9666666666666667.\u001b[0m\n",
      "\u001b[32m[I 2021-08-27 17:27:18,733]\u001b[0m Trial 49 finished with value: 0.9666666666666667 and parameters: {'rf_max_depth': 5}. Best is trial 3 with value: 0.9666666666666667.\u001b[0m\n",
      "\u001b[32m[I 2021-08-27 17:27:18,769]\u001b[0m Trial 50 finished with value: 0.9533333333333333 and parameters: {'rf_max_depth': 3}. Best is trial 3 with value: 0.9666666666666667.\u001b[0m\n",
      "\u001b[32m[I 2021-08-27 17:27:18,817]\u001b[0m Trial 51 finished with value: 0.9533333333333333 and parameters: {'rf_max_depth': 5}. Best is trial 3 with value: 0.9666666666666667.\u001b[0m\n",
      "\u001b[32m[I 2021-08-27 17:27:18,853]\u001b[0m Trial 52 finished with value: 0.96 and parameters: {'rf_max_depth': 5}. Best is trial 3 with value: 0.9666666666666667.\u001b[0m\n"
     ]
    },
    {
     "name": "stdout",
     "output_type": "stream",
     "text": [
      "SCORE: [0.96 0.94 0.96]\n",
      "SCORE: [0.98 0.94 0.98]\n",
      "SCORE: [0.96 0.92 0.98]\n",
      "SCORE: [0.98 0.94 0.94]\n",
      "SCORE: [0.98 0.94 0.96]\n"
     ]
    },
    {
     "name": "stderr",
     "output_type": "stream",
     "text": [
      "\u001b[32m[I 2021-08-27 17:27:18,900]\u001b[0m Trial 53 finished with value: 0.96 and parameters: {'rf_max_depth': 26}. Best is trial 3 with value: 0.9666666666666667.\u001b[0m\n",
      "\u001b[32m[I 2021-08-27 17:27:18,938]\u001b[0m Trial 54 finished with value: 0.9533333333333333 and parameters: {'rf_max_depth': 14}. Best is trial 3 with value: 0.9666666666666667.\u001b[0m\n",
      "\u001b[32m[I 2021-08-27 17:27:18,980]\u001b[0m Trial 55 finished with value: 0.9533333333333333 and parameters: {'rf_max_depth': 21}. Best is trial 3 with value: 0.9666666666666667.\u001b[0m\n",
      "\u001b[32m[I 2021-08-27 17:27:19,015]\u001b[0m Trial 56 finished with value: 0.9466666666666667 and parameters: {'rf_max_depth': 10}. Best is trial 3 with value: 0.9666666666666667.\u001b[0m\n",
      "\u001b[32m[I 2021-08-27 17:27:19,067]\u001b[0m Trial 57 finished with value: 0.96 and parameters: {'rf_max_depth': 12}. Best is trial 3 with value: 0.9666666666666667.\u001b[0m\n"
     ]
    },
    {
     "name": "stdout",
     "output_type": "stream",
     "text": [
      "SCORE: [0.98 0.92 0.98]\n",
      "SCORE: [0.98 0.94 0.94]\n",
      "SCORE: [0.98 0.92 0.96]\n",
      "SCORE: [0.98 0.94 0.92]\n",
      "SCORE: [0.98 0.94 0.96]\n"
     ]
    },
    {
     "name": "stderr",
     "output_type": "stream",
     "text": [
      "\u001b[32m[I 2021-08-27 17:27:19,216]\u001b[0m Trial 58 finished with value: 0.96 and parameters: {'rf_max_depth': 16}. Best is trial 3 with value: 0.9666666666666667.\u001b[0m\n",
      "\u001b[32m[I 2021-08-27 17:27:19,251]\u001b[0m Trial 59 finished with value: 0.96 and parameters: {'rf_max_depth': 4}. Best is trial 3 with value: 0.9666666666666667.\u001b[0m\n",
      "\u001b[32m[I 2021-08-27 17:27:19,296]\u001b[0m Trial 60 finished with value: 0.96 and parameters: {'rf_max_depth': 9}. Best is trial 3 with value: 0.9666666666666667.\u001b[0m\n",
      "\u001b[32m[I 2021-08-27 17:27:19,332]\u001b[0m Trial 61 finished with value: 0.9533333333333333 and parameters: {'rf_max_depth': 14}. Best is trial 3 with value: 0.9666666666666667.\u001b[0m\n",
      "\u001b[32m[I 2021-08-27 17:27:19,370]\u001b[0m Trial 62 finished with value: 0.9533333333333333 and parameters: {'rf_max_depth': 12}. Best is trial 3 with value: 0.9666666666666667.\u001b[0m\n",
      "\u001b[32m[I 2021-08-27 17:27:19,402]\u001b[0m Trial 63 finished with value: 0.9466666666666667 and parameters: {'rf_max_depth': 6}. Best is trial 3 with value: 0.9666666666666667.\u001b[0m\n"
     ]
    },
    {
     "name": "stdout",
     "output_type": "stream",
     "text": [
      "SCORE: [0.98 0.94 0.96]\n",
      "SCORE: [0.98 0.92 0.98]\n",
      "SCORE: [0.98 0.94 0.96]\n",
      "SCORE: [0.98 0.92 0.96]\n",
      "SCORE: [0.98 0.92 0.96]\n",
      "SCORE: [0.98 0.94 0.92]\n"
     ]
    },
    {
     "name": "stderr",
     "output_type": "stream",
     "text": [
      "\u001b[32m[I 2021-08-27 17:27:19,433]\u001b[0m Trial 64 finished with value: 0.9533333333333333 and parameters: {'rf_max_depth': 8}. Best is trial 3 with value: 0.9666666666666667.\u001b[0m\n",
      "\u001b[32m[I 2021-08-27 17:27:19,480]\u001b[0m Trial 65 finished with value: 0.9666666666666667 and parameters: {'rf_max_depth': 18}. Best is trial 3 with value: 0.9666666666666667.\u001b[0m\n",
      "\u001b[32m[I 2021-08-27 17:27:19,524]\u001b[0m Trial 66 finished with value: 0.96 and parameters: {'rf_max_depth': 19}. Best is trial 3 with value: 0.9666666666666667.\u001b[0m\n",
      "\u001b[32m[I 2021-08-27 17:27:19,556]\u001b[0m Trial 67 finished with value: 0.9533333333333333 and parameters: {'rf_max_depth': 17}. Best is trial 3 with value: 0.9666666666666667.\u001b[0m\n",
      "\u001b[32m[I 2021-08-27 17:27:19,594]\u001b[0m Trial 68 finished with value: 0.9466666666666667 and parameters: {'rf_max_depth': 24}. Best is trial 3 with value: 0.9666666666666667.\u001b[0m\n",
      "\u001b[32m[I 2021-08-27 17:27:19,625]\u001b[0m Trial 69 finished with value: 0.9533333333333333 and parameters: {'rf_max_depth': 15}. Best is trial 3 with value: 0.9666666666666667.\u001b[0m\n"
     ]
    },
    {
     "name": "stdout",
     "output_type": "stream",
     "text": [
      "SCORE: [0.98 0.92 0.96]\n",
      "SCORE: [0.98 0.94 0.98]\n",
      "SCORE: [0.98 0.94 0.96]\n",
      "SCORE: [0.98 0.94 0.94]\n",
      "SCORE: [0.98 0.92 0.94]\n",
      "SCORE: [0.98 0.94 0.94]\n"
     ]
    },
    {
     "name": "stderr",
     "output_type": "stream",
     "text": [
      "\u001b[32m[I 2021-08-27 17:27:19,659]\u001b[0m Trial 70 finished with value: 0.9533333333333333 and parameters: {'rf_max_depth': 29}. Best is trial 3 with value: 0.9666666666666667.\u001b[0m\n",
      "\u001b[32m[I 2021-08-27 17:27:19,695]\u001b[0m Trial 71 finished with value: 0.9533333333333333 and parameters: {'rf_max_depth': 22}. Best is trial 3 with value: 0.9666666666666667.\u001b[0m\n",
      "\u001b[32m[I 2021-08-27 17:27:19,727]\u001b[0m Trial 72 finished with value: 0.9533333333333333 and parameters: {'rf_max_depth': 10}. Best is trial 3 with value: 0.9666666666666667.\u001b[0m\n",
      "\u001b[32m[I 2021-08-27 17:27:19,767]\u001b[0m Trial 73 finished with value: 0.9533333333333333 and parameters: {'rf_max_depth': 11}. Best is trial 3 with value: 0.9666666666666667.\u001b[0m\n",
      "\u001b[32m[I 2021-08-27 17:27:19,810]\u001b[0m Trial 74 finished with value: 0.96 and parameters: {'rf_max_depth': 7}. Best is trial 3 with value: 0.9666666666666667.\u001b[0m\n",
      "\u001b[32m[I 2021-08-27 17:27:19,851]\u001b[0m Trial 75 finished with value: 0.9666666666666667 and parameters: {'rf_max_depth': 2}. Best is trial 3 with value: 0.9666666666666667.\u001b[0m\n"
     ]
    },
    {
     "name": "stdout",
     "output_type": "stream",
     "text": [
      "SCORE: [0.98 0.92 0.96]\n",
      "SCORE: [0.98 0.94 0.94]\n",
      "SCORE: [0.98 0.94 0.94]\n",
      "SCORE: [0.98 0.92 0.96]\n",
      "SCORE: [0.98 0.92 0.98]\n",
      "SCORE: [0.96 0.96 0.98]\n"
     ]
    },
    {
     "name": "stderr",
     "output_type": "stream",
     "text": [
      "\u001b[32m[I 2021-08-27 17:27:19,893]\u001b[0m Trial 76 finished with value: 0.9466666666666667 and parameters: {'rf_max_depth': 2}. Best is trial 3 with value: 0.9666666666666667.\u001b[0m\n",
      "\u001b[32m[I 2021-08-27 17:27:19,923]\u001b[0m Trial 77 finished with value: 0.9466666666666667 and parameters: {'rf_max_depth': 18}. Best is trial 3 with value: 0.9666666666666667.\u001b[0m\n",
      "\u001b[32m[I 2021-08-27 17:27:19,967]\u001b[0m Trial 78 finished with value: 0.9533333333333333 and parameters: {'rf_max_depth': 3}. Best is trial 3 with value: 0.9666666666666667.\u001b[0m\n",
      "\u001b[32m[I 2021-08-27 17:27:20,010]\u001b[0m Trial 79 finished with value: 0.9533333333333333 and parameters: {'rf_max_depth': 2}. Best is trial 3 with value: 0.9666666666666667.\u001b[0m\n",
      "\u001b[32m[I 2021-08-27 17:27:20,055]\u001b[0m Trial 80 finished with value: 0.9533333333333333 and parameters: {'rf_max_depth': 17}. Best is trial 3 with value: 0.9666666666666667.\u001b[0m\n"
     ]
    },
    {
     "name": "stdout",
     "output_type": "stream",
     "text": [
      "SCORE: [0.96 0.92 0.96]\n",
      "SCORE: [0.98 0.94 0.92]\n",
      "SCORE: [0.96 0.94 0.96]\n",
      "SCORE: [0.96 0.96 0.94]\n",
      "SCORE: [0.98 0.9  0.98]\n"
     ]
    },
    {
     "name": "stderr",
     "output_type": "stream",
     "text": [
      "\u001b[32m[I 2021-08-27 17:27:20,103]\u001b[0m Trial 81 finished with value: 0.9666666666666667 and parameters: {'rf_max_depth': 3}. Best is trial 3 with value: 0.9666666666666667.\u001b[0m\n",
      "\u001b[32m[I 2021-08-27 17:27:20,135]\u001b[0m Trial 82 finished with value: 0.9466666666666667 and parameters: {'rf_max_depth': 3}. Best is trial 3 with value: 0.9666666666666667.\u001b[0m\n",
      "\u001b[32m[I 2021-08-27 17:27:20,178]\u001b[0m Trial 83 finished with value: 0.9466666666666667 and parameters: {'rf_max_depth': 13}. Best is trial 3 with value: 0.9666666666666667.\u001b[0m\n",
      "\u001b[32m[I 2021-08-27 17:27:20,224]\u001b[0m Trial 84 finished with value: 0.9533333333333333 and parameters: {'rf_max_depth': 16}. Best is trial 3 with value: 0.9666666666666667.\u001b[0m\n",
      "\u001b[32m[I 2021-08-27 17:27:20,270]\u001b[0m Trial 85 finished with value: 0.9533333333333333 and parameters: {'rf_max_depth': 14}. Best is trial 3 with value: 0.9666666666666667.\u001b[0m\n"
     ]
    },
    {
     "name": "stdout",
     "output_type": "stream",
     "text": [
      "SCORE: [0.98 0.94 0.98]\n",
      "SCORE: [0.98 0.94 0.92]\n",
      "SCORE: [0.98 0.92 0.94]\n",
      "SCORE: [0.98 0.94 0.94]\n",
      "SCORE: [0.98 0.94 0.94]\n"
     ]
    },
    {
     "name": "stderr",
     "output_type": "stream",
     "text": [
      "\u001b[32m[I 2021-08-27 17:27:20,319]\u001b[0m Trial 86 finished with value: 0.96 and parameters: {'rf_max_depth': 20}. Best is trial 3 with value: 0.9666666666666667.\u001b[0m\n",
      "\u001b[32m[I 2021-08-27 17:27:20,368]\u001b[0m Trial 87 finished with value: 0.96 and parameters: {'rf_max_depth': 9}. Best is trial 3 with value: 0.9666666666666667.\u001b[0m\n",
      "\u001b[32m[I 2021-08-27 17:27:20,427]\u001b[0m Trial 88 finished with value: 0.9533333333333333 and parameters: {'rf_max_depth': 4}. Best is trial 3 with value: 0.9666666666666667.\u001b[0m\n",
      "\u001b[32m[I 2021-08-27 17:27:20,468]\u001b[0m Trial 89 finished with value: 0.96 and parameters: {'rf_max_depth': 12}. Best is trial 3 with value: 0.9666666666666667.\u001b[0m\n",
      "\u001b[32m[I 2021-08-27 17:27:20,502]\u001b[0m Trial 90 finished with value: 0.9466666666666667 and parameters: {'rf_max_depth': 10}. Best is trial 3 with value: 0.9666666666666667.\u001b[0m\n"
     ]
    },
    {
     "name": "stdout",
     "output_type": "stream",
     "text": [
      "SCORE: [0.98 0.94 0.96]\n",
      "SCORE: [0.98 0.94 0.96]\n",
      "SCORE: [0.96 0.96 0.94]\n",
      "SCORE: [0.98 0.94 0.96]\n",
      "SCORE: [0.98 0.94 0.92]\n"
     ]
    },
    {
     "name": "stderr",
     "output_type": "stream",
     "text": [
      "\u001b[32m[I 2021-08-27 17:27:20,533]\u001b[0m Trial 91 finished with value: 0.96 and parameters: {'rf_max_depth': 15}. Best is trial 3 with value: 0.9666666666666667.\u001b[0m\n",
      "\u001b[32m[I 2021-08-27 17:27:20,574]\u001b[0m Trial 92 finished with value: 0.9533333333333333 and parameters: {'rf_max_depth': 11}. Best is trial 3 with value: 0.9666666666666667.\u001b[0m\n",
      "\u001b[32m[I 2021-08-27 17:27:20,647]\u001b[0m Trial 93 finished with value: 0.94 and parameters: {'rf_max_depth': 13}. Best is trial 3 with value: 0.9666666666666667.\u001b[0m\n",
      "\u001b[32m[I 2021-08-27 17:27:20,706]\u001b[0m Trial 94 finished with value: 0.9533333333333333 and parameters: {'rf_max_depth': 14}. Best is trial 3 with value: 0.9666666666666667.\u001b[0m\n"
     ]
    },
    {
     "name": "stdout",
     "output_type": "stream",
     "text": [
      "SCORE: [0.98 0.92 0.98]\n",
      "SCORE: [0.98 0.94 0.94]\n",
      "SCORE: [0.98 0.9  0.94]\n",
      "SCORE: [0.98 0.94 0.94]\n"
     ]
    },
    {
     "name": "stderr",
     "output_type": "stream",
     "text": [
      "\u001b[32m[I 2021-08-27 17:27:20,749]\u001b[0m Trial 95 finished with value: 0.9666666666666667 and parameters: {'rf_max_depth': 19}. Best is trial 3 with value: 0.9666666666666667.\u001b[0m\n",
      "\u001b[32m[I 2021-08-27 17:27:20,789]\u001b[0m Trial 96 finished with value: 0.9466666666666667 and parameters: {'rf_max_depth': 18}. Best is trial 3 with value: 0.9666666666666667.\u001b[0m\n",
      "\u001b[32m[I 2021-08-27 17:27:20,832]\u001b[0m Trial 97 finished with value: 0.9533333333333333 and parameters: {'rf_max_depth': 19}. Best is trial 3 with value: 0.9666666666666667.\u001b[0m\n",
      "\u001b[32m[I 2021-08-27 17:27:20,871]\u001b[0m Trial 98 finished with value: 0.9466666666666667 and parameters: {'rf_max_depth': 16}. Best is trial 3 with value: 0.9666666666666667.\u001b[0m\n",
      "\u001b[32m[I 2021-08-27 17:27:20,904]\u001b[0m Trial 99 finished with value: 0.9466666666666667 and parameters: {'rf_max_depth': 8}. Best is trial 3 with value: 0.9666666666666667.\u001b[0m\n"
     ]
    },
    {
     "name": "stdout",
     "output_type": "stream",
     "text": [
      "SCORE: [0.98 0.94 0.98]\n",
      "SCORE: [0.98 0.92 0.94]\n",
      "SCORE: [0.98 0.94 0.94]\n",
      "SCORE: [0.98 0.94 0.92]\n",
      "SCORE: [0.98 0.94 0.92]\n",
      "FrozenTrial(number=3, values=[0.9666666666666667], datetime_start=datetime.datetime(2021, 8, 27, 17, 27, 17, 59026), datetime_complete=datetime.datetime(2021, 8, 27, 17, 27, 17, 102300), params={'rf_max_depth': 16}, distributions={'rf_max_depth': IntLogUniformDistribution(high=32, low=2, step=1)}, user_attrs={}, system_attrs={}, intermediate_values={}, trial_id=3, state=TrialState.COMPLETE, value=None)\n"
     ]
    }
   ],
   "source": [
    "# sklearn example\n",
    "\"\"\"\n",
    "Optuna example that optimizes a classifier configuration for Iris dataset using sklearn.\n",
    "This example is the same as `sklearn_simple.py` except that it uses a callable class for\n",
    "implementing the objective function. It takes the Iris dataset by a constructor's argument\n",
    "instead of loading it in each trial execution. This will speed up the execution of each trial\n",
    "compared to `sklearn_simple.py`.\n",
    "\"\"\"\n",
    "\n",
    "import optuna\n",
    "\n",
    "import pandas as pd\n",
    "import numpy as np\n",
    "import sklearn.datasets\n",
    "import sklearn.ensemble\n",
    "import sklearn.model_selection\n",
    "import sklearn.svm\n",
    "from sklearn.utils import Bunch\n",
    "\n",
    "\n",
    "#class Objective(object):\n",
    "class Objective(Bunch):\n",
    "    def __init__(self, iris):\n",
    "        self.iris = iris\n",
    "\n",
    "    def __call__(self, trial):\n",
    "        x, y = self.iris.data, self.iris.target\n",
    "\n",
    "        rf_max_depth = trial.suggest_int(\"rf_max_depth\", 2, 32, log=True)\n",
    "        classifier_obj = sklearn.ensemble.RandomForestClassifier(\n",
    "                            max_depth=rf_max_depth, n_estimators=10\n",
    "        )\n",
    "\n",
    "        #score = sklearn.model_selection.cross_val_score(classifier_obj, x, y, n_jobs=-1, cv=3)\n",
    "        score = sklearn.model_selection.cross_val_score(classifier_obj, x, y, n_jobs=-1, cv=3)\n",
    "        print(f'SCORE: {score}')\n",
    "        accuracy = score.mean()\n",
    "        return accuracy\n",
    "\n",
    "\n",
    "if __name__ == \"__main__\":\n",
    "    # Load the dataset in advance for reusing it each trial execution.\n",
    "    iris = sklearn.datasets.load_iris()\n",
    "    print(f'iris.keys(): {iris.keys()}')\n",
    "    objective = Objective(iris)\n",
    "\n",
    "    study = optuna.create_study(direction=\"maximize\")\n",
    "    study.optimize(objective, n_trials=100)\n",
    "    print(study.best_trial)"
   ]
  },
  {
   "cell_type": "code",
   "execution_count": null,
   "id": "929fae83",
   "metadata": {},
   "outputs": [],
   "source": []
  }
 ],
 "metadata": {
  "kernelspec": {
   "display_name": "Python [conda env:root] *",
   "language": "python",
   "name": "conda-root-py"
  },
  "language_info": {
   "codemirror_mode": {
    "name": "ipython",
    "version": 3
   },
   "file_extension": ".py",
   "mimetype": "text/x-python",
   "name": "python",
   "nbconvert_exporter": "python",
   "pygments_lexer": "ipython3",
   "version": "3.7.9"
  }
 },
 "nbformat": 4,
 "nbformat_minor": 5
}
