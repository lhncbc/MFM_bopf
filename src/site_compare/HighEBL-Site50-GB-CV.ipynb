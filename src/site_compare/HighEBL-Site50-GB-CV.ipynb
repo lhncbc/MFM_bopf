{
 "cells": [
  {
   "cell_type": "code",
   "execution_count": 1,
   "metadata": {
    "_cell_guid": "b1076dfc-b9ad-4769-8c92-a6c4dae69d19",
    "_uuid": "8f2839f25d086af736a60e9eeb907d3b93b6e0e5"
   },
   "outputs": [],
   "source": [
    "import numpy as np \n",
    "import pandas as pd \n",
    "\n",
    "import matplotlib.pyplot as plt\n",
    "#import plotly.express as px\n",
    "import seaborn as sns\n",
    "\n",
    "from lightgbm import LGBMClassifier\n",
    "from sklearn.ensemble import GradientBoostingClassifier\n",
    "\n",
    "from sklearn.model_selection import StratifiedKFold\n",
    "from collections import Counter\n",
    "from imblearn.under_sampling import RandomUnderSampler\n",
    "from sklearn.metrics import classification_report, roc_auc_score, confusion_matrix, \\\n",
    "                            accuracy_score, f1_score, average_precision_score, \\\n",
    "                            fbeta_score, precision_recall_curve, auc\n",
    "from sklearn.metrics import matthews_corrcoef\n",
    "\n",
    "from sklearn.model_selection import train_test_split\n",
    "\n",
    "import optuna\n",
    "from optuna.samplers import TPESampler\n",
    "sns.set(style='white', context='notebook', palette='deep')\n",
    "%config Completer.use_jedi = False"
   ]
  },
  {
   "cell_type": "code",
   "execution_count": 2,
   "metadata": {},
   "outputs": [
    {
     "data": {
      "text/html": [
       "<div>\n",
       "<style scoped>\n",
       "    .dataframe tbody tr th:only-of-type {\n",
       "        vertical-align: middle;\n",
       "    }\n",
       "\n",
       "    .dataframe tbody tr th {\n",
       "        vertical-align: top;\n",
       "    }\n",
       "\n",
       "    .dataframe thead th {\n",
       "        text-align: right;\n",
       "    }\n",
       "</style>\n",
       "<table border=\"1\" class=\"dataframe\">\n",
       "  <thead>\n",
       "    <tr style=\"text-align: right;\">\n",
       "      <th></th>\n",
       "      <th>transfus_yes</th>\n",
       "      <th>Accrete</th>\n",
       "      <th>AdmBishop</th>\n",
       "      <th>Admcervpos</th>\n",
       "      <th>Admconsistency</th>\n",
       "      <th>Admcontract</th>\n",
       "      <th>AdmDBP</th>\n",
       "      <th>Admefface</th>\n",
       "      <th>Admpresent</th>\n",
       "      <th>AdmSBP</th>\n",
       "      <th>...</th>\n",
       "      <th>TD_nos</th>\n",
       "      <th>ThreatenedPB</th>\n",
       "      <th>threatpb9</th>\n",
       "      <th>UnspecHBP</th>\n",
       "      <th>uscar</th>\n",
       "      <th>version9</th>\n",
       "      <th>new_age</th>\n",
       "      <th>new_BMI</th>\n",
       "      <th>new_high_Age</th>\n",
       "      <th>new_high_BMI</th>\n",
       "    </tr>\n",
       "    <tr>\n",
       "      <th>MomID</th>\n",
       "      <th></th>\n",
       "      <th></th>\n",
       "      <th></th>\n",
       "      <th></th>\n",
       "      <th></th>\n",
       "      <th></th>\n",
       "      <th></th>\n",
       "      <th></th>\n",
       "      <th></th>\n",
       "      <th></th>\n",
       "      <th></th>\n",
       "      <th></th>\n",
       "      <th></th>\n",
       "      <th></th>\n",
       "      <th></th>\n",
       "      <th></th>\n",
       "      <th></th>\n",
       "      <th></th>\n",
       "      <th></th>\n",
       "      <th></th>\n",
       "      <th></th>\n",
       "    </tr>\n",
       "  </thead>\n",
       "  <tbody>\n",
       "    <tr>\n",
       "      <th>50-13687</th>\n",
       "      <td>0</td>\n",
       "      <td>0</td>\n",
       "      <td>8</td>\n",
       "      <td>2</td>\n",
       "      <td>3</td>\n",
       "      <td>2.0</td>\n",
       "      <td>75</td>\n",
       "      <td>70.0</td>\n",
       "      <td>1</td>\n",
       "      <td>123.0</td>\n",
       "      <td>...</td>\n",
       "      <td>0</td>\n",
       "      <td>0</td>\n",
       "      <td>0</td>\n",
       "      <td>0</td>\n",
       "      <td>0</td>\n",
       "      <td>0</td>\n",
       "      <td>24</td>\n",
       "      <td>24</td>\n",
       "      <td>1</td>\n",
       "      <td>1</td>\n",
       "    </tr>\n",
       "    <tr>\n",
       "      <th>50-08549</th>\n",
       "      <td>0</td>\n",
       "      <td>0</td>\n",
       "      <td>9</td>\n",
       "      <td>2</td>\n",
       "      <td>3</td>\n",
       "      <td>3.0</td>\n",
       "      <td>77</td>\n",
       "      <td>80.0</td>\n",
       "      <td>1</td>\n",
       "      <td>128.0</td>\n",
       "      <td>...</td>\n",
       "      <td>0</td>\n",
       "      <td>0</td>\n",
       "      <td>0</td>\n",
       "      <td>0</td>\n",
       "      <td>0</td>\n",
       "      <td>0</td>\n",
       "      <td>35</td>\n",
       "      <td>24</td>\n",
       "      <td>1</td>\n",
       "      <td>1</td>\n",
       "    </tr>\n",
       "    <tr>\n",
       "      <th>50-14151</th>\n",
       "      <td>0</td>\n",
       "      <td>0</td>\n",
       "      <td>13</td>\n",
       "      <td>1</td>\n",
       "      <td>3</td>\n",
       "      <td>2.0</td>\n",
       "      <td>78</td>\n",
       "      <td>90.0</td>\n",
       "      <td>1</td>\n",
       "      <td>124.0</td>\n",
       "      <td>...</td>\n",
       "      <td>0</td>\n",
       "      <td>0</td>\n",
       "      <td>0</td>\n",
       "      <td>0</td>\n",
       "      <td>0</td>\n",
       "      <td>0</td>\n",
       "      <td>22</td>\n",
       "      <td>24</td>\n",
       "      <td>1</td>\n",
       "      <td>1</td>\n",
       "    </tr>\n",
       "    <tr>\n",
       "      <th>50-00959</th>\n",
       "      <td>0</td>\n",
       "      <td>0</td>\n",
       "      <td>8</td>\n",
       "      <td>8</td>\n",
       "      <td>8</td>\n",
       "      <td>2.0</td>\n",
       "      <td>60</td>\n",
       "      <td>0.0</td>\n",
       "      <td>77</td>\n",
       "      <td>107.0</td>\n",
       "      <td>...</td>\n",
       "      <td>0</td>\n",
       "      <td>0</td>\n",
       "      <td>0</td>\n",
       "      <td>0</td>\n",
       "      <td>1</td>\n",
       "      <td>0</td>\n",
       "      <td>41</td>\n",
       "      <td>24</td>\n",
       "      <td>2</td>\n",
       "      <td>1</td>\n",
       "    </tr>\n",
       "    <tr>\n",
       "      <th>50-15186</th>\n",
       "      <td>0</td>\n",
       "      <td>0</td>\n",
       "      <td>8</td>\n",
       "      <td>8</td>\n",
       "      <td>8</td>\n",
       "      <td>2.0</td>\n",
       "      <td>77</td>\n",
       "      <td>0.0</td>\n",
       "      <td>77</td>\n",
       "      <td>124.0</td>\n",
       "      <td>...</td>\n",
       "      <td>0</td>\n",
       "      <td>0</td>\n",
       "      <td>0</td>\n",
       "      <td>0</td>\n",
       "      <td>0</td>\n",
       "      <td>0</td>\n",
       "      <td>34</td>\n",
       "      <td>24</td>\n",
       "      <td>1</td>\n",
       "      <td>1</td>\n",
       "    </tr>\n",
       "    <tr>\n",
       "      <th>...</th>\n",
       "      <td>...</td>\n",
       "      <td>...</td>\n",
       "      <td>...</td>\n",
       "      <td>...</td>\n",
       "      <td>...</td>\n",
       "      <td>...</td>\n",
       "      <td>...</td>\n",
       "      <td>...</td>\n",
       "      <td>...</td>\n",
       "      <td>...</td>\n",
       "      <td>...</td>\n",
       "      <td>...</td>\n",
       "      <td>...</td>\n",
       "      <td>...</td>\n",
       "      <td>...</td>\n",
       "      <td>...</td>\n",
       "      <td>...</td>\n",
       "      <td>...</td>\n",
       "      <td>...</td>\n",
       "      <td>...</td>\n",
       "      <td>...</td>\n",
       "    </tr>\n",
       "    <tr>\n",
       "      <th>50-10286</th>\n",
       "      <td>0</td>\n",
       "      <td>0</td>\n",
       "      <td>8</td>\n",
       "      <td>2</td>\n",
       "      <td>3</td>\n",
       "      <td>1.0</td>\n",
       "      <td>73</td>\n",
       "      <td>80.0</td>\n",
       "      <td>1</td>\n",
       "      <td>104.0</td>\n",
       "      <td>...</td>\n",
       "      <td>0</td>\n",
       "      <td>0</td>\n",
       "      <td>0</td>\n",
       "      <td>0</td>\n",
       "      <td>0</td>\n",
       "      <td>0</td>\n",
       "      <td>22</td>\n",
       "      <td>20</td>\n",
       "      <td>1</td>\n",
       "      <td>1</td>\n",
       "    </tr>\n",
       "    <tr>\n",
       "      <th>50-10663</th>\n",
       "      <td>0</td>\n",
       "      <td>0</td>\n",
       "      <td>8</td>\n",
       "      <td>8</td>\n",
       "      <td>8</td>\n",
       "      <td>3.0</td>\n",
       "      <td>62</td>\n",
       "      <td>0.0</td>\n",
       "      <td>77</td>\n",
       "      <td>117.0</td>\n",
       "      <td>...</td>\n",
       "      <td>0</td>\n",
       "      <td>0</td>\n",
       "      <td>0</td>\n",
       "      <td>0</td>\n",
       "      <td>0</td>\n",
       "      <td>0</td>\n",
       "      <td>29</td>\n",
       "      <td>24</td>\n",
       "      <td>1</td>\n",
       "      <td>1</td>\n",
       "    </tr>\n",
       "    <tr>\n",
       "      <th>50-07713</th>\n",
       "      <td>0</td>\n",
       "      <td>0</td>\n",
       "      <td>8</td>\n",
       "      <td>8</td>\n",
       "      <td>8</td>\n",
       "      <td>3.0</td>\n",
       "      <td>72</td>\n",
       "      <td>90.0</td>\n",
       "      <td>1</td>\n",
       "      <td>125.0</td>\n",
       "      <td>...</td>\n",
       "      <td>0</td>\n",
       "      <td>0</td>\n",
       "      <td>0</td>\n",
       "      <td>0</td>\n",
       "      <td>0</td>\n",
       "      <td>0</td>\n",
       "      <td>29</td>\n",
       "      <td>24</td>\n",
       "      <td>1</td>\n",
       "      <td>1</td>\n",
       "    </tr>\n",
       "    <tr>\n",
       "      <th>50-13792</th>\n",
       "      <td>0</td>\n",
       "      <td>0</td>\n",
       "      <td>8</td>\n",
       "      <td>3</td>\n",
       "      <td>3</td>\n",
       "      <td>2.0</td>\n",
       "      <td>67</td>\n",
       "      <td>70.0</td>\n",
       "      <td>1</td>\n",
       "      <td>122.0</td>\n",
       "      <td>...</td>\n",
       "      <td>0</td>\n",
       "      <td>0</td>\n",
       "      <td>0</td>\n",
       "      <td>0</td>\n",
       "      <td>0</td>\n",
       "      <td>0</td>\n",
       "      <td>24</td>\n",
       "      <td>24</td>\n",
       "      <td>1</td>\n",
       "      <td>1</td>\n",
       "    </tr>\n",
       "    <tr>\n",
       "      <th>50-10217</th>\n",
       "      <td>0</td>\n",
       "      <td>0</td>\n",
       "      <td>9</td>\n",
       "      <td>2</td>\n",
       "      <td>2</td>\n",
       "      <td>2.0</td>\n",
       "      <td>62</td>\n",
       "      <td>70.0</td>\n",
       "      <td>1</td>\n",
       "      <td>120.0</td>\n",
       "      <td>...</td>\n",
       "      <td>0</td>\n",
       "      <td>0</td>\n",
       "      <td>0</td>\n",
       "      <td>0</td>\n",
       "      <td>0</td>\n",
       "      <td>0</td>\n",
       "      <td>39</td>\n",
       "      <td>24</td>\n",
       "      <td>1</td>\n",
       "      <td>1</td>\n",
       "    </tr>\n",
       "  </tbody>\n",
       "</table>\n",
       "<p>7822 rows × 195 columns</p>\n",
       "</div>"
      ],
      "text/plain": [
       "          transfus_yes  Accrete  AdmBishop  Admcervpos  Admconsistency  \\\n",
       "MomID                                                                    \n",
       "50-13687             0        0          8           2               3   \n",
       "50-08549             0        0          9           2               3   \n",
       "50-14151             0        0         13           1               3   \n",
       "50-00959             0        0          8           8               8   \n",
       "50-15186             0        0          8           8               8   \n",
       "...                ...      ...        ...         ...             ...   \n",
       "50-10286             0        0          8           2               3   \n",
       "50-10663             0        0          8           8               8   \n",
       "50-07713             0        0          8           8               8   \n",
       "50-13792             0        0          8           3               3   \n",
       "50-10217             0        0          9           2               2   \n",
       "\n",
       "          Admcontract  AdmDBP  Admefface  Admpresent  AdmSBP  ...  TD_nos  \\\n",
       "MomID                                                         ...           \n",
       "50-13687          2.0      75       70.0           1   123.0  ...       0   \n",
       "50-08549          3.0      77       80.0           1   128.0  ...       0   \n",
       "50-14151          2.0      78       90.0           1   124.0  ...       0   \n",
       "50-00959          2.0      60        0.0          77   107.0  ...       0   \n",
       "50-15186          2.0      77        0.0          77   124.0  ...       0   \n",
       "...               ...     ...        ...         ...     ...  ...     ...   \n",
       "50-10286          1.0      73       80.0           1   104.0  ...       0   \n",
       "50-10663          3.0      62        0.0          77   117.0  ...       0   \n",
       "50-07713          3.0      72       90.0           1   125.0  ...       0   \n",
       "50-13792          2.0      67       70.0           1   122.0  ...       0   \n",
       "50-10217          2.0      62       70.0           1   120.0  ...       0   \n",
       "\n",
       "          ThreatenedPB  threatpb9  UnspecHBP  uscar  version9  new_age  \\\n",
       "MomID                                                                    \n",
       "50-13687             0          0          0      0         0       24   \n",
       "50-08549             0          0          0      0         0       35   \n",
       "50-14151             0          0          0      0         0       22   \n",
       "50-00959             0          0          0      1         0       41   \n",
       "50-15186             0          0          0      0         0       34   \n",
       "...                ...        ...        ...    ...       ...      ...   \n",
       "50-10286             0          0          0      0         0       22   \n",
       "50-10663             0          0          0      0         0       29   \n",
       "50-07713             0          0          0      0         0       29   \n",
       "50-13792             0          0          0      0         0       24   \n",
       "50-10217             0          0          0      0         0       39   \n",
       "\n",
       "          new_BMI  new_high_Age  new_high_BMI  \n",
       "MomID                                          \n",
       "50-13687       24             1             1  \n",
       "50-08549       24             1             1  \n",
       "50-14151       24             1             1  \n",
       "50-00959       24             2             1  \n",
       "50-15186       24             1             1  \n",
       "...           ...           ...           ...  \n",
       "50-10286       20             1             1  \n",
       "50-10663       24             1             1  \n",
       "50-07713       24             1             1  \n",
       "50-13792       24             1             1  \n",
       "50-10217       24             1             1  \n",
       "\n",
       "[7822 rows x 195 columns]"
      ]
     },
     "execution_count": 2,
     "metadata": {},
     "output_type": "execute_result"
    }
   ],
   "source": [
    "csl_df = pd.read_csv('../../data/csl/Sites/CSL_he_PI_s50.csv', index_col=0)\n",
    "X = csl_df.drop(['high_EBL','Sitenum'], axis=1, inplace=False)\n",
    "y = csl_df['high_EBL'].values\n",
    "\n",
    "X_train, X_test, y_train, y_test = train_test_split(X, y, test_size=0.3, stratify=y, random_state=7)\n",
    "X_train                                                    "
   ]
  },
  {
   "cell_type": "code",
   "execution_count": 3,
   "metadata": {},
   "outputs": [
    {
     "data": {
      "text/plain": [
       "(11175, 195)"
      ]
     },
     "execution_count": 3,
     "metadata": {},
     "output_type": "execute_result"
    }
   ],
   "source": [
    "X.shape"
   ]
  },
  {
   "cell_type": "markdown",
   "metadata": {},
   "source": [
    "<h1 align='center'>Exploratory Data Analysis</h1>"
   ]
  },
  {
   "cell_type": "markdown",
   "metadata": {},
   "source": [
    "<h1 align='center'>Modelling</h1>"
   ]
  },
  {
   "cell_type": "code",
   "execution_count": 8,
   "metadata": {},
   "outputs": [
    {
     "name": "stdout",
     "output_type": "stream",
     "text": [
      "(7822, 195)\n",
      "(11175, 195)\n",
      "(11175,)\n"
     ]
    }
   ],
   "source": [
    "print(X_train.shape)\n",
    "print(X.shape)\n",
    "print(y.shape)"
   ]
  },
  {
   "cell_type": "markdown",
   "metadata": {},
   "source": [
    "Here we define our validation set"
   ]
  },
  {
   "cell_type": "markdown",
   "metadata": {},
   "source": [
    "<h1 align='center'>Modelling Using Undersampling</h1>"
   ]
  },
  {
   "cell_type": "markdown",
   "metadata": {},
   "source": [
    "We will use `imblearn`'s RandomUnderSampler to undersample from the majority class so that they match"
   ]
  },
  {
   "cell_type": "code",
   "execution_count": 9,
   "metadata": {},
   "outputs": [],
   "source": [
    "sampler = RandomUnderSampler(sampling_strategy=1.0, random_state=7)\n",
    "X_rus, y_rus = sampler.fit_resample(X_train, y_train)\n",
    "\n",
    "# Try with no undersampling\n",
    "#X_rus, y_rus = X_train, y_train"
   ]
  },
  {
   "cell_type": "code",
   "execution_count": 10,
   "metadata": {},
   "outputs": [
    {
     "name": "stdout",
     "output_type": "stream",
     "text": [
      "(938, 195)\n",
      "(938,)\n",
      "[469 469]\n"
     ]
    }
   ],
   "source": [
    "print(X_rus.shape)\n",
    "print(y_rus.shape)\n",
    "print(np.bincount(y_rus))"
   ]
  },
  {
   "cell_type": "markdown",
   "metadata": {},
   "source": [
    "<h1 align='center'>Basic Gradient Boosting</h1>"
   ]
  },
  {
   "cell_type": "code",
   "execution_count": 11,
   "metadata": {},
   "outputs": [
    {
     "name": "stdout",
     "output_type": "stream",
     "text": [
      "{'ccp_alpha': 0.0, 'criterion': 'friedman_mse', 'init': None, 'learning_rate': 0.1, 'loss': 'deviance', 'max_depth': 3, 'max_features': None, 'max_leaf_nodes': None, 'min_impurity_decrease': 0.0, 'min_impurity_split': None, 'min_samples_leaf': 1, 'min_samples_split': 2, 'min_weight_fraction_leaf': 0.0, 'n_estimators': 100, 'n_iter_no_change': None, 'presort': 'deprecated', 'random_state': None, 'subsample': 1.0, 'tol': 0.0001, 'validation_fraction': 0.1, 'verbose': 0, 'warm_start': False}\n",
      "[[2468  684]\n",
      " [  24  177]]\n",
      "              precision    recall  f1-score   support\n",
      "\n",
      "           0       0.99      0.78      0.87      3152\n",
      "           1       0.21      0.88      0.33       201\n",
      "\n",
      "    accuracy                           0.79      3353\n",
      "   macro avg       0.60      0.83      0.60      3353\n",
      "weighted avg       0.94      0.79      0.84      3353\n",
      "\n",
      "ROC AUC prob1: 0.894348845872162\n",
      "MCC: 0.36059245889417924\n",
      "F2: 0.5315315315315315\n",
      "PR_AUC: 0.34201454182809427\n",
      "CPU times: user 389 ms, sys: 2.86 ms, total: 392 ms\n",
      "Wall time: 389 ms\n"
     ]
    }
   ],
   "source": [
    "%%time\n",
    "from sklearn.metrics import matthews_corrcoef\n",
    "from sklearn.utils import class_weight\n",
    "gb_rus = GradientBoostingClassifier()   # If not undersampling\n",
    "gb_rus.fit(X_rus, y_rus)\n",
    "print(gb_rus.get_params())\n",
    "y_pred = gb_rus.predict(X_test)\n",
    "probs = gb_rus.predict_proba(X_test)\n",
    "prob1 = probs[:, 1]  # Only positives\n",
    "precision, recall, pr_thresh = precision_recall_curve(y_test, prob1)\n",
    "print(confusion_matrix(y_pred=y_pred, y_true=y_test))\n",
    "print(classification_report(y_test, y_pred))\n",
    "print(f'ROC AUC prob1: {roc_auc_score(y_test, prob1)}')\n",
    "print(f'MCC: {matthews_corrcoef(y_test, y_pred)}')\n",
    "print(f'F2: {fbeta_score(y_test, y_pred, beta=2.0, average=None)[1]}')\n",
    "print(f'PR_AUC: {auc(recall, precision)}')"
   ]
  },
  {
   "cell_type": "code",
   "execution_count": 12,
   "metadata": {},
   "outputs": [
    {
     "name": "stdout",
     "output_type": "stream",
     "text": [
      "{'ccp_alpha': 0.0, 'criterion': 'friedman_mse', 'init': None, 'learning_rate': 0.1, 'loss': 'deviance', 'max_depth': 3, 'max_features': None, 'max_leaf_nodes': None, 'min_impurity_decrease': 0.0, 'min_impurity_split': None, 'min_samples_leaf': 1, 'min_samples_split': 2, 'min_weight_fraction_leaf': 0.0, 'n_estimators': 100, 'n_iter_no_change': None, 'presort': 'deprecated', 'random_state': None, 'subsample': 1.0, 'tol': 0.0001, 'validation_fraction': 0.1, 'verbose': 0, 'warm_start': False}\n",
      "[[2516  636]\n",
      " [  26  175]]\n",
      "              precision    recall  f1-score   support\n",
      "\n",
      "           0       0.99      0.80      0.88      3152\n",
      "           1       0.22      0.87      0.35       201\n",
      "\n",
      "    accuracy                           0.80      3353\n",
      "   macro avg       0.60      0.83      0.61      3353\n",
      "weighted avg       0.94      0.80      0.85      3353\n",
      "\n",
      "ROC AUC prob1: 0.8926449604768038\n",
      "MCC: 0.37079573149315526\n",
      "F2: 0.5417956656346749\n",
      "PR_AUC: 0.35054167764247335\n",
      "CPU times: user 2.42 s, sys: 5.2 ms, total: 2.42 s\n",
      "Wall time: 2.42 s\n"
     ]
    }
   ],
   "source": [
    "%%time\n",
    "# Not undersampled\n",
    "from sklearn.metrics import matthews_corrcoef\n",
    "from sklearn.utils import class_weight\n",
    "gb_weight = GradientBoostingClassifier()  \n",
    "weights = class_weight.compute_sample_weight('balanced', y=y_train)\n",
    "gb_weight.fit(X_train, y_train, sample_weight=weights)\n",
    "print(gb_weight.get_params())\n",
    "y_pred = gb_weight.predict(X_test)\n",
    "probs = gb_weight.predict_proba(X_test)\n",
    "prob1 = probs[:, 1]  # Only positives\n",
    "precision, recall, pr_thresh = precision_recall_curve(y_test, prob1)\n",
    "print(confusion_matrix(y_pred=y_pred, y_true=y_test))\n",
    "print(classification_report(y_test, y_pred))\n",
    "print(f'ROC AUC prob1: {roc_auc_score(y_test, prob1)}')\n",
    "print(f'MCC: {matthews_corrcoef(y_test, y_pred)}')\n",
    "print(f'F2: {fbeta_score(y_test, y_pred, beta=2.0, average=None)[1]}')\n",
    "print(f'PR_AUC: {auc(recall, precision)}')"
   ]
  },
  {
   "cell_type": "markdown",
   "metadata": {},
   "source": [
    "<h1 align='center'>Hyperparameter Tuning with Cross Validation</h1>"
   ]
  },
  {
   "cell_type": "code",
   "execution_count": 13,
   "metadata": {
    "scrolled": false
   },
   "outputs": [
    {
     "name": "stderr",
     "output_type": "stream",
     "text": [
      "\u001b[32m[I 2021-12-10 14:35:37,116]\u001b[0m A new study created in memory with name: no-name-b7b22ce5-207e-4a74-8088-0f0ca8377269\u001b[0m\n",
      "\u001b[32m[I 2021-12-10 14:35:38,122]\u001b[0m Trial 0 finished with value: 0.38311164347611826 and parameters: {'n_estimators': 24, 'subsample': 0.955983758448023, 'max_depth': 10, 'max_features': 17, 'learning_rate': 0.1973587414395923, 'min_samples_leaf': 27}. Best is trial 0 with value: 0.38311164347611826.\u001b[0m\n"
     ]
    },
    {
     "name": "stdout",
     "output_type": "stream",
     "text": [
      "MCC: [0.37716894682933133, 0.3876087228162542, 0.3889104192862239, 0.37875848497266384]\n",
      "ROC: [0.8980303572527575, 0.8878069125593878, 0.9086379791825338, 0.8911164723105198]\n",
      "PR_AUC: [0.32098475408182586, 0.26752594545025743, 0.30960392965705963, 0.3038204947368855]\n"
     ]
    },
    {
     "name": "stderr",
     "output_type": "stream",
     "text": [
      "\u001b[32m[I 2021-12-10 14:35:40,652]\u001b[0m Trial 1 finished with value: 0.38062334119182795 and parameters: {'n_estimators': 105, 'subsample': 0.8144102266719524, 'max_depth': 7, 'max_features': 15, 'learning_rate': 0.16150759953451288, 'min_samples_leaf': 41}. Best is trial 0 with value: 0.38311164347611826.\u001b[0m\n"
     ]
    },
    {
     "name": "stdout",
     "output_type": "stream",
     "text": [
      "MCC: [0.3716694202750342, 0.3757038838803931, 0.3872849104928098, 0.38783515011907455]\n",
      "ROC: [0.8900501243421036, 0.8848012548507598, 0.8998386102346498, 0.8867816537526623]\n",
      "PR_AUC: [0.2878372365326239, 0.26390388399314535, 0.2873027030673795, 0.29200991819820094]\n"
     ]
    },
    {
     "name": "stderr",
     "output_type": "stream",
     "text": [
      "\u001b[32m[I 2021-12-10 14:35:42,842]\u001b[0m Trial 2 finished with value: 0.3858550059689128 and parameters: {'n_estimators': 82, 'subsample': 0.813187269381181, 'max_depth': 8, 'max_features': 20, 'learning_rate': 0.10560624242958987, 'min_samples_leaf': 23}. Best is trial 2 with value: 0.3858550059689128.\u001b[0m\n"
     ]
    },
    {
     "name": "stdout",
     "output_type": "stream",
     "text": [
      "MCC: [0.37362614498882735, 0.38723140952966767, 0.3889104192862239, 0.39365205007093246]\n",
      "ROC: [0.8981785192462429, 0.8856535378812604, 0.8991495303376492, 0.8946554719958407]\n",
      "PR_AUC: [0.3130284654754564, 0.2568259891655635, 0.2813883028109565, 0.29816754995657685]\n"
     ]
    },
    {
     "name": "stderr",
     "output_type": "stream",
     "text": [
      "\u001b[32m[I 2021-12-10 14:35:47,713]\u001b[0m Trial 3 finished with value: 0.3714953478041795 and parameters: {'n_estimators': 187, 'subsample': 0.8049798455100696, 'max_depth': 13, 'max_features': 20, 'learning_rate': 0.10763634548251577, 'min_samples_leaf': 28}. Best is trial 2 with value: 0.3858550059689128.\u001b[0m\n"
     ]
    },
    {
     "name": "stdout",
     "output_type": "stream",
     "text": [
      "MCC: [0.3606412802379647, 0.35576849575650427, 0.369133989413383, 0.400437625808866]\n",
      "ROC: [0.8910530670672359, 0.8830037536720705, 0.8903070938962028, 0.8929087749862042]\n",
      "PR_AUC: [0.2877274381156708, 0.25637317224974376, 0.261765064350853, 0.2835179395606865]\n"
     ]
    },
    {
     "name": "stderr",
     "output_type": "stream",
     "text": [
      "\u001b[32m[I 2021-12-10 14:35:52,602]\u001b[0m Trial 4 finished with value: 0.37954478096743954 and parameters: {'n_estimators': 183, 'subsample': 0.8266338891518501, 'max_depth': 12, 'max_features': 18, 'learning_rate': 0.16028158890606967, 'min_samples_leaf': 24}. Best is trial 2 with value: 0.3858550059689128.\u001b[0m\n"
     ]
    },
    {
     "name": "stdout",
     "output_type": "stream",
     "text": [
      "MCC: [0.3744834124345514, 0.3868345528533507, 0.38462823696576287, 0.3722329216160933]\n",
      "ROC: [0.891210346721859, 0.8862383491096363, 0.8959557356834584, 0.8868705848014555]\n",
      "PR_AUC: [0.28881638346868715, 0.254925529522089, 0.26307052752805765, 0.2762358949869827]\n"
     ]
    },
    {
     "name": "stderr",
     "output_type": "stream",
     "text": [
      "\u001b[32m[I 2021-12-10 14:35:53,912]\u001b[0m Trial 5 finished with value: 0.3825323022577879 and parameters: {'n_estimators': 49, 'subsample': 0.8981531778182141, 'max_depth': 9, 'max_features': 15, 'learning_rate': 0.12390684629367116, 'min_samples_leaf': 42}. Best is trial 2 with value: 0.3858550059689128.\u001b[0m\n"
     ]
    },
    {
     "name": "stdout",
     "output_type": "stream",
     "text": [
      "MCC: [0.3768040942275017, 0.3838059716375483, 0.38574395807934736, 0.38377518508675423]\n",
      "ROC: [0.9012899211094371, 0.8906312334530155, 0.8980139085337107, 0.8903480168376121]\n",
      "PR_AUC: [0.3272949826951657, 0.27903772284034867, 0.27883314184602015, 0.2827074602104866]\n"
     ]
    },
    {
     "name": "stderr",
     "output_type": "stream",
     "text": [
      "\u001b[32m[I 2021-12-10 14:35:59,053]\u001b[0m Trial 6 finished with value: 0.38364536561570184 and parameters: {'n_estimators': 156, 'subsample': 0.8627989354425325, 'max_depth': 13, 'max_features': 13, 'learning_rate': 0.13434115190556806, 'min_samples_leaf': 18}. Best is trial 2 with value: 0.3858550059689128.\u001b[0m\n"
     ]
    },
    {
     "name": "stdout",
     "output_type": "stream",
     "text": [
      "MCC: [0.37558112665313514, 0.38491593598719326, 0.382327123398736, 0.3917572764237429]\n",
      "ROC: [0.8897674768468392, 0.8845859173829471, 0.895520527327458, 0.8921038349804579]\n",
      "PR_AUC: [0.2647441625409147, 0.2596331760341017, 0.2796966327069434, 0.28738300475873285]\n"
     ]
    },
    {
     "name": "stderr",
     "output_type": "stream",
     "text": [
      "\u001b[32m[I 2021-12-10 14:36:02,371]\u001b[0m Trial 7 finished with value: 0.3865833832605876 and parameters: {'n_estimators': 135, 'subsample': 0.8740702165976071, 'max_depth': 11, 'max_features': 17, 'learning_rate': 0.12955901949366017, 'min_samples_leaf': 46}. Best is trial 7 with value: 0.3865833832605876.\u001b[0m\n"
     ]
    },
    {
     "name": "stdout",
     "output_type": "stream",
     "text": [
      "MCC: [0.3780877378456175, 0.3810919362444566, 0.3993187088332017, 0.38783515011907455]\n",
      "ROC: [0.8958603539020171, 0.8841031081130092, 0.8931971493852681, 0.8867679720528479]\n",
      "PR_AUC: [0.30135353239282614, 0.2654339729072892, 0.26494491335263126, 0.27847514807177853]\n"
     ]
    },
    {
     "name": "stderr",
     "output_type": "stream",
     "text": [
      "\u001b[32m[I 2021-12-10 14:36:03,947]\u001b[0m Trial 8 finished with value: 0.37984180531362466 and parameters: {'n_estimators': 44, 'subsample': 0.9482237745826528, 'max_depth': 10, 'max_features': 14, 'learning_rate': 0.15612558423606065, 'min_samples_leaf': 27}. Best is trial 7 with value: 0.3865833832605876.\u001b[0m\n"
     ]
    },
    {
     "name": "stdout",
     "output_type": "stream",
     "text": [
      "MCC: [0.37034054594522997, 0.39447564402457314, 0.3715000350543422, 0.38305099623035316]\n",
      "ROC: [0.8975516800430354, 0.8902028252275778, 0.9000970151960251, 0.893549534594178]\n",
      "PR_AUC: [0.31577116031610614, 0.28080881093596116, 0.27495081810571287, 0.28916608628154455]\n"
     ]
    },
    {
     "name": "stderr",
     "output_type": "stream",
     "text": [
      "\u001b[32m[I 2021-12-10 14:36:05,563]\u001b[0m Trial 9 finished with value: 0.3801980202941383 and parameters: {'n_estimators': 89, 'subsample': 0.8002853761125517, 'max_depth': 4, 'max_features': 17, 'learning_rate': 0.14292147161182367, 'min_samples_leaf': 35}. Best is trial 7 with value: 0.3865833832605876.\u001b[0m\n"
     ]
    },
    {
     "name": "stdout",
     "output_type": "stream",
     "text": [
      "MCC: [0.3657881566846982, 0.38493535889365765, 0.3776262539005808, 0.3924423116976165]\n",
      "ROC: [0.8996077126295561, 0.8874193051173249, 0.898453650310086, 0.8906832184830644]\n",
      "PR_AUC: [0.32674617667453726, 0.27667255316173256, 0.27242688228868145, 0.28608155294802984]\n"
     ]
    },
    {
     "name": "stderr",
     "output_type": "stream",
     "text": [
      "\u001b[32m[I 2021-12-10 14:36:14,597]\u001b[0m Trial 10 finished with value: 0.38317468212351313 and parameters: {'n_estimators': 136, 'subsample': 0.9087175647948915, 'max_depth': 18, 'max_features': 10, 'learning_rate': 0.09172353354166263, 'min_samples_leaf': 4}. Best is trial 7 with value: 0.3865833832605876.\u001b[0m\n"
     ]
    },
    {
     "name": "stdout",
     "output_type": "stream",
     "text": [
      "MCC: [0.36928354462821367, 0.38734913257291786, 0.3853514432249526, 0.39071460806796854]\n",
      "ROC: [0.8924389515601457, 0.8962390744568962, 0.8933059514742684, 0.8945574198138376]\n",
      "PR_AUC: [0.27709725450531686, 0.2800275214780988, 0.27009628097027144, 0.28285268953134984]\n"
     ]
    },
    {
     "name": "stderr",
     "output_type": "stream",
     "text": [
      "\u001b[32m[I 2021-12-10 14:36:16,518]\u001b[0m Trial 11 finished with value: 0.38533147372657645 and parameters: {'n_estimators': 84, 'subsample': 0.8616479235360296, 'max_depth': 17, 'max_features': 20, 'learning_rate': 0.0820677705499854, 'min_samples_leaf': 48}. Best is trial 7 with value: 0.3865833832605876.\u001b[0m\n"
     ]
    },
    {
     "name": "stdout",
     "output_type": "stream",
     "text": [
      "MCC: [0.3828959521173896, 0.38882719512521186, 0.3858183415505269, 0.3837844061131774]\n",
      "ROC: [0.8984588873262229, 0.8942194356798319, 0.9019625176803395, 0.8939394630388879]\n",
      "PR_AUC: [0.31688439658176065, 0.2731131607908945, 0.2813267117169207, 0.31123719743065253]\n"
     ]
    },
    {
     "name": "stderr",
     "output_type": "stream",
     "text": [
      "\u001b[32m[I 2021-12-10 14:36:19,671]\u001b[0m Trial 12 finished with value: 0.38423132564511836 and parameters: {'n_estimators': 130, 'subsample': 0.9983488269913793, 'max_depth': 5, 'max_features': 18, 'learning_rate': 0.11112453890800206, 'min_samples_leaf': 13}. Best is trial 7 with value: 0.3865833832605876.\u001b[0m\n"
     ]
    },
    {
     "name": "stdout",
     "output_type": "stream",
     "text": [
      "MCC: [0.37535091980341395, 0.38569852581352043, 0.38153637077385316, 0.394339486189686]\n",
      "ROC: [0.8954842503800925, 0.8934963551300183, 0.8947407790229572, 0.898306205562979]\n",
      "PR_AUC: [0.3099934375360088, 0.30362367702383924, 0.2869214879066779, 0.31515404370791045]\n"
     ]
    },
    {
     "name": "stderr",
     "output_type": "stream",
     "text": [
      "\u001b[32m[I 2021-12-10 14:36:22,338]\u001b[0m Trial 13 finished with value: 0.3849897867065429 and parameters: {'n_estimators': 69, 'subsample': 0.8492197673991577, 'max_depth': 15, 'max_features': 19, 'learning_rate': 0.10608646327289792, 'min_samples_leaf': 12}. Best is trial 7 with value: 0.3865833832605876.\u001b[0m\n"
     ]
    },
    {
     "name": "stdout",
     "output_type": "stream",
     "text": [
      "MCC: [0.37571328221664374, 0.38418177001119685, 0.38542089889891484, 0.3946431956994161]\n",
      "ROC: [0.8972166059962298, 0.8871336996336996, 0.8947611794146448, 0.8983016449963743]\n",
      "PR_AUC: [0.31388298104464996, 0.2655668087577261, 0.27659051067456386, 0.296341895429119]\n"
     ]
    },
    {
     "name": "stderr",
     "output_type": "stream",
     "text": [
      "\u001b[32m[I 2021-12-10 14:36:25,859]\u001b[0m Trial 14 finished with value: 0.3795886949132491 and parameters: {'n_estimators': 133, 'subsample': 0.8967899887012859, 'max_depth': 8, 'max_features': 17, 'learning_rate': 0.12341180929200884, 'min_samples_leaf': 36}. Best is trial 7 with value: 0.3865833832605876.\u001b[0m\n"
     ]
    },
    {
     "name": "stdout",
     "output_type": "stream",
     "text": [
      "MCC: [0.36897211291989357, 0.3883653544056773, 0.3793087795237028, 0.3817085328037226]\n",
      "ROC: [0.8912787291803906, 0.8869750299205744, 0.8957403982156457, 0.8907356649990195]\n",
      "PR_AUC: [0.29794475381578256, 0.28877347564060385, 0.2659982193886359, 0.2929620017263046]\n"
     ]
    },
    {
     "name": "stderr",
     "output_type": "stream",
     "text": [
      "\u001b[32m[I 2021-12-10 14:36:28,213]\u001b[0m Trial 15 finished with value: 0.3766033397051845 and parameters: {'n_estimators': 109, 'subsample': 0.8401823443116015, 'max_depth': 6, 'max_features': 10, 'learning_rate': 0.1808280525874309, 'min_samples_leaf': 47}. Best is trial 7 with value: 0.3865833832605876.\u001b[0m\n"
     ]
    },
    {
     "name": "stdout",
     "output_type": "stream",
     "text": [
      "MCC: [0.3876655758072028, 0.36222366901949715, 0.38781678040204143, 0.36870733359199664]\n",
      "ROC: [0.8901185068006355, 0.8774163130598772, 0.8927030065643926, 0.8850281158931185]\n",
      "PR_AUC: [0.2810485241860044, 0.24245821038344598, 0.26619728487391714, 0.2767567656755675]\n"
     ]
    },
    {
     "name": "stderr",
     "output_type": "stream",
     "text": [
      "\u001b[32m[I 2021-12-10 14:36:33,458]\u001b[0m Trial 16 finished with value: 0.3811794967991 and parameters: {'n_estimators': 156, 'subsample': 0.8786217093617273, 'max_depth': 15, 'max_features': 12, 'learning_rate': 0.09359443598916382, 'min_samples_leaf': 18}. Best is trial 7 with value: 0.3865833832605876.\u001b[0m\n"
     ]
    },
    {
     "name": "stdout",
     "output_type": "stream",
     "text": [
      "MCC: [0.37019865229716764, 0.38569161931043866, 0.3791816554237538, 0.3896460601650399]\n",
      "ROC: [0.8898723299499214, 0.8846017843542595, 0.8950739854205201, 0.8911164723105198]\n",
      "PR_AUC: [0.27407046998277734, 0.25903235845664324, 0.26566236239537244, 0.2803052966826101]\n"
     ]
    },
    {
     "name": "stderr",
     "output_type": "stream",
     "text": [
      "\u001b[32m[I 2021-12-10 14:36:34,654]\u001b[0m Trial 17 finished with value: 0.38535581907626926 and parameters: {'n_estimators': 63, 'subsample': 0.924580558278454, 'max_depth': 3, 'max_features': 19, 'learning_rate': 0.13930173816515404, 'min_samples_leaf': 32}. Best is trial 7 with value: 0.3865833832605876.\u001b[0m\n"
     ]
    },
    {
     "name": "stdout",
     "output_type": "stream",
     "text": [
      "MCC: [0.37767019274406216, 0.389274379241052, 0.389524370917243, 0.3849543334027198]\n",
      "ROC: [0.9078979460188872, 0.8974041634932723, 0.9049863090704674, 0.8974875838574183]\n",
      "PR_AUC: [0.34353349216399875, 0.2981446985043001, 0.3061519018659528, 0.3106431662188092]\n"
     ]
    },
    {
     "name": "stderr",
     "output_type": "stream",
     "text": [
      "\u001b[32m[I 2021-12-10 14:36:35,160]\u001b[0m Trial 18 finished with value: 0.38386618405606415 and parameters: {'n_estimators': 10, 'subsample': 0.8293633716154828, 'max_depth': 11, 'max_features': 16, 'learning_rate': 0.11961751882400314, 'min_samples_leaf': 21}. Best is trial 7 with value: 0.3865833832605876.\u001b[0m\n"
     ]
    },
    {
     "name": "stdout",
     "output_type": "stream",
     "text": [
      "MCC: [0.376132393323029, 0.38117888290289137, 0.3857921830642953, 0.39236127693404105]\n",
      "ROC: [0.9046623160226939, 0.8898254179813586, 0.8996878740071809, 0.8960270624022328]\n",
      "PR_AUC: [0.31130155127289855, 0.2597070660258781, 0.2802851818335626, 0.2991893435946177]\n"
     ]
    },
    {
     "name": "stderr",
     "output_type": "stream",
     "text": [
      "\u001b[32m[I 2021-12-10 14:36:41,113]\u001b[0m Trial 19 finished with value: 0.37568679696362467 and parameters: {'n_estimators': 162, 'subsample': 0.8633168552618011, 'max_depth': 8, 'max_features': 19, 'learning_rate': 0.09781664319532736, 'min_samples_leaf': 1}. Best is trial 7 with value: 0.3865833832605876.\u001b[0m\n"
     ]
    },
    {
     "name": "stdout",
     "output_type": "stream",
     "text": [
      "MCC: [0.3626405727333516, 0.38542252308325503, 0.372419777148104, 0.3822643148897882]\n",
      "ROC: [0.8925734370619249, 0.8966720161027091, 0.8976217676712727, 0.8937433586748816]\n",
      "PR_AUC: [0.30262484326774897, 0.27862660017698015, 0.30098779593109115, 0.29466157100855794]\n"
     ]
    },
    {
     "name": "stderr",
     "output_type": "stream",
     "text": [
      "\u001b[32m[I 2021-12-10 14:36:43,779]\u001b[0m Trial 20 finished with value: 0.37253760626403576 and parameters: {'n_estimators': 115, 'subsample': 0.8822469757571317, 'max_depth': 15, 'max_features': 16, 'learning_rate': 0.15109563069647927, 'min_samples_leaf': 41}. Best is trial 7 with value: 0.3865833832605876.\u001b[0m\n"
     ]
    },
    {
     "name": "stdout",
     "output_type": "stream",
     "text": [
      "MCC: [0.36335997828759226, 0.3710911237261358, 0.382327123398736, 0.373372199643679]\n",
      "ROC: [0.8894118880624742, 0.881439723642694, 0.8917464548652667, 0.8858991841146344]\n",
      "PR_AUC: [0.2828985617055114, 0.2439714993842777, 0.26374660806169065, 0.2867164909647322]\n"
     ]
    },
    {
     "name": "stderr",
     "output_type": "stream",
     "text": [
      "\u001b[32m[I 2021-12-10 14:36:44,866]\u001b[0m Trial 21 finished with value: 0.3890382077666189 and parameters: {'n_estimators': 61, 'subsample': 0.9247900894485763, 'max_depth': 3, 'max_features': 19, 'learning_rate': 0.13522323478552553, 'min_samples_leaf': 35}. Best is trial 21 with value: 0.3890382077666189.\u001b[0m\n"
     ]
    },
    {
     "name": "stdout",
     "output_type": "stream",
     "text": [
      "MCC: [0.379486108072869, 0.3948904313118821, 0.38877270379209494, 0.39300358788962964]\n",
      "ROC: [0.9058487516782195, 0.8981521778551482, 0.9076156928879702, 0.8952164216882306]\n",
      "PR_AUC: [0.3343847877485201, 0.28739177949526373, 0.328728889246385, 0.30654864226365897]\n"
     ]
    },
    {
     "name": "stderr",
     "output_type": "stream",
     "text": [
      "\u001b[32m[I 2021-12-10 14:36:46,238]\u001b[0m Trial 22 finished with value: 0.3836158868466414 and parameters: {'n_estimators': 86, 'subsample': 0.928260701201433, 'max_depth': 3, 'max_features': 20, 'learning_rate': 0.13168219152594374, 'min_samples_leaf': 50}. Best is trial 21 with value: 0.3890382077666189.\u001b[0m\n"
     ]
    },
    {
     "name": "stdout",
     "output_type": "stream",
     "text": [
      "MCC: [0.37730886336295505, 0.3823093654222866, 0.381465634429466, 0.3933796841718578]\n",
      "ROC: [0.9008910234346685, 0.8973678961302725, 0.9005412903927756, 0.8942655435511309]\n",
      "PR_AUC: [0.3245296734698713, 0.2942314830337145, 0.29419100704059975, 0.30060887826731203]\n"
     ]
    },
    {
     "name": "stderr",
     "output_type": "stream",
     "text": [
      "\u001b[32m[I 2021-12-10 14:36:48,289]\u001b[0m Trial 23 finished with value: 0.3834886998035195 and parameters: {'n_estimators': 69, 'subsample': 0.977104756139798, 'max_depth': 20, 'max_features': 18, 'learning_rate': 0.11496449307660377, 'min_samples_leaf': 32}. Best is trial 21 with value: 0.3890382077666189.\u001b[0m\n"
     ]
    },
    {
     "name": "stdout",
     "output_type": "stream",
     "text": [
      "MCC: [0.3645929049890338, 0.3856813117574368, 0.3952217485144742, 0.38845883395313313]\n",
      "ROC: [0.8941485130234392, 0.8863290175171363, 0.8992265984840243, 0.8920947138472485]\n",
      "PR_AUC: [0.3176102940578714, 0.2698962460027142, 0.274441838160545, 0.3064146598172]\n"
     ]
    },
    {
     "name": "stderr",
     "output_type": "stream",
     "text": [
      "\u001b[32m[I 2021-12-10 14:36:49,455]\u001b[0m Trial 24 finished with value: 0.3852080294502233 and parameters: {'n_estimators': 46, 'subsample': 0.9243927389568112, 'max_depth': 6, 'max_features': 19, 'learning_rate': 0.14670437395550778, 'min_samples_leaf': 43}. Best is trial 21 with value: 0.3890382077666189.\u001b[0m\n"
     ]
    },
    {
     "name": "stdout",
     "output_type": "stream",
     "text": [
      "MCC: [0.37863465687650566, 0.3857287862856787, 0.3865311671369369, 0.3899375075017719]\n",
      "ROC: [0.9021401430105149, 0.890848837631016, 0.9021891886990897, 0.8908268763311153]\n",
      "PR_AUC: [0.3031070265324341, 0.2820028581279868, 0.2819837892098025, 0.2793317795314956]\n",
      "CPU times: user 1min 12s, sys: 279 ms, total: 1min 12s\n",
      "Wall time: 1min 12s\n"
     ]
    }
   ],
   "source": [
    "%%time\n",
    "def create_model(trial):\n",
    "    n_estimators = trial.suggest_int('n_estimators', 10, 200)\n",
    "    subsample = trial.suggest_float('subsample', 0.8, 1.0)\n",
    "    max_depth = trial.suggest_int('max_depth',3,20)\n",
    "    max_features = trial.suggest_int('max_features',10,20)\n",
    "    learning_rate = trial.suggest_uniform('learning_rate',0.08,0.2)\n",
    "    min_samples_leaf = trial.suggest_int('min_samples_leaf',1,50)\n",
    "    model = GradientBoostingClassifier(n_estimators=n_estimators, subsample=subsample, \n",
    "                           max_depth=max_depth, learning_rate=learning_rate, \n",
    "                           min_samples_leaf=min_samples_leaf)\n",
    "#    model = GradientBoostingClassifier(n_estimators=n_estimators, subsample=subsample, \n",
    "#                           learning_rate=learning_rate, \n",
    "#                           min_samples_leaf=min_samples_leaf)\n",
    "#    model = GradientBoostingClassifier(n_estimators=n_estimators, learning_rate=learning_rate) \n",
    "    return model\n",
    "\n",
    "def objective(trial):\n",
    "    model = create_model(trial)\n",
    "    \n",
    "    mcc_list = []\n",
    "    roc_list = []\n",
    "    pr_list = []\n",
    "    f2_list = []\n",
    "    cv = StratifiedKFold(n_splits=4, shuffle=True, random_state=11)\n",
    "    for idx, (train_idx, test_idx) in enumerate(cv.split(X, y)):\n",
    "        X_train_c, X_test_c = X.iloc[train_idx], X.iloc[test_idx]\n",
    "        y_train_c, y_test_c = y[train_idx], y[test_idx]\n",
    "        sampler = RandomUnderSampler(sampling_strategy=1.0, random_state=7)\n",
    "        X_res, y_res = sampler.fit_resample(X_train_c, y_train_c)\n",
    "\n",
    "#        weights = class_weight.compute_sample_weight('balanced', y=y_train)\n",
    "#        model.fit(X_train, y_train, sample_weight=weights)\n",
    "        model.fit(X_res, y_res)\n",
    "        y_pred = model.predict(X_test_c)\n",
    "        probs = model.predict_proba(X_test_c)\n",
    "        prob1 = probs[:, 1]  # Only positives\n",
    "        precision, recall, pr_thresh = precision_recall_curve(y_test_c, prob1)\n",
    "        roc = roc_auc_score(y_test_c, prob1)\n",
    "        roc_list.append(roc)\n",
    "        mcc = matthews_corrcoef(y_test_c, y_pred)  # MWB\n",
    "        mcc_list.append(mcc)\n",
    "        f2 = fbeta_score(y_test_c, y_pred, beta=2.0, average=None)[1]\n",
    "        pr_auc = auc(recall, precision)\n",
    "        pr_list.append(pr_auc)\n",
    "        avg_precision = average_precision_score(y_test_c, prob1)\n",
    "#        print(f'ROC: {roc}')\n",
    "#        print(f'PR_AUC: {pr_auc}')\n",
    "#        print(f'avg_prec: {avg_precision}')\n",
    "        \n",
    "    print(f'MCC: {mcc_list}')\n",
    "    print(f'ROC: {roc_list}')\n",
    "    print(f'PR_AUC: {pr_list}')\n",
    "    return np.mean(mcc_list)\n",
    "\n",
    "sampler = TPESampler(seed=7)\n",
    "study = optuna.create_study(sampler=sampler,direction='maximize')\n",
    "#study.optimize(objective,n_trials=60)\n",
    "study.optimize(objective,n_trials=25)\n",
    "#study.optimize(objective,n_trials=5)"
   ]
  },
  {
   "cell_type": "code",
   "execution_count": 14,
   "metadata": {},
   "outputs": [
    {
     "data": {
      "text/plain": [
       "FrozenTrial(number=21, values=[0.3890382077666189], datetime_start=datetime.datetime(2021, 12, 10, 14, 36, 43, 781671), datetime_complete=datetime.datetime(2021, 12, 10, 14, 36, 44, 866571), params={'n_estimators': 61, 'subsample': 0.9247900894485763, 'max_depth': 3, 'max_features': 19, 'learning_rate': 0.13522323478552553, 'min_samples_leaf': 35}, distributions={'n_estimators': IntUniformDistribution(high=200, low=10, step=1), 'subsample': UniformDistribution(high=1.0, low=0.8), 'max_depth': IntUniformDistribution(high=20, low=3, step=1), 'max_features': IntUniformDistribution(high=20, low=10, step=1), 'learning_rate': UniformDistribution(high=0.2, low=0.08), 'min_samples_leaf': IntUniformDistribution(high=50, low=1, step=1)}, user_attrs={}, system_attrs={}, intermediate_values={}, trial_id=21, state=TrialState.COMPLETE, value=None)"
      ]
     },
     "execution_count": 14,
     "metadata": {},
     "output_type": "execute_result"
    }
   ],
   "source": [
    "best = study.best_trial\n",
    "best"
   ]
  },
  {
   "cell_type": "code",
   "execution_count": 15,
   "metadata": {},
   "outputs": [
    {
     "name": "stdout",
     "output_type": "stream",
     "text": [
      "[[2451  701]\n",
      " [  18  183]]\n",
      "              precision    recall  f1-score   support\n",
      "\n",
      "           0       0.99      0.78      0.87      3152\n",
      "           1       0.21      0.91      0.34       201\n",
      "\n",
      "    accuracy                           0.79      3353\n",
      "   macro avg       0.60      0.84      0.60      3353\n",
      "weighted avg       0.95      0.79      0.84      3353\n",
      "\n",
      "ROC AUC prob1: 0.8941586483824533\n",
      "MCC: 0.3707012094152902\n",
      "F2: 0.5420616113744074\n",
      "PR_AUC: 0.3468718489818416\n",
      "CPU times: user 108 ms, sys: 0 ns, total: 108 ms\n",
      "Wall time: 106 ms\n"
     ]
    }
   ],
   "source": [
    "%%time\n",
    "gb_params = study.best_params\n",
    "#gb_params['random_state'] = 42\n",
    "gb = GradientBoostingClassifier(**gb_params)\n",
    "gb.fit(X_rus, y_rus)\n",
    "y_pred = gb.predict(X_test)\n",
    "probs = gb.predict_proba(X_test)\n",
    "prob1 = probs[:, 1]  # Only positives\n",
    "precision, recall, pr_thresh = precision_recall_curve(y_test, prob1)\n",
    "print(confusion_matrix(y_pred=y_pred, y_true=y_test))\n",
    "print(classification_report(y_test, y_pred))\n",
    "print(f'ROC AUC prob1: {roc_auc_score(y_test, prob1)}')\n",
    "print(f'MCC: {matthews_corrcoef(y_test, y_pred)}')\n",
    "print(f'F2: {fbeta_score(y_test, y_pred, beta=2.0, average=None)[1]}')\n",
    "print(f'PR_AUC: {auc(recall, precision)}')"
   ]
  },
  {
   "cell_type": "code",
   "execution_count": 16,
   "metadata": {},
   "outputs": [
    {
     "name": "stdout",
     "output_type": "stream",
     "text": [
      "[[2454  698]\n",
      " [  19  182]]\n",
      "              precision    recall  f1-score   support\n",
      "\n",
      "           0       0.99      0.78      0.87      3152\n",
      "           1       0.21      0.91      0.34       201\n",
      "\n",
      "    accuracy                           0.79      3353\n",
      "   macro avg       0.60      0.84      0.60      3353\n",
      "weighted avg       0.95      0.79      0.84      3353\n",
      "\n",
      "ROC AUC prob1: 0.8939061039977775\n",
      "MCC: 0.3690713284913456\n",
      "F2: 0.5403800475059383\n",
      "PR_AUC: 0.33108666410017273\n",
      "CPU times: user 318 ms, sys: 2.01 ms, total: 320 ms\n",
      "Wall time: 318 ms\n"
     ]
    }
   ],
   "source": [
    "%%time\n",
    "gb_params = study.best_params\n",
    "gb_params['random_state'] = 42\n",
    "gb_weight = GradientBoostingClassifier(**gb_params)\n",
    "weights = class_weight.compute_sample_weight('balanced', y=y_train)\n",
    "gb_weight.fit(X_train, y_train, sample_weight=weights)\n",
    "y_pred = gb_weight.predict(X_test)\n",
    "probs = gb_weight.predict_proba(X_test)\n",
    "prob1 = probs[:, 1]  # Only positives\n",
    "precision, recall, pr_thresh = precision_recall_curve(y_test, prob1)\n",
    "print(confusion_matrix(y_pred=y_pred, y_true=y_test))\n",
    "print(classification_report(y_test, y_pred))\n",
    "print(f'ROC AUC prob1: {roc_auc_score(y_test, prob1)}')\n",
    "print(f'MCC: {matthews_corrcoef(y_test, y_pred)}')\n",
    "print(f'F2: {fbeta_score(y_test, y_pred, beta=2.0, average=None)[1]}')\n",
    "print(f'PR_AUC: {auc(recall, precision)}')"
   ]
  },
  {
   "cell_type": "code",
   "execution_count": 17,
   "metadata": {},
   "outputs": [
    {
     "data": {
      "text/plain": [
       "Delmode            0.217712\n",
       "Delfetalpos        0.120239\n",
       "Lac_Min            0.106153\n",
       "Hxanemia           0.076912\n",
       "Episiotomy         0.073830\n",
       "Hxcsection         0.050294\n",
       "Antefetdistress    0.040191\n",
       "CS_NRFHT           0.035949\n",
       "CS_FTP             0.033980\n",
       "ROMmeth            0.026279\n",
       "uscar              0.023722\n",
       "CS_UScar           0.021648\n",
       "new_age            0.018952\n",
       "transfus_yes       0.015455\n",
       "Admefface          0.013004\n",
       "new_BMI            0.012977\n",
       "CS_Breech          0.009977\n",
       "TrialLabor         0.009367\n",
       "prelaborCD         0.008360\n",
       "Admcervpos         0.008231\n",
       "dtype: float64"
      ]
     },
     "execution_count": 17,
     "metadata": {},
     "output_type": "execute_result"
    }
   ],
   "source": [
    "# No Sitenum - 5\n",
    "coeffs_wgt = pd.Series(data=gb_weight.feature_importances_,\n",
    "                   index=X_test.columns.values).sort_values(ascending=False)\n",
    "coeffs_wgt[0:20]"
   ]
  },
  {
   "cell_type": "code",
   "execution_count": 1,
   "metadata": {},
   "outputs": [
    {
     "ename": "NameError",
     "evalue": "name 'plt' is not defined",
     "output_type": "error",
     "traceback": [
      "\u001b[0;31m---------------------------------------------------------------------------\u001b[0m",
      "\u001b[0;31mNameError\u001b[0m                                 Traceback (most recent call last)",
      "\u001b[0;32m<ipython-input-1-163c23260408>\u001b[0m in \u001b[0;36m<module>\u001b[0;34m\u001b[0m\n\u001b[0;32m----> 1\u001b[0;31m \u001b[0mplt\u001b[0m\u001b[0;34m.\u001b[0m\u001b[0mrcParams\u001b[0m\u001b[0;34m[\u001b[0m\u001b[0;34m\"figure.figsize\"\u001b[0m\u001b[0;34m]\u001b[0m \u001b[0;34m=\u001b[0m \u001b[0;34m(\u001b[0m\u001b[0;36m14\u001b[0m\u001b[0;34m,\u001b[0m \u001b[0;36m8\u001b[0m\u001b[0;34m)\u001b[0m\u001b[0;34m\u001b[0m\u001b[0;34m\u001b[0m\u001b[0m\n\u001b[0m\u001b[1;32m      2\u001b[0m \u001b[0mx_labels\u001b[0m \u001b[0;34m=\u001b[0m \u001b[0mcoeffs_wgt\u001b[0m\u001b[0;34m.\u001b[0m\u001b[0mindex\u001b[0m\u001b[0;34m.\u001b[0m\u001b[0mvalues\u001b[0m\u001b[0;34m[\u001b[0m\u001b[0;36m0\u001b[0m\u001b[0;34m:\u001b[0m\u001b[0;36m25\u001b[0m\u001b[0;34m]\u001b[0m\u001b[0;34m\u001b[0m\u001b[0;34m\u001b[0m\u001b[0m\n\u001b[1;32m      3\u001b[0m \u001b[0mprint\u001b[0m\u001b[0;34m(\u001b[0m\u001b[0mx_labels\u001b[0m\u001b[0;34m)\u001b[0m\u001b[0;34m\u001b[0m\u001b[0;34m\u001b[0m\u001b[0m\n\u001b[1;32m      4\u001b[0m \u001b[0mfig\u001b[0m\u001b[0;34m,\u001b[0m \u001b[0max\u001b[0m \u001b[0;34m=\u001b[0m \u001b[0mplt\u001b[0m\u001b[0;34m.\u001b[0m\u001b[0msubplots\u001b[0m\u001b[0;34m(\u001b[0m\u001b[0;36m1\u001b[0m\u001b[0;34m,\u001b[0m\u001b[0;36m1\u001b[0m\u001b[0;34m)\u001b[0m  \u001b[0;31m# Create a figure and an axes.\u001b[0m\u001b[0;34m\u001b[0m\u001b[0;34m\u001b[0m\u001b[0m\n\u001b[1;32m      5\u001b[0m \u001b[0max\u001b[0m\u001b[0;34m.\u001b[0m\u001b[0mset_title\u001b[0m\u001b[0;34m(\u001b[0m\u001b[0;34m'Top Predictors: All Sites combined; target: High_EBLoss, vars: PI'\u001b[0m\u001b[0;34m)\u001b[0m\u001b[0;34m\u001b[0m\u001b[0;34m\u001b[0m\u001b[0m\n",
      "\u001b[0;31mNameError\u001b[0m: name 'plt' is not defined"
     ]
    }
   ],
   "source": [
    "plt.rcParams[\"figure.figsize\"] = (14, 8)\n",
    "x_labels = coeffs_wgt.index.values[0:25]\n",
    "print(x_labels)\n",
    "fig, ax = plt.subplots(1,1)  # Create a figure and an axes.\n",
    "ax.set_title('Top Predictors: All Sites combined; target: High_EBLoss, vars: PI')\n",
    "ax.bar(x_labels, coeffs_wgt.values[0:25])\n",
    "ax.set_ylabel('Coeff')\n",
    "ax.set_xlabel('Variable')\n",
    "plt.draw()\n",
    "ax.set_xticklabels(ax.get_xticklabels(), rotation=90, fontsize=16)\n",
    "#plt.xlim(1,20)\n",
    "plt.show()"
   ]
  },
  {
   "cell_type": "code",
   "execution_count": 19,
   "metadata": {},
   "outputs": [
    {
     "data": {
      "text/plain": [
       "Delmode            0.425730\n",
       "Hxanemia           0.110664\n",
       "Delfetalpos        0.051138\n",
       "Lac_Min            0.036525\n",
       "Lac_None           0.036066\n",
       "CS_NRFHT           0.033599\n",
       "Admpresent         0.029036\n",
       "CS_UScar           0.027319\n",
       "Admefface          0.023339\n",
       "prelaborCD         0.020943\n",
       "CS_FTP             0.018013\n",
       "TrialLabor         0.017209\n",
       "new_BMI            0.014104\n",
       "AdmDBP             0.013791\n",
       "Dilat_lst          0.013083\n",
       "Episiotomy         0.012295\n",
       "BESTGA             0.011769\n",
       "Antefetdistress    0.010323\n",
       "transfus_yes       0.009052\n",
       "Hxcsection         0.007714\n",
       "dtype: float64"
      ]
     },
     "execution_count": 19,
     "metadata": {},
     "output_type": "execute_result"
    }
   ],
   "source": [
    "# No Sitenum - 5\n",
    "coeffs = pd.Series(data=gb.feature_importances_,\n",
    "                   index=X_test.columns.values).sort_values(ascending=False)\n",
    "coeffs[0:20]"
   ]
  },
  {
   "cell_type": "code",
   "execution_count": 21,
   "metadata": {},
   "outputs": [
    {
     "data": {
      "text/plain": [
       "{'n_estimators': 61,\n",
       " 'subsample': 0.9247900894485763,\n",
       " 'max_depth': 3,\n",
       " 'max_features': 19,\n",
       " 'learning_rate': 0.13522323478552553,\n",
       " 'min_samples_leaf': 35,\n",
       " 'random_state': 42}"
      ]
     },
     "execution_count": 21,
     "metadata": {},
     "output_type": "execute_result"
    }
   ],
   "source": [
    "gb_params # 5 runs"
   ]
  },
  {
   "cell_type": "code",
   "execution_count": 2,
   "metadata": {},
   "outputs": [
    {
     "ename": "NameError",
     "evalue": "name 'study' is not defined",
     "output_type": "error",
     "traceback": [
      "\u001b[0;31m---------------------------------------------------------------------------\u001b[0m",
      "\u001b[0;31mNameError\u001b[0m                                 Traceback (most recent call last)",
      "\u001b[0;32m<ipython-input-2-bf9f527b858c>\u001b[0m in \u001b[0;36m<module>\u001b[0;34m\u001b[0m\n\u001b[1;32m      3\u001b[0m \u001b[0mplotly_config\u001b[0m \u001b[0;34m=\u001b[0m \u001b[0;34m{\u001b[0m\u001b[0;34m\"staticPlot\"\u001b[0m\u001b[0;34m:\u001b[0m \u001b[0;32mTrue\u001b[0m\u001b[0;34m}\u001b[0m\u001b[0;34m\u001b[0m\u001b[0;34m\u001b[0m\u001b[0m\n\u001b[1;32m      4\u001b[0m \u001b[0;34m\u001b[0m\u001b[0m\n\u001b[0;32m----> 5\u001b[0;31m \u001b[0mfig\u001b[0m \u001b[0;34m=\u001b[0m \u001b[0mplot_optimization_history\u001b[0m\u001b[0;34m(\u001b[0m\u001b[0mstudy\u001b[0m\u001b[0;34m)\u001b[0m\u001b[0;34m\u001b[0m\u001b[0;34m\u001b[0m\u001b[0m\n\u001b[0m\u001b[1;32m      6\u001b[0m \u001b[0mfig\u001b[0m\u001b[0;34m.\u001b[0m\u001b[0mshow\u001b[0m\u001b[0;34m(\u001b[0m\u001b[0mconfig\u001b[0m\u001b[0;34m=\u001b[0m\u001b[0mplotly_config\u001b[0m\u001b[0;34m)\u001b[0m\u001b[0;34m\u001b[0m\u001b[0;34m\u001b[0m\u001b[0m\n",
      "\u001b[0;31mNameError\u001b[0m: name 'study' is not defined"
     ]
    }
   ],
   "source": [
    "from optuna.visualization import plot_optimization_history\n",
    "\n",
    "plotly_config = {\"staticPlot\": True}\n",
    "\n",
    "fig = plot_optimization_history(study)\n",
    "fig.show(config=plotly_config)"
   ]
  },
  {
   "cell_type": "code",
   "execution_count": null,
   "metadata": {},
   "outputs": [],
   "source": [
    "from optuna.visualization import plot_param_importances\n",
    "\n",
    "fig = plot_param_importances(study)\n",
    "fig.show(config=plotly_config)"
   ]
  },
  {
   "cell_type": "code",
   "execution_count": 24,
   "metadata": {},
   "outputs": [
    {
     "data": {
      "text/plain": [
       "0.3155208505596307"
      ]
     },
     "execution_count": 24,
     "metadata": {},
     "output_type": "execute_result"
    }
   ],
   "source": [
    "np.mean([0.3149689279176914, 0.31449457458602254, 0.31066798538596907, 0.3219519143488398])"
   ]
  },
  {
   "cell_type": "markdown",
   "metadata": {},
   "source": [
    "<h1 align='center'>Thanks and make sure to learn!</h1>"
   ]
  }
 ],
 "metadata": {
  "kernelspec": {
   "display_name": "Python 3",
   "language": "python",
   "name": "python3"
  },
  "language_info": {
   "codemirror_mode": {
    "name": "ipython",
    "version": 3
   },
   "file_extension": ".py",
   "mimetype": "text/x-python",
   "name": "python",
   "nbconvert_exporter": "python",
   "pygments_lexer": "ipython3",
   "version": "3.7.9"
  }
 },
 "nbformat": 4,
 "nbformat_minor": 4
}
