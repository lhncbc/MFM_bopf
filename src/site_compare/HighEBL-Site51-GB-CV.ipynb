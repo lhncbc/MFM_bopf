{
 "cells": [
  {
   "cell_type": "code",
   "execution_count": 1,
   "metadata": {
    "_cell_guid": "b1076dfc-b9ad-4769-8c92-a6c4dae69d19",
    "_uuid": "8f2839f25d086af736a60e9eeb907d3b93b6e0e5"
   },
   "outputs": [],
   "source": [
    "import numpy as np \n",
    "import pandas as pd \n",
    "\n",
    "import matplotlib.pyplot as plt\n",
    "#import plotly.express as px\n",
    "import seaborn as sns\n",
    "\n",
    "from lightgbm import LGBMClassifier\n",
    "from sklearn.ensemble import GradientBoostingClassifier\n",
    "\n",
    "from sklearn.model_selection import StratifiedKFold\n",
    "from collections import Counter\n",
    "from imblearn.under_sampling import RandomUnderSampler\n",
    "from sklearn.metrics import classification_report, roc_auc_score, confusion_matrix, \\\n",
    "                            accuracy_score, f1_score, average_precision_score, \\\n",
    "                            fbeta_score, precision_recall_curve, auc\n",
    "from sklearn.metrics import matthews_corrcoef\n",
    "\n",
    "from sklearn.model_selection import train_test_split\n",
    "\n",
    "import optuna\n",
    "from optuna.samplers import TPESampler\n",
    "sns.set(style='white', context='notebook', palette='deep')\n",
    "%config Completer.use_jedi = False"
   ]
  },
  {
   "cell_type": "code",
   "execution_count": 2,
   "metadata": {},
   "outputs": [
    {
     "data": {
      "text/html": [
       "<div>\n",
       "<style scoped>\n",
       "    .dataframe tbody tr th:only-of-type {\n",
       "        vertical-align: middle;\n",
       "    }\n",
       "\n",
       "    .dataframe tbody tr th {\n",
       "        vertical-align: top;\n",
       "    }\n",
       "\n",
       "    .dataframe thead th {\n",
       "        text-align: right;\n",
       "    }\n",
       "</style>\n",
       "<table border=\"1\" class=\"dataframe\">\n",
       "  <thead>\n",
       "    <tr style=\"text-align: right;\">\n",
       "      <th></th>\n",
       "      <th>transfus_yes</th>\n",
       "      <th>Accrete</th>\n",
       "      <th>AdmBishop</th>\n",
       "      <th>Admcervpos</th>\n",
       "      <th>Admconsistency</th>\n",
       "      <th>Admcontract</th>\n",
       "      <th>AdmDBP</th>\n",
       "      <th>Admefface</th>\n",
       "      <th>Admpresent</th>\n",
       "      <th>AdmSBP</th>\n",
       "      <th>...</th>\n",
       "      <th>TD_nos</th>\n",
       "      <th>ThreatenedPB</th>\n",
       "      <th>threatpb9</th>\n",
       "      <th>UnspecHBP</th>\n",
       "      <th>uscar</th>\n",
       "      <th>version9</th>\n",
       "      <th>new_age</th>\n",
       "      <th>new_BMI</th>\n",
       "      <th>new_high_Age</th>\n",
       "      <th>new_high_BMI</th>\n",
       "    </tr>\n",
       "    <tr>\n",
       "      <th>MomID</th>\n",
       "      <th></th>\n",
       "      <th></th>\n",
       "      <th></th>\n",
       "      <th></th>\n",
       "      <th></th>\n",
       "      <th></th>\n",
       "      <th></th>\n",
       "      <th></th>\n",
       "      <th></th>\n",
       "      <th></th>\n",
       "      <th></th>\n",
       "      <th></th>\n",
       "      <th></th>\n",
       "      <th></th>\n",
       "      <th></th>\n",
       "      <th></th>\n",
       "      <th></th>\n",
       "      <th></th>\n",
       "      <th></th>\n",
       "      <th></th>\n",
       "      <th></th>\n",
       "    </tr>\n",
       "  </thead>\n",
       "  <tbody>\n",
       "    <tr>\n",
       "      <th>51-05748</th>\n",
       "      <td>0</td>\n",
       "      <td>0</td>\n",
       "      <td>8</td>\n",
       "      <td>8</td>\n",
       "      <td>8</td>\n",
       "      <td>99.0</td>\n",
       "      <td>84</td>\n",
       "      <td>0.0</td>\n",
       "      <td>77</td>\n",
       "      <td>120.0</td>\n",
       "      <td>...</td>\n",
       "      <td>0</td>\n",
       "      <td>0</td>\n",
       "      <td>0</td>\n",
       "      <td>0</td>\n",
       "      <td>1</td>\n",
       "      <td>0</td>\n",
       "      <td>40</td>\n",
       "      <td>24</td>\n",
       "      <td>2</td>\n",
       "      <td>1</td>\n",
       "    </tr>\n",
       "    <tr>\n",
       "      <th>51-15063</th>\n",
       "      <td>0</td>\n",
       "      <td>0</td>\n",
       "      <td>8</td>\n",
       "      <td>8</td>\n",
       "      <td>8</td>\n",
       "      <td>99.0</td>\n",
       "      <td>74</td>\n",
       "      <td>70.0</td>\n",
       "      <td>1</td>\n",
       "      <td>124.4</td>\n",
       "      <td>...</td>\n",
       "      <td>0</td>\n",
       "      <td>0</td>\n",
       "      <td>0</td>\n",
       "      <td>0</td>\n",
       "      <td>0</td>\n",
       "      <td>0</td>\n",
       "      <td>25</td>\n",
       "      <td>28</td>\n",
       "      <td>1</td>\n",
       "      <td>1</td>\n",
       "    </tr>\n",
       "    <tr>\n",
       "      <th>51-14676</th>\n",
       "      <td>0</td>\n",
       "      <td>0</td>\n",
       "      <td>8</td>\n",
       "      <td>8</td>\n",
       "      <td>8</td>\n",
       "      <td>99.0</td>\n",
       "      <td>74</td>\n",
       "      <td>70.0</td>\n",
       "      <td>1</td>\n",
       "      <td>124.4</td>\n",
       "      <td>...</td>\n",
       "      <td>0</td>\n",
       "      <td>0</td>\n",
       "      <td>0</td>\n",
       "      <td>0</td>\n",
       "      <td>0</td>\n",
       "      <td>0</td>\n",
       "      <td>33</td>\n",
       "      <td>23</td>\n",
       "      <td>1</td>\n",
       "      <td>1</td>\n",
       "    </tr>\n",
       "    <tr>\n",
       "      <th>51-03203</th>\n",
       "      <td>0</td>\n",
       "      <td>0</td>\n",
       "      <td>8</td>\n",
       "      <td>8</td>\n",
       "      <td>8</td>\n",
       "      <td>99.0</td>\n",
       "      <td>74</td>\n",
       "      <td>0.0</td>\n",
       "      <td>77</td>\n",
       "      <td>124.4</td>\n",
       "      <td>...</td>\n",
       "      <td>0</td>\n",
       "      <td>0</td>\n",
       "      <td>0</td>\n",
       "      <td>0</td>\n",
       "      <td>0</td>\n",
       "      <td>0</td>\n",
       "      <td>34</td>\n",
       "      <td>18</td>\n",
       "      <td>1</td>\n",
       "      <td>0</td>\n",
       "    </tr>\n",
       "    <tr>\n",
       "      <th>51-08914</th>\n",
       "      <td>0</td>\n",
       "      <td>0</td>\n",
       "      <td>8</td>\n",
       "      <td>8</td>\n",
       "      <td>8</td>\n",
       "      <td>2.5</td>\n",
       "      <td>80</td>\n",
       "      <td>60.0</td>\n",
       "      <td>1</td>\n",
       "      <td>130.0</td>\n",
       "      <td>...</td>\n",
       "      <td>0</td>\n",
       "      <td>0</td>\n",
       "      <td>0</td>\n",
       "      <td>0</td>\n",
       "      <td>1</td>\n",
       "      <td>0</td>\n",
       "      <td>40</td>\n",
       "      <td>27</td>\n",
       "      <td>2</td>\n",
       "      <td>1</td>\n",
       "    </tr>\n",
       "    <tr>\n",
       "      <th>...</th>\n",
       "      <td>...</td>\n",
       "      <td>...</td>\n",
       "      <td>...</td>\n",
       "      <td>...</td>\n",
       "      <td>...</td>\n",
       "      <td>...</td>\n",
       "      <td>...</td>\n",
       "      <td>...</td>\n",
       "      <td>...</td>\n",
       "      <td>...</td>\n",
       "      <td>...</td>\n",
       "      <td>...</td>\n",
       "      <td>...</td>\n",
       "      <td>...</td>\n",
       "      <td>...</td>\n",
       "      <td>...</td>\n",
       "      <td>...</td>\n",
       "      <td>...</td>\n",
       "      <td>...</td>\n",
       "      <td>...</td>\n",
       "      <td>...</td>\n",
       "    </tr>\n",
       "    <tr>\n",
       "      <th>51-03948</th>\n",
       "      <td>0</td>\n",
       "      <td>0</td>\n",
       "      <td>8</td>\n",
       "      <td>8</td>\n",
       "      <td>8</td>\n",
       "      <td>99.0</td>\n",
       "      <td>74</td>\n",
       "      <td>100.0</td>\n",
       "      <td>77</td>\n",
       "      <td>124.4</td>\n",
       "      <td>...</td>\n",
       "      <td>0</td>\n",
       "      <td>0</td>\n",
       "      <td>0</td>\n",
       "      <td>0</td>\n",
       "      <td>0</td>\n",
       "      <td>0</td>\n",
       "      <td>43</td>\n",
       "      <td>21</td>\n",
       "      <td>2</td>\n",
       "      <td>1</td>\n",
       "    </tr>\n",
       "    <tr>\n",
       "      <th>51-00031</th>\n",
       "      <td>0</td>\n",
       "      <td>0</td>\n",
       "      <td>8</td>\n",
       "      <td>8</td>\n",
       "      <td>8</td>\n",
       "      <td>99.0</td>\n",
       "      <td>74</td>\n",
       "      <td>100.0</td>\n",
       "      <td>1</td>\n",
       "      <td>124.4</td>\n",
       "      <td>...</td>\n",
       "      <td>0</td>\n",
       "      <td>0</td>\n",
       "      <td>0</td>\n",
       "      <td>0</td>\n",
       "      <td>0</td>\n",
       "      <td>0</td>\n",
       "      <td>23</td>\n",
       "      <td>17</td>\n",
       "      <td>1</td>\n",
       "      <td>0</td>\n",
       "    </tr>\n",
       "    <tr>\n",
       "      <th>51-07760</th>\n",
       "      <td>0</td>\n",
       "      <td>0</td>\n",
       "      <td>8</td>\n",
       "      <td>8</td>\n",
       "      <td>8</td>\n",
       "      <td>99.0</td>\n",
       "      <td>74</td>\n",
       "      <td>80.0</td>\n",
       "      <td>1</td>\n",
       "      <td>124.4</td>\n",
       "      <td>...</td>\n",
       "      <td>0</td>\n",
       "      <td>0</td>\n",
       "      <td>0</td>\n",
       "      <td>0</td>\n",
       "      <td>0</td>\n",
       "      <td>0</td>\n",
       "      <td>32</td>\n",
       "      <td>21</td>\n",
       "      <td>1</td>\n",
       "      <td>1</td>\n",
       "    </tr>\n",
       "    <tr>\n",
       "      <th>51-10263</th>\n",
       "      <td>0</td>\n",
       "      <td>0</td>\n",
       "      <td>8</td>\n",
       "      <td>8</td>\n",
       "      <td>8</td>\n",
       "      <td>2.0</td>\n",
       "      <td>74</td>\n",
       "      <td>90.0</td>\n",
       "      <td>77</td>\n",
       "      <td>124.4</td>\n",
       "      <td>...</td>\n",
       "      <td>0</td>\n",
       "      <td>0</td>\n",
       "      <td>0</td>\n",
       "      <td>0</td>\n",
       "      <td>0</td>\n",
       "      <td>0</td>\n",
       "      <td>24</td>\n",
       "      <td>24</td>\n",
       "      <td>1</td>\n",
       "      <td>1</td>\n",
       "    </tr>\n",
       "    <tr>\n",
       "      <th>51-07997</th>\n",
       "      <td>0</td>\n",
       "      <td>0</td>\n",
       "      <td>8</td>\n",
       "      <td>8</td>\n",
       "      <td>8</td>\n",
       "      <td>99.0</td>\n",
       "      <td>74</td>\n",
       "      <td>90.0</td>\n",
       "      <td>77</td>\n",
       "      <td>124.4</td>\n",
       "      <td>...</td>\n",
       "      <td>0</td>\n",
       "      <td>0</td>\n",
       "      <td>0</td>\n",
       "      <td>0</td>\n",
       "      <td>0</td>\n",
       "      <td>0</td>\n",
       "      <td>26</td>\n",
       "      <td>18</td>\n",
       "      <td>1</td>\n",
       "      <td>0</td>\n",
       "    </tr>\n",
       "  </tbody>\n",
       "</table>\n",
       "<p>10471 rows × 195 columns</p>\n",
       "</div>"
      ],
      "text/plain": [
       "          transfus_yes  Accrete  AdmBishop  Admcervpos  Admconsistency  \\\n",
       "MomID                                                                    \n",
       "51-05748             0        0          8           8               8   \n",
       "51-15063             0        0          8           8               8   \n",
       "51-14676             0        0          8           8               8   \n",
       "51-03203             0        0          8           8               8   \n",
       "51-08914             0        0          8           8               8   \n",
       "...                ...      ...        ...         ...             ...   \n",
       "51-03948             0        0          8           8               8   \n",
       "51-00031             0        0          8           8               8   \n",
       "51-07760             0        0          8           8               8   \n",
       "51-10263             0        0          8           8               8   \n",
       "51-07997             0        0          8           8               8   \n",
       "\n",
       "          Admcontract  AdmDBP  Admefface  Admpresent  AdmSBP  ...  TD_nos  \\\n",
       "MomID                                                         ...           \n",
       "51-05748         99.0      84        0.0          77   120.0  ...       0   \n",
       "51-15063         99.0      74       70.0           1   124.4  ...       0   \n",
       "51-14676         99.0      74       70.0           1   124.4  ...       0   \n",
       "51-03203         99.0      74        0.0          77   124.4  ...       0   \n",
       "51-08914          2.5      80       60.0           1   130.0  ...       0   \n",
       "...               ...     ...        ...         ...     ...  ...     ...   \n",
       "51-03948         99.0      74      100.0          77   124.4  ...       0   \n",
       "51-00031         99.0      74      100.0           1   124.4  ...       0   \n",
       "51-07760         99.0      74       80.0           1   124.4  ...       0   \n",
       "51-10263          2.0      74       90.0          77   124.4  ...       0   \n",
       "51-07997         99.0      74       90.0          77   124.4  ...       0   \n",
       "\n",
       "          ThreatenedPB  threatpb9  UnspecHBP  uscar  version9  new_age  \\\n",
       "MomID                                                                    \n",
       "51-05748             0          0          0      1         0       40   \n",
       "51-15063             0          0          0      0         0       25   \n",
       "51-14676             0          0          0      0         0       33   \n",
       "51-03203             0          0          0      0         0       34   \n",
       "51-08914             0          0          0      1         0       40   \n",
       "...                ...        ...        ...    ...       ...      ...   \n",
       "51-03948             0          0          0      0         0       43   \n",
       "51-00031             0          0          0      0         0       23   \n",
       "51-07760             0          0          0      0         0       32   \n",
       "51-10263             0          0          0      0         0       24   \n",
       "51-07997             0          0          0      0         0       26   \n",
       "\n",
       "          new_BMI  new_high_Age  new_high_BMI  \n",
       "MomID                                          \n",
       "51-05748       24             2             1  \n",
       "51-15063       28             1             1  \n",
       "51-14676       23             1             1  \n",
       "51-03203       18             1             0  \n",
       "51-08914       27             2             1  \n",
       "...           ...           ...           ...  \n",
       "51-03948       21             2             1  \n",
       "51-00031       17             1             0  \n",
       "51-07760       21             1             1  \n",
       "51-10263       24             1             1  \n",
       "51-07997       18             1             0  \n",
       "\n",
       "[10471 rows x 195 columns]"
      ]
     },
     "execution_count": 2,
     "metadata": {},
     "output_type": "execute_result"
    }
   ],
   "source": [
    "csl_df = pd.read_csv('../../data/csl/Sites/CSL_he_PI_s51.csv', index_col=0)\n",
    "X = csl_df.drop(['high_EBL','Sitenum'], axis=1, inplace=False)\n",
    "y = csl_df['high_EBL'].values\n",
    "\n",
    "X_train, X_test, y_train, y_test = train_test_split(X, y, test_size=0.3, stratify=y, random_state=7)\n",
    "X_train                                                    "
   ]
  },
  {
   "cell_type": "code",
   "execution_count": 3,
   "metadata": {},
   "outputs": [
    {
     "data": {
      "text/plain": [
       "(14959, 195)"
      ]
     },
     "execution_count": 3,
     "metadata": {},
     "output_type": "execute_result"
    }
   ],
   "source": [
    "X.shape"
   ]
  },
  {
   "cell_type": "markdown",
   "metadata": {},
   "source": [
    "<h1 align='center'>Exploratory Data Analysis</h1>"
   ]
  },
  {
   "cell_type": "markdown",
   "metadata": {},
   "source": [
    "<h1 align='center'>Modelling</h1>"
   ]
  },
  {
   "cell_type": "code",
   "execution_count": 8,
   "metadata": {},
   "outputs": [
    {
     "name": "stdout",
     "output_type": "stream",
     "text": [
      "(10471, 195)\n",
      "(14959, 195)\n",
      "(14959,)\n"
     ]
    }
   ],
   "source": [
    "print(X_train.shape)\n",
    "print(X.shape)\n",
    "print(y.shape)"
   ]
  },
  {
   "cell_type": "markdown",
   "metadata": {},
   "source": [
    "Here we define our validation set"
   ]
  },
  {
   "cell_type": "markdown",
   "metadata": {},
   "source": [
    "<h1 align='center'>Modelling Using Undersampling</h1>"
   ]
  },
  {
   "cell_type": "markdown",
   "metadata": {},
   "source": [
    "We will use `imblearn`'s RandomUnderSampler to undersample from the majority class so that they match"
   ]
  },
  {
   "cell_type": "code",
   "execution_count": 9,
   "metadata": {},
   "outputs": [],
   "source": [
    "sampler = RandomUnderSampler(sampling_strategy=1.0, random_state=7)\n",
    "X_rus, y_rus = sampler.fit_resample(X_train, y_train)\n",
    "\n",
    "# Try with no undersampling\n",
    "#X_rus, y_rus = X_train, y_train"
   ]
  },
  {
   "cell_type": "code",
   "execution_count": 10,
   "metadata": {},
   "outputs": [
    {
     "name": "stdout",
     "output_type": "stream",
     "text": [
      "(200, 195)\n",
      "(200,)\n",
      "[100 100]\n"
     ]
    }
   ],
   "source": [
    "print(X_rus.shape)\n",
    "print(y_rus.shape)\n",
    "print(np.bincount(y_rus))"
   ]
  },
  {
   "cell_type": "markdown",
   "metadata": {},
   "source": [
    "<h1 align='center'>Basic Gradient Boosting</h1>"
   ]
  },
  {
   "cell_type": "code",
   "execution_count": 11,
   "metadata": {},
   "outputs": [
    {
     "name": "stdout",
     "output_type": "stream",
     "text": [
      "{'ccp_alpha': 0.0, 'criterion': 'friedman_mse', 'init': None, 'learning_rate': 0.1, 'loss': 'deviance', 'max_depth': 3, 'max_features': None, 'max_leaf_nodes': None, 'min_impurity_decrease': 0.0, 'min_impurity_split': None, 'min_samples_leaf': 1, 'min_samples_split': 2, 'min_weight_fraction_leaf': 0.0, 'n_estimators': 100, 'n_iter_no_change': None, 'presort': 'deprecated', 'random_state': None, 'subsample': 1.0, 'tol': 0.0001, 'validation_fraction': 0.1, 'verbose': 0, 'warm_start': False}\n",
      "[[3012 1433]\n",
      " [  11   32]]\n",
      "              precision    recall  f1-score   support\n",
      "\n",
      "           0       1.00      0.68      0.81      4445\n",
      "           1       0.02      0.74      0.04        43\n",
      "\n",
      "    accuracy                           0.68      4488\n",
      "   macro avg       0.51      0.71      0.42      4488\n",
      "weighted avg       0.99      0.68      0.80      4488\n",
      "\n",
      "ROC AUC prob1: 0.7528631595469172\n",
      "MCC: 0.08762745214593817\n",
      "F2: 0.09773976786805132\n",
      "PR_AUC: 0.03476844401727625\n",
      "CPU times: user 170 ms, sys: 6.98 ms, total: 177 ms\n",
      "Wall time: 173 ms\n"
     ]
    }
   ],
   "source": [
    "%%time\n",
    "from sklearn.metrics import matthews_corrcoef\n",
    "from sklearn.utils import class_weight\n",
    "gb_rus = GradientBoostingClassifier()   # If not undersampling\n",
    "gb_rus.fit(X_rus, y_rus)\n",
    "print(gb_rus.get_params())\n",
    "y_pred = gb_rus.predict(X_test)\n",
    "probs = gb_rus.predict_proba(X_test)\n",
    "prob1 = probs[:, 1]  # Only positives\n",
    "precision, recall, pr_thresh = precision_recall_curve(y_test, prob1)\n",
    "print(confusion_matrix(y_pred=y_pred, y_true=y_test))\n",
    "print(classification_report(y_test, y_pred))\n",
    "print(f'ROC AUC prob1: {roc_auc_score(y_test, prob1)}')\n",
    "print(f'MCC: {matthews_corrcoef(y_test, y_pred)}')\n",
    "print(f'F2: {fbeta_score(y_test, y_pred, beta=2.0, average=None)[1]}')\n",
    "print(f'PR_AUC: {auc(recall, precision)}')"
   ]
  },
  {
   "cell_type": "code",
   "execution_count": 34,
   "metadata": {},
   "outputs": [
    {
     "name": "stdout",
     "output_type": "stream",
     "text": [
      "      Iter       Train Loss   Remaining Time \n",
      "         1           1.3170           12.95s\n",
      "         2           1.2613           11.67s\n",
      "         3           1.2163           11.22s\n",
      "         4           1.1764           10.97s\n",
      "         5           1.1439           10.72s\n",
      "         6           1.1145           10.57s\n",
      "         7           1.0868           10.50s\n",
      "         8           1.0655           10.43s\n",
      "         9           1.0451           10.43s\n",
      "        10           1.0255           10.39s\n",
      "        20           0.9123           10.11s\n",
      "        30           0.8403           10.01s\n",
      "        40           0.7902            9.73s\n",
      "        50           0.7511            9.50s\n",
      "        60           0.7133            9.21s\n",
      "        70           0.6761            8.97s\n",
      "        80           0.6462            8.72s\n",
      "        90           0.6191            8.42s\n",
      "       100           0.5940            8.18s\n",
      "       200           0.4049            5.43s\n",
      "       300           0.2923            2.69s\n",
      "       400           0.2204            0.00s\n",
      "{'ccp_alpha': 0.0, 'criterion': 'friedman_mse', 'init': None, 'learning_rate': 0.1, 'loss': 'deviance', 'max_depth': 3, 'max_features': None, 'max_leaf_nodes': None, 'min_impurity_decrease': 0.0, 'min_impurity_split': None, 'min_samples_leaf': 1, 'min_samples_split': 2, 'min_weight_fraction_leaf': 0.0, 'n_estimators': 400, 'n_iter_no_change': None, 'presort': 'deprecated', 'random_state': 7, 'subsample': 1.0, 'tol': 0.0001, 'validation_fraction': 0.1, 'verbose': 1, 'warm_start': False}\n",
      "[[4238  207]\n",
      " [  34    9]]\n",
      "              precision    recall  f1-score   support\n",
      "\n",
      "           0       0.99      0.95      0.97      4445\n",
      "           1       0.04      0.21      0.07        43\n",
      "\n",
      "    accuracy                           0.95      4488\n",
      "   macro avg       0.52      0.58      0.52      4488\n",
      "weighted avg       0.98      0.95      0.96      4488\n",
      "\n",
      "ROC AUC prob1: 0.6775054281005572\n",
      "MCC: 0.07406339830432368\n",
      "F2: 0.11597938144329897\n",
      "PR_AUC: 0.0297124940429027\n",
      "CPU times: user 10.8 s, sys: 6.49 ms, total: 10.8 s\n",
      "Wall time: 10.8 s\n"
     ]
    }
   ],
   "source": [
    "%%time\n",
    "# Not undersampled\n",
    "from sklearn.metrics import matthews_corrcoef\n",
    "from sklearn.utils import class_weight\n",
    "gb_weight = GradientBoostingClassifier(random_state=7, verbose=1, n_estimators=400, learning_rate=.1)  \n",
    "weights = class_weight.compute_sample_weight('balanced', y=y_train)\n",
    "gb_weight.fit(X_train, y_train, sample_weight=weights)\n",
    "print(gb_weight.get_params())\n",
    "y_pred = gb_weight.predict(X_test)\n",
    "probs = gb_weight.predict_proba(X_test)\n",
    "prob1 = probs[:, 1]  # Only positives\n",
    "precision, recall, pr_thresh = precision_recall_curve(y_test, prob1)\n",
    "print(confusion_matrix(y_pred=y_pred, y_true=y_test))\n",
    "print(classification_report(y_test, y_pred))\n",
    "print(f'ROC AUC prob1: {roc_auc_score(y_test, prob1)}')\n",
    "print(f'MCC: {matthews_corrcoef(y_test, y_pred)}')\n",
    "print(f'F2: {fbeta_score(y_test, y_pred, beta=2.0, average=None)[1]}')\n",
    "print(f'PR_AUC: {auc(recall, precision)}')"
   ]
  },
  {
   "cell_type": "markdown",
   "metadata": {},
   "source": [
    "<h1 align='center'>Hyperparameter Tuning with Cross Validation</h1>"
   ]
  },
  {
   "cell_type": "code",
   "execution_count": 13,
   "metadata": {
    "scrolled": false
   },
   "outputs": [
    {
     "name": "stderr",
     "output_type": "stream",
     "text": [
      "\u001b[32m[I 2021-12-10 16:06:29,566]\u001b[0m A new study created in memory with name: no-name-cd99b30b-1a1e-4915-9e3a-3d52715ac898\u001b[0m\n",
      "\u001b[32m[I 2021-12-10 16:06:30,023]\u001b[0m Trial 0 finished with value: 0.09877687612773779 and parameters: {'n_estimators': 24, 'subsample': 0.955983758448023, 'max_depth': 10, 'max_features': 17, 'learning_rate': 0.1973587414395923, 'min_samples_leaf': 27}. Best is trial 0 with value: 0.09877687612773779.\u001b[0m\n"
     ]
    },
    {
     "name": "stdout",
     "output_type": "stream",
     "text": [
      "MCC: [0.09345554365545881, 0.1207972495510677, 0.08013528913425619, 0.10071942217016845]\n",
      "ROC: [0.7621265298776098, 0.7688909887209023, 0.6829103671706264, 0.7392008639308856]\n",
      "PR_AUC: [0.023715263948287393, 0.02532114163205567, 0.02033336421774882, 0.031037953921590505]\n"
     ]
    },
    {
     "name": "stderr",
     "output_type": "stream",
     "text": [
      "\u001b[32m[I 2021-12-10 16:06:30,749]\u001b[0m Trial 1 finished with value: 0.09603059469416647 and parameters: {'n_estimators': 105, 'subsample': 0.8144102266719524, 'max_depth': 7, 'max_features': 15, 'learning_rate': 0.16150759953451288, 'min_samples_leaf': 41}. Best is trial 0 with value: 0.09877687612773779.\u001b[0m\n"
     ]
    },
    {
     "name": "stdout",
     "output_type": "stream",
     "text": [
      "MCC: [0.10006831162634375, 0.11304472779599739, 0.06912057299161206, 0.1018887663627127]\n",
      "ROC: [0.7436255099592032, 0.7751417386609071, 0.6605246580273578, 0.7558238198087011]\n",
      "PR_AUC: [0.024544059094195114, 0.026369186640705183, 0.021021157958250835, 0.025903559418023074]\n"
     ]
    },
    {
     "name": "stderr",
     "output_type": "stream",
     "text": [
      "\u001b[32m[I 2021-12-10 16:06:31,419]\u001b[0m Trial 2 finished with value: 0.08878718647504173 and parameters: {'n_estimators': 82, 'subsample': 0.813187269381181, 'max_depth': 8, 'max_features': 20, 'learning_rate': 0.10560624242958987, 'min_samples_leaf': 23}. Best is trial 0 with value: 0.09877687612773779.\u001b[0m\n"
     ]
    },
    {
     "name": "stdout",
     "output_type": "stream",
     "text": [
      "MCC: [0.0800884600952329, 0.10799135893257612, 0.07490788562314811, 0.09216104124920982]\n",
      "ROC: [0.7358711303095752, 0.7681035517158628, 0.6688114950803935, 0.7500231410058624]\n",
      "PR_AUC: [0.021317314226503157, 0.023324107727558295, 0.01929473364908045, 0.025292143043985485]\n"
     ]
    },
    {
     "name": "stderr",
     "output_type": "stream",
     "text": [
      "\u001b[32m[I 2021-12-10 16:06:32,541]\u001b[0m Trial 3 finished with value: 0.07874330161224209 and parameters: {'n_estimators': 187, 'subsample': 0.8049798455100696, 'max_depth': 13, 'max_features': 20, 'learning_rate': 0.10763634548251577, 'min_samples_leaf': 28}. Best is trial 0 with value: 0.09877687612773779.\u001b[0m\n"
     ]
    },
    {
     "name": "stdout",
     "output_type": "stream",
     "text": [
      "MCC: [0.07823760196024632, 0.09495403666345324, 0.06377604169083569, 0.07800552613443314]\n",
      "ROC: [0.7233696304295657, 0.7464002879769618, 0.6488930885529157, 0.7397562480715828]\n",
      "PR_AUC: [0.01918017798199114, 0.021631973573335232, 0.023162383824927923, 0.023894895846822257]\n"
     ]
    },
    {
     "name": "stderr",
     "output_type": "stream",
     "text": [
      "\u001b[32m[I 2021-12-10 16:06:33,734]\u001b[0m Trial 4 finished with value: 0.061957919225733876 and parameters: {'n_estimators': 183, 'subsample': 0.8266338891518501, 'max_depth': 12, 'max_features': 18, 'learning_rate': 0.16028158890606967, 'min_samples_leaf': 24}. Best is trial 0 with value: 0.09877687612773779.\u001b[0m\n"
     ]
    },
    {
     "name": "stdout",
     "output_type": "stream",
     "text": [
      "MCC: [0.052793616428204626, 0.07871210393649618, 0.06190907986852824, 0.054416876669706446]\n",
      "ROC: [0.6957718382529398, 0.7204898608111351, 0.646553275737941, 0.7122724467756865]\n",
      "PR_AUC: [0.01710736672272439, 0.01952632208156295, 0.02082195469765876, 0.024764862267923814]\n"
     ]
    },
    {
     "name": "stderr",
     "output_type": "stream",
     "text": [
      "\u001b[32m[I 2021-12-10 16:06:34,234]\u001b[0m Trial 5 finished with value: 0.10711949820396768 and parameters: {'n_estimators': 49, 'subsample': 0.8981531778182141, 'max_depth': 9, 'max_features': 15, 'learning_rate': 0.12390684629367116, 'min_samples_leaf': 42}. Best is trial 5 with value: 0.10711949820396768.\u001b[0m\n"
     ]
    },
    {
     "name": "stdout",
     "output_type": "stream",
     "text": [
      "MCC: [0.10825171311060451, 0.12464938496231993, 0.09144361413542253, 0.10413328060752375]\n",
      "ROC: [0.7562694984401248, 0.7803575713942884, 0.7009501739860811, 0.7488815180499846]\n",
      "PR_AUC: [0.02722507447417112, 0.02647205060511469, 0.025376946840630382, 0.057736528800613064]\n"
     ]
    },
    {
     "name": "stderr",
     "output_type": "stream",
     "text": [
      "\u001b[32m[I 2021-12-10 16:06:35,403]\u001b[0m Trial 6 finished with value: 0.07345826378610718 and parameters: {'n_estimators': 156, 'subsample': 0.8627989354425325, 'max_depth': 13, 'max_features': 13, 'learning_rate': 0.13434115190556806, 'min_samples_leaf': 18}. Best is trial 5 with value: 0.10711949820396768.\u001b[0m\n"
     ]
    },
    {
     "name": "stdout",
     "output_type": "stream",
     "text": [
      "MCC: [0.08740815542713692, 0.08522671517552687, 0.06066253894682077, 0.06053564559494409]\n",
      "ROC: [0.7287991960643149, 0.7143778497720182, 0.6594522438204944, 0.7264116013576056]\n",
      "PR_AUC: [0.01945438150776192, 0.01848980883175195, 0.02138362278765688, 0.02225660890284511]\n"
     ]
    },
    {
     "name": "stderr",
     "output_type": "stream",
     "text": [
      "\u001b[32m[I 2021-12-10 16:06:36,195]\u001b[0m Trial 7 finished with value: 0.1020499541484101 and parameters: {'n_estimators': 135, 'subsample': 0.8740702165976071, 'max_depth': 11, 'max_features': 17, 'learning_rate': 0.12955901949366017, 'min_samples_leaf': 46}. Best is trial 5 with value: 0.10711949820396768.\u001b[0m\n"
     ]
    },
    {
     "name": "stdout",
     "output_type": "stream",
     "text": [
      "MCC: [0.10682417339875595, 0.11946917961800371, 0.0740068337653269, 0.10789962981155382]\n",
      "ROC: [0.7384059275257979, 0.7784714722822174, 0.660134689224862, 0.7586933045356371]\n",
      "PR_AUC: [0.023299259805989306, 0.026775963649040013, 0.020625826776789723, 0.03018258477236989]\n"
     ]
    },
    {
     "name": "stderr",
     "output_type": "stream",
     "text": [
      "\u001b[32m[I 2021-12-10 16:06:36,719]\u001b[0m Trial 8 finished with value: 0.09628798100171593 and parameters: {'n_estimators': 44, 'subsample': 0.9482237745826528, 'max_depth': 10, 'max_features': 14, 'learning_rate': 0.15612558423606065, 'min_samples_leaf': 27}. Best is trial 5 with value: 0.10711949820396768.\u001b[0m\n"
     ]
    },
    {
     "name": "stdout",
     "output_type": "stream",
     "text": [
      "MCC: [0.09334864751848389, 0.12508858095786646, 0.06599527336034496, 0.10071942217016845]\n",
      "ROC: [0.757949364050876, 0.7635514158867289, 0.6589947804175665, 0.7547670472076519]\n",
      "PR_AUC: [0.0251086908513205, 0.024472816196685215, 0.021580766856910346, 0.02698332763467279]\n"
     ]
    },
    {
     "name": "stderr",
     "output_type": "stream",
     "text": [
      "\u001b[32m[I 2021-12-10 16:06:37,375]\u001b[0m Trial 9 finished with value: 0.09625387572940011 and parameters: {'n_estimators': 89, 'subsample': 0.8002853761125517, 'max_depth': 4, 'max_features': 17, 'learning_rate': 0.14292147161182367, 'min_samples_leaf': 35}. Best is trial 5 with value: 0.10711949820396768.\u001b[0m\n"
     ]
    },
    {
     "name": "stdout",
     "output_type": "stream",
     "text": [
      "MCC: [0.09814592642666467, 0.11393533285029439, 0.07295779934118837, 0.09997644429945303]\n",
      "ROC: [0.7437230021598273, 0.7634539236861051, 0.6725011999040076, 0.7575208269052762]\n",
      "PR_AUC: [0.02347234181561583, 0.022902169616947944, 0.020455513569683805, 0.025657947382519357]\n"
     ]
    },
    {
     "name": "stderr",
     "output_type": "stream",
     "text": [
      "\u001b[32m[I 2021-12-10 16:06:38,412]\u001b[0m Trial 10 finished with value: 0.08826609375790545 and parameters: {'n_estimators': 55, 'subsample': 0.924763336987846, 'max_depth': 18, 'max_features': 10, 'learning_rate': 0.09172353354166263, 'min_samples_leaf': 4}. Best is trial 5 with value: 0.10711949820396768.\u001b[0m\n"
     ]
    },
    {
     "name": "stdout",
     "output_type": "stream",
     "text": [
      "MCC: [0.08196482698192745, 0.11296422663939026, 0.07810938765253791, 0.08002593375776615]\n",
      "ROC: [0.7362161027117831, 0.8180345572354212, 0.7046661267098632, 0.7389385991977785]\n",
      "PR_AUC: [0.02744401810023067, 0.047021186463637024, 0.03101204991471714, 0.027708907958135662]\n"
     ]
    },
    {
     "name": "stderr",
     "output_type": "stream",
     "text": [
      "\u001b[32m[I 2021-12-10 16:06:39,186]\u001b[0m Trial 11 finished with value: 0.10499081934068019 and parameters: {'n_estimators': 140, 'subsample': 0.8806671160017245, 'max_depth': 17, 'max_features': 13, 'learning_rate': 0.12218635350714935, 'min_samples_leaf': 49}. Best is trial 5 with value: 0.10711949820396768.\u001b[0m\n"
     ]
    },
    {
     "name": "stdout",
     "output_type": "stream",
     "text": [
      "MCC: [0.10918864026163656, 0.12121661371972173, 0.08097024573936248, 0.10858777764200003]\n",
      "ROC: [0.7328338732901367, 0.7829598632109431, 0.6668916486681064, 0.7565643319962975]\n",
      "PR_AUC: [0.021482534182377683, 0.028320579317428915, 0.02215338486542846, 0.03424977352391308]\n"
     ]
    },
    {
     "name": "stderr",
     "output_type": "stream",
     "text": [
      "\u001b[32m[I 2021-12-10 16:06:39,999]\u001b[0m Trial 12 finished with value: 0.09745275427294982 and parameters: {'n_estimators': 139, 'subsample': 0.9983488269913793, 'max_depth': 20, 'max_features': 12, 'learning_rate': 0.11731011779041688, 'min_samples_leaf': 48}. Best is trial 5 with value: 0.10711949820396768.\u001b[0m\n"
     ]
    },
    {
     "name": "stdout",
     "output_type": "stream",
     "text": [
      "MCC: [0.089315190594211, 0.11768010422837598, 0.07922674206046074, 0.10358898020875155]\n",
      "ROC: [0.7327288816894649, 0.7765853731701464, 0.6793856491480681, 0.7514308855291576]\n",
      "PR_AUC: [0.022276625178666753, 0.02575143187676276, 0.021284588850505437, 0.027780939051430076]\n"
     ]
    },
    {
     "name": "stderr",
     "output_type": "stream",
     "text": [
      "\u001b[32m[I 2021-12-10 16:06:40,565]\u001b[0m Trial 13 finished with value: 0.10524295265311535 and parameters: {'n_estimators': 65, 'subsample': 0.8871894694183349, 'max_depth': 16, 'max_features': 11, 'learning_rate': 0.08283159061684342, 'min_samples_leaf': 38}. Best is trial 5 with value: 0.10711949820396768.\u001b[0m\n"
     ]
    },
    {
     "name": "stdout",
     "output_type": "stream",
     "text": [
      "MCC: [0.10876145307831238, 0.12274394047633493, 0.08525129062195315, 0.10421512643586094]\n",
      "ROC: [0.756138258939285, 0.7673086153107751, 0.6918571514278856, 0.7563676334464672]\n",
      "PR_AUC: [0.024105862370953784, 0.022933320991678923, 0.021385748913678185, 0.06697165915335768]\n"
     ]
    },
    {
     "name": "stderr",
     "output_type": "stream",
     "text": [
      "\u001b[32m[I 2021-12-10 16:06:40,936]\u001b[0m Trial 14 finished with value: 0.10660603320394925 and parameters: {'n_estimators': 11, 'subsample': 0.900795069380725, 'max_depth': 17, 'max_features': 10, 'learning_rate': 0.08368180211045036, 'min_samples_leaf': 39}. Best is trial 5 with value: 0.10711949820396768.\u001b[0m\n"
     ]
    },
    {
     "name": "stdout",
     "output_type": "stream",
     "text": [
      "MCC: [0.11009822804007668, 0.12013059276906828, 0.09412383251568268, 0.10207147949096933]\n",
      "ROC: [0.7964962802975762, 0.7960200683945283, 0.7076021418286537, 0.7910829990743599]\n",
      "PR_AUC: [0.07733149678289637, 0.040724524099221476, 0.06397391272996579, 0.09003879271350271]\n"
     ]
    },
    {
     "name": "stderr",
     "output_type": "stream",
     "text": [
      "\u001b[32m[I 2021-12-10 16:06:41,402]\u001b[0m Trial 15 finished with value: 0.10640420928803475 and parameters: {'n_estimators': 27, 'subsample': 0.9188326849130758, 'max_depth': 15, 'max_features': 10, 'learning_rate': 0.09646367993844544, 'min_samples_leaf': 33}. Best is trial 5 with value: 0.10711949820396768.\u001b[0m\n"
     ]
    },
    {
     "name": "stdout",
     "output_type": "stream",
     "text": [
      "MCC: [0.10944601302736129, 0.12274394047633493, 0.09075312730730595, 0.10267375634113686]\n",
      "ROC: [0.7798551115910727, 0.765467512598992, 0.7176700863930885, 0.7648488120950323]\n",
      "PR_AUC: [0.028004134276603632, 0.022747388623089823, 0.024285266311471817, 0.033989189744643364]\n"
     ]
    },
    {
     "name": "stderr",
     "output_type": "stream",
     "text": [
      "\u001b[32m[I 2021-12-10 16:06:41,806]\u001b[0m Trial 16 finished with value: 0.10694997643707634 and parameters: {'n_estimators': 16, 'subsample': 0.9072222961136597, 'max_depth': 4, 'max_features': 15, 'learning_rate': 0.18432802855034425, 'min_samples_leaf': 42}. Best is trial 5 with value: 0.10711949820396768.\u001b[0m\n"
     ]
    },
    {
     "name": "stdout",
     "output_type": "stream",
     "text": [
      "MCC: [0.11293549968109234, 0.12071362755961727, 0.08829174531709406, 0.10585903319050166]\n",
      "ROC: [0.7794201463882889, 0.7750704943604512, 0.702967512598992, 0.7667579450786794]\n",
      "PR_AUC: [0.029962773057236637, 0.024576287729439705, 0.024136862500317442, 0.07464888836896615]\n"
     ]
    },
    {
     "name": "stderr",
     "output_type": "stream",
     "text": [
      "\u001b[32m[I 2021-12-10 16:06:42,414]\u001b[0m Trial 17 finished with value: 0.0905398850615406 and parameters: {'n_estimators': 37, 'subsample': 0.844657081309488, 'max_depth': 3, 'max_features': 15, 'learning_rate': 0.19766585955873117, 'min_samples_leaf': 13}. Best is trial 5 with value: 0.10711949820396768.\u001b[0m\n"
     ]
    },
    {
     "name": "stdout",
     "output_type": "stream",
     "text": [
      "MCC: [0.1038807939496881, 0.10178720732967979, 0.0699692978653452, 0.0865222411014493]\n",
      "ROC: [0.7595017398608112, 0.7710958123350131, 0.6902147828173746, 0.7330414995371799]\n",
      "PR_AUC: [0.02791732243047985, 0.032982819234597026, 0.06295330579167623, 0.023088566541293584]\n"
     ]
    },
    {
     "name": "stderr",
     "output_type": "stream",
     "text": [
      "\u001b[32m[I 2021-12-10 16:06:42,746]\u001b[0m Trial 18 finished with value: 0.1058672680452148 and parameters: {'n_estimators': 10, 'subsample': 0.9144676074902556, 'max_depth': 5, 'max_features': 16, 'learning_rate': 0.18082454795888583, 'min_samples_leaf': 44}. Best is trial 5 with value: 0.10711949820396768.\u001b[0m\n"
     ]
    },
    {
     "name": "stdout",
     "output_type": "stream",
     "text": [
      "MCC: [0.11009822804007668, 0.12013059276906828, 0.09116877188074493, 0.10207147949096933]\n",
      "ROC: [0.7839235361171107, 0.8067817074634028, 0.707013438924886, 0.7614123727244677]\n",
      "PR_AUC: [0.056681978631156385, 0.026723242757989308, 0.03689870849418428, 0.05817028400765567]\n"
     ]
    },
    {
     "name": "stderr",
     "output_type": "stream",
     "text": [
      "\u001b[32m[I 2021-12-10 16:06:43,370]\u001b[0m Trial 19 finished with value: 0.08637926222209447 and parameters: {'n_estimators': 65, 'subsample': 0.9435750491575882, 'max_depth': 7, 'max_features': 14, 'learning_rate': 0.17895011146457307, 'min_samples_leaf': 32}. Best is trial 5 with value: 0.10711949820396768.\u001b[0m\n"
     ]
    },
    {
     "name": "stdout",
     "output_type": "stream",
     "text": [
      "MCC: [0.08628110803953518, 0.11097611449559185, 0.06669633997799818, 0.08156348637525268]\n",
      "ROC: [0.7451478881689465, 0.7601916846652268, 0.6867425605951524, 0.7529774760876273]\n",
      "PR_AUC: [0.021625111333674597, 0.023211070878170443, 0.024371475918852845, 0.026363106988403766]\n"
     ]
    },
    {
     "name": "stderr",
     "output_type": "stream",
     "text": [
      "\u001b[32m[I 2021-12-10 16:06:44,026]\u001b[0m Trial 20 finished with value: 0.09868669679162713 and parameters: {'n_estimators': 85, 'subsample': 0.9754969163535497, 'max_depth': 5, 'max_features': 19, 'learning_rate': 0.14721355785167314, 'min_samples_leaf': 43}. Best is trial 5 with value: 0.10711949820396768.\u001b[0m\n"
     ]
    },
    {
     "name": "stdout",
     "output_type": "stream",
     "text": [
      "MCC: [0.08605212193630399, 0.12163808511052075, 0.08558736459122934, 0.10146921552845445]\n",
      "ROC: [0.7472552195824335, 0.7659812215022798, 0.683844042476602, 0.7600624807158285]\n",
      "PR_AUC: [0.02270137863782078, 0.023161476256730512, 0.02649335362103268, 0.028879225859612292]\n"
     ]
    },
    {
     "name": "stderr",
     "output_type": "stream",
     "text": [
      "\u001b[32m[I 2021-12-10 16:06:44,390]\u001b[0m Trial 21 finished with value: 0.10607970660832099 and parameters: {'n_estimators': 10, 'subsample': 0.9018984752484351, 'max_depth': 8, 'max_features': 12, 'learning_rate': 0.1706011746715841, 'min_samples_leaf': 38}. Best is trial 5 with value: 0.10711949820396768.\u001b[0m\n"
     ]
    },
    {
     "name": "stdout",
     "output_type": "stream",
     "text": [
      "MCC: [0.11009822804007668, 0.12013059276906828, 0.09201852613316962, 0.10207147949096933]\n",
      "ROC: [0.7876169906407487, 0.7846659767218622, 0.7191699664026877, 0.7578756556618328]\n",
      "PR_AUC: [0.031985687247391294, 0.03873207899645022, 0.02375204291459101, 0.02735459970506501]\n"
     ]
    },
    {
     "name": "stderr",
     "output_type": "stream",
     "text": [
      "\u001b[32m[I 2021-12-10 16:06:44,791]\u001b[0m Trial 22 finished with value: 0.10672253270772755 and parameters: {'n_estimators': 25, 'subsample': 0.8985517696641264, 'max_depth': 20, 'max_features': 15, 'learning_rate': 0.11212377763763448, 'min_samples_leaf': 39}. Best is trial 5 with value: 0.10711949820396768.\u001b[0m\n"
     ]
    },
    {
     "name": "stdout",
     "output_type": "stream",
     "text": [
      "MCC: [0.10690747351253803, 0.12088095491280633, 0.09387281593065631, 0.10522888647490955]\n",
      "ROC: [0.7784902207823374, 0.76532502399808, 0.7169613930885529, 0.7655931811169392]\n",
      "PR_AUC: [0.03105470592022238, 0.02242797904477649, 0.02555994587172878, 0.0652852567622307]\n"
     ]
    },
    {
     "name": "stderr",
     "output_type": "stream",
     "text": [
      "\u001b[32m[I 2021-12-10 16:06:45,255]\u001b[0m Trial 23 finished with value: 0.10615605175328258 and parameters: {'n_estimators': 46, 'subsample': 0.8608267291762682, 'max_depth': 20, 'max_features': 15, 'learning_rate': 0.11482662289828563, 'min_samples_leaf': 49}. Best is trial 5 with value: 0.10711949820396768.\u001b[0m\n"
     ]
    },
    {
     "name": "stdout",
     "output_type": "stream",
     "text": [
      "MCC: [0.10842127921860473, 0.12146924220577644, 0.08792042836192847, 0.10681325722682064]\n",
      "ROC: [0.7560632649388048, 0.7742118130549556, 0.7039874310055195, 0.7555808392471459]\n",
      "PR_AUC: [0.03430521099807913, 0.025816201847752282, 0.02200666887287144, 0.056267795219155904]\n"
     ]
    },
    {
     "name": "stderr",
     "output_type": "stream",
     "text": [
      "\u001b[32m[I 2021-12-10 16:06:45,669]\u001b[0m Trial 24 finished with value: 0.10948886104872017 and parameters: {'n_estimators': 28, 'subsample': 0.9290306649374853, 'max_depth': 14, 'max_features': 16, 'learning_rate': 0.12914925927473922, 'min_samples_leaf': 35}. Best is trial 24 with value: 0.10948886104872017.\u001b[0m\n"
     ]
    },
    {
     "name": "stdout",
     "output_type": "stream",
     "text": [
      "MCC: [0.11378866086505647, 0.12248744297291562, 0.0894117676464688, 0.1122675727104398]\n",
      "ROC: [0.7707133429325654, 0.7726444384449244, 0.7065522258219343, 0.7630013884603517]\n",
      "PR_AUC: [0.026935398775932668, 0.024248432368101733, 0.022465231570272613, 0.03970435209421735]\n",
      "CPU times: user 15.9 s, sys: 325 ms, total: 16.2 s\n",
      "Wall time: 16.1 s\n"
     ]
    }
   ],
   "source": [
    "%%time\n",
    "def create_model(trial):\n",
    "    n_estimators = trial.suggest_int('n_estimators', 10, 200)\n",
    "    subsample = trial.suggest_float('subsample', 0.8, 1.0)\n",
    "    max_depth = trial.suggest_int('max_depth',3,20)\n",
    "    max_features = trial.suggest_int('max_features',10,20)\n",
    "    learning_rate = trial.suggest_uniform('learning_rate',0.08,0.2)\n",
    "    min_samples_leaf = trial.suggest_int('min_samples_leaf',1,50)\n",
    "    model = GradientBoostingClassifier(n_estimators=n_estimators, subsample=subsample, \n",
    "                           max_depth=max_depth, learning_rate=learning_rate, \n",
    "                           min_samples_leaf=min_samples_leaf)\n",
    "#    model = GradientBoostingClassifier(n_estimators=n_estimators, subsample=subsample, \n",
    "#                           learning_rate=learning_rate, \n",
    "#                           min_samples_leaf=min_samples_leaf)\n",
    "#    model = GradientBoostingClassifier(n_estimators=n_estimators, learning_rate=learning_rate) \n",
    "    return model\n",
    "\n",
    "def objective(trial):\n",
    "    model = create_model(trial)\n",
    "    \n",
    "    mcc_list = []\n",
    "    roc_list = []\n",
    "    pr_list = []\n",
    "    f2_list = []\n",
    "    cv = StratifiedKFold(n_splits=4, shuffle=True, random_state=11)\n",
    "    for idx, (train_idx, test_idx) in enumerate(cv.split(X, y)):\n",
    "        X_train_c, X_test_c = X.iloc[train_idx], X.iloc[test_idx]\n",
    "        y_train_c, y_test_c = y[train_idx], y[test_idx]\n",
    "        sampler = RandomUnderSampler(sampling_strategy=1.0, random_state=7)\n",
    "        X_res, y_res = sampler.fit_resample(X_train_c, y_train_c)\n",
    "\n",
    "#        weights = class_weight.compute_sample_weight('balanced', y=y_train)\n",
    "#        model.fit(X_train, y_train, sample_weight=weights)\n",
    "        model.fit(X_res, y_res)\n",
    "        y_pred = model.predict(X_test_c)\n",
    "        probs = model.predict_proba(X_test_c)\n",
    "        prob1 = probs[:, 1]  # Only positives\n",
    "        precision, recall, pr_thresh = precision_recall_curve(y_test_c, prob1)\n",
    "        roc = roc_auc_score(y_test_c, prob1)\n",
    "        roc_list.append(roc)\n",
    "        mcc = matthews_corrcoef(y_test_c, y_pred)  # MWB\n",
    "        mcc_list.append(mcc)\n",
    "        f2 = fbeta_score(y_test_c, y_pred, beta=2.0, average=None)[1]\n",
    "        pr_auc = auc(recall, precision)\n",
    "        pr_list.append(pr_auc)\n",
    "        avg_precision = average_precision_score(y_test_c, prob1)\n",
    "#        print(f'ROC: {roc}')\n",
    "#        print(f'PR_AUC: {pr_auc}')\n",
    "#        print(f'avg_prec: {avg_precision}')\n",
    "        \n",
    "    print(f'MCC: {mcc_list}')\n",
    "    print(f'ROC: {roc_list}')\n",
    "    print(f'PR_AUC: {pr_list}')\n",
    "    return np.mean(mcc_list)\n",
    "\n",
    "sampler = TPESampler(seed=7)\n",
    "study = optuna.create_study(sampler=sampler,direction='maximize')\n",
    "#study.optimize(objective,n_trials=60)\n",
    "study.optimize(objective,n_trials=25)\n",
    "#study.optimize(objective,n_trials=5)"
   ]
  },
  {
   "cell_type": "code",
   "execution_count": 14,
   "metadata": {},
   "outputs": [
    {
     "data": {
      "text/plain": [
       "FrozenTrial(number=24, values=[0.10948886104872017], datetime_start=datetime.datetime(2021, 12, 10, 16, 6, 45, 256743), datetime_complete=datetime.datetime(2021, 12, 10, 16, 6, 45, 669113), params={'n_estimators': 28, 'subsample': 0.9290306649374853, 'max_depth': 14, 'max_features': 16, 'learning_rate': 0.12914925927473922, 'min_samples_leaf': 35}, distributions={'n_estimators': IntUniformDistribution(high=200, low=10, step=1), 'subsample': UniformDistribution(high=1.0, low=0.8), 'max_depth': IntUniformDistribution(high=20, low=3, step=1), 'max_features': IntUniformDistribution(high=20, low=10, step=1), 'learning_rate': UniformDistribution(high=0.2, low=0.08), 'min_samples_leaf': IntUniformDistribution(high=50, low=1, step=1)}, user_attrs={}, system_attrs={}, intermediate_values={}, trial_id=24, state=TrialState.COMPLETE, value=None)"
      ]
     },
     "execution_count": 14,
     "metadata": {},
     "output_type": "execute_result"
    }
   ],
   "source": [
    "best = study.best_trial\n",
    "best"
   ]
  },
  {
   "cell_type": "code",
   "execution_count": 15,
   "metadata": {},
   "outputs": [
    {
     "name": "stdout",
     "output_type": "stream",
     "text": [
      "[[3052 1393]\n",
      " [  10   33]]\n",
      "              precision    recall  f1-score   support\n",
      "\n",
      "           0       1.00      0.69      0.81      4445\n",
      "           1       0.02      0.77      0.04        43\n",
      "\n",
      "    accuracy                           0.69      4488\n",
      "   macro avg       0.51      0.73      0.43      4488\n",
      "weighted avg       0.99      0.69      0.81      4488\n",
      "\n",
      "ROC AUC prob1: 0.7417767546498548\n",
      "MCC: 0.09499860011710942\n",
      "F2: 0.1032540675844806\n",
      "PR_AUC: 0.024459407859954145\n",
      "CPU times: user 66.9 ms, sys: 3.58 ms, total: 70.5 ms\n",
      "Wall time: 68.2 ms\n"
     ]
    }
   ],
   "source": [
    "%%time\n",
    "gb_params = study.best_params\n",
    "#gb_params['random_state'] = 42\n",
    "gb = GradientBoostingClassifier(**gb_params)\n",
    "gb.fit(X_rus, y_rus)\n",
    "y_pred = gb.predict(X_test)\n",
    "probs = gb.predict_proba(X_test)\n",
    "prob1 = probs[:, 1]  # Only positives\n",
    "precision, recall, pr_thresh = precision_recall_curve(y_test, prob1)\n",
    "print(confusion_matrix(y_pred=y_pred, y_true=y_test))\n",
    "print(classification_report(y_test, y_pred))\n",
    "print(f'ROC AUC prob1: {roc_auc_score(y_test, prob1)}')\n",
    "print(f'MCC: {matthews_corrcoef(y_test, y_pred)}')\n",
    "print(f'F2: {fbeta_score(y_test, y_pred, beta=2.0, average=None)[1]}')\n",
    "print(f'PR_AUC: {auc(recall, precision)}')"
   ]
  },
  {
   "cell_type": "code",
   "execution_count": 16,
   "metadata": {},
   "outputs": [
    {
     "name": "stdout",
     "output_type": "stream",
     "text": [
      "[[4236  209]\n",
      " [  35    8]]\n",
      "              precision    recall  f1-score   support\n",
      "\n",
      "           0       0.99      0.95      0.97      4445\n",
      "           1       0.04      0.19      0.06        43\n",
      "\n",
      "    accuracy                           0.95      4488\n",
      "   macro avg       0.51      0.57      0.52      4488\n",
      "weighted avg       0.98      0.95      0.96      4488\n",
      "\n",
      "ROC AUC prob1: 0.6980249561828027\n",
      "MCC: 0.06313581986103019\n",
      "F2: 0.10282776349614395\n",
      "PR_AUC: 0.03747984192857726\n",
      "CPU times: user 510 ms, sys: 4.99 ms, total: 515 ms\n",
      "Wall time: 512 ms\n"
     ]
    }
   ],
   "source": [
    "%%time\n",
    "gb_params = study.best_params\n",
    "gb_params['random_state'] = 42\n",
    "gb_weight = GradientBoostingClassifier(**gb_params)\n",
    "weights = class_weight.compute_sample_weight('balanced', y=y_train)\n",
    "gb_weight.fit(X_train, y_train, sample_weight=weights)\n",
    "y_pred = gb_weight.predict(X_test)\n",
    "probs = gb_weight.predict_proba(X_test)\n",
    "prob1 = probs[:, 1]  # Only positives\n",
    "precision, recall, pr_thresh = precision_recall_curve(y_test, prob1)\n",
    "print(confusion_matrix(y_pred=y_pred, y_true=y_test))\n",
    "print(classification_report(y_test, y_pred))\n",
    "print(f'ROC AUC prob1: {roc_auc_score(y_test, prob1)}')\n",
    "print(f'MCC: {matthews_corrcoef(y_test, y_pred)}')\n",
    "print(f'F2: {fbeta_score(y_test, y_pred, beta=2.0, average=None)[1]}')\n",
    "print(f'PR_AUC: {auc(recall, precision)}')"
   ]
  },
  {
   "cell_type": "code",
   "execution_count": 17,
   "metadata": {},
   "outputs": [
    {
     "data": {
      "text/plain": [
       "Delmode             0.088513\n",
       "new_age             0.074347\n",
       "BESTGA              0.064599\n",
       "Admefface           0.063229\n",
       "new_BMI             0.045447\n",
       "Lac_Min             0.039832\n",
       "CS_FTP              0.036352\n",
       "Dilat_lst           0.031011\n",
       "Lac_None            0.028408\n",
       "Delfetalpos         0.026131\n",
       "momrace_new         0.025598\n",
       "Admpresent          0.025554\n",
       "Admreason           0.022888\n",
       "Analgesia           0.022414\n",
       "Hxpreterm           0.018354\n",
       "high_Gravidity      0.018100\n",
       "ROMmeth             0.016925\n",
       "Antehospital        0.013785\n",
       "Malpresentation9    0.013620\n",
       "Insurance           0.013303\n",
       "dtype: float64"
      ]
     },
     "execution_count": 17,
     "metadata": {},
     "output_type": "execute_result"
    }
   ],
   "source": [
    "# No Sitenum - 5\n",
    "coeffs_wgt = pd.Series(data=gb_weight.feature_importances_,\n",
    "                   index=X_test.columns.values).sort_values(ascending=False)\n",
    "coeffs_wgt[0:20]"
   ]
  },
  {
   "cell_type": "code",
   "execution_count": 1,
   "metadata": {},
   "outputs": [
    {
     "ename": "NameError",
     "evalue": "name 'plt' is not defined",
     "output_type": "error",
     "traceback": [
      "\u001b[0;31m---------------------------------------------------------------------------\u001b[0m",
      "\u001b[0;31mNameError\u001b[0m                                 Traceback (most recent call last)",
      "\u001b[0;32m<ipython-input-1-163c23260408>\u001b[0m in \u001b[0;36m<module>\u001b[0;34m\u001b[0m\n\u001b[0;32m----> 1\u001b[0;31m \u001b[0mplt\u001b[0m\u001b[0;34m.\u001b[0m\u001b[0mrcParams\u001b[0m\u001b[0;34m[\u001b[0m\u001b[0;34m\"figure.figsize\"\u001b[0m\u001b[0;34m]\u001b[0m \u001b[0;34m=\u001b[0m \u001b[0;34m(\u001b[0m\u001b[0;36m14\u001b[0m\u001b[0;34m,\u001b[0m \u001b[0;36m8\u001b[0m\u001b[0;34m)\u001b[0m\u001b[0;34m\u001b[0m\u001b[0;34m\u001b[0m\u001b[0m\n\u001b[0m\u001b[1;32m      2\u001b[0m \u001b[0mx_labels\u001b[0m \u001b[0;34m=\u001b[0m \u001b[0mcoeffs_wgt\u001b[0m\u001b[0;34m.\u001b[0m\u001b[0mindex\u001b[0m\u001b[0;34m.\u001b[0m\u001b[0mvalues\u001b[0m\u001b[0;34m[\u001b[0m\u001b[0;36m0\u001b[0m\u001b[0;34m:\u001b[0m\u001b[0;36m25\u001b[0m\u001b[0;34m]\u001b[0m\u001b[0;34m\u001b[0m\u001b[0;34m\u001b[0m\u001b[0m\n\u001b[1;32m      3\u001b[0m \u001b[0mprint\u001b[0m\u001b[0;34m(\u001b[0m\u001b[0mx_labels\u001b[0m\u001b[0;34m)\u001b[0m\u001b[0;34m\u001b[0m\u001b[0;34m\u001b[0m\u001b[0m\n\u001b[1;32m      4\u001b[0m \u001b[0mfig\u001b[0m\u001b[0;34m,\u001b[0m \u001b[0max\u001b[0m \u001b[0;34m=\u001b[0m \u001b[0mplt\u001b[0m\u001b[0;34m.\u001b[0m\u001b[0msubplots\u001b[0m\u001b[0;34m(\u001b[0m\u001b[0;36m1\u001b[0m\u001b[0;34m,\u001b[0m\u001b[0;36m1\u001b[0m\u001b[0;34m)\u001b[0m  \u001b[0;31m# Create a figure and an axes.\u001b[0m\u001b[0;34m\u001b[0m\u001b[0;34m\u001b[0m\u001b[0m\n\u001b[1;32m      5\u001b[0m \u001b[0max\u001b[0m\u001b[0;34m.\u001b[0m\u001b[0mset_title\u001b[0m\u001b[0;34m(\u001b[0m\u001b[0;34m'Top Predictors: All Sites combined; target: High_EBLoss, vars: PI'\u001b[0m\u001b[0;34m)\u001b[0m\u001b[0;34m\u001b[0m\u001b[0;34m\u001b[0m\u001b[0m\n",
      "\u001b[0;31mNameError\u001b[0m: name 'plt' is not defined"
     ]
    }
   ],
   "source": [
    "plt.rcParams[\"figure.figsize\"] = (14, 8)\n",
    "x_labels = coeffs_wgt.index.values[0:25]\n",
    "print(x_labels)\n",
    "fig, ax = plt.subplots(1,1)  # Create a figure and an axes.\n",
    "ax.set_title('Top Predictors: All Sites combined; target: High_EBLoss, vars: PI')\n",
    "ax.bar(x_labels, coeffs_wgt.values[0:25])\n",
    "ax.set_ylabel('Coeff')\n",
    "ax.set_xlabel('Variable')\n",
    "plt.draw()\n",
    "ax.set_xticklabels(ax.get_xticklabels(), rotation=90, fontsize=16)\n",
    "#plt.xlim(1,20)\n",
    "plt.show()"
   ]
  },
  {
   "cell_type": "code",
   "execution_count": 19,
   "metadata": {},
   "outputs": [
    {
     "data": {
      "text/plain": [
       "Delmode           0.258989\n",
       "CS_FTP            0.122801\n",
       "Dilat_lst         0.089096\n",
       "Delfetalpos       0.081375\n",
       "Admefface         0.073909\n",
       "spontlabor        0.052047\n",
       "new_BMI           0.042307\n",
       "Lac_Min           0.034317\n",
       "momrace_new       0.033286\n",
       "BESTGA            0.032297\n",
       "Insurance         0.030733\n",
       "Parity            0.024060\n",
       "MthInd_Oxy        0.023034\n",
       "Lac_None          0.021233\n",
       "uscar             0.019975\n",
       "Induction         0.019037\n",
       "high_Gravidity    0.009494\n",
       "Admpresent        0.009227\n",
       "Ind_Unkn          0.007132\n",
       "prelaborCD        0.004863\n",
       "dtype: float64"
      ]
     },
     "execution_count": 19,
     "metadata": {},
     "output_type": "execute_result"
    }
   ],
   "source": [
    "# No Sitenum - 5\n",
    "coeffs = pd.Series(data=gb.feature_importances_,\n",
    "                   index=X_test.columns.values).sort_values(ascending=False)\n",
    "coeffs[0:20]"
   ]
  },
  {
   "cell_type": "code",
   "execution_count": 21,
   "metadata": {},
   "outputs": [
    {
     "data": {
      "text/plain": [
       "{'n_estimators': 28,\n",
       " 'subsample': 0.9290306649374853,\n",
       " 'max_depth': 14,\n",
       " 'max_features': 16,\n",
       " 'learning_rate': 0.12914925927473922,\n",
       " 'min_samples_leaf': 35,\n",
       " 'random_state': 42}"
      ]
     },
     "execution_count": 21,
     "metadata": {},
     "output_type": "execute_result"
    }
   ],
   "source": [
    "gb_params # 5 runs"
   ]
  },
  {
   "cell_type": "code",
   "execution_count": 2,
   "metadata": {},
   "outputs": [
    {
     "ename": "NameError",
     "evalue": "name 'study' is not defined",
     "output_type": "error",
     "traceback": [
      "\u001b[0;31m---------------------------------------------------------------------------\u001b[0m",
      "\u001b[0;31mNameError\u001b[0m                                 Traceback (most recent call last)",
      "\u001b[0;32m<ipython-input-2-bf9f527b858c>\u001b[0m in \u001b[0;36m<module>\u001b[0;34m\u001b[0m\n\u001b[1;32m      3\u001b[0m \u001b[0mplotly_config\u001b[0m \u001b[0;34m=\u001b[0m \u001b[0;34m{\u001b[0m\u001b[0;34m\"staticPlot\"\u001b[0m\u001b[0;34m:\u001b[0m \u001b[0;32mTrue\u001b[0m\u001b[0;34m}\u001b[0m\u001b[0;34m\u001b[0m\u001b[0;34m\u001b[0m\u001b[0m\n\u001b[1;32m      4\u001b[0m \u001b[0;34m\u001b[0m\u001b[0m\n\u001b[0;32m----> 5\u001b[0;31m \u001b[0mfig\u001b[0m \u001b[0;34m=\u001b[0m \u001b[0mplot_optimization_history\u001b[0m\u001b[0;34m(\u001b[0m\u001b[0mstudy\u001b[0m\u001b[0;34m)\u001b[0m\u001b[0;34m\u001b[0m\u001b[0;34m\u001b[0m\u001b[0m\n\u001b[0m\u001b[1;32m      6\u001b[0m \u001b[0mfig\u001b[0m\u001b[0;34m.\u001b[0m\u001b[0mshow\u001b[0m\u001b[0;34m(\u001b[0m\u001b[0mconfig\u001b[0m\u001b[0;34m=\u001b[0m\u001b[0mplotly_config\u001b[0m\u001b[0;34m)\u001b[0m\u001b[0;34m\u001b[0m\u001b[0;34m\u001b[0m\u001b[0m\n",
      "\u001b[0;31mNameError\u001b[0m: name 'study' is not defined"
     ]
    }
   ],
   "source": [
    "from optuna.visualization import plot_optimization_history\n",
    "\n",
    "plotly_config = {\"staticPlot\": True}\n",
    "\n",
    "fig = plot_optimization_history(study)\n",
    "fig.show(config=plotly_config)"
   ]
  },
  {
   "cell_type": "code",
   "execution_count": null,
   "metadata": {},
   "outputs": [],
   "source": [
    "from optuna.visualization import plot_param_importances\n",
    "\n",
    "fig = plot_param_importances(study)\n",
    "fig.show(config=plotly_config)"
   ]
  },
  {
   "cell_type": "code",
   "execution_count": 24,
   "metadata": {},
   "outputs": [
    {
     "data": {
      "text/plain": [
       "0.3155208505596307"
      ]
     },
     "execution_count": 24,
     "metadata": {},
     "output_type": "execute_result"
    }
   ],
   "source": [
    "np.mean([0.3149689279176914, 0.31449457458602254, 0.31066798538596907, 0.3219519143488398])"
   ]
  },
  {
   "cell_type": "markdown",
   "metadata": {},
   "source": [
    "<h1 align='center'>Thanks and make sure to learn!</h1>"
   ]
  }
 ],
 "metadata": {
  "kernelspec": {
   "display_name": "Python 3",
   "language": "python",
   "name": "python3"
  },
  "language_info": {
   "codemirror_mode": {
    "name": "ipython",
    "version": 3
   },
   "file_extension": ".py",
   "mimetype": "text/x-python",
   "name": "python",
   "nbconvert_exporter": "python",
   "pygments_lexer": "ipython3",
   "version": "3.7.9"
  }
 },
 "nbformat": 4,
 "nbformat_minor": 4
}
