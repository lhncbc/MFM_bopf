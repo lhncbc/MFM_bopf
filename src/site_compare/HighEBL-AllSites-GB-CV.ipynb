{
 "cells": [
  {
   "cell_type": "code",
   "execution_count": 1,
   "metadata": {
    "_cell_guid": "b1076dfc-b9ad-4769-8c92-a6c4dae69d19",
    "_uuid": "8f2839f25d086af736a60e9eeb907d3b93b6e0e5"
   },
   "outputs": [],
   "source": [
    "import numpy as np \n",
    "import pandas as pd \n",
    "\n",
    "import matplotlib.pyplot as plt\n",
    "#import plotly.express as px\n",
    "import seaborn as sns\n",
    "\n",
    "from lightgbm import LGBMClassifier\n",
    "from sklearn.ensemble import GradientBoostingClassifier\n",
    "\n",
    "from sklearn.model_selection import StratifiedKFold\n",
    "from collections import Counter\n",
    "from imblearn.under_sampling import RandomUnderSampler\n",
    "from sklearn.metrics import classification_report, roc_auc_score, confusion_matrix, \\\n",
    "                            accuracy_score, f1_score, average_precision_score, \\\n",
    "                            fbeta_score, precision_recall_curve, auc\n",
    "from sklearn.metrics import matthews_corrcoef\n",
    "\n",
    "from sklearn.model_selection import train_test_split\n",
    "\n",
    "import optuna\n",
    "from optuna.samplers import TPESampler\n",
    "sns.set(style='white', context='notebook', palette='deep')\n",
    "%config Completer.use_jedi = False"
   ]
  },
  {
   "cell_type": "code",
   "execution_count": 2,
   "metadata": {},
   "outputs": [
    {
     "data": {
      "text/html": [
       "<div>\n",
       "<style scoped>\n",
       "    .dataframe tbody tr th:only-of-type {\n",
       "        vertical-align: middle;\n",
       "    }\n",
       "\n",
       "    .dataframe tbody tr th {\n",
       "        vertical-align: top;\n",
       "    }\n",
       "\n",
       "    .dataframe thead th {\n",
       "        text-align: right;\n",
       "    }\n",
       "</style>\n",
       "<table border=\"1\" class=\"dataframe\">\n",
       "  <thead>\n",
       "    <tr style=\"text-align: right;\">\n",
       "      <th></th>\n",
       "      <th>transfus_yes</th>\n",
       "      <th>Accrete</th>\n",
       "      <th>AdmBishop</th>\n",
       "      <th>Admcervpos</th>\n",
       "      <th>Admconsistency</th>\n",
       "      <th>Admcontract</th>\n",
       "      <th>AdmDBP</th>\n",
       "      <th>Admefface</th>\n",
       "      <th>Admpresent</th>\n",
       "      <th>AdmSBP</th>\n",
       "      <th>...</th>\n",
       "      <th>TD_nos</th>\n",
       "      <th>ThreatenedPB</th>\n",
       "      <th>threatpb9</th>\n",
       "      <th>UnspecHBP</th>\n",
       "      <th>uscar</th>\n",
       "      <th>version9</th>\n",
       "      <th>new_age</th>\n",
       "      <th>new_BMI</th>\n",
       "      <th>new_high_Age</th>\n",
       "      <th>new_high_BMI</th>\n",
       "    </tr>\n",
       "    <tr>\n",
       "      <th>MomID</th>\n",
       "      <th></th>\n",
       "      <th></th>\n",
       "      <th></th>\n",
       "      <th></th>\n",
       "      <th></th>\n",
       "      <th></th>\n",
       "      <th></th>\n",
       "      <th></th>\n",
       "      <th></th>\n",
       "      <th></th>\n",
       "      <th></th>\n",
       "      <th></th>\n",
       "      <th></th>\n",
       "      <th></th>\n",
       "      <th></th>\n",
       "      <th></th>\n",
       "      <th></th>\n",
       "      <th></th>\n",
       "      <th></th>\n",
       "      <th></th>\n",
       "      <th></th>\n",
       "    </tr>\n",
       "  </thead>\n",
       "  <tbody>\n",
       "    <tr>\n",
       "      <th>44-01170</th>\n",
       "      <td>0</td>\n",
       "      <td>0</td>\n",
       "      <td>8</td>\n",
       "      <td>8</td>\n",
       "      <td>8</td>\n",
       "      <td>2.5</td>\n",
       "      <td>76</td>\n",
       "      <td>50.0</td>\n",
       "      <td>77</td>\n",
       "      <td>139.0</td>\n",
       "      <td>...</td>\n",
       "      <td>0</td>\n",
       "      <td>0</td>\n",
       "      <td>0</td>\n",
       "      <td>0</td>\n",
       "      <td>0</td>\n",
       "      <td>0</td>\n",
       "      <td>25</td>\n",
       "      <td>24</td>\n",
       "      <td>1</td>\n",
       "      <td>1</td>\n",
       "    </tr>\n",
       "    <tr>\n",
       "      <th>41-42094</th>\n",
       "      <td>0</td>\n",
       "      <td>0</td>\n",
       "      <td>11</td>\n",
       "      <td>1</td>\n",
       "      <td>3</td>\n",
       "      <td>2.9</td>\n",
       "      <td>79</td>\n",
       "      <td>90.0</td>\n",
       "      <td>77</td>\n",
       "      <td>122.0</td>\n",
       "      <td>...</td>\n",
       "      <td>0</td>\n",
       "      <td>0</td>\n",
       "      <td>0</td>\n",
       "      <td>0</td>\n",
       "      <td>0</td>\n",
       "      <td>0</td>\n",
       "      <td>27</td>\n",
       "      <td>21</td>\n",
       "      <td>1</td>\n",
       "      <td>1</td>\n",
       "    </tr>\n",
       "    <tr>\n",
       "      <th>48-15713</th>\n",
       "      <td>0</td>\n",
       "      <td>0</td>\n",
       "      <td>8</td>\n",
       "      <td>8</td>\n",
       "      <td>8</td>\n",
       "      <td>66.0</td>\n",
       "      <td>90</td>\n",
       "      <td>100.0</td>\n",
       "      <td>77</td>\n",
       "      <td>127.0</td>\n",
       "      <td>...</td>\n",
       "      <td>0</td>\n",
       "      <td>0</td>\n",
       "      <td>0</td>\n",
       "      <td>0</td>\n",
       "      <td>0</td>\n",
       "      <td>0</td>\n",
       "      <td>18</td>\n",
       "      <td>26</td>\n",
       "      <td>0</td>\n",
       "      <td>1</td>\n",
       "    </tr>\n",
       "    <tr>\n",
       "      <th>49-04689</th>\n",
       "      <td>1</td>\n",
       "      <td>0</td>\n",
       "      <td>8</td>\n",
       "      <td>2</td>\n",
       "      <td>3</td>\n",
       "      <td>3.0</td>\n",
       "      <td>75</td>\n",
       "      <td>70.0</td>\n",
       "      <td>1</td>\n",
       "      <td>118.0</td>\n",
       "      <td>...</td>\n",
       "      <td>0</td>\n",
       "      <td>0</td>\n",
       "      <td>0</td>\n",
       "      <td>0</td>\n",
       "      <td>0</td>\n",
       "      <td>0</td>\n",
       "      <td>30</td>\n",
       "      <td>24</td>\n",
       "      <td>1</td>\n",
       "      <td>1</td>\n",
       "    </tr>\n",
       "    <tr>\n",
       "      <th>49-02986</th>\n",
       "      <td>0</td>\n",
       "      <td>0</td>\n",
       "      <td>8</td>\n",
       "      <td>1</td>\n",
       "      <td>3</td>\n",
       "      <td>1.0</td>\n",
       "      <td>81</td>\n",
       "      <td>100.0</td>\n",
       "      <td>1</td>\n",
       "      <td>128.0</td>\n",
       "      <td>...</td>\n",
       "      <td>0</td>\n",
       "      <td>0</td>\n",
       "      <td>0</td>\n",
       "      <td>0</td>\n",
       "      <td>0</td>\n",
       "      <td>0</td>\n",
       "      <td>26</td>\n",
       "      <td>24</td>\n",
       "      <td>1</td>\n",
       "      <td>1</td>\n",
       "    </tr>\n",
       "    <tr>\n",
       "      <th>...</th>\n",
       "      <td>...</td>\n",
       "      <td>...</td>\n",
       "      <td>...</td>\n",
       "      <td>...</td>\n",
       "      <td>...</td>\n",
       "      <td>...</td>\n",
       "      <td>...</td>\n",
       "      <td>...</td>\n",
       "      <td>...</td>\n",
       "      <td>...</td>\n",
       "      <td>...</td>\n",
       "      <td>...</td>\n",
       "      <td>...</td>\n",
       "      <td>...</td>\n",
       "      <td>...</td>\n",
       "      <td>...</td>\n",
       "      <td>...</td>\n",
       "      <td>...</td>\n",
       "      <td>...</td>\n",
       "      <td>...</td>\n",
       "      <td>...</td>\n",
       "    </tr>\n",
       "    <tr>\n",
       "      <th>49-22617</th>\n",
       "      <td>0</td>\n",
       "      <td>0</td>\n",
       "      <td>8</td>\n",
       "      <td>8</td>\n",
       "      <td>8</td>\n",
       "      <td>1.0</td>\n",
       "      <td>88</td>\n",
       "      <td>0.0</td>\n",
       "      <td>77</td>\n",
       "      <td>125.0</td>\n",
       "      <td>...</td>\n",
       "      <td>0</td>\n",
       "      <td>0</td>\n",
       "      <td>0</td>\n",
       "      <td>0</td>\n",
       "      <td>1</td>\n",
       "      <td>0</td>\n",
       "      <td>31</td>\n",
       "      <td>33</td>\n",
       "      <td>1</td>\n",
       "      <td>1</td>\n",
       "    </tr>\n",
       "    <tr>\n",
       "      <th>45-01038</th>\n",
       "      <td>0</td>\n",
       "      <td>0</td>\n",
       "      <td>8</td>\n",
       "      <td>3</td>\n",
       "      <td>3</td>\n",
       "      <td>2.0</td>\n",
       "      <td>79</td>\n",
       "      <td>50.0</td>\n",
       "      <td>1</td>\n",
       "      <td>106.0</td>\n",
       "      <td>...</td>\n",
       "      <td>0</td>\n",
       "      <td>0</td>\n",
       "      <td>0</td>\n",
       "      <td>0</td>\n",
       "      <td>0</td>\n",
       "      <td>0</td>\n",
       "      <td>31</td>\n",
       "      <td>24</td>\n",
       "      <td>1</td>\n",
       "      <td>1</td>\n",
       "    </tr>\n",
       "    <tr>\n",
       "      <th>52-04194</th>\n",
       "      <td>0</td>\n",
       "      <td>0</td>\n",
       "      <td>8</td>\n",
       "      <td>8</td>\n",
       "      <td>8</td>\n",
       "      <td>66.0</td>\n",
       "      <td>74</td>\n",
       "      <td>70.0</td>\n",
       "      <td>1</td>\n",
       "      <td>124.4</td>\n",
       "      <td>...</td>\n",
       "      <td>0</td>\n",
       "      <td>0</td>\n",
       "      <td>0</td>\n",
       "      <td>0</td>\n",
       "      <td>0</td>\n",
       "      <td>0</td>\n",
       "      <td>30</td>\n",
       "      <td>21</td>\n",
       "      <td>1</td>\n",
       "      <td>1</td>\n",
       "    </tr>\n",
       "    <tr>\n",
       "      <th>44-11143</th>\n",
       "      <td>0</td>\n",
       "      <td>0</td>\n",
       "      <td>8</td>\n",
       "      <td>8</td>\n",
       "      <td>8</td>\n",
       "      <td>99.0</td>\n",
       "      <td>76</td>\n",
       "      <td>100.0</td>\n",
       "      <td>77</td>\n",
       "      <td>133.0</td>\n",
       "      <td>...</td>\n",
       "      <td>0</td>\n",
       "      <td>0</td>\n",
       "      <td>0</td>\n",
       "      <td>0</td>\n",
       "      <td>0</td>\n",
       "      <td>0</td>\n",
       "      <td>15</td>\n",
       "      <td>24</td>\n",
       "      <td>0</td>\n",
       "      <td>1</td>\n",
       "    </tr>\n",
       "    <tr>\n",
       "      <th>45-15239</th>\n",
       "      <td>0</td>\n",
       "      <td>0</td>\n",
       "      <td>9</td>\n",
       "      <td>2</td>\n",
       "      <td>2</td>\n",
       "      <td>10.0</td>\n",
       "      <td>70</td>\n",
       "      <td>80.0</td>\n",
       "      <td>1</td>\n",
       "      <td>121.0</td>\n",
       "      <td>...</td>\n",
       "      <td>0</td>\n",
       "      <td>0</td>\n",
       "      <td>0</td>\n",
       "      <td>0</td>\n",
       "      <td>0</td>\n",
       "      <td>0</td>\n",
       "      <td>35</td>\n",
       "      <td>27</td>\n",
       "      <td>1</td>\n",
       "      <td>1</td>\n",
       "    </tr>\n",
       "  </tbody>\n",
       "</table>\n",
       "<p>95540 rows × 195 columns</p>\n",
       "</div>"
      ],
      "text/plain": [
       "          transfus_yes  Accrete  AdmBishop  Admcervpos  Admconsistency  \\\n",
       "MomID                                                                    \n",
       "44-01170             0        0          8           8               8   \n",
       "41-42094             0        0         11           1               3   \n",
       "48-15713             0        0          8           8               8   \n",
       "49-04689             1        0          8           2               3   \n",
       "49-02986             0        0          8           1               3   \n",
       "...                ...      ...        ...         ...             ...   \n",
       "49-22617             0        0          8           8               8   \n",
       "45-01038             0        0          8           3               3   \n",
       "52-04194             0        0          8           8               8   \n",
       "44-11143             0        0          8           8               8   \n",
       "45-15239             0        0          9           2               2   \n",
       "\n",
       "          Admcontract  AdmDBP  Admefface  Admpresent  AdmSBP  ...  TD_nos  \\\n",
       "MomID                                                         ...           \n",
       "44-01170          2.5      76       50.0          77   139.0  ...       0   \n",
       "41-42094          2.9      79       90.0          77   122.0  ...       0   \n",
       "48-15713         66.0      90      100.0          77   127.0  ...       0   \n",
       "49-04689          3.0      75       70.0           1   118.0  ...       0   \n",
       "49-02986          1.0      81      100.0           1   128.0  ...       0   \n",
       "...               ...     ...        ...         ...     ...  ...     ...   \n",
       "49-22617          1.0      88        0.0          77   125.0  ...       0   \n",
       "45-01038          2.0      79       50.0           1   106.0  ...       0   \n",
       "52-04194         66.0      74       70.0           1   124.4  ...       0   \n",
       "44-11143         99.0      76      100.0          77   133.0  ...       0   \n",
       "45-15239         10.0      70       80.0           1   121.0  ...       0   \n",
       "\n",
       "          ThreatenedPB  threatpb9  UnspecHBP  uscar  version9  new_age  \\\n",
       "MomID                                                                    \n",
       "44-01170             0          0          0      0         0       25   \n",
       "41-42094             0          0          0      0         0       27   \n",
       "48-15713             0          0          0      0         0       18   \n",
       "49-04689             0          0          0      0         0       30   \n",
       "49-02986             0          0          0      0         0       26   \n",
       "...                ...        ...        ...    ...       ...      ...   \n",
       "49-22617             0          0          0      1         0       31   \n",
       "45-01038             0          0          0      0         0       31   \n",
       "52-04194             0          0          0      0         0       30   \n",
       "44-11143             0          0          0      0         0       15   \n",
       "45-15239             0          0          0      0         0       35   \n",
       "\n",
       "          new_BMI  new_high_Age  new_high_BMI  \n",
       "MomID                                          \n",
       "44-01170       24             1             1  \n",
       "41-42094       21             1             1  \n",
       "48-15713       26             0             1  \n",
       "49-04689       24             1             1  \n",
       "49-02986       24             1             1  \n",
       "...           ...           ...           ...  \n",
       "49-22617       33             1             1  \n",
       "45-01038       24             1             1  \n",
       "52-04194       21             1             1  \n",
       "44-11143       24             0             1  \n",
       "45-15239       27             1             1  \n",
       "\n",
       "[95540 rows x 195 columns]"
      ]
     },
     "execution_count": 2,
     "metadata": {},
     "output_type": "execute_result"
    }
   ],
   "source": [
    "csl_df = pd.read_csv('../../data/csl/CSL_hety_PI_comp.csv', index_col=0)\n",
    "X = csl_df.drop(['high_EBL','Sitenum'], axis=1, inplace=False)\n",
    "y = csl_df['high_EBL'].values\n",
    "\n",
    "X_train, X_test, y_train, y_test = train_test_split(X, y, test_size=0.3, stratify=y, random_state=7)\n",
    "X_train                                                    "
   ]
  },
  {
   "cell_type": "markdown",
   "metadata": {},
   "source": [
    "<h1 align='center'>Exploratory Data Analysis</h1>"
   ]
  },
  {
   "cell_type": "code",
   "execution_count": 8,
   "metadata": {},
   "outputs": [
    {
     "ename": "NameError",
     "evalue": "name 'plt' is not defined",
     "output_type": "error",
     "traceback": [
      "\u001b[0;31m---------------------------------------------------------------------------\u001b[0m",
      "\u001b[0;31mNameError\u001b[0m                                 Traceback (most recent call last)",
      "\u001b[0;32m<ipython-input-8-18046ae909b6>\u001b[0m in \u001b[0;36m<module>\u001b[0;34m\u001b[0m\n\u001b[0;32m----> 1\u001b[0;31m \u001b[0mplt\u001b[0m\u001b[0;34m.\u001b[0m\u001b[0mfigure\u001b[0m\u001b[0;34m(\u001b[0m\u001b[0mfigsize\u001b[0m\u001b[0;34m=\u001b[0m\u001b[0;34m(\u001b[0m\u001b[0;36m20\u001b[0m\u001b[0;34m,\u001b[0m\u001b[0;36m10\u001b[0m\u001b[0;34m)\u001b[0m\u001b[0;34m)\u001b[0m\u001b[0;34m\u001b[0m\u001b[0;34m\u001b[0m\u001b[0m\n\u001b[0m\u001b[1;32m      2\u001b[0m \u001b[0msns\u001b[0m\u001b[0;34m.\u001b[0m\u001b[0mbarplot\u001b[0m\u001b[0;34m(\u001b[0m\u001b[0mcsl_df\u001b[0m\u001b[0;34m[\u001b[0m\u001b[0;34m'new_age'\u001b[0m\u001b[0;34m]\u001b[0m\u001b[0;34m,\u001b[0m\u001b[0mcsl_df\u001b[0m\u001b[0;34m[\u001b[0m\u001b[0;34m'high_EBL'\u001b[0m\u001b[0;34m]\u001b[0m\u001b[0;34m)\u001b[0m\u001b[0;34m\u001b[0m\u001b[0;34m\u001b[0m\u001b[0m\n\u001b[1;32m      3\u001b[0m \u001b[0mplt\u001b[0m\u001b[0;34m.\u001b[0m\u001b[0mshow\u001b[0m\u001b[0;34m(\u001b[0m\u001b[0;34m)\u001b[0m\u001b[0;34m\u001b[0m\u001b[0;34m\u001b[0m\u001b[0m\n",
      "\u001b[0;31mNameError\u001b[0m: name 'plt' is not defined"
     ]
    }
   ],
   "source": [
    "plt.figure(figsize=(20,10))\n",
    "sns.barplot(csl_df['new_age'],csl_df['high_EBL'])\n",
    "plt.show()"
   ]
  },
  {
   "cell_type": "code",
   "execution_count": 7,
   "metadata": {},
   "outputs": [
    {
     "ename": "NameError",
     "evalue": "name 'sns' is not defined",
     "output_type": "error",
     "traceback": [
      "\u001b[0;31m---------------------------------------------------------------------------\u001b[0m",
      "\u001b[0;31mNameError\u001b[0m                                 Traceback (most recent call last)",
      "\u001b[0;32m<ipython-input-7-3e7f4639aff8>\u001b[0m in \u001b[0;36m<module>\u001b[0;34m\u001b[0m\n\u001b[0;32m----> 1\u001b[0;31m \u001b[0msns\u001b[0m\u001b[0;34m.\u001b[0m\u001b[0mboxplot\u001b[0m\u001b[0;34m(\u001b[0m\u001b[0mcsl_df\u001b[0m\u001b[0;34m[\u001b[0m\u001b[0;34m'new_age'\u001b[0m\u001b[0;34m]\u001b[0m\u001b[0;34m)\u001b[0m\u001b[0;34m\u001b[0m\u001b[0;34m\u001b[0m\u001b[0m\n\u001b[0m\u001b[1;32m      2\u001b[0m \u001b[0mplt\u001b[0m\u001b[0;34m.\u001b[0m\u001b[0mshow\u001b[0m\u001b[0;34m(\u001b[0m\u001b[0;34m)\u001b[0m\u001b[0;34m\u001b[0m\u001b[0;34m\u001b[0m\u001b[0m\n",
      "\u001b[0;31mNameError\u001b[0m: name 'sns' is not defined"
     ]
    }
   ],
   "source": [
    "sns.boxplot(csl_df['new_age'])\n",
    "plt.show()"
   ]
  },
  {
   "cell_type": "code",
   "execution_count": 6,
   "metadata": {},
   "outputs": [
    {
     "ename": "NameError",
     "evalue": "name 'plt' is not defined",
     "output_type": "error",
     "traceback": [
      "\u001b[0;31m---------------------------------------------------------------------------\u001b[0m",
      "\u001b[0;31mNameError\u001b[0m                                 Traceback (most recent call last)",
      "\u001b[0;32m<ipython-input-6-2a312fd6d3a0>\u001b[0m in \u001b[0;36m<module>\u001b[0;34m\u001b[0m\n\u001b[0;32m----> 1\u001b[0;31m \u001b[0mplt\u001b[0m\u001b[0;34m.\u001b[0m\u001b[0mfigure\u001b[0m\u001b[0;34m(\u001b[0m\u001b[0mfigsize\u001b[0m\u001b[0;34m=\u001b[0m\u001b[0;34m(\u001b[0m\u001b[0;36m20\u001b[0m\u001b[0;34m,\u001b[0m\u001b[0;36m10\u001b[0m\u001b[0;34m)\u001b[0m\u001b[0;34m)\u001b[0m\u001b[0;34m\u001b[0m\u001b[0;34m\u001b[0m\u001b[0m\n\u001b[0m\u001b[1;32m      2\u001b[0m \u001b[0msns\u001b[0m\u001b[0;34m.\u001b[0m\u001b[0mbarplot\u001b[0m\u001b[0;34m(\u001b[0m\u001b[0mcsl_df\u001b[0m\u001b[0;34m[\u001b[0m\u001b[0;34m'new_BMI'\u001b[0m\u001b[0;34m]\u001b[0m\u001b[0;34m,\u001b[0m\u001b[0mcsl_df\u001b[0m\u001b[0;34m[\u001b[0m\u001b[0;34m'high_EBL'\u001b[0m\u001b[0;34m]\u001b[0m\u001b[0;34m)\u001b[0m\u001b[0;34m\u001b[0m\u001b[0;34m\u001b[0m\u001b[0m\n\u001b[1;32m      3\u001b[0m \u001b[0mplt\u001b[0m\u001b[0;34m.\u001b[0m\u001b[0mshow\u001b[0m\u001b[0;34m(\u001b[0m\u001b[0;34m)\u001b[0m\u001b[0;34m\u001b[0m\u001b[0;34m\u001b[0m\u001b[0m\n",
      "\u001b[0;31mNameError\u001b[0m: name 'plt' is not defined"
     ]
    }
   ],
   "source": [
    "plt.figure(figsize=(20,10))\n",
    "sns.barplot(csl_df['new_BMI'],csl_df['high_EBL'])\n",
    "plt.show()"
   ]
  },
  {
   "cell_type": "code",
   "execution_count": 5,
   "metadata": {},
   "outputs": [
    {
     "ename": "NameError",
     "evalue": "name 'sns' is not defined",
     "output_type": "error",
     "traceback": [
      "\u001b[0;31m---------------------------------------------------------------------------\u001b[0m",
      "\u001b[0;31mNameError\u001b[0m                                 Traceback (most recent call last)",
      "\u001b[0;32m<ipython-input-5-154c9bf59911>\u001b[0m in \u001b[0;36m<module>\u001b[0;34m\u001b[0m\n\u001b[0;32m----> 1\u001b[0;31m \u001b[0msns\u001b[0m\u001b[0;34m.\u001b[0m\u001b[0mboxplot\u001b[0m\u001b[0;34m(\u001b[0m\u001b[0mcsl_df\u001b[0m\u001b[0;34m[\u001b[0m\u001b[0;34m'new_BMI'\u001b[0m\u001b[0;34m]\u001b[0m\u001b[0;34m)\u001b[0m\u001b[0;34m\u001b[0m\u001b[0;34m\u001b[0m\u001b[0m\n\u001b[0m\u001b[1;32m      2\u001b[0m \u001b[0mplt\u001b[0m\u001b[0;34m.\u001b[0m\u001b[0mshow\u001b[0m\u001b[0;34m(\u001b[0m\u001b[0;34m)\u001b[0m\u001b[0;34m\u001b[0m\u001b[0;34m\u001b[0m\u001b[0m\n",
      "\u001b[0;31mNameError\u001b[0m: name 'sns' is not defined"
     ]
    }
   ],
   "source": [
    "sns.boxplot(csl_df['new_BMI'])\n",
    "plt.show()"
   ]
  },
  {
   "cell_type": "markdown",
   "metadata": {},
   "source": [
    "<h1 align='center'>Modelling</h1>"
   ]
  },
  {
   "cell_type": "code",
   "execution_count": 7,
   "metadata": {},
   "outputs": [
    {
     "name": "stdout",
     "output_type": "stream",
     "text": [
      "(95540, 195)\n",
      "(136487, 195)\n",
      "(136487,)\n"
     ]
    }
   ],
   "source": [
    "print(X_train.shape)\n",
    "print(X.shape)\n",
    "print(y.shape)"
   ]
  },
  {
   "cell_type": "markdown",
   "metadata": {},
   "source": [
    "Here we define our validation set"
   ]
  },
  {
   "cell_type": "markdown",
   "metadata": {},
   "source": [
    "<h1 align='center'>Modelling Using Undersampling</h1>"
   ]
  },
  {
   "cell_type": "markdown",
   "metadata": {},
   "source": [
    "We will use `imblearn`'s RandomUnderSampler to undersample from the majority class so that they match"
   ]
  },
  {
   "cell_type": "code",
   "execution_count": 8,
   "metadata": {},
   "outputs": [],
   "source": [
    "sampler = RandomUnderSampler(sampling_strategy=1.0, random_state=7)\n",
    "X_rus, y_rus = sampler.fit_resample(X_train, y_train)\n",
    "\n",
    "# Try with no undersampling\n",
    "#X_rus, y_rus = X_train, y_train"
   ]
  },
  {
   "cell_type": "code",
   "execution_count": 9,
   "metadata": {},
   "outputs": [
    {
     "name": "stdout",
     "output_type": "stream",
     "text": [
      "(8064, 195)\n",
      "(8064,)\n",
      "[4032 4032]\n"
     ]
    }
   ],
   "source": [
    "print(X_rus.shape)\n",
    "print(y_rus.shape)\n",
    "print(np.bincount(y_rus))"
   ]
  },
  {
   "cell_type": "markdown",
   "metadata": {},
   "source": [
    "<h1 align='center'>Basic Gradient Boosting</h1>"
   ]
  },
  {
   "cell_type": "code",
   "execution_count": 10,
   "metadata": {},
   "outputs": [
    {
     "name": "stdout",
     "output_type": "stream",
     "text": [
      "{'ccp_alpha': 0.0, 'criterion': 'friedman_mse', 'init': None, 'learning_rate': 0.1, 'loss': 'deviance', 'max_depth': 3, 'max_features': None, 'max_leaf_nodes': None, 'min_impurity_decrease': 0.0, 'min_impurity_split': None, 'min_samples_leaf': 1, 'min_samples_split': 2, 'min_weight_fraction_leaf': 0.0, 'n_estimators': 100, 'n_iter_no_change': None, 'presort': 'deprecated', 'random_state': None, 'subsample': 1.0, 'tol': 0.0001, 'validation_fraction': 0.1, 'verbose': 0, 'warm_start': False}\n",
      "[[30535  8684]\n",
      " [  169  1559]]\n",
      "              precision    recall  f1-score   support\n",
      "\n",
      "           0       0.99      0.78      0.87     39219\n",
      "           1       0.15      0.90      0.26      1728\n",
      "\n",
      "    accuracy                           0.78     40947\n",
      "   macro avg       0.57      0.84      0.57     40947\n",
      "weighted avg       0.96      0.78      0.85     40947\n",
      "\n",
      "ROC AUC prob1: 0.8912720889841753\n",
      "MCC: 0.31601897576278604\n",
      "F2: 0.4543864762459925\n",
      "PR_AUC: 0.2663190042652628\n",
      "CPU times: user 3.82 s, sys: 91.5 ms, total: 3.91 s\n",
      "Wall time: 3.91 s\n"
     ]
    }
   ],
   "source": [
    "%%time\n",
    "from sklearn.metrics import matthews_corrcoef\n",
    "from sklearn.utils import class_weight\n",
    "gb_rus = GradientBoostingClassifier()   # If not undersampling\n",
    "gb_rus.fit(X_rus, y_rus)\n",
    "print(gb_rus.get_params())\n",
    "y_pred = gb_rus.predict(X_test)\n",
    "probs = gb_rus.predict_proba(X_test)\n",
    "prob1 = probs[:, 1]  # Only positives\n",
    "precision, recall, pr_thresh = precision_recall_curve(y_test, prob1)\n",
    "print(confusion_matrix(y_pred=y_pred, y_true=y_test))\n",
    "print(classification_report(y_test, y_pred))\n",
    "print(f'ROC AUC prob1: {roc_auc_score(y_test, prob1)}')\n",
    "print(f'MCC: {matthews_corrcoef(y_test, y_pred)}')\n",
    "print(f'F2: {fbeta_score(y_test, y_pred, beta=2.0, average=None)[1]}')\n",
    "print(f'PR_AUC: {auc(recall, precision)}')"
   ]
  },
  {
   "cell_type": "code",
   "execution_count": 11,
   "metadata": {},
   "outputs": [
    {
     "name": "stdout",
     "output_type": "stream",
     "text": [
      "{'ccp_alpha': 0.0, 'criterion': 'friedman_mse', 'init': None, 'learning_rate': 0.1, 'loss': 'deviance', 'max_depth': 3, 'max_features': None, 'max_leaf_nodes': None, 'min_impurity_decrease': 0.0, 'min_impurity_split': None, 'min_samples_leaf': 1, 'min_samples_split': 2, 'min_weight_fraction_leaf': 0.0, 'n_estimators': 100, 'n_iter_no_change': None, 'presort': 'deprecated', 'random_state': None, 'subsample': 1.0, 'tol': 0.0001, 'validation_fraction': 0.1, 'verbose': 0, 'warm_start': False}\n",
      "[[30530  8689]\n",
      " [  169  1559]]\n",
      "              precision    recall  f1-score   support\n",
      "\n",
      "           0       0.99      0.78      0.87     39219\n",
      "           1       0.15      0.90      0.26      1728\n",
      "\n",
      "    accuracy                           0.78     40947\n",
      "   macro avg       0.57      0.84      0.57     40947\n",
      "weighted avg       0.96      0.78      0.85     40947\n",
      "\n",
      "ROC AUC prob1: 0.8949700512459475\n",
      "MCC: 0.3159084300584172\n",
      "F2: 0.45425407925407923\n",
      "PR_AUC: 0.28249431802839825\n",
      "CPU times: user 42.8 s, sys: 159 ms, total: 43 s\n",
      "Wall time: 43 s\n"
     ]
    }
   ],
   "source": [
    "%%time\n",
    "# Not undersampled\n",
    "from sklearn.metrics import matthews_corrcoef\n",
    "from sklearn.utils import class_weight\n",
    "gb_weight = GradientBoostingClassifier()  \n",
    "weights = class_weight.compute_sample_weight('balanced', y=y_train)\n",
    "gb_weight.fit(X_train, y_train, sample_weight=weights)\n",
    "print(gb_weight.get_params())\n",
    "y_pred = gb_weight.predict(X_test)\n",
    "probs = gb_weight.predict_proba(X_test)\n",
    "prob1 = probs[:, 1]  # Only positives\n",
    "precision, recall, pr_thresh = precision_recall_curve(y_test, prob1)\n",
    "print(confusion_matrix(y_pred=y_pred, y_true=y_test))\n",
    "print(classification_report(y_test, y_pred))\n",
    "print(f'ROC AUC prob1: {roc_auc_score(y_test, prob1)}')\n",
    "print(f'MCC: {matthews_corrcoef(y_test, y_pred)}')\n",
    "print(f'F2: {fbeta_score(y_test, y_pred, beta=2.0, average=None)[1]}')\n",
    "print(f'PR_AUC: {auc(recall, precision)}')"
   ]
  },
  {
   "cell_type": "code",
   "execution_count": 12,
   "metadata": {},
   "outputs": [
    {
     "name": "stdout",
     "output_type": "stream",
     "text": [
      "{'ccp_alpha': 0.0, 'criterion': 'friedman_mse', 'init': None, 'learning_rate': 0.2, 'loss': 'deviance', 'max_depth': 3, 'max_features': 15, 'max_leaf_nodes': 100, 'min_impurity_decrease': 0.0, 'min_impurity_split': None, 'min_samples_leaf': 1, 'min_samples_split': 2, 'min_weight_fraction_leaf': 0.0, 'n_estimators': 100, 'n_iter_no_change': None, 'presort': 'deprecated', 'random_state': None, 'subsample': 1.0, 'tol': 0.0001, 'validation_fraction': 0.1, 'verbose': 0, 'warm_start': False}\n",
      "[[30642  8577]\n",
      " [  180  1548]]\n",
      "              precision    recall  f1-score   support\n",
      "\n",
      "           0       0.99      0.78      0.87     39219\n",
      "           1       0.15      0.90      0.26      1728\n",
      "\n",
      "    accuracy                           0.79     40947\n",
      "   macro avg       0.57      0.84      0.57     40947\n",
      "weighted avg       0.96      0.79      0.85     40947\n",
      "\n",
      "ROC AUC prob1: 0.8907457606290601\n",
      "MCC: 0.3155510213978344\n",
      "F2: 0.45430533544638135\n",
      "PR_AUC: 0.2628961420578432\n",
      "CPU times: user 5.71 s, sys: 188 ms, total: 5.89 s\n",
      "Wall time: 5.89 s\n"
     ]
    }
   ],
   "source": [
    "%%time\n",
    "# Not undersampled - many parameters\n",
    "from sklearn.metrics import matthews_corrcoef\n",
    "from sklearn.utils import class_weight\n",
    "gb_weight = GradientBoostingClassifier(learning_rate=0.2, max_features = 15, max_leaf_nodes=100)  \n",
    "#'learning_rate': 0.1, 'loss': 'deviance', 'max_depth': 3, 'max_features': None, 'max_leaf_nodes': None, 'min_impurity_decrease': 0.0, 'min_impurity_split': None, 'min_samples_leaf': 1, 'min_samples_split': 2, 'min_weight_fraction_leaf': 0.0, 'n_estimators': 100, 'n_iter_no_change': None, 'presort': 'deprecated', 'random_state': None, 'subsample': 1.0, 'tol': 0.0001, 'validation_fraction': 0.1, 'verbose': 0, 'warm_start': False\n",
    "weights = class_weight.compute_sample_weight('balanced', y=y_train)\n",
    "gb_weight.fit(X_train, y_train, sample_weight=weights)\n",
    "print(gb_weight.get_params())\n",
    "y_pred = gb_weight.predict(X_test)\n",
    "probs = gb_weight.predict_proba(X_test)\n",
    "prob1 = probs[:, 1]  # Only positives\n",
    "precision, recall, pr_thresh = precision_recall_curve(y_test, prob1)\n",
    "print(confusion_matrix(y_pred=y_pred, y_true=y_test))\n",
    "print(classification_report(y_test, y_pred))\n",
    "print(f'ROC AUC prob1: {roc_auc_score(y_test, prob1)}')\n",
    "print(f'MCC: {matthews_corrcoef(y_test, y_pred)}')\n",
    "print(f'F2: {fbeta_score(y_test, y_pred, beta=2.0, average=None)[1]}')\n",
    "print(f'PR_AUC: {auc(recall, precision)}')"
   ]
  },
  {
   "cell_type": "markdown",
   "metadata": {},
   "source": [
    "<h1 align='center'>Hyperparameter Tuning with Cross Validation</h1>"
   ]
  },
  {
   "cell_type": "code",
   "execution_count": 13,
   "metadata": {
    "scrolled": false
   },
   "outputs": [
    {
     "name": "stderr",
     "output_type": "stream",
     "text": [
      "\u001b[32m[I 2021-12-09 11:23:25,197]\u001b[0m A new study created in memory with name: no-name-83ac6fac-bd87-4e13-a472-b95d747494ba\u001b[0m\n",
      "\u001b[32m[I 2021-12-09 11:23:37,400]\u001b[0m Trial 0 finished with value: 0.3152829671332036 and parameters: {'n_estimators': 24, 'subsample': 0.955983758448023, 'max_depth': 10, 'max_features': 17, 'learning_rate': 0.1973587414395923, 'min_samples_leaf': 27}. Best is trial 0 with value: 0.3152829671332036.\u001b[0m\n"
     ]
    },
    {
     "name": "stdout",
     "output_type": "stream",
     "text": [
      "MCC: [0.3138936185267518, 0.31420967625081936, 0.32035485850998396, 0.31267371524525933]\n",
      "ROC: [0.889038584779933, 0.88843264046128, 0.8933235738836873, 0.8892968412669272]\n",
      "PR_AUC: [0.25017462769277027, 0.2507082785687574, 0.2508721096895517, 0.25410747744698314]\n"
     ]
    },
    {
     "name": "stderr",
     "output_type": "stream",
     "text": [
      "\u001b[32m[I 2021-12-09 11:24:07,170]\u001b[0m Trial 1 finished with value: 0.31563438937732824 and parameters: {'n_estimators': 105, 'subsample': 0.8144102266719524, 'max_depth': 7, 'max_features': 15, 'learning_rate': 0.16150759953451288, 'min_samples_leaf': 41}. Best is trial 1 with value: 0.31563438937732824.\u001b[0m\n"
     ]
    },
    {
     "name": "stdout",
     "output_type": "stream",
     "text": [
      "MCC: [0.3146507782962976, 0.3149759738994252, 0.3201994417363983, 0.3127113635771919]\n",
      "ROC: [0.8906296321794532, 0.8855576294120447, 0.8952697798312357, 0.8874103497105011]\n",
      "PR_AUC: [0.26807612257059, 0.2376509234007379, 0.2467480186133173, 0.25513550793652606]\n"
     ]
    },
    {
     "name": "stderr",
     "output_type": "stream",
     "text": [
      "\u001b[32m[I 2021-12-09 11:24:33,109]\u001b[0m Trial 2 finished with value: 0.32035225259792793 and parameters: {'n_estimators': 82, 'subsample': 0.813187269381181, 'max_depth': 8, 'max_features': 20, 'learning_rate': 0.10560624242958987, 'min_samples_leaf': 23}. Best is trial 2 with value: 0.32035225259792793.\u001b[0m\n"
     ]
    },
    {
     "name": "stdout",
     "output_type": "stream",
     "text": [
      "MCC: [0.3199162653601873, 0.3167278710442086, 0.3250726728418134, 0.3196922011455024]\n",
      "ROC: [0.8928373119080161, 0.8905349274830181, 0.8968487368174123, 0.891043789459727]\n",
      "PR_AUC: [0.26925765446585365, 0.2609829160462497, 0.2549562581277983, 0.2711168370161262]\n"
     ]
    },
    {
     "name": "stderr",
     "output_type": "stream",
     "text": [
      "\u001b[32m[I 2021-12-09 11:25:52,379]\u001b[0m Trial 3 finished with value: 0.31408737850015656 and parameters: {'n_estimators': 187, 'subsample': 0.8049798455100696, 'max_depth': 13, 'max_features': 20, 'learning_rate': 0.10763634548251577, 'min_samples_leaf': 28}. Best is trial 2 with value: 0.32035225259792793.\u001b[0m\n"
     ]
    },
    {
     "name": "stdout",
     "output_type": "stream",
     "text": [
      "MCC: [0.3134111221345986, 0.3112484963357451, 0.31920184579949984, 0.31248804973078276]\n",
      "ROC: [0.8872197531430825, 0.8832559461885239, 0.8920482265127252, 0.883968577562906]\n",
      "PR_AUC: [0.25052838401047917, 0.2306936841639274, 0.2456176578314017, 0.2381964610844519]\n"
     ]
    },
    {
     "name": "stderr",
     "output_type": "stream",
     "text": [
      "\u001b[32m[I 2021-12-09 11:27:09,005]\u001b[0m Trial 4 finished with value: 0.3116463771041588 and parameters: {'n_estimators': 183, 'subsample': 0.8266338891518501, 'max_depth': 12, 'max_features': 18, 'learning_rate': 0.16028158890606967, 'min_samples_leaf': 24}. Best is trial 2 with value: 0.32035225259792793.\u001b[0m\n"
     ]
    },
    {
     "name": "stdout",
     "output_type": "stream",
     "text": [
      "MCC: [0.31280106480357883, 0.31013566863762687, 0.31441111571655345, 0.3092376592588762]\n",
      "ROC: [0.8870790028830006, 0.8839340930107636, 0.8881839689193507, 0.8826122424174426]\n",
      "PR_AUC: [0.24422871457433917, 0.24315888171887176, 0.23102388026789175, 0.23840228080647002]\n"
     ]
    },
    {
     "name": "stderr",
     "output_type": "stream",
     "text": [
      "\u001b[32m[I 2021-12-09 11:27:28,007]\u001b[0m Trial 5 finished with value: 0.3187437529489088 and parameters: {'n_estimators': 49, 'subsample': 0.8981531778182141, 'max_depth': 9, 'max_features': 15, 'learning_rate': 0.12390684629367116, 'min_samples_leaf': 42}. Best is trial 2 with value: 0.32035225259792793.\u001b[0m\n"
     ]
    },
    {
     "name": "stdout",
     "output_type": "stream",
     "text": [
      "MCC: [0.3181746179722698, 0.31889655397445227, 0.3200604546088654, 0.3178433852400475]\n",
      "ROC: [0.8944534750695252, 0.8910643133495162, 0.8963759145367141, 0.8909975831182916]\n",
      "PR_AUC: [0.27813950306306445, 0.2664411889998704, 0.2559678509404887, 0.2594274785111417]\n"
     ]
    },
    {
     "name": "stderr",
     "output_type": "stream",
     "text": [
      "\u001b[32m[I 2021-12-09 11:28:41,884]\u001b[0m Trial 6 finished with value: 0.3121698763711181 and parameters: {'n_estimators': 156, 'subsample': 0.8627989354425325, 'max_depth': 13, 'max_features': 13, 'learning_rate': 0.13434115190556806, 'min_samples_leaf': 18}. Best is trial 2 with value: 0.32035225259792793.\u001b[0m\n"
     ]
    },
    {
     "name": "stdout",
     "output_type": "stream",
     "text": [
      "MCC: [0.3123050152366151, 0.3099568462078223, 0.3146173565268046, 0.31180028751323036]\n",
      "ROC: [0.8875334451855932, 0.8828229861493585, 0.8884565450570822, 0.8842243326907582]\n",
      "PR_AUC: [0.2501124971544412, 0.245341556634164, 0.24394570431338175, 0.23427986699844638]\n"
     ]
    },
    {
     "name": "stderr",
     "output_type": "stream",
     "text": [
      "\u001b[32m[I 2021-12-09 11:29:35,993]\u001b[0m Trial 7 finished with value: 0.3126011234989732 and parameters: {'n_estimators': 135, 'subsample': 0.8740702165976071, 'max_depth': 11, 'max_features': 17, 'learning_rate': 0.12955901949366017, 'min_samples_leaf': 46}. Best is trial 2 with value: 0.32035225259792793.\u001b[0m\n"
     ]
    },
    {
     "name": "stdout",
     "output_type": "stream",
     "text": [
      "MCC: [0.30967409974197835, 0.31015356363815355, 0.31880127474683184, 0.31177555586892897]\n",
      "ROC: [0.8870125587309359, 0.8841201876330158, 0.891735426908458, 0.8842538265522951]\n",
      "PR_AUC: [0.25105763582434576, 0.23723241120257244, 0.24298092328400575, 0.24517450495291537]\n"
     ]
    },
    {
     "name": "stderr",
     "output_type": "stream",
     "text": [
      "\u001b[32m[I 2021-12-09 11:29:55,616]\u001b[0m Trial 8 finished with value: 0.31555412342470923 and parameters: {'n_estimators': 44, 'subsample': 0.9482237745826528, 'max_depth': 10, 'max_features': 14, 'learning_rate': 0.15612558423606065, 'min_samples_leaf': 27}. Best is trial 2 with value: 0.32035225259792793.\u001b[0m\n"
     ]
    },
    {
     "name": "stdout",
     "output_type": "stream",
     "text": [
      "MCC: [0.31333118526184917, 0.3129387868882539, 0.3215506519354949, 0.31439586961323895]\n",
      "ROC: [0.8918953433422405, 0.8880106021663301, 0.8938172197233951, 0.8891287071319048]\n",
      "PR_AUC: [0.25313198235115797, 0.2600553906845552, 0.24955463332384956, 0.2556274980075258]\n"
     ]
    },
    {
     "name": "stderr",
     "output_type": "stream",
     "text": [
      "\u001b[32m[I 2021-12-09 11:30:11,381]\u001b[0m Trial 9 finished with value: 0.31816975084184407 and parameters: {'n_estimators': 89, 'subsample': 0.8002853761125517, 'max_depth': 4, 'max_features': 17, 'learning_rate': 0.14292147161182367, 'min_samples_leaf': 35}. Best is trial 2 with value: 0.32035225259792793.\u001b[0m\n"
     ]
    },
    {
     "name": "stdout",
     "output_type": "stream",
     "text": [
      "MCC: [0.3184256330367897, 0.31479248689347905, 0.31961465249360493, 0.31984623094350273]\n",
      "ROC: [0.8956328853293353, 0.8920367841795347, 0.9001234433327213, 0.891846965957114]\n",
      "PR_AUC: [0.2865464614528554, 0.2675354912744491, 0.2680505913482358, 0.2604620845900611]\n"
     ]
    },
    {
     "name": "stderr",
     "output_type": "stream",
     "text": [
      "\u001b[32m[I 2021-12-09 11:31:14,518]\u001b[0m Trial 10 finished with value: 0.31159321208617335 and parameters: {'n_estimators': 78, 'subsample': 0.9869602664638994, 'max_depth': 18, 'max_features': 10, 'learning_rate': 0.09172353354166263, 'min_samples_leaf': 4}. Best is trial 2 with value: 0.32035225259792793.\u001b[0m\n"
     ]
    },
    {
     "name": "stdout",
     "output_type": "stream",
     "text": [
      "MCC: [0.3138161541159152, 0.3087751887620664, 0.3169955344602467, 0.3067859710064651]\n",
      "ROC: [0.8857425766136984, 0.881829808627243, 0.889855675737239, 0.8834629320808217]\n",
      "PR_AUC: [0.24542094134327236, 0.23083401870597198, 0.24708570010263997, 0.23425477327491287]\n"
     ]
    },
    {
     "name": "stderr",
     "output_type": "stream",
     "text": [
      "\u001b[32m[I 2021-12-09 11:31:32,102]\u001b[0m Trial 11 finished with value: 0.31800238321670815 and parameters: {'n_estimators': 59, 'subsample': 0.913378595521485, 'max_depth': 6, 'max_features': 12, 'learning_rate': 0.10567843309335981, 'min_samples_leaf': 12}. Best is trial 2 with value: 0.32035225259792793.\u001b[0m\n"
     ]
    },
    {
     "name": "stdout",
     "output_type": "stream",
     "text": [
      "MCC: [0.31730755903580155, 0.31752785985732573, 0.32104396627138615, 0.3161301477023192]\n",
      "ROC: [0.8956716532715936, 0.8903834467154872, 0.8985199442948548, 0.8916613224979516]\n",
      "PR_AUC: [0.27701758730308845, 0.2630299622489142, 0.26419687241080114, 0.2680968270264322]\n"
     ]
    },
    {
     "name": "stderr",
     "output_type": "stream",
     "text": [
      "\u001b[32m[I 2021-12-09 11:31:37,225]\u001b[0m Trial 12 finished with value: 0.31561254766985064 and parameters: {'n_estimators': 10, 'subsample': 0.8700428616176594, 'max_depth': 7, 'max_features': 19, 'learning_rate': 0.08034296707314204, 'min_samples_leaf': 37}. Best is trial 2 with value: 0.32035225259792793.\u001b[0m\n"
     ]
    },
    {
     "name": "stdout",
     "output_type": "stream",
     "text": [
      "MCC: [0.3148135409952374, 0.31622373138890536, 0.31538775942972425, 0.31602515886553567]\n",
      "ROC: [0.8902435782693837, 0.8837910160366904, 0.8934760002107854, 0.8874507762750357]\n",
      "PR_AUC: [0.24373334903585886, 0.2450869348051489, 0.25484446778008657, 0.24614093899564693]\n"
     ]
    },
    {
     "name": "stderr",
     "output_type": "stream",
     "text": [
      "\u001b[32m[I 2021-12-09 11:32:05,154]\u001b[0m Trial 13 finished with value: 0.3194684083307261 and parameters: {'n_estimators': 55, 'subsample': 0.9076814971706537, 'max_depth': 16, 'max_features': 15, 'learning_rate': 0.11562625731777346, 'min_samples_leaf': 49}. Best is trial 2 with value: 0.32035225259792793.\u001b[0m\n"
     ]
    },
    {
     "name": "stdout",
     "output_type": "stream",
     "text": [
      "MCC: [0.31730464507083583, 0.31822993194883564, 0.3235941253547109, 0.318744930948522]\n",
      "ROC: [0.8912269495950879, 0.8873191962616187, 0.8943408153655766, 0.8891707592586926]\n",
      "PR_AUC: [0.2582339968968553, 0.24201043820702847, 0.24933235667748604, 0.25117678352198375]\n"
     ]
    },
    {
     "name": "stderr",
     "output_type": "stream",
     "text": [
      "\u001b[32m[I 2021-12-09 11:32:48,175]\u001b[0m Trial 14 finished with value: 0.3129983554246025 and parameters: {'n_estimators': 75, 'subsample': 0.8403871437580014, 'max_depth': 17, 'max_features': 11, 'learning_rate': 0.11284056296551773, 'min_samples_leaf': 16}. Best is trial 2 with value: 0.32035225259792793.\u001b[0m\n"
     ]
    },
    {
     "name": "stdout",
     "output_type": "stream",
     "text": [
      "MCC: [0.31048739817652454, 0.31022434930310205, 0.3177396477991388, 0.31354202641964457]\n",
      "ROC: [0.88780999479836, 0.8842188658044864, 0.8898119037662594, 0.8849801022680526]\n",
      "PR_AUC: [0.2500374801747404, 0.23210746335704674, 0.2369947666035628, 0.237872148110495]\n"
     ]
    },
    {
     "name": "stderr",
     "output_type": "stream",
     "text": [
      "\u001b[32m[I 2021-12-09 11:34:18,213]\u001b[0m Trial 15 finished with value: 0.3128665877521826 and parameters: {'n_estimators': 127, 'subsample': 0.9121780388310307, 'max_depth': 16, 'max_features': 20, 'learning_rate': 0.09625971787342757, 'min_samples_leaf': 3}. Best is trial 2 with value: 0.32035225259792793.\u001b[0m\n"
     ]
    },
    {
     "name": "stdout",
     "output_type": "stream",
     "text": [
      "MCC: [0.3175002426678758, 0.30922317103462305, 0.316624769653458, 0.30811816765277367]\n",
      "ROC: [0.888922121589186, 0.8840768831296875, 0.8902192805757841, 0.8851124634089124]\n",
      "PR_AUC: [0.2529436280003533, 0.24034167533902268, 0.2510022391520761, 0.24252355537417647]\n"
     ]
    },
    {
     "name": "stderr",
     "output_type": "stream",
     "text": [
      "\u001b[32m[I 2021-12-09 11:35:19,837]\u001b[0m Trial 16 finished with value: 0.3128520647830608 and parameters: {'n_estimators': 109, 'subsample': 0.9406334366958918, 'max_depth': 20, 'max_features': 16, 'learning_rate': 0.11797660761955531, 'min_samples_leaf': 49}. Best is trial 2 with value: 0.32035225259792793.\u001b[0m\n"
     ]
    },
    {
     "name": "stdout",
     "output_type": "stream",
     "text": [
      "MCC: [0.3112271431522205, 0.3098094049230841, 0.3179767109109325, 0.3123950001460063]\n",
      "ROC: [0.8886233247659262, 0.8835278211247783, 0.8912160278508728, 0.8850820345834649]\n",
      "PR_AUC: [0.2474482931231553, 0.23640565183250617, 0.2363021431704712, 0.23701729456841308]\n"
     ]
    },
    {
     "name": "stderr",
     "output_type": "stream",
     "text": [
      "\u001b[32m[I 2021-12-09 11:35:36,534]\u001b[0m Trial 17 finished with value: 0.31886634684111476 and parameters: {'n_estimators': 33, 'subsample': 0.844657081309488, 'max_depth': 15, 'max_features': 13, 'learning_rate': 0.08038437038246449, 'min_samples_leaf': 32}. Best is trial 2 with value: 0.32035225259792793.\u001b[0m\n"
     ]
    },
    {
     "name": "stdout",
     "output_type": "stream",
     "text": [
      "MCC: [0.31940493020617344, 0.3163453905631556, 0.3227403687598206, 0.3169746978353094]\n",
      "ROC: [0.8930771865586901, 0.8881592993764832, 0.8937097127878749, 0.8912470378643385]\n",
      "PR_AUC: [0.25233222568508956, 0.24538376108884238, 0.24552599780069304, 0.26109603518737434]\n"
     ]
    },
    {
     "name": "stderr",
     "output_type": "stream",
     "text": [
      "\u001b[32m[I 2021-12-09 11:35:47,094]\u001b[0m Trial 18 finished with value: 0.3121460376789501 and parameters: {'n_estimators': 65, 'subsample': 0.8931260292704439, 'max_depth': 3, 'max_features': 14, 'learning_rate': 0.18656989022946982, 'min_samples_leaf': 21}. Best is trial 2 with value: 0.32035225259792793.\u001b[0m\n"
     ]
    },
    {
     "name": "stdout",
     "output_type": "stream",
     "text": [
      "MCC: [0.3126730149386404, 0.31045075735218275, 0.3143410094386351, 0.31111936898634207]\n",
      "ROC: [0.8956149196975569, 0.8899795971618764, 0.8993258903983845, 0.8917295323650507]\n",
      "PR_AUC: [0.2854119101936469, 0.2688828042961129, 0.267363358861766, 0.2708767166302575]\n"
     ]
    },
    {
     "name": "stderr",
     "output_type": "stream",
     "text": [
      "\u001b[32m[I 2021-12-09 11:36:48,305]\u001b[0m Trial 19 finished with value: 0.31452160727090805 and parameters: {'n_estimators': 99, 'subsample': 0.9269591326190438, 'max_depth': 15, 'max_features': 18, 'learning_rate': 0.1442383626335499, 'min_samples_leaf': 7}. Best is trial 2 with value: 0.32035225259792793.\u001b[0m\n"
     ]
    },
    {
     "name": "stdout",
     "output_type": "stream",
     "text": [
      "MCC: [0.31251085117391364, 0.31505715657610706, 0.3198340100869046, 0.31068441124670676]\n",
      "ROC: [0.8868108039423671, 0.8844996013775847, 0.8888101630867146, 0.8841035098545197]\n",
      "PR_AUC: [0.25198692887952945, 0.23781803821542538, 0.23800332107518252, 0.2401037346518432]\n"
     ]
    },
    {
     "name": "stderr",
     "output_type": "stream",
     "text": [
      "\u001b[32m[I 2021-12-09 11:38:16,750]\u001b[0m Trial 20 finished with value: 0.31212397101582884 and parameters: {'n_estimators': 123, 'subsample': 0.9666012370478584, 'max_depth': 20, 'max_features': 16, 'learning_rate': 0.09516443398500667, 'min_samples_leaf': 11}. Best is trial 2 with value: 0.32035225259792793.\u001b[0m\n"
     ]
    },
    {
     "name": "stdout",
     "output_type": "stream",
     "text": [
      "MCC: [0.31413817832304636, 0.31036721235155335, 0.313295770458798, 0.3106947229299177]\n",
      "ROC: [0.8875965958155695, 0.8840439691573343, 0.8896101702262205, 0.8844498502357808]\n",
      "PR_AUC: [0.24312034643646108, 0.23185240723325717, 0.24163823043697236, 0.2440584336620562]\n"
     ]
    },
    {
     "name": "stderr",
     "output_type": "stream",
     "text": [
      "\u001b[32m[I 2021-12-09 11:38:30,074]\u001b[0m Trial 21 finished with value: 0.31793837940715775 and parameters: {'n_estimators': 26, 'subsample': 0.8422960162108752, 'max_depth': 15, 'max_features': 13, 'learning_rate': 0.0870304757548705, 'min_samples_leaf': 33}. Best is trial 2 with value: 0.32035225259792793.\u001b[0m\n"
     ]
    },
    {
     "name": "stdout",
     "output_type": "stream",
     "text": [
      "MCC: [0.3176269085144189, 0.31863611859286245, 0.3194779160842686, 0.316012574437081]\n",
      "ROC: [0.8924464983273155, 0.8871628708293386, 0.895769970218061, 0.8910764494490511]\n",
      "PR_AUC: [0.25125533517934595, 0.23879311429442132, 0.2521773078345739, 0.26034958484836973]\n"
     ]
    },
    {
     "name": "stderr",
     "output_type": "stream",
     "text": [
      "\u001b[32m[I 2021-12-09 11:38:47,929]\u001b[0m Trial 22 finished with value: 0.3181297485194846 and parameters: {'n_estimators': 36, 'subsample': 0.8496302102601551, 'max_depth': 14, 'max_features': 13, 'learning_rate': 0.09892424992504256, 'min_samples_leaf': 31}. Best is trial 2 with value: 0.32035225259792793.\u001b[0m\n"
     ]
    },
    {
     "name": "stdout",
     "output_type": "stream",
     "text": [
      "MCC: [0.318453810015736, 0.31820750097023204, 0.32128512539987825, 0.3145725576920922]\n",
      "ROC: [0.8914366407094629, 0.8879781344130985, 0.8934805473961203, 0.892269633392151]\n",
      "PR_AUC: [0.25323851815539183, 0.2494129906659161, 0.24715354026872283, 0.26404838420760207]\n"
     ]
    },
    {
     "name": "stderr",
     "output_type": "stream",
     "text": [
      "\u001b[32m[I 2021-12-09 11:39:16,110]\u001b[0m Trial 23 finished with value: 0.31856386681302135 and parameters: {'n_estimators': 58, 'subsample': 0.8265540110211977, 'max_depth': 18, 'max_features': 14, 'learning_rate': 0.08190386388453622, 'min_samples_leaf': 40}. Best is trial 2 with value: 0.32035225259792793.\u001b[0m\n"
     ]
    },
    {
     "name": "stdout",
     "output_type": "stream",
     "text": [
      "MCC: [0.31710164019681464, 0.3175834766910986, 0.3217024938288767, 0.3178678565352953]\n",
      "ROC: [0.8920012247652461, 0.8866777668985307, 0.8957414334428059, 0.8898455907101985]\n",
      "PR_AUC: [0.2540962794681403, 0.2441543272593494, 0.2548644739892797, 0.251754640289544]\n"
     ]
    },
    {
     "name": "stderr",
     "output_type": "stream",
     "text": [
      "\u001b[32m[I 2021-12-09 11:39:56,259]\u001b[0m Trial 24 finished with value: 0.3165383440163901 and parameters: {'n_estimators': 79, 'subsample': 0.8799731267520511, 'max_depth': 17, 'max_features': 11, 'learning_rate': 0.11764679805898987, 'min_samples_leaf': 49}. Best is trial 2 with value: 0.32035225259792793.\u001b[0m\n"
     ]
    },
    {
     "name": "stdout",
     "output_type": "stream",
     "text": [
      "MCC: [0.3171920886697995, 0.3135512030302957, 0.3200714342494366, 0.3153386501160285]\n",
      "ROC: [0.8905542423964261, 0.8866425368364509, 0.8915925305468863, 0.8863563053966117]\n",
      "PR_AUC: [0.2517535011202005, 0.24690433907681875, 0.24431934366495422, 0.24838861276610702]\n",
      "CPU times: user 16min 9s, sys: 22.3 s, total: 16min 31s\n",
      "Wall time: 16min 31s\n"
     ]
    }
   ],
   "source": [
    "%%time\n",
    "def create_model(trial):\n",
    "    n_estimators = trial.suggest_int('n_estimators', 10, 200)\n",
    "    subsample = trial.suggest_float('subsample', 0.8, 1.0)\n",
    "    max_depth = trial.suggest_int('max_depth',3,20)\n",
    "    max_features = trial.suggest_int('max_features',10,20)\n",
    "    learning_rate = trial.suggest_uniform('learning_rate',0.08,0.2)\n",
    "    min_samples_leaf = trial.suggest_int('min_samples_leaf',1,50)\n",
    "    model = GradientBoostingClassifier(n_estimators=n_estimators, subsample=subsample, \n",
    "                           max_depth=max_depth, learning_rate=learning_rate, \n",
    "                           min_samples_leaf=min_samples_leaf)\n",
    "#    model = GradientBoostingClassifier(n_estimators=n_estimators, subsample=subsample, \n",
    "#                           learning_rate=learning_rate, \n",
    "#                           min_samples_leaf=min_samples_leaf)\n",
    "#    model = GradientBoostingClassifier(n_estimators=n_estimators, learning_rate=learning_rate) \n",
    "    return model\n",
    "\n",
    "def objective(trial):\n",
    "    model = create_model(trial)\n",
    "    \n",
    "    mcc_list = []\n",
    "    roc_list = []\n",
    "    pr_list = []\n",
    "    f2_list = []\n",
    "    cv = StratifiedKFold(n_splits=4, shuffle=True, random_state=11)\n",
    "    for idx, (train_idx, test_idx) in enumerate(cv.split(X, y)):\n",
    "        X_train_c, X_test_c = X.iloc[train_idx], X.iloc[test_idx]\n",
    "        y_train_c, y_test_c = y[train_idx], y[test_idx]\n",
    "        sampler = RandomUnderSampler(sampling_strategy=1.0, random_state=7)\n",
    "        X_res, y_res = sampler.fit_resample(X_train_c, y_train_c)\n",
    "\n",
    "#        weights = class_weight.compute_sample_weight('balanced', y=y_train)\n",
    "#        model.fit(X_train, y_train, sample_weight=weights)\n",
    "        model.fit(X_res, y_res)\n",
    "        y_pred = model.predict(X_test_c)\n",
    "        probs = model.predict_proba(X_test_c)\n",
    "        prob1 = probs[:, 1]  # Only positives\n",
    "        precision, recall, pr_thresh = precision_recall_curve(y_test_c, prob1)\n",
    "        roc = roc_auc_score(y_test_c, prob1)\n",
    "        roc_list.append(roc)\n",
    "        mcc = matthews_corrcoef(y_test_c, y_pred)  # MWB\n",
    "        mcc_list.append(mcc)\n",
    "        f2 = fbeta_score(y_test_c, y_pred, beta=2.0, average=None)[1]\n",
    "        pr_auc = auc(recall, precision)\n",
    "        pr_list.append(pr_auc)\n",
    "        avg_precision = average_precision_score(y_test_c, prob1)\n",
    "#        print(f'ROC: {roc}')\n",
    "#        print(f'PR_AUC: {pr_auc}')\n",
    "#        print(f'avg_prec: {avg_precision}')\n",
    "        \n",
    "    print(f'MCC: {mcc_list}')\n",
    "    print(f'ROC: {roc_list}')\n",
    "    print(f'PR_AUC: {pr_list}')\n",
    "    return np.mean(mcc_list)\n",
    "\n",
    "sampler = TPESampler(seed=7)\n",
    "study = optuna.create_study(sampler=sampler,direction='maximize')\n",
    "#study.optimize(objective,n_trials=60)\n",
    "study.optimize(objective,n_trials=25)\n",
    "#study.optimize(objective,n_trials=5)"
   ]
  },
  {
   "cell_type": "code",
   "execution_count": 14,
   "metadata": {},
   "outputs": [
    {
     "data": {
      "text/plain": [
       "FrozenTrial(number=2, values=[0.32035225259792793], datetime_start=datetime.datetime(2021, 12, 9, 11, 24, 7, 171647), datetime_complete=datetime.datetime(2021, 12, 9, 11, 24, 33, 109668), params={'n_estimators': 82, 'subsample': 0.813187269381181, 'max_depth': 8, 'max_features': 20, 'learning_rate': 0.10560624242958987, 'min_samples_leaf': 23}, distributions={'n_estimators': IntUniformDistribution(high=200, low=10, step=1), 'subsample': UniformDistribution(high=1.0, low=0.8), 'max_depth': IntUniformDistribution(high=20, low=3, step=1), 'max_features': IntUniformDistribution(high=20, low=10, step=1), 'learning_rate': UniformDistribution(high=0.2, low=0.08), 'min_samples_leaf': IntUniformDistribution(high=50, low=1, step=1)}, user_attrs={}, system_attrs={}, intermediate_values={}, trial_id=2, state=TrialState.COMPLETE, value=None)"
      ]
     },
     "execution_count": 14,
     "metadata": {},
     "output_type": "execute_result"
    }
   ],
   "source": [
    "best = study.best_trial\n",
    "best"
   ]
  },
  {
   "cell_type": "code",
   "execution_count": 15,
   "metadata": {},
   "outputs": [
    {
     "name": "stdout",
     "output_type": "stream",
     "text": [
      "[[30774  8445]\n",
      " [  184  1544]]\n",
      "              precision    recall  f1-score   support\n",
      "\n",
      "           0       0.99      0.78      0.88     39219\n",
      "           1       0.15      0.89      0.26      1728\n",
      "\n",
      "    accuracy                           0.79     40947\n",
      "   macro avg       0.57      0.84      0.57     40947\n",
      "weighted avg       0.96      0.79      0.85     40947\n",
      "\n",
      "ROC AUC prob1: 0.8929236056810146\n",
      "MCC: 0.3174852482145634\n",
      "F2: 0.45677770546121543\n",
      "PR_AUC: 0.26745242409145414\n",
      "CPU times: user 1.69 s, sys: 82.4 ms, total: 1.78 s\n",
      "Wall time: 1.77 s\n"
     ]
    }
   ],
   "source": [
    "%%time\n",
    "gb_params = study.best_params\n",
    "#gb_params['random_state'] = 42\n",
    "gb = GradientBoostingClassifier(**gb_params)\n",
    "gb.fit(X_rus, y_rus)\n",
    "y_pred = gb.predict(X_test)\n",
    "probs = gb.predict_proba(X_test)\n",
    "prob1 = probs[:, 1]  # Only positives\n",
    "precision, recall, pr_thresh = precision_recall_curve(y_test, prob1)\n",
    "print(confusion_matrix(y_pred=y_pred, y_true=y_test))\n",
    "print(classification_report(y_test, y_pred))\n",
    "print(f'ROC AUC prob1: {roc_auc_score(y_test, prob1)}')\n",
    "print(f'MCC: {matthews_corrcoef(y_test, y_pred)}')\n",
    "print(f'F2: {fbeta_score(y_test, y_pred, beta=2.0, average=None)[1]}')\n",
    "print(f'PR_AUC: {auc(recall, precision)}')"
   ]
  },
  {
   "cell_type": "code",
   "execution_count": 16,
   "metadata": {},
   "outputs": [
    {
     "name": "stdout",
     "output_type": "stream",
     "text": [
      "[[31741  7478]\n",
      " [  258  1470]]\n",
      "              precision    recall  f1-score   support\n",
      "\n",
      "           0       0.99      0.81      0.89     39219\n",
      "           1       0.16      0.85      0.28      1728\n",
      "\n",
      "    accuracy                           0.81     40947\n",
      "   macro avg       0.58      0.83      0.58     40947\n",
      "weighted avg       0.96      0.81      0.87     40947\n",
      "\n",
      "ROC AUC prob1: 0.8902099886274888\n",
      "MCC: 0.3211049909932943\n",
      "F2: 0.4634300126103405\n",
      "PR_AUC: 0.27181562205926146\n",
      "CPU times: user 12.9 s, sys: 146 ms, total: 13 s\n",
      "Wall time: 13 s\n"
     ]
    }
   ],
   "source": [
    "%%time\n",
    "gb_params = study.best_params\n",
    "gb_params['random_state'] = 42\n",
    "gb_weight = GradientBoostingClassifier(**gb_params)\n",
    "weights = class_weight.compute_sample_weight('balanced', y=y_train)\n",
    "gb_weight.fit(X_train, y_train, sample_weight=weights)\n",
    "y_pred = gb_weight.predict(X_test)\n",
    "probs = gb_weight.predict_proba(X_test)\n",
    "prob1 = probs[:, 1]  # Only positives\n",
    "precision, recall, pr_thresh = precision_recall_curve(y_test, prob1)\n",
    "print(confusion_matrix(y_pred=y_pred, y_true=y_test))\n",
    "print(classification_report(y_test, y_pred))\n",
    "print(f'ROC AUC prob1: {roc_auc_score(y_test, prob1)}')\n",
    "print(f'MCC: {matthews_corrcoef(y_test, y_pred)}')\n",
    "print(f'F2: {fbeta_score(y_test, y_pred, beta=2.0, average=None)[1]}')\n",
    "print(f'PR_AUC: {auc(recall, precision)}')"
   ]
  },
  {
   "cell_type": "code",
   "execution_count": 24,
   "metadata": {},
   "outputs": [
    {
     "data": {
      "text/plain": [
       "Delmode           0.231738\n",
       "CS_FTP            0.080058\n",
       "Admefface         0.072331\n",
       "TrialLabor        0.053035\n",
       "Lac_Min           0.034673\n",
       "Delfetalpos       0.031561\n",
       "transfus_yes      0.031359\n",
       "CS_NRFHT          0.026901\n",
       "prelaborCD        0.024939\n",
       "Insurance         0.020519\n",
       "BESTGA            0.020229\n",
       "Hxanemia          0.019345\n",
       "new_BMI           0.015959\n",
       "HospElectInd      0.014446\n",
       "new_age           0.013785\n",
       "Admpresent        0.011479\n",
       "AdmSBP            0.011131\n",
       "Admcontract       0.011049\n",
       "AdmDBP            0.010503\n",
       "Inoxy_incrdose    0.010442\n",
       "dtype: float64"
      ]
     },
     "execution_count": 24,
     "metadata": {},
     "output_type": "execute_result"
    }
   ],
   "source": [
    "# No Sitenum - 5\n",
    "coeffs_wgt = pd.Series(data=gb_weight.feature_importances_,\n",
    "                   index=X_test.columns.values).sort_values(ascending=False)\n",
    "coeffs_wgt[0:20]"
   ]
  },
  {
   "cell_type": "code",
   "execution_count": 1,
   "metadata": {},
   "outputs": [
    {
     "ename": "NameError",
     "evalue": "name 'plt' is not defined",
     "output_type": "error",
     "traceback": [
      "\u001b[0;31m---------------------------------------------------------------------------\u001b[0m",
      "\u001b[0;31mNameError\u001b[0m                                 Traceback (most recent call last)",
      "\u001b[0;32m<ipython-input-1-163c23260408>\u001b[0m in \u001b[0;36m<module>\u001b[0;34m\u001b[0m\n\u001b[0;32m----> 1\u001b[0;31m \u001b[0mplt\u001b[0m\u001b[0;34m.\u001b[0m\u001b[0mrcParams\u001b[0m\u001b[0;34m[\u001b[0m\u001b[0;34m\"figure.figsize\"\u001b[0m\u001b[0;34m]\u001b[0m \u001b[0;34m=\u001b[0m \u001b[0;34m(\u001b[0m\u001b[0;36m14\u001b[0m\u001b[0;34m,\u001b[0m \u001b[0;36m8\u001b[0m\u001b[0;34m)\u001b[0m\u001b[0;34m\u001b[0m\u001b[0;34m\u001b[0m\u001b[0m\n\u001b[0m\u001b[1;32m      2\u001b[0m \u001b[0mx_labels\u001b[0m \u001b[0;34m=\u001b[0m \u001b[0mcoeffs_wgt\u001b[0m\u001b[0;34m.\u001b[0m\u001b[0mindex\u001b[0m\u001b[0;34m.\u001b[0m\u001b[0mvalues\u001b[0m\u001b[0;34m[\u001b[0m\u001b[0;36m0\u001b[0m\u001b[0;34m:\u001b[0m\u001b[0;36m25\u001b[0m\u001b[0;34m]\u001b[0m\u001b[0;34m\u001b[0m\u001b[0;34m\u001b[0m\u001b[0m\n\u001b[1;32m      3\u001b[0m \u001b[0mprint\u001b[0m\u001b[0;34m(\u001b[0m\u001b[0mx_labels\u001b[0m\u001b[0;34m)\u001b[0m\u001b[0;34m\u001b[0m\u001b[0;34m\u001b[0m\u001b[0m\n\u001b[1;32m      4\u001b[0m \u001b[0mfig\u001b[0m\u001b[0;34m,\u001b[0m \u001b[0max\u001b[0m \u001b[0;34m=\u001b[0m \u001b[0mplt\u001b[0m\u001b[0;34m.\u001b[0m\u001b[0msubplots\u001b[0m\u001b[0;34m(\u001b[0m\u001b[0;36m1\u001b[0m\u001b[0;34m,\u001b[0m\u001b[0;36m1\u001b[0m\u001b[0;34m)\u001b[0m  \u001b[0;31m# Create a figure and an axes.\u001b[0m\u001b[0;34m\u001b[0m\u001b[0;34m\u001b[0m\u001b[0m\n\u001b[1;32m      5\u001b[0m \u001b[0max\u001b[0m\u001b[0;34m.\u001b[0m\u001b[0mset_title\u001b[0m\u001b[0;34m(\u001b[0m\u001b[0;34m'Top Predictors: All Sites combined; target: High_EBLoss, vars: PI'\u001b[0m\u001b[0;34m)\u001b[0m\u001b[0;34m\u001b[0m\u001b[0;34m\u001b[0m\u001b[0m\n",
      "\u001b[0;31mNameError\u001b[0m: name 'plt' is not defined"
     ]
    }
   ],
   "source": [
    "plt.rcParams[\"figure.figsize\"] = (14, 8)\n",
    "x_labels = coeffs_wgt.index.values[0:25]\n",
    "print(x_labels)\n",
    "fig, ax = plt.subplots(1,1)  # Create a figure and an axes.\n",
    "ax.set_title('Top Predictors: All Sites combined; target: High_EBLoss, vars: PI')\n",
    "ax.bar(x_labels, coeffs_wgt.values[0:25])\n",
    "ax.set_ylabel('Coeff')\n",
    "ax.set_xlabel('Variable')\n",
    "plt.draw()\n",
    "ax.set_xticklabels(ax.get_xticklabels(), rotation=90, fontsize=16)\n",
    "#plt.xlim(1,20)\n",
    "plt.show()"
   ]
  },
  {
   "cell_type": "code",
   "execution_count": 26,
   "metadata": {},
   "outputs": [
    {
     "data": {
      "text/plain": [
       "Delmode           0.261331\n",
       "Lac_Min           0.096959\n",
       "TrialLabor        0.042401\n",
       "Delfetalpos       0.039474\n",
       "Analgesia         0.037037\n",
       "CS_FTP            0.036993\n",
       "transfus_yes      0.029821\n",
       "CS_NRFHT          0.025537\n",
       "Insurance         0.021843\n",
       "Dilat_lst         0.020394\n",
       "Hxanemia          0.018626\n",
       "new_BMI           0.018430\n",
       "BESTGA            0.017936\n",
       "HospElectInd      0.015323\n",
       "Admcontract       0.014507\n",
       "Inoxy_incrdose    0.014255\n",
       "prelaborCD        0.014023\n",
       "Augment           0.013633\n",
       "AdmSBP            0.013415\n",
       "new_age           0.012889\n",
       "dtype: float64"
      ]
     },
     "execution_count": 26,
     "metadata": {},
     "output_type": "execute_result"
    }
   ],
   "source": [
    "# No Sitenum - 5\n",
    "coeffs = pd.Series(data=gb.feature_importances_,\n",
    "                   index=X_test.columns.values).sort_values(ascending=False)\n",
    "coeffs[0:20]"
   ]
  },
  {
   "cell_type": "code",
   "execution_count": 4,
   "metadata": {
    "scrolled": true
   },
   "outputs": [
    {
     "ename": "NameError",
     "evalue": "name 'plt' is not defined",
     "output_type": "error",
     "traceback": [
      "\u001b[0;31m---------------------------------------------------------------------------\u001b[0m",
      "\u001b[0;31mNameError\u001b[0m                                 Traceback (most recent call last)",
      "\u001b[0;32m<ipython-input-4-1156b4647739>\u001b[0m in \u001b[0;36m<module>\u001b[0;34m\u001b[0m\n\u001b[0;32m----> 1\u001b[0;31m \u001b[0mplt\u001b[0m\u001b[0;34m.\u001b[0m\u001b[0mrcParams\u001b[0m\u001b[0;34m[\u001b[0m\u001b[0;34m\"figure.figsize\"\u001b[0m\u001b[0;34m]\u001b[0m \u001b[0;34m=\u001b[0m \u001b[0;34m(\u001b[0m\u001b[0;36m6\u001b[0m\u001b[0;34m,\u001b[0m \u001b[0;36m4\u001b[0m\u001b[0;34m)\u001b[0m\u001b[0;34m\u001b[0m\u001b[0;34m\u001b[0m\u001b[0m\n\u001b[0m\u001b[1;32m      2\u001b[0m \u001b[0msns\u001b[0m\u001b[0;34m.\u001b[0m\u001b[0mheatmap\u001b[0m\u001b[0;34m(\u001b[0m\u001b[0mconfusion_matrix\u001b[0m\u001b[0;34m(\u001b[0m\u001b[0my_test\u001b[0m\u001b[0;34m,\u001b[0m \u001b[0my_pred\u001b[0m\u001b[0;34m)\u001b[0m\u001b[0;34m,\u001b[0m \u001b[0mcmap\u001b[0m\u001b[0;34m=\u001b[0m\u001b[0;34m'magma'\u001b[0m\u001b[0;34m,\u001b[0m \u001b[0mannot\u001b[0m\u001b[0;34m=\u001b[0m\u001b[0;32mTrue\u001b[0m\u001b[0;34m,\u001b[0m \u001b[0mfmt\u001b[0m\u001b[0;34m=\u001b[0m\u001b[0;34m'g'\u001b[0m\u001b[0;34m)\u001b[0m \u001b[0;31m# 25\u001b[0m\u001b[0;34m\u001b[0m\u001b[0;34m\u001b[0m\u001b[0m\n\u001b[1;32m      3\u001b[0m \u001b[0mplt\u001b[0m\u001b[0;34m.\u001b[0m\u001b[0mshow\u001b[0m\u001b[0;34m(\u001b[0m\u001b[0;34m)\u001b[0m\u001b[0;34m\u001b[0m\u001b[0;34m\u001b[0m\u001b[0m\n",
      "\u001b[0;31mNameError\u001b[0m: name 'plt' is not defined"
     ]
    }
   ],
   "source": [
    "plt.rcParams[\"figure.figsize\"] = (6, 4)\n",
    "sns.heatmap(confusion_matrix(y_test, y_pred), cmap='magma', annot=True, fmt='g') # 25\n",
    "plt.show()"
   ]
  },
  {
   "cell_type": "code",
   "execution_count": 20,
   "metadata": {},
   "outputs": [
    {
     "data": {
      "text/plain": [
       "{'n_estimators': 82,\n",
       " 'subsample': 0.813187269381181,\n",
       " 'max_depth': 8,\n",
       " 'max_features': 20,\n",
       " 'learning_rate': 0.10560624242958987,\n",
       " 'min_samples_leaf': 23,\n",
       " 'random_state': 42}"
      ]
     },
     "execution_count": 20,
     "metadata": {},
     "output_type": "execute_result"
    }
   ],
   "source": [
    "gb_params # 5 runs"
   ]
  },
  {
   "cell_type": "code",
   "execution_count": 3,
   "metadata": {},
   "outputs": [
    {
     "ename": "NameError",
     "evalue": "name 'study' is not defined",
     "output_type": "error",
     "traceback": [
      "\u001b[0;31m---------------------------------------------------------------------------\u001b[0m",
      "\u001b[0;31mNameError\u001b[0m                                 Traceback (most recent call last)",
      "\u001b[0;32m<ipython-input-3-bf9f527b858c>\u001b[0m in \u001b[0;36m<module>\u001b[0;34m\u001b[0m\n\u001b[1;32m      3\u001b[0m \u001b[0mplotly_config\u001b[0m \u001b[0;34m=\u001b[0m \u001b[0;34m{\u001b[0m\u001b[0;34m\"staticPlot\"\u001b[0m\u001b[0;34m:\u001b[0m \u001b[0;32mTrue\u001b[0m\u001b[0;34m}\u001b[0m\u001b[0;34m\u001b[0m\u001b[0;34m\u001b[0m\u001b[0m\n\u001b[1;32m      4\u001b[0m \u001b[0;34m\u001b[0m\u001b[0m\n\u001b[0;32m----> 5\u001b[0;31m \u001b[0mfig\u001b[0m \u001b[0;34m=\u001b[0m \u001b[0mplot_optimization_history\u001b[0m\u001b[0;34m(\u001b[0m\u001b[0mstudy\u001b[0m\u001b[0;34m)\u001b[0m\u001b[0;34m\u001b[0m\u001b[0;34m\u001b[0m\u001b[0m\n\u001b[0m\u001b[1;32m      6\u001b[0m \u001b[0mfig\u001b[0m\u001b[0;34m.\u001b[0m\u001b[0mshow\u001b[0m\u001b[0;34m(\u001b[0m\u001b[0mconfig\u001b[0m\u001b[0;34m=\u001b[0m\u001b[0mplotly_config\u001b[0m\u001b[0;34m)\u001b[0m\u001b[0;34m\u001b[0m\u001b[0;34m\u001b[0m\u001b[0m\n",
      "\u001b[0;31mNameError\u001b[0m: name 'study' is not defined"
     ]
    }
   ],
   "source": [
    "from optuna.visualization import plot_optimization_history\n",
    "\n",
    "plotly_config = {\"staticPlot\": True}\n",
    "\n",
    "fig = plot_optimization_history(study)\n",
    "fig.show(config=plotly_config)"
   ]
  },
  {
   "cell_type": "code",
   "execution_count": 2,
   "metadata": {},
   "outputs": [
    {
     "ename": "NameError",
     "evalue": "name 'study' is not defined",
     "output_type": "error",
     "traceback": [
      "\u001b[0;31m---------------------------------------------------------------------------\u001b[0m",
      "\u001b[0;31mNameError\u001b[0m                                 Traceback (most recent call last)",
      "\u001b[0;32m<ipython-input-2-896a7630ef72>\u001b[0m in \u001b[0;36m<module>\u001b[0;34m\u001b[0m\n\u001b[1;32m      1\u001b[0m \u001b[0;32mfrom\u001b[0m \u001b[0moptuna\u001b[0m\u001b[0;34m.\u001b[0m\u001b[0mvisualization\u001b[0m \u001b[0;32mimport\u001b[0m \u001b[0mplot_param_importances\u001b[0m\u001b[0;34m\u001b[0m\u001b[0;34m\u001b[0m\u001b[0m\n\u001b[1;32m      2\u001b[0m \u001b[0;34m\u001b[0m\u001b[0m\n\u001b[0;32m----> 3\u001b[0;31m \u001b[0mfig\u001b[0m \u001b[0;34m=\u001b[0m \u001b[0mplot_param_importances\u001b[0m\u001b[0;34m(\u001b[0m\u001b[0mstudy\u001b[0m\u001b[0;34m)\u001b[0m\u001b[0;34m\u001b[0m\u001b[0;34m\u001b[0m\u001b[0m\n\u001b[0m\u001b[1;32m      4\u001b[0m \u001b[0mfig\u001b[0m\u001b[0;34m.\u001b[0m\u001b[0mshow\u001b[0m\u001b[0;34m(\u001b[0m\u001b[0mconfig\u001b[0m\u001b[0;34m=\u001b[0m\u001b[0mplotly_config\u001b[0m\u001b[0;34m)\u001b[0m\u001b[0;34m\u001b[0m\u001b[0;34m\u001b[0m\u001b[0m\n",
      "\u001b[0;31mNameError\u001b[0m: name 'study' is not defined"
     ]
    }
   ],
   "source": [
    "from optuna.visualization import plot_param_importances\n",
    "\n",
    "fig = plot_param_importances(study)\n",
    "fig.show(config=plotly_config)"
   ]
  },
  {
   "cell_type": "code",
   "execution_count": 23,
   "metadata": {},
   "outputs": [
    {
     "data": {
      "text/plain": [
       "0.3155208505596307"
      ]
     },
     "execution_count": 23,
     "metadata": {},
     "output_type": "execute_result"
    }
   ],
   "source": [
    "np.mean([0.3149689279176914, 0.31449457458602254, 0.31066798538596907, 0.3219519143488398])"
   ]
  },
  {
   "cell_type": "markdown",
   "metadata": {},
   "source": [
    "<h1 align='center'>Thanks and make sure to learn!</h1>"
   ]
  }
 ],
 "metadata": {
  "kernelspec": {
   "display_name": "Python [conda env:root] *",
   "language": "python",
   "name": "conda-root-py"
  },
  "language_info": {
   "codemirror_mode": {
    "name": "ipython",
    "version": 3
   },
   "file_extension": ".py",
   "mimetype": "text/x-python",
   "name": "python",
   "nbconvert_exporter": "python",
   "pygments_lexer": "ipython3",
   "version": "3.7.9"
  }
 },
 "nbformat": 4,
 "nbformat_minor": 4
}
