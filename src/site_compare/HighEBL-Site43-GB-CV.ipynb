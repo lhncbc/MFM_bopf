{
 "cells": [
  {
   "cell_type": "code",
   "execution_count": 2,
   "metadata": {
    "_cell_guid": "b1076dfc-b9ad-4769-8c92-a6c4dae69d19",
    "_uuid": "8f2839f25d086af736a60e9eeb907d3b93b6e0e5"
   },
   "outputs": [],
   "source": [
    "import numpy as np \n",
    "import pandas as pd \n",
    "\n",
    "import matplotlib.pyplot as plt\n",
    "#import plotly.express as px\n",
    "import seaborn as sns\n",
    "\n",
    "from lightgbm import LGBMClassifier\n",
    "from sklearn.ensemble import GradientBoostingClassifier\n",
    "\n",
    "from sklearn.model_selection import StratifiedKFold\n",
    "from collections import Counter\n",
    "from imblearn.under_sampling import RandomUnderSampler\n",
    "from sklearn.metrics import classification_report, roc_auc_score, confusion_matrix, \\\n",
    "                            accuracy_score, f1_score, average_precision_score, \\\n",
    "                            fbeta_score, precision_recall_curve, auc\n",
    "from sklearn.metrics import matthews_corrcoef\n",
    "\n",
    "from sklearn.model_selection import train_test_split\n",
    "\n",
    "import optuna\n",
    "from optuna.samplers import TPESampler\n",
    "sns.set(style='white', context='notebook', palette='deep')\n",
    "%config Completer.use_jedi = False"
   ]
  },
  {
   "cell_type": "code",
   "execution_count": 3,
   "metadata": {},
   "outputs": [
    {
     "data": {
      "text/html": [
       "<div>\n",
       "<style scoped>\n",
       "    .dataframe tbody tr th:only-of-type {\n",
       "        vertical-align: middle;\n",
       "    }\n",
       "\n",
       "    .dataframe tbody tr th {\n",
       "        vertical-align: top;\n",
       "    }\n",
       "\n",
       "    .dataframe thead th {\n",
       "        text-align: right;\n",
       "    }\n",
       "</style>\n",
       "<table border=\"1\" class=\"dataframe\">\n",
       "  <thead>\n",
       "    <tr style=\"text-align: right;\">\n",
       "      <th></th>\n",
       "      <th>transfus_yes</th>\n",
       "      <th>Accrete</th>\n",
       "      <th>AdmBishop</th>\n",
       "      <th>Admcervpos</th>\n",
       "      <th>Admconsistency</th>\n",
       "      <th>Admcontract</th>\n",
       "      <th>AdmDBP</th>\n",
       "      <th>Admefface</th>\n",
       "      <th>Admpresent</th>\n",
       "      <th>AdmSBP</th>\n",
       "      <th>...</th>\n",
       "      <th>TD_nos</th>\n",
       "      <th>ThreatenedPB</th>\n",
       "      <th>threatpb9</th>\n",
       "      <th>UnspecHBP</th>\n",
       "      <th>uscar</th>\n",
       "      <th>version9</th>\n",
       "      <th>new_age</th>\n",
       "      <th>new_BMI</th>\n",
       "      <th>new_high_Age</th>\n",
       "      <th>new_high_BMI</th>\n",
       "    </tr>\n",
       "    <tr>\n",
       "      <th>MomID</th>\n",
       "      <th></th>\n",
       "      <th></th>\n",
       "      <th></th>\n",
       "      <th></th>\n",
       "      <th></th>\n",
       "      <th></th>\n",
       "      <th></th>\n",
       "      <th></th>\n",
       "      <th></th>\n",
       "      <th></th>\n",
       "      <th></th>\n",
       "      <th></th>\n",
       "      <th></th>\n",
       "      <th></th>\n",
       "      <th></th>\n",
       "      <th></th>\n",
       "      <th></th>\n",
       "      <th></th>\n",
       "      <th></th>\n",
       "      <th></th>\n",
       "      <th></th>\n",
       "    </tr>\n",
       "  </thead>\n",
       "  <tbody>\n",
       "    <tr>\n",
       "      <th>43-05445</th>\n",
       "      <td>0</td>\n",
       "      <td>0</td>\n",
       "      <td>8</td>\n",
       "      <td>8</td>\n",
       "      <td>8</td>\n",
       "      <td>66.0</td>\n",
       "      <td>74</td>\n",
       "      <td>100.0</td>\n",
       "      <td>1</td>\n",
       "      <td>124.4</td>\n",
       "      <td>...</td>\n",
       "      <td>0</td>\n",
       "      <td>0</td>\n",
       "      <td>0</td>\n",
       "      <td>0</td>\n",
       "      <td>0</td>\n",
       "      <td>0</td>\n",
       "      <td>20</td>\n",
       "      <td>24</td>\n",
       "      <td>1</td>\n",
       "      <td>1</td>\n",
       "    </tr>\n",
       "    <tr>\n",
       "      <th>43-00861</th>\n",
       "      <td>0</td>\n",
       "      <td>0</td>\n",
       "      <td>8</td>\n",
       "      <td>8</td>\n",
       "      <td>8</td>\n",
       "      <td>99.0</td>\n",
       "      <td>60</td>\n",
       "      <td>0.0</td>\n",
       "      <td>1</td>\n",
       "      <td>115.0</td>\n",
       "      <td>...</td>\n",
       "      <td>0</td>\n",
       "      <td>0</td>\n",
       "      <td>0</td>\n",
       "      <td>0</td>\n",
       "      <td>0</td>\n",
       "      <td>0</td>\n",
       "      <td>16</td>\n",
       "      <td>23</td>\n",
       "      <td>0</td>\n",
       "      <td>1</td>\n",
       "    </tr>\n",
       "    <tr>\n",
       "      <th>43-02991</th>\n",
       "      <td>0</td>\n",
       "      <td>0</td>\n",
       "      <td>8</td>\n",
       "      <td>8</td>\n",
       "      <td>8</td>\n",
       "      <td>99.0</td>\n",
       "      <td>74</td>\n",
       "      <td>0.0</td>\n",
       "      <td>1</td>\n",
       "      <td>124.4</td>\n",
       "      <td>...</td>\n",
       "      <td>0</td>\n",
       "      <td>0</td>\n",
       "      <td>0</td>\n",
       "      <td>0</td>\n",
       "      <td>0</td>\n",
       "      <td>0</td>\n",
       "      <td>24</td>\n",
       "      <td>34</td>\n",
       "      <td>1</td>\n",
       "      <td>1</td>\n",
       "    </tr>\n",
       "    <tr>\n",
       "      <th>43-10097</th>\n",
       "      <td>0</td>\n",
       "      <td>0</td>\n",
       "      <td>8</td>\n",
       "      <td>8</td>\n",
       "      <td>8</td>\n",
       "      <td>66.0</td>\n",
       "      <td>65</td>\n",
       "      <td>0.0</td>\n",
       "      <td>1</td>\n",
       "      <td>114.0</td>\n",
       "      <td>...</td>\n",
       "      <td>0</td>\n",
       "      <td>0</td>\n",
       "      <td>0</td>\n",
       "      <td>0</td>\n",
       "      <td>0</td>\n",
       "      <td>0</td>\n",
       "      <td>37</td>\n",
       "      <td>24</td>\n",
       "      <td>1</td>\n",
       "      <td>1</td>\n",
       "    </tr>\n",
       "    <tr>\n",
       "      <th>43-10609</th>\n",
       "      <td>0</td>\n",
       "      <td>0</td>\n",
       "      <td>8</td>\n",
       "      <td>8</td>\n",
       "      <td>8</td>\n",
       "      <td>88.0</td>\n",
       "      <td>74</td>\n",
       "      <td>0.0</td>\n",
       "      <td>1</td>\n",
       "      <td>124.4</td>\n",
       "      <td>...</td>\n",
       "      <td>0</td>\n",
       "      <td>0</td>\n",
       "      <td>0</td>\n",
       "      <td>0</td>\n",
       "      <td>0</td>\n",
       "      <td>0</td>\n",
       "      <td>21</td>\n",
       "      <td>24</td>\n",
       "      <td>1</td>\n",
       "      <td>1</td>\n",
       "    </tr>\n",
       "    <tr>\n",
       "      <th>...</th>\n",
       "      <td>...</td>\n",
       "      <td>...</td>\n",
       "      <td>...</td>\n",
       "      <td>...</td>\n",
       "      <td>...</td>\n",
       "      <td>...</td>\n",
       "      <td>...</td>\n",
       "      <td>...</td>\n",
       "      <td>...</td>\n",
       "      <td>...</td>\n",
       "      <td>...</td>\n",
       "      <td>...</td>\n",
       "      <td>...</td>\n",
       "      <td>...</td>\n",
       "      <td>...</td>\n",
       "      <td>...</td>\n",
       "      <td>...</td>\n",
       "      <td>...</td>\n",
       "      <td>...</td>\n",
       "      <td>...</td>\n",
       "      <td>...</td>\n",
       "    </tr>\n",
       "    <tr>\n",
       "      <th>43-00936</th>\n",
       "      <td>0</td>\n",
       "      <td>0</td>\n",
       "      <td>8</td>\n",
       "      <td>8</td>\n",
       "      <td>8</td>\n",
       "      <td>66.0</td>\n",
       "      <td>83</td>\n",
       "      <td>0.0</td>\n",
       "      <td>1</td>\n",
       "      <td>132.0</td>\n",
       "      <td>...</td>\n",
       "      <td>0</td>\n",
       "      <td>0</td>\n",
       "      <td>0</td>\n",
       "      <td>0</td>\n",
       "      <td>0</td>\n",
       "      <td>0</td>\n",
       "      <td>18</td>\n",
       "      <td>24</td>\n",
       "      <td>0</td>\n",
       "      <td>1</td>\n",
       "    </tr>\n",
       "    <tr>\n",
       "      <th>43-04353</th>\n",
       "      <td>0</td>\n",
       "      <td>0</td>\n",
       "      <td>8</td>\n",
       "      <td>2</td>\n",
       "      <td>2</td>\n",
       "      <td>77.0</td>\n",
       "      <td>89</td>\n",
       "      <td>100.0</td>\n",
       "      <td>1</td>\n",
       "      <td>125.0</td>\n",
       "      <td>...</td>\n",
       "      <td>0</td>\n",
       "      <td>0</td>\n",
       "      <td>0</td>\n",
       "      <td>0</td>\n",
       "      <td>0</td>\n",
       "      <td>0</td>\n",
       "      <td>36</td>\n",
       "      <td>26</td>\n",
       "      <td>1</td>\n",
       "      <td>1</td>\n",
       "    </tr>\n",
       "    <tr>\n",
       "      <th>43-07748</th>\n",
       "      <td>0</td>\n",
       "      <td>0</td>\n",
       "      <td>8</td>\n",
       "      <td>8</td>\n",
       "      <td>8</td>\n",
       "      <td>88.0</td>\n",
       "      <td>56</td>\n",
       "      <td>0.0</td>\n",
       "      <td>1</td>\n",
       "      <td>117.0</td>\n",
       "      <td>...</td>\n",
       "      <td>0</td>\n",
       "      <td>0</td>\n",
       "      <td>0</td>\n",
       "      <td>0</td>\n",
       "      <td>0</td>\n",
       "      <td>0</td>\n",
       "      <td>20</td>\n",
       "      <td>23</td>\n",
       "      <td>1</td>\n",
       "      <td>1</td>\n",
       "    </tr>\n",
       "    <tr>\n",
       "      <th>43-05532</th>\n",
       "      <td>0</td>\n",
       "      <td>0</td>\n",
       "      <td>8</td>\n",
       "      <td>8</td>\n",
       "      <td>8</td>\n",
       "      <td>66.0</td>\n",
       "      <td>96</td>\n",
       "      <td>0.0</td>\n",
       "      <td>1</td>\n",
       "      <td>147.0</td>\n",
       "      <td>...</td>\n",
       "      <td>0</td>\n",
       "      <td>1</td>\n",
       "      <td>1</td>\n",
       "      <td>0</td>\n",
       "      <td>0</td>\n",
       "      <td>0</td>\n",
       "      <td>35</td>\n",
       "      <td>24</td>\n",
       "      <td>1</td>\n",
       "      <td>1</td>\n",
       "    </tr>\n",
       "    <tr>\n",
       "      <th>43-02697</th>\n",
       "      <td>0</td>\n",
       "      <td>0</td>\n",
       "      <td>8</td>\n",
       "      <td>8</td>\n",
       "      <td>8</td>\n",
       "      <td>66.0</td>\n",
       "      <td>79</td>\n",
       "      <td>100.0</td>\n",
       "      <td>1</td>\n",
       "      <td>116.0</td>\n",
       "      <td>...</td>\n",
       "      <td>0</td>\n",
       "      <td>0</td>\n",
       "      <td>0</td>\n",
       "      <td>0</td>\n",
       "      <td>0</td>\n",
       "      <td>0</td>\n",
       "      <td>18</td>\n",
       "      <td>31</td>\n",
       "      <td>0</td>\n",
       "      <td>1</td>\n",
       "    </tr>\n",
       "  </tbody>\n",
       "</table>\n",
       "<p>6760 rows × 195 columns</p>\n",
       "</div>"
      ],
      "text/plain": [
       "          transfus_yes  Accrete  AdmBishop  Admcervpos  Admconsistency  \\\n",
       "MomID                                                                    \n",
       "43-05445             0        0          8           8               8   \n",
       "43-00861             0        0          8           8               8   \n",
       "43-02991             0        0          8           8               8   \n",
       "43-10097             0        0          8           8               8   \n",
       "43-10609             0        0          8           8               8   \n",
       "...                ...      ...        ...         ...             ...   \n",
       "43-00936             0        0          8           8               8   \n",
       "43-04353             0        0          8           2               2   \n",
       "43-07748             0        0          8           8               8   \n",
       "43-05532             0        0          8           8               8   \n",
       "43-02697             0        0          8           8               8   \n",
       "\n",
       "          Admcontract  AdmDBP  Admefface  Admpresent  AdmSBP  ...  TD_nos  \\\n",
       "MomID                                                         ...           \n",
       "43-05445         66.0      74      100.0           1   124.4  ...       0   \n",
       "43-00861         99.0      60        0.0           1   115.0  ...       0   \n",
       "43-02991         99.0      74        0.0           1   124.4  ...       0   \n",
       "43-10097         66.0      65        0.0           1   114.0  ...       0   \n",
       "43-10609         88.0      74        0.0           1   124.4  ...       0   \n",
       "...               ...     ...        ...         ...     ...  ...     ...   \n",
       "43-00936         66.0      83        0.0           1   132.0  ...       0   \n",
       "43-04353         77.0      89      100.0           1   125.0  ...       0   \n",
       "43-07748         88.0      56        0.0           1   117.0  ...       0   \n",
       "43-05532         66.0      96        0.0           1   147.0  ...       0   \n",
       "43-02697         66.0      79      100.0           1   116.0  ...       0   \n",
       "\n",
       "          ThreatenedPB  threatpb9  UnspecHBP  uscar  version9  new_age  \\\n",
       "MomID                                                                    \n",
       "43-05445             0          0          0      0         0       20   \n",
       "43-00861             0          0          0      0         0       16   \n",
       "43-02991             0          0          0      0         0       24   \n",
       "43-10097             0          0          0      0         0       37   \n",
       "43-10609             0          0          0      0         0       21   \n",
       "...                ...        ...        ...    ...       ...      ...   \n",
       "43-00936             0          0          0      0         0       18   \n",
       "43-04353             0          0          0      0         0       36   \n",
       "43-07748             0          0          0      0         0       20   \n",
       "43-05532             1          1          0      0         0       35   \n",
       "43-02697             0          0          0      0         0       18   \n",
       "\n",
       "          new_BMI  new_high_Age  new_high_BMI  \n",
       "MomID                                          \n",
       "43-05445       24             1             1  \n",
       "43-00861       23             0             1  \n",
       "43-02991       34             1             1  \n",
       "43-10097       24             1             1  \n",
       "43-10609       24             1             1  \n",
       "...           ...           ...           ...  \n",
       "43-00936       24             0             1  \n",
       "43-04353       26             1             1  \n",
       "43-07748       23             1             1  \n",
       "43-05532       24             1             1  \n",
       "43-02697       31             0             1  \n",
       "\n",
       "[6760 rows x 195 columns]"
      ]
     },
     "execution_count": 3,
     "metadata": {},
     "output_type": "execute_result"
    }
   ],
   "source": [
    "csl_df = pd.read_csv('../../data/csl/Sites/CSL_he_PI_s43.csv', index_col=0)\n",
    "X = csl_df.drop(['high_EBL','Sitenum'], axis=1, inplace=False)\n",
    "y = csl_df['high_EBL'].values\n",
    "\n",
    "X_train, X_test, y_train, y_test = train_test_split(X, y, test_size=0.3, stratify=y, random_state=7)\n",
    "X_train                                                    "
   ]
  },
  {
   "cell_type": "code",
   "execution_count": 4,
   "metadata": {},
   "outputs": [
    {
     "data": {
      "text/plain": [
       "(9658, 195)"
      ]
     },
     "execution_count": 4,
     "metadata": {},
     "output_type": "execute_result"
    }
   ],
   "source": [
    "X.shape"
   ]
  },
  {
   "cell_type": "markdown",
   "metadata": {},
   "source": [
    "<h1 align='center'>Modelling</h1>"
   ]
  },
  {
   "cell_type": "code",
   "execution_count": 9,
   "metadata": {},
   "outputs": [
    {
     "name": "stdout",
     "output_type": "stream",
     "text": [
      "(6760, 195)\n",
      "(9658, 195)\n",
      "(9658,)\n"
     ]
    }
   ],
   "source": [
    "print(X_train.shape)\n",
    "print(X.shape)\n",
    "print(y.shape)"
   ]
  },
  {
   "cell_type": "markdown",
   "metadata": {},
   "source": [
    "Here we define our validation set"
   ]
  },
  {
   "cell_type": "markdown",
   "metadata": {},
   "source": [
    "<h1 align='center'>Modelling Using Undersampling</h1>"
   ]
  },
  {
   "cell_type": "markdown",
   "metadata": {},
   "source": [
    "We will use `imblearn`'s RandomUnderSampler to undersample from the majority class so that they match"
   ]
  },
  {
   "cell_type": "code",
   "execution_count": 10,
   "metadata": {},
   "outputs": [],
   "source": [
    "sampler = RandomUnderSampler(sampling_strategy=1.0, random_state=7)\n",
    "X_rus, y_rus = sampler.fit_resample(X_train, y_train)\n",
    "\n",
    "# Try with no undersampling\n",
    "#X_rus, y_rus = X_train, y_train"
   ]
  },
  {
   "cell_type": "code",
   "execution_count": 11,
   "metadata": {},
   "outputs": [
    {
     "name": "stdout",
     "output_type": "stream",
     "text": [
      "(770, 195)\n",
      "(770,)\n",
      "[385 385]\n"
     ]
    }
   ],
   "source": [
    "print(X_rus.shape)\n",
    "print(y_rus.shape)\n",
    "print(np.bincount(y_rus))"
   ]
  },
  {
   "cell_type": "markdown",
   "metadata": {},
   "source": [
    "<h1 align='center'>Basic Gradient Boosting</h1>"
   ]
  },
  {
   "cell_type": "code",
   "execution_count": 12,
   "metadata": {},
   "outputs": [
    {
     "name": "stdout",
     "output_type": "stream",
     "text": [
      "{'ccp_alpha': 0.0, 'criterion': 'friedman_mse', 'init': None, 'learning_rate': 0.1, 'loss': 'deviance', 'max_depth': 3, 'max_features': None, 'max_leaf_nodes': None, 'min_impurity_decrease': 0.0, 'min_impurity_split': None, 'min_samples_leaf': 1, 'min_samples_split': 2, 'min_weight_fraction_leaf': 0.0, 'n_estimators': 100, 'n_iter_no_change': None, 'presort': 'deprecated', 'random_state': None, 'subsample': 1.0, 'tol': 0.0001, 'validation_fraction': 0.1, 'verbose': 0, 'warm_start': False}\n",
      "[[2147  586]\n",
      " [  19  146]]\n",
      "              precision    recall  f1-score   support\n",
      "\n",
      "           0       0.99      0.79      0.88      2733\n",
      "           1       0.20      0.88      0.33       165\n",
      "\n",
      "    accuracy                           0.79      2898\n",
      "   macro avg       0.60      0.84      0.60      2898\n",
      "weighted avg       0.95      0.79      0.85      2898\n",
      "\n",
      "ROC AUC prob1: 0.8792591114215703\n",
      "MCC: 0.35754591162238036\n",
      "F2: 0.5244252873563219\n",
      "PR_AUC: 0.2770742396675366\n",
      "CPU times: user 333 ms, sys: 0 ns, total: 333 ms\n",
      "Wall time: 330 ms\n"
     ]
    }
   ],
   "source": [
    "%%time\n",
    "from sklearn.metrics import matthews_corrcoef\n",
    "from sklearn.utils import class_weight\n",
    "gb_rus = GradientBoostingClassifier()   # If not undersampling\n",
    "gb_rus.fit(X_rus, y_rus)\n",
    "print(gb_rus.get_params())\n",
    "y_pred = gb_rus.predict(X_test)\n",
    "probs = gb_rus.predict_proba(X_test)\n",
    "prob1 = probs[:, 1]  # Only positives\n",
    "precision, recall, pr_thresh = precision_recall_curve(y_test, prob1)\n",
    "print(confusion_matrix(y_pred=y_pred, y_true=y_test))\n",
    "print(classification_report(y_test, y_pred))\n",
    "print(f'ROC AUC prob1: {roc_auc_score(y_test, prob1)}')\n",
    "print(f'MCC: {matthews_corrcoef(y_test, y_pred)}')\n",
    "print(f'F2: {fbeta_score(y_test, y_pred, beta=2.0, average=None)[1]}')\n",
    "print(f'PR_AUC: {auc(recall, precision)}')"
   ]
  },
  {
   "cell_type": "code",
   "execution_count": 13,
   "metadata": {},
   "outputs": [
    {
     "name": "stdout",
     "output_type": "stream",
     "text": [
      "{'ccp_alpha': 0.0, 'criterion': 'friedman_mse', 'init': None, 'learning_rate': 0.1, 'loss': 'deviance', 'max_depth': 3, 'max_features': None, 'max_leaf_nodes': None, 'min_impurity_decrease': 0.0, 'min_impurity_split': None, 'min_samples_leaf': 1, 'min_samples_split': 2, 'min_weight_fraction_leaf': 0.0, 'n_estimators': 100, 'n_iter_no_change': None, 'presort': 'deprecated', 'random_state': None, 'subsample': 1.0, 'tol': 0.0001, 'validation_fraction': 0.1, 'verbose': 0, 'warm_start': False}\n",
      "[[2207  526]\n",
      " [  29  136]]\n",
      "              precision    recall  f1-score   support\n",
      "\n",
      "           0       0.99      0.81      0.89      2733\n",
      "           1       0.21      0.82      0.33       165\n",
      "\n",
      "    accuracy                           0.81      2898\n",
      "   macro avg       0.60      0.82      0.61      2898\n",
      "weighted avg       0.94      0.81      0.86      2898\n",
      "\n",
      "ROC AUC prob1: 0.8772034283560077\n",
      "MCC: 0.3487086481233762\n",
      "F2: 0.5143721633888049\n",
      "PR_AUC: 0.3344901250758451\n",
      "CPU times: user 2.07 s, sys: 0 ns, total: 2.07 s\n",
      "Wall time: 2.07 s\n"
     ]
    }
   ],
   "source": [
    "%%time\n",
    "# Not undersampled\n",
    "from sklearn.metrics import matthews_corrcoef\n",
    "from sklearn.utils import class_weight\n",
    "gb_weight = GradientBoostingClassifier()  \n",
    "weights = class_weight.compute_sample_weight('balanced', y=y_train)\n",
    "gb_weight.fit(X_train, y_train, sample_weight=weights)\n",
    "print(gb_weight.get_params())\n",
    "y_pred = gb_weight.predict(X_test)\n",
    "probs = gb_weight.predict_proba(X_test)\n",
    "prob1 = probs[:, 1]  # Only positives\n",
    "precision, recall, pr_thresh = precision_recall_curve(y_test, prob1)\n",
    "print(confusion_matrix(y_pred=y_pred, y_true=y_test))\n",
    "print(classification_report(y_test, y_pred))\n",
    "print(f'ROC AUC prob1: {roc_auc_score(y_test, prob1)}')\n",
    "print(f'MCC: {matthews_corrcoef(y_test, y_pred)}')\n",
    "print(f'F2: {fbeta_score(y_test, y_pred, beta=2.0, average=None)[1]}')\n",
    "print(f'PR_AUC: {auc(recall, precision)}')"
   ]
  },
  {
   "cell_type": "markdown",
   "metadata": {},
   "source": [
    "<h1 align='center'>Hyperparameter Tuning with Cross Validation</h1>"
   ]
  },
  {
   "cell_type": "code",
   "execution_count": 14,
   "metadata": {
    "scrolled": false
   },
   "outputs": [
    {
     "name": "stderr",
     "output_type": "stream",
     "text": [
      "\u001b[32m[I 2021-12-14 09:25:16,992]\u001b[0m A new study created in memory with name: no-name-8a57b7a0-f475-4996-b844-11765abb4e54\u001b[0m\n",
      "\u001b[32m[I 2021-12-14 09:25:17,804]\u001b[0m Trial 0 finished with value: 0.37173546584472394 and parameters: {'n_estimators': 24, 'subsample': 0.955983758448023, 'max_depth': 10, 'max_features': 17, 'learning_rate': 0.1973587414395923, 'min_samples_leaf': 27}. Best is trial 0 with value: 0.37173546584472394.\u001b[0m\n"
     ]
    },
    {
     "name": "stdout",
     "output_type": "stream",
     "text": [
      "MCC: [0.336925886180751, 0.3826973023215862, 0.37384624442139636, 0.3934724304551621]\n",
      "ROC: [0.849216805738545, 0.8953555721041544, 0.8928414580588493, 0.8835290384005077]\n",
      "PR_AUC: [0.23995091754927236, 0.31430345945822313, 0.3442879449004834, 0.30686381517799977]\n"
     ]
    },
    {
     "name": "stderr",
     "output_type": "stream",
     "text": [
      "\u001b[32m[I 2021-12-14 09:25:19,740]\u001b[0m Trial 1 finished with value: 0.3540340566285872 and parameters: {'n_estimators': 105, 'subsample': 0.8144102266719524, 'max_depth': 7, 'max_features': 15, 'learning_rate': 0.16150759953451288, 'min_samples_leaf': 41}. Best is trial 0 with value: 0.37173546584472394.\u001b[0m\n"
     ]
    },
    {
     "name": "stdout",
     "output_type": "stream",
     "text": [
      "MCC: [0.3142458381379295, 0.3495866744777997, 0.36672160805924564, 0.38558210583937397]\n",
      "ROC: [0.8471514133139841, 0.8767352160546867, 0.8821730475173826, 0.8772139035547477]\n",
      "PR_AUC: [0.2478804304278904, 0.28726660098643564, 0.35198767209262727, 0.27904546853120554]\n"
     ]
    },
    {
     "name": "stderr",
     "output_type": "stream",
     "text": [
      "\u001b[32m[I 2021-12-14 09:25:21,654]\u001b[0m Trial 2 finished with value: 0.3659085690946857 and parameters: {'n_estimators': 82, 'subsample': 0.813187269381181, 'max_depth': 8, 'max_features': 20, 'learning_rate': 0.10560624242958987, 'min_samples_leaf': 23}. Best is trial 0 with value: 0.37173546584472394.\u001b[0m\n"
     ]
    },
    {
     "name": "stdout",
     "output_type": "stream",
     "text": [
      "MCC: [0.3397794598756002, 0.3636253756944109, 0.37569638389617677, 0.3845330569125548]\n",
      "ROC: [0.854047723612941, 0.8867152940876949, 0.8852184171130537, 0.8876515071373846]\n",
      "PR_AUC: [0.2424774988901391, 0.3215804868508943, 0.33971465744006957, 0.33225069539393287]\n"
     ]
    },
    {
     "name": "stderr",
     "output_type": "stream",
     "text": [
      "\u001b[32m[I 2021-12-14 09:25:25,853]\u001b[0m Trial 3 finished with value: 0.3570451519243594 and parameters: {'n_estimators': 187, 'subsample': 0.8049798455100696, 'max_depth': 13, 'max_features': 20, 'learning_rate': 0.10763634548251577, 'min_samples_leaf': 28}. Best is trial 0 with value: 0.37173546584472394.\u001b[0m\n"
     ]
    },
    {
     "name": "stdout",
     "output_type": "stream",
     "text": [
      "MCC: [0.32250237615802385, 0.36062206097128974, 0.3586090844592548, 0.3864470861088694]\n",
      "ROC: [0.850066512637401, 0.8808755481723346, 0.8788551974842043, 0.8825929879563646]\n",
      "PR_AUC: [0.24335306714965388, 0.3043149552182727, 0.30832039289594604, 0.27540664630730105]\n"
     ]
    },
    {
     "name": "stderr",
     "output_type": "stream",
     "text": [
      "\u001b[32m[I 2021-12-14 09:25:30,063]\u001b[0m Trial 4 finished with value: 0.34958545472450053 and parameters: {'n_estimators': 183, 'subsample': 0.8266338891518501, 'max_depth': 12, 'max_features': 18, 'learning_rate': 0.16028158890606967, 'min_samples_leaf': 24}. Best is trial 0 with value: 0.37173546584472394.\u001b[0m\n"
     ]
    },
    {
     "name": "stdout",
     "output_type": "stream",
     "text": [
      "MCC: [0.31008934481763073, 0.36106377924918787, 0.35440246623056626, 0.37278622860061716]\n",
      "ROC: [0.8476796955057824, 0.8795898493441026, 0.8791308835739176, 0.8789513670503832]\n",
      "PR_AUC: [0.23088546678689187, 0.3016742174557992, 0.3123145011934804, 0.2712837184098913]\n"
     ]
    },
    {
     "name": "stderr",
     "output_type": "stream",
     "text": [
      "\u001b[32m[I 2021-12-14 09:25:31,192]\u001b[0m Trial 5 finished with value: 0.36637710359074843 and parameters: {'n_estimators': 49, 'subsample': 0.8981531778182141, 'max_depth': 9, 'max_features': 15, 'learning_rate': 0.12390684629367116, 'min_samples_leaf': 42}. Best is trial 0 with value: 0.37173546584472394.\u001b[0m\n"
     ]
    },
    {
     "name": "stdout",
     "output_type": "stream",
     "text": [
      "MCC: [0.3471649592870157, 0.36046838669474235, 0.3663241719219492, 0.3915508964592865]\n",
      "ROC: [0.8617460044681217, 0.8941462514241342, 0.8904949206440796, 0.8832245014409406]\n",
      "PR_AUC: [0.26634109516189985, 0.306471989474509, 0.33348821474382545, 0.3146273341945407]\n"
     ]
    },
    {
     "name": "stderr",
     "output_type": "stream",
     "text": [
      "\u001b[32m[I 2021-12-14 09:25:35,486]\u001b[0m Trial 6 finished with value: 0.3579292449648335 and parameters: {'n_estimators': 156, 'subsample': 0.8627989354425325, 'max_depth': 13, 'max_features': 13, 'learning_rate': 0.13434115190556806, 'min_samples_leaf': 18}. Best is trial 0 with value: 0.37173546584472394.\u001b[0m\n"
     ]
    },
    {
     "name": "stdout",
     "output_type": "stream",
     "text": [
      "MCC: [0.3092683483562735, 0.36817593212659444, 0.3716360916060689, 0.38263660777039715]\n",
      "ROC: [0.8442840503331998, 0.883357837989218, 0.8852152114608477, 0.8781435426944789]\n",
      "PR_AUC: [0.21778620811218685, 0.2766656391048849, 0.3263761848709425, 0.2519183431863237]\n"
     ]
    },
    {
     "name": "stderr",
     "output_type": "stream",
     "text": [
      "\u001b[32m[I 2021-12-14 09:25:38,107]\u001b[0m Trial 7 finished with value: 0.35129549463330667 and parameters: {'n_estimators': 135, 'subsample': 0.8740702165976071, 'max_depth': 11, 'max_features': 17, 'learning_rate': 0.12955901949366017, 'min_samples_leaf': 46}. Best is trial 0 with value: 0.37173546584472394.\u001b[0m\n"
     ]
    },
    {
     "name": "stdout",
     "output_type": "stream",
     "text": [
      "MCC: [0.3304622646696201, 0.33853952520300934, 0.3676278353350551, 0.36855235332554226]\n",
      "ROC: [0.8573797203286806, 0.8809041899779139, 0.8859493058160147, 0.8799707644518816]\n",
      "PR_AUC: [0.2592039360031255, 0.29725499074942097, 0.33861233488806697, 0.30320074243459827]\n"
     ]
    },
    {
     "name": "stderr",
     "output_type": "stream",
     "text": [
      "\u001b[32m[I 2021-12-14 09:25:39,582]\u001b[0m Trial 8 finished with value: 0.36102836657613213 and parameters: {'n_estimators': 44, 'subsample': 0.9482237745826528, 'max_depth': 10, 'max_features': 14, 'learning_rate': 0.15612558423606065, 'min_samples_leaf': 27}. Best is trial 0 with value: 0.37173546584472394.\u001b[0m\n"
     ]
    },
    {
     "name": "stdout",
     "output_type": "stream",
     "text": [
      "MCC: [0.3416355684669336, 0.35081696454529177, 0.3657528283772126, 0.3859081049150904]\n",
      "ROC: [0.852917963503975, 0.8879246147677149, 0.888135560620486, 0.8841060557975822]\n",
      "PR_AUC: [0.2658435038177294, 0.29113476140204925, 0.3223068964415177, 0.2916793007796131]\n"
     ]
    },
    {
     "name": "stderr",
     "output_type": "stream",
     "text": [
      "\u001b[32m[I 2021-12-14 09:25:41,023]\u001b[0m Trial 9 finished with value: 0.3692178219393937 and parameters: {'n_estimators': 89, 'subsample': 0.8002853761125517, 'max_depth': 4, 'max_features': 17, 'learning_rate': 0.14292147161182367, 'min_samples_leaf': 35}. Best is trial 0 with value: 0.37173546584472394.\u001b[0m\n"
     ]
    },
    {
     "name": "stdout",
     "output_type": "stream",
     "text": [
      "MCC: [0.3399102589791743, 0.37198732585821137, 0.3710180979441975, 0.3939556049759915]\n",
      "ROC: [0.8570296538160432, 0.8867693952760116, 0.8879977175756293, 0.8894498780249337]\n",
      "PR_AUC: [0.26178249943476034, 0.3341492834590018, 0.3492648179570545, 0.33616535028027933]\n"
     ]
    },
    {
     "name": "stderr",
     "output_type": "stream",
     "text": [
      "\u001b[32m[I 2021-12-14 09:25:43,492]\u001b[0m Trial 10 finished with value: 0.36474196498143513 and parameters: {'n_estimators': 36, 'subsample': 0.9869602664638994, 'max_depth': 18, 'max_features': 10, 'learning_rate': 0.18696473435792457, 'min_samples_leaf': 4}. Best is trial 0 with value: 0.37173546584472394.\u001b[0m\n"
     ]
    },
    {
     "name": "stdout",
     "output_type": "stream",
     "text": [
      "MCC: [0.3331241157735506, 0.3591806954516671, 0.3802902989977914, 0.38637274970273133]\n",
      "ROC: [0.8474410137926206, 0.8706886126545863, 0.8870969293057518, 0.8674751321530122]\n",
      "PR_AUC: [0.2054747640293738, 0.24657148933892895, 0.305971973623076, 0.2608355362992377]\n"
     ]
    },
    {
     "name": "stderr",
     "output_type": "stream",
     "text": [
      "\u001b[32m[I 2021-12-14 09:25:43,997]\u001b[0m Trial 11 finished with value: 0.37547886406432746 and parameters: {'n_estimators': 18, 'subsample': 0.9452811664619694, 'max_depth': 3, 'max_features': 17, 'learning_rate': 0.19685189794973873, 'min_samples_leaf': 38}. Best is trial 11 with value: 0.37547886406432746.\u001b[0m\n"
     ]
    },
    {
     "name": "stdout",
     "output_type": "stream",
     "text": [
      "MCC: [0.3542115675571874, 0.37525882301038865, 0.38048406151934305, 0.39196100417039076]\n",
      "ROC: [0.8671338463398954, 0.892069720519626, 0.8920160026158122, 0.8845147764538434]\n",
      "PR_AUC: [0.29552377293695864, 0.306781157506395, 0.34169867441640583, 0.328733156647923]\n"
     ]
    },
    {
     "name": "stderr",
     "output_type": "stream",
     "text": [
      "\u001b[32m[I 2021-12-14 09:25:44,396]\u001b[0m Trial 12 finished with value: 0.37883091374517597 and parameters: {'n_estimators': 10, 'subsample': 0.9508577202851777, 'max_depth': 3, 'max_features': 18, 'learning_rate': 0.19834120666704083, 'min_samples_leaf': 13}. Best is trial 12 with value: 0.37883091374517597.\u001b[0m\n"
     ]
    },
    {
     "name": "stdout",
     "output_type": "stream",
     "text": [
      "MCC: [0.35499430137574417, 0.384043846365215, 0.38150589417215147, 0.3947796130675933]\n",
      "ROC: [0.8501333435170864, 0.8983024956559928, 0.9013027770565061, 0.8784144203058833]\n",
      "PR_AUC: [0.23812191545373074, 0.3244086343799207, 0.33807915950389467, 0.25903067429879595]\n"
     ]
    },
    {
     "name": "stderr",
     "output_type": "stream",
     "text": [
      "\u001b[32m[I 2021-12-14 09:25:44,917]\u001b[0m Trial 13 finished with value: 0.37989264655725846 and parameters: {'n_estimators': 16, 'subsample': 0.9386551526685136, 'max_depth': 3, 'max_features': 19, 'learning_rate': 0.1807474826128703, 'min_samples_leaf': 10}. Best is trial 13 with value: 0.37989264655725846.\u001b[0m\n"
     ]
    },
    {
     "name": "stdout",
     "output_type": "stream",
     "text": [
      "MCC: [0.35661955640531373, 0.38530845768347033, 0.38150589417215147, 0.39613667796809837]\n",
      "ROC: [0.8542673107890498, 0.8893567050466861, 0.897512093322947, 0.8888872860627859]\n",
      "PR_AUC: [0.22670117096393388, 0.29524547746455604, 0.3471977449913048, 0.3130251761481257]\n"
     ]
    },
    {
     "name": "stderr",
     "output_type": "stream",
     "text": [
      "\u001b[32m[I 2021-12-14 09:25:45,417]\u001b[0m Trial 14 finished with value: 0.3769303946148321 and parameters: {'n_estimators': 10, 'subsample': 0.9192474490295567, 'max_depth': 5, 'max_features': 19, 'learning_rate': 0.17871235017246065, 'min_samples_leaf': 8}. Best is trial 13 with value: 0.37989264655725846.\u001b[0m\n"
     ]
    },
    {
     "name": "stdout",
     "output_type": "stream",
     "text": [
      "MCC: [0.33801008274692956, 0.39044484326733525, 0.37992878719351963, 0.3993378652515441]\n",
      "ROC: [0.8492931838867567, 0.8942608186464519, 0.8930690593654732, 0.8802913296724786]\n",
      "PR_AUC: [0.19397734065445785, 0.3200863332643693, 0.3052908942363965, 0.2545470836166173]\n"
     ]
    },
    {
     "name": "stderr",
     "output_type": "stream",
     "text": [
      "\u001b[32m[I 2021-12-14 09:25:46,997]\u001b[0m Trial 15 finished with value: 0.3618066659877539 and parameters: {'n_estimators': 60, 'subsample': 0.999495161092392, 'max_depth': 6, 'max_features': 19, 'learning_rate': 0.17721128548941745, 'min_samples_leaf': 13}. Best is trial 13 with value: 0.37989264655725846.\u001b[0m\n"
     ]
    },
    {
     "name": "stdout",
     "output_type": "stream",
     "text": [
      "MCC: [0.3265825909320253, 0.3705399979848684, 0.3743345198551014, 0.3757695551790206]\n",
      "ROC: [0.8451146626950029, 0.872397573720825, 0.88687573930354, 0.8780794296503596]\n",
      "PR_AUC: [0.20523209994544997, 0.24697690820660378, 0.3331734323380174, 0.2973020691527125]\n"
     ]
    },
    {
     "name": "stderr",
     "output_type": "stream",
     "text": [
      "\u001b[32m[I 2021-12-14 09:25:52,037]\u001b[0m Trial 16 finished with value: 0.3621505409357787 and parameters: {'n_estimators': 69, 'subsample': 0.9682757969285061, 'max_depth': 16, 'max_features': 12, 'learning_rate': 0.17315835178275174, 'min_samples_leaf': 2}. Best is trial 13 with value: 0.37989264655725846.\u001b[0m\n"
     ]
    },
    {
     "name": "stdout",
     "output_type": "stream",
     "text": [
      "MCC: [0.33963732330120683, 0.3545899805909892, 0.3872914269131094, 0.3670834329378093]\n",
      "ROC: [0.8489112931456977, 0.8787846963650365, 0.884670250585833, 0.8690426960817313]\n",
      "PR_AUC: [0.19266023348937594, 0.2612571752731539, 0.3235547470398963, 0.23816463891675524]\n"
     ]
    },
    {
     "name": "stderr",
     "output_type": "stream",
     "text": [
      "\u001b[32m[I 2021-12-14 09:25:53,797]\u001b[0m Trial 17 finished with value: 0.3725792003990935 and parameters: {'n_estimators': 118, 'subsample': 0.924580558278454, 'max_depth': 3, 'max_features': 18, 'learning_rate': 0.08974148211872215, 'min_samples_leaf': 12}. Best is trial 13 with value: 0.37989264655725846.\u001b[0m\n"
     ]
    },
    {
     "name": "stdout",
     "output_type": "stream",
     "text": [
      "MCC: [0.3363868591377634, 0.3709768354403102, 0.3845330569125548, 0.3984200501057456]\n",
      "ROC: [0.860100691858726, 0.8847135501199773, 0.8951912011258252, 0.8852280340696717]\n",
      "PR_AUC: [0.21985015790109896, 0.28732747662901975, 0.36719384304290054, 0.3241061112982618]\n"
     ]
    },
    {
     "name": "stderr",
     "output_type": "stream",
     "text": [
      "\u001b[32m[I 2021-12-14 09:25:54,286]\u001b[0m Trial 18 finished with value: 0.37546091670198584 and parameters: {'n_estimators': 10, 'subsample': 0.9259945995262191, 'max_depth': 6, 'max_features': 16, 'learning_rate': 0.19854160944703997, 'min_samples_leaf': 17}. Best is trial 13 with value: 0.37989264655725846.\u001b[0m\n"
     ]
    },
    {
     "name": "stdout",
     "output_type": "stream",
     "text": [
      "MCC: [0.3529877961641858, 0.3701212717111831, 0.3803163715333473, 0.3984182273992271]\n",
      "ROC: [0.8455474722015366, 0.8938677894254454, 0.8901166536837752, 0.883506598835066]\n",
      "PR_AUC: [0.22579975470042812, 0.27227785675375277, 0.32504762092684203, 0.2978565410125891]\n"
     ]
    },
    {
     "name": "stderr",
     "output_type": "stream",
     "text": [
      "\u001b[32m[I 2021-12-14 09:25:55,836]\u001b[0m Trial 19 finished with value: 0.3700528940256513 and parameters: {'n_estimators': 32, 'subsample': 0.8937183240571254, 'max_depth': 15, 'max_features': 19, 'learning_rate': 0.1859836323390793, 'min_samples_leaf': 8}. Best is trial 13 with value: 0.37989264655725846.\u001b[0m\n"
     ]
    },
    {
     "name": "stdout",
     "output_type": "stream",
     "text": [
      "MCC: [0.34336998331769747, 0.36935320678196687, 0.36855235332554226, 0.3989360326773986]\n",
      "ROC: [0.8566891345719323, 0.877323964280486, 0.8893024180234589, 0.8777492474731446]\n",
      "PR_AUC: [0.23230218820392343, 0.24600861638903898, 0.3241090155323976, 0.2401607625501933]\n"
     ]
    },
    {
     "name": "stderr",
     "output_type": "stream",
     "text": [
      "\u001b[32m[I 2021-12-14 09:25:57,335]\u001b[0m Trial 20 finished with value: 0.36523621881911017 and parameters: {'n_estimators': 64, 'subsample': 0.9742922232762813, 'max_depth': 5, 'max_features': 20, 'learning_rate': 0.1528915085775708, 'min_samples_leaf': 17}. Best is trial 13 with value: 0.37989264655725846.\u001b[0m\n"
     ]
    },
    {
     "name": "stdout",
     "output_type": "stream",
     "text": [
      "MCC: [0.32946017559186747, 0.37317498039916525, 0.37376676428081274, 0.3845429550045953]\n",
      "ROC: [0.8516768185955332, 0.8823712869081488, 0.8929344219728224, 0.8822051040394423]\n",
      "PR_AUC: [0.2217509713560651, 0.29033033992116075, 0.31452129118739963, 0.30963159150303543]\n"
     ]
    },
    {
     "name": "stderr",
     "output_type": "stream",
     "text": [
      "\u001b[32m[I 2021-12-14 09:25:57,736]\u001b[0m Trial 21 finished with value: 0.3791521372310711 and parameters: {'n_estimators': 10, 'subsample': 0.9247900894485763, 'max_depth': 3, 'max_features': 19, 'learning_rate': 0.17326155964611412, 'min_samples_leaf': 8}. Best is trial 13 with value: 0.37989264655725846.\u001b[0m\n"
     ]
    },
    {
     "name": "stdout",
     "output_type": "stream",
     "text": [
      "MCC: [0.35499430137574417, 0.3848860692876502, 0.3819485651932968, 0.3947796130675933]\n",
      "ROC: [0.8545505464220019, 0.8868744152298027, 0.8982397763737021, 0.8811536501158843]\n",
      "PR_AUC: [0.23121396903934613, 0.30676467672121416, 0.3554343513287952, 0.2549000832707351]\n"
     ]
    },
    {
     "name": "stderr",
     "output_type": "stream",
     "text": [
      "\u001b[32m[I 2021-12-14 09:25:58,442]\u001b[0m Trial 22 finished with value: 0.3776765277419568 and parameters: {'n_estimators': 34, 'subsample': 0.9356776976036455, 'max_depth': 3, 'max_features': 18, 'learning_rate': 0.16738913512043332, 'min_samples_leaf': 7}. Best is trial 13 with value: 0.37989264655725846.\u001b[0m\n"
     ]
    },
    {
     "name": "stdout",
     "output_type": "stream",
     "text": [
      "MCC: [0.35503147408972985, 0.3773983446016477, 0.3803163715333473, 0.39795992074310227]\n",
      "ROC: [0.8631271759816184, 0.888688396249833, 0.8927677280581121, 0.880977339244556]\n",
      "PR_AUC: [0.2283567757147428, 0.3212922964552959, 0.3582212725499506, 0.2947036513117472]\n"
     ]
    },
    {
     "name": "stderr",
     "output_type": "stream",
     "text": [
      "\u001b[32m[I 2021-12-14 09:26:00,442]\u001b[0m Trial 23 finished with value: 0.3654116832306583 and parameters: {'n_estimators': 49, 'subsample': 0.9651639462440296, 'max_depth': 20, 'max_features': 19, 'learning_rate': 0.18665550084892357, 'min_samples_leaf': 12}. Best is trial 13 with value: 0.37989264655725846.\u001b[0m\n"
     ]
    },
    {
     "name": "stdout",
     "output_type": "stream",
     "text": [
      "MCC: [0.33482079378578417, 0.3784796662444787, 0.3643082784465239, 0.3840379944458464]\n",
      "ROC: [0.843889429900772, 0.8742147371636974, 0.8900397180308319, 0.8853819053755583]\n",
      "PR_AUC: [0.2031816362676297, 0.2408784487685069, 0.3082622337767169, 0.2592544752730361]\n"
     ]
    },
    {
     "name": "stderr",
     "output_type": "stream",
     "text": [
      "\u001b[32m[I 2021-12-14 09:26:01,264]\u001b[0m Trial 24 finished with value: 0.3656814832358799 and parameters: {'n_estimators': 26, 'subsample': 0.9099795358361916, 'max_depth': 5, 'max_features': 16, 'learning_rate': 0.18633617118122323, 'min_samples_leaf': 4}. Best is trial 13 with value: 0.37989264655725846.\u001b[0m\n"
     ]
    },
    {
     "name": "stdout",
     "output_type": "stream",
     "text": [
      "MCC: [0.34371959992018786, 0.34262732316596894, 0.37888818515971534, 0.3974908246976475]\n",
      "ROC: [0.8428901491283345, 0.8809201020921248, 0.8902785391201766, 0.8808170566342576]\n",
      "PR_AUC: [0.1902565066369948, 0.27589547705426604, 0.2994579483426194, 0.2753663684489146]\n",
      "CPU times: user 44.4 s, sys: 0 ns, total: 44.4 s\n",
      "Wall time: 44.3 s\n"
     ]
    }
   ],
   "source": [
    "%%time\n",
    "def create_model(trial):\n",
    "    n_estimators = trial.suggest_int('n_estimators', 10, 200)\n",
    "    subsample = trial.suggest_float('subsample', 0.8, 1.0)\n",
    "    max_depth = trial.suggest_int('max_depth',3,20)\n",
    "    max_features = trial.suggest_int('max_features',10,20)\n",
    "    learning_rate = trial.suggest_uniform('learning_rate',0.08,0.2)\n",
    "    min_samples_leaf = trial.suggest_int('min_samples_leaf',1,50)\n",
    "    model = GradientBoostingClassifier(n_estimators=n_estimators, subsample=subsample, \n",
    "                           max_depth=max_depth, learning_rate=learning_rate, \n",
    "                           min_samples_leaf=min_samples_leaf)\n",
    "#    model = GradientBoostingClassifier(n_estimators=n_estimators, subsample=subsample, \n",
    "#                           learning_rate=learning_rate, \n",
    "#                           min_samples_leaf=min_samples_leaf)\n",
    "#    model = GradientBoostingClassifier(n_estimators=n_estimators, learning_rate=learning_rate) \n",
    "    return model\n",
    "\n",
    "def objective(trial):\n",
    "    model = create_model(trial)\n",
    "    \n",
    "    mcc_list = []\n",
    "    roc_list = []\n",
    "    pr_list = []\n",
    "    f2_list = []\n",
    "    cv = StratifiedKFold(n_splits=4, shuffle=True, random_state=11)\n",
    "    for idx, (train_idx, test_idx) in enumerate(cv.split(X, y)):\n",
    "        X_train_c, X_test_c = X.iloc[train_idx], X.iloc[test_idx]\n",
    "        y_train_c, y_test_c = y[train_idx], y[test_idx]\n",
    "        sampler = RandomUnderSampler(sampling_strategy=1.0, random_state=7)\n",
    "        X_res, y_res = sampler.fit_resample(X_train_c, y_train_c)\n",
    "\n",
    "#        weights = class_weight.compute_sample_weight('balanced', y=y_train)\n",
    "#        model.fit(X_train, y_train, sample_weight=weights)\n",
    "        model.fit(X_res, y_res)\n",
    "        y_pred = model.predict(X_test_c)\n",
    "        probs = model.predict_proba(X_test_c)\n",
    "        prob1 = probs[:, 1]  # Only positives\n",
    "        precision, recall, pr_thresh = precision_recall_curve(y_test_c, prob1)\n",
    "        roc = roc_auc_score(y_test_c, prob1)\n",
    "        roc_list.append(roc)\n",
    "        mcc = matthews_corrcoef(y_test_c, y_pred)  # MWB\n",
    "        mcc_list.append(mcc)\n",
    "        f2 = fbeta_score(y_test_c, y_pred, beta=2.0, average=None)[1]\n",
    "        pr_auc = auc(recall, precision)\n",
    "        pr_list.append(pr_auc)\n",
    "        avg_precision = average_precision_score(y_test_c, prob1)\n",
    "#        print(f'ROC: {roc}')\n",
    "#        print(f'PR_AUC: {pr_auc}')\n",
    "#        print(f'avg_prec: {avg_precision}')\n",
    "        \n",
    "    print(f'MCC: {mcc_list}')\n",
    "    print(f'ROC: {roc_list}')\n",
    "    print(f'PR_AUC: {pr_list}')\n",
    "    return np.mean(mcc_list)\n",
    "\n",
    "sampler = TPESampler(seed=7)\n",
    "study = optuna.create_study(sampler=sampler,direction='maximize')\n",
    "#study.optimize(objective,n_trials=60)\n",
    "study.optimize(objective,n_trials=25)\n",
    "#study.optimize(objective,n_trials=5)"
   ]
  },
  {
   "cell_type": "code",
   "execution_count": 15,
   "metadata": {},
   "outputs": [
    {
     "data": {
      "text/plain": [
       "FrozenTrial(number=13, values=[0.37989264655725846], datetime_start=datetime.datetime(2021, 12, 14, 9, 25, 44, 399093), datetime_complete=datetime.datetime(2021, 12, 14, 9, 25, 44, 917156), params={'n_estimators': 16, 'subsample': 0.9386551526685136, 'max_depth': 3, 'max_features': 19, 'learning_rate': 0.1807474826128703, 'min_samples_leaf': 10}, distributions={'n_estimators': IntUniformDistribution(high=200, low=10, step=1), 'subsample': UniformDistribution(high=1.0, low=0.8), 'max_depth': IntUniformDistribution(high=20, low=3, step=1), 'max_features': IntUniformDistribution(high=20, low=10, step=1), 'learning_rate': UniformDistribution(high=0.2, low=0.08), 'min_samples_leaf': IntUniformDistribution(high=50, low=1, step=1)}, user_attrs={}, system_attrs={}, intermediate_values={}, trial_id=13, state=TrialState.COMPLETE, value=None)"
      ]
     },
     "execution_count": 15,
     "metadata": {},
     "output_type": "execute_result"
    }
   ],
   "source": [
    "best = study.best_trial\n",
    "best"
   ]
  },
  {
   "cell_type": "code",
   "execution_count": 16,
   "metadata": {},
   "outputs": [
    {
     "name": "stdout",
     "output_type": "stream",
     "text": [
      "<class 'dict'>\n"
     ]
    },
    {
     "data": {
      "text/plain": [
       "{'n_estimators': 16,\n",
       " 'subsample': 0.9386551526685136,\n",
       " 'max_depth': 3,\n",
       " 'max_features': 19,\n",
       " 'learning_rate': 0.1807474826128703,\n",
       " 'min_samples_leaf': 10}"
      ]
     },
     "execution_count": 16,
     "metadata": {},
     "output_type": "execute_result"
    }
   ],
   "source": [
    "print(type(study.best_params))\n",
    "study.best_params"
   ]
  },
  {
   "cell_type": "code",
   "execution_count": 22,
   "metadata": {},
   "outputs": [
    {
     "name": "stdout",
     "output_type": "stream",
     "text": [
      "[[2194  539]\n",
      " [  21  144]]\n",
      "              precision    recall  f1-score   support\n",
      "\n",
      "           0       0.99      0.80      0.89      2733\n",
      "           1       0.21      0.87      0.34       165\n",
      "\n",
      "    accuracy                           0.81      2898\n",
      "   macro avg       0.60      0.84      0.61      2898\n",
      "weighted avg       0.95      0.81      0.86      2898\n",
      "\n",
      "ROC AUC prob1: 0.8864307177150206\n",
      "MCC: 0.3688035829631495\n",
      "F2: 0.5361131794489948\n",
      "PR_AUC: 0.27018095986999474\n",
      "CPU times: user 63.7 ms, sys: 0 ns, total: 63.7 ms\n",
      "Wall time: 59.9 ms\n"
     ]
    }
   ],
   "source": [
    "%%time\n",
    "gb_params = study.best_params\n",
    "gb_params['random_state'] = 42\n",
    "gb = GradientBoostingClassifier(**gb_params)\n",
    "gb.fit(X_rus, y_rus)\n",
    "y_pred = gb.predict(X_test)\n",
    "probs = gb.predict_proba(X_test)\n",
    "prob1 = probs[:, 1]  # Only positives\n",
    "precision, recall, pr_thresh = precision_recall_curve(y_test, prob1)\n",
    "print(confusion_matrix(y_pred=y_pred, y_true=y_test))\n",
    "print(classification_report(y_test, y_pred))\n",
    "print(f'ROC AUC prob1: {roc_auc_score(y_test, prob1)}')\n",
    "print(f'MCC: {matthews_corrcoef(y_test, y_pred)}')\n",
    "print(f'F2: {fbeta_score(y_test, y_pred, beta=2.0, average=None)[1]}')\n",
    "print(f'PR_AUC: {auc(recall, precision)}')"
   ]
  },
  {
   "cell_type": "code",
   "execution_count": 30,
   "metadata": {},
   "outputs": [
    {
     "name": "stdout",
     "output_type": "stream",
     "text": [
      "{'n_estimators': 16, 'subsample': 0.9386551526685136, 'max_depth': 3, 'max_features': 19, 'learning_rate': 0.1807474826128703, 'min_samples_leaf': 10}\n",
      "{'n_estimators': 2000, 'subsample': 0.9386551526685136, 'max_depth': 3, 'max_features': 19, 'learning_rate': 0.001, 'min_samples_leaf': 10}\n",
      "{'n_estimators': 16, 'subsample': 0.9386551526685136, 'max_depth': 3, 'max_features': 19, 'learning_rate': 0.1807474826128703, 'min_samples_leaf': 10}\n"
     ]
    }
   ],
   "source": [
    "mod_params = study.best_params.copy()\n",
    "print(mod_params)\n",
    "mod_params['n_estimators'] = 2000\n",
    "mod_params['learning_rate'] = 0.001\n",
    "print(mod_params)\n",
    "print(study.best_params)\n"
   ]
  },
  {
   "cell_type": "code",
   "execution_count": 31,
   "metadata": {},
   "outputs": [
    {
     "name": "stdout",
     "output_type": "stream",
     "text": [
      "[[2192  541]\n",
      " [  18  147]]\n",
      "              precision    recall  f1-score   support\n",
      "\n",
      "           0       0.99      0.80      0.89      2733\n",
      "           1       0.21      0.89      0.34       165\n",
      "\n",
      "    accuracy                           0.81      2898\n",
      "   macro avg       0.60      0.85      0.62      2898\n",
      "weighted avg       0.95      0.81      0.86      2898\n",
      "\n",
      "ROC AUC prob1: 0.8936832651431992\n",
      "MCC: 0.3773796009739648\n",
      "F2: 0.5452522255192879\n",
      "PR_AUC: 0.3302866008382411\n",
      "CPU times: user 2.36 s, sys: 0 ns, total: 2.36 s\n",
      "Wall time: 2.36 s\n"
     ]
    }
   ],
   "source": [
    "%%time\n",
    "gb_params = study.best_params\n",
    "#gb_params['random_state'] = 42\n",
    "gb = GradientBoostingClassifier(**mod_params)\n",
    "gb.fit(X_rus, y_rus)\n",
    "y_pred = gb.predict(X_test)\n",
    "probs = gb.predict_proba(X_test)\n",
    "prob1 = probs[:, 1]  # Only positives\n",
    "precision, recall, pr_thresh = precision_recall_curve(y_test, prob1)\n",
    "print(confusion_matrix(y_pred=y_pred, y_true=y_test))\n",
    "print(classification_report(y_test, y_pred))\n",
    "print(f'ROC AUC prob1: {roc_auc_score(y_test, prob1)}')\n",
    "print(f'MCC: {matthews_corrcoef(y_test, y_pred)}')\n",
    "print(f'F2: {fbeta_score(y_test, y_pred, beta=2.0, average=None)[1]}')\n",
    "print(f'PR_AUC: {auc(recall, precision)}')"
   ]
  },
  {
   "cell_type": "code",
   "execution_count": 32,
   "metadata": {},
   "outputs": [
    {
     "name": "stdout",
     "output_type": "stream",
     "text": [
      "[[2195  538]\n",
      " [  18  147]]\n",
      "              precision    recall  f1-score   support\n",
      "\n",
      "           0       0.99      0.80      0.89      2733\n",
      "           1       0.21      0.89      0.35       165\n",
      "\n",
      "    accuracy                           0.81      2898\n",
      "   macro avg       0.60      0.85      0.62      2898\n",
      "weighted avg       0.95      0.81      0.86      2898\n",
      "\n",
      "ROC AUC prob1: 0.8936699597511891\n",
      "MCC: 0.3785473350803167\n",
      "F2: 0.5464684014869887\n",
      "PR_AUC: 0.32760750584061205\n",
      "CPU times: user 2.23 s, sys: 0 ns, total: 2.23 s\n",
      "Wall time: 2.22 s\n"
     ]
    }
   ],
   "source": [
    "%%time\n",
    "gb_params = study.best_params\n",
    "#gb_params['random_state'] = 42\n",
    "gb = GradientBoostingClassifier(**mod_params)\n",
    "gb.fit(X_rus, y_rus)\n",
    "y_pred = gb.predict(X_test)\n",
    "probs = gb.predict_proba(X_test)\n",
    "prob1 = probs[:, 1]  # Only positives\n",
    "precision, recall, pr_thresh = precision_recall_curve(y_test, prob1)\n",
    "print(confusion_matrix(y_pred=y_pred, y_true=y_test))\n",
    "print(classification_report(y_test, y_pred))\n",
    "print(f'ROC AUC prob1: {roc_auc_score(y_test, prob1)}')\n",
    "print(f'MCC: {matthews_corrcoef(y_test, y_pred)}')\n",
    "print(f'F2: {fbeta_score(y_test, y_pred, beta=2.0, average=None)[1]}')\n",
    "print(f'PR_AUC: {auc(recall, precision)}')"
   ]
  },
  {
   "cell_type": "code",
   "execution_count": 16,
   "metadata": {},
   "outputs": [
    {
     "name": "stdout",
     "output_type": "stream",
     "text": [
      "[[2409  324]\n",
      " [  59  106]]\n",
      "              precision    recall  f1-score   support\n",
      "\n",
      "           0       0.98      0.88      0.93      2733\n",
      "           1       0.25      0.64      0.36       165\n",
      "\n",
      "    accuracy                           0.87      2898\n",
      "   macro avg       0.61      0.76      0.64      2898\n",
      "weighted avg       0.93      0.87      0.89      2898\n",
      "\n",
      "ROC AUC prob1: 0.8750823271130627\n",
      "MCC: 0.34149249514721947\n",
      "F2: 0.4862385321100917\n",
      "PR_AUC: 0.2830320569037005\n",
      "CPU times: user 278 ms, sys: 4 ms, total: 282 ms\n",
      "Wall time: 280 ms\n"
     ]
    }
   ],
   "source": [
    "%%time\n",
    "gb_params = study.best_params\n",
    "gb_params['random_state'] = 42\n",
    "gb_weight = GradientBoostingClassifier(**gb_params)\n",
    "weights = class_weight.compute_sample_weight('balanced', y=y_train)\n",
    "gb_weight.fit(X_train, y_train, sample_weight=weights)\n",
    "y_pred = gb_weight.predict(X_test)\n",
    "probs = gb_weight.predict_proba(X_test)\n",
    "prob1 = probs[:, 1]  # Only positives\n",
    "precision, recall, pr_thresh = precision_recall_curve(y_test, prob1)\n",
    "print(confusion_matrix(y_pred=y_pred, y_true=y_test))\n",
    "print(classification_report(y_test, y_pred))\n",
    "print(f'ROC AUC prob1: {roc_auc_score(y_test, prob1)}')\n",
    "print(f'MCC: {matthews_corrcoef(y_test, y_pred)}')\n",
    "print(f'F2: {fbeta_score(y_test, y_pred, beta=2.0, average=None)[1]}')\n",
    "print(f'PR_AUC: {auc(recall, precision)}')"
   ]
  },
  {
   "cell_type": "code",
   "execution_count": 17,
   "metadata": {},
   "outputs": [
    {
     "data": {
      "text/plain": [
       "Delmode             0.100120\n",
       "prelaborCD          0.048542\n",
       "transfus_yes        0.039994\n",
       "Delfetalpos         0.037433\n",
       "CS_FTP              0.037259\n",
       "AdmSBP              0.035369\n",
       "uscar               0.033633\n",
       "CS_NRFHT            0.031166\n",
       "new_age             0.030934\n",
       "new_BMI             0.030619\n",
       "Admpresent          0.029334\n",
       "AdmDBP              0.025946\n",
       "Analgesia           0.025284\n",
       "HxnumCS             0.024544\n",
       "Intrafever          0.023452\n",
       "BESTGA              0.023151\n",
       "Lac_Min             0.022055\n",
       "spontlabor          0.019795\n",
       "Intrafetdistress    0.019520\n",
       "CS_Other            0.018983\n",
       "dtype: float64"
      ]
     },
     "execution_count": 17,
     "metadata": {},
     "output_type": "execute_result"
    }
   ],
   "source": [
    "# No Sitenum - 5\n",
    "coeffs_wgt = pd.Series(data=gb_weight.feature_importances_,\n",
    "                   index=X_test.columns.values).sort_values(ascending=False)\n",
    "coeffs_wgt[0:20]"
   ]
  },
  {
   "cell_type": "code",
   "execution_count": 33,
   "metadata": {},
   "outputs": [
    {
     "ename": "NameError",
     "evalue": "name 'coeffs_wgt' is not defined",
     "output_type": "error",
     "traceback": [
      "\u001b[0;31m---------------------------------------------------------------------------\u001b[0m",
      "\u001b[0;31mNameError\u001b[0m                                 Traceback (most recent call last)",
      "\u001b[0;32m<ipython-input-33-163c23260408>\u001b[0m in \u001b[0;36m<module>\u001b[0;34m\u001b[0m\n\u001b[1;32m      1\u001b[0m \u001b[0mplt\u001b[0m\u001b[0;34m.\u001b[0m\u001b[0mrcParams\u001b[0m\u001b[0;34m[\u001b[0m\u001b[0;34m\"figure.figsize\"\u001b[0m\u001b[0;34m]\u001b[0m \u001b[0;34m=\u001b[0m \u001b[0;34m(\u001b[0m\u001b[0;36m14\u001b[0m\u001b[0;34m,\u001b[0m \u001b[0;36m8\u001b[0m\u001b[0;34m)\u001b[0m\u001b[0;34m\u001b[0m\u001b[0;34m\u001b[0m\u001b[0m\n\u001b[0;32m----> 2\u001b[0;31m \u001b[0mx_labels\u001b[0m \u001b[0;34m=\u001b[0m \u001b[0mcoeffs_wgt\u001b[0m\u001b[0;34m.\u001b[0m\u001b[0mindex\u001b[0m\u001b[0;34m.\u001b[0m\u001b[0mvalues\u001b[0m\u001b[0;34m[\u001b[0m\u001b[0;36m0\u001b[0m\u001b[0;34m:\u001b[0m\u001b[0;36m25\u001b[0m\u001b[0;34m]\u001b[0m\u001b[0;34m\u001b[0m\u001b[0;34m\u001b[0m\u001b[0m\n\u001b[0m\u001b[1;32m      3\u001b[0m \u001b[0mprint\u001b[0m\u001b[0;34m(\u001b[0m\u001b[0mx_labels\u001b[0m\u001b[0;34m)\u001b[0m\u001b[0;34m\u001b[0m\u001b[0;34m\u001b[0m\u001b[0m\n\u001b[1;32m      4\u001b[0m \u001b[0mfig\u001b[0m\u001b[0;34m,\u001b[0m \u001b[0max\u001b[0m \u001b[0;34m=\u001b[0m \u001b[0mplt\u001b[0m\u001b[0;34m.\u001b[0m\u001b[0msubplots\u001b[0m\u001b[0;34m(\u001b[0m\u001b[0;36m1\u001b[0m\u001b[0;34m,\u001b[0m\u001b[0;36m1\u001b[0m\u001b[0;34m)\u001b[0m  \u001b[0;31m# Create a figure and an axes.\u001b[0m\u001b[0;34m\u001b[0m\u001b[0;34m\u001b[0m\u001b[0m\n\u001b[1;32m      5\u001b[0m \u001b[0max\u001b[0m\u001b[0;34m.\u001b[0m\u001b[0mset_title\u001b[0m\u001b[0;34m(\u001b[0m\u001b[0;34m'Top Predictors: All Sites combined; target: High_EBLoss, vars: PI'\u001b[0m\u001b[0;34m)\u001b[0m\u001b[0;34m\u001b[0m\u001b[0;34m\u001b[0m\u001b[0m\n",
      "\u001b[0;31mNameError\u001b[0m: name 'coeffs_wgt' is not defined"
     ]
    }
   ],
   "source": [
    "plt.rcParams[\"figure.figsize\"] = (14, 8)\n",
    "x_labels = coeffs_wgt.index.values[0:25]\n",
    "print(x_labels)\n",
    "fig, ax = plt.subplots(1,1)  # Create a figure and an axes.\n",
    "ax.set_title('Top Predictors: All Sites combined; target: High_EBLoss, vars: PI')\n",
    "ax.bar(x_labels, coeffs_wgt.values[0:25])\n",
    "ax.set_ylabel('Coeff')\n",
    "ax.set_xlabel('Variable')\n",
    "plt.draw()\n",
    "ax.set_xticklabels(ax.get_xticklabels(), rotation=90, fontsize=16)\n",
    "#plt.xlim(1,20)\n",
    "plt.show()"
   ]
  },
  {
   "cell_type": "code",
   "execution_count": 19,
   "metadata": {},
   "outputs": [
    {
     "data": {
      "text/plain": [
       "Delmode         0.203047\n",
       "Lac_Min         0.107583\n",
       "new_BMI         0.059018\n",
       "Analgesia       0.055636\n",
       "spontlabor      0.050641\n",
       "BESTGA          0.044505\n",
       "Delfetalpos     0.025792\n",
       "transfus_yes    0.024336\n",
       "AdmDBP          0.023741\n",
       "TrialLabor      0.023611\n",
       "Intrafever      0.022488\n",
       "new_age         0.022091\n",
       "AdmSBP          0.019205\n",
       "Dilat_lst       0.017751\n",
       "CS_FTP          0.017589\n",
       "CS_NRFHT        0.017574\n",
       "Admreason       0.016142\n",
       "IUPC            0.015457\n",
       "HxnumCS         0.013869\n",
       "Education       0.013595\n",
       "dtype: float64"
      ]
     },
     "execution_count": 19,
     "metadata": {},
     "output_type": "execute_result"
    }
   ],
   "source": [
    "# No Sitenum - 5\n",
    "coeffs = pd.Series(data=gb.feature_importances_,\n",
    "                   index=X_test.columns.values).sort_values(ascending=False)\n",
    "coeffs[0:20]"
   ]
  },
  {
   "cell_type": "code",
   "execution_count": 35,
   "metadata": {
    "scrolled": true
   },
   "outputs": [
    {
     "data": {
      "text/plain": [
       "array([[0.8 , 0.2 ],\n",
       "       [0.11, 0.89]])"
      ]
     },
     "execution_count": 35,
     "metadata": {},
     "output_type": "execute_result"
    }
   ],
   "source": [
    "np.round(confusion_matrix(y_test, y_pred, normalize='true'), decimals=2) # 25"
   ]
  },
  {
   "cell_type": "code",
   "execution_count": 21,
   "metadata": {},
   "outputs": [
    {
     "data": {
      "text/plain": [
       "{'n_estimators': 16,\n",
       " 'subsample': 0.9601643679270631,\n",
       " 'max_depth': 16,\n",
       " 'max_features': 13,\n",
       " 'learning_rate': 0.19727312624322152,\n",
       " 'min_samples_leaf': 13,\n",
       " 'random_state': 42}"
      ]
     },
     "execution_count": 21,
     "metadata": {},
     "output_type": "execute_result"
    }
   ],
   "source": [
    "gb_params # 5 runs"
   ]
  },
  {
   "cell_type": "code",
   "execution_count": 37,
   "metadata": {},
   "outputs": [],
   "source": [
    "#from optuna.visualization import plot_optimization_history\n",
    "\n",
    "#plotly_config = {\"staticPlot\": True}\n",
    "\n",
    "#fig = plot_optimization_history(study)\n",
    "#fig.show(config=plotly_config)"
   ]
  },
  {
   "cell_type": "code",
   "execution_count": 38,
   "metadata": {},
   "outputs": [],
   "source": [
    "#from optuna.visualization import plot_param_importances\n",
    "\n",
    "#fig = plot_param_importances(study)\n",
    "#fig.show(config=plotly_config)"
   ]
  },
  {
   "cell_type": "code",
   "execution_count": 24,
   "metadata": {},
   "outputs": [
    {
     "data": {
      "text/plain": [
       "0.3155208505596307"
      ]
     },
     "execution_count": 24,
     "metadata": {},
     "output_type": "execute_result"
    }
   ],
   "source": [
    "np.mean([0.3149689279176914, 0.31449457458602254, 0.31066798538596907, 0.3219519143488398])"
   ]
  },
  {
   "cell_type": "markdown",
   "metadata": {},
   "source": [
    "<h1 align='center'>Thanks and make sure to learn!</h1>"
   ]
  }
 ],
 "metadata": {
  "kernelspec": {
   "display_name": "Python 3",
   "language": "python",
   "name": "python3"
  },
  "language_info": {
   "codemirror_mode": {
    "name": "ipython",
    "version": 3
   },
   "file_extension": ".py",
   "mimetype": "text/x-python",
   "name": "python",
   "nbconvert_exporter": "python",
   "pygments_lexer": "ipython3",
   "version": "3.7.9"
  }
 },
 "nbformat": 4,
 "nbformat_minor": 4
}
