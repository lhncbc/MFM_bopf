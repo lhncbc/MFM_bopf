{
 "cells": [
  {
   "cell_type": "code",
   "execution_count": 1,
   "metadata": {
    "_cell_guid": "b1076dfc-b9ad-4769-8c92-a6c4dae69d19",
    "_uuid": "8f2839f25d086af736a60e9eeb907d3b93b6e0e5"
   },
   "outputs": [],
   "source": [
    "import numpy as np \n",
    "import pandas as pd \n",
    "\n",
    "import matplotlib.pyplot as plt\n",
    "#import plotly.express as px\n",
    "import seaborn as sns\n",
    "\n",
    "from lightgbm import LGBMClassifier\n",
    "from sklearn.ensemble import GradientBoostingClassifier\n",
    "\n",
    "from sklearn.model_selection import StratifiedKFold\n",
    "from collections import Counter\n",
    "from imblearn.under_sampling import RandomUnderSampler\n",
    "from sklearn.metrics import classification_report, roc_auc_score, confusion_matrix, \\\n",
    "                            accuracy_score, f1_score, average_precision_score, \\\n",
    "                            fbeta_score, precision_recall_curve, auc\n",
    "from sklearn.metrics import matthews_corrcoef\n",
    "\n",
    "from sklearn.model_selection import train_test_split\n",
    "\n",
    "import optuna\n",
    "from optuna.samplers import TPESampler\n",
    "sns.set(style='white', context='notebook', palette='deep')\n",
    "%config Completer.use_jedi = False"
   ]
  },
  {
   "cell_type": "code",
   "execution_count": 2,
   "metadata": {},
   "outputs": [
    {
     "data": {
      "text/html": [
       "<div>\n",
       "<style scoped>\n",
       "    .dataframe tbody tr th:only-of-type {\n",
       "        vertical-align: middle;\n",
       "    }\n",
       "\n",
       "    .dataframe tbody tr th {\n",
       "        vertical-align: top;\n",
       "    }\n",
       "\n",
       "    .dataframe thead th {\n",
       "        text-align: right;\n",
       "    }\n",
       "</style>\n",
       "<table border=\"1\" class=\"dataframe\">\n",
       "  <thead>\n",
       "    <tr style=\"text-align: right;\">\n",
       "      <th></th>\n",
       "      <th>transfus_yes</th>\n",
       "      <th>Accrete</th>\n",
       "      <th>AdmBishop</th>\n",
       "      <th>Admcervpos</th>\n",
       "      <th>Admconsistency</th>\n",
       "      <th>Admcontract</th>\n",
       "      <th>AdmDBP</th>\n",
       "      <th>Admefface</th>\n",
       "      <th>Admpresent</th>\n",
       "      <th>AdmSBP</th>\n",
       "      <th>...</th>\n",
       "      <th>TD_nos</th>\n",
       "      <th>ThreatenedPB</th>\n",
       "      <th>threatpb9</th>\n",
       "      <th>UnspecHBP</th>\n",
       "      <th>uscar</th>\n",
       "      <th>version9</th>\n",
       "      <th>new_age</th>\n",
       "      <th>new_BMI</th>\n",
       "      <th>new_high_Age</th>\n",
       "      <th>new_high_BMI</th>\n",
       "    </tr>\n",
       "    <tr>\n",
       "      <th>MomID</th>\n",
       "      <th></th>\n",
       "      <th></th>\n",
       "      <th></th>\n",
       "      <th></th>\n",
       "      <th></th>\n",
       "      <th></th>\n",
       "      <th></th>\n",
       "      <th></th>\n",
       "      <th></th>\n",
       "      <th></th>\n",
       "      <th></th>\n",
       "      <th></th>\n",
       "      <th></th>\n",
       "      <th></th>\n",
       "      <th></th>\n",
       "      <th></th>\n",
       "      <th></th>\n",
       "      <th></th>\n",
       "      <th></th>\n",
       "      <th></th>\n",
       "      <th></th>\n",
       "    </tr>\n",
       "  </thead>\n",
       "  <tbody>\n",
       "    <tr>\n",
       "      <th>42-04780</th>\n",
       "      <td>0</td>\n",
       "      <td>0</td>\n",
       "      <td>8</td>\n",
       "      <td>8</td>\n",
       "      <td>8</td>\n",
       "      <td>99.0</td>\n",
       "      <td>77</td>\n",
       "      <td>100.0</td>\n",
       "      <td>1</td>\n",
       "      <td>121.0</td>\n",
       "      <td>...</td>\n",
       "      <td>0</td>\n",
       "      <td>0</td>\n",
       "      <td>0</td>\n",
       "      <td>0</td>\n",
       "      <td>0</td>\n",
       "      <td>0</td>\n",
       "      <td>35</td>\n",
       "      <td>25</td>\n",
       "      <td>1</td>\n",
       "      <td>1</td>\n",
       "    </tr>\n",
       "    <tr>\n",
       "      <th>42-02059</th>\n",
       "      <td>0</td>\n",
       "      <td>0</td>\n",
       "      <td>8</td>\n",
       "      <td>8</td>\n",
       "      <td>8</td>\n",
       "      <td>99.0</td>\n",
       "      <td>75</td>\n",
       "      <td>70.0</td>\n",
       "      <td>1</td>\n",
       "      <td>126.0</td>\n",
       "      <td>...</td>\n",
       "      <td>0</td>\n",
       "      <td>0</td>\n",
       "      <td>0</td>\n",
       "      <td>0</td>\n",
       "      <td>0</td>\n",
       "      <td>0</td>\n",
       "      <td>20</td>\n",
       "      <td>25</td>\n",
       "      <td>1</td>\n",
       "      <td>1</td>\n",
       "    </tr>\n",
       "    <tr>\n",
       "      <th>42-03840</th>\n",
       "      <td>0</td>\n",
       "      <td>0</td>\n",
       "      <td>8</td>\n",
       "      <td>8</td>\n",
       "      <td>8</td>\n",
       "      <td>99.0</td>\n",
       "      <td>74</td>\n",
       "      <td>100.0</td>\n",
       "      <td>1</td>\n",
       "      <td>121.0</td>\n",
       "      <td>...</td>\n",
       "      <td>0</td>\n",
       "      <td>0</td>\n",
       "      <td>0</td>\n",
       "      <td>0</td>\n",
       "      <td>0</td>\n",
       "      <td>0</td>\n",
       "      <td>21</td>\n",
       "      <td>26</td>\n",
       "      <td>1</td>\n",
       "      <td>1</td>\n",
       "    </tr>\n",
       "    <tr>\n",
       "      <th>42-00258</th>\n",
       "      <td>0</td>\n",
       "      <td>0</td>\n",
       "      <td>8</td>\n",
       "      <td>8</td>\n",
       "      <td>8</td>\n",
       "      <td>99.0</td>\n",
       "      <td>74</td>\n",
       "      <td>50.0</td>\n",
       "      <td>1</td>\n",
       "      <td>124.4</td>\n",
       "      <td>...</td>\n",
       "      <td>0</td>\n",
       "      <td>0</td>\n",
       "      <td>0</td>\n",
       "      <td>0</td>\n",
       "      <td>0</td>\n",
       "      <td>0</td>\n",
       "      <td>23</td>\n",
       "      <td>28</td>\n",
       "      <td>1</td>\n",
       "      <td>1</td>\n",
       "    </tr>\n",
       "    <tr>\n",
       "      <th>42-04735</th>\n",
       "      <td>0</td>\n",
       "      <td>0</td>\n",
       "      <td>8</td>\n",
       "      <td>8</td>\n",
       "      <td>8</td>\n",
       "      <td>99.0</td>\n",
       "      <td>79</td>\n",
       "      <td>100.0</td>\n",
       "      <td>1</td>\n",
       "      <td>151.0</td>\n",
       "      <td>...</td>\n",
       "      <td>1</td>\n",
       "      <td>0</td>\n",
       "      <td>0</td>\n",
       "      <td>0</td>\n",
       "      <td>0</td>\n",
       "      <td>0</td>\n",
       "      <td>20</td>\n",
       "      <td>38</td>\n",
       "      <td>1</td>\n",
       "      <td>1</td>\n",
       "    </tr>\n",
       "    <tr>\n",
       "      <th>...</th>\n",
       "      <td>...</td>\n",
       "      <td>...</td>\n",
       "      <td>...</td>\n",
       "      <td>...</td>\n",
       "      <td>...</td>\n",
       "      <td>...</td>\n",
       "      <td>...</td>\n",
       "      <td>...</td>\n",
       "      <td>...</td>\n",
       "      <td>...</td>\n",
       "      <td>...</td>\n",
       "      <td>...</td>\n",
       "      <td>...</td>\n",
       "      <td>...</td>\n",
       "      <td>...</td>\n",
       "      <td>...</td>\n",
       "      <td>...</td>\n",
       "      <td>...</td>\n",
       "      <td>...</td>\n",
       "      <td>...</td>\n",
       "      <td>...</td>\n",
       "    </tr>\n",
       "    <tr>\n",
       "      <th>42-04313</th>\n",
       "      <td>0</td>\n",
       "      <td>0</td>\n",
       "      <td>8</td>\n",
       "      <td>8</td>\n",
       "      <td>8</td>\n",
       "      <td>99.0</td>\n",
       "      <td>81</td>\n",
       "      <td>90.0</td>\n",
       "      <td>1</td>\n",
       "      <td>115.0</td>\n",
       "      <td>...</td>\n",
       "      <td>0</td>\n",
       "      <td>0</td>\n",
       "      <td>0</td>\n",
       "      <td>0</td>\n",
       "      <td>0</td>\n",
       "      <td>0</td>\n",
       "      <td>17</td>\n",
       "      <td>24</td>\n",
       "      <td>0</td>\n",
       "      <td>1</td>\n",
       "    </tr>\n",
       "    <tr>\n",
       "      <th>42-05627</th>\n",
       "      <td>0</td>\n",
       "      <td>0</td>\n",
       "      <td>8</td>\n",
       "      <td>8</td>\n",
       "      <td>8</td>\n",
       "      <td>99.0</td>\n",
       "      <td>89</td>\n",
       "      <td>100.0</td>\n",
       "      <td>1</td>\n",
       "      <td>137.0</td>\n",
       "      <td>...</td>\n",
       "      <td>0</td>\n",
       "      <td>0</td>\n",
       "      <td>0</td>\n",
       "      <td>0</td>\n",
       "      <td>0</td>\n",
       "      <td>0</td>\n",
       "      <td>30</td>\n",
       "      <td>19</td>\n",
       "      <td>1</td>\n",
       "      <td>0</td>\n",
       "    </tr>\n",
       "    <tr>\n",
       "      <th>42-02719</th>\n",
       "      <td>0</td>\n",
       "      <td>0</td>\n",
       "      <td>8</td>\n",
       "      <td>8</td>\n",
       "      <td>8</td>\n",
       "      <td>99.0</td>\n",
       "      <td>76</td>\n",
       "      <td>100.0</td>\n",
       "      <td>1</td>\n",
       "      <td>127.0</td>\n",
       "      <td>...</td>\n",
       "      <td>0</td>\n",
       "      <td>0</td>\n",
       "      <td>0</td>\n",
       "      <td>0</td>\n",
       "      <td>0</td>\n",
       "      <td>0</td>\n",
       "      <td>24</td>\n",
       "      <td>24</td>\n",
       "      <td>1</td>\n",
       "      <td>1</td>\n",
       "    </tr>\n",
       "    <tr>\n",
       "      <th>42-03467</th>\n",
       "      <td>0</td>\n",
       "      <td>0</td>\n",
       "      <td>8</td>\n",
       "      <td>8</td>\n",
       "      <td>8</td>\n",
       "      <td>99.0</td>\n",
       "      <td>74</td>\n",
       "      <td>50.0</td>\n",
       "      <td>77</td>\n",
       "      <td>124.4</td>\n",
       "      <td>...</td>\n",
       "      <td>0</td>\n",
       "      <td>0</td>\n",
       "      <td>0</td>\n",
       "      <td>0</td>\n",
       "      <td>0</td>\n",
       "      <td>0</td>\n",
       "      <td>33</td>\n",
       "      <td>33</td>\n",
       "      <td>1</td>\n",
       "      <td>1</td>\n",
       "    </tr>\n",
       "    <tr>\n",
       "      <th>42-02176</th>\n",
       "      <td>0</td>\n",
       "      <td>0</td>\n",
       "      <td>8</td>\n",
       "      <td>8</td>\n",
       "      <td>8</td>\n",
       "      <td>99.0</td>\n",
       "      <td>74</td>\n",
       "      <td>50.0</td>\n",
       "      <td>1</td>\n",
       "      <td>124.4</td>\n",
       "      <td>...</td>\n",
       "      <td>0</td>\n",
       "      <td>0</td>\n",
       "      <td>0</td>\n",
       "      <td>0</td>\n",
       "      <td>0</td>\n",
       "      <td>0</td>\n",
       "      <td>35</td>\n",
       "      <td>24</td>\n",
       "      <td>1</td>\n",
       "      <td>1</td>\n",
       "    </tr>\n",
       "  </tbody>\n",
       "</table>\n",
       "<p>4048 rows × 195 columns</p>\n",
       "</div>"
      ],
      "text/plain": [
       "          transfus_yes  Accrete  AdmBishop  Admcervpos  Admconsistency  \\\n",
       "MomID                                                                    \n",
       "42-04780             0        0          8           8               8   \n",
       "42-02059             0        0          8           8               8   \n",
       "42-03840             0        0          8           8               8   \n",
       "42-00258             0        0          8           8               8   \n",
       "42-04735             0        0          8           8               8   \n",
       "...                ...      ...        ...         ...             ...   \n",
       "42-04313             0        0          8           8               8   \n",
       "42-05627             0        0          8           8               8   \n",
       "42-02719             0        0          8           8               8   \n",
       "42-03467             0        0          8           8               8   \n",
       "42-02176             0        0          8           8               8   \n",
       "\n",
       "          Admcontract  AdmDBP  Admefface  Admpresent  AdmSBP  ...  TD_nos  \\\n",
       "MomID                                                         ...           \n",
       "42-04780         99.0      77      100.0           1   121.0  ...       0   \n",
       "42-02059         99.0      75       70.0           1   126.0  ...       0   \n",
       "42-03840         99.0      74      100.0           1   121.0  ...       0   \n",
       "42-00258         99.0      74       50.0           1   124.4  ...       0   \n",
       "42-04735         99.0      79      100.0           1   151.0  ...       1   \n",
       "...               ...     ...        ...         ...     ...  ...     ...   \n",
       "42-04313         99.0      81       90.0           1   115.0  ...       0   \n",
       "42-05627         99.0      89      100.0           1   137.0  ...       0   \n",
       "42-02719         99.0      76      100.0           1   127.0  ...       0   \n",
       "42-03467         99.0      74       50.0          77   124.4  ...       0   \n",
       "42-02176         99.0      74       50.0           1   124.4  ...       0   \n",
       "\n",
       "          ThreatenedPB  threatpb9  UnspecHBP  uscar  version9  new_age  \\\n",
       "MomID                                                                    \n",
       "42-04780             0          0          0      0         0       35   \n",
       "42-02059             0          0          0      0         0       20   \n",
       "42-03840             0          0          0      0         0       21   \n",
       "42-00258             0          0          0      0         0       23   \n",
       "42-04735             0          0          0      0         0       20   \n",
       "...                ...        ...        ...    ...       ...      ...   \n",
       "42-04313             0          0          0      0         0       17   \n",
       "42-05627             0          0          0      0         0       30   \n",
       "42-02719             0          0          0      0         0       24   \n",
       "42-03467             0          0          0      0         0       33   \n",
       "42-02176             0          0          0      0         0       35   \n",
       "\n",
       "          new_BMI  new_high_Age  new_high_BMI  \n",
       "MomID                                          \n",
       "42-04780       25             1             1  \n",
       "42-02059       25             1             1  \n",
       "42-03840       26             1             1  \n",
       "42-00258       28             1             1  \n",
       "42-04735       38             1             1  \n",
       "...           ...           ...           ...  \n",
       "42-04313       24             0             1  \n",
       "42-05627       19             1             0  \n",
       "42-02719       24             1             1  \n",
       "42-03467       33             1             1  \n",
       "42-02176       24             1             1  \n",
       "\n",
       "[4048 rows x 195 columns]"
      ]
     },
     "execution_count": 2,
     "metadata": {},
     "output_type": "execute_result"
    }
   ],
   "source": [
    "csl_df = pd.read_csv('../../data/csl/Sites/CSL_he_PI_s42.csv', index_col=0)\n",
    "X = csl_df.drop(['high_EBL','Sitenum'], axis=1, inplace=False)\n",
    "y = csl_df['high_EBL'].values\n",
    "\n",
    "X_train, X_test, y_train, y_test = train_test_split(X, y, test_size=0.3, stratify=y, random_state=7)\n",
    "X_train                                                    "
   ]
  },
  {
   "cell_type": "code",
   "execution_count": 3,
   "metadata": {},
   "outputs": [
    {
     "data": {
      "text/plain": [
       "(5784, 195)"
      ]
     },
     "execution_count": 3,
     "metadata": {},
     "output_type": "execute_result"
    }
   ],
   "source": [
    "X.shape"
   ]
  },
  {
   "cell_type": "markdown",
   "metadata": {},
   "source": [
    "<h1 align='center'>Exploratory Data Analysis</h1>"
   ]
  },
  {
   "cell_type": "markdown",
   "metadata": {},
   "source": [
    "<h1 align='center'>Modelling</h1>"
   ]
  },
  {
   "cell_type": "code",
   "execution_count": 8,
   "metadata": {},
   "outputs": [
    {
     "name": "stdout",
     "output_type": "stream",
     "text": [
      "(4048, 195)\n",
      "(5784, 195)\n",
      "(5784,)\n"
     ]
    }
   ],
   "source": [
    "print(X_train.shape)\n",
    "print(X.shape)\n",
    "print(y.shape)"
   ]
  },
  {
   "cell_type": "markdown",
   "metadata": {},
   "source": [
    "Here we define our validation set"
   ]
  },
  {
   "cell_type": "markdown",
   "metadata": {},
   "source": [
    "<h1 align='center'>Modelling Using Undersampling</h1>"
   ]
  },
  {
   "cell_type": "markdown",
   "metadata": {},
   "source": [
    "We will use `imblearn`'s RandomUnderSampler to undersample from the majority class so that they match"
   ]
  },
  {
   "cell_type": "code",
   "execution_count": 9,
   "metadata": {},
   "outputs": [],
   "source": [
    "sampler = RandomUnderSampler(sampling_strategy=1.0, random_state=7)\n",
    "X_rus, y_rus = sampler.fit_resample(X_train, y_train)\n",
    "\n",
    "# Try with no undersampling\n",
    "#X_rus, y_rus = X_train, y_train"
   ]
  },
  {
   "cell_type": "code",
   "execution_count": 10,
   "metadata": {},
   "outputs": [
    {
     "name": "stdout",
     "output_type": "stream",
     "text": [
      "(398, 195)\n",
      "(398,)\n",
      "[199 199]\n"
     ]
    }
   ],
   "source": [
    "print(X_rus.shape)\n",
    "print(y_rus.shape)\n",
    "print(np.bincount(y_rus))"
   ]
  },
  {
   "cell_type": "markdown",
   "metadata": {},
   "source": [
    "<h1 align='center'>Basic Gradient Boosting</h1>"
   ]
  },
  {
   "cell_type": "code",
   "execution_count": 11,
   "metadata": {},
   "outputs": [
    {
     "name": "stdout",
     "output_type": "stream",
     "text": [
      "{'ccp_alpha': 0.0, 'criterion': 'friedman_mse', 'init': None, 'learning_rate': 0.1, 'loss': 'deviance', 'max_depth': 3, 'max_features': None, 'max_leaf_nodes': None, 'min_impurity_decrease': 0.0, 'min_impurity_split': None, 'min_samples_leaf': 1, 'min_samples_split': 2, 'min_weight_fraction_leaf': 0.0, 'n_estimators': 100, 'n_iter_no_change': None, 'presort': 'deprecated', 'random_state': None, 'subsample': 1.0, 'tol': 0.0001, 'validation_fraction': 0.1, 'verbose': 0, 'warm_start': False}\n",
      "[[1294  356]\n",
      " [  12   74]]\n",
      "              precision    recall  f1-score   support\n",
      "\n",
      "           0       0.99      0.78      0.88      1650\n",
      "           1       0.17      0.86      0.29        86\n",
      "\n",
      "    accuracy                           0.79      1736\n",
      "   macro avg       0.58      0.82      0.58      1736\n",
      "weighted avg       0.95      0.79      0.85      1736\n",
      "\n",
      "ROC AUC prob1: 0.8597392529950669\n",
      "MCC: 0.3240769412945344\n",
      "F2: 0.47803617571059437\n",
      "PR_AUC: 0.23617949195964885\n",
      "CPU times: user 216 ms, sys: 1.16 ms, total: 217 ms\n",
      "Wall time: 214 ms\n"
     ]
    }
   ],
   "source": [
    "%%time\n",
    "from sklearn.metrics import matthews_corrcoef\n",
    "from sklearn.utils import class_weight\n",
    "gb_rus = GradientBoostingClassifier()   # If not undersampling\n",
    "gb_rus.fit(X_rus, y_rus)\n",
    "print(gb_rus.get_params())\n",
    "y_pred = gb_rus.predict(X_test)\n",
    "probs = gb_rus.predict_proba(X_test)\n",
    "prob1 = probs[:, 1]  # Only positives\n",
    "precision, recall, pr_thresh = precision_recall_curve(y_test, prob1)\n",
    "print(confusion_matrix(y_pred=y_pred, y_true=y_test))\n",
    "print(classification_report(y_test, y_pred))\n",
    "print(f'ROC AUC prob1: {roc_auc_score(y_test, prob1)}')\n",
    "print(f'MCC: {matthews_corrcoef(y_test, y_pred)}')\n",
    "print(f'F2: {fbeta_score(y_test, y_pred, beta=2.0, average=None)[1]}')\n",
    "print(f'PR_AUC: {auc(recall, precision)}')"
   ]
  },
  {
   "cell_type": "code",
   "execution_count": 12,
   "metadata": {},
   "outputs": [
    {
     "name": "stdout",
     "output_type": "stream",
     "text": [
      "{'ccp_alpha': 0.0, 'criterion': 'friedman_mse', 'init': None, 'learning_rate': 0.1, 'loss': 'deviance', 'max_depth': 3, 'max_features': None, 'max_leaf_nodes': None, 'min_impurity_decrease': 0.0, 'min_impurity_split': None, 'min_samples_leaf': 1, 'min_samples_split': 2, 'min_weight_fraction_leaf': 0.0, 'n_estimators': 100, 'n_iter_no_change': None, 'presort': 'deprecated', 'random_state': None, 'subsample': 1.0, 'tol': 0.0001, 'validation_fraction': 0.1, 'verbose': 0, 'warm_start': False}\n",
      "[[1371  279]\n",
      " [  16   70]]\n",
      "              precision    recall  f1-score   support\n",
      "\n",
      "           0       0.99      0.83      0.90      1650\n",
      "           1       0.20      0.81      0.32        86\n",
      "\n",
      "    accuracy                           0.83      1736\n",
      "   macro avg       0.59      0.82      0.61      1736\n",
      "weighted avg       0.95      0.83      0.87      1736\n",
      "\n",
      "ROC AUC prob1: 0.8586962649753348\n",
      "MCC: 0.3491462884650192\n",
      "F2: 0.5050505050505051\n",
      "PR_AUC: 0.20716533440804316\n",
      "CPU times: user 1.23 s, sys: 4.98 ms, total: 1.24 s\n",
      "Wall time: 1.23 s\n"
     ]
    }
   ],
   "source": [
    "%%time\n",
    "# Not undersampled\n",
    "from sklearn.metrics import matthews_corrcoef\n",
    "from sklearn.utils import class_weight\n",
    "gb_weight = GradientBoostingClassifier()  \n",
    "weights = class_weight.compute_sample_weight('balanced', y=y_train)\n",
    "gb_weight.fit(X_train, y_train, sample_weight=weights)\n",
    "print(gb_weight.get_params())\n",
    "y_pred = gb_weight.predict(X_test)\n",
    "probs = gb_weight.predict_proba(X_test)\n",
    "prob1 = probs[:, 1]  # Only positives\n",
    "precision, recall, pr_thresh = precision_recall_curve(y_test, prob1)\n",
    "print(confusion_matrix(y_pred=y_pred, y_true=y_test))\n",
    "print(classification_report(y_test, y_pred))\n",
    "print(f'ROC AUC prob1: {roc_auc_score(y_test, prob1)}')\n",
    "print(f'MCC: {matthews_corrcoef(y_test, y_pred)}')\n",
    "print(f'F2: {fbeta_score(y_test, y_pred, beta=2.0, average=None)[1]}')\n",
    "print(f'PR_AUC: {auc(recall, precision)}')"
   ]
  },
  {
   "cell_type": "markdown",
   "metadata": {},
   "source": [
    "<h1 align='center'>Hyperparameter Tuning with Cross Validation</h1>"
   ]
  },
  {
   "cell_type": "code",
   "execution_count": 13,
   "metadata": {
    "scrolled": false
   },
   "outputs": [
    {
     "name": "stderr",
     "output_type": "stream",
     "text": [
      "\u001b[32m[I 2021-12-10 17:12:01,051]\u001b[0m A new study created in memory with name: no-name-8048c74c-fd79-4fe4-9aea-b76ae2dc9827\u001b[0m\n",
      "\u001b[32m[I 2021-12-10 17:12:01,512]\u001b[0m Trial 0 finished with value: 0.3449656297807747 and parameters: {'n_estimators': 24, 'subsample': 0.955983758448023, 'max_depth': 10, 'max_features': 17, 'learning_rate': 0.1973587414395923, 'min_samples_leaf': 27}. Best is trial 0 with value: 0.3449656297807747.\u001b[0m\n"
     ]
    },
    {
     "name": "stdout",
     "output_type": "stream",
     "text": [
      "MCC: [0.3109672292879325, 0.35225932063795257, 0.3461078586784821, 0.3705281105187316]\n",
      "ROC: [0.8495877080665812, 0.8798668373879641, 0.8690601792573623, 0.8889040514313439]\n",
      "PR_AUC: [0.2542466127523184, 0.2650230299097522, 0.23002338928981045, 0.2507584793954582]\n"
     ]
    },
    {
     "name": "stderr",
     "output_type": "stream",
     "text": [
      "\u001b[32m[I 2021-12-10 17:12:02,455]\u001b[0m Trial 1 finished with value: 0.3376963176858768 and parameters: {'n_estimators': 105, 'subsample': 0.8144102266719524, 'max_depth': 7, 'max_features': 15, 'learning_rate': 0.16150759953451288, 'min_samples_leaf': 41}. Best is trial 0 with value: 0.3449656297807747.\u001b[0m\n"
     ]
    },
    {
     "name": "stdout",
     "output_type": "stream",
     "text": [
      "MCC: [0.3190562309948463, 0.3485013459659645, 0.3281256479779031, 0.3551020458047932]\n",
      "ROC: [0.8469551856594111, 0.8736389244558258, 0.8736696542893726, 0.8758187772925764]\n",
      "PR_AUC: [0.23563687114886772, 0.2597903206089115, 0.23043793508677818, 0.260297260538613]\n"
     ]
    },
    {
     "name": "stderr",
     "output_type": "stream",
     "text": [
      "\u001b[32m[I 2021-12-10 17:12:03,466]\u001b[0m Trial 2 finished with value: 0.3392141740477944 and parameters: {'n_estimators': 82, 'subsample': 0.813187269381181, 'max_depth': 8, 'max_features': 20, 'learning_rate': 0.10560624242958987, 'min_samples_leaf': 23}. Best is trial 0 with value: 0.3449656297807747.\u001b[0m\n"
     ]
    },
    {
     "name": "stdout",
     "output_type": "stream",
     "text": [
      "MCC: [0.31353745700337815, 0.3576298183354836, 0.3359519520929719, 0.3497374687593441]\n",
      "ROC: [0.8470576184379002, 0.8764455825864276, 0.8749398207426375, 0.874282306323791]\n",
      "PR_AUC: [0.21034946274648925, 0.2332334060816672, 0.23082003348822727, 0.25833278543036703]\n"
     ]
    },
    {
     "name": "stderr",
     "output_type": "stream",
     "text": [
      "\u001b[32m[I 2021-12-10 17:12:05,230]\u001b[0m Trial 3 finished with value: 0.32126601147400874 and parameters: {'n_estimators': 187, 'subsample': 0.8049798455100696, 'max_depth': 13, 'max_features': 20, 'learning_rate': 0.10763634548251577, 'min_samples_leaf': 28}. Best is trial 0 with value: 0.3449656297807747.\u001b[0m\n"
     ]
    },
    {
     "name": "stdout",
     "output_type": "stream",
     "text": [
      "MCC: [0.28467814473106384, 0.3401487451967217, 0.31651201825678665, 0.3437251377114627]\n",
      "ROC: [0.8397848911651729, 0.871887323943662, 0.8733930857874521, 0.8744541484716158]\n",
      "PR_AUC: [0.22015330623361867, 0.2526346990301474, 0.2249627783183427, 0.25266913233461225]\n"
     ]
    },
    {
     "name": "stderr",
     "output_type": "stream",
     "text": [
      "\u001b[32m[I 2021-12-10 17:12:07,142]\u001b[0m Trial 4 finished with value: 0.3357622485582103 and parameters: {'n_estimators': 183, 'subsample': 0.8266338891518501, 'max_depth': 12, 'max_features': 18, 'learning_rate': 0.16028158890606967, 'min_samples_leaf': 24}. Best is trial 0 with value: 0.3449656297807747.\u001b[0m\n"
     ]
    },
    {
     "name": "stdout",
     "output_type": "stream",
     "text": [
      "MCC: [0.301471505901395, 0.35838959900254114, 0.34529082994515337, 0.33789705938375175]\n",
      "ROC: [0.8393854033290653, 0.8747656850192062, 0.8805941101152369, 0.8697941937570759]\n",
      "PR_AUC: [0.21725108250967237, 0.25567092194219204, 0.22579521897255914, 0.25046826500064223]\n"
     ]
    },
    {
     "name": "stderr",
     "output_type": "stream",
     "text": [
      "\u001b[32m[I 2021-12-10 17:12:07,769]\u001b[0m Trial 5 finished with value: 0.35074558493173535 and parameters: {'n_estimators': 49, 'subsample': 0.8981531778182141, 'max_depth': 9, 'max_features': 15, 'learning_rate': 0.12390684629367116, 'min_samples_leaf': 42}. Best is trial 5 with value: 0.35074558493173535.\u001b[0m\n"
     ]
    },
    {
     "name": "stdout",
     "output_type": "stream",
     "text": [
      "MCC: [0.32752238519236, 0.362222399147225, 0.3429766964662433, 0.37026085892111327]\n",
      "ROC: [0.8538898847631241, 0.8887477592829707, 0.8788937259923176, 0.8952672650816755]\n",
      "PR_AUC: [0.2646909913026046, 0.26020968216136087, 0.22812132287173068, 0.2770844296615063]\n"
     ]
    },
    {
     "name": "stderr",
     "output_type": "stream",
     "text": [
      "\u001b[32m[I 2021-12-10 17:12:09,734]\u001b[0m Trial 6 finished with value: 0.33441919141429843 and parameters: {'n_estimators': 156, 'subsample': 0.8627989354425325, 'max_depth': 13, 'max_features': 13, 'learning_rate': 0.13434115190556806, 'min_samples_leaf': 18}. Best is trial 5 with value: 0.35074558493173535.\u001b[0m\n"
     ]
    },
    {
     "name": "stdout",
     "output_type": "stream",
     "text": [
      "MCC: [0.29168140268406806, 0.35387561506383003, 0.35225932063795257, 0.33986042727134297]\n",
      "ROC: [0.8409423815620998, 0.8763738796414853, 0.8817516005121638, 0.875040433446547]\n",
      "PR_AUC: [0.19811666565110925, 0.2679191696744137, 0.2518164029123269, 0.23631042813207626]\n"
     ]
    },
    {
     "name": "stderr",
     "output_type": "stream",
     "text": [
      "\u001b[32m[I 2021-12-10 17:12:10,895]\u001b[0m Trial 7 finished with value: 0.34013024850784146 and parameters: {'n_estimators': 135, 'subsample': 0.8740702165976071, 'max_depth': 11, 'max_features': 17, 'learning_rate': 0.12955901949366017, 'min_samples_leaf': 46}. Best is trial 5 with value: 0.35074558493173535.\u001b[0m\n"
     ]
    },
    {
     "name": "stdout",
     "output_type": "stream",
     "text": [
      "MCC: [0.32162346957835014, 0.3431047926271489, 0.3406906860210734, 0.3551020458047932]\n",
      "ROC: [0.8419769526248398, 0.8791293213828425, 0.8709756722151087, 0.8826115963124697]\n",
      "PR_AUC: [0.23629969387763194, 0.2668424047097139, 0.21713332694009935, 0.2709982461870448]\n"
     ]
    },
    {
     "name": "stderr",
     "output_type": "stream",
     "text": [
      "\u001b[32m[I 2021-12-10 17:12:11,549]\u001b[0m Trial 8 finished with value: 0.34298014458964887 and parameters: {'n_estimators': 44, 'subsample': 0.9482237745826528, 'max_depth': 10, 'max_features': 14, 'learning_rate': 0.15612558423606065, 'min_samples_leaf': 27}. Best is trial 5 with value: 0.35074558493173535.\u001b[0m\n"
     ]
    },
    {
     "name": "stdout",
     "output_type": "stream",
     "text": [
      "MCC: [0.3046467356326966, 0.36615816337706814, 0.34529082994515337, 0.3558248494036772]\n",
      "ROC: [0.8411165172855313, 0.8748886043533931, 0.881628681177977, 0.8847646773410967]\n",
      "PR_AUC: [0.2734004289718773, 0.2595930939808364, 0.2605497575866468, 0.2479631476581579]\n"
     ]
    },
    {
     "name": "stderr",
     "output_type": "stream",
     "text": [
      "\u001b[32m[I 2021-12-10 17:12:12,397]\u001b[0m Trial 9 finished with value: 0.3415413565105966 and parameters: {'n_estimators': 89, 'subsample': 0.8002853761125517, 'max_depth': 4, 'max_features': 17, 'learning_rate': 0.14292147161182367, 'min_samples_leaf': 35}. Best is trial 5 with value: 0.35074558493173535.\u001b[0m\n"
     ]
    },
    {
     "name": "stdout",
     "output_type": "stream",
     "text": [
      "MCC: [0.3142765872181906, 0.35611926476185246, 0.3233864831269125, 0.3723830909354308]\n",
      "ROC: [0.8321331626120358, 0.8784327784891165, 0.8776747759282971, 0.8881509784894064]\n",
      "PR_AUC: [0.22710149986173983, 0.2754525371837554, 0.2281670511488119, 0.25525421079289223]\n"
     ]
    },
    {
     "name": "stderr",
     "output_type": "stream",
     "text": [
      "\u001b[32m[I 2021-12-10 17:12:14,036]\u001b[0m Trial 10 finished with value: 0.34790034713208684 and parameters: {'n_estimators': 55, 'subsample': 0.924763336987846, 'max_depth': 18, 'max_features': 10, 'learning_rate': 0.09172353354166263, 'min_samples_leaf': 4}. Best is trial 5 with value: 0.35074558493173535.\u001b[0m\n"
     ]
    },
    {
     "name": "stdout",
     "output_type": "stream",
     "text": [
      "MCC: [0.3235002061013286, 0.3591524129233262, 0.3386879105825793, 0.37026085892111327]\n",
      "ROC: [0.844629961587708, 0.8867708066581306, 0.872573623559539, 0.8830664725861233]\n",
      "PR_AUC: [0.19181249879496767, 0.2571550350274446, 0.20901645122075513, 0.23174161202447563]\n"
     ]
    },
    {
     "name": "stderr",
     "output_type": "stream",
     "text": [
      "\u001b[32m[I 2021-12-10 17:12:15,570]\u001b[0m Trial 11 finished with value: 0.3443553810740385 and parameters: {'n_estimators': 52, 'subsample': 0.9151706593411547, 'max_depth': 19, 'max_features': 10, 'learning_rate': 0.080537399193323, 'min_samples_leaf': 4}. Best is trial 5 with value: 0.35074558493173535.\u001b[0m\n"
     ]
    },
    {
     "name": "stdout",
     "output_type": "stream",
     "text": [
      "MCC: [0.32067496925243283, 0.35225932063795257, 0.34336216373049816, 0.36112507067527033]\n",
      "ROC: [0.8452138284250961, 0.8850499359795135, 0.8633341869398208, 0.8808931748342228]\n",
      "PR_AUC: [0.21865983023517943, 0.2579237462566188, 0.19146050212859747, 0.23285960847085857]\n"
     ]
    },
    {
     "name": "stderr",
     "output_type": "stream",
     "text": [
      "\u001b[32m[I 2021-12-10 17:12:16,093]\u001b[0m Trial 12 finished with value: 0.30684510629854234 and parameters: {'n_estimators': 10, 'subsample': 0.9983488269913793, 'max_depth': 18, 'max_features': 10, 'learning_rate': 0.08009443937396477, 'min_samples_leaf': 3}. Best is trial 5 with value: 0.35074558493173535.\u001b[0m\n"
     ]
    },
    {
     "name": "stdout",
     "output_type": "stream",
     "text": [
      "MCC: [0.30967853104693616, 0.30630554404854893, 0.26919248395090034, 0.3422038661477841]\n",
      "ROC: [0.8155441741357234, 0.8652291933418694, 0.840460947503201, 0.8615356622998545]\n",
      "PR_AUC: [0.1919330950906456, 0.1904023371189437, 0.197776452689267, 0.19305695248268065]\n"
     ]
    },
    {
     "name": "stderr",
     "output_type": "stream",
     "text": [
      "\u001b[32m[I 2021-12-10 17:12:17,154]\u001b[0m Trial 13 finished with value: 0.35336337529732464 and parameters: {'n_estimators': 65, 'subsample': 0.9111013369255444, 'max_depth': 16, 'max_features': 12, 'learning_rate': 0.10608646327289792, 'min_samples_leaf': 15}. Best is trial 13 with value: 0.35336337529732464.\u001b[0m\n"
     ]
    },
    {
     "name": "stdout",
     "output_type": "stream",
     "text": [
      "MCC: [0.2993487172740654, 0.36680307200447015, 0.3707054682399415, 0.3765962436708214]\n",
      "ROC: [0.8466376440460948, 0.8871088348271448, 0.8940025608194623, 0.8869278667313603]\n",
      "PR_AUC: [0.21941374799800165, 0.26847511442187705, 0.2746112804967424, 0.27514060371383303]\n"
     ]
    },
    {
     "name": "stderr",
     "output_type": "stream",
     "text": [
      "\u001b[32m[I 2021-12-10 17:12:18,389]\u001b[0m Trial 14 finished with value: 0.33725207681505626 and parameters: {'n_estimators': 75, 'subsample': 0.8753751428035348, 'max_depth': 14, 'max_features': 12, 'learning_rate': 0.11584383198552786, 'min_samples_leaf': 13}. Best is trial 13 with value: 0.35336337529732464.\u001b[0m\n"
     ]
    },
    {
     "name": "stdout",
     "output_type": "stream",
     "text": [
      "MCC: [0.29168140268406806, 0.3546205705936933, 0.3431047926271489, 0.3596015413553149]\n",
      "ROC: [0.8424788732394366, 0.8828169014084507, 0.8836261203585148, 0.8783660844250365]\n",
      "PR_AUC: [0.21143451116619882, 0.2464979608138986, 0.25109824360333305, 0.23923462159736322]\n"
     ]
    },
    {
     "name": "stderr",
     "output_type": "stream",
     "text": [
      "\u001b[32m[I 2021-12-10 17:12:19,645]\u001b[0m Trial 15 finished with value: 0.3489181098291606 and parameters: {'n_estimators': 131, 'subsample': 0.8988893224452837, 'max_depth': 16, 'max_features': 12, 'learning_rate': 0.11977795375288411, 'min_samples_leaf': 50}. Best is trial 13 with value: 0.35336337529732464.\u001b[0m\n"
     ]
    },
    {
     "name": "stdout",
     "output_type": "stream",
     "text": [
      "MCC: [0.3383061072497245, 0.34775859582571667, 0.35000619488588625, 0.3596015413553149]\n",
      "ROC: [0.8463610755441742, 0.8791702944942381, 0.8779411011523687, 0.8866751576904416]\n",
      "PR_AUC: [0.2559252614079299, 0.26681453671062944, 0.22774168024118524, 0.27138910415994405]\n"
     ]
    },
    {
     "name": "stderr",
     "output_type": "stream",
     "text": [
      "\u001b[32m[I 2021-12-10 17:12:20,392]\u001b[0m Trial 16 finished with value: 0.3487842995579099 and parameters: {'n_estimators': 35, 'subsample': 0.9480224980809973, 'max_depth': 16, 'max_features': 15, 'learning_rate': 0.09791492352756925, 'min_samples_leaf': 12}. Best is trial 13 with value: 0.35336337529732464.\u001b[0m\n"
     ]
    },
    {
     "name": "stdout",
     "output_type": "stream",
     "text": [
      "MCC: [0.3337397971845689, 0.3546205705936933, 0.34924701447502227, 0.3575298159783551]\n",
      "ROC: [0.8405633802816901, 0.8748373879641484, 0.8827656850192062, 0.8910419699175158]\n",
      "PR_AUC: [0.21177087606711278, 0.23420330253979096, 0.23509654798737137, 0.27176430951831076]\n"
     ]
    },
    {
     "name": "stderr",
     "output_type": "stream",
     "text": [
      "\u001b[32m[I 2021-12-10 17:12:21,061]\u001b[0m Trial 17 finished with value: 0.3526584226048634 and parameters: {'n_estimators': 62, 'subsample': 0.8452509098400132, 'max_depth': 3, 'max_features': 12, 'learning_rate': 0.14302287802722008, 'min_samples_leaf': 36}. Best is trial 13 with value: 0.35336337529732464.\u001b[0m\n"
     ]
    },
    {
     "name": "stdout",
     "output_type": "stream",
     "text": [
      "MCC: [0.33753726926341265, 0.357648514301569, 0.3399348183116986, 0.3755130885427733]\n",
      "ROC: [0.8521690140845071, 0.8855723431498079, 0.8723175416133162, 0.8838245997088792]\n",
      "PR_AUC: [0.2671945443087588, 0.3061928016996379, 0.22733311563492895, 0.25537249342484647]\n"
     ]
    },
    {
     "name": "stderr",
     "output_type": "stream",
     "text": [
      "\u001b[32m[I 2021-12-10 17:12:21,798]\u001b[0m Trial 18 finished with value: 0.3332648592749712 and parameters: {'n_estimators': 69, 'subsample': 0.841212937001562, 'max_depth': 3, 'max_features': 12, 'learning_rate': 0.18656989022946982, 'min_samples_leaf': 33}. Best is trial 13 with value: 0.35336337529732464.\u001b[0m\n"
     ]
    },
    {
     "name": "stdout",
     "output_type": "stream",
     "text": [
      "MCC: [0.30361931767215716, 0.3453526048140493, 0.32902687151745, 0.35506064309622815]\n",
      "ROC: [0.8525480153649169, 0.8851011523687581, 0.8720819462227913, 0.8814592430858806]\n",
      "PR_AUC: [0.25862731982511994, 0.30378822704434405, 0.23188440196006083, 0.24256977690517248]\n"
     ]
    },
    {
     "name": "stderr",
     "output_type": "stream",
     "text": [
      "\u001b[32m[I 2021-12-10 17:12:22,968]\u001b[0m Trial 19 finished with value: 0.3324832442889991 and parameters: {'n_estimators': 109, 'subsample': 0.8368982476435596, 'max_depth': 6, 'max_features': 11, 'learning_rate': 0.15021425991536821, 'min_samples_leaf': 35}. Best is trial 13 with value: 0.35336337529732464.\u001b[0m\n"
     ]
    },
    {
     "name": "stdout",
     "output_type": "stream",
     "text": [
      "MCC: [0.30873158206748785, 0.3461078586784821, 0.3328422585475191, 0.3422512778625075]\n",
      "ROC: [0.8313341869398209, 0.8789142125480154, 0.8822125480153649, 0.8809234999191331]\n",
      "PR_AUC: [0.244192578590286, 0.27937419881540104, 0.22422953645346588, 0.2501685562813181]\n"
     ]
    },
    {
     "name": "stderr",
     "output_type": "stream",
     "text": [
      "\u001b[32m[I 2021-12-10 17:12:24,742]\u001b[0m Trial 20 finished with value: 0.33408681760827474 and parameters: {'n_estimators': 101, 'subsample': 0.8554427249183266, 'max_depth': 15, 'max_features': 13, 'learning_rate': 0.17373590758783994, 'min_samples_leaf': 12}. Best is trial 13 with value: 0.35336337529732464.\u001b[0m\n"
     ]
    },
    {
     "name": "stdout",
     "output_type": "stream",
     "text": [
      "MCC: [0.30361931767215716, 0.3419190614117703, 0.350747195814845, 0.3400616955343266]\n",
      "ROC: [0.8486555697823304, 0.8778898847631242, 0.878719590268886, 0.8779617499595667]\n",
      "PR_AUC: [0.2213338753741271, 0.2583476194544274, 0.24797671961080459, 0.2287482897521413]\n"
     ]
    },
    {
     "name": "stderr",
     "output_type": "stream",
     "text": [
      "\u001b[32m[I 2021-12-10 17:12:25,485]\u001b[0m Trial 21 finished with value: 0.3457559295273579 and parameters: {'n_estimators': 62, 'subsample': 0.8953536926758056, 'max_depth': 5, 'max_features': 15, 'learning_rate': 0.12390361441843967, 'min_samples_leaf': 41}. Best is trial 13 with value: 0.35336337529732464.\u001b[0m\n"
     ]
    },
    {
     "name": "stdout",
     "output_type": "stream",
     "text": [
      "MCC: [0.32353526845259134, 0.36068723399404395, 0.3282731051440648, 0.3705281105187316]\n",
      "ROC: [0.853572343149808, 0.886606914212548, 0.8841382842509603, 0.8873928513666506]\n",
      "PR_AUC: [0.3009620514208685, 0.2738843825328518, 0.2427127845942643, 0.2857753327923758]\n"
     ]
    },
    {
     "name": "stderr",
     "output_type": "stream",
     "text": [
      "\u001b[32m[I 2021-12-10 17:12:26,024]\u001b[0m Trial 22 finished with value: 0.3514339082736922 and parameters: {'n_estimators': 33, 'subsample': 0.9210028609307378, 'max_depth': 8, 'max_features': 14, 'learning_rate': 0.13912169109050807, 'min_samples_leaf': 40}. Best is trial 13 with value: 0.35336337529732464.\u001b[0m\n"
     ]
    },
    {
     "name": "stdout",
     "output_type": "stream",
     "text": [
      "MCC: [0.32308071394446697, 0.3553684464547116, 0.3591524129233262, 0.36813405977226393]\n",
      "ROC: [0.8547195902688861, 0.8924967989756722, 0.8691318822023048, 0.8911632702571567]\n",
      "PR_AUC: [0.30458486768316834, 0.28794964853200034, 0.20271454104738915, 0.2678708626010756]\n"
     ]
    },
    {
     "name": "stderr",
     "output_type": "stream",
     "text": [
      "\u001b[32m[I 2021-12-10 17:12:26,471]\u001b[0m Trial 23 finished with value: 0.36416430137851385 and parameters: {'n_estimators': 25, 'subsample': 0.928784331939467, 'max_depth': 3, 'max_features': 13, 'learning_rate': 0.13938806574215398, 'min_samples_leaf': 34}. Best is trial 23 with value: 0.36416430137851385.\u001b[0m\n"
     ]
    },
    {
     "name": "stdout",
     "output_type": "stream",
     "text": [
      "MCC: [0.34481634207253226, 0.3607194793435652, 0.35997241328162954, 0.39114897081632843]\n",
      "ROC: [0.8502637644046095, 0.8952061459667093, 0.8726760563380281, 0.8932253760310528]\n",
      "PR_AUC: [0.25538781759738954, 0.28023084505471535, 0.2333472032776976, 0.2655697190533627]\n"
     ]
    },
    {
     "name": "stderr",
     "output_type": "stream",
     "text": [
      "\u001b[32m[I 2021-12-10 17:12:26,827]\u001b[0m Trial 24 finished with value: 0.36054423817143805 and parameters: {'n_estimators': 15, 'subsample': 0.9676952127097791, 'max_depth': 4, 'max_features': 11, 'learning_rate': 0.16777006678480033, 'min_samples_leaf': 31}. Best is trial 23 with value: 0.36416430137851385.\u001b[0m\n"
     ]
    },
    {
     "name": "stdout",
     "output_type": "stream",
     "text": [
      "MCC: [0.3401487451967217, 0.3568730478616745, 0.35997241328162954, 0.38518274634572647]\n",
      "ROC: [0.8488450704225352, 0.8887426376440462, 0.8765275288092189, 0.887236171761281]\n",
      "PR_AUC: [0.24871423451365715, 0.23918796732512776, 0.2488327671612125, 0.25770578226214796]\n",
      "CPU times: user 25.7 s, sys: 287 ms, total: 25.9 s\n",
      "Wall time: 25.8 s\n"
     ]
    }
   ],
   "source": [
    "%%time\n",
    "def create_model(trial):\n",
    "    n_estimators = trial.suggest_int('n_estimators', 10, 200)\n",
    "    subsample = trial.suggest_float('subsample', 0.8, 1.0)\n",
    "    max_depth = trial.suggest_int('max_depth',3,20)\n",
    "    max_features = trial.suggest_int('max_features',10,20)\n",
    "    learning_rate = trial.suggest_uniform('learning_rate',0.08,0.2)\n",
    "    min_samples_leaf = trial.suggest_int('min_samples_leaf',1,50)\n",
    "    model = GradientBoostingClassifier(n_estimators=n_estimators, subsample=subsample, \n",
    "                           max_depth=max_depth, learning_rate=learning_rate, \n",
    "                           min_samples_leaf=min_samples_leaf)\n",
    "#    model = GradientBoostingClassifier(n_estimators=n_estimators, subsample=subsample, \n",
    "#                           learning_rate=learning_rate, \n",
    "#                           min_samples_leaf=min_samples_leaf)\n",
    "#    model = GradientBoostingClassifier(n_estimators=n_estimators, learning_rate=learning_rate) \n",
    "    return model\n",
    "\n",
    "def objective(trial):\n",
    "    model = create_model(trial)\n",
    "    \n",
    "    mcc_list = []\n",
    "    roc_list = []\n",
    "    pr_list = []\n",
    "    f2_list = []\n",
    "    cv = StratifiedKFold(n_splits=4, shuffle=True, random_state=11)\n",
    "    for idx, (train_idx, test_idx) in enumerate(cv.split(X, y)):\n",
    "        X_train_c, X_test_c = X.iloc[train_idx], X.iloc[test_idx]\n",
    "        y_train_c, y_test_c = y[train_idx], y[test_idx]\n",
    "        sampler = RandomUnderSampler(sampling_strategy=1.0, random_state=7)\n",
    "        X_res, y_res = sampler.fit_resample(X_train_c, y_train_c)\n",
    "\n",
    "#        weights = class_weight.compute_sample_weight('balanced', y=y_train)\n",
    "#        model.fit(X_train, y_train, sample_weight=weights)\n",
    "        model.fit(X_res, y_res)\n",
    "        y_pred = model.predict(X_test_c)\n",
    "        probs = model.predict_proba(X_test_c)\n",
    "        prob1 = probs[:, 1]  # Only positives\n",
    "        precision, recall, pr_thresh = precision_recall_curve(y_test_c, prob1)\n",
    "        roc = roc_auc_score(y_test_c, prob1)\n",
    "        roc_list.append(roc)\n",
    "        mcc = matthews_corrcoef(y_test_c, y_pred)  # MWB\n",
    "        mcc_list.append(mcc)\n",
    "        f2 = fbeta_score(y_test_c, y_pred, beta=2.0, average=None)[1]\n",
    "        pr_auc = auc(recall, precision)\n",
    "        pr_list.append(pr_auc)\n",
    "        avg_precision = average_precision_score(y_test_c, prob1)\n",
    "#        print(f'ROC: {roc}')\n",
    "#        print(f'PR_AUC: {pr_auc}')\n",
    "#        print(f'avg_prec: {avg_precision}')\n",
    "        \n",
    "    print(f'MCC: {mcc_list}')\n",
    "    print(f'ROC: {roc_list}')\n",
    "    print(f'PR_AUC: {pr_list}')\n",
    "    return np.mean(mcc_list)\n",
    "\n",
    "sampler = TPESampler(seed=7)\n",
    "study = optuna.create_study(sampler=sampler,direction='maximize')\n",
    "#study.optimize(objective,n_trials=60)\n",
    "study.optimize(objective,n_trials=25)\n",
    "#study.optimize(objective,n_trials=5)"
   ]
  },
  {
   "cell_type": "code",
   "execution_count": 14,
   "metadata": {},
   "outputs": [
    {
     "data": {
      "text/plain": [
       "FrozenTrial(number=23, values=[0.36416430137851385], datetime_start=datetime.datetime(2021, 12, 10, 17, 12, 26, 26077), datetime_complete=datetime.datetime(2021, 12, 10, 17, 12, 26, 470392), params={'n_estimators': 25, 'subsample': 0.928784331939467, 'max_depth': 3, 'max_features': 13, 'learning_rate': 0.13938806574215398, 'min_samples_leaf': 34}, distributions={'n_estimators': IntUniformDistribution(high=200, low=10, step=1), 'subsample': UniformDistribution(high=1.0, low=0.8), 'max_depth': IntUniformDistribution(high=20, low=3, step=1), 'max_features': IntUniformDistribution(high=20, low=10, step=1), 'learning_rate': UniformDistribution(high=0.2, low=0.08), 'min_samples_leaf': IntUniformDistribution(high=50, low=1, step=1)}, user_attrs={}, system_attrs={}, intermediate_values={}, trial_id=23, state=TrialState.COMPLETE, value=None)"
      ]
     },
     "execution_count": 14,
     "metadata": {},
     "output_type": "execute_result"
    }
   ],
   "source": [
    "best = study.best_trial\n",
    "best"
   ]
  },
  {
   "cell_type": "code",
   "execution_count": 9,
   "metadata": {},
   "outputs": [
    {
     "ename": "NameError",
     "evalue": "name 'study' is not defined",
     "output_type": "error",
     "traceback": [
      "\u001b[0;31m---------------------------------------------------------------------------\u001b[0m",
      "\u001b[0;31mNameError\u001b[0m                                 Traceback (most recent call last)",
      "\u001b[0;32m<timed exec>\u001b[0m in \u001b[0;36m<module>\u001b[0;34m\u001b[0m\n",
      "\u001b[0;31mNameError\u001b[0m: name 'study' is not defined"
     ]
    }
   ],
   "source": [
    "%%time\n",
    "gb_params = study.best_params\n",
    "#gb_params['random_state'] = 42\n",
    "gb = GradientBoostingClassifier(**gb_params)\n",
    "gb.fit(X_rus, y_rus)\n",
    "y_pred = gb.predict(X_test)\n",
    "probs = gb.predict_proba(X_test)\n",
    "prob1 = probs[:, 1]  # Only positives\n",
    "precision, recall, pr_thresh = precision_recall_curve(y_test, prob1)\n",
    "print(confusion_matrix(y_pred=y_pred, y_true=y_test))\n",
    "print(classification_report(y_test, y_pred))\n",
    "print(f'ROC AUC prob1: {roc_auc_score(y_test, prob1)}')\n",
    "print(f'MCC: {matthews_corrcoef(y_test, y_pred)}')\n",
    "print(f'F2: {fbeta_score(y_test, y_pred, beta=2.0, average=None)[1]}')\n",
    "print(f'PR_AUC: {auc(recall, precision)}')"
   ]
  },
  {
   "cell_type": "code",
   "execution_count": 16,
   "metadata": {},
   "outputs": [
    {
     "name": "stdout",
     "output_type": "stream",
     "text": [
      "[[1310  340]\n",
      " [   8   78]]\n",
      "              precision    recall  f1-score   support\n",
      "\n",
      "           0       0.99      0.79      0.88      1650\n",
      "           1       0.19      0.91      0.31        86\n",
      "\n",
      "    accuracy                           0.80      1736\n",
      "   macro avg       0.59      0.85      0.60      1736\n",
      "weighted avg       0.95      0.80      0.85      1736\n",
      "\n",
      "ROC AUC prob1: 0.8849999999999999\n",
      "MCC: 0.3557225616740703\n",
      "F2: 0.5118110236220472\n",
      "PR_AUC: 0.2684872379620049\n",
      "CPU times: user 96.9 ms, sys: 4.02 ms, total: 101 ms\n",
      "Wall time: 98.9 ms\n"
     ]
    }
   ],
   "source": [
    "%%time\n",
    "gb_params = study.best_params\n",
    "gb_params['random_state'] = 42\n",
    "gb_weight = GradientBoostingClassifier(**gb_params)\n",
    "weights = class_weight.compute_sample_weight('balanced', y=y_train)\n",
    "gb_weight.fit(X_train, y_train, sample_weight=weights)\n",
    "y_pred = gb_weight.predict(X_test)\n",
    "probs = gb_weight.predict_proba(X_test)\n",
    "prob1 = probs[:, 1]  # Only positives\n",
    "precision, recall, pr_thresh = precision_recall_curve(y_test, prob1)\n",
    "print(confusion_matrix(y_pred=y_pred, y_true=y_test))\n",
    "print(classification_report(y_test, y_pred))\n",
    "print(f'ROC AUC prob1: {roc_auc_score(y_test, prob1)}')\n",
    "print(f'MCC: {matthews_corrcoef(y_test, y_pred)}')\n",
    "print(f'F2: {fbeta_score(y_test, y_pred, beta=2.0, average=None)[1]}')\n",
    "print(f'PR_AUC: {auc(recall, precision)}')"
   ]
  },
  {
   "cell_type": "code",
   "execution_count": 17,
   "metadata": {},
   "outputs": [
    {
     "data": {
      "text/plain": [
       "Delmode           0.270206\n",
       "Lac_None          0.218308\n",
       "Lac_Min           0.169190\n",
       "CS_FTP            0.094985\n",
       "ROMmeth           0.053427\n",
       "CS_UScar          0.027081\n",
       "vertex            0.018877\n",
       "Antesteroid       0.018405\n",
       "new_BMI           0.015608\n",
       "CS_Elect          0.015287\n",
       "prelaborCD        0.008262\n",
       "intra_abruptio    0.007106\n",
       "Admefface         0.006385\n",
       "Admpresent        0.006126\n",
       "BESTGA            0.005656\n",
       "high_height       0.005648\n",
       "IntraMgSO         0.005608\n",
       "momrace_new       0.005472\n",
       "high_Gravidity    0.004037\n",
       "AdmDBP            0.003416\n",
       "dtype: float64"
      ]
     },
     "execution_count": 17,
     "metadata": {},
     "output_type": "execute_result"
    }
   ],
   "source": [
    "# No Sitenum - 5\n",
    "coeffs_wgt = pd.Series(data=gb_weight.feature_importances_,\n",
    "                   index=X_test.columns.values).sort_values(ascending=False)\n",
    "coeffs_wgt[0:20]"
   ]
  },
  {
   "cell_type": "code",
   "execution_count": 12,
   "metadata": {},
   "outputs": [
    {
     "ename": "NameError",
     "evalue": "name 'coeffs_wgt' is not defined",
     "output_type": "error",
     "traceback": [
      "\u001b[0;31m---------------------------------------------------------------------------\u001b[0m",
      "\u001b[0;31mNameError\u001b[0m                                 Traceback (most recent call last)",
      "\u001b[0;32m<ipython-input-12-163c23260408>\u001b[0m in \u001b[0;36m<module>\u001b[0;34m\u001b[0m\n\u001b[1;32m      1\u001b[0m \u001b[0mplt\u001b[0m\u001b[0;34m.\u001b[0m\u001b[0mrcParams\u001b[0m\u001b[0;34m[\u001b[0m\u001b[0;34m\"figure.figsize\"\u001b[0m\u001b[0;34m]\u001b[0m \u001b[0;34m=\u001b[0m \u001b[0;34m(\u001b[0m\u001b[0;36m14\u001b[0m\u001b[0;34m,\u001b[0m \u001b[0;36m8\u001b[0m\u001b[0;34m)\u001b[0m\u001b[0;34m\u001b[0m\u001b[0;34m\u001b[0m\u001b[0m\n\u001b[0;32m----> 2\u001b[0;31m \u001b[0mx_labels\u001b[0m \u001b[0;34m=\u001b[0m \u001b[0mcoeffs_wgt\u001b[0m\u001b[0;34m.\u001b[0m\u001b[0mindex\u001b[0m\u001b[0;34m.\u001b[0m\u001b[0mvalues\u001b[0m\u001b[0;34m[\u001b[0m\u001b[0;36m0\u001b[0m\u001b[0;34m:\u001b[0m\u001b[0;36m25\u001b[0m\u001b[0;34m]\u001b[0m\u001b[0;34m\u001b[0m\u001b[0;34m\u001b[0m\u001b[0m\n\u001b[0m\u001b[1;32m      3\u001b[0m \u001b[0mprint\u001b[0m\u001b[0;34m(\u001b[0m\u001b[0mx_labels\u001b[0m\u001b[0;34m)\u001b[0m\u001b[0;34m\u001b[0m\u001b[0;34m\u001b[0m\u001b[0m\n\u001b[1;32m      4\u001b[0m \u001b[0mfig\u001b[0m\u001b[0;34m,\u001b[0m \u001b[0max\u001b[0m \u001b[0;34m=\u001b[0m \u001b[0mplt\u001b[0m\u001b[0;34m.\u001b[0m\u001b[0msubplots\u001b[0m\u001b[0;34m(\u001b[0m\u001b[0;36m1\u001b[0m\u001b[0;34m,\u001b[0m\u001b[0;36m1\u001b[0m\u001b[0;34m)\u001b[0m  \u001b[0;31m# Create a figure and an axes.\u001b[0m\u001b[0;34m\u001b[0m\u001b[0;34m\u001b[0m\u001b[0m\n\u001b[1;32m      5\u001b[0m \u001b[0max\u001b[0m\u001b[0;34m.\u001b[0m\u001b[0mset_title\u001b[0m\u001b[0;34m(\u001b[0m\u001b[0;34m'Top Predictors: All Sites combined; target: High_EBLoss, vars: PI'\u001b[0m\u001b[0;34m)\u001b[0m\u001b[0;34m\u001b[0m\u001b[0;34m\u001b[0m\u001b[0m\n",
      "\u001b[0;31mNameError\u001b[0m: name 'coeffs_wgt' is not defined"
     ]
    }
   ],
   "source": [
    "plt.rcParams[\"figure.figsize\"] = (14, 8)\n",
    "x_labels = coeffs_wgt.index.values[0:25]\n",
    "print(x_labels)\n",
    "fig, ax = plt.subplots(1,1)  # Create a figure and an axes.\n",
    "ax.set_title('Top Predictors: All Sites combined; target: High_EBLoss, vars: PI')\n",
    "ax.bar(x_labels, coeffs_wgt.values[0:25])\n",
    "ax.set_ylabel('Coeff')\n",
    "ax.set_xlabel('Variable')\n",
    "plt.draw()\n",
    "ax.set_xticklabels(ax.get_xticklabels(), rotation=90, fontsize=16)\n",
    "#plt.xlim(1,20)\n",
    "plt.show()"
   ]
  },
  {
   "cell_type": "code",
   "execution_count": 19,
   "metadata": {},
   "outputs": [
    {
     "data": {
      "text/plain": [
       "Lac_None       0.254690\n",
       "HxnumCS        0.136208\n",
       "Lac_Min        0.111217\n",
       "Delmode        0.090414\n",
       "CS_FTP         0.083102\n",
       "new_BMI        0.057152\n",
       "Presentdel     0.039371\n",
       "CS_Elect       0.034893\n",
       "Dilat_lst      0.032201\n",
       "Admpresent     0.027259\n",
       "IUPC           0.024720\n",
       "prelaborCD     0.017480\n",
       "BESTGA         0.009879\n",
       "IntraMgSO      0.009760\n",
       "momrace_new    0.009092\n",
       "Admreason      0.008747\n",
       "Admefface      0.008615\n",
       "Insurance      0.007905\n",
       "Hxcsection     0.006252\n",
       "Antesteroid    0.005026\n",
       "dtype: float64"
      ]
     },
     "execution_count": 19,
     "metadata": {},
     "output_type": "execute_result"
    }
   ],
   "source": [
    "# No Sitenum - 5\n",
    "coeffs = pd.Series(data=gb.feature_importances_,\n",
    "                   index=X_test.columns.values).sort_values(ascending=False)\n",
    "coeffs[0:20]"
   ]
  },
  {
   "cell_type": "code",
   "execution_count": 21,
   "metadata": {},
   "outputs": [
    {
     "data": {
      "text/plain": [
       "{'n_estimators': 25,\n",
       " 'subsample': 0.928784331939467,\n",
       " 'max_depth': 3,\n",
       " 'max_features': 13,\n",
       " 'learning_rate': 0.13938806574215398,\n",
       " 'min_samples_leaf': 34,\n",
       " 'random_state': 42}"
      ]
     },
     "execution_count": 21,
     "metadata": {},
     "output_type": "execute_result"
    }
   ],
   "source": [
    "gb_params # 5 runs"
   ]
  },
  {
   "cell_type": "code",
   "execution_count": 10,
   "metadata": {},
   "outputs": [
    {
     "ename": "NameError",
     "evalue": "name 'study' is not defined",
     "output_type": "error",
     "traceback": [
      "\u001b[0;31m---------------------------------------------------------------------------\u001b[0m",
      "\u001b[0;31mNameError\u001b[0m                                 Traceback (most recent call last)",
      "\u001b[0;32m<ipython-input-10-bf9f527b858c>\u001b[0m in \u001b[0;36m<module>\u001b[0;34m\u001b[0m\n\u001b[1;32m      3\u001b[0m \u001b[0mplotly_config\u001b[0m \u001b[0;34m=\u001b[0m \u001b[0;34m{\u001b[0m\u001b[0;34m\"staticPlot\"\u001b[0m\u001b[0;34m:\u001b[0m \u001b[0;32mTrue\u001b[0m\u001b[0;34m}\u001b[0m\u001b[0;34m\u001b[0m\u001b[0;34m\u001b[0m\u001b[0m\n\u001b[1;32m      4\u001b[0m \u001b[0;34m\u001b[0m\u001b[0m\n\u001b[0;32m----> 5\u001b[0;31m \u001b[0mfig\u001b[0m \u001b[0;34m=\u001b[0m \u001b[0mplot_optimization_history\u001b[0m\u001b[0;34m(\u001b[0m\u001b[0mstudy\u001b[0m\u001b[0;34m)\u001b[0m\u001b[0;34m\u001b[0m\u001b[0;34m\u001b[0m\u001b[0m\n\u001b[0m\u001b[1;32m      6\u001b[0m \u001b[0mfig\u001b[0m\u001b[0;34m.\u001b[0m\u001b[0mshow\u001b[0m\u001b[0;34m(\u001b[0m\u001b[0mconfig\u001b[0m\u001b[0;34m=\u001b[0m\u001b[0mplotly_config\u001b[0m\u001b[0;34m)\u001b[0m\u001b[0;34m\u001b[0m\u001b[0;34m\u001b[0m\u001b[0m\n",
      "\u001b[0;31mNameError\u001b[0m: name 'study' is not defined"
     ]
    }
   ],
   "source": [
    "from optuna.visualization import plot_optimization_history\n",
    "\n",
    "plotly_config = {\"staticPlot\": True}\n",
    "\n",
    "fig = plot_optimization_history(study)\n",
    "fig.show(config=plotly_config)"
   ]
  },
  {
   "cell_type": "code",
   "execution_count": 11,
   "metadata": {},
   "outputs": [
    {
     "ename": "NameError",
     "evalue": "name 'study' is not defined",
     "output_type": "error",
     "traceback": [
      "\u001b[0;31m---------------------------------------------------------------------------\u001b[0m",
      "\u001b[0;31mNameError\u001b[0m                                 Traceback (most recent call last)",
      "\u001b[0;32m<ipython-input-11-896a7630ef72>\u001b[0m in \u001b[0;36m<module>\u001b[0;34m\u001b[0m\n\u001b[1;32m      1\u001b[0m \u001b[0;32mfrom\u001b[0m \u001b[0moptuna\u001b[0m\u001b[0;34m.\u001b[0m\u001b[0mvisualization\u001b[0m \u001b[0;32mimport\u001b[0m \u001b[0mplot_param_importances\u001b[0m\u001b[0;34m\u001b[0m\u001b[0;34m\u001b[0m\u001b[0m\n\u001b[1;32m      2\u001b[0m \u001b[0;34m\u001b[0m\u001b[0m\n\u001b[0;32m----> 3\u001b[0;31m \u001b[0mfig\u001b[0m \u001b[0;34m=\u001b[0m \u001b[0mplot_param_importances\u001b[0m\u001b[0;34m(\u001b[0m\u001b[0mstudy\u001b[0m\u001b[0;34m)\u001b[0m\u001b[0;34m\u001b[0m\u001b[0;34m\u001b[0m\u001b[0m\n\u001b[0m\u001b[1;32m      4\u001b[0m \u001b[0mfig\u001b[0m\u001b[0;34m.\u001b[0m\u001b[0mshow\u001b[0m\u001b[0;34m(\u001b[0m\u001b[0mconfig\u001b[0m\u001b[0;34m=\u001b[0m\u001b[0mplotly_config\u001b[0m\u001b[0;34m)\u001b[0m\u001b[0;34m\u001b[0m\u001b[0;34m\u001b[0m\u001b[0m\n",
      "\u001b[0;31mNameError\u001b[0m: name 'study' is not defined"
     ]
    }
   ],
   "source": [
    "from optuna.visualization import plot_param_importances\n",
    "\n",
    "fig = plot_param_importances(study)\n",
    "fig.show(config=plotly_config)"
   ]
  },
  {
   "cell_type": "code",
   "execution_count": 24,
   "metadata": {},
   "outputs": [
    {
     "data": {
      "text/plain": [
       "0.3155208505596307"
      ]
     },
     "execution_count": 24,
     "metadata": {},
     "output_type": "execute_result"
    }
   ],
   "source": [
    "np.mean([0.3149689279176914, 0.31449457458602254, 0.31066798538596907, 0.3219519143488398])"
   ]
  },
  {
   "cell_type": "markdown",
   "metadata": {},
   "source": [
    "<h1 align='center'>Thanks and make sure to learn!</h1>"
   ]
  }
 ],
 "metadata": {
  "kernelspec": {
   "display_name": "Python 3",
   "language": "python",
   "name": "python3"
  },
  "language_info": {
   "codemirror_mode": {
    "name": "ipython",
    "version": 3
   },
   "file_extension": ".py",
   "mimetype": "text/x-python",
   "name": "python",
   "nbconvert_exporter": "python",
   "pygments_lexer": "ipython3",
   "version": "3.7.9"
  }
 },
 "nbformat": 4,
 "nbformat_minor": 4
}
