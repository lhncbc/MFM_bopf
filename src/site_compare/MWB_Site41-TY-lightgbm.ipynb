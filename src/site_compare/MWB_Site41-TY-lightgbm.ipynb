{
 "cells": [
  {
   "cell_type": "markdown",
   "metadata": {},
   "source": [
    "<h1 align='center'>Welcome to my Notebook</h1>"
   ]
  },
  {
   "cell_type": "code",
   "execution_count": 47,
   "metadata": {
    "_cell_guid": "b1076dfc-b9ad-4769-8c92-a6c4dae69d19",
    "_uuid": "8f2839f25d086af736a60e9eeb907d3b93b6e0e5"
   },
   "outputs": [],
   "source": [
    "import numpy as np \n",
    "import pandas as pd \n",
    "\n",
    "import matplotlib.pyplot as plt\n",
    "#import plotly.express as px\n",
    "import seaborn as sns\n",
    "\n",
    "from lightgbm import LGBMClassifier\n",
    "\n",
    "from sklearn.model_selection import StratifiedKFold,KFold\n",
    "from collections import Counter\n",
    "from imblearn.under_sampling import RandomUnderSampler\n",
    "from sklearn.metrics import classification_report, roc_auc_score, confusion_matrix, \\\n",
    "                            accuracy_score, f1_score, average_precision_score, \\\n",
    "                            fbeta_score, precision_recall_curve, auc\n",
    "from sklearn.metrics import matthews_corrcoef\n",
    "\n",
    "from sklearn.model_selection import train_test_split\n",
    "\n",
    "import optuna\n",
    "from optuna.samplers import TPESampler\n",
    "sns.set(style='white', context='notebook', palette='deep')\n",
    "%config Completer.use_jedi = False"
   ]
  },
  {
   "cell_type": "code",
   "execution_count": 2,
   "metadata": {},
   "outputs": [],
   "source": [
    "csl_df = pd.read_csv('../../data/csl/Sites/CSL_ty_PI_s41.csv', index_col=0)\n",
    "#X = csl_df.drop('high_EBL', axis=1, inplace=False)\n",
    "#y = csl_df['high_EBL'].values\n",
    "#X = csl_df.drop('trans_loss', axis=1, inplace=False)\n",
    "#y = csl_df['trans_loss'].values\n",
    "X = csl_df.drop('transfus_yes', axis=1, inplace=False)\n",
    "y = csl_df['transfus_yes'].values\n",
    "\n",
    "X_train, X_test, y_train, y_test = train_test_split(X, y, test_size=0.3, stratify=y,\n",
    "                                                    random_state=7)"
   ]
  },
  {
   "cell_type": "markdown",
   "metadata": {},
   "source": [
    "<h1 align='center'>Exploratory Data Analysis</h1>"
   ]
  },
  {
   "cell_type": "code",
   "execution_count": 3,
   "metadata": {
    "_cell_guid": "79c7e3d0-c299-4dcb-8224-4455121ee9b0",
    "_uuid": "d629ff2d2480ee46fbb7e2d37f6b5fab8052498a"
   },
   "outputs": [
    {
     "data": {
      "text/html": [
       "<div>\n",
       "<style scoped>\n",
       "    .dataframe tbody tr th:only-of-type {\n",
       "        vertical-align: middle;\n",
       "    }\n",
       "\n",
       "    .dataframe tbody tr th {\n",
       "        vertical-align: top;\n",
       "    }\n",
       "\n",
       "    .dataframe thead th {\n",
       "        text-align: right;\n",
       "    }\n",
       "</style>\n",
       "<table border=\"1\" class=\"dataframe\">\n",
       "  <thead>\n",
       "    <tr style=\"text-align: right;\">\n",
       "      <th></th>\n",
       "      <th>Accrete</th>\n",
       "      <th>AdmBishop</th>\n",
       "      <th>Admcervpos</th>\n",
       "      <th>Admconsistency</th>\n",
       "      <th>Admcontract</th>\n",
       "      <th>AdmDBP</th>\n",
       "      <th>Admefface</th>\n",
       "      <th>Admpresent</th>\n",
       "      <th>AdmSBP</th>\n",
       "      <th>Analgesia</th>\n",
       "      <th>...</th>\n",
       "      <th>ThreatenedPB</th>\n",
       "      <th>threatpb9</th>\n",
       "      <th>UnspecHBP</th>\n",
       "      <th>uscar</th>\n",
       "      <th>version9</th>\n",
       "      <th>new_age</th>\n",
       "      <th>new_BMI</th>\n",
       "      <th>new_high_Age</th>\n",
       "      <th>new_high_BMI</th>\n",
       "      <th>Sitenum</th>\n",
       "    </tr>\n",
       "    <tr>\n",
       "      <th>MomID</th>\n",
       "      <th></th>\n",
       "      <th></th>\n",
       "      <th></th>\n",
       "      <th></th>\n",
       "      <th></th>\n",
       "      <th></th>\n",
       "      <th></th>\n",
       "      <th></th>\n",
       "      <th></th>\n",
       "      <th></th>\n",
       "      <th></th>\n",
       "      <th></th>\n",
       "      <th></th>\n",
       "      <th></th>\n",
       "      <th></th>\n",
       "      <th></th>\n",
       "      <th></th>\n",
       "      <th></th>\n",
       "      <th></th>\n",
       "      <th></th>\n",
       "      <th></th>\n",
       "    </tr>\n",
       "  </thead>\n",
       "  <tbody>\n",
       "    <tr>\n",
       "      <th>41-00002</th>\n",
       "      <td>0</td>\n",
       "      <td>8</td>\n",
       "      <td>8</td>\n",
       "      <td>8</td>\n",
       "      <td>99.0</td>\n",
       "      <td>83</td>\n",
       "      <td>0.0</td>\n",
       "      <td>77</td>\n",
       "      <td>150.0</td>\n",
       "      <td>7</td>\n",
       "      <td>...</td>\n",
       "      <td>0</td>\n",
       "      <td>0</td>\n",
       "      <td>0</td>\n",
       "      <td>1</td>\n",
       "      <td>0</td>\n",
       "      <td>37</td>\n",
       "      <td>33</td>\n",
       "      <td>1</td>\n",
       "      <td>1</td>\n",
       "      <td>41</td>\n",
       "    </tr>\n",
       "    <tr>\n",
       "      <th>41-00003</th>\n",
       "      <td>0</td>\n",
       "      <td>6</td>\n",
       "      <td>3</td>\n",
       "      <td>2</td>\n",
       "      <td>2.9</td>\n",
       "      <td>77</td>\n",
       "      <td>70.0</td>\n",
       "      <td>1</td>\n",
       "      <td>105.0</td>\n",
       "      <td>8</td>\n",
       "      <td>...</td>\n",
       "      <td>0</td>\n",
       "      <td>0</td>\n",
       "      <td>0</td>\n",
       "      <td>0</td>\n",
       "      <td>0</td>\n",
       "      <td>36</td>\n",
       "      <td>22</td>\n",
       "      <td>1</td>\n",
       "      <td>1</td>\n",
       "      <td>41</td>\n",
       "    </tr>\n",
       "    <tr>\n",
       "      <th>41-00004</th>\n",
       "      <td>0</td>\n",
       "      <td>5</td>\n",
       "      <td>3</td>\n",
       "      <td>2</td>\n",
       "      <td>3.3</td>\n",
       "      <td>65</td>\n",
       "      <td>70.0</td>\n",
       "      <td>1</td>\n",
       "      <td>122.0</td>\n",
       "      <td>8</td>\n",
       "      <td>...</td>\n",
       "      <td>0</td>\n",
       "      <td>0</td>\n",
       "      <td>0</td>\n",
       "      <td>0</td>\n",
       "      <td>0</td>\n",
       "      <td>34</td>\n",
       "      <td>31</td>\n",
       "      <td>1</td>\n",
       "      <td>1</td>\n",
       "      <td>41</td>\n",
       "    </tr>\n",
       "    <tr>\n",
       "      <th>41-00005</th>\n",
       "      <td>0</td>\n",
       "      <td>11</td>\n",
       "      <td>2</td>\n",
       "      <td>3</td>\n",
       "      <td>4.0</td>\n",
       "      <td>77</td>\n",
       "      <td>80.0</td>\n",
       "      <td>77</td>\n",
       "      <td>138.0</td>\n",
       "      <td>8</td>\n",
       "      <td>...</td>\n",
       "      <td>0</td>\n",
       "      <td>0</td>\n",
       "      <td>0</td>\n",
       "      <td>0</td>\n",
       "      <td>0</td>\n",
       "      <td>31</td>\n",
       "      <td>21</td>\n",
       "      <td>1</td>\n",
       "      <td>1</td>\n",
       "      <td>41</td>\n",
       "    </tr>\n",
       "    <tr>\n",
       "      <th>41-00006</th>\n",
       "      <td>0</td>\n",
       "      <td>11</td>\n",
       "      <td>1</td>\n",
       "      <td>3</td>\n",
       "      <td>5.0</td>\n",
       "      <td>98</td>\n",
       "      <td>100.0</td>\n",
       "      <td>77</td>\n",
       "      <td>134.0</td>\n",
       "      <td>8</td>\n",
       "      <td>...</td>\n",
       "      <td>0</td>\n",
       "      <td>0</td>\n",
       "      <td>0</td>\n",
       "      <td>0</td>\n",
       "      <td>0</td>\n",
       "      <td>21</td>\n",
       "      <td>22</td>\n",
       "      <td>1</td>\n",
       "      <td>1</td>\n",
       "      <td>41</td>\n",
       "    </tr>\n",
       "    <tr>\n",
       "      <th>...</th>\n",
       "      <td>...</td>\n",
       "      <td>...</td>\n",
       "      <td>...</td>\n",
       "      <td>...</td>\n",
       "      <td>...</td>\n",
       "      <td>...</td>\n",
       "      <td>...</td>\n",
       "      <td>...</td>\n",
       "      <td>...</td>\n",
       "      <td>...</td>\n",
       "      <td>...</td>\n",
       "      <td>...</td>\n",
       "      <td>...</td>\n",
       "      <td>...</td>\n",
       "      <td>...</td>\n",
       "      <td>...</td>\n",
       "      <td>...</td>\n",
       "      <td>...</td>\n",
       "      <td>...</td>\n",
       "      <td>...</td>\n",
       "      <td>...</td>\n",
       "    </tr>\n",
       "    <tr>\n",
       "      <th>41-47001</th>\n",
       "      <td>0</td>\n",
       "      <td>3</td>\n",
       "      <td>3</td>\n",
       "      <td>2</td>\n",
       "      <td>5.7</td>\n",
       "      <td>66</td>\n",
       "      <td>0.0</td>\n",
       "      <td>77</td>\n",
       "      <td>103.0</td>\n",
       "      <td>8</td>\n",
       "      <td>...</td>\n",
       "      <td>1</td>\n",
       "      <td>0</td>\n",
       "      <td>0</td>\n",
       "      <td>1</td>\n",
       "      <td>0</td>\n",
       "      <td>33</td>\n",
       "      <td>18</td>\n",
       "      <td>1</td>\n",
       "      <td>0</td>\n",
       "      <td>41</td>\n",
       "    </tr>\n",
       "    <tr>\n",
       "      <th>41-47002</th>\n",
       "      <td>0</td>\n",
       "      <td>4</td>\n",
       "      <td>2</td>\n",
       "      <td>2</td>\n",
       "      <td>4.0</td>\n",
       "      <td>75</td>\n",
       "      <td>70.0</td>\n",
       "      <td>77</td>\n",
       "      <td>127.0</td>\n",
       "      <td>8</td>\n",
       "      <td>...</td>\n",
       "      <td>1</td>\n",
       "      <td>0</td>\n",
       "      <td>0</td>\n",
       "      <td>0</td>\n",
       "      <td>0</td>\n",
       "      <td>30</td>\n",
       "      <td>37</td>\n",
       "      <td>1</td>\n",
       "      <td>1</td>\n",
       "      <td>41</td>\n",
       "    </tr>\n",
       "    <tr>\n",
       "      <th>41-47003</th>\n",
       "      <td>0</td>\n",
       "      <td>8</td>\n",
       "      <td>8</td>\n",
       "      <td>8</td>\n",
       "      <td>5.7</td>\n",
       "      <td>78</td>\n",
       "      <td>90.0</td>\n",
       "      <td>77</td>\n",
       "      <td>119.0</td>\n",
       "      <td>7</td>\n",
       "      <td>...</td>\n",
       "      <td>0</td>\n",
       "      <td>0</td>\n",
       "      <td>0</td>\n",
       "      <td>0</td>\n",
       "      <td>0</td>\n",
       "      <td>30</td>\n",
       "      <td>20</td>\n",
       "      <td>1</td>\n",
       "      <td>0</td>\n",
       "      <td>41</td>\n",
       "    </tr>\n",
       "    <tr>\n",
       "      <th>41-47004</th>\n",
       "      <td>0</td>\n",
       "      <td>2</td>\n",
       "      <td>2</td>\n",
       "      <td>1</td>\n",
       "      <td>5.0</td>\n",
       "      <td>82</td>\n",
       "      <td>0.0</td>\n",
       "      <td>77</td>\n",
       "      <td>127.0</td>\n",
       "      <td>8</td>\n",
       "      <td>...</td>\n",
       "      <td>0</td>\n",
       "      <td>0</td>\n",
       "      <td>0</td>\n",
       "      <td>0</td>\n",
       "      <td>0</td>\n",
       "      <td>25</td>\n",
       "      <td>27</td>\n",
       "      <td>1</td>\n",
       "      <td>1</td>\n",
       "      <td>41</td>\n",
       "    </tr>\n",
       "    <tr>\n",
       "      <th>41-47005</th>\n",
       "      <td>0</td>\n",
       "      <td>8</td>\n",
       "      <td>8</td>\n",
       "      <td>8</td>\n",
       "      <td>99.0</td>\n",
       "      <td>74</td>\n",
       "      <td>100.0</td>\n",
       "      <td>1</td>\n",
       "      <td>112.0</td>\n",
       "      <td>0</td>\n",
       "      <td>...</td>\n",
       "      <td>0</td>\n",
       "      <td>0</td>\n",
       "      <td>0</td>\n",
       "      <td>0</td>\n",
       "      <td>0</td>\n",
       "      <td>33</td>\n",
       "      <td>24</td>\n",
       "      <td>1</td>\n",
       "      <td>1</td>\n",
       "      <td>41</td>\n",
       "    </tr>\n",
       "  </tbody>\n",
       "</table>\n",
       "<p>42856 rows × 195 columns</p>\n",
       "</div>"
      ],
      "text/plain": [
       "          Accrete  AdmBishop  Admcervpos  Admconsistency  Admcontract  AdmDBP  \\\n",
       "MomID                                                                           \n",
       "41-00002        0          8           8               8         99.0      83   \n",
       "41-00003        0          6           3               2          2.9      77   \n",
       "41-00004        0          5           3               2          3.3      65   \n",
       "41-00005        0         11           2               3          4.0      77   \n",
       "41-00006        0         11           1               3          5.0      98   \n",
       "...           ...        ...         ...             ...          ...     ...   \n",
       "41-47001        0          3           3               2          5.7      66   \n",
       "41-47002        0          4           2               2          4.0      75   \n",
       "41-47003        0          8           8               8          5.7      78   \n",
       "41-47004        0          2           2               1          5.0      82   \n",
       "41-47005        0          8           8               8         99.0      74   \n",
       "\n",
       "          Admefface  Admpresent  AdmSBP  Analgesia  ...  ThreatenedPB  \\\n",
       "MomID                                               ...                 \n",
       "41-00002        0.0          77   150.0          7  ...             0   \n",
       "41-00003       70.0           1   105.0          8  ...             0   \n",
       "41-00004       70.0           1   122.0          8  ...             0   \n",
       "41-00005       80.0          77   138.0          8  ...             0   \n",
       "41-00006      100.0          77   134.0          8  ...             0   \n",
       "...             ...         ...     ...        ...  ...           ...   \n",
       "41-47001        0.0          77   103.0          8  ...             1   \n",
       "41-47002       70.0          77   127.0          8  ...             1   \n",
       "41-47003       90.0          77   119.0          7  ...             0   \n",
       "41-47004        0.0          77   127.0          8  ...             0   \n",
       "41-47005      100.0           1   112.0          0  ...             0   \n",
       "\n",
       "          threatpb9  UnspecHBP  uscar  version9  new_age  new_BMI  \\\n",
       "MomID                                                               \n",
       "41-00002          0          0      1         0       37       33   \n",
       "41-00003          0          0      0         0       36       22   \n",
       "41-00004          0          0      0         0       34       31   \n",
       "41-00005          0          0      0         0       31       21   \n",
       "41-00006          0          0      0         0       21       22   \n",
       "...             ...        ...    ...       ...      ...      ...   \n",
       "41-47001          0          0      1         0       33       18   \n",
       "41-47002          0          0      0         0       30       37   \n",
       "41-47003          0          0      0         0       30       20   \n",
       "41-47004          0          0      0         0       25       27   \n",
       "41-47005          0          0      0         0       33       24   \n",
       "\n",
       "          new_high_Age  new_high_BMI  Sitenum  \n",
       "MomID                                          \n",
       "41-00002             1             1       41  \n",
       "41-00003             1             1       41  \n",
       "41-00004             1             1       41  \n",
       "41-00005             1             1       41  \n",
       "41-00006             1             1       41  \n",
       "...                ...           ...      ...  \n",
       "41-47001             1             0       41  \n",
       "41-47002             1             1       41  \n",
       "41-47003             1             0       41  \n",
       "41-47004             1             1       41  \n",
       "41-47005             1             1       41  \n",
       "\n",
       "[42856 rows x 195 columns]"
      ]
     },
     "execution_count": 3,
     "metadata": {},
     "output_type": "execute_result"
    }
   ],
   "source": [
    "X"
   ]
  },
  {
   "cell_type": "code",
   "execution_count": 4,
   "metadata": {},
   "outputs": [
    {
     "name": "stdout",
     "output_type": "stream",
     "text": [
      "<class 'pandas.core.frame.DataFrame'>\n",
      "Index: 42856 entries, 41-00002 to 41-47005\n",
      "Columns: 196 entries, transfus_yes to Sitenum\n",
      "dtypes: float64(4), int64(192)\n",
      "memory usage: 64.4+ MB\n"
     ]
    }
   ],
   "source": [
    "csl_df.info()"
   ]
  },
  {
   "cell_type": "code",
   "execution_count": 5,
   "metadata": {},
   "outputs": [
    {
     "data": {
      "text/plain": [
       "Accrete           50.180851\n",
       "AdmBishop         -0.600826\n",
       "Admcervpos         1.275821\n",
       "Admconsistency     1.420288\n",
       "Admcontract        2.167352\n",
       "                    ...    \n",
       "new_age            0.350433\n",
       "new_BMI            1.525586\n",
       "new_high_Age      -1.427224\n",
       "new_high_BMI      -0.649968\n",
       "Sitenum            0.000000\n",
       "Length: 195, dtype: float64"
      ]
     },
     "execution_count": 5,
     "metadata": {},
     "output_type": "execute_result"
    }
   ],
   "source": [
    "X.skew()"
   ]
  },
  {
   "cell_type": "code",
   "execution_count": 6,
   "metadata": {},
   "outputs": [],
   "source": [
    "#all_features = pd.concat([train.drop(['id','Response'],axis=1),test.drop('id',axis=1)],axis=0)\n",
    "#y = train['Response']"
   ]
  },
  {
   "cell_type": "markdown",
   "metadata": {},
   "source": [
    "Let's combine the train and test set so our transformations are easier as we don't have to apply them seperately to each set"
   ]
  },
  {
   "cell_type": "markdown",
   "metadata": {},
   "source": [
    "<h1 align='center'>Categorical Features Data Analysis</h1>"
   ]
  },
  {
   "cell_type": "code",
   "execution_count": 7,
   "metadata": {},
   "outputs": [
    {
     "name": "stdout",
     "output_type": "stream",
     "text": [
      "0.0913\n",
      "0.0913\n"
     ]
    }
   ],
   "source": [
    "%precision %.3f\n",
    "#np.set_printoptions(precision=3)\n",
    "print(f'{np.bincount(y)[1]/len(y):.4f}')\n",
    "print(f'{np.bincount(y_train)[1]/len(y_train):.4f}')"
   ]
  },
  {
   "cell_type": "code",
   "execution_count": 1,
   "metadata": {},
   "outputs": [
    {
     "ename": "NameError",
     "evalue": "name 'plt' is not defined",
     "output_type": "error",
     "traceback": [
      "\u001b[0;31m---------------------------------------------------------------------------\u001b[0m",
      "\u001b[0;31mNameError\u001b[0m                                 Traceback (most recent call last)",
      "\u001b[0;32m<ipython-input-1-3e4dc85d3000>\u001b[0m in \u001b[0;36m<module>\u001b[0;34m\u001b[0m\n\u001b[0;32m----> 1\u001b[0;31m \u001b[0mfig1\u001b[0m\u001b[0;34m,\u001b[0m \u001b[0max1\u001b[0m \u001b[0;34m=\u001b[0m \u001b[0mplt\u001b[0m\u001b[0;34m.\u001b[0m\u001b[0msubplots\u001b[0m\u001b[0;34m(\u001b[0m\u001b[0;34m)\u001b[0m\u001b[0;34m\u001b[0m\u001b[0;34m\u001b[0m\u001b[0m\n\u001b[0m\u001b[1;32m      2\u001b[0m \u001b[0max1\u001b[0m\u001b[0;34m.\u001b[0m\u001b[0mpie\u001b[0m\u001b[0;34m(\u001b[0m\u001b[0mcsl_df\u001b[0m\u001b[0;34m[\u001b[0m\u001b[0;34m'transfus_yes'\u001b[0m\u001b[0;34m]\u001b[0m\u001b[0;34m.\u001b[0m\u001b[0mvalue_counts\u001b[0m\u001b[0;34m(\u001b[0m\u001b[0;34m)\u001b[0m\u001b[0;34m,\u001b[0m \u001b[0mlabels\u001b[0m\u001b[0;34m=\u001b[0m\u001b[0;34m[\u001b[0m\u001b[0;34m'< 1L'\u001b[0m\u001b[0;34m,\u001b[0m\u001b[0;34m'>= 1L'\u001b[0m\u001b[0;34m]\u001b[0m\u001b[0;34m,\u001b[0m \u001b[0mautopct\u001b[0m\u001b[0;34m=\u001b[0m\u001b[0;34m'%1.1f%%'\u001b[0m\u001b[0;34m)\u001b[0m\u001b[0;34m\u001b[0m\u001b[0;34m\u001b[0m\u001b[0m\n\u001b[1;32m      3\u001b[0m \u001b[0mplt\u001b[0m\u001b[0;34m.\u001b[0m\u001b[0mshow\u001b[0m\u001b[0;34m(\u001b[0m\u001b[0;34m)\u001b[0m\u001b[0;34m\u001b[0m\u001b[0;34m\u001b[0m\u001b[0m\n",
      "\u001b[0;31mNameError\u001b[0m: name 'plt' is not defined"
     ]
    }
   ],
   "source": [
    "fig1, ax1 = plt.subplots()\n",
    "ax1.pie(csl_df['transfus_yes'].value_counts(), labels=['< 1L','>= 1L'], autopct='%1.1f%%')\n",
    "plt.show()"
   ]
  },
  {
   "cell_type": "code",
   "execution_count": 10,
   "metadata": {},
   "outputs": [],
   "source": [
    "#fig = px.pie(train,values=train['Response'].value_counts(),names=['Class 0','Class 1'],hole=0.6,labels={0:'Response = 0'},color_discrete_sequence=px.colors.sequential.Sunset)\n",
    "#fig.show(showlegend=True)\n",
    "#plt.show()"
   ]
  },
  {
   "cell_type": "code",
   "execution_count": 11,
   "metadata": {},
   "outputs": [],
   "source": [
    "#fig = px.pie(train,values=train['Response'].value_counts(),names=['Class 0','Class 1'],hole=0.6,labels={0:'Response = 0'},color_discrete_sequence=px.colors.sequential.Sunset)\n",
    "#fig.show(showlegend=True)"
   ]
  },
  {
   "cell_type": "code",
   "execution_count": 2,
   "metadata": {},
   "outputs": [
    {
     "ename": "NameError",
     "evalue": "name 'sns' is not defined",
     "output_type": "error",
     "traceback": [
      "\u001b[0;31m---------------------------------------------------------------------------\u001b[0m",
      "\u001b[0;31mNameError\u001b[0m                                 Traceback (most recent call last)",
      "\u001b[0;32m<ipython-input-2-ae8f2ca066ee>\u001b[0m in \u001b[0;36m<module>\u001b[0;34m\u001b[0m\n\u001b[0;32m----> 1\u001b[0;31m \u001b[0msns\u001b[0m\u001b[0;34m.\u001b[0m\u001b[0mcountplot\u001b[0m\u001b[0;34m(\u001b[0m\u001b[0mcsl_df\u001b[0m\u001b[0;34m[\u001b[0m\u001b[0;34m'transfus_yes'\u001b[0m\u001b[0;34m]\u001b[0m\u001b[0;34m)\u001b[0m\u001b[0;34m\u001b[0m\u001b[0;34m\u001b[0m\u001b[0m\n\u001b[0m\u001b[1;32m      2\u001b[0m \u001b[0mplt\u001b[0m\u001b[0;34m.\u001b[0m\u001b[0mshow\u001b[0m\u001b[0;34m(\u001b[0m\u001b[0;34m)\u001b[0m\u001b[0;34m\u001b[0m\u001b[0;34m\u001b[0m\u001b[0m\n",
      "\u001b[0;31mNameError\u001b[0m: name 'sns' is not defined"
     ]
    }
   ],
   "source": [
    "sns.countplot(csl_df['transfus_yes'])\n",
    "plt.show()"
   ]
  },
  {
   "cell_type": "markdown",
   "metadata": {},
   "source": [
    "We can see from the above visualisations that:\n",
    "\n",
    "* The Data is highly imbalanced"
   ]
  },
  {
   "cell_type": "code",
   "execution_count": 3,
   "metadata": {},
   "outputs": [
    {
     "ename": "NameError",
     "evalue": "name 'plt' is not defined",
     "output_type": "error",
     "traceback": [
      "\u001b[0;31m---------------------------------------------------------------------------\u001b[0m",
      "\u001b[0;31mNameError\u001b[0m                                 Traceback (most recent call last)",
      "\u001b[0;32m<ipython-input-3-4245b889097e>\u001b[0m in \u001b[0;36m<module>\u001b[0;34m\u001b[0m\n\u001b[0;32m----> 1\u001b[0;31m \u001b[0mplt\u001b[0m\u001b[0;34m.\u001b[0m\u001b[0mfigure\u001b[0m\u001b[0;34m(\u001b[0m\u001b[0mfigsize\u001b[0m\u001b[0;34m=\u001b[0m\u001b[0;34m(\u001b[0m\u001b[0;36m20\u001b[0m\u001b[0;34m,\u001b[0m\u001b[0;36m10\u001b[0m\u001b[0;34m)\u001b[0m\u001b[0;34m)\u001b[0m\u001b[0;34m\u001b[0m\u001b[0;34m\u001b[0m\u001b[0m\n\u001b[0m\u001b[1;32m      2\u001b[0m \u001b[0msns\u001b[0m\u001b[0;34m.\u001b[0m\u001b[0mbarplot\u001b[0m\u001b[0;34m(\u001b[0m\u001b[0mcsl_df\u001b[0m\u001b[0;34m[\u001b[0m\u001b[0;34m'new_age'\u001b[0m\u001b[0;34m]\u001b[0m\u001b[0;34m,\u001b[0m\u001b[0mcsl_df\u001b[0m\u001b[0;34m[\u001b[0m\u001b[0;34m'transfus_yes'\u001b[0m\u001b[0;34m]\u001b[0m\u001b[0;34m)\u001b[0m\u001b[0;34m\u001b[0m\u001b[0;34m\u001b[0m\u001b[0m\n\u001b[1;32m      3\u001b[0m \u001b[0mplt\u001b[0m\u001b[0;34m.\u001b[0m\u001b[0mshow\u001b[0m\u001b[0;34m(\u001b[0m\u001b[0;34m)\u001b[0m\u001b[0;34m\u001b[0m\u001b[0;34m\u001b[0m\u001b[0m\n",
      "\u001b[0;31mNameError\u001b[0m: name 'plt' is not defined"
     ]
    }
   ],
   "source": [
    "plt.figure(figsize=(20,10))\n",
    "sns.barplot(csl_df['new_age'],csl_df['transfus_yes'])\n",
    "plt.show()"
   ]
  },
  {
   "cell_type": "code",
   "execution_count": 4,
   "metadata": {},
   "outputs": [
    {
     "ename": "NameError",
     "evalue": "name 'sns' is not defined",
     "output_type": "error",
     "traceback": [
      "\u001b[0;31m---------------------------------------------------------------------------\u001b[0m",
      "\u001b[0;31mNameError\u001b[0m                                 Traceback (most recent call last)",
      "\u001b[0;32m<ipython-input-4-3e7f4639aff8>\u001b[0m in \u001b[0;36m<module>\u001b[0;34m\u001b[0m\n\u001b[0;32m----> 1\u001b[0;31m \u001b[0msns\u001b[0m\u001b[0;34m.\u001b[0m\u001b[0mboxplot\u001b[0m\u001b[0;34m(\u001b[0m\u001b[0mcsl_df\u001b[0m\u001b[0;34m[\u001b[0m\u001b[0;34m'new_age'\u001b[0m\u001b[0;34m]\u001b[0m\u001b[0;34m)\u001b[0m\u001b[0;34m\u001b[0m\u001b[0;34m\u001b[0m\u001b[0m\n\u001b[0m\u001b[1;32m      2\u001b[0m \u001b[0mplt\u001b[0m\u001b[0;34m.\u001b[0m\u001b[0mshow\u001b[0m\u001b[0;34m(\u001b[0m\u001b[0;34m)\u001b[0m\u001b[0;34m\u001b[0m\u001b[0;34m\u001b[0m\u001b[0m\n",
      "\u001b[0;31mNameError\u001b[0m: name 'sns' is not defined"
     ]
    }
   ],
   "source": [
    "sns.boxplot(csl_df['new_age'])\n",
    "plt.show()"
   ]
  },
  {
   "cell_type": "code",
   "execution_count": 5,
   "metadata": {},
   "outputs": [
    {
     "ename": "NameError",
     "evalue": "name 'plt' is not defined",
     "output_type": "error",
     "traceback": [
      "\u001b[0;31m---------------------------------------------------------------------------\u001b[0m",
      "\u001b[0;31mNameError\u001b[0m                                 Traceback (most recent call last)",
      "\u001b[0;32m<ipython-input-5-998a097700dc>\u001b[0m in \u001b[0;36m<module>\u001b[0;34m\u001b[0m\n\u001b[0;32m----> 1\u001b[0;31m \u001b[0mplt\u001b[0m\u001b[0;34m.\u001b[0m\u001b[0mfigure\u001b[0m\u001b[0;34m(\u001b[0m\u001b[0mfigsize\u001b[0m\u001b[0;34m=\u001b[0m\u001b[0;34m(\u001b[0m\u001b[0;36m20\u001b[0m\u001b[0;34m,\u001b[0m\u001b[0;36m10\u001b[0m\u001b[0;34m)\u001b[0m\u001b[0;34m)\u001b[0m\u001b[0;34m\u001b[0m\u001b[0;34m\u001b[0m\u001b[0m\n\u001b[0m\u001b[1;32m      2\u001b[0m \u001b[0msns\u001b[0m\u001b[0;34m.\u001b[0m\u001b[0mbarplot\u001b[0m\u001b[0;34m(\u001b[0m\u001b[0mcsl_df\u001b[0m\u001b[0;34m[\u001b[0m\u001b[0;34m'new_BMI'\u001b[0m\u001b[0;34m]\u001b[0m\u001b[0;34m,\u001b[0m\u001b[0mcsl_df\u001b[0m\u001b[0;34m[\u001b[0m\u001b[0;34m'transfus_yes'\u001b[0m\u001b[0;34m]\u001b[0m\u001b[0;34m)\u001b[0m\u001b[0;34m\u001b[0m\u001b[0;34m\u001b[0m\u001b[0m\n\u001b[1;32m      3\u001b[0m \u001b[0mplt\u001b[0m\u001b[0;34m.\u001b[0m\u001b[0mshow\u001b[0m\u001b[0;34m(\u001b[0m\u001b[0;34m)\u001b[0m\u001b[0;34m\u001b[0m\u001b[0;34m\u001b[0m\u001b[0m\n",
      "\u001b[0;31mNameError\u001b[0m: name 'plt' is not defined"
     ]
    }
   ],
   "source": [
    "plt.figure(figsize=(20,10))\n",
    "sns.barplot(csl_df['new_BMI'],csl_df['transfus_yes'])\n",
    "plt.show()"
   ]
  },
  {
   "cell_type": "code",
   "execution_count": 6,
   "metadata": {},
   "outputs": [
    {
     "ename": "NameError",
     "evalue": "name 'sns' is not defined",
     "output_type": "error",
     "traceback": [
      "\u001b[0;31m---------------------------------------------------------------------------\u001b[0m",
      "\u001b[0;31mNameError\u001b[0m                                 Traceback (most recent call last)",
      "\u001b[0;32m<ipython-input-6-154c9bf59911>\u001b[0m in \u001b[0;36m<module>\u001b[0;34m\u001b[0m\n\u001b[0;32m----> 1\u001b[0;31m \u001b[0msns\u001b[0m\u001b[0;34m.\u001b[0m\u001b[0mboxplot\u001b[0m\u001b[0;34m(\u001b[0m\u001b[0mcsl_df\u001b[0m\u001b[0;34m[\u001b[0m\u001b[0;34m'new_BMI'\u001b[0m\u001b[0;34m]\u001b[0m\u001b[0;34m)\u001b[0m\u001b[0;34m\u001b[0m\u001b[0;34m\u001b[0m\u001b[0m\n\u001b[0m\u001b[1;32m      2\u001b[0m \u001b[0mplt\u001b[0m\u001b[0;34m.\u001b[0m\u001b[0mshow\u001b[0m\u001b[0;34m(\u001b[0m\u001b[0;34m)\u001b[0m\u001b[0;34m\u001b[0m\u001b[0;34m\u001b[0m\u001b[0m\n",
      "\u001b[0;31mNameError\u001b[0m: name 'sns' is not defined"
     ]
    }
   ],
   "source": [
    "sns.boxplot(csl_df['new_BMI'])\n",
    "plt.show()"
   ]
  },
  {
   "cell_type": "markdown",
   "metadata": {},
   "source": [
    "<h1 align='center'>Modelling</h1>"
   ]
  },
  {
   "cell_type": "code",
   "execution_count": 19,
   "metadata": {},
   "outputs": [],
   "source": [
    "#X = all_features.iloc[:len(train),:]\n",
    "#X_test = all_features.iloc[len(train):,:]\n",
    "\n",
    "#kf = StratifiedKFold(n_splits=12,shuffle=True,random_state=42)"
   ]
  },
  {
   "cell_type": "markdown",
   "metadata": {},
   "source": [
    "We define resplit our train and test set, and set up 12 Fold Stratified Cross Validation. It is important to stratify as this ensures that during our training and validation, we split according to target distribution"
   ]
  },
  {
   "cell_type": "code",
   "execution_count": 20,
   "metadata": {},
   "outputs": [],
   "source": [
    "#for train_index,val_index in kf.split(X,y):\n",
    "#    X_train,X_val = X.iloc[train_index],X.iloc[val_index],\n",
    "#    y_train,y_val = y.iloc[train_index],y.iloc[val_index],"
   ]
  },
  {
   "cell_type": "code",
   "execution_count": 21,
   "metadata": {},
   "outputs": [
    {
     "name": "stdout",
     "output_type": "stream",
     "text": [
      "(29999, 195)\n",
      "(42856, 195)\n",
      "(42856,)\n"
     ]
    }
   ],
   "source": [
    "# MWB\n",
    "print(X_train.shape)\n",
    "print(X.shape)\n",
    "print(y.shape)"
   ]
  },
  {
   "cell_type": "markdown",
   "metadata": {},
   "source": [
    "Here we define our validation set"
   ]
  },
  {
   "cell_type": "markdown",
   "metadata": {},
   "source": [
    "<h1 align='center'>Modelling Using Undersampling</h1>"
   ]
  },
  {
   "cell_type": "markdown",
   "metadata": {},
   "source": [
    "We will use `imblearn`'s RandomUnderSampler to undersample from the majority class so that they match"
   ]
  },
  {
   "cell_type": "code",
   "execution_count": 22,
   "metadata": {},
   "outputs": [],
   "source": [
    "#sampler = RandomUnderSampler(sampling_strategy=1.0, random_state=7)\n",
    "#X_rus, y_rus = sampler.fit_resample(X_train, y_train)\n",
    "\n",
    "# Try with no undersampling\n",
    "X_rus, y_rus = X_train, y_train"
   ]
  },
  {
   "cell_type": "code",
   "execution_count": 23,
   "metadata": {},
   "outputs": [
    {
     "name": "stdout",
     "output_type": "stream",
     "text": [
      "(29999, 195)\n",
      "(29999,)\n",
      "[27261  2738]\n"
     ]
    }
   ],
   "source": [
    "print(X_rus.shape)\n",
    "print(y_rus.shape)\n",
    "print(np.bincount(y_rus))"
   ]
  },
  {
   "cell_type": "markdown",
   "metadata": {},
   "source": [
    "<h1 align='center'>Basic LightGBM</h1>"
   ]
  },
  {
   "cell_type": "markdown",
   "metadata": {},
   "source": [
    "Let's fit a vanilla LGBMClassifier on the undersampled data and evaluate it"
   ]
  },
  {
   "cell_type": "code",
   "execution_count": 40,
   "metadata": {},
   "outputs": [
    {
     "name": "stdout",
     "output_type": "stream",
     "text": [
      "[[7357 4326]\n",
      " [ 667  507]]\n",
      "              precision    recall  f1-score   support\n",
      "\n",
      "           0       0.92      0.63      0.75     11683\n",
      "           1       0.10      0.43      0.17      1174\n",
      "\n",
      "    accuracy                           0.61     12857\n",
      "   macro avg       0.51      0.53      0.46     12857\n",
      "weighted avg       0.84      0.61      0.69     12857\n",
      "\n",
      "ROC AUC pred: 0.5307876468684897\n",
      "ROC AUC prob1: 0.5633500298414053\n",
      "MCC: 0.03661962321698308\n",
      "F2: 0.2660300136425648\n",
      "PR_AUC: 0.1218587317412832\n"
     ]
    }
   ],
   "source": [
    "from sklearn.metrics import matthews_corrcoef\n",
    "lgb_rus = LGBMClassifier(class_weight='balanced')   # If not undersampling\n",
    "# lgb_rus = LGBMClassifier()\n",
    "lgb_rus.fit(X_rus, y_rus)\n",
    "y_pred = lgb_rus.predict(X_test)\n",
    "probs = lgb_rus.predict_proba(X_test)\n",
    "prob1 = probs[:, 1]  # Only positives\n",
    "precision, recall, pr_thresh = precision_recall_curve(y_test, prob1)\n",
    "print(confusion_matrix(y_pred=y_pred, y_true=y_test))\n",
    "print(classification_report(y_test, y_pred))\n",
    "print(f'ROC AUC pred: {roc_auc_score(y_test, y_pred)}')\n",
    "print(f'ROC AUC prob1: {roc_auc_score(y_test, prob1)}')\n",
    "print(f'MCC: {matthews_corrcoef(y_test, y_pred)}')\n",
    "print(f'F2: {fbeta_score(y_test, y_pred, beta=2.0, average=None)[1]}')\n",
    "print(f'PR_AUC: {auc(recall, precision)}')"
   ]
  },
  {
   "cell_type": "markdown",
   "metadata": {},
   "source": [
    "<h1 align='center'>Hyperparameter Tuning</h1>"
   ]
  },
  {
   "cell_type": "code",
   "execution_count": 50,
   "metadata": {},
   "outputs": [
    {
     "name": "stderr",
     "output_type": "stream",
     "text": [
      "\u001b[32m[I 2021-12-01 18:34:31,938]\u001b[0m A new study created in memory with name: no-name-c990f7d8-fc80-4140-bf34-b24975ccd8b4\u001b[0m\n",
      "\u001b[32m[I 2021-12-01 18:34:34,919]\u001b[0m Trial 0 finished with value: 0.11005497317773205 and parameters: {'n_estimators': 250, 'num_leaves': 476, 'max_depth': 16, 'learning_rate': 0.5986986183486169, 'min_child_samples': 16}. Best is trial 0 with value: 0.11005497317773205.\u001b[0m\n"
     ]
    },
    {
     "name": "stdout",
     "output_type": "stream",
     "text": [
      "PR_AUC: 0.10974259198882269\n",
      "avg_prec: 0.11005497317773205\n",
      "MCC: 0.014733785828156872\n"
     ]
    },
    {
     "name": "stderr",
     "output_type": "stream",
     "text": [
      "\u001b[32m[I 2021-12-01 18:34:35,726]\u001b[0m Trial 1 finished with value: 0.1053955502634013 and parameters: {'n_estimators': 162, 'num_leaves': 38, 'max_depth': 18, 'learning_rate': 0.6011549002420344, 'min_child_samples': 39}. Best is trial 0 with value: 0.11005497317773205.\u001b[0m\n"
     ]
    },
    {
     "name": "stdout",
     "output_type": "stream",
     "text": [
      "PR_AUC: 0.10492647555343806\n",
      "avg_prec: 0.1053955502634013\n",
      "MCC: 0.01758013610844953\n"
     ]
    },
    {
     "name": "stderr",
     "output_type": "stream",
     "text": [
      "\u001b[32m[I 2021-12-01 18:34:38,219]\u001b[0m Trial 2 finished with value: 0.11277712042198546 and parameters: {'n_estimators': 108, 'num_leaves': 486, 'max_depth': 18, 'learning_rate': 0.21241787676720833, 'min_child_samples': 17}. Best is trial 2 with value: 0.11277712042198546.\u001b[0m\n"
     ]
    },
    {
     "name": "stdout",
     "output_type": "stream",
     "text": [
      "PR_AUC: 0.1123676699758286\n",
      "avg_prec: 0.11277712042198546\n",
      "MCC: 0.022235846401728473\n"
     ]
    },
    {
     "name": "stderr",
     "output_type": "stream",
     "text": [
      "\u001b[32m[I 2021-12-01 18:34:39,684]\u001b[0m Trial 3 finished with value: 0.10765726728573449 and parameters: {'n_estimators': 173, 'num_leaves': 159, 'max_depth': 12, 'learning_rate': 0.43200182414025157, 'min_child_samples': 21}. Best is trial 2 with value: 0.11277712042198546.\u001b[0m\n"
     ]
    },
    {
     "name": "stdout",
     "output_type": "stream",
     "text": [
      "PR_AUC: 0.10736965311580993\n",
      "avg_prec: 0.10765726728573449\n",
      "MCC: 0.02305849636877415\n"
     ]
    },
    {
     "name": "stderr",
     "output_type": "stream",
     "text": [
      "\u001b[32m[I 2021-12-01 18:34:41,381]\u001b[0m Trial 4 finished with value: 0.11193049130378291 and parameters: {'n_estimators': 345, 'num_leaves': 78, 'max_depth': 8, 'learning_rate': 0.3664252071093623, 'min_child_samples': 28}. Best is trial 2 with value: 0.11277712042198546.\u001b[0m\n"
     ]
    },
    {
     "name": "stdout",
     "output_type": "stream",
     "text": [
      "PR_AUC: 0.11144710829774887\n",
      "avg_prec: 0.11193049130378291\n",
      "MCC: 0.040983107581107694\n"
     ]
    },
    {
     "name": "stderr",
     "output_type": "stream",
     "text": [
      "\u001b[32m[I 2021-12-01 18:34:43,883]\u001b[0m Trial 5 finished with value: 0.11070447180718787 and parameters: {'n_estimators': 414, 'num_leaves': 108, 'max_depth': 12, 'learning_rate': 0.5924553274051563, 'min_child_samples': 11}. Best is trial 2 with value: 0.11277712042198546.\u001b[0m\n"
     ]
    },
    {
     "name": "stdout",
     "output_type": "stream",
     "text": [
      "PR_AUC: 0.11032244960975014\n",
      "avg_prec: 0.11070447180718787\n",
      "MCC: 0.024362042957304184\n"
     ]
    },
    {
     "name": "stderr",
     "output_type": "stream",
     "text": [
      "\u001b[32m[I 2021-12-01 18:34:44,913]\u001b[0m Trial 6 finished with value: 0.09836970153131983 and parameters: {'n_estimators': 343, 'num_leaves': 93, 'max_depth': 5, 'learning_rate': 0.9488906486996079, 'min_child_samples': 49}. Best is trial 2 with value: 0.11277712042198546.\u001b[0m\n"
     ]
    },
    {
     "name": "stdout",
     "output_type": "stream",
     "text": [
      "PR_AUC: 0.09791823429828483\n",
      "avg_prec: 0.09836970153131983\n",
      "MCC: 0.007616918449168069\n"
     ]
    },
    {
     "name": "stderr",
     "output_type": "stream",
     "text": [
      "\u001b[32m[I 2021-12-01 18:34:46,537]\u001b[0m Trial 7 finished with value: 0.10344809165952187 and parameters: {'n_estimators': 424, 'num_leaves': 159, 'max_depth': 5, 'learning_rate': 0.6842646032095057, 'min_child_samples': 28}. Best is trial 2 with value: 0.11277712042198546.\u001b[0m\n"
     ]
    },
    {
     "name": "stdout",
     "output_type": "stream",
     "text": [
      "PR_AUC: 0.1029095147872045\n",
      "avg_prec: 0.10344809165952187\n",
      "MCC: 0.023750355325440144\n"
     ]
    },
    {
     "name": "stderr",
     "output_type": "stream",
     "text": [
      "\u001b[32m[I 2021-12-01 18:34:47,274]\u001b[0m Trial 8 finished with value: 0.10725705383668745 and parameters: {'n_estimators': 148, 'num_leaves': 253, 'max_depth': 4, 'learning_rate': 0.9093294700385742, 'min_child_samples': 20}. Best is trial 2 with value: 0.11277712042198546.\u001b[0m\n"
     ]
    },
    {
     "name": "stdout",
     "output_type": "stream",
     "text": [
      "PR_AUC: 0.10665740910789188\n",
      "avg_prec: 0.10725705383668745\n",
      "MCC: 0.018130771286326588\n"
     ]
    },
    {
     "name": "stderr",
     "output_type": "stream",
     "text": [
      "\u001b[32m[I 2021-12-01 18:34:50,297]\u001b[0m Trial 9 finished with value: 0.11177766986701956 and parameters: {'n_estimators': 365, 'num_leaves': 163, 'max_depth': 12, 'learning_rate': 0.5467556083153453, 'min_child_samples': 17}. Best is trial 2 with value: 0.11277712042198546.\u001b[0m\n"
     ]
    },
    {
     "name": "stdout",
     "output_type": "stream",
     "text": [
      "PR_AUC: 0.11131018030949436\n",
      "avg_prec: 0.11177766986701956\n",
      "MCC: 0.023647780046172125\n"
     ]
    },
    {
     "name": "stderr",
     "output_type": "stream",
     "text": [
      "\u001b[32m[I 2021-12-01 18:34:54,710]\u001b[0m Trial 10 finished with value: 0.11977756955318047 and parameters: {'n_estimators': 254, 'num_leaves': 467, 'max_depth': 20, 'learning_rate': 0.029702456481993794, 'min_child_samples': 36}. Best is trial 10 with value: 0.11977756955318047.\u001b[0m\n"
     ]
    },
    {
     "name": "stdout",
     "output_type": "stream",
     "text": [
      "PR_AUC: 0.11943634449048107\n",
      "avg_prec: 0.11977756955318047\n",
      "MCC: 0.03372464542978788\n"
     ]
    },
    {
     "name": "stderr",
     "output_type": "stream",
     "text": [
      "\u001b[32m[I 2021-12-01 18:34:58,825]\u001b[0m Trial 11 finished with value: 0.11592723618651998 and parameters: {'n_estimators': 254, 'num_leaves': 493, 'max_depth': 20, 'learning_rate': 0.03991332219292948, 'min_child_samples': 36}. Best is trial 10 with value: 0.11977756955318047.\u001b[0m\n"
     ]
    },
    {
     "name": "stdout",
     "output_type": "stream",
     "text": [
      "PR_AUC: 0.11561246278399114\n",
      "avg_prec: 0.11592723618651998\n",
      "MCC: 0.02329645139168885\n"
     ]
    },
    {
     "name": "stderr",
     "output_type": "stream",
     "text": [
      "\u001b[32m[I 2021-12-01 18:35:01,913]\u001b[0m Trial 12 finished with value: 0.12256595035511432 and parameters: {'n_estimators': 254, 'num_leaves': 390, 'max_depth': 20, 'learning_rate': 0.03506029238739772, 'min_child_samples': 39}. Best is trial 12 with value: 0.12256595035511432.\u001b[0m\n"
     ]
    },
    {
     "name": "stdout",
     "output_type": "stream",
     "text": [
      "PR_AUC: 0.12222957316412048\n",
      "avg_prec: 0.12256595035511432\n",
      "MCC: 0.04075743046921874\n"
     ]
    },
    {
     "name": "stderr",
     "output_type": "stream",
     "text": [
      "\u001b[32m[I 2021-12-01 18:35:05,948]\u001b[0m Trial 13 finished with value: 0.12014689129512683 and parameters: {'n_estimators': 269, 'num_leaves': 384, 'max_depth': 15, 'learning_rate': 0.00458387174227631, 'min_child_samples': 43}. Best is trial 12 with value: 0.12256595035511432.\u001b[0m\n"
     ]
    },
    {
     "name": "stdout",
     "output_type": "stream",
     "text": [
      "PR_AUC: 0.12132773284845194\n",
      "avg_prec: 0.12014689129512683\n",
      "MCC: 0.022150440964155946\n"
     ]
    },
    {
     "name": "stderr",
     "output_type": "stream",
     "text": [
      "\u001b[32m[I 2021-12-01 18:35:10,371]\u001b[0m Trial 14 finished with value: 0.10956291116314149 and parameters: {'n_estimators': 295, 'num_leaves': 372, 'max_depth': 15, 'learning_rate': 0.20901588306786265, 'min_child_samples': 48}. Best is trial 12 with value: 0.12256595035511432.\u001b[0m\n"
     ]
    },
    {
     "name": "stdout",
     "output_type": "stream",
     "text": [
      "PR_AUC: 0.10897139687557451\n",
      "avg_prec: 0.10956291116314149\n",
      "MCC: 0.018483750345978125\n"
     ]
    },
    {
     "name": "stderr",
     "output_type": "stream",
     "text": [
      "\u001b[32m[I 2021-12-01 18:35:16,064]\u001b[0m Trial 15 finished with value: 0.11101338183671569 and parameters: {'n_estimators': 487, 'num_leaves': 372, 'max_depth': 15, 'learning_rate': 0.187613878170224, 'min_child_samples': 43}. Best is trial 12 with value: 0.12256595035511432.\u001b[0m\n"
     ]
    },
    {
     "name": "stdout",
     "output_type": "stream",
     "text": [
      "PR_AUC: 0.11045676204872036\n",
      "avg_prec: 0.11101338183671569\n",
      "MCC: 0.028647776223642892\n"
     ]
    },
    {
     "name": "stderr",
     "output_type": "stream",
     "text": [
      "\u001b[32m[I 2021-12-01 18:35:17,427]\u001b[0m Trial 16 finished with value: 0.11317168929566855 and parameters: {'n_estimators': 231, 'num_leaves': 365, 'max_depth': 10, 'learning_rate': 0.12027922248994358, 'min_child_samples': 43}. Best is trial 12 with value: 0.12256595035511432.\u001b[0m\n"
     ]
    },
    {
     "name": "stdout",
     "output_type": "stream",
     "text": [
      "PR_AUC: 0.11248775587376067\n",
      "avg_prec: 0.11317168929566855\n",
      "MCC: 0.019923261928342314\n"
     ]
    },
    {
     "name": "stderr",
     "output_type": "stream",
     "text": [
      "\u001b[32m[I 2021-12-01 18:35:20,045]\u001b[0m Trial 17 finished with value: 0.11006470410611374 and parameters: {'n_estimators': 197, 'num_leaves': 310, 'max_depth': 17, 'learning_rate': 0.34654699596748234, 'min_child_samples': 33}. Best is trial 12 with value: 0.12256595035511432.\u001b[0m\n"
     ]
    },
    {
     "name": "stdout",
     "output_type": "stream",
     "text": [
      "PR_AUC: 0.10963461901000468\n",
      "avg_prec: 0.11006470410611374\n",
      "MCC: 0.01923771473880801\n"
     ]
    },
    {
     "name": "stderr",
     "output_type": "stream",
     "text": [
      "\u001b[32m[I 2021-12-01 18:35:23,595]\u001b[0m Trial 18 finished with value: 0.11405920748939122 and parameters: {'n_estimators': 297, 'num_leaves': 425, 'max_depth': 14, 'learning_rate': 0.294312176282855, 'min_child_samples': 43}. Best is trial 12 with value: 0.12256595035511432.\u001b[0m\n"
     ]
    },
    {
     "name": "stdout",
     "output_type": "stream",
     "text": [
      "PR_AUC: 0.11371495156600592\n",
      "avg_prec: 0.11405920748939122\n",
      "MCC: 0.037423948486780226\n"
     ]
    },
    {
     "name": "stderr",
     "output_type": "stream",
     "text": [
      "\u001b[32m[I 2021-12-01 18:35:26,331]\u001b[0m Trial 19 finished with value: 0.1209416613613924 and parameters: {'n_estimators': 214, 'num_leaves': 285, 'max_depth': 20, 'learning_rate': 0.011088090324846922, 'min_child_samples': 40}. Best is trial 12 with value: 0.12256595035511432.\u001b[0m\n"
     ]
    },
    {
     "name": "stdout",
     "output_type": "stream",
     "text": [
      "PR_AUC: 0.12054106769517337\n",
      "avg_prec: 0.1209416613613924\n",
      "MCC: 0.02737272606552405\n"
     ]
    },
    {
     "name": "stderr",
     "output_type": "stream",
     "text": [
      "\u001b[32m[I 2021-12-01 18:35:28,715]\u001b[0m Trial 20 finished with value: 0.11166948405255323 and parameters: {'n_estimators': 207, 'num_leaves': 271, 'max_depth': 20, 'learning_rate': 0.10662688371185791, 'min_child_samples': 32}. Best is trial 12 with value: 0.12256595035511432.\u001b[0m\n"
     ]
    },
    {
     "name": "stdout",
     "output_type": "stream",
     "text": [
      "PR_AUC: 0.11125923279273622\n",
      "avg_prec: 0.11166948405255323\n",
      "MCC: 0.036119023258940015\n"
     ]
    },
    {
     "name": "stderr",
     "output_type": "stream",
     "text": [
      "\u001b[32m[I 2021-12-01 18:35:32,126]\u001b[0m Trial 21 finished with value: 0.1198639886599106 and parameters: {'n_estimators': 292, 'num_leaves': 307, 'max_depth': 18, 'learning_rate': 0.002406236767943237, 'min_child_samples': 40}. Best is trial 12 with value: 0.12256595035511432.\u001b[0m\n"
     ]
    },
    {
     "name": "stdout",
     "output_type": "stream",
     "text": [
      "PR_AUC: 0.1210484353860567\n",
      "avg_prec: 0.1198639886599106\n",
      "MCC: 0.03521498587240752\n"
     ]
    },
    {
     "name": "stderr",
     "output_type": "stream",
     "text": [
      "\u001b[32m[I 2021-12-01 18:35:34,597]\u001b[0m Trial 22 finished with value: 0.11419863767641691 and parameters: {'n_estimators': 217, 'num_leaves': 416, 'max_depth': 19, 'learning_rate': 0.1337554608279456, 'min_child_samples': 47}. Best is trial 12 with value: 0.12256595035511432.\u001b[0m\n"
     ]
    },
    {
     "name": "stdout",
     "output_type": "stream",
     "text": [
      "PR_AUC: 0.11379608075584621\n",
      "avg_prec: 0.11419863767641691\n",
      "MCC: 0.0446599368265295\n"
     ]
    },
    {
     "name": "stderr",
     "output_type": "stream",
     "text": [
      "\u001b[32m[I 2021-12-01 18:35:36,920]\u001b[0m Trial 23 finished with value: 0.11359397822670159 and parameters: {'n_estimators': 272, 'num_leaves': 247, 'max_depth': 14, 'learning_rate': 0.795897855857622, 'min_child_samples': 39}. Best is trial 12 with value: 0.12256595035511432.\u001b[0m\n"
     ]
    },
    {
     "name": "stdout",
     "output_type": "stream",
     "text": [
      "PR_AUC: 0.11322133012498498\n",
      "avg_prec: 0.11359397822670159\n",
      "MCC: 0.0407402348083777\n"
     ]
    },
    {
     "name": "stderr",
     "output_type": "stream",
     "text": [
      "\u001b[32m[I 2021-12-01 18:35:40,490]\u001b[0m Trial 24 finished with value: 0.11618240890276271 and parameters: {'n_estimators': 330, 'num_leaves': 327, 'max_depth': 17, 'learning_rate': 0.2641439594257239, 'min_child_samples': 46}. Best is trial 12 with value: 0.12256595035511432.\u001b[0m\n"
     ]
    },
    {
     "name": "stdout",
     "output_type": "stream",
     "text": [
      "PR_AUC: 0.11586082597954608\n",
      "avg_prec: 0.11618240890276271\n",
      "MCC: 0.03130313439114702\n"
     ]
    },
    {
     "name": "stderr",
     "output_type": "stream",
     "text": [
      "\u001b[32m[I 2021-12-01 18:35:41,433]\u001b[0m Trial 25 finished with value: 0.11605866964405012 and parameters: {'n_estimators': 117, 'num_leaves': 425, 'max_depth': 10, 'learning_rate': 0.08563820636837287, 'min_child_samples': 36}. Best is trial 12 with value: 0.12256595035511432.\u001b[0m\n"
     ]
    },
    {
     "name": "stdout",
     "output_type": "stream",
     "text": [
      "PR_AUC: 0.1157321886007919\n",
      "avg_prec: 0.11605866964405012\n",
      "MCC: 0.02295794036100659\n"
     ]
    },
    {
     "name": "stderr",
     "output_type": "stream",
     "text": [
      "\u001b[32m[I 2021-12-01 18:35:43,550]\u001b[0m Trial 26 finished with value: 0.12328113612307391 and parameters: {'n_estimators': 191, 'num_leaves': 208, 'max_depth': 19, 'learning_rate': 0.020780959233104274, 'min_child_samples': 44}. Best is trial 26 with value: 0.12328113612307391.\u001b[0m\n"
     ]
    },
    {
     "name": "stdout",
     "output_type": "stream",
     "text": [
      "PR_AUC: 0.12295267082949518\n",
      "avg_prec: 0.12328113612307391\n",
      "MCC: 0.03571939117404768\n"
     ]
    },
    {
     "name": "stderr",
     "output_type": "stream",
     "text": [
      "\u001b[32m[I 2021-12-01 18:35:45,459]\u001b[0m Trial 27 finished with value: 0.10464265310271273 and parameters: {'n_estimators': 192, 'num_leaves': 214, 'max_depth': 19, 'learning_rate': 0.17195650302457635, 'min_child_samples': 50}. Best is trial 26 with value: 0.12328113612307391.\u001b[0m\n"
     ]
    },
    {
     "name": "stdout",
     "output_type": "stream",
     "text": [
      "PR_AUC: 0.1040653682547682\n",
      "avg_prec: 0.10464265310271273\n",
      "MCC: 0.0027755982052073353\n"
     ]
    },
    {
     "name": "stderr",
     "output_type": "stream",
     "text": [
      "\u001b[32m[I 2021-12-01 18:35:47,145]\u001b[0m Trial 28 finished with value: 0.10963268314185565 and parameters: {'n_estimators': 134, 'num_leaves': 205, 'max_depth': 19, 'learning_rate': 0.4698908526391291, 'min_child_samples': 26}. Best is trial 26 with value: 0.12328113612307391.\u001b[0m\n"
     ]
    },
    {
     "name": "stdout",
     "output_type": "stream",
     "text": [
      "PR_AUC: 0.10919634427902941\n",
      "avg_prec: 0.10963268314185565\n",
      "MCC: 0.025396762973532962\n"
     ]
    },
    {
     "name": "stderr",
     "output_type": "stream",
     "text": [
      "\u001b[32m[I 2021-12-01 18:35:49,314]\u001b[0m Trial 29 finished with value: 0.1132352973181491 and parameters: {'n_estimators': 231, 'num_leaves': 205, 'max_depth': 17, 'learning_rate': 0.06152148820725074, 'min_child_samples': 45}. Best is trial 26 with value: 0.12328113612307391.\u001b[0m\n"
     ]
    },
    {
     "name": "stdout",
     "output_type": "stream",
     "text": [
      "PR_AUC: 0.11276758333882887\n",
      "avg_prec: 0.1132352973181491\n",
      "MCC: 0.03566347415556426\n"
     ]
    },
    {
     "name": "stderr",
     "output_type": "stream",
     "text": [
      "\u001b[32m[I 2021-12-01 18:35:51,361]\u001b[0m Trial 30 finished with value: 0.11302387108937328 and parameters: {'n_estimators': 181, 'num_leaves': 335, 'max_depth': 16, 'learning_rate': 0.27663415639645433, 'min_child_samples': 40}. Best is trial 26 with value: 0.12328113612307391.\u001b[0m\n"
     ]
    },
    {
     "name": "stdout",
     "output_type": "stream",
     "text": [
      "PR_AUC: 0.11264222888692234\n",
      "avg_prec: 0.11302387108937328\n",
      "MCC: 0.04407611734805355\n"
     ]
    },
    {
     "name": "stderr",
     "output_type": "stream",
     "text": [
      "\u001b[32m[I 2021-12-01 18:35:54,683]\u001b[0m Trial 31 finished with value: 0.12175410717172627 and parameters: {'n_estimators': 267, 'num_leaves': 405, 'max_depth': 20, 'learning_rate': 0.01356639416609554, 'min_child_samples': 44}. Best is trial 26 with value: 0.12328113612307391.\u001b[0m\n"
     ]
    },
    {
     "name": "stdout",
     "output_type": "stream",
     "text": [
      "PR_AUC: 0.12142097065014895\n",
      "avg_prec: 0.12175410717172627\n",
      "MCC: 0.025957682409585955\n"
     ]
    },
    {
     "name": "stderr",
     "output_type": "stream",
     "text": [
      "\u001b[32m[I 2021-12-01 18:35:57,371]\u001b[0m Trial 32 finished with value: 0.1175072216127054 and parameters: {'n_estimators': 229, 'num_leaves': 279, 'max_depth': 20, 'learning_rate': 0.08364514228897228, 'min_child_samples': 38}. Best is trial 26 with value: 0.12328113612307391.\u001b[0m\n"
     ]
    },
    {
     "name": "stdout",
     "output_type": "stream",
     "text": [
      "PR_AUC: 0.11713202244971939\n",
      "avg_prec: 0.1175072216127054\n",
      "MCC: 0.03241672997355089\n"
     ]
    },
    {
     "name": "stderr",
     "output_type": "stream",
     "text": [
      "\u001b[32m[I 2021-12-01 18:35:59,161]\u001b[0m Trial 33 finished with value: 0.113439302122599 and parameters: {'n_estimators': 160, 'num_leaves': 409, 'max_depth': 18, 'learning_rate': 0.1516200177775756, 'min_child_samples': 41}. Best is trial 26 with value: 0.12328113612307391.\u001b[0m\n"
     ]
    },
    {
     "name": "stdout",
     "output_type": "stream",
     "text": [
      "PR_AUC: 0.11298791431442463\n",
      "avg_prec: 0.113439302122599\n",
      "MCC: 0.022934158478808375\n"
     ]
    },
    {
     "name": "stderr",
     "output_type": "stream",
     "text": [
      "\u001b[32m[I 2021-12-01 18:36:03,835]\u001b[0m Trial 34 finished with value: 0.11738017001298845 and parameters: {'n_estimators': 316, 'num_leaves': 452, 'max_depth': 19, 'learning_rate': 0.001681200650814993, 'min_child_samples': 33}. Best is trial 26 with value: 0.12328113612307391.\u001b[0m\n"
     ]
    },
    {
     "name": "stdout",
     "output_type": "stream",
     "text": [
      "PR_AUC: 0.11857838155451117\n",
      "avg_prec: 0.11738017001298845\n",
      "MCC: 0.023830420977755017\n"
     ]
    },
    {
     "name": "stderr",
     "output_type": "stream",
     "text": [
      "\u001b[32m[I 2021-12-01 18:36:04,759]\u001b[0m Trial 35 finished with value: 0.11392434948642663 and parameters: {'n_estimators': 271, 'num_leaves': 28, 'max_depth': 18, 'learning_rate': 0.2210645323240963, 'min_child_samples': 45}. Best is trial 26 with value: 0.12328113612307391.\u001b[0m\n"
     ]
    },
    {
     "name": "stdout",
     "output_type": "stream",
     "text": [
      "PR_AUC: 0.11356096705740902\n",
      "avg_prec: 0.11392434948642663\n",
      "MCC: 0.02236616099986762\n"
     ]
    },
    {
     "name": "stderr",
     "output_type": "stream",
     "text": [
      "\u001b[32m[I 2021-12-01 18:36:06,993]\u001b[0m Trial 36 finished with value: 0.11751310918272262 and parameters: {'n_estimators': 177, 'num_leaves': 343, 'max_depth': 20, 'learning_rate': 0.08015139508542313, 'min_child_samples': 38}. Best is trial 26 with value: 0.12328113612307391.\u001b[0m\n"
     ]
    },
    {
     "name": "stdout",
     "output_type": "stream",
     "text": [
      "PR_AUC: 0.11715847232857887\n",
      "avg_prec: 0.11751310918272262\n",
      "MCC: 0.024954269493156517\n"
     ]
    },
    {
     "name": "stderr",
     "output_type": "stream",
     "text": [
      "\u001b[32m[I 2021-12-01 18:36:08,914]\u001b[0m Trial 37 finished with value: 0.10949069919356423 and parameters: {'n_estimators': 209, 'num_leaves': 136, 'max_depth': 17, 'learning_rate': 0.3513434923582921, 'min_child_samples': 42}. Best is trial 26 with value: 0.12328113612307391.\u001b[0m\n"
     ]
    },
    {
     "name": "stdout",
     "output_type": "stream",
     "text": [
      "PR_AUC: 0.10890599613889917\n",
      "avg_prec: 0.10949069919356423\n",
      "MCC: 0.02563597302637198\n"
     ]
    },
    {
     "name": "stderr",
     "output_type": "stream",
     "text": [
      "\u001b[32m[I 2021-12-01 18:36:12,535]\u001b[0m Trial 38 finished with value: 0.11465315461094787 and parameters: {'n_estimators': 369, 'num_leaves': 234, 'max_depth': 19, 'learning_rate': 0.13777611669557321, 'min_child_samples': 45}. Best is trial 26 with value: 0.12328113612307391.\u001b[0m\n"
     ]
    },
    {
     "name": "stdout",
     "output_type": "stream",
     "text": [
      "PR_AUC: 0.11393916305519655\n",
      "avg_prec: 0.11465315461094787\n",
      "MCC: 0.04796940371266328\n"
     ]
    },
    {
     "name": "stderr",
     "output_type": "stream",
     "text": [
      "\u001b[32m[I 2021-12-01 18:36:13,875]\u001b[0m Trial 39 finished with value: 0.10688744011126569 and parameters: {'n_estimators': 100, 'num_leaves': 305, 'max_depth': 18, 'learning_rate': 0.41010351022944125, 'min_child_samples': 50}. Best is trial 26 with value: 0.12328113612307391.\u001b[0m\n"
     ]
    },
    {
     "name": "stdout",
     "output_type": "stream",
     "text": [
      "PR_AUC: 0.1064789204844646\n",
      "avg_prec: 0.10688744011126569\n",
      "MCC: 0.01511789832020333\n"
     ]
    },
    {
     "name": "stderr",
     "output_type": "stream",
     "text": [
      "\u001b[32m[I 2021-12-01 18:36:14,947]\u001b[0m Trial 40 finished with value: 0.11766594960957337 and parameters: {'n_estimators': 242, 'num_leaves': 59, 'max_depth': 7, 'learning_rate': 0.06641115000566278, 'min_child_samples': 30}. Best is trial 26 with value: 0.12328113612307391.\u001b[0m\n"
     ]
    },
    {
     "name": "stdout",
     "output_type": "stream",
     "text": [
      "PR_AUC: 0.11733480947902683\n",
      "avg_prec: 0.11766594960957337\n",
      "MCC: 0.03376510218844118\n"
     ]
    },
    {
     "name": "stderr",
     "output_type": "stream",
     "text": [
      "\u001b[32m[I 2021-12-01 18:36:17,468]\u001b[0m Trial 41 finished with value: 0.11755664061744214 and parameters: {'n_estimators': 270, 'num_leaves': 393, 'max_depth': 16, 'learning_rate': 0.034618035923216, 'min_child_samples': 44}. Best is trial 26 with value: 0.12328113612307391.\u001b[0m\n"
     ]
    },
    {
     "name": "stdout",
     "output_type": "stream",
     "text": [
      "PR_AUC: 0.11717159513247456\n",
      "avg_prec: 0.11755664061744214\n",
      "MCC: 0.015179866820327905\n"
     ]
    },
    {
     "name": "stderr",
     "output_type": "stream",
     "text": [
      "\u001b[32m[I 2021-12-01 18:36:21,665]\u001b[0m Trial 42 finished with value: 0.10942405934366932 and parameters: {'n_estimators': 274, 'num_leaves': 460, 'max_depth': 20, 'learning_rate': 0.0018035673350333264, 'min_child_samples': 48}. Best is trial 26 with value: 0.12328113612307391.\u001b[0m\n"
     ]
    },
    {
     "name": "stdout",
     "output_type": "stream",
     "text": [
      "PR_AUC: 0.10907538246689893\n",
      "avg_prec: 0.10942405934366932\n",
      "MCC: 0.022903250339478633\n"
     ]
    },
    {
     "name": "stderr",
     "output_type": "stream",
     "text": [
      "\u001b[32m[I 2021-12-01 18:36:23,487]\u001b[0m Trial 43 finished with value: 0.11188900276375718 and parameters: {'n_estimators': 155, 'num_leaves': 440, 'max_depth': 13, 'learning_rate': 0.694295014507397, 'min_child_samples': 37}. Best is trial 26 with value: 0.12328113612307391.\u001b[0m\n"
     ]
    },
    {
     "name": "stdout",
     "output_type": "stream",
     "text": [
      "PR_AUC: 0.11150444305671708\n",
      "avg_prec: 0.11188900276375718\n",
      "MCC: 0.031117503668156812\n"
     ]
    },
    {
     "name": "stderr",
     "output_type": "stream",
     "text": [
      "\u001b[32m[I 2021-12-01 18:36:26,329]\u001b[0m Trial 44 finished with value: 0.1152471109339831 and parameters: {'n_estimators': 252, 'num_leaves': 387, 'max_depth': 19, 'learning_rate': 0.05300639643404542, 'min_child_samples': 41}. Best is trial 26 with value: 0.12328113612307391.\u001b[0m\n"
     ]
    },
    {
     "name": "stdout",
     "output_type": "stream",
     "text": [
      "PR_AUC: 0.11475216509628602\n",
      "avg_prec: 0.1152471109339831\n",
      "MCC: 0.037374788564485534\n"
     ]
    },
    {
     "name": "stderr",
     "output_type": "stream",
     "text": [
      "\u001b[32m[I 2021-12-01 18:36:29,612]\u001b[0m Trial 45 finished with value: 0.11562885986626506 and parameters: {'n_estimators': 316, 'num_leaves': 285, 'max_depth': 15, 'learning_rate': 0.23350885055438322, 'min_child_samples': 34}. Best is trial 26 with value: 0.12328113612307391.\u001b[0m\n"
     ]
    },
    {
     "name": "stdout",
     "output_type": "stream",
     "text": [
      "PR_AUC: 0.1152906998873198\n",
      "avg_prec: 0.11562885986626506\n",
      "MCC: 0.03901501535693823\n"
     ]
    },
    {
     "name": "stderr",
     "output_type": "stream",
     "text": [
      "\u001b[32m[I 2021-12-01 18:36:30,875]\u001b[0m Trial 46 finished with value: 0.11281906549412543 and parameters: {'n_estimators': 220, 'num_leaves': 353, 'max_depth': 10, 'learning_rate': 0.11926059841678074, 'min_child_samples': 47}. Best is trial 26 with value: 0.12328113612307391.\u001b[0m\n"
     ]
    },
    {
     "name": "stdout",
     "output_type": "stream",
     "text": [
      "PR_AUC: 0.11233211383260654\n",
      "avg_prec: 0.11281906549412543\n",
      "MCC: 0.025461532087765464\n"
     ]
    },
    {
     "name": "stderr",
     "output_type": "stream",
     "text": [
      "\u001b[32m[I 2021-12-01 18:36:33,920]\u001b[0m Trial 47 finished with value: 0.116069639861428 and parameters: {'n_estimators': 246, 'num_leaves': 401, 'max_depth': 20, 'learning_rate': 0.17609344565543156, 'min_child_samples': 42}. Best is trial 26 with value: 0.12328113612307391.\u001b[0m\n"
     ]
    },
    {
     "name": "stdout",
     "output_type": "stream",
     "text": [
      "PR_AUC: 0.1153645961927103\n",
      "avg_prec: 0.116069639861428\n",
      "MCC: 0.044572134684382404\n"
     ]
    },
    {
     "name": "stderr",
     "output_type": "stream",
     "text": [
      "\u001b[32m[I 2021-12-01 18:36:37,073]\u001b[0m Trial 48 finished with value: 0.11637462874043122 and parameters: {'n_estimators': 284, 'num_leaves': 482, 'max_depth': 18, 'learning_rate': 0.049064911648564566, 'min_child_samples': 35}. Best is trial 26 with value: 0.12328113612307391.\u001b[0m\n"
     ]
    },
    {
     "name": "stdout",
     "output_type": "stream",
     "text": [
      "PR_AUC: 0.11600867130183183\n",
      "avg_prec: 0.11637462874043122\n",
      "MCC: 0.02825873459483946\n"
     ]
    },
    {
     "name": "stderr",
     "output_type": "stream",
     "text": [
      "\u001b[32m[I 2021-12-01 18:36:38,459]\u001b[0m Trial 49 finished with value: 0.11736068599649101 and parameters: {'n_estimators': 135, 'num_leaves': 181, 'max_depth': 16, 'learning_rate': 0.006553028314112672, 'min_child_samples': 39}. Best is trial 26 with value: 0.12328113612307391.\u001b[0m\n"
     ]
    },
    {
     "name": "stdout",
     "output_type": "stream",
     "text": [
      "PR_AUC: 0.1185499350357232\n",
      "avg_prec: 0.11736068599649101\n",
      "MCC: 0.025336594628724268\n"
     ]
    },
    {
     "name": "stderr",
     "output_type": "stream",
     "text": [
      "\u001b[32m[I 2021-12-01 18:36:40,659]\u001b[0m Trial 50 finished with value: 0.11632126797665948 and parameters: {'n_estimators': 198, 'num_leaves': 380, 'max_depth': 17, 'learning_rate': 0.10499490275510713, 'min_child_samples': 43}. Best is trial 26 with value: 0.12328113612307391.\u001b[0m\n"
     ]
    },
    {
     "name": "stdout",
     "output_type": "stream",
     "text": [
      "PR_AUC: 0.11601757567395074\n",
      "avg_prec: 0.11632126797665948\n",
      "MCC: 0.024393466535042624\n"
     ]
    },
    {
     "name": "stderr",
     "output_type": "stream",
     "text": [
      "\u001b[32m[I 2021-12-01 18:36:44,641]\u001b[0m Trial 51 finished with value: 0.12011260749454972 and parameters: {'n_estimators': 310, 'num_leaves': 311, 'max_depth': 19, 'learning_rate': 0.0012060536643355394, 'min_child_samples': 41}. Best is trial 26 with value: 0.12328113612307391.\u001b[0m\n"
     ]
    },
    {
     "name": "stdout",
     "output_type": "stream",
     "text": [
      "PR_AUC: 0.12131182028884116\n",
      "avg_prec: 0.12011260749454972\n",
      "MCC: 0.03216252756042343\n"
     ]
    },
    {
     "name": "stderr",
     "output_type": "stream",
     "text": [
      "\u001b[32m[I 2021-12-01 18:36:49,306]\u001b[0m Trial 52 finished with value: 0.1071770007013198 and parameters: {'n_estimators': 313, 'num_leaves': 357, 'max_depth': 19, 'learning_rate': 0.04064272768068954, 'min_child_samples': 12}. Best is trial 26 with value: 0.12328113612307391.\u001b[0m\n"
     ]
    },
    {
     "name": "stdout",
     "output_type": "stream",
     "text": [
      "PR_AUC: 0.1067767442046692\n",
      "avg_prec: 0.1071770007013198\n",
      "MCC: 0.02000632518811039\n"
     ]
    },
    {
     "name": "stderr",
     "output_type": "stream",
     "text": [
      "\u001b[32m[I 2021-12-01 18:36:51,889]\u001b[0m Trial 53 finished with value: 0.1133415175563611 and parameters: {'n_estimators': 261, 'num_leaves': 231, 'max_depth': 20, 'learning_rate': 0.09055405539234077, 'min_child_samples': 41}. Best is trial 26 with value: 0.12328113612307391.\u001b[0m\n"
     ]
    },
    {
     "name": "stdout",
     "output_type": "stream",
     "text": [
      "PR_AUC: 0.1126470003811049\n",
      "avg_prec: 0.1133415175563611\n",
      "MCC: 0.02771294673731007\n"
     ]
    },
    {
     "name": "stderr",
     "output_type": "stream",
     "text": [
      "\u001b[32m[I 2021-12-01 18:36:53,802]\u001b[0m Trial 54 finished with value: 0.11690532444844237 and parameters: {'n_estimators': 348, 'num_leaves': 266, 'max_depth': 11, 'learning_rate': 0.03545696194274837, 'min_child_samples': 46}. Best is trial 26 with value: 0.12328113612307391.\u001b[0m\n"
     ]
    },
    {
     "name": "stdout",
     "output_type": "stream",
     "text": [
      "PR_AUC: 0.11644704139932573\n",
      "avg_prec: 0.11690532444844237\n",
      "MCC: 0.023112990107761827\n"
     ]
    },
    {
     "name": "stderr",
     "output_type": "stream",
     "text": [
      "\u001b[32m[I 2021-12-01 18:36:58,719]\u001b[0m Trial 55 finished with value: 0.11429075856076733 and parameters: {'n_estimators': 402, 'num_leaves': 319, 'max_depth': 18, 'learning_rate': 0.14323652627046088, 'min_child_samples': 26}. Best is trial 26 with value: 0.12328113612307391.\u001b[0m\n"
     ]
    },
    {
     "name": "stdout",
     "output_type": "stream",
     "text": [
      "PR_AUC: 0.11380782759174385\n",
      "avg_prec: 0.11429075856076733\n",
      "MCC: 0.032501849079150415\n"
     ]
    },
    {
     "name": "stderr",
     "output_type": "stream",
     "text": [
      "\u001b[32m[I 2021-12-01 18:37:01,560]\u001b[0m Trial 56 finished with value: 0.1204279993459983 and parameters: {'n_estimators': 240, 'num_leaves': 289, 'max_depth': 19, 'learning_rate': 0.004337422663618898, 'min_child_samples': 44}. Best is trial 26 with value: 0.12328113612307391.\u001b[0m\n"
     ]
    },
    {
     "name": "stdout",
     "output_type": "stream",
     "text": [
      "PR_AUC: 0.12161132190859053\n",
      "avg_prec: 0.1204279993459983\n",
      "MCC: 0.030142644110662236\n"
     ]
    },
    {
     "name": "stderr",
     "output_type": "stream",
     "text": [
      "\u001b[32m[I 2021-12-01 18:37:04,278]\u001b[0m Trial 57 finished with value: 0.1078765517881334 and parameters: {'n_estimators': 236, 'num_leaves': 437, 'max_depth': 20, 'learning_rate': 0.191939374355324, 'min_child_samples': 48}. Best is trial 26 with value: 0.12328113612307391.\u001b[0m\n"
     ]
    },
    {
     "name": "stdout",
     "output_type": "stream",
     "text": [
      "PR_AUC: 0.10752234292502102\n",
      "avg_prec: 0.1078765517881334\n",
      "MCC: 0.011526809110445336\n"
     ]
    },
    {
     "name": "stderr",
     "output_type": "stream",
     "text": [
      "\u001b[32m[I 2021-12-01 18:37:06,981]\u001b[0m Trial 58 finished with value: 0.11181962346980692 and parameters: {'n_estimators': 284, 'num_leaves': 291, 'max_depth': 14, 'learning_rate': 0.6516101827772689, 'min_child_samples': 44}. Best is trial 26 with value: 0.12328113612307391.\u001b[0m\n"
     ]
    },
    {
     "name": "stdout",
     "output_type": "stream",
     "text": [
      "PR_AUC: 0.11142766929311734\n",
      "avg_prec: 0.11181962346980692\n",
      "MCC: 0.017503347519252928\n"
     ]
    },
    {
     "name": "stderr",
     "output_type": "stream",
     "text": [
      "\u001b[32m[I 2021-12-01 18:37:08,882]\u001b[0m Trial 59 finished with value: 0.10983291591518195 and parameters: {'n_estimators': 185, 'num_leaves': 177, 'max_depth': 18, 'learning_rate': 0.9683274449937719, 'min_child_samples': 38}. Best is trial 26 with value: 0.12328113612307391.\u001b[0m\n"
     ]
    },
    {
     "name": "stdout",
     "output_type": "stream",
     "text": [
      "PR_AUC: 0.10949817073110138\n",
      "avg_prec: 0.10983291591518195\n",
      "MCC: 0.024178208431398732\n"
     ]
    }
   ],
   "source": [
    "def create_model(trial):\n",
    "    n_estimators = trial.suggest_int('n_estimators',100,500)\n",
    "    num_leaves = trial.suggest_int('num_leaves',10,500)\n",
    "    max_depth = trial.suggest_int('max_depth',4,20)\n",
    "    learning_rate = trial.suggest_uniform('learning_rate',0.0001,1)\n",
    "    min_child_samples = trial.suggest_int('min_child_samples',10,50)\n",
    "    model = LGBMClassifier(n_estimators=n_estimators, num_leaves=num_leaves, \n",
    "                           max_depth=max_depth, learning_rate=learning_rate, \n",
    "                           min_child_samples=min_child_samples, class_weight='balanced')\n",
    "#    model = LGBMClassifier(n_estimators=n_estimators, num_leaves=num_leaves, \n",
    "#                           max_depth=max_depth, learning_rate=learning_rate, \n",
    "#                           min_child_samples=min_child_samples)\n",
    "    return model\n",
    "\n",
    "def objective(trial):\n",
    "    model = create_model(trial)\n",
    "    model.fit(X_rus, y_rus)\n",
    "    y_pred = model.predict(X_test)\n",
    "    probs = model.predict_proba(X_test)\n",
    "    prob1 = probs[:, 1]  # Only positives\n",
    "    precision, recall, pr_thresh = precision_recall_curve(y_test, prob1)\n",
    "    roc = roc_auc_score(y_test, prob1)\n",
    "    mcc = matthews_corrcoef(y_test, y_pred)  # MWB\n",
    "    f2 = fbeta_score(y_test, y_pred, beta=2.0, average=None)[1]\n",
    "    pr_auc = auc(recall, precision)\n",
    "    avg_precision = average_precision_score(y_test, prob1)\n",
    "    print(f'PR_AUC: {pr_auc}')\n",
    "    print(f'avg_prec: {avg_precision}')\n",
    "    print(f'MCC: {mcc}')\n",
    "    return avg_precision\n",
    "\n",
    "sampler = TPESampler(seed=42)\n",
    "study = optuna.create_study(sampler=sampler,direction='maximize')\n",
    "study.optimize(objective,n_trials=60)\n",
    "#study.optimize(objective,n_trials=10)"
   ]
  },
  {
   "cell_type": "code",
   "execution_count": 51,
   "metadata": {},
   "outputs": [
    {
     "name": "stdout",
     "output_type": "stream",
     "text": [
      "[[9424 2259]\n",
      " [ 889  285]]\n",
      "              precision    recall  f1-score   support\n",
      "\n",
      "           0       0.91      0.81      0.86     11683\n",
      "           1       0.11      0.24      0.15      1174\n",
      "\n",
      "    accuracy                           0.76     12857\n",
      "   macro avg       0.51      0.52      0.51     12857\n",
      "weighted avg       0.84      0.76      0.79     12857\n",
      "\n",
      "ROC AUC pred: 0.5247009625803505\n",
      "ROC AUC prob1: 0.5664815911411053\n",
      "MCC: 0.03571939117404768\n",
      "F2: 0.1968232044198895\n",
      "PR_AUC: 0.12295267082949518\n"
     ]
    }
   ],
   "source": [
    "lgb_params = study.best_params\n",
    "lgb_params['random_state'] = 42\n",
    "lgb_params['class_weight'] = 'balanced'\n",
    "lgb = LGBMClassifier(**lgb_params)\n",
    "lgb.fit(X_rus, y_rus)\n",
    "y_pred = lgb.predict(X_test)\n",
    "probs = lgb.predict_proba(X_test)\n",
    "prob1 = probs[:, 1]  # Only positives\n",
    "precision, recall, pr_thresh = precision_recall_curve(y_test, prob1)\n",
    "print(confusion_matrix(y_pred=y_pred, y_true=y_test))\n",
    "print(classification_report(y_test,lgb.predict(X_test)))\n",
    "print(f'ROC AUC pred: {roc_auc_score(y_test, y_pred)}')\n",
    "print(f'ROC AUC prob1: {roc_auc_score(y_test, prob1)}')\n",
    "print(f'MCC: {matthews_corrcoef(y_test, y_pred)}')\n",
    "print(f'F2: {fbeta_score(y_test, y_pred, beta=2.0, average=None)[1]}')\n",
    "print(f'PR_AUC: {auc(recall, precision)}')"
   ]
  },
  {
   "cell_type": "code",
   "execution_count": 44,
   "metadata": {},
   "outputs": [
    {
     "name": "stdout",
     "output_type": "stream",
     "text": [
      "[[2515 9168]\n",
      " [ 124 1050]]\n",
      "              precision    recall  f1-score   support\n",
      "\n",
      "           0       0.95      0.22      0.35     11683\n",
      "           1       0.10      0.89      0.18      1174\n",
      "\n",
      "    accuracy                           0.28     12857\n",
      "   macro avg       0.53      0.55      0.27     12857\n",
      "weighted avg       0.88      0.28      0.34     12857\n",
      "\n",
      "ROC AUC Score: 0.554824122354282\n",
      "ROC AUC pred: 0.554824122354282\n",
      "ROC AUC prob1: 0.5799649048159055\n",
      "MCC: 0.07820063439305325\n",
      "F2: 0.35201823789727776\n",
      "PR_AUC: 0.13689131910586008\n"
     ]
    }
   ],
   "source": [
    "lgb_params = study.best_params\n",
    "lgb_params['random_state'] = 42\n",
    "lgb_params['class_weight'] = 'balanced'\n",
    "lgb = LGBMClassifier(**lgb_params)\n",
    "lgb.fit(X_rus, y_rus)\n",
    "y_pred = lgb.predict(X_test)\n",
    "probs = lgb.predict_proba(X_test)\n",
    "prob1 = probs[:, 1]  # Only positives\n",
    "precision, recall, pr_thresh = precision_recall_curve(y_test, prob1)\n",
    "print(confusion_matrix(y_pred=y_pred, y_true=y_test))\n",
    "print(classification_report(y_test,lgb.predict(X_test)))\n",
    "print(f'ROC AUC pred: {roc_auc_score(y_test, y_pred)}')\n",
    "print(f'ROC AUC prob1: {roc_auc_score(y_test, prob1)}')\n",
    "print(f'MCC: {matthews_corrcoef(y_test, y_pred)}')\n",
    "print(f'F2: {fbeta_score(y_test, y_pred, beta=2.0, average=None)[1]}')\n",
    "print(f'PR_AUC: {auc(recall, precision)}')"
   ]
  },
  {
   "cell_type": "code",
   "execution_count": 65,
   "metadata": {},
   "outputs": [
    {
     "data": {
      "text/plain": [
       "{'n_estimators': 214,\n",
       " 'num_leaves': 426,\n",
       " 'max_depth': 20,\n",
       " 'learning_rate': 0.011,\n",
       " 'min_child_samples': 44,\n",
       " 'random_state': 42}"
      ]
     },
     "execution_count": 65,
     "metadata": {},
     "output_type": "execute_result"
    }
   ],
   "source": [
    "lgb_params"
   ]
  },
  {
   "cell_type": "markdown",
   "metadata": {},
   "source": [
    "<h1 align='center'>Thanks and make sure to learn!</h1>"
   ]
  }
 ],
 "metadata": {
  "kernelspec": {
   "display_name": "Python 3",
   "language": "python",
   "name": "python3"
  },
  "language_info": {
   "codemirror_mode": {
    "name": "ipython",
    "version": 3
   },
   "file_extension": ".py",
   "mimetype": "text/x-python",
   "name": "python",
   "nbconvert_exporter": "python",
   "pygments_lexer": "ipython3",
   "version": "3.7.9"
  }
 },
 "nbformat": 4,
 "nbformat_minor": 4
}
