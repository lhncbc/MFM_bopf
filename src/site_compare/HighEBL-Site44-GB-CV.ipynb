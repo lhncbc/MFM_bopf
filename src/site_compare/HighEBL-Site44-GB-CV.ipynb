{
 "cells": [
  {
   "cell_type": "code",
   "execution_count": 1,
   "metadata": {
    "_cell_guid": "b1076dfc-b9ad-4769-8c92-a6c4dae69d19",
    "_uuid": "8f2839f25d086af736a60e9eeb907d3b93b6e0e5"
   },
   "outputs": [],
   "source": [
    "import numpy as np \n",
    "import pandas as pd \n",
    "\n",
    "import matplotlib.pyplot as plt\n",
    "#import plotly.express as px\n",
    "import seaborn as sns\n",
    "\n",
    "from lightgbm import LGBMClassifier\n",
    "from sklearn.ensemble import GradientBoostingClassifier\n",
    "\n",
    "from sklearn.model_selection import StratifiedKFold\n",
    "from collections import Counter\n",
    "from imblearn.under_sampling import RandomUnderSampler\n",
    "from sklearn.metrics import classification_report, roc_auc_score, confusion_matrix, \\\n",
    "                            accuracy_score, f1_score, average_precision_score, \\\n",
    "                            fbeta_score, precision_recall_curve, auc\n",
    "from sklearn.metrics import matthews_corrcoef\n",
    "\n",
    "from sklearn.model_selection import train_test_split\n",
    "\n",
    "import optuna\n",
    "from optuna.samplers import TPESampler\n",
    "sns.set(style='white', context='notebook', palette='deep')\n",
    "%config Completer.use_jedi = False"
   ]
  },
  {
   "cell_type": "code",
   "execution_count": 2,
   "metadata": {},
   "outputs": [
    {
     "data": {
      "text/html": [
       "<div>\n",
       "<style scoped>\n",
       "    .dataframe tbody tr th:only-of-type {\n",
       "        vertical-align: middle;\n",
       "    }\n",
       "\n",
       "    .dataframe tbody tr th {\n",
       "        vertical-align: top;\n",
       "    }\n",
       "\n",
       "    .dataframe thead th {\n",
       "        text-align: right;\n",
       "    }\n",
       "</style>\n",
       "<table border=\"1\" class=\"dataframe\">\n",
       "  <thead>\n",
       "    <tr style=\"text-align: right;\">\n",
       "      <th></th>\n",
       "      <th>transfus_yes</th>\n",
       "      <th>Accrete</th>\n",
       "      <th>AdmBishop</th>\n",
       "      <th>Admcervpos</th>\n",
       "      <th>Admconsistency</th>\n",
       "      <th>Admcontract</th>\n",
       "      <th>AdmDBP</th>\n",
       "      <th>Admefface</th>\n",
       "      <th>Admpresent</th>\n",
       "      <th>AdmSBP</th>\n",
       "      <th>...</th>\n",
       "      <th>TD_nos</th>\n",
       "      <th>ThreatenedPB</th>\n",
       "      <th>threatpb9</th>\n",
       "      <th>UnspecHBP</th>\n",
       "      <th>uscar</th>\n",
       "      <th>version9</th>\n",
       "      <th>new_age</th>\n",
       "      <th>new_BMI</th>\n",
       "      <th>new_high_Age</th>\n",
       "      <th>new_high_BMI</th>\n",
       "    </tr>\n",
       "    <tr>\n",
       "      <th>MomID</th>\n",
       "      <th></th>\n",
       "      <th></th>\n",
       "      <th></th>\n",
       "      <th></th>\n",
       "      <th></th>\n",
       "      <th></th>\n",
       "      <th></th>\n",
       "      <th></th>\n",
       "      <th></th>\n",
       "      <th></th>\n",
       "      <th></th>\n",
       "      <th></th>\n",
       "      <th></th>\n",
       "      <th></th>\n",
       "      <th></th>\n",
       "      <th></th>\n",
       "      <th></th>\n",
       "      <th></th>\n",
       "      <th></th>\n",
       "      <th></th>\n",
       "      <th></th>\n",
       "    </tr>\n",
       "  </thead>\n",
       "  <tbody>\n",
       "    <tr>\n",
       "      <th>44-10938</th>\n",
       "      <td>0</td>\n",
       "      <td>0</td>\n",
       "      <td>8</td>\n",
       "      <td>8</td>\n",
       "      <td>8</td>\n",
       "      <td>99.0</td>\n",
       "      <td>73</td>\n",
       "      <td>40.0</td>\n",
       "      <td>77</td>\n",
       "      <td>117.0</td>\n",
       "      <td>...</td>\n",
       "      <td>0</td>\n",
       "      <td>0</td>\n",
       "      <td>0</td>\n",
       "      <td>0</td>\n",
       "      <td>0</td>\n",
       "      <td>0</td>\n",
       "      <td>25</td>\n",
       "      <td>20</td>\n",
       "      <td>1</td>\n",
       "      <td>0</td>\n",
       "    </tr>\n",
       "    <tr>\n",
       "      <th>44-01887</th>\n",
       "      <td>0</td>\n",
       "      <td>0</td>\n",
       "      <td>8</td>\n",
       "      <td>8</td>\n",
       "      <td>8</td>\n",
       "      <td>99.0</td>\n",
       "      <td>78</td>\n",
       "      <td>0.0</td>\n",
       "      <td>77</td>\n",
       "      <td>154.0</td>\n",
       "      <td>...</td>\n",
       "      <td>0</td>\n",
       "      <td>0</td>\n",
       "      <td>0</td>\n",
       "      <td>0</td>\n",
       "      <td>0</td>\n",
       "      <td>0</td>\n",
       "      <td>34</td>\n",
       "      <td>24</td>\n",
       "      <td>1</td>\n",
       "      <td>1</td>\n",
       "    </tr>\n",
       "    <tr>\n",
       "      <th>44-13761</th>\n",
       "      <td>0</td>\n",
       "      <td>0</td>\n",
       "      <td>8</td>\n",
       "      <td>8</td>\n",
       "      <td>8</td>\n",
       "      <td>99.0</td>\n",
       "      <td>87</td>\n",
       "      <td>0.0</td>\n",
       "      <td>77</td>\n",
       "      <td>148.0</td>\n",
       "      <td>...</td>\n",
       "      <td>0</td>\n",
       "      <td>0</td>\n",
       "      <td>0</td>\n",
       "      <td>0</td>\n",
       "      <td>0</td>\n",
       "      <td>0</td>\n",
       "      <td>26</td>\n",
       "      <td>31</td>\n",
       "      <td>1</td>\n",
       "      <td>1</td>\n",
       "    </tr>\n",
       "    <tr>\n",
       "      <th>44-02977</th>\n",
       "      <td>0</td>\n",
       "      <td>0</td>\n",
       "      <td>8</td>\n",
       "      <td>8</td>\n",
       "      <td>8</td>\n",
       "      <td>0.0</td>\n",
       "      <td>74</td>\n",
       "      <td>50.0</td>\n",
       "      <td>77</td>\n",
       "      <td>124.4</td>\n",
       "      <td>...</td>\n",
       "      <td>0</td>\n",
       "      <td>0</td>\n",
       "      <td>0</td>\n",
       "      <td>0</td>\n",
       "      <td>0</td>\n",
       "      <td>0</td>\n",
       "      <td>27</td>\n",
       "      <td>40</td>\n",
       "      <td>1</td>\n",
       "      <td>1</td>\n",
       "    </tr>\n",
       "    <tr>\n",
       "      <th>44-10546</th>\n",
       "      <td>0</td>\n",
       "      <td>0</td>\n",
       "      <td>8</td>\n",
       "      <td>8</td>\n",
       "      <td>8</td>\n",
       "      <td>1.8</td>\n",
       "      <td>71</td>\n",
       "      <td>90.0</td>\n",
       "      <td>77</td>\n",
       "      <td>117.0</td>\n",
       "      <td>...</td>\n",
       "      <td>0</td>\n",
       "      <td>0</td>\n",
       "      <td>0</td>\n",
       "      <td>0</td>\n",
       "      <td>1</td>\n",
       "      <td>0</td>\n",
       "      <td>34</td>\n",
       "      <td>24</td>\n",
       "      <td>1</td>\n",
       "      <td>1</td>\n",
       "    </tr>\n",
       "    <tr>\n",
       "      <th>...</th>\n",
       "      <td>...</td>\n",
       "      <td>...</td>\n",
       "      <td>...</td>\n",
       "      <td>...</td>\n",
       "      <td>...</td>\n",
       "      <td>...</td>\n",
       "      <td>...</td>\n",
       "      <td>...</td>\n",
       "      <td>...</td>\n",
       "      <td>...</td>\n",
       "      <td>...</td>\n",
       "      <td>...</td>\n",
       "      <td>...</td>\n",
       "      <td>...</td>\n",
       "      <td>...</td>\n",
       "      <td>...</td>\n",
       "      <td>...</td>\n",
       "      <td>...</td>\n",
       "      <td>...</td>\n",
       "      <td>...</td>\n",
       "      <td>...</td>\n",
       "    </tr>\n",
       "    <tr>\n",
       "      <th>44-19833</th>\n",
       "      <td>0</td>\n",
       "      <td>0</td>\n",
       "      <td>8</td>\n",
       "      <td>8</td>\n",
       "      <td>8</td>\n",
       "      <td>1.0</td>\n",
       "      <td>74</td>\n",
       "      <td>70.0</td>\n",
       "      <td>77</td>\n",
       "      <td>124.4</td>\n",
       "      <td>...</td>\n",
       "      <td>0</td>\n",
       "      <td>0</td>\n",
       "      <td>0</td>\n",
       "      <td>0</td>\n",
       "      <td>0</td>\n",
       "      <td>0</td>\n",
       "      <td>19</td>\n",
       "      <td>31</td>\n",
       "      <td>0</td>\n",
       "      <td>1</td>\n",
       "    </tr>\n",
       "    <tr>\n",
       "      <th>44-07454</th>\n",
       "      <td>0</td>\n",
       "      <td>0</td>\n",
       "      <td>8</td>\n",
       "      <td>8</td>\n",
       "      <td>8</td>\n",
       "      <td>99.0</td>\n",
       "      <td>98</td>\n",
       "      <td>20.0</td>\n",
       "      <td>77</td>\n",
       "      <td>158.0</td>\n",
       "      <td>...</td>\n",
       "      <td>0</td>\n",
       "      <td>0</td>\n",
       "      <td>0</td>\n",
       "      <td>0</td>\n",
       "      <td>0</td>\n",
       "      <td>0</td>\n",
       "      <td>36</td>\n",
       "      <td>24</td>\n",
       "      <td>1</td>\n",
       "      <td>1</td>\n",
       "    </tr>\n",
       "    <tr>\n",
       "      <th>44-04903</th>\n",
       "      <td>0</td>\n",
       "      <td>0</td>\n",
       "      <td>8</td>\n",
       "      <td>8</td>\n",
       "      <td>8</td>\n",
       "      <td>2.9</td>\n",
       "      <td>69</td>\n",
       "      <td>60.0</td>\n",
       "      <td>77</td>\n",
       "      <td>145.0</td>\n",
       "      <td>...</td>\n",
       "      <td>0</td>\n",
       "      <td>1</td>\n",
       "      <td>0</td>\n",
       "      <td>0</td>\n",
       "      <td>0</td>\n",
       "      <td>0</td>\n",
       "      <td>27</td>\n",
       "      <td>24</td>\n",
       "      <td>1</td>\n",
       "      <td>1</td>\n",
       "    </tr>\n",
       "    <tr>\n",
       "      <th>44-17473</th>\n",
       "      <td>0</td>\n",
       "      <td>0</td>\n",
       "      <td>8</td>\n",
       "      <td>8</td>\n",
       "      <td>8</td>\n",
       "      <td>99.0</td>\n",
       "      <td>54</td>\n",
       "      <td>80.0</td>\n",
       "      <td>77</td>\n",
       "      <td>138.0</td>\n",
       "      <td>...</td>\n",
       "      <td>0</td>\n",
       "      <td>0</td>\n",
       "      <td>0</td>\n",
       "      <td>0</td>\n",
       "      <td>0</td>\n",
       "      <td>0</td>\n",
       "      <td>20</td>\n",
       "      <td>24</td>\n",
       "      <td>1</td>\n",
       "      <td>1</td>\n",
       "    </tr>\n",
       "    <tr>\n",
       "      <th>44-09093</th>\n",
       "      <td>0</td>\n",
       "      <td>0</td>\n",
       "      <td>8</td>\n",
       "      <td>8</td>\n",
       "      <td>8</td>\n",
       "      <td>88.0</td>\n",
       "      <td>74</td>\n",
       "      <td>70.0</td>\n",
       "      <td>77</td>\n",
       "      <td>124.4</td>\n",
       "      <td>...</td>\n",
       "      <td>0</td>\n",
       "      <td>0</td>\n",
       "      <td>0</td>\n",
       "      <td>0</td>\n",
       "      <td>0</td>\n",
       "      <td>0</td>\n",
       "      <td>31</td>\n",
       "      <td>24</td>\n",
       "      <td>1</td>\n",
       "      <td>1</td>\n",
       "    </tr>\n",
       "  </tbody>\n",
       "</table>\n",
       "<p>11209 rows × 195 columns</p>\n",
       "</div>"
      ],
      "text/plain": [
       "          transfus_yes  Accrete  AdmBishop  Admcervpos  Admconsistency  \\\n",
       "MomID                                                                    \n",
       "44-10938             0        0          8           8               8   \n",
       "44-01887             0        0          8           8               8   \n",
       "44-13761             0        0          8           8               8   \n",
       "44-02977             0        0          8           8               8   \n",
       "44-10546             0        0          8           8               8   \n",
       "...                ...      ...        ...         ...             ...   \n",
       "44-19833             0        0          8           8               8   \n",
       "44-07454             0        0          8           8               8   \n",
       "44-04903             0        0          8           8               8   \n",
       "44-17473             0        0          8           8               8   \n",
       "44-09093             0        0          8           8               8   \n",
       "\n",
       "          Admcontract  AdmDBP  Admefface  Admpresent  AdmSBP  ...  TD_nos  \\\n",
       "MomID                                                         ...           \n",
       "44-10938         99.0      73       40.0          77   117.0  ...       0   \n",
       "44-01887         99.0      78        0.0          77   154.0  ...       0   \n",
       "44-13761         99.0      87        0.0          77   148.0  ...       0   \n",
       "44-02977          0.0      74       50.0          77   124.4  ...       0   \n",
       "44-10546          1.8      71       90.0          77   117.0  ...       0   \n",
       "...               ...     ...        ...         ...     ...  ...     ...   \n",
       "44-19833          1.0      74       70.0          77   124.4  ...       0   \n",
       "44-07454         99.0      98       20.0          77   158.0  ...       0   \n",
       "44-04903          2.9      69       60.0          77   145.0  ...       0   \n",
       "44-17473         99.0      54       80.0          77   138.0  ...       0   \n",
       "44-09093         88.0      74       70.0          77   124.4  ...       0   \n",
       "\n",
       "          ThreatenedPB  threatpb9  UnspecHBP  uscar  version9  new_age  \\\n",
       "MomID                                                                    \n",
       "44-10938             0          0          0      0         0       25   \n",
       "44-01887             0          0          0      0         0       34   \n",
       "44-13761             0          0          0      0         0       26   \n",
       "44-02977             0          0          0      0         0       27   \n",
       "44-10546             0          0          0      1         0       34   \n",
       "...                ...        ...        ...    ...       ...      ...   \n",
       "44-19833             0          0          0      0         0       19   \n",
       "44-07454             0          0          0      0         0       36   \n",
       "44-04903             1          0          0      0         0       27   \n",
       "44-17473             0          0          0      0         0       20   \n",
       "44-09093             0          0          0      0         0       31   \n",
       "\n",
       "          new_BMI  new_high_Age  new_high_BMI  \n",
       "MomID                                          \n",
       "44-10938       20             1             0  \n",
       "44-01887       24             1             1  \n",
       "44-13761       31             1             1  \n",
       "44-02977       40             1             1  \n",
       "44-10546       24             1             1  \n",
       "...           ...           ...           ...  \n",
       "44-19833       31             0             1  \n",
       "44-07454       24             1             1  \n",
       "44-04903       24             1             1  \n",
       "44-17473       24             1             1  \n",
       "44-09093       24             1             1  \n",
       "\n",
       "[11209 rows x 195 columns]"
      ]
     },
     "execution_count": 2,
     "metadata": {},
     "output_type": "execute_result"
    }
   ],
   "source": [
    "csl_df = pd.read_csv('../../data/csl/Sites/CSL_he_PI_s44.csv', index_col=0)\n",
    "X = csl_df.drop(['high_EBL','Sitenum'], axis=1, inplace=False)\n",
    "y = csl_df['high_EBL'].values\n",
    "\n",
    "X_train, X_test, y_train, y_test = train_test_split(X, y, test_size=0.3, stratify=y, random_state=7)\n",
    "X_train                                                    "
   ]
  },
  {
   "cell_type": "code",
   "execution_count": 3,
   "metadata": {},
   "outputs": [
    {
     "data": {
      "text/plain": [
       "(16014, 195)"
      ]
     },
     "execution_count": 3,
     "metadata": {},
     "output_type": "execute_result"
    }
   ],
   "source": [
    "X.shape"
   ]
  },
  {
   "cell_type": "markdown",
   "metadata": {},
   "source": [
    "<h1 align='center'>Exploratory Data Analysis</h1>"
   ]
  },
  {
   "cell_type": "markdown",
   "metadata": {},
   "source": [
    "<h1 align='center'>Modelling</h1>"
   ]
  },
  {
   "cell_type": "code",
   "execution_count": 8,
   "metadata": {},
   "outputs": [
    {
     "name": "stdout",
     "output_type": "stream",
     "text": [
      "(11209, 195)\n",
      "(16014, 195)\n",
      "(16014,)\n"
     ]
    }
   ],
   "source": [
    "print(X_train.shape)\n",
    "print(X.shape)\n",
    "print(y.shape)"
   ]
  },
  {
   "cell_type": "markdown",
   "metadata": {},
   "source": [
    "Here we define our validation set"
   ]
  },
  {
   "cell_type": "markdown",
   "metadata": {},
   "source": [
    "<h1 align='center'>Modelling Using Undersampling</h1>"
   ]
  },
  {
   "cell_type": "markdown",
   "metadata": {},
   "source": [
    "We will use `imblearn`'s RandomUnderSampler to undersample from the majority class so that they match"
   ]
  },
  {
   "cell_type": "code",
   "execution_count": 9,
   "metadata": {},
   "outputs": [],
   "source": [
    "sampler = RandomUnderSampler(sampling_strategy=1.0, random_state=7)\n",
    "X_rus, y_rus = sampler.fit_resample(X_train, y_train)\n",
    "\n",
    "# Try with no undersampling\n",
    "#X_rus, y_rus = X_train, y_train"
   ]
  },
  {
   "cell_type": "code",
   "execution_count": 10,
   "metadata": {},
   "outputs": [
    {
     "name": "stdout",
     "output_type": "stream",
     "text": [
      "(1320, 195)\n",
      "(1320,)\n",
      "[660 660]\n"
     ]
    }
   ],
   "source": [
    "print(X_rus.shape)\n",
    "print(y_rus.shape)\n",
    "print(np.bincount(y_rus))"
   ]
  },
  {
   "cell_type": "markdown",
   "metadata": {},
   "source": [
    "<h1 align='center'>Basic Gradient Boosting</h1>"
   ]
  },
  {
   "cell_type": "code",
   "execution_count": 11,
   "metadata": {},
   "outputs": [
    {
     "name": "stdout",
     "output_type": "stream",
     "text": [
      "{'ccp_alpha': 0.0, 'criterion': 'friedman_mse', 'init': None, 'learning_rate': 0.1, 'loss': 'deviance', 'max_depth': 3, 'max_features': None, 'max_leaf_nodes': None, 'min_impurity_decrease': 0.0, 'min_impurity_split': None, 'min_samples_leaf': 1, 'min_samples_split': 2, 'min_weight_fraction_leaf': 0.0, 'n_estimators': 100, 'n_iter_no_change': None, 'presort': 'deprecated', 'random_state': None, 'subsample': 1.0, 'tol': 0.0001, 'validation_fraction': 0.1, 'verbose': 0, 'warm_start': False}\n",
      "[[3069 1453]\n",
      " [  27  256]]\n",
      "              precision    recall  f1-score   support\n",
      "\n",
      "           0       0.99      0.68      0.81      4522\n",
      "           1       0.15      0.90      0.26       283\n",
      "\n",
      "    accuracy                           0.69      4805\n",
      "   macro avg       0.57      0.79      0.53      4805\n",
      "weighted avg       0.94      0.69      0.77      4805\n",
      "\n",
      "ROC AUC prob1: 0.8360922572488172\n",
      "MCC: 0.28685394522940977\n",
      "F2: 0.4505455825413586\n",
      "PR_AUC: 0.2806320711284951\n",
      "CPU times: user 522 ms, sys: 6.69 ms, total: 529 ms\n",
      "Wall time: 525 ms\n"
     ]
    }
   ],
   "source": [
    "%%time\n",
    "from sklearn.metrics import matthews_corrcoef\n",
    "from sklearn.utils import class_weight\n",
    "gb_rus = GradientBoostingClassifier()   # If not undersampling\n",
    "gb_rus.fit(X_rus, y_rus)\n",
    "print(gb_rus.get_params())\n",
    "y_pred = gb_rus.predict(X_test)\n",
    "probs = gb_rus.predict_proba(X_test)\n",
    "prob1 = probs[:, 1]  # Only positives\n",
    "precision, recall, pr_thresh = precision_recall_curve(y_test, prob1)\n",
    "print(confusion_matrix(y_pred=y_pred, y_true=y_test))\n",
    "print(classification_report(y_test, y_pred))\n",
    "print(f'ROC AUC prob1: {roc_auc_score(y_test, prob1)}')\n",
    "print(f'MCC: {matthews_corrcoef(y_test, y_pred)}')\n",
    "print(f'F2: {fbeta_score(y_test, y_pred, beta=2.0, average=None)[1]}')\n",
    "print(f'PR_AUC: {auc(recall, precision)}')"
   ]
  },
  {
   "cell_type": "code",
   "execution_count": 12,
   "metadata": {},
   "outputs": [
    {
     "name": "stdout",
     "output_type": "stream",
     "text": [
      "{'ccp_alpha': 0.0, 'criterion': 'friedman_mse', 'init': None, 'learning_rate': 0.1, 'loss': 'deviance', 'max_depth': 3, 'max_features': None, 'max_leaf_nodes': None, 'min_impurity_decrease': 0.0, 'min_impurity_split': None, 'min_samples_leaf': 1, 'min_samples_split': 2, 'min_weight_fraction_leaf': 0.0, 'n_estimators': 100, 'n_iter_no_change': None, 'presort': 'deprecated', 'random_state': None, 'subsample': 1.0, 'tol': 0.0001, 'validation_fraction': 0.1, 'verbose': 0, 'warm_start': False}\n",
      "[[3141 1381]\n",
      " [  36  247]]\n",
      "              precision    recall  f1-score   support\n",
      "\n",
      "           0       0.99      0.69      0.82      4522\n",
      "           1       0.15      0.87      0.26       283\n",
      "\n",
      "    accuracy                           0.71      4805\n",
      "   macro avg       0.57      0.78      0.54      4805\n",
      "weighted avg       0.94      0.71      0.78      4805\n",
      "\n",
      "ROC AUC prob1: 0.8379700029537573\n",
      "MCC: 0.2822335975116122\n",
      "F2: 0.447463768115942\n",
      "PR_AUC: 0.25476426452093576\n",
      "CPU times: user 3.68 s, sys: 5.22 ms, total: 3.69 s\n",
      "Wall time: 3.68 s\n"
     ]
    }
   ],
   "source": [
    "%%time\n",
    "# Not undersampled\n",
    "from sklearn.metrics import matthews_corrcoef\n",
    "from sklearn.utils import class_weight\n",
    "gb_weight = GradientBoostingClassifier()  \n",
    "weights = class_weight.compute_sample_weight('balanced', y=y_train)\n",
    "gb_weight.fit(X_train, y_train, sample_weight=weights)\n",
    "print(gb_weight.get_params())\n",
    "y_pred = gb_weight.predict(X_test)\n",
    "probs = gb_weight.predict_proba(X_test)\n",
    "prob1 = probs[:, 1]  # Only positives\n",
    "precision, recall, pr_thresh = precision_recall_curve(y_test, prob1)\n",
    "print(confusion_matrix(y_pred=y_pred, y_true=y_test))\n",
    "print(classification_report(y_test, y_pred))\n",
    "print(f'ROC AUC prob1: {roc_auc_score(y_test, prob1)}')\n",
    "print(f'MCC: {matthews_corrcoef(y_test, y_pred)}')\n",
    "print(f'F2: {fbeta_score(y_test, y_pred, beta=2.0, average=None)[1]}')\n",
    "print(f'PR_AUC: {auc(recall, precision)}')"
   ]
  },
  {
   "cell_type": "markdown",
   "metadata": {},
   "source": [
    "<h1 align='center'>Hyperparameter Tuning with Cross Validation</h1>"
   ]
  },
  {
   "cell_type": "code",
   "execution_count": 13,
   "metadata": {
    "scrolled": false
   },
   "outputs": [
    {
     "name": "stderr",
     "output_type": "stream",
     "text": [
      "\u001b[32m[I 2021-12-10 14:34:05,490]\u001b[0m A new study created in memory with name: no-name-a8a26de2-2394-49fe-99e6-0f9cf989248e\u001b[0m\n",
      "\u001b[32m[I 2021-12-10 14:34:06,908]\u001b[0m Trial 0 finished with value: 0.2829188039431525 and parameters: {'n_estimators': 24, 'subsample': 0.955983758448023, 'max_depth': 10, 'max_features': 17, 'learning_rate': 0.1973587414395923, 'min_samples_leaf': 27}. Best is trial 0 with value: 0.2829188039431525.\u001b[0m\n"
     ]
    },
    {
     "name": "stdout",
     "output_type": "stream",
     "text": [
      "MCC: [0.283405297709138, 0.2954640751594321, 0.2644634897779625, 0.28834235312607726]\n",
      "ROC: [0.8456032512864803, 0.8416133632012667, 0.8369999505068548, 0.8322796675249583]\n",
      "PR_AUC: [0.25538554986480816, 0.23259926735107828, 0.2706580759149826, 0.23000282333646943]\n"
     ]
    },
    {
     "name": "stderr",
     "output_type": "stream",
     "text": [
      "\u001b[32m[I 2021-12-10 14:34:10,421]\u001b[0m Trial 1 finished with value: 0.2802069120851233 and parameters: {'n_estimators': 105, 'subsample': 0.8144102266719524, 'max_depth': 7, 'max_features': 15, 'learning_rate': 0.16150759953451288, 'min_samples_leaf': 41}. Best is trial 0 with value: 0.2829188039431525.\u001b[0m\n"
     ]
    },
    {
     "name": "stdout",
     "output_type": "stream",
     "text": [
      "MCC: [0.27581341604885756, 0.2862248341445119, 0.269153359269899, 0.28963603887722494]\n",
      "ROC: [0.8403842347691534, 0.8371792795710534, 0.8229776425965004, 0.8351741428377828]\n",
      "PR_AUC: [0.245031251816038, 0.2297979488852732, 0.2166896578982507, 0.2337646712027493]\n"
     ]
    },
    {
     "name": "stderr",
     "output_type": "stream",
     "text": [
      "\u001b[32m[I 2021-12-10 14:34:13,641]\u001b[0m Trial 2 finished with value: 0.28311784656096983 and parameters: {'n_estimators': 82, 'subsample': 0.813187269381181, 'max_depth': 8, 'max_features': 20, 'learning_rate': 0.10560624242958987, 'min_samples_leaf': 23}. Best is trial 2 with value: 0.28311784656096983.\u001b[0m\n"
     ]
    },
    {
     "name": "stdout",
     "output_type": "stream",
     "text": [
      "MCC: [0.2803716785726608, 0.2833708864290812, 0.2735319291876853, 0.2951968920544521]\n",
      "ROC: [0.8448902893231135, 0.8412478858541149, 0.8327255425123621, 0.8415175949767356]\n",
      "PR_AUC: [0.2795448755636807, 0.23908935885885116, 0.24920042648033527, 0.24895139591701682]\n"
     ]
    },
    {
     "name": "stderr",
     "output_type": "stream",
     "text": [
      "\u001b[32m[I 2021-12-10 14:34:21,511]\u001b[0m Trial 3 finished with value: 0.2878301042453931 and parameters: {'n_estimators': 187, 'subsample': 0.8049798455100696, 'max_depth': 13, 'max_features': 20, 'learning_rate': 0.10763634548251577, 'min_samples_leaf': 28}. Best is trial 3 with value: 0.2878301042453931.\u001b[0m\n"
     ]
    },
    {
     "name": "stdout",
     "output_type": "stream",
     "text": [
      "MCC: [0.288603936965472, 0.2966813271474825, 0.27281225808865533, 0.29322289477996266]\n",
      "ROC: [0.8396071737018246, 0.837939472453129, 0.8287154729070023, 0.8392273117405249]\n",
      "PR_AUC: [0.22605454711101877, 0.23109538723933404, 0.22887059434334744, 0.23796823695724095]\n"
     ]
    },
    {
     "name": "stderr",
     "output_type": "stream",
     "text": [
      "\u001b[32m[I 2021-12-10 14:34:29,619]\u001b[0m Trial 4 finished with value: 0.2750948127243314 and parameters: {'n_estimators': 183, 'subsample': 0.8266338891518501, 'max_depth': 12, 'max_features': 18, 'learning_rate': 0.16028158890606967, 'min_samples_leaf': 24}. Best is trial 3 with value: 0.2878301042453931.\u001b[0m\n"
     ]
    },
    {
     "name": "stdout",
     "output_type": "stream",
     "text": [
      "MCC: [0.2843607071890491, 0.27944622137714487, 0.2564573694324353, 0.28011495289869637]\n",
      "ROC: [0.8354598492209148, 0.8369386267947748, 0.8233972094864862, 0.8338652482269503]\n",
      "PR_AUC: [0.21919798001336133, 0.21712381351295548, 0.21347330542025103, 0.21476563733206389]\n"
     ]
    },
    {
     "name": "stderr",
     "output_type": "stream",
     "text": [
      "\u001b[32m[I 2021-12-10 14:34:31,710]\u001b[0m Trial 5 finished with value: 0.28524226301745004 and parameters: {'n_estimators': 49, 'subsample': 0.8981531778182141, 'max_depth': 9, 'max_features': 15, 'learning_rate': 0.12390684629367116, 'min_samples_leaf': 42}. Best is trial 3 with value: 0.2878301042453931.\u001b[0m\n"
     ]
    },
    {
     "name": "stdout",
     "output_type": "stream",
     "text": [
      "MCC: [0.27878658046820753, 0.282699036114478, 0.28465930771811987, 0.2948241277689947]\n",
      "ROC: [0.8417618032314945, 0.8400266292417863, 0.8353441798310934, 0.8488559877128788]\n",
      "PR_AUC: [0.25760284535070943, 0.24277352123332002, 0.25358535757769707, 0.25909822118175135]\n"
     ]
    },
    {
     "name": "stderr",
     "output_type": "stream",
     "text": [
      "\u001b[32m[I 2021-12-10 14:34:39,896]\u001b[0m Trial 6 finished with value: 0.2822454574576821 and parameters: {'n_estimators': 156, 'subsample': 0.8627989354425325, 'max_depth': 13, 'max_features': 13, 'learning_rate': 0.13434115190556806, 'min_samples_leaf': 18}. Best is trial 3 with value: 0.2878301042453931.\u001b[0m\n"
     ]
    },
    {
     "name": "stdout",
     "output_type": "stream",
     "text": [
      "MCC: [0.2845254029049371, 0.28774063178670667, 0.2678548703738489, 0.2888609247652358]\n",
      "ROC: [0.8434508708481774, 0.8394598582172801, 0.8268932252882975, 0.8389969282197227]\n",
      "PR_AUC: [0.23962865775034362, 0.2160670551539822, 0.21163420084227022, 0.21788445015813723]\n"
     ]
    },
    {
     "name": "stderr",
     "output_type": "stream",
     "text": [
      "\u001b[32m[I 2021-12-10 14:34:44,979]\u001b[0m Trial 7 finished with value: 0.2846883992106069 and parameters: {'n_estimators': 135, 'subsample': 0.8740702165976071, 'max_depth': 11, 'max_features': 17, 'learning_rate': 0.12955901949366017, 'min_samples_leaf': 46}. Best is trial 3 with value: 0.2878301042453931.\u001b[0m\n"
     ]
    },
    {
     "name": "stdout",
     "output_type": "stream",
     "text": [
      "MCC: [0.29389661292772085, 0.2848173658037059, 0.2706657097712829, 0.2893739083397178]\n",
      "ROC: [0.8464511587318724, 0.8337291734139407, 0.8282464128718173, 0.8405000677598591]\n",
      "PR_AUC: [0.2605380851980186, 0.2155360736193632, 0.22781992403957543, 0.23825981123630502]\n"
     ]
    },
    {
     "name": "stderr",
     "output_type": "stream",
     "text": [
      "\u001b[32m[I 2021-12-10 14:34:47,479]\u001b[0m Trial 8 finished with value: 0.27854467485466483 and parameters: {'n_estimators': 44, 'subsample': 0.9482237745826528, 'max_depth': 10, 'max_features': 14, 'learning_rate': 0.15612558423606065, 'min_samples_leaf': 27}. Best is trial 3 with value: 0.2878301042453931.\u001b[0m\n"
     ]
    },
    {
     "name": "stdout",
     "output_type": "stream",
     "text": [
      "MCC: [0.27716030503513295, 0.29414754828462686, 0.25349756459904166, 0.289373281499858]\n",
      "ROC: [0.8448070729425312, 0.8482661754651121, 0.8292047801379512, 0.8368195780819443]\n",
      "PR_AUC: [0.25613948503059336, 0.26251627361063595, 0.2574001522403092, 0.2459001986079441]\n"
     ]
    },
    {
     "name": "stderr",
     "output_type": "stream",
     "text": [
      "\u001b[32m[I 2021-12-10 14:34:49,587]\u001b[0m Trial 9 finished with value: 0.29408360597713357 and parameters: {'n_estimators': 89, 'subsample': 0.8002853761125517, 'max_depth': 4, 'max_features': 17, 'learning_rate': 0.14292147161182367, 'min_samples_leaf': 35}. Best is trial 9 with value: 0.29408360597713357.\u001b[0m\n"
     ]
    },
    {
     "name": "stdout",
     "output_type": "stream",
     "text": [
      "MCC: [0.2930133667606989, 0.29459917428364724, 0.2905173841814652, 0.2982044986827229]\n",
      "ROC: [0.8476532980675808, 0.8472664543524416, 0.840069650353426, 0.8485047657767539]\n",
      "PR_AUC: [0.26908767741248746, 0.24742082466972984, 0.25836361452476836, 0.26199746675325886]\n"
     ]
    },
    {
     "name": "stderr",
     "output_type": "stream",
     "text": [
      "\u001b[32m[I 2021-12-10 14:34:51,481]\u001b[0m Trial 10 finished with value: 0.28686043628172064 and parameters: {'n_estimators': 82, 'subsample': 0.9869602664638994, 'max_depth': 3, 'max_features': 10, 'learning_rate': 0.1867212049748521, 'min_samples_leaf': 4}. Best is trial 9 with value: 0.29408360597713357.\u001b[0m\n"
     ]
    },
    {
     "name": "stdout",
     "output_type": "stream",
     "text": [
      "MCC: [0.27736510857212077, 0.2955549456468948, 0.2760815229568722, 0.2984401679509946]\n",
      "ROC: [0.848774470114074, 0.8565467676058873, 0.8330376867803809, 0.8556302796223517]\n",
      "PR_AUC: [0.2666741190534415, 0.25376838760425713, 0.26126863954393753, 0.27230847215617965]\n"
     ]
    },
    {
     "name": "stderr",
     "output_type": "stream",
     "text": [
      "\u001b[32m[I 2021-12-10 14:34:58,550]\u001b[0m Trial 11 finished with value: 0.2855365869660532 and parameters: {'n_estimators': 193, 'subsample': 0.800508843859655, 'max_depth': 18, 'max_features': 20, 'learning_rate': 0.0820677705499854, 'min_samples_leaf': 38}. Best is trial 9 with value: 0.29408360597713357.\u001b[0m\n"
     ]
    },
    {
     "name": "stdout",
     "output_type": "stream",
     "text": [
      "MCC: [0.2926333329080998, 0.2934933500268704, 0.2632271410009381, 0.2927925239283048]\n",
      "ROC: [0.8443707492173161, 0.8357050001799273, 0.8295534818427648, 0.8415322762795319]\n",
      "PR_AUC: [0.24088126023098236, 0.21731569339445828, 0.24134960174327974, 0.24209744914171633]\n"
     ]
    },
    {
     "name": "stderr",
     "output_type": "stream",
     "text": [
      "\u001b[32m[I 2021-12-10 14:35:04,641]\u001b[0m Trial 12 finished with value: 0.28344723725693355 and parameters: {'n_estimators': 139, 'subsample': 0.8516235870960643, 'max_depth': 16, 'max_features': 18, 'learning_rate': 0.1054781979556547, 'min_samples_leaf': 34}. Best is trial 9 with value: 0.29408360597713357.\u001b[0m\n"
     ]
    },
    {
     "name": "stdout",
     "output_type": "stream",
     "text": [
      "MCC: [0.2994066970547032, 0.2809141485522983, 0.26560017226090105, 0.2878679311598316]\n",
      "ROC: [0.8460631904710496, 0.834966173665839, 0.8246446617143526, 0.8465318245471384]\n",
      "PR_AUC: [0.244151092226955, 0.22678969031628968, 0.2176291464751723, 0.2421317426200019]\n"
     ]
    },
    {
     "name": "stderr",
     "output_type": "stream",
     "text": [
      "\u001b[32m[I 2021-12-10 14:35:06,852]\u001b[0m Trial 13 finished with value: 0.2928327094054616 and parameters: {'n_estimators': 100, 'subsample': 0.8418193398113022, 'max_depth': 3, 'max_features': 19, 'learning_rate': 0.10684061959682244, 'min_samples_leaf': 14}. Best is trial 9 with value: 0.29408360597713357.\u001b[0m\n"
     ]
    },
    {
     "name": "stdout",
     "output_type": "stream",
     "text": [
      "MCC: [0.27752236427793997, 0.3005110419017383, 0.29333791666938447, 0.2999595147727835]\n",
      "ROC: [0.8531140919068695, 0.8563617798409444, 0.8423592707410024, 0.8530582283055518]\n",
      "PR_AUC: [0.2851777965032844, 0.2514277655477188, 0.2706496994101378, 0.2655847282330399]\n"
     ]
    },
    {
     "name": "stderr",
     "output_type": "stream",
     "text": [
      "\u001b[32m[I 2021-12-10 14:35:08,752]\u001b[0m Trial 14 finished with value: 0.2909150878351678 and parameters: {'n_estimators': 91, 'subsample': 0.8403871437580014, 'max_depth': 3, 'max_features': 18, 'learning_rate': 0.09122622785465852, 'min_samples_leaf': 11}. Best is trial 9 with value: 0.29408360597713357.\u001b[0m\n"
     ]
    },
    {
     "name": "stdout",
     "output_type": "stream",
     "text": [
      "MCC: [0.2794470066055071, 0.2974388832800012, 0.2863532090791228, 0.30042125237604006]\n",
      "ROC: [0.8489054796862067, 0.8509077332757565, 0.8439289908347694, 0.8518955820571894]\n",
      "PR_AUC: [0.2789479211691327, 0.2493491164552717, 0.2744417157017649, 0.2636855714813193]\n"
     ]
    },
    {
     "name": "stderr",
     "output_type": "stream",
     "text": [
      "\u001b[32m[I 2021-12-10 14:35:13,185]\u001b[0m Trial 15 finished with value: 0.2813211606188769 and parameters: {'n_estimators': 127, 'subsample': 0.879256742403203, 'max_depth': 6, 'max_features': 17, 'learning_rate': 0.14640266358227755, 'min_samples_leaf': 13}. Best is trial 9 with value: 0.29408360597713357.\u001b[0m\n"
     ]
    },
    {
     "name": "stdout",
     "output_type": "stream",
     "text": [
      "MCC: [0.2819343035877987, 0.2914616414104702, 0.2509232816593393, 0.3009654158178996]\n",
      "ROC: [0.8450972057288855, 0.8472495861671885, 0.8196627267123504, 0.8488966436283146]\n",
      "PR_AUC: [0.25675424266099445, 0.24475784363318936, 0.22055936924220543, 0.2464363459374232]\n"
     ]
    },
    {
     "name": "stderr",
     "output_type": "stream",
     "text": [
      "\u001b[32m[I 2021-12-10 14:35:14,810]\u001b[0m Trial 16 finished with value: 0.2895449831262538 and parameters: {'n_estimators': 58, 'subsample': 0.8395046051428205, 'max_depth': 4, 'max_features': 12, 'learning_rate': 0.11697284397069731, 'min_samples_leaf': 3}. Best is trial 9 with value: 0.29408360597713357.\u001b[0m\n"
     ]
    },
    {
     "name": "stdout",
     "output_type": "stream",
     "text": [
      "MCC: [0.27733693792040354, 0.30250451926657673, 0.2843765577117112, 0.29396191760632373]\n",
      "ROC: [0.8431078844146965, 0.8491168942747132, 0.841382343545419, 0.8484268419388353]\n",
      "PR_AUC: [0.26561107756028923, 0.27376760227668406, 0.2633850625397905, 0.26149757576111676]\n"
     ]
    },
    {
     "name": "stderr",
     "output_type": "stream",
     "text": [
      "\u001b[32m[I 2021-12-10 14:35:18,096]\u001b[0m Trial 17 finished with value: 0.282648350188032 and parameters: {'n_estimators': 112, 'subsample': 0.924580558278454, 'max_depth': 5, 'max_features': 19, 'learning_rate': 0.14302287802722008, 'min_samples_leaf': 32}. Best is trial 9 with value: 0.29408360597713357.\u001b[0m\n"
     ]
    },
    {
     "name": "stdout",
     "output_type": "stream",
     "text": [
      "MCC: [0.2886824254397137, 0.28884478724746715, 0.2672859236286785, 0.2857802644362688]\n",
      "ROC: [0.8434261308431394, 0.8427660225268992, 0.8326479282619357, 0.8440405203957176]\n",
      "PR_AUC: [0.26644912719350705, 0.23456789104780776, 0.24686116425613566, 0.239013493078897]\n"
     ]
    },
    {
     "name": "stderr",
     "output_type": "stream",
     "text": [
      "\u001b[32m[I 2021-12-10 14:35:18,722]\u001b[0m Trial 18 finished with value: 0.2869263049706109 and parameters: {'n_estimators': 10, 'subsample': 0.8911597547874567, 'max_depth': 6, 'max_features': 16, 'learning_rate': 0.17521314425168996, 'min_samples_leaf': 50}. Best is trial 9 with value: 0.29408360597713357.\u001b[0m\n"
     ]
    },
    {
     "name": "stdout",
     "output_type": "stream",
     "text": [
      "MCC: [0.2774428799455955, 0.28978015530383205, 0.2893799555728828, 0.2911022290601331]\n",
      "ROC: [0.8195610223469718, 0.8331067373780993, 0.8379403202656432, 0.8368975019198627]\n",
      "PR_AUC: [0.2386540345143549, 0.23713446389111212, 0.24785992402070342, 0.2512912461621813]\n"
     ]
    },
    {
     "name": "stderr",
     "output_type": "stream",
     "text": [
      "\u001b[32m[I 2021-12-10 14:35:22,557]\u001b[0m Trial 19 finished with value: 0.2871521220500431 and parameters: {'n_estimators': 69, 'subsample': 0.8362004263898423, 'max_depth': 15, 'max_features': 19, 'learning_rate': 0.11575454849369761, 'min_samples_leaf': 17}. Best is trial 9 with value: 0.29408360597713357.\u001b[0m\n"
     ]
    },
    {
     "name": "stdout",
     "output_type": "stream",
     "text": [
      "MCC: [0.2823437548148377, 0.3005426329833771, 0.27107403829774107, 0.29464806210421646]\n",
      "ROC: [0.8435599517794811, 0.8436735308935189, 0.8318256671451004, 0.8410173013506799]\n",
      "PR_AUC: [0.2465585187220715, 0.24008554498183562, 0.22336779519812472, 0.22828877441931159]\n"
     ]
    },
    {
     "name": "stderr",
     "output_type": "stream",
     "text": [
      "\u001b[32m[I 2021-12-10 14:35:27,585]\u001b[0m Trial 20 finished with value: 0.2771644086090082 and parameters: {'n_estimators': 158, 'subsample': 0.912242179344593, 'max_depth': 5, 'max_features': 16, 'learning_rate': 0.17086645704688908, 'min_samples_leaf': 9}. Best is trial 9 with value: 0.29408360597713357.\u001b[0m\n"
     ]
    },
    {
     "name": "stdout",
     "output_type": "stream",
     "text": [
      "MCC: [0.27825104251013233, 0.27318737758578054, 0.2676696134565732, 0.28954960088354675]\n",
      "ROC: [0.8400378746986217, 0.8382464734247365, 0.8274792691212267, 0.8456498170483806]\n",
      "PR_AUC: [0.26237147303410613, 0.23688583876150057, 0.2272708062883379, 0.23506195216353323]\n"
     ]
    },
    {
     "name": "stderr",
     "output_type": "stream",
     "text": [
      "\u001b[32m[I 2021-12-10 14:35:29,911]\u001b[0m Trial 21 finished with value: 0.2925663381269687 and parameters: {'n_estimators': 96, 'subsample': 0.8564994809384565, 'max_depth': 3, 'max_features': 18, 'learning_rate': 0.0857171190366385, 'min_samples_leaf': 10}. Best is trial 9 with value: 0.29408360597713357.\u001b[0m\n"
     ]
    },
    {
     "name": "stdout",
     "output_type": "stream",
     "text": [
      "MCC: [0.2823220531446776, 0.29970838523032484, 0.28868469388793794, 0.29955022024493444]\n",
      "ROC: [0.8549482259167296, 0.8533727374140847, 0.8485880955487666, 0.8524833988345305]\n",
      "PR_AUC: [0.30378129990348257, 0.2614108584735758, 0.2847033647349761, 0.28173126844387963]\n"
     ]
    },
    {
     "name": "stderr",
     "output_type": "stream",
     "text": [
      "\u001b[32m[I 2021-12-10 14:35:32,305]\u001b[0m Trial 22 finished with value: 0.288693784879823 and parameters: {'n_estimators': 110, 'subsample': 0.8599557965694357, 'max_depth': 3, 'max_features': 19, 'learning_rate': 0.09245685393644121, 'min_samples_leaf': 19}. Best is trial 9 with value: 0.29408360597713357.\u001b[0m\n"
     ]
    },
    {
     "name": "stdout",
     "output_type": "stream",
     "text": [
      "MCC: [0.28261121775873205, 0.29232405764940406, 0.27959309680988476, 0.3002467673012711]\n",
      "ROC: [0.848924596962827, 0.851574588866098, 0.8437591393591988, 0.8496764466729909]\n",
      "PR_AUC: [0.30430704248314816, 0.253521147015179, 0.28215343091883727, 0.26965358743123874]\n"
     ]
    },
    {
     "name": "stderr",
     "output_type": "stream",
     "text": [
      "\u001b[32m[I 2021-12-10 14:35:38,445]\u001b[0m Trial 23 finished with value: 0.2862917039477315 and parameters: {'n_estimators': 85, 'subsample': 0.8302098329306508, 'max_depth': 20, 'max_features': 16, 'learning_rate': 0.08216653449054163, 'min_samples_leaf': 9}. Best is trial 9 with value: 0.29408360597713357.\u001b[0m\n"
     ]
    },
    {
     "name": "stdout",
     "output_type": "stream",
     "text": [
      "MCC: [0.289383340702955, 0.30126403698310233, 0.2585623466721122, 0.29595709143275645]\n",
      "ROC: [0.8464230450897836, 0.8488430674007702, 0.8280878098383374, 0.8402346749785428]\n",
      "PR_AUC: [0.23779705274223092, 0.24800059805286528, 0.21146035211602657, 0.21596214632190155]\n"
     ]
    },
    {
     "name": "stderr",
     "output_type": "stream",
     "text": [
      "\u001b[32m[I 2021-12-10 14:35:41,556]\u001b[0m Trial 24 finished with value: 0.2898508668988375 and parameters: {'n_estimators': 99, 'subsample': 0.8196009430772153, 'max_depth': 5, 'max_features': 18, 'learning_rate': 0.08943759311949451, 'min_samples_leaf': 13}. Best is trial 9 with value: 0.29408360597713357.\u001b[0m\n"
     ]
    },
    {
     "name": "stdout",
     "output_type": "stream",
     "text": [
      "MCC: [0.2790643825474787, 0.2986425600552829, 0.2845868717265862, 0.29710965326600225]\n",
      "ROC: [0.8498911439778329, 0.853379484688186, 0.8347761335055094, 0.8488819623255184]\n",
      "PR_AUC: [0.2762514426655979, 0.2682334977424441, 0.2547028211952381, 0.25552116547488896]\n",
      "CPU times: user 1min 35s, sys: 595 ms, total: 1min 36s\n",
      "Wall time: 1min 36s\n"
     ]
    }
   ],
   "source": [
    "%%time\n",
    "def create_model(trial):\n",
    "    n_estimators = trial.suggest_int('n_estimators', 10, 200)\n",
    "    subsample = trial.suggest_float('subsample', 0.8, 1.0)\n",
    "    max_depth = trial.suggest_int('max_depth',3,20)\n",
    "    max_features = trial.suggest_int('max_features',10,20)\n",
    "    learning_rate = trial.suggest_uniform('learning_rate',0.08,0.2)\n",
    "    min_samples_leaf = trial.suggest_int('min_samples_leaf',1,50)\n",
    "    model = GradientBoostingClassifier(n_estimators=n_estimators, subsample=subsample, \n",
    "                           max_depth=max_depth, learning_rate=learning_rate, \n",
    "                           min_samples_leaf=min_samples_leaf)\n",
    "#    model = GradientBoostingClassifier(n_estimators=n_estimators, subsample=subsample, \n",
    "#                           learning_rate=learning_rate, \n",
    "#                           min_samples_leaf=min_samples_leaf)\n",
    "#    model = GradientBoostingClassifier(n_estimators=n_estimators, learning_rate=learning_rate) \n",
    "    return model\n",
    "\n",
    "def objective(trial):\n",
    "    model = create_model(trial)\n",
    "    \n",
    "    mcc_list = []\n",
    "    roc_list = []\n",
    "    pr_list = []\n",
    "    f2_list = []\n",
    "    cv = StratifiedKFold(n_splits=4, shuffle=True, random_state=11)\n",
    "    for idx, (train_idx, test_idx) in enumerate(cv.split(X, y)):\n",
    "        X_train_c, X_test_c = X.iloc[train_idx], X.iloc[test_idx]\n",
    "        y_train_c, y_test_c = y[train_idx], y[test_idx]\n",
    "        sampler = RandomUnderSampler(sampling_strategy=1.0, random_state=7)\n",
    "        X_res, y_res = sampler.fit_resample(X_train_c, y_train_c)\n",
    "\n",
    "#        weights = class_weight.compute_sample_weight('balanced', y=y_train)\n",
    "#        model.fit(X_train, y_train, sample_weight=weights)\n",
    "        model.fit(X_res, y_res)\n",
    "        y_pred = model.predict(X_test_c)\n",
    "        probs = model.predict_proba(X_test_c)\n",
    "        prob1 = probs[:, 1]  # Only positives\n",
    "        precision, recall, pr_thresh = precision_recall_curve(y_test_c, prob1)\n",
    "        roc = roc_auc_score(y_test_c, prob1)\n",
    "        roc_list.append(roc)\n",
    "        mcc = matthews_corrcoef(y_test_c, y_pred)  # MWB\n",
    "        mcc_list.append(mcc)\n",
    "        f2 = fbeta_score(y_test_c, y_pred, beta=2.0, average=None)[1]\n",
    "        pr_auc = auc(recall, precision)\n",
    "        pr_list.append(pr_auc)\n",
    "        avg_precision = average_precision_score(y_test_c, prob1)\n",
    "#        print(f'ROC: {roc}')\n",
    "#        print(f'PR_AUC: {pr_auc}')\n",
    "#        print(f'avg_prec: {avg_precision}')\n",
    "        \n",
    "    print(f'MCC: {mcc_list}')\n",
    "    print(f'ROC: {roc_list}')\n",
    "    print(f'PR_AUC: {pr_list}')\n",
    "    return np.mean(mcc_list)\n",
    "\n",
    "sampler = TPESampler(seed=7)\n",
    "study = optuna.create_study(sampler=sampler,direction='maximize')\n",
    "#study.optimize(objective,n_trials=60)\n",
    "study.optimize(objective,n_trials=25)\n",
    "#study.optimize(objective,n_trials=5)"
   ]
  },
  {
   "cell_type": "code",
   "execution_count": 14,
   "metadata": {},
   "outputs": [
    {
     "data": {
      "text/plain": [
       "FrozenTrial(number=9, values=[0.29408360597713357], datetime_start=datetime.datetime(2021, 12, 10, 14, 34, 47, 480465), datetime_complete=datetime.datetime(2021, 12, 10, 14, 34, 49, 586874), params={'n_estimators': 89, 'subsample': 0.8002853761125517, 'max_depth': 4, 'max_features': 17, 'learning_rate': 0.14292147161182367, 'min_samples_leaf': 35}, distributions={'n_estimators': IntUniformDistribution(high=200, low=10, step=1), 'subsample': UniformDistribution(high=1.0, low=0.8), 'max_depth': IntUniformDistribution(high=20, low=3, step=1), 'max_features': IntUniformDistribution(high=20, low=10, step=1), 'learning_rate': UniformDistribution(high=0.2, low=0.08), 'min_samples_leaf': IntUniformDistribution(high=50, low=1, step=1)}, user_attrs={}, system_attrs={}, intermediate_values={}, trial_id=9, state=TrialState.COMPLETE, value=None)"
      ]
     },
     "execution_count": 14,
     "metadata": {},
     "output_type": "execute_result"
    }
   ],
   "source": [
    "best = study.best_trial\n",
    "best"
   ]
  },
  {
   "cell_type": "code",
   "execution_count": 15,
   "metadata": {},
   "outputs": [
    {
     "name": "stdout",
     "output_type": "stream",
     "text": [
      "[[3150 1372]\n",
      " [  38  245]]\n",
      "              precision    recall  f1-score   support\n",
      "\n",
      "           0       0.99      0.70      0.82      4522\n",
      "           1       0.15      0.87      0.26       283\n",
      "\n",
      "    accuracy                           0.71      4805\n",
      "   macro avg       0.57      0.78      0.54      4805\n",
      "weighted avg       0.94      0.71      0.78      4805\n",
      "\n",
      "ROC AUC prob1: 0.8442776031744295\n",
      "MCC: 0.28017342603227563\n",
      "F2: 0.44561658785012737\n",
      "PR_AUC: 0.26059185559157483\n",
      "CPU times: user 197 ms, sys: 3.01 ms, total: 200 ms\n",
      "Wall time: 197 ms\n"
     ]
    }
   ],
   "source": [
    "%%time\n",
    "gb_params = study.best_params\n",
    "#gb_params['random_state'] = 42\n",
    "gb = GradientBoostingClassifier(**gb_params)\n",
    "gb.fit(X_rus, y_rus)\n",
    "y_pred = gb.predict(X_test)\n",
    "probs = gb.predict_proba(X_test)\n",
    "prob1 = probs[:, 1]  # Only positives\n",
    "precision, recall, pr_thresh = precision_recall_curve(y_test, prob1)\n",
    "print(confusion_matrix(y_pred=y_pred, y_true=y_test))\n",
    "print(classification_report(y_test, y_pred))\n",
    "print(f'ROC AUC prob1: {roc_auc_score(y_test, prob1)}')\n",
    "print(f'MCC: {matthews_corrcoef(y_test, y_pred)}')\n",
    "print(f'F2: {fbeta_score(y_test, y_pred, beta=2.0, average=None)[1]}')\n",
    "print(f'PR_AUC: {auc(recall, precision)}')"
   ]
  },
  {
   "cell_type": "code",
   "execution_count": 16,
   "metadata": {},
   "outputs": [
    {
     "name": "stdout",
     "output_type": "stream",
     "text": [
      "[[3259 1263]\n",
      " [  44  239]]\n",
      "              precision    recall  f1-score   support\n",
      "\n",
      "           0       0.99      0.72      0.83      4522\n",
      "           1       0.16      0.84      0.27       283\n",
      "\n",
      "    accuracy                           0.73      4805\n",
      "   macro avg       0.57      0.78      0.55      4805\n",
      "weighted avg       0.94      0.73      0.80      4805\n",
      "\n",
      "ROC AUC prob1: 0.8441115520041009\n",
      "MCC: 0.2870702102708204\n",
      "F2: 0.45368261199696286\n",
      "PR_AUC: 0.2692526257562669\n",
      "CPU times: user 868 ms, sys: 6.01 ms, total: 874 ms\n",
      "Wall time: 871 ms\n"
     ]
    }
   ],
   "source": [
    "%%time\n",
    "gb_params = study.best_params\n",
    "gb_params['random_state'] = 42\n",
    "gb_weight = GradientBoostingClassifier(**gb_params)\n",
    "weights = class_weight.compute_sample_weight('balanced', y=y_train)\n",
    "gb_weight.fit(X_train, y_train, sample_weight=weights)\n",
    "y_pred = gb_weight.predict(X_test)\n",
    "probs = gb_weight.predict_proba(X_test)\n",
    "prob1 = probs[:, 1]  # Only positives\n",
    "precision, recall, pr_thresh = precision_recall_curve(y_test, prob1)\n",
    "print(confusion_matrix(y_pred=y_pred, y_true=y_test))\n",
    "print(classification_report(y_test, y_pred))\n",
    "print(f'ROC AUC prob1: {roc_auc_score(y_test, prob1)}')\n",
    "print(f'MCC: {matthews_corrcoef(y_test, y_pred)}')\n",
    "print(f'F2: {fbeta_score(y_test, y_pred, beta=2.0, average=None)[1]}')\n",
    "print(f'PR_AUC: {auc(recall, precision)}')"
   ]
  },
  {
   "cell_type": "code",
   "execution_count": 17,
   "metadata": {},
   "outputs": [
    {
     "data": {
      "text/plain": [
       "Delmode            0.261279\n",
       "TrialLabor         0.086231\n",
       "CS_FTP             0.060727\n",
       "transfus_yes       0.058034\n",
       "Episiotomy         0.044051\n",
       "Lac_Min            0.043800\n",
       "Admefface          0.040804\n",
       "Dilat_lst          0.030375\n",
       "new_age            0.021443\n",
       "BESTGA             0.020973\n",
       "new_BMI            0.020449\n",
       "Antefetdistress    0.018872\n",
       "AdmSBP             0.016804\n",
       "AdmDBP             0.014495\n",
       "Admreason          0.014314\n",
       "chorio9            0.013997\n",
       "Admcontract        0.010723\n",
       "prelaborCD         0.010661\n",
       "uscar              0.010136\n",
       "HxnumCS            0.010124\n",
       "dtype: float64"
      ]
     },
     "execution_count": 17,
     "metadata": {},
     "output_type": "execute_result"
    }
   ],
   "source": [
    "# No Sitenum - 5\n",
    "coeffs_wgt = pd.Series(data=gb_weight.feature_importances_,\n",
    "                   index=X_test.columns.values).sort_values(ascending=False)\n",
    "coeffs_wgt[0:20]"
   ]
  },
  {
   "cell_type": "code",
   "execution_count": 1,
   "metadata": {},
   "outputs": [
    {
     "ename": "NameError",
     "evalue": "name 'plt' is not defined",
     "output_type": "error",
     "traceback": [
      "\u001b[0;31m---------------------------------------------------------------------------\u001b[0m",
      "\u001b[0;31mNameError\u001b[0m                                 Traceback (most recent call last)",
      "\u001b[0;32m<ipython-input-1-163c23260408>\u001b[0m in \u001b[0;36m<module>\u001b[0;34m\u001b[0m\n\u001b[0;32m----> 1\u001b[0;31m \u001b[0mplt\u001b[0m\u001b[0;34m.\u001b[0m\u001b[0mrcParams\u001b[0m\u001b[0;34m[\u001b[0m\u001b[0;34m\"figure.figsize\"\u001b[0m\u001b[0;34m]\u001b[0m \u001b[0;34m=\u001b[0m \u001b[0;34m(\u001b[0m\u001b[0;36m14\u001b[0m\u001b[0;34m,\u001b[0m \u001b[0;36m8\u001b[0m\u001b[0;34m)\u001b[0m\u001b[0;34m\u001b[0m\u001b[0;34m\u001b[0m\u001b[0m\n\u001b[0m\u001b[1;32m      2\u001b[0m \u001b[0mx_labels\u001b[0m \u001b[0;34m=\u001b[0m \u001b[0mcoeffs_wgt\u001b[0m\u001b[0;34m.\u001b[0m\u001b[0mindex\u001b[0m\u001b[0;34m.\u001b[0m\u001b[0mvalues\u001b[0m\u001b[0;34m[\u001b[0m\u001b[0;36m0\u001b[0m\u001b[0;34m:\u001b[0m\u001b[0;36m25\u001b[0m\u001b[0;34m]\u001b[0m\u001b[0;34m\u001b[0m\u001b[0;34m\u001b[0m\u001b[0m\n\u001b[1;32m      3\u001b[0m \u001b[0mprint\u001b[0m\u001b[0;34m(\u001b[0m\u001b[0mx_labels\u001b[0m\u001b[0;34m)\u001b[0m\u001b[0;34m\u001b[0m\u001b[0;34m\u001b[0m\u001b[0m\n\u001b[1;32m      4\u001b[0m \u001b[0mfig\u001b[0m\u001b[0;34m,\u001b[0m \u001b[0max\u001b[0m \u001b[0;34m=\u001b[0m \u001b[0mplt\u001b[0m\u001b[0;34m.\u001b[0m\u001b[0msubplots\u001b[0m\u001b[0;34m(\u001b[0m\u001b[0;36m1\u001b[0m\u001b[0;34m,\u001b[0m\u001b[0;36m1\u001b[0m\u001b[0;34m)\u001b[0m  \u001b[0;31m# Create a figure and an axes.\u001b[0m\u001b[0;34m\u001b[0m\u001b[0;34m\u001b[0m\u001b[0m\n\u001b[1;32m      5\u001b[0m \u001b[0max\u001b[0m\u001b[0;34m.\u001b[0m\u001b[0mset_title\u001b[0m\u001b[0;34m(\u001b[0m\u001b[0;34m'Top Predictors: All Sites combined; target: High_EBLoss, vars: PI'\u001b[0m\u001b[0;34m)\u001b[0m\u001b[0;34m\u001b[0m\u001b[0;34m\u001b[0m\u001b[0m\n",
      "\u001b[0;31mNameError\u001b[0m: name 'plt' is not defined"
     ]
    }
   ],
   "source": [
    "plt.rcParams[\"figure.figsize\"] = (14, 8)\n",
    "x_labels = coeffs_wgt.index.values[0:25]\n",
    "print(x_labels)\n",
    "fig, ax = plt.subplots(1,1)  # Create a figure and an axes.\n",
    "ax.set_title('Top Predictors: All Sites combined; target: High_EBLoss, vars: PI')\n",
    "ax.bar(x_labels, coeffs_wgt.values[0:25])\n",
    "ax.set_ylabel('Coeff')\n",
    "ax.set_xlabel('Variable')\n",
    "plt.draw()\n",
    "ax.set_xticklabels(ax.get_xticklabels(), rotation=90, fontsize=16)\n",
    "#plt.xlim(1,20)\n",
    "plt.show()"
   ]
  },
  {
   "cell_type": "code",
   "execution_count": 19,
   "metadata": {},
   "outputs": [
    {
     "data": {
      "text/plain": [
       "Delmode             0.135576\n",
       "Admefface           0.100974\n",
       "transfus_yes        0.080779\n",
       "CS_FTP              0.077234\n",
       "Episiotomy          0.049818\n",
       "spontlabor          0.043917\n",
       "Lac_Min             0.039844\n",
       "Dilat_lst           0.028894\n",
       "Hxcsection          0.025010\n",
       "new_age             0.024443\n",
       "prelaborCD          0.021669\n",
       "AdmSBP              0.020131\n",
       "BESTGA              0.019069\n",
       "TrialLabor          0.018761\n",
       "vertex              0.018372\n",
       "Intrafetdistress    0.017526\n",
       "new_BMI             0.016969\n",
       "AdmDBP              0.015993\n",
       "uscar               0.015188\n",
       "momrace_new         0.014002\n",
       "dtype: float64"
      ]
     },
     "execution_count": 19,
     "metadata": {},
     "output_type": "execute_result"
    }
   ],
   "source": [
    "# No Sitenum - 5\n",
    "coeffs = pd.Series(data=gb.feature_importances_,\n",
    "                   index=X_test.columns.values).sort_values(ascending=False)\n",
    "coeffs[0:20]"
   ]
  },
  {
   "cell_type": "code",
   "execution_count": 21,
   "metadata": {},
   "outputs": [
    {
     "data": {
      "text/plain": [
       "{'n_estimators': 89,\n",
       " 'subsample': 0.8002853761125517,\n",
       " 'max_depth': 4,\n",
       " 'max_features': 17,\n",
       " 'learning_rate': 0.14292147161182367,\n",
       " 'min_samples_leaf': 35,\n",
       " 'random_state': 42}"
      ]
     },
     "execution_count": 21,
     "metadata": {},
     "output_type": "execute_result"
    }
   ],
   "source": [
    "gb_params # 5 runs"
   ]
  },
  {
   "cell_type": "code",
   "execution_count": 2,
   "metadata": {},
   "outputs": [
    {
     "ename": "NameError",
     "evalue": "name 'study' is not defined",
     "output_type": "error",
     "traceback": [
      "\u001b[0;31m---------------------------------------------------------------------------\u001b[0m",
      "\u001b[0;31mNameError\u001b[0m                                 Traceback (most recent call last)",
      "\u001b[0;32m<ipython-input-2-bf9f527b858c>\u001b[0m in \u001b[0;36m<module>\u001b[0;34m\u001b[0m\n\u001b[1;32m      3\u001b[0m \u001b[0mplotly_config\u001b[0m \u001b[0;34m=\u001b[0m \u001b[0;34m{\u001b[0m\u001b[0;34m\"staticPlot\"\u001b[0m\u001b[0;34m:\u001b[0m \u001b[0;32mTrue\u001b[0m\u001b[0;34m}\u001b[0m\u001b[0;34m\u001b[0m\u001b[0;34m\u001b[0m\u001b[0m\n\u001b[1;32m      4\u001b[0m \u001b[0;34m\u001b[0m\u001b[0m\n\u001b[0;32m----> 5\u001b[0;31m \u001b[0mfig\u001b[0m \u001b[0;34m=\u001b[0m \u001b[0mplot_optimization_history\u001b[0m\u001b[0;34m(\u001b[0m\u001b[0mstudy\u001b[0m\u001b[0;34m)\u001b[0m\u001b[0;34m\u001b[0m\u001b[0;34m\u001b[0m\u001b[0m\n\u001b[0m\u001b[1;32m      6\u001b[0m \u001b[0mfig\u001b[0m\u001b[0;34m.\u001b[0m\u001b[0mshow\u001b[0m\u001b[0;34m(\u001b[0m\u001b[0mconfig\u001b[0m\u001b[0;34m=\u001b[0m\u001b[0mplotly_config\u001b[0m\u001b[0;34m)\u001b[0m\u001b[0;34m\u001b[0m\u001b[0;34m\u001b[0m\u001b[0m\n",
      "\u001b[0;31mNameError\u001b[0m: name 'study' is not defined"
     ]
    }
   ],
   "source": [
    "from optuna.visualization import plot_optimization_history\n",
    "\n",
    "plotly_config = {\"staticPlot\": True}\n",
    "\n",
    "fig = plot_optimization_history(study)\n",
    "fig.show(config=plotly_config)"
   ]
  },
  {
   "cell_type": "code",
   "execution_count": 3,
   "metadata": {},
   "outputs": [
    {
     "ename": "NameError",
     "evalue": "name 'study' is not defined",
     "output_type": "error",
     "traceback": [
      "\u001b[0;31m---------------------------------------------------------------------------\u001b[0m",
      "\u001b[0;31mNameError\u001b[0m                                 Traceback (most recent call last)",
      "\u001b[0;32m<ipython-input-3-896a7630ef72>\u001b[0m in \u001b[0;36m<module>\u001b[0;34m\u001b[0m\n\u001b[1;32m      1\u001b[0m \u001b[0;32mfrom\u001b[0m \u001b[0moptuna\u001b[0m\u001b[0;34m.\u001b[0m\u001b[0mvisualization\u001b[0m \u001b[0;32mimport\u001b[0m \u001b[0mplot_param_importances\u001b[0m\u001b[0;34m\u001b[0m\u001b[0;34m\u001b[0m\u001b[0m\n\u001b[1;32m      2\u001b[0m \u001b[0;34m\u001b[0m\u001b[0m\n\u001b[0;32m----> 3\u001b[0;31m \u001b[0mfig\u001b[0m \u001b[0;34m=\u001b[0m \u001b[0mplot_param_importances\u001b[0m\u001b[0;34m(\u001b[0m\u001b[0mstudy\u001b[0m\u001b[0;34m)\u001b[0m\u001b[0;34m\u001b[0m\u001b[0;34m\u001b[0m\u001b[0m\n\u001b[0m\u001b[1;32m      4\u001b[0m \u001b[0mfig\u001b[0m\u001b[0;34m.\u001b[0m\u001b[0mshow\u001b[0m\u001b[0;34m(\u001b[0m\u001b[0mconfig\u001b[0m\u001b[0;34m=\u001b[0m\u001b[0mplotly_config\u001b[0m\u001b[0;34m)\u001b[0m\u001b[0;34m\u001b[0m\u001b[0;34m\u001b[0m\u001b[0m\n",
      "\u001b[0;31mNameError\u001b[0m: name 'study' is not defined"
     ]
    }
   ],
   "source": [
    "from optuna.visualization import plot_param_importances\n",
    "\n",
    "fig = plot_param_importances(study)\n",
    "fig.show(config=plotly_config)"
   ]
  },
  {
   "cell_type": "code",
   "execution_count": 24,
   "metadata": {},
   "outputs": [
    {
     "data": {
      "text/plain": [
       "0.3155208505596307"
      ]
     },
     "execution_count": 24,
     "metadata": {},
     "output_type": "execute_result"
    }
   ],
   "source": [
    "np.mean([0.3149689279176914, 0.31449457458602254, 0.31066798538596907, 0.3219519143488398])"
   ]
  },
  {
   "cell_type": "markdown",
   "metadata": {},
   "source": [
    "<h1 align='center'>Thanks and make sure to learn!</h1>"
   ]
  }
 ],
 "metadata": {
  "kernelspec": {
   "display_name": "Python 3",
   "language": "python",
   "name": "python3"
  },
  "language_info": {
   "codemirror_mode": {
    "name": "ipython",
    "version": 3
   },
   "file_extension": ".py",
   "mimetype": "text/x-python",
   "name": "python",
   "nbconvert_exporter": "python",
   "pygments_lexer": "ipython3",
   "version": "3.7.9"
  }
 },
 "nbformat": 4,
 "nbformat_minor": 4
}
