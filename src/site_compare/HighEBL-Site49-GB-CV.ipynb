{
 "cells": [
  {
   "cell_type": "code",
   "execution_count": 1,
   "metadata": {
    "_cell_guid": "b1076dfc-b9ad-4769-8c92-a6c4dae69d19",
    "_uuid": "8f2839f25d086af736a60e9eeb907d3b93b6e0e5"
   },
   "outputs": [],
   "source": [
    "import numpy as np \n",
    "import pandas as pd \n",
    "\n",
    "import matplotlib.pyplot as plt\n",
    "#import plotly.express as px\n",
    "import seaborn as sns\n",
    "\n",
    "from lightgbm import LGBMClassifier\n",
    "from sklearn.ensemble import GradientBoostingClassifier\n",
    "\n",
    "from sklearn.model_selection import StratifiedKFold\n",
    "from collections import Counter\n",
    "from imblearn.under_sampling import RandomUnderSampler\n",
    "from sklearn.metrics import classification_report, roc_auc_score, confusion_matrix, \\\n",
    "                            accuracy_score, f1_score, average_precision_score, \\\n",
    "                            fbeta_score, precision_recall_curve, auc\n",
    "from sklearn.metrics import matthews_corrcoef\n",
    "\n",
    "from sklearn.model_selection import train_test_split\n",
    "\n",
    "import optuna\n",
    "from optuna.samplers import TPESampler\n",
    "sns.set(style='white', context='notebook', palette='deep')\n",
    "%config Completer.use_jedi = False"
   ]
  },
  {
   "cell_type": "code",
   "execution_count": 2,
   "metadata": {},
   "outputs": [
    {
     "data": {
      "text/html": [
       "<div>\n",
       "<style scoped>\n",
       "    .dataframe tbody tr th:only-of-type {\n",
       "        vertical-align: middle;\n",
       "    }\n",
       "\n",
       "    .dataframe tbody tr th {\n",
       "        vertical-align: top;\n",
       "    }\n",
       "\n",
       "    .dataframe thead th {\n",
       "        text-align: right;\n",
       "    }\n",
       "</style>\n",
       "<table border=\"1\" class=\"dataframe\">\n",
       "  <thead>\n",
       "    <tr style=\"text-align: right;\">\n",
       "      <th></th>\n",
       "      <th>transfus_yes</th>\n",
       "      <th>Accrete</th>\n",
       "      <th>AdmBishop</th>\n",
       "      <th>Admcervpos</th>\n",
       "      <th>Admconsistency</th>\n",
       "      <th>Admcontract</th>\n",
       "      <th>AdmDBP</th>\n",
       "      <th>Admefface</th>\n",
       "      <th>Admpresent</th>\n",
       "      <th>AdmSBP</th>\n",
       "      <th>...</th>\n",
       "      <th>TD_nos</th>\n",
       "      <th>ThreatenedPB</th>\n",
       "      <th>threatpb9</th>\n",
       "      <th>UnspecHBP</th>\n",
       "      <th>uscar</th>\n",
       "      <th>version9</th>\n",
       "      <th>new_age</th>\n",
       "      <th>new_BMI</th>\n",
       "      <th>new_high_Age</th>\n",
       "      <th>new_high_BMI</th>\n",
       "    </tr>\n",
       "    <tr>\n",
       "      <th>MomID</th>\n",
       "      <th></th>\n",
       "      <th></th>\n",
       "      <th></th>\n",
       "      <th></th>\n",
       "      <th></th>\n",
       "      <th></th>\n",
       "      <th></th>\n",
       "      <th></th>\n",
       "      <th></th>\n",
       "      <th></th>\n",
       "      <th></th>\n",
       "      <th></th>\n",
       "      <th></th>\n",
       "      <th></th>\n",
       "      <th></th>\n",
       "      <th></th>\n",
       "      <th></th>\n",
       "      <th></th>\n",
       "      <th></th>\n",
       "      <th></th>\n",
       "      <th></th>\n",
       "    </tr>\n",
       "  </thead>\n",
       "  <tbody>\n",
       "    <tr>\n",
       "      <th>49-06751</th>\n",
       "      <td>0</td>\n",
       "      <td>0</td>\n",
       "      <td>8</td>\n",
       "      <td>2</td>\n",
       "      <td>3</td>\n",
       "      <td>3.0</td>\n",
       "      <td>90</td>\n",
       "      <td>60.0</td>\n",
       "      <td>1</td>\n",
       "      <td>150.0</td>\n",
       "      <td>...</td>\n",
       "      <td>0</td>\n",
       "      <td>0</td>\n",
       "      <td>0</td>\n",
       "      <td>0</td>\n",
       "      <td>0</td>\n",
       "      <td>0</td>\n",
       "      <td>26</td>\n",
       "      <td>24</td>\n",
       "      <td>1</td>\n",
       "      <td>1</td>\n",
       "    </tr>\n",
       "    <tr>\n",
       "      <th>49-23935</th>\n",
       "      <td>0</td>\n",
       "      <td>0</td>\n",
       "      <td>8</td>\n",
       "      <td>8</td>\n",
       "      <td>8</td>\n",
       "      <td>3.0</td>\n",
       "      <td>65</td>\n",
       "      <td>0.0</td>\n",
       "      <td>77</td>\n",
       "      <td>114.0</td>\n",
       "      <td>...</td>\n",
       "      <td>0</td>\n",
       "      <td>0</td>\n",
       "      <td>0</td>\n",
       "      <td>0</td>\n",
       "      <td>1</td>\n",
       "      <td>0</td>\n",
       "      <td>39</td>\n",
       "      <td>24</td>\n",
       "      <td>1</td>\n",
       "      <td>1</td>\n",
       "    </tr>\n",
       "    <tr>\n",
       "      <th>49-06958</th>\n",
       "      <td>0</td>\n",
       "      <td>0</td>\n",
       "      <td>8</td>\n",
       "      <td>2</td>\n",
       "      <td>2</td>\n",
       "      <td>0.0</td>\n",
       "      <td>85</td>\n",
       "      <td>20.0</td>\n",
       "      <td>1</td>\n",
       "      <td>140.0</td>\n",
       "      <td>...</td>\n",
       "      <td>0</td>\n",
       "      <td>0</td>\n",
       "      <td>0</td>\n",
       "      <td>0</td>\n",
       "      <td>0</td>\n",
       "      <td>0</td>\n",
       "      <td>24</td>\n",
       "      <td>21</td>\n",
       "      <td>1</td>\n",
       "      <td>1</td>\n",
       "    </tr>\n",
       "    <tr>\n",
       "      <th>49-14728</th>\n",
       "      <td>0</td>\n",
       "      <td>0</td>\n",
       "      <td>8</td>\n",
       "      <td>8</td>\n",
       "      <td>8</td>\n",
       "      <td>2.0</td>\n",
       "      <td>72</td>\n",
       "      <td>0.0</td>\n",
       "      <td>77</td>\n",
       "      <td>115.0</td>\n",
       "      <td>...</td>\n",
       "      <td>0</td>\n",
       "      <td>0</td>\n",
       "      <td>0</td>\n",
       "      <td>0</td>\n",
       "      <td>0</td>\n",
       "      <td>0</td>\n",
       "      <td>34</td>\n",
       "      <td>24</td>\n",
       "      <td>1</td>\n",
       "      <td>1</td>\n",
       "    </tr>\n",
       "    <tr>\n",
       "      <th>49-24757</th>\n",
       "      <td>0</td>\n",
       "      <td>0</td>\n",
       "      <td>8</td>\n",
       "      <td>8</td>\n",
       "      <td>8</td>\n",
       "      <td>2.0</td>\n",
       "      <td>74</td>\n",
       "      <td>70.0</td>\n",
       "      <td>1</td>\n",
       "      <td>119.0</td>\n",
       "      <td>...</td>\n",
       "      <td>0</td>\n",
       "      <td>0</td>\n",
       "      <td>0</td>\n",
       "      <td>0</td>\n",
       "      <td>0</td>\n",
       "      <td>0</td>\n",
       "      <td>31</td>\n",
       "      <td>23</td>\n",
       "      <td>1</td>\n",
       "      <td>1</td>\n",
       "    </tr>\n",
       "    <tr>\n",
       "      <th>...</th>\n",
       "      <td>...</td>\n",
       "      <td>...</td>\n",
       "      <td>...</td>\n",
       "      <td>...</td>\n",
       "      <td>...</td>\n",
       "      <td>...</td>\n",
       "      <td>...</td>\n",
       "      <td>...</td>\n",
       "      <td>...</td>\n",
       "      <td>...</td>\n",
       "      <td>...</td>\n",
       "      <td>...</td>\n",
       "      <td>...</td>\n",
       "      <td>...</td>\n",
       "      <td>...</td>\n",
       "      <td>...</td>\n",
       "      <td>...</td>\n",
       "      <td>...</td>\n",
       "      <td>...</td>\n",
       "      <td>...</td>\n",
       "      <td>...</td>\n",
       "    </tr>\n",
       "    <tr>\n",
       "      <th>49-10591</th>\n",
       "      <td>0</td>\n",
       "      <td>0</td>\n",
       "      <td>8</td>\n",
       "      <td>3</td>\n",
       "      <td>2</td>\n",
       "      <td>0.0</td>\n",
       "      <td>78</td>\n",
       "      <td>20.0</td>\n",
       "      <td>1</td>\n",
       "      <td>124.0</td>\n",
       "      <td>...</td>\n",
       "      <td>0</td>\n",
       "      <td>0</td>\n",
       "      <td>0</td>\n",
       "      <td>0</td>\n",
       "      <td>0</td>\n",
       "      <td>0</td>\n",
       "      <td>19</td>\n",
       "      <td>21</td>\n",
       "      <td>0</td>\n",
       "      <td>1</td>\n",
       "    </tr>\n",
       "    <tr>\n",
       "      <th>49-18110</th>\n",
       "      <td>0</td>\n",
       "      <td>0</td>\n",
       "      <td>8</td>\n",
       "      <td>2</td>\n",
       "      <td>3</td>\n",
       "      <td>1.0</td>\n",
       "      <td>77</td>\n",
       "      <td>90.0</td>\n",
       "      <td>1</td>\n",
       "      <td>115.0</td>\n",
       "      <td>...</td>\n",
       "      <td>0</td>\n",
       "      <td>0</td>\n",
       "      <td>0</td>\n",
       "      <td>0</td>\n",
       "      <td>0</td>\n",
       "      <td>0</td>\n",
       "      <td>18</td>\n",
       "      <td>26</td>\n",
       "      <td>0</td>\n",
       "      <td>1</td>\n",
       "    </tr>\n",
       "    <tr>\n",
       "      <th>49-00602</th>\n",
       "      <td>0</td>\n",
       "      <td>0</td>\n",
       "      <td>8</td>\n",
       "      <td>8</td>\n",
       "      <td>8</td>\n",
       "      <td>99.0</td>\n",
       "      <td>80</td>\n",
       "      <td>0.0</td>\n",
       "      <td>77</td>\n",
       "      <td>127.0</td>\n",
       "      <td>...</td>\n",
       "      <td>0</td>\n",
       "      <td>0</td>\n",
       "      <td>0</td>\n",
       "      <td>0</td>\n",
       "      <td>1</td>\n",
       "      <td>0</td>\n",
       "      <td>34</td>\n",
       "      <td>24</td>\n",
       "      <td>1</td>\n",
       "      <td>1</td>\n",
       "    </tr>\n",
       "    <tr>\n",
       "      <th>49-15932</th>\n",
       "      <td>0</td>\n",
       "      <td>0</td>\n",
       "      <td>8</td>\n",
       "      <td>2</td>\n",
       "      <td>2</td>\n",
       "      <td>1.0</td>\n",
       "      <td>82</td>\n",
       "      <td>60.0</td>\n",
       "      <td>1</td>\n",
       "      <td>136.0</td>\n",
       "      <td>...</td>\n",
       "      <td>0</td>\n",
       "      <td>0</td>\n",
       "      <td>0</td>\n",
       "      <td>0</td>\n",
       "      <td>0</td>\n",
       "      <td>0</td>\n",
       "      <td>22</td>\n",
       "      <td>31</td>\n",
       "      <td>1</td>\n",
       "      <td>1</td>\n",
       "    </tr>\n",
       "    <tr>\n",
       "      <th>49-19431</th>\n",
       "      <td>0</td>\n",
       "      <td>0</td>\n",
       "      <td>8</td>\n",
       "      <td>1</td>\n",
       "      <td>3</td>\n",
       "      <td>4.0</td>\n",
       "      <td>80</td>\n",
       "      <td>100.0</td>\n",
       "      <td>1</td>\n",
       "      <td>134.0</td>\n",
       "      <td>...</td>\n",
       "      <td>0</td>\n",
       "      <td>0</td>\n",
       "      <td>0</td>\n",
       "      <td>0</td>\n",
       "      <td>0</td>\n",
       "      <td>0</td>\n",
       "      <td>16</td>\n",
       "      <td>18</td>\n",
       "      <td>0</td>\n",
       "      <td>0</td>\n",
       "    </tr>\n",
       "  </tbody>\n",
       "</table>\n",
       "<p>14925 rows × 195 columns</p>\n",
       "</div>"
      ],
      "text/plain": [
       "          transfus_yes  Accrete  AdmBishop  Admcervpos  Admconsistency  \\\n",
       "MomID                                                                    \n",
       "49-06751             0        0          8           2               3   \n",
       "49-23935             0        0          8           8               8   \n",
       "49-06958             0        0          8           2               2   \n",
       "49-14728             0        0          8           8               8   \n",
       "49-24757             0        0          8           8               8   \n",
       "...                ...      ...        ...         ...             ...   \n",
       "49-10591             0        0          8           3               2   \n",
       "49-18110             0        0          8           2               3   \n",
       "49-00602             0        0          8           8               8   \n",
       "49-15932             0        0          8           2               2   \n",
       "49-19431             0        0          8           1               3   \n",
       "\n",
       "          Admcontract  AdmDBP  Admefface  Admpresent  AdmSBP  ...  TD_nos  \\\n",
       "MomID                                                         ...           \n",
       "49-06751          3.0      90       60.0           1   150.0  ...       0   \n",
       "49-23935          3.0      65        0.0          77   114.0  ...       0   \n",
       "49-06958          0.0      85       20.0           1   140.0  ...       0   \n",
       "49-14728          2.0      72        0.0          77   115.0  ...       0   \n",
       "49-24757          2.0      74       70.0           1   119.0  ...       0   \n",
       "...               ...     ...        ...         ...     ...  ...     ...   \n",
       "49-10591          0.0      78       20.0           1   124.0  ...       0   \n",
       "49-18110          1.0      77       90.0           1   115.0  ...       0   \n",
       "49-00602         99.0      80        0.0          77   127.0  ...       0   \n",
       "49-15932          1.0      82       60.0           1   136.0  ...       0   \n",
       "49-19431          4.0      80      100.0           1   134.0  ...       0   \n",
       "\n",
       "          ThreatenedPB  threatpb9  UnspecHBP  uscar  version9  new_age  \\\n",
       "MomID                                                                    \n",
       "49-06751             0          0          0      0         0       26   \n",
       "49-23935             0          0          0      1         0       39   \n",
       "49-06958             0          0          0      0         0       24   \n",
       "49-14728             0          0          0      0         0       34   \n",
       "49-24757             0          0          0      0         0       31   \n",
       "...                ...        ...        ...    ...       ...      ...   \n",
       "49-10591             0          0          0      0         0       19   \n",
       "49-18110             0          0          0      0         0       18   \n",
       "49-00602             0          0          0      1         0       34   \n",
       "49-15932             0          0          0      0         0       22   \n",
       "49-19431             0          0          0      0         0       16   \n",
       "\n",
       "          new_BMI  new_high_Age  new_high_BMI  \n",
       "MomID                                          \n",
       "49-06751       24             1             1  \n",
       "49-23935       24             1             1  \n",
       "49-06958       21             1             1  \n",
       "49-14728       24             1             1  \n",
       "49-24757       23             1             1  \n",
       "...           ...           ...           ...  \n",
       "49-10591       21             0             1  \n",
       "49-18110       26             0             1  \n",
       "49-00602       24             1             1  \n",
       "49-15932       31             1             1  \n",
       "49-19431       18             0             0  \n",
       "\n",
       "[14925 rows x 195 columns]"
      ]
     },
     "execution_count": 2,
     "metadata": {},
     "output_type": "execute_result"
    }
   ],
   "source": [
    "csl_df = pd.read_csv('../../data/csl/Sites/CSL_he_PI_s49.csv', index_col=0)\n",
    "X = csl_df.drop(['high_EBL','Sitenum'], axis=1, inplace=False)\n",
    "y = csl_df['high_EBL'].values\n",
    "\n",
    "X_train, X_test, y_train, y_test = train_test_split(X, y, test_size=0.3, stratify=y, random_state=7)\n",
    "X_train                                                    "
   ]
  },
  {
   "cell_type": "code",
   "execution_count": 3,
   "metadata": {},
   "outputs": [
    {
     "data": {
      "text/plain": [
       "(21322, 195)"
      ]
     },
     "execution_count": 3,
     "metadata": {},
     "output_type": "execute_result"
    }
   ],
   "source": [
    "X.shape"
   ]
  },
  {
   "cell_type": "markdown",
   "metadata": {},
   "source": [
    "<h1 align='center'>Exploratory Data Analysis</h1>"
   ]
  },
  {
   "cell_type": "markdown",
   "metadata": {},
   "source": [
    "<h1 align='center'>Modelling</h1>"
   ]
  },
  {
   "cell_type": "code",
   "execution_count": 8,
   "metadata": {},
   "outputs": [
    {
     "name": "stdout",
     "output_type": "stream",
     "text": [
      "(14925, 195)\n",
      "(21322, 195)\n",
      "(21322,)\n"
     ]
    }
   ],
   "source": [
    "print(X_train.shape)\n",
    "print(X.shape)\n",
    "print(y.shape)"
   ]
  },
  {
   "cell_type": "markdown",
   "metadata": {},
   "source": [
    "Here we define our validation set"
   ]
  },
  {
   "cell_type": "markdown",
   "metadata": {},
   "source": [
    "<h1 align='center'>Modelling Using Undersampling</h1>"
   ]
  },
  {
   "cell_type": "markdown",
   "metadata": {},
   "source": [
    "We will use `imblearn`'s RandomUnderSampler to undersample from the majority class so that they match"
   ]
  },
  {
   "cell_type": "code",
   "execution_count": 9,
   "metadata": {},
   "outputs": [],
   "source": [
    "sampler = RandomUnderSampler(sampling_strategy=1.0, random_state=7)\n",
    "X_rus, y_rus = sampler.fit_resample(X_train, y_train)\n",
    "\n",
    "# Try with no undersampling\n",
    "#X_rus, y_rus = X_train, y_train"
   ]
  },
  {
   "cell_type": "code",
   "execution_count": 10,
   "metadata": {},
   "outputs": [
    {
     "name": "stdout",
     "output_type": "stream",
     "text": [
      "(1608, 195)\n",
      "(1608,)\n",
      "[804 804]\n"
     ]
    }
   ],
   "source": [
    "print(X_rus.shape)\n",
    "print(y_rus.shape)\n",
    "print(np.bincount(y_rus))"
   ]
  },
  {
   "cell_type": "markdown",
   "metadata": {},
   "source": [
    "<h1 align='center'>Basic Gradient Boosting</h1>"
   ]
  },
  {
   "cell_type": "code",
   "execution_count": 11,
   "metadata": {},
   "outputs": [
    {
     "name": "stdout",
     "output_type": "stream",
     "text": [
      "{'ccp_alpha': 0.0, 'criterion': 'friedman_mse', 'init': None, 'learning_rate': 0.1, 'loss': 'deviance', 'max_depth': 3, 'max_features': None, 'max_leaf_nodes': None, 'min_impurity_decrease': 0.0, 'min_impurity_split': None, 'min_samples_leaf': 1, 'min_samples_split': 2, 'min_weight_fraction_leaf': 0.0, 'n_estimators': 100, 'n_iter_no_change': None, 'presort': 'deprecated', 'random_state': None, 'subsample': 1.0, 'tol': 0.0001, 'validation_fraction': 0.1, 'verbose': 0, 'warm_start': False}\n",
      "[[4438 1614]\n",
      " [  32  313]]\n",
      "              precision    recall  f1-score   support\n",
      "\n",
      "           0       0.99      0.73      0.84      6052\n",
      "           1       0.16      0.91      0.28       345\n",
      "\n",
      "    accuracy                           0.74      6397\n",
      "   macro avg       0.58      0.82      0.56      6397\n",
      "weighted avg       0.95      0.74      0.81      6397\n",
      "\n",
      "ROC AUC prob1: 0.8688599768192573\n",
      "MCC: 0.3153716353279921\n",
      "F2: 0.4732385848200787\n",
      "PR_AUC: 0.2205171513715284\n",
      "CPU times: user 608 ms, sys: 5.86 ms, total: 614 ms\n",
      "Wall time: 611 ms\n"
     ]
    }
   ],
   "source": [
    "%%time\n",
    "from sklearn.metrics import matthews_corrcoef\n",
    "from sklearn.utils import class_weight\n",
    "gb_rus = GradientBoostingClassifier()   # If not undersampling\n",
    "gb_rus.fit(X_rus, y_rus)\n",
    "print(gb_rus.get_params())\n",
    "y_pred = gb_rus.predict(X_test)\n",
    "probs = gb_rus.predict_proba(X_test)\n",
    "prob1 = probs[:, 1]  # Only positives\n",
    "precision, recall, pr_thresh = precision_recall_curve(y_test, prob1)\n",
    "print(confusion_matrix(y_pred=y_pred, y_true=y_test))\n",
    "print(classification_report(y_test, y_pred))\n",
    "print(f'ROC AUC prob1: {roc_auc_score(y_test, prob1)}')\n",
    "print(f'MCC: {matthews_corrcoef(y_test, y_pred)}')\n",
    "print(f'F2: {fbeta_score(y_test, y_pred, beta=2.0, average=None)[1]}')\n",
    "print(f'PR_AUC: {auc(recall, precision)}')"
   ]
  },
  {
   "cell_type": "code",
   "execution_count": 12,
   "metadata": {},
   "outputs": [
    {
     "name": "stdout",
     "output_type": "stream",
     "text": [
      "{'ccp_alpha': 0.0, 'criterion': 'friedman_mse', 'init': None, 'learning_rate': 0.1, 'loss': 'deviance', 'max_depth': 3, 'max_features': None, 'max_leaf_nodes': None, 'min_impurity_decrease': 0.0, 'min_impurity_split': None, 'min_samples_leaf': 1, 'min_samples_split': 2, 'min_weight_fraction_leaf': 0.0, 'n_estimators': 100, 'n_iter_no_change': None, 'presort': 'deprecated', 'random_state': None, 'subsample': 1.0, 'tol': 0.0001, 'validation_fraction': 0.1, 'verbose': 0, 'warm_start': False}\n",
      "[[4490 1562]\n",
      " [  38  307]]\n",
      "              precision    recall  f1-score   support\n",
      "\n",
      "           0       0.99      0.74      0.85      6052\n",
      "           1       0.16      0.89      0.28       345\n",
      "\n",
      "    accuracy                           0.75      6397\n",
      "   macro avg       0.58      0.82      0.56      6397\n",
      "weighted avg       0.95      0.75      0.82      6397\n",
      "\n",
      "ROC AUC prob1: 0.8727331724091688\n",
      "MCC: 0.3137995331532645\n",
      "F2: 0.4724530624807633\n",
      "PR_AUC: 0.2435054511986828\n",
      "CPU times: user 4.99 s, sys: 6.66 ms, total: 5 s\n",
      "Wall time: 4.99 s\n"
     ]
    }
   ],
   "source": [
    "%%time\n",
    "# Not undersampled\n",
    "from sklearn.metrics import matthews_corrcoef\n",
    "from sklearn.utils import class_weight\n",
    "gb_weight = GradientBoostingClassifier()  \n",
    "weights = class_weight.compute_sample_weight('balanced', y=y_train)\n",
    "gb_weight.fit(X_train, y_train, sample_weight=weights)\n",
    "print(gb_weight.get_params())\n",
    "y_pred = gb_weight.predict(X_test)\n",
    "probs = gb_weight.predict_proba(X_test)\n",
    "prob1 = probs[:, 1]  # Only positives\n",
    "precision, recall, pr_thresh = precision_recall_curve(y_test, prob1)\n",
    "print(confusion_matrix(y_pred=y_pred, y_true=y_test))\n",
    "print(classification_report(y_test, y_pred))\n",
    "print(f'ROC AUC prob1: {roc_auc_score(y_test, prob1)}')\n",
    "print(f'MCC: {matthews_corrcoef(y_test, y_pred)}')\n",
    "print(f'F2: {fbeta_score(y_test, y_pred, beta=2.0, average=None)[1]}')\n",
    "print(f'PR_AUC: {auc(recall, precision)}')"
   ]
  },
  {
   "cell_type": "markdown",
   "metadata": {},
   "source": [
    "<h1 align='center'>Hyperparameter Tuning with Cross Validation</h1>"
   ]
  },
  {
   "cell_type": "code",
   "execution_count": 13,
   "metadata": {
    "scrolled": false
   },
   "outputs": [
    {
     "name": "stderr",
     "output_type": "stream",
     "text": [
      "\u001b[32m[I 2021-12-10 14:30:13,218]\u001b[0m A new study created in memory with name: no-name-0150141f-e408-4915-be77-9b99a2492e26\u001b[0m\n",
      "\u001b[32m[I 2021-12-10 14:30:15,013]\u001b[0m Trial 0 finished with value: 0.32435021248539964 and parameters: {'n_estimators': 24, 'subsample': 0.955983758448023, 'max_depth': 10, 'max_features': 17, 'learning_rate': 0.1973587414395923, 'min_samples_leaf': 27}. Best is trial 0 with value: 0.32435021248539964.\u001b[0m\n"
     ]
    },
    {
     "name": "stdout",
     "output_type": "stream",
     "text": [
      "MCC: [0.33864621685917395, 0.3258690257197002, 0.3120587371594714, 0.32082687020325285]\n",
      "ROC: [0.8842147291983852, 0.8750034426157269, 0.8618093455516012, 0.873624805764502]\n",
      "PR_AUC: [0.23255702238537396, 0.23414921130400373, 0.2013871898174007, 0.20961815662203806]\n"
     ]
    },
    {
     "name": "stderr",
     "output_type": "stream",
     "text": [
      "\u001b[32m[I 2021-12-10 14:30:19,426]\u001b[0m Trial 1 finished with value: 0.32110738936992844 and parameters: {'n_estimators': 105, 'subsample': 0.8144102266719524, 'max_depth': 7, 'max_features': 15, 'learning_rate': 0.16150759953451288, 'min_samples_leaf': 41}. Best is trial 0 with value: 0.32435021248539964.\u001b[0m\n"
     ]
    },
    {
     "name": "stdout",
     "output_type": "stream",
     "text": [
      "MCC: [0.33526767522541384, 0.31484822036817267, 0.3154734966375594, 0.3188401652485679]\n",
      "ROC: [0.8771065494726545, 0.8642652356401612, 0.8589302728244415, 0.873085195541341]\n",
      "PR_AUC: [0.21851472435568095, 0.2266558526169103, 0.19820987117942546, 0.2243810758754444]\n"
     ]
    },
    {
     "name": "stderr",
     "output_type": "stream",
     "text": [
      "\u001b[32m[I 2021-12-10 14:30:23,526]\u001b[0m Trial 2 finished with value: 0.32838807160890915 and parameters: {'n_estimators': 82, 'subsample': 0.813187269381181, 'max_depth': 8, 'max_features': 20, 'learning_rate': 0.10560624242958987, 'min_samples_leaf': 23}. Best is trial 2 with value: 0.32838807160890915.\u001b[0m\n"
     ]
    },
    {
     "name": "stdout",
     "output_type": "stream",
     "text": [
      "MCC: [0.3451961734073835, 0.321652653759179, 0.3171594618794151, 0.3295439973896589]\n",
      "ROC: [0.8857828116062966, 0.8770139302002776, 0.8666388915950007, 0.8731114505842094]\n",
      "PR_AUC: [0.24652948739438416, 0.2576839440971523, 0.22010213912137408, 0.21594066376862503]\n"
     ]
    },
    {
     "name": "stderr",
     "output_type": "stream",
     "text": [
      "\u001b[32m[I 2021-12-10 14:30:34,255]\u001b[0m Trial 3 finished with value: 0.3204708819510114 and parameters: {'n_estimators': 187, 'subsample': 0.8049798455100696, 'max_depth': 13, 'max_features': 20, 'learning_rate': 0.10763634548251577, 'min_samples_leaf': 28}. Best is trial 2 with value: 0.32838807160890915.\u001b[0m\n"
     ]
    },
    {
     "name": "stdout",
     "output_type": "stream",
     "text": [
      "MCC: [0.3281712136517826, 0.30482698437140954, 0.3215548506568585, 0.327330479123995]\n",
      "ROC: [0.8788632162406365, 0.8686001773635622, 0.8618010544854324, 0.8735605500016927]\n",
      "PR_AUC: [0.22705064682751896, 0.2255368844077668, 0.2100873121433827, 0.21293453237485138]\n"
     ]
    },
    {
     "name": "stderr",
     "output_type": "stream",
     "text": [
      "\u001b[32m[I 2021-12-10 14:30:44,617]\u001b[0m Trial 4 finished with value: 0.31940300321926274 and parameters: {'n_estimators': 183, 'subsample': 0.8266338891518501, 'max_depth': 12, 'max_features': 18, 'learning_rate': 0.16028158890606967, 'min_samples_leaf': 24}. Best is trial 2 with value: 0.32838807160890915.\u001b[0m\n"
     ]
    },
    {
     "name": "stdout",
     "output_type": "stream",
     "text": [
      "MCC: [0.3238104451763635, 0.320854484216632, 0.3142788182736737, 0.31866826521038183]\n",
      "ROC: [0.8735628213878149, 0.8688872915151916, 0.8603708455712925, 0.8735729866009462]\n",
      "PR_AUC: [0.22203748468705894, 0.22476600903305244, 0.20154145026034526, 0.21239938087496824]\n"
     ]
    },
    {
     "name": "stderr",
     "output_type": "stream",
     "text": [
      "\u001b[32m[I 2021-12-10 14:30:47,275]\u001b[0m Trial 5 finished with value: 0.3250933646133319 and parameters: {'n_estimators': 49, 'subsample': 0.8981531778182141, 'max_depth': 9, 'max_features': 15, 'learning_rate': 0.12390684629367116, 'min_samples_leaf': 42}. Best is trial 2 with value: 0.32838807160890915.\u001b[0m\n"
     ]
    },
    {
     "name": "stdout",
     "output_type": "stream",
     "text": [
      "MCC: [0.3389347099957521, 0.319335431419953, 0.31509691979246884, 0.32700639724515357]\n",
      "ROC: [0.8833395043478022, 0.8755115726970278, 0.8675681819281011, 0.8723749275395363]\n",
      "PR_AUC: [0.23037517235500324, 0.24837688567464855, 0.21001533056741162, 0.220351150003655]\n"
     ]
    },
    {
     "name": "stderr",
     "output_type": "stream",
     "text": [
      "\u001b[32m[I 2021-12-10 14:30:57,704]\u001b[0m Trial 6 finished with value: 0.3198018391648879 and parameters: {'n_estimators': 156, 'subsample': 0.8627989354425325, 'max_depth': 13, 'max_features': 13, 'learning_rate': 0.13434115190556806, 'min_samples_leaf': 18}. Best is trial 2 with value: 0.32838807160890915.\u001b[0m\n"
     ]
    },
    {
     "name": "stdout",
     "output_type": "stream",
     "text": [
      "MCC: [0.33440025180769845, 0.3174016288406667, 0.3081771255488055, 0.319228350462381]\n",
      "ROC: [0.8811179391390606, 0.8681705389208364, 0.8598146532157936, 0.8719292827329564]\n",
      "PR_AUC: [0.22203388091567744, 0.21065706687531466, 0.1965572171097773, 0.20431883005046117]\n"
     ]
    },
    {
     "name": "stderr",
     "output_type": "stream",
     "text": [
      "\u001b[32m[I 2021-12-10 14:31:04,114]\u001b[0m Trial 7 finished with value: 0.3195511283471792 and parameters: {'n_estimators': 135, 'subsample': 0.8740702165976071, 'max_depth': 11, 'max_features': 17, 'learning_rate': 0.12955901949366017, 'min_samples_leaf': 46}. Best is trial 2 with value: 0.32838807160890915.\u001b[0m\n"
     ]
    },
    {
     "name": "stdout",
     "output_type": "stream",
     "text": [
      "MCC: [0.33522262853486773, 0.31332278184459295, 0.31568665560029885, 0.3139724474089572]\n",
      "ROC: [0.880161201634674, 0.8674999173772224, 0.8611059867716039, 0.8697929513500965]\n",
      "PR_AUC: [0.2124148961842672, 0.22002199721753007, 0.19535139677244126, 0.21309019952997466]\n"
     ]
    },
    {
     "name": "stderr",
     "output_type": "stream",
     "text": [
      "\u001b[32m[I 2021-12-10 14:31:06,892]\u001b[0m Trial 8 finished with value: 0.3268232956692334 and parameters: {'n_estimators': 44, 'subsample': 0.9482237745826528, 'max_depth': 10, 'max_features': 14, 'learning_rate': 0.15612558423606065, 'min_samples_leaf': 27}. Best is trial 2 with value: 0.32838807160890915.\u001b[0m\n"
     ]
    },
    {
     "name": "stdout",
     "output_type": "stream",
     "text": [
      "MCC: [0.33944736913000423, 0.32213726167287454, 0.32462876628022647, 0.32107978559382844]\n",
      "ROC: [0.8832952940948917, 0.876436259281292, 0.8667874398638606, 0.8723307085199687]\n",
      "PR_AUC: [0.23119010398516035, 0.25177439196764656, 0.21046415722104564, 0.20718082312019126]\n"
     ]
    },
    {
     "name": "stderr",
     "output_type": "stream",
     "text": [
      "\u001b[32m[I 2021-12-10 14:31:09,593]\u001b[0m Trial 9 finished with value: 0.3282631980098683 and parameters: {'n_estimators': 89, 'subsample': 0.8002853761125517, 'max_depth': 4, 'max_features': 17, 'learning_rate': 0.14292147161182367, 'min_samples_leaf': 35}. Best is trial 2 with value: 0.32838807160890915.\u001b[0m\n"
     ]
    },
    {
     "name": "stdout",
     "output_type": "stream",
     "text": [
      "MCC: [0.3496904040808406, 0.31557275405768404, 0.3269627636976958, 0.32082687020325285]\n",
      "ROC: [0.879719789890773, 0.87431836208606, 0.8682439038208687, 0.8730948684518713]\n",
      "PR_AUC: [0.21600821103568918, 0.25803376748167023, 0.20809204461613445, 0.2288938866312372]\n"
     ]
    },
    {
     "name": "stderr",
     "output_type": "stream",
     "text": [
      "\u001b[32m[I 2021-12-10 14:31:19,769]\u001b[0m Trial 10 finished with value: 0.32323315265011143 and parameters: {'n_estimators': 78, 'subsample': 0.9869602664638994, 'max_depth': 18, 'max_features': 10, 'learning_rate': 0.09172353354166263, 'min_samples_leaf': 4}. Best is trial 2 with value: 0.32838807160890915.\u001b[0m\n"
     ]
    },
    {
     "name": "stdout",
     "output_type": "stream",
     "text": [
      "MCC: [0.34006414923698497, 0.3159611667434705, 0.3240867101509378, 0.3128205844690525]\n",
      "ROC: [0.8835425951971086, 0.8683977515588164, 0.8596094493281129, 0.8652121372917647]\n",
      "PR_AUC: [0.2402638878675469, 0.21177294405956829, 0.18372739510918415, 0.20443413654171944]\n"
     ]
    },
    {
     "name": "stderr",
     "output_type": "stream",
     "text": [
      "\u001b[32m[I 2021-12-10 14:31:22,258]\u001b[0m Trial 11 finished with value: 0.328537045265035 and parameters: {'n_estimators': 89, 'subsample': 0.8518380886504129, 'max_depth': 3, 'max_features': 20, 'learning_rate': 0.0820677705499854, 'min_samples_leaf': 12}. Best is trial 11 with value: 0.328537045265035.\u001b[0m\n"
     ]
    },
    {
     "name": "stdout",
     "output_type": "stream",
     "text": [
      "MCC: [0.3502504509556626, 0.317333708423675, 0.32206619735185593, 0.3244978243289465]\n",
      "ROC: [0.8865012282160887, 0.8826450167448828, 0.8745112589223963, 0.8739878853704829]\n",
      "PR_AUC: [0.2458078973522967, 0.26993756233750893, 0.22949616995864114, 0.23057077494074962]\n"
     ]
    },
    {
     "name": "stderr",
     "output_type": "stream",
     "text": [
      "\u001b[32m[I 2021-12-10 14:31:25,555]\u001b[0m Trial 12 finished with value: 0.33390160754165166 and parameters: {'n_estimators': 129, 'subsample': 0.845528398647246, 'max_depth': 3, 'max_features': 20, 'learning_rate': 0.08006789436397342, 'min_samples_leaf': 10}. Best is trial 12 with value: 0.33390160754165166.\u001b[0m\n"
     ]
    },
    {
     "name": "stdout",
     "output_type": "stream",
     "text": [
      "MCC: [0.3551615626823937, 0.3254765987380499, 0.3248729878465611, 0.33009528089960216]\n",
      "ROC: [0.8887697668185472, 0.8830736224028908, 0.8768970132125049, 0.8741644159876629]\n",
      "PR_AUC: [0.2534099635696359, 0.26733102626036787, 0.2393971798448672, 0.239164560840815]\n"
     ]
    },
    {
     "name": "stderr",
     "output_type": "stream",
     "text": [
      "\u001b[32m[I 2021-12-10 14:31:28,865]\u001b[0m Trial 13 finished with value: 0.33077094616501324 and parameters: {'n_estimators': 131, 'subsample': 0.8534856832953535, 'max_depth': 3, 'max_features': 19, 'learning_rate': 0.08061551154657245, 'min_samples_leaf': 8}. Best is trial 12 with value: 0.33390160754165166.\u001b[0m\n"
     ]
    },
    {
     "name": "stdout",
     "output_type": "stream",
     "text": [
      "MCC: [0.3492773855583111, 0.32088097748902833, 0.32732185123871055, 0.325603570374003]\n",
      "ROC: [0.8858166600811811, 0.8801770055302179, 0.8720066660171998, 0.8735508770911623]\n",
      "PR_AUC: [0.2441054624633069, 0.2649750307106648, 0.22922993133825814, 0.2356969560210276]\n"
     ]
    },
    {
     "name": "stderr",
     "output_type": "stream",
     "text": [
      "\u001b[32m[I 2021-12-10 14:31:34,450]\u001b[0m Trial 14 finished with value: 0.32289546273374925 and parameters: {'n_estimators': 137, 'subsample': 0.8993236446634258, 'max_depth': 5, 'max_features': 18, 'learning_rate': 0.08096592158289725, 'min_samples_leaf': 1}. Best is trial 12 with value: 0.33390160754165166.\u001b[0m\n"
     ]
    },
    {
     "name": "stdout",
     "output_type": "stream",
     "text": [
      "MCC: [0.3302900754253778, 0.31668144477790705, 0.3240867101509378, 0.32052362058077427]\n",
      "ROC: [0.8802454774292844, 0.8709046643311963, 0.8695069095672685, 0.8674590162235437]\n",
      "PR_AUC: [0.22590548164231028, 0.235926455977329, 0.2156873133286227, 0.23388532452423086]\n"
     ]
    },
    {
     "name": "stderr",
     "output_type": "stream",
     "text": [
      "\u001b[32m[I 2021-12-10 14:31:40,312]\u001b[0m Trial 15 finished with value: 0.3216071702334051 and parameters: {'n_estimators': 132, 'subsample': 0.8466557426823317, 'max_depth': 6, 'max_features': 19, 'learning_rate': 0.10366157991532525, 'min_samples_leaf': 10}. Best is trial 12 with value: 0.33390160754165166.\u001b[0m\n"
     ]
    },
    {
     "name": "stdout",
     "output_type": "stream",
     "text": [
      "MCC: [0.3392887825928066, 0.31571666739365667, 0.3169952781072408, 0.3144279528399164]\n",
      "ROC: [0.8849939349059289, 0.8706092879018221, 0.8700202647475612, 0.8725372942520112]\n",
      "PR_AUC: [0.24005424896378277, 0.23541346780040376, 0.21956436994250114, 0.24381223891665796]\n"
     ]
    },
    {
     "name": "stderr",
     "output_type": "stream",
     "text": [
      "\u001b[32m[I 2021-12-10 14:31:53,397]\u001b[0m Trial 16 finished with value: 0.32598355356771874 and parameters: {'n_estimators': 159, 'subsample': 0.8841883054873618, 'max_depth': 16, 'max_features': 12, 'learning_rate': 0.09572114049970852, 'min_samples_leaf': 14}. Best is trial 12 with value: 0.33390160754165166.\u001b[0m\n"
     ]
    },
    {
     "name": "stdout",
     "output_type": "stream",
     "text": [
      "MCC: [0.33998767304604793, 0.3201167327143533, 0.31769667272788893, 0.3261331357825848]\n",
      "ROC: [0.8819786575004076, 0.8733234461409655, 0.8655182158178343, 0.8716722596817198]\n",
      "PR_AUC: [0.23262783530703193, 0.23053661486765678, 0.2124727081804476, 0.2191107444990913]\n"
     ]
    },
    {
     "name": "stderr",
     "output_type": "stream",
     "text": [
      "\u001b[32m[I 2021-12-10 14:31:56,439]\u001b[0m Trial 17 finished with value: 0.3278803401366042 and parameters: {'n_estimators': 116, 'subsample': 0.924580558278454, 'max_depth': 3, 'max_features': 18, 'learning_rate': 0.11532603266017688, 'min_samples_leaf': 7}. Best is trial 12 with value: 0.33390160754165166.\u001b[0m\n"
     ]
    },
    {
     "name": "stdout",
     "output_type": "stream",
     "text": [
      "MCC: [0.355722724343596, 0.31700199947033414, 0.31891247221293734, 0.31988416451954943]\n",
      "ROC: [0.8850388359440408, 0.8821527226959262, 0.8714919289925456, 0.8720557214920326]\n",
      "PR_AUC: [0.24573771457366111, 0.26140176206156196, 0.24275714364221282, 0.22934373925100626]\n"
     ]
    },
    {
     "name": "stderr",
     "output_type": "stream",
     "text": [
      "\u001b[32m[I 2021-12-10 14:32:03,255]\u001b[0m Trial 18 finished with value: 0.31796391077550623 and parameters: {'n_estimators': 166, 'subsample': 0.841212937001562, 'max_depth': 6, 'max_features': 16, 'learning_rate': 0.18656989022946982, 'min_samples_leaf': 17}. Best is trial 12 with value: 0.33390160754165166.\u001b[0m\n"
     ]
    },
    {
     "name": "stdout",
     "output_type": "stream",
     "text": [
      "MCC: [0.3207978338829286, 0.31791573623211405, 0.3140717238323438, 0.3190703491546385]\n",
      "ROC: [0.8744415001644069, 0.8704887963513781, 0.8636554896185488, 0.8730147214789051]\n",
      "PR_AUC: [0.22533109075272315, 0.22542635263314187, 0.20785923946177096, 0.21537137333503048]\n"
     ]
    },
    {
     "name": "stderr",
     "output_type": "stream",
     "text": [
      "\u001b[32m[I 2021-12-10 14:32:14,111]\u001b[0m Trial 19 finished with value: 0.3283076872606138 and parameters: {'n_estimators': 110, 'subsample': 0.9239318054357577, 'max_depth': 15, 'max_features': 19, 'learning_rate': 0.09284764829847633, 'min_samples_leaf': 7}. Best is trial 12 with value: 0.33390160754165166.\u001b[0m\n"
     ]
    },
    {
     "name": "stdout",
     "output_type": "stream",
     "text": [
      "MCC: [0.3432049192451292, 0.3175850987462439, 0.32710652448159994, 0.32533420656948236]\n",
      "ROC: [0.8836959495118911, 0.8683206369665322, 0.8655942172577161, 0.8693065421348528]\n",
      "PR_AUC: [0.23122903092276811, 0.2160963234310595, 0.21229821471453036, 0.20350789823333337]\n"
     ]
    },
    {
     "name": "stderr",
     "output_type": "stream",
     "text": [
      "\u001b[32m[I 2021-12-10 14:32:19,629]\u001b[0m Trial 20 finished with value: 0.32404323514377664 and parameters: {'n_estimators': 144, 'subsample': 0.8355016970848046, 'max_depth': 5, 'max_features': 19, 'learning_rate': 0.11597741513850611, 'min_samples_leaf': 17}. Best is trial 12 with value: 0.33390160754165166.\u001b[0m\n"
     ]
    },
    {
     "name": "stdout",
     "output_type": "stream",
     "text": [
      "MCC: [0.33295698745060714, 0.32214248391336464, 0.31406286710264253, 0.32701060210849225]\n",
      "ROC: [0.8790331494002603, 0.8765429803688282, 0.8689970089978796, 0.8740835780925159]\n",
      "PR_AUC: [0.2280492050750762, 0.23876748518101573, 0.2152746136933956, 0.22231822265586992]\n"
     ]
    },
    {
     "name": "stderr",
     "output_type": "stream",
     "text": [
      "\u001b[32m[I 2021-12-10 14:32:22,217]\u001b[0m Trial 21 finished with value: 0.33027027457764635 and parameters: {'n_estimators': 96, 'subsample': 0.8564994809384565, 'max_depth': 3, 'max_features': 20, 'learning_rate': 0.08202589208971212, 'min_samples_leaf': 11}. Best is trial 12 with value: 0.33390160754165166.\u001b[0m\n"
     ]
    },
    {
     "name": "stdout",
     "output_type": "stream",
     "text": [
      "MCC: [0.3509207714976065, 0.3212819475895668, 0.3225850021081047, 0.3262933771153074]\n",
      "ROC: [0.8894059799893343, 0.8815912320708573, 0.8759881050837363, 0.8735232402039326]\n",
      "PR_AUC: [0.2508478857512608, 0.2611573507516366, 0.2341032314656386, 0.2259897747120648]\n"
     ]
    },
    {
     "name": "stderr",
     "output_type": "stream",
     "text": [
      "\u001b[32m[I 2021-12-10 14:32:24,033]\u001b[0m Trial 22 finished with value: 0.32914276143870225 and parameters: {'n_estimators': 60, 'subsample': 0.8668483140550334, 'max_depth': 3, 'max_features': 20, 'learning_rate': 0.08334208356942746, 'min_samples_leaf': 1}. Best is trial 12 with value: 0.33390160754165166.\u001b[0m\n"
     ]
    },
    {
     "name": "stdout",
     "output_type": "stream",
     "text": [
      "MCC: [0.35009721322138015, 0.31885288333368256, 0.3237236569345528, 0.3238972922651934]\n",
      "ROC: [0.884441997529752, 0.8801683989909006, 0.874806282693574, 0.8676490198232483]\n",
      "PR_AUC: [0.24192298006630064, 0.2615143634276929, 0.2374655434074323, 0.21861942366341264]\n"
     ]
    },
    {
     "name": "stderr",
     "output_type": "stream",
     "text": [
      "\u001b[32m[I 2021-12-10 14:32:35,707]\u001b[0m Trial 23 finished with value: 0.3272808914583817 and parameters: {'n_estimators': 121, 'subsample': 0.8847667467206112, 'max_depth': 20, 'max_features': 19, 'learning_rate': 0.0942433137579249, 'min_samples_leaf': 9}. Best is trial 12 with value: 0.33390160754165166.\u001b[0m\n"
     ]
    },
    {
     "name": "stdout",
     "output_type": "stream",
     "text": [
      "MCC: [0.34538176306802654, 0.3179507077250074, 0.32035458881926165, 0.3254365062212313]\n",
      "ROC: [0.8840482499647699, 0.8705955174389143, 0.8651969370037884, 0.8703090702191121]\n",
      "PR_AUC: [0.22947330901048357, 0.2122693186996103, 0.20682132583730034, 0.21765794264793922]\n"
     ]
    },
    {
     "name": "stderr",
     "output_type": "stream",
     "text": [
      "\u001b[32m[I 2021-12-10 14:32:39,248]\u001b[0m Trial 24 finished with value: 0.32817972028124953 and parameters: {'n_estimators': 101, 'subsample': 0.8551963642689071, 'max_depth': 5, 'max_features': 20, 'learning_rate': 0.0809593886171461, 'min_samples_leaf': 20}. Best is trial 12 with value: 0.33390160754165166.\u001b[0m\n"
     ]
    },
    {
     "name": "stdout",
     "output_type": "stream",
     "text": [
      "MCC: [0.3418141229028901, 0.3235876163049037, 0.31971090455694817, 0.3276062373602563]\n",
      "ROC: [0.8808146844355041, 0.8829916881485889, 0.8727756624043678, 0.8790126169299426]\n",
      "PR_AUC: [0.22639883440527078, 0.2702863426642678, 0.21640790789180112, 0.24068260403748162]\n",
      "CPU times: user 2min 25s, sys: 380 ms, total: 2min 26s\n",
      "Wall time: 2min 26s\n"
     ]
    }
   ],
   "source": [
    "%%time\n",
    "def create_model(trial):\n",
    "    n_estimators = trial.suggest_int('n_estimators', 10, 200)\n",
    "    subsample = trial.suggest_float('subsample', 0.8, 1.0)\n",
    "    max_depth = trial.suggest_int('max_depth',3,20)\n",
    "    max_features = trial.suggest_int('max_features',10,20)\n",
    "    learning_rate = trial.suggest_uniform('learning_rate',0.08,0.2)\n",
    "    min_samples_leaf = trial.suggest_int('min_samples_leaf',1,50)\n",
    "    model = GradientBoostingClassifier(n_estimators=n_estimators, subsample=subsample, \n",
    "                           max_depth=max_depth, learning_rate=learning_rate, \n",
    "                           min_samples_leaf=min_samples_leaf)\n",
    "#    model = GradientBoostingClassifier(n_estimators=n_estimators, subsample=subsample, \n",
    "#                           learning_rate=learning_rate, \n",
    "#                           min_samples_leaf=min_samples_leaf)\n",
    "#    model = GradientBoostingClassifier(n_estimators=n_estimators, learning_rate=learning_rate) \n",
    "    return model\n",
    "\n",
    "def objective(trial):\n",
    "    model = create_model(trial)\n",
    "    \n",
    "    mcc_list = []\n",
    "    roc_list = []\n",
    "    pr_list = []\n",
    "    f2_list = []\n",
    "    cv = StratifiedKFold(n_splits=4, shuffle=True, random_state=11)\n",
    "    for idx, (train_idx, test_idx) in enumerate(cv.split(X, y)):\n",
    "        X_train_c, X_test_c = X.iloc[train_idx], X.iloc[test_idx]\n",
    "        y_train_c, y_test_c = y[train_idx], y[test_idx]\n",
    "        sampler = RandomUnderSampler(sampling_strategy=1.0, random_state=7)\n",
    "        X_res, y_res = sampler.fit_resample(X_train_c, y_train_c)\n",
    "\n",
    "#        weights = class_weight.compute_sample_weight('balanced', y=y_train)\n",
    "#        model.fit(X_train, y_train, sample_weight=weights)\n",
    "        model.fit(X_res, y_res)\n",
    "        y_pred = model.predict(X_test_c)\n",
    "        probs = model.predict_proba(X_test_c)\n",
    "        prob1 = probs[:, 1]  # Only positives\n",
    "        precision, recall, pr_thresh = precision_recall_curve(y_test_c, prob1)\n",
    "        roc = roc_auc_score(y_test_c, prob1)\n",
    "        roc_list.append(roc)\n",
    "        mcc = matthews_corrcoef(y_test_c, y_pred)  # MWB\n",
    "        mcc_list.append(mcc)\n",
    "        f2 = fbeta_score(y_test_c, y_pred, beta=2.0, average=None)[1]\n",
    "        pr_auc = auc(recall, precision)\n",
    "        pr_list.append(pr_auc)\n",
    "        avg_precision = average_precision_score(y_test_c, prob1)\n",
    "#        print(f'ROC: {roc}')\n",
    "#        print(f'PR_AUC: {pr_auc}')\n",
    "#        print(f'avg_prec: {avg_precision}')\n",
    "        \n",
    "    print(f'MCC: {mcc_list}')\n",
    "    print(f'ROC: {roc_list}')\n",
    "    print(f'PR_AUC: {pr_list}')\n",
    "    return np.mean(mcc_list)\n",
    "\n",
    "sampler = TPESampler(seed=7)\n",
    "study = optuna.create_study(sampler=sampler,direction='maximize')\n",
    "#study.optimize(objective,n_trials=60)\n",
    "study.optimize(objective,n_trials=25)\n",
    "#study.optimize(objective,n_trials=5)"
   ]
  },
  {
   "cell_type": "code",
   "execution_count": 14,
   "metadata": {},
   "outputs": [
    {
     "data": {
      "text/plain": [
       "FrozenTrial(number=12, values=[0.33390160754165166], datetime_start=datetime.datetime(2021, 12, 10, 14, 31, 22, 259735), datetime_complete=datetime.datetime(2021, 12, 10, 14, 31, 25, 554835), params={'n_estimators': 129, 'subsample': 0.845528398647246, 'max_depth': 3, 'max_features': 20, 'learning_rate': 0.08006789436397342, 'min_samples_leaf': 10}, distributions={'n_estimators': IntUniformDistribution(high=200, low=10, step=1), 'subsample': UniformDistribution(high=1.0, low=0.8), 'max_depth': IntUniformDistribution(high=20, low=3, step=1), 'max_features': IntUniformDistribution(high=20, low=10, step=1), 'learning_rate': UniformDistribution(high=0.2, low=0.08), 'min_samples_leaf': IntUniformDistribution(high=50, low=1, step=1)}, user_attrs={}, system_attrs={}, intermediate_values={}, trial_id=12, state=TrialState.COMPLETE, value=None)"
      ]
     },
     "execution_count": 14,
     "metadata": {},
     "output_type": "execute_result"
    }
   ],
   "source": [
    "best = study.best_trial\n",
    "best"
   ]
  },
  {
   "cell_type": "code",
   "execution_count": 15,
   "metadata": {},
   "outputs": [
    {
     "name": "stdout",
     "output_type": "stream",
     "text": [
      "[[4477 1575]\n",
      " [  33  312]]\n",
      "              precision    recall  f1-score   support\n",
      "\n",
      "           0       0.99      0.74      0.85      6052\n",
      "           1       0.17      0.90      0.28       345\n",
      "\n",
      "    accuracy                           0.75      6397\n",
      "   macro avg       0.58      0.82      0.56      6397\n",
      "weighted avg       0.95      0.75      0.82      6397\n",
      "\n",
      "ROC AUC prob1: 0.8728847572248245\n",
      "MCC: 0.31903644411605014\n",
      "F2: 0.47750229568411384\n",
      "PR_AUC: 0.23795067997920405\n",
      "CPU times: user 233 ms, sys: 2.01 ms, total: 235 ms\n",
      "Wall time: 232 ms\n"
     ]
    }
   ],
   "source": [
    "%%time\n",
    "gb_params = study.best_params\n",
    "#gb_params['random_state'] = 42\n",
    "gb = GradientBoostingClassifier(**gb_params)\n",
    "gb.fit(X_rus, y_rus)\n",
    "y_pred = gb.predict(X_test)\n",
    "probs = gb.predict_proba(X_test)\n",
    "prob1 = probs[:, 1]  # Only positives\n",
    "precision, recall, pr_thresh = precision_recall_curve(y_test, prob1)\n",
    "print(confusion_matrix(y_pred=y_pred, y_true=y_test))\n",
    "print(classification_report(y_test, y_pred))\n",
    "print(f'ROC AUC prob1: {roc_auc_score(y_test, prob1)}')\n",
    "print(f'MCC: {matthews_corrcoef(y_test, y_pred)}')\n",
    "print(f'F2: {fbeta_score(y_test, y_pred, beta=2.0, average=None)[1]}')\n",
    "print(f'PR_AUC: {auc(recall, precision)}')"
   ]
  },
  {
   "cell_type": "code",
   "execution_count": 16,
   "metadata": {},
   "outputs": [
    {
     "name": "stdout",
     "output_type": "stream",
     "text": [
      "[[4441 1611]\n",
      " [  33  312]]\n",
      "              precision    recall  f1-score   support\n",
      "\n",
      "           0       0.99      0.73      0.84      6052\n",
      "           1       0.16      0.90      0.28       345\n",
      "\n",
      "    accuracy                           0.74      6397\n",
      "   macro avg       0.58      0.82      0.56      6397\n",
      "weighted avg       0.95      0.74      0.81      6397\n",
      "\n",
      "ROC AUC prob1: 0.8703842064427137\n",
      "MCC: 0.31437459088501823\n",
      "F2: 0.47229791099000906\n",
      "PR_AUC: 0.2256715279314253\n",
      "CPU times: user 1.1 s, sys: 3.98 ms, total: 1.1 s\n",
      "Wall time: 1.1 s\n"
     ]
    }
   ],
   "source": [
    "%%time\n",
    "gb_params = study.best_params\n",
    "gb_params['random_state'] = 42\n",
    "gb_weight = GradientBoostingClassifier(**gb_params)\n",
    "weights = class_weight.compute_sample_weight('balanced', y=y_train)\n",
    "gb_weight.fit(X_train, y_train, sample_weight=weights)\n",
    "y_pred = gb_weight.predict(X_test)\n",
    "probs = gb_weight.predict_proba(X_test)\n",
    "prob1 = probs[:, 1]  # Only positives\n",
    "precision, recall, pr_thresh = precision_recall_curve(y_test, prob1)\n",
    "print(confusion_matrix(y_pred=y_pred, y_true=y_test))\n",
    "print(classification_report(y_test, y_pred))\n",
    "print(f'ROC AUC prob1: {roc_auc_score(y_test, prob1)}')\n",
    "print(f'MCC: {matthews_corrcoef(y_test, y_pred)}')\n",
    "print(f'F2: {fbeta_score(y_test, y_pred, beta=2.0, average=None)[1]}')\n",
    "print(f'PR_AUC: {auc(recall, precision)}')"
   ]
  },
  {
   "cell_type": "code",
   "execution_count": 17,
   "metadata": {},
   "outputs": [
    {
     "data": {
      "text/plain": [
       "Delmode         0.358040\n",
       "Hxanemia        0.095787\n",
       "Delfetalpos     0.079318\n",
       "Lac_Min         0.053093\n",
       "Admefface       0.052234\n",
       "TrialLabor      0.043442\n",
       "Lac_None        0.033449\n",
       "transfus_yes    0.019314\n",
       "uscar           0.017466\n",
       "CS_FTP          0.015495\n",
       "BESTGA          0.012806\n",
       "Intrafever      0.012616\n",
       "Admcervpos      0.012163\n",
       "CS_UScar        0.012133\n",
       "Admpresent      0.011141\n",
       "new_age         0.011053\n",
       "CS_NRFHT        0.008042\n",
       "new_BMI         0.006668\n",
       "AdmSBP          0.006603\n",
       "AdmDBP          0.006562\n",
       "dtype: float64"
      ]
     },
     "execution_count": 17,
     "metadata": {},
     "output_type": "execute_result"
    }
   ],
   "source": [
    "# No Sitenum - 5\n",
    "coeffs_wgt = pd.Series(data=gb_weight.feature_importances_,\n",
    "                   index=X_test.columns.values).sort_values(ascending=False)\n",
    "coeffs_wgt[0:20]"
   ]
  },
  {
   "cell_type": "code",
   "execution_count": 1,
   "metadata": {},
   "outputs": [
    {
     "ename": "NameError",
     "evalue": "name 'plt' is not defined",
     "output_type": "error",
     "traceback": [
      "\u001b[0;31m---------------------------------------------------------------------------\u001b[0m",
      "\u001b[0;31mNameError\u001b[0m                                 Traceback (most recent call last)",
      "\u001b[0;32m<ipython-input-1-163c23260408>\u001b[0m in \u001b[0;36m<module>\u001b[0;34m\u001b[0m\n\u001b[0;32m----> 1\u001b[0;31m \u001b[0mplt\u001b[0m\u001b[0;34m.\u001b[0m\u001b[0mrcParams\u001b[0m\u001b[0;34m[\u001b[0m\u001b[0;34m\"figure.figsize\"\u001b[0m\u001b[0;34m]\u001b[0m \u001b[0;34m=\u001b[0m \u001b[0;34m(\u001b[0m\u001b[0;36m14\u001b[0m\u001b[0;34m,\u001b[0m \u001b[0;36m8\u001b[0m\u001b[0;34m)\u001b[0m\u001b[0;34m\u001b[0m\u001b[0;34m\u001b[0m\u001b[0m\n\u001b[0m\u001b[1;32m      2\u001b[0m \u001b[0mx_labels\u001b[0m \u001b[0;34m=\u001b[0m \u001b[0mcoeffs_wgt\u001b[0m\u001b[0;34m.\u001b[0m\u001b[0mindex\u001b[0m\u001b[0;34m.\u001b[0m\u001b[0mvalues\u001b[0m\u001b[0;34m[\u001b[0m\u001b[0;36m0\u001b[0m\u001b[0;34m:\u001b[0m\u001b[0;36m25\u001b[0m\u001b[0;34m]\u001b[0m\u001b[0;34m\u001b[0m\u001b[0;34m\u001b[0m\u001b[0m\n\u001b[1;32m      3\u001b[0m \u001b[0mprint\u001b[0m\u001b[0;34m(\u001b[0m\u001b[0mx_labels\u001b[0m\u001b[0;34m)\u001b[0m\u001b[0;34m\u001b[0m\u001b[0;34m\u001b[0m\u001b[0m\n\u001b[1;32m      4\u001b[0m \u001b[0mfig\u001b[0m\u001b[0;34m,\u001b[0m \u001b[0max\u001b[0m \u001b[0;34m=\u001b[0m \u001b[0mplt\u001b[0m\u001b[0;34m.\u001b[0m\u001b[0msubplots\u001b[0m\u001b[0;34m(\u001b[0m\u001b[0;36m1\u001b[0m\u001b[0;34m,\u001b[0m\u001b[0;36m1\u001b[0m\u001b[0;34m)\u001b[0m  \u001b[0;31m# Create a figure and an axes.\u001b[0m\u001b[0;34m\u001b[0m\u001b[0;34m\u001b[0m\u001b[0m\n\u001b[1;32m      5\u001b[0m \u001b[0max\u001b[0m\u001b[0;34m.\u001b[0m\u001b[0mset_title\u001b[0m\u001b[0;34m(\u001b[0m\u001b[0;34m'Top Predictors: All Sites combined; target: High_EBLoss, vars: PI'\u001b[0m\u001b[0;34m)\u001b[0m\u001b[0;34m\u001b[0m\u001b[0;34m\u001b[0m\u001b[0m\n",
      "\u001b[0;31mNameError\u001b[0m: name 'plt' is not defined"
     ]
    }
   ],
   "source": [
    "plt.rcParams[\"figure.figsize\"] = (14, 8)\n",
    "x_labels = coeffs_wgt.index.values[0:25]\n",
    "print(x_labels)\n",
    "fig, ax = plt.subplots(1,1)  # Create a figure and an axes.\n",
    "ax.set_title('Top Predictors: All Sites combined; target: High_EBLoss, vars: PI')\n",
    "ax.bar(x_labels, coeffs_wgt.values[0:25])\n",
    "ax.set_ylabel('Coeff')\n",
    "ax.set_xlabel('Variable')\n",
    "plt.draw()\n",
    "ax.set_xticklabels(ax.get_xticklabels(), rotation=90, fontsize=16)\n",
    "#plt.xlim(1,20)\n",
    "plt.show()"
   ]
  },
  {
   "cell_type": "code",
   "execution_count": 19,
   "metadata": {},
   "outputs": [
    {
     "data": {
      "text/plain": [
       "Delmode         0.296163\n",
       "Lac_None        0.082153\n",
       "Hxanemia        0.074459\n",
       "Lac_Min         0.067637\n",
       "CS_FTP          0.058739\n",
       "Admpresent      0.046754\n",
       "Delfetalpos     0.036141\n",
       "Intrafever      0.025021\n",
       "Admefface       0.024864\n",
       "new_age         0.023217\n",
       "AdmDBP          0.019894\n",
       "BESTGA          0.018348\n",
       "uscar           0.018166\n",
       "Dilat_lst       0.017962\n",
       "prelaborCD      0.017912\n",
       "transfus_yes    0.014563\n",
       "AdmSBP          0.011502\n",
       "Anteanemia      0.009878\n",
       "CS_NRFHT        0.009177\n",
       "Admreason       0.007574\n",
       "dtype: float64"
      ]
     },
     "execution_count": 19,
     "metadata": {},
     "output_type": "execute_result"
    }
   ],
   "source": [
    "# No Sitenum - 5\n",
    "coeffs = pd.Series(data=gb.feature_importances_,\n",
    "                   index=X_test.columns.values).sort_values(ascending=False)\n",
    "coeffs[0:20]"
   ]
  },
  {
   "cell_type": "code",
   "execution_count": 21,
   "metadata": {},
   "outputs": [
    {
     "data": {
      "text/plain": [
       "{'n_estimators': 129,\n",
       " 'subsample': 0.845528398647246,\n",
       " 'max_depth': 3,\n",
       " 'max_features': 20,\n",
       " 'learning_rate': 0.08006789436397342,\n",
       " 'min_samples_leaf': 10,\n",
       " 'random_state': 42}"
      ]
     },
     "execution_count": 21,
     "metadata": {},
     "output_type": "execute_result"
    }
   ],
   "source": [
    "gb_params # 5 runs"
   ]
  },
  {
   "cell_type": "code",
   "execution_count": 2,
   "metadata": {},
   "outputs": [
    {
     "ename": "NameError",
     "evalue": "name 'study' is not defined",
     "output_type": "error",
     "traceback": [
      "\u001b[0;31m---------------------------------------------------------------------------\u001b[0m",
      "\u001b[0;31mNameError\u001b[0m                                 Traceback (most recent call last)",
      "\u001b[0;32m<ipython-input-2-bf9f527b858c>\u001b[0m in \u001b[0;36m<module>\u001b[0;34m\u001b[0m\n\u001b[1;32m      3\u001b[0m \u001b[0mplotly_config\u001b[0m \u001b[0;34m=\u001b[0m \u001b[0;34m{\u001b[0m\u001b[0;34m\"staticPlot\"\u001b[0m\u001b[0;34m:\u001b[0m \u001b[0;32mTrue\u001b[0m\u001b[0;34m}\u001b[0m\u001b[0;34m\u001b[0m\u001b[0;34m\u001b[0m\u001b[0m\n\u001b[1;32m      4\u001b[0m \u001b[0;34m\u001b[0m\u001b[0m\n\u001b[0;32m----> 5\u001b[0;31m \u001b[0mfig\u001b[0m \u001b[0;34m=\u001b[0m \u001b[0mplot_optimization_history\u001b[0m\u001b[0;34m(\u001b[0m\u001b[0mstudy\u001b[0m\u001b[0;34m)\u001b[0m\u001b[0;34m\u001b[0m\u001b[0;34m\u001b[0m\u001b[0m\n\u001b[0m\u001b[1;32m      6\u001b[0m \u001b[0mfig\u001b[0m\u001b[0;34m.\u001b[0m\u001b[0mshow\u001b[0m\u001b[0;34m(\u001b[0m\u001b[0mconfig\u001b[0m\u001b[0;34m=\u001b[0m\u001b[0mplotly_config\u001b[0m\u001b[0;34m)\u001b[0m\u001b[0;34m\u001b[0m\u001b[0;34m\u001b[0m\u001b[0m\n",
      "\u001b[0;31mNameError\u001b[0m: name 'study' is not defined"
     ]
    }
   ],
   "source": [
    "from optuna.visualization import plot_optimization_history\n",
    "\n",
    "plotly_config = {\"staticPlot\": True}\n",
    "\n",
    "fig = plot_optimization_history(study)\n",
    "fig.show(config=plotly_config)"
   ]
  },
  {
   "cell_type": "code",
   "execution_count": null,
   "metadata": {},
   "outputs": [],
   "source": [
    "from optuna.visualization import plot_param_importances\n",
    "\n",
    "fig = plot_param_importances(study)\n",
    "fig.show(config=plotly_config)"
   ]
  },
  {
   "cell_type": "code",
   "execution_count": 24,
   "metadata": {},
   "outputs": [
    {
     "data": {
      "text/plain": [
       "0.3155208505596307"
      ]
     },
     "execution_count": 24,
     "metadata": {},
     "output_type": "execute_result"
    }
   ],
   "source": [
    "np.mean([0.3149689279176914, 0.31449457458602254, 0.31066798538596907, 0.3219519143488398])"
   ]
  },
  {
   "cell_type": "markdown",
   "metadata": {},
   "source": [
    "<h1 align='center'>Thanks and make sure to learn!</h1>"
   ]
  }
 ],
 "metadata": {
  "kernelspec": {
   "display_name": "Python 3",
   "language": "python",
   "name": "python3"
  },
  "language_info": {
   "codemirror_mode": {
    "name": "ipython",
    "version": 3
   },
   "file_extension": ".py",
   "mimetype": "text/x-python",
   "name": "python",
   "nbconvert_exporter": "python",
   "pygments_lexer": "ipython3",
   "version": "3.7.9"
  }
 },
 "nbformat": 4,
 "nbformat_minor": 4
}
