{
 "cells": [
  {
   "cell_type": "markdown",
   "metadata": {},
   "source": [
    "<h1 align='center'>Welcome to my Notebook</h1>"
   ]
  },
  {
   "cell_type": "code",
   "execution_count": 1,
   "metadata": {
    "_cell_guid": "b1076dfc-b9ad-4769-8c92-a6c4dae69d19",
    "_uuid": "8f2839f25d086af736a60e9eeb907d3b93b6e0e5"
   },
   "outputs": [],
   "source": [
    "import numpy as np \n",
    "import pandas as pd \n",
    "\n",
    "import matplotlib.pyplot as plt\n",
    "#import plotly.express as px\n",
    "import seaborn as sns\n",
    "\n",
    "from lightgbm import LGBMClassifier\n",
    "\n",
    "from sklearn.model_selection import StratifiedKFold,KFold\n",
    "from collections import Counter\n",
    "from imblearn.under_sampling import RandomUnderSampler\n",
    "from sklearn.metrics import classification_report, roc_auc_score, confusion_matrix, \\\n",
    "                            accuracy_score, f1_score, average_precision_score, \\\n",
    "                            fbeta_score, precision_recall_curve, auc\n",
    "from sklearn.metrics import matthews_corrcoef\n",
    "\n",
    "from sklearn.model_selection import train_test_split\n",
    "\n",
    "import optuna\n",
    "from optuna.samplers import TPESampler\n",
    "sns.set(style='white', context='notebook', palette='deep')\n",
    "%config Completer.use_jedi = False"
   ]
  },
  {
   "cell_type": "code",
   "execution_count": 15,
   "metadata": {},
   "outputs": [],
   "source": [
    "csl_df = pd.read_csv('../../data/csl/CSL_tytl_PI.csv', index_col=0)\n",
    "X = csl_df.drop(['trans_loss', 'transfus_yes'], axis=1, inplace=False)\n",
    "y = csl_df['trans_loss'].values\n",
    "\n",
    "X_train, X_test, y_train, y_test = train_test_split(X, y, test_size=0.3, stratify=y,\n",
    "                                                    random_state=7)"
   ]
  },
  {
   "cell_type": "markdown",
   "metadata": {},
   "source": [
    "<h1 align='center'>Exploratory Data Analysis</h1>"
   ]
  },
  {
   "cell_type": "code",
   "execution_count": 16,
   "metadata": {
    "_cell_guid": "79c7e3d0-c299-4dcb-8224-4455121ee9b0",
    "_uuid": "d629ff2d2480ee46fbb7e2d37f6b5fab8052498a"
   },
   "outputs": [
    {
     "data": {
      "text/html": [
       "<div>\n",
       "<style scoped>\n",
       "    .dataframe tbody tr th:only-of-type {\n",
       "        vertical-align: middle;\n",
       "    }\n",
       "\n",
       "    .dataframe tbody tr th {\n",
       "        vertical-align: top;\n",
       "    }\n",
       "\n",
       "    .dataframe thead th {\n",
       "        text-align: right;\n",
       "    }\n",
       "</style>\n",
       "<table border=\"1\" class=\"dataframe\">\n",
       "  <thead>\n",
       "    <tr style=\"text-align: right;\">\n",
       "      <th></th>\n",
       "      <th>Accrete</th>\n",
       "      <th>AdmBishop</th>\n",
       "      <th>Admcervpos</th>\n",
       "      <th>Admconsistency</th>\n",
       "      <th>Admcontract</th>\n",
       "      <th>AdmDBP</th>\n",
       "      <th>Admefface</th>\n",
       "      <th>Admpresent</th>\n",
       "      <th>AdmSBP</th>\n",
       "      <th>Analgesia</th>\n",
       "      <th>...</th>\n",
       "      <th>ThreatenedPB</th>\n",
       "      <th>threatpb9</th>\n",
       "      <th>UnspecHBP</th>\n",
       "      <th>uscar</th>\n",
       "      <th>version9</th>\n",
       "      <th>new_age</th>\n",
       "      <th>new_BMI</th>\n",
       "      <th>new_high_Age</th>\n",
       "      <th>new_high_BMI</th>\n",
       "      <th>Sitenum</th>\n",
       "    </tr>\n",
       "    <tr>\n",
       "      <th>MomID</th>\n",
       "      <th></th>\n",
       "      <th></th>\n",
       "      <th></th>\n",
       "      <th></th>\n",
       "      <th></th>\n",
       "      <th></th>\n",
       "      <th></th>\n",
       "      <th></th>\n",
       "      <th></th>\n",
       "      <th></th>\n",
       "      <th></th>\n",
       "      <th></th>\n",
       "      <th></th>\n",
       "      <th></th>\n",
       "      <th></th>\n",
       "      <th></th>\n",
       "      <th></th>\n",
       "      <th></th>\n",
       "      <th></th>\n",
       "      <th></th>\n",
       "      <th></th>\n",
       "    </tr>\n",
       "  </thead>\n",
       "  <tbody>\n",
       "    <tr>\n",
       "      <th>41-00002</th>\n",
       "      <td>0</td>\n",
       "      <td>8</td>\n",
       "      <td>8</td>\n",
       "      <td>8</td>\n",
       "      <td>99.0</td>\n",
       "      <td>83</td>\n",
       "      <td>0.0</td>\n",
       "      <td>77</td>\n",
       "      <td>150.0</td>\n",
       "      <td>7</td>\n",
       "      <td>...</td>\n",
       "      <td>0</td>\n",
       "      <td>0</td>\n",
       "      <td>0</td>\n",
       "      <td>1</td>\n",
       "      <td>0</td>\n",
       "      <td>37</td>\n",
       "      <td>33</td>\n",
       "      <td>1</td>\n",
       "      <td>1</td>\n",
       "      <td>41</td>\n",
       "    </tr>\n",
       "    <tr>\n",
       "      <th>41-00003</th>\n",
       "      <td>0</td>\n",
       "      <td>6</td>\n",
       "      <td>3</td>\n",
       "      <td>2</td>\n",
       "      <td>2.9</td>\n",
       "      <td>77</td>\n",
       "      <td>70.0</td>\n",
       "      <td>1</td>\n",
       "      <td>105.0</td>\n",
       "      <td>8</td>\n",
       "      <td>...</td>\n",
       "      <td>0</td>\n",
       "      <td>0</td>\n",
       "      <td>0</td>\n",
       "      <td>0</td>\n",
       "      <td>0</td>\n",
       "      <td>36</td>\n",
       "      <td>22</td>\n",
       "      <td>1</td>\n",
       "      <td>1</td>\n",
       "      <td>41</td>\n",
       "    </tr>\n",
       "    <tr>\n",
       "      <th>41-00004</th>\n",
       "      <td>0</td>\n",
       "      <td>5</td>\n",
       "      <td>3</td>\n",
       "      <td>2</td>\n",
       "      <td>3.3</td>\n",
       "      <td>65</td>\n",
       "      <td>70.0</td>\n",
       "      <td>1</td>\n",
       "      <td>122.0</td>\n",
       "      <td>8</td>\n",
       "      <td>...</td>\n",
       "      <td>0</td>\n",
       "      <td>0</td>\n",
       "      <td>0</td>\n",
       "      <td>0</td>\n",
       "      <td>0</td>\n",
       "      <td>34</td>\n",
       "      <td>31</td>\n",
       "      <td>1</td>\n",
       "      <td>1</td>\n",
       "      <td>41</td>\n",
       "    </tr>\n",
       "    <tr>\n",
       "      <th>41-00005</th>\n",
       "      <td>0</td>\n",
       "      <td>11</td>\n",
       "      <td>2</td>\n",
       "      <td>3</td>\n",
       "      <td>4.0</td>\n",
       "      <td>77</td>\n",
       "      <td>80.0</td>\n",
       "      <td>77</td>\n",
       "      <td>138.0</td>\n",
       "      <td>8</td>\n",
       "      <td>...</td>\n",
       "      <td>0</td>\n",
       "      <td>0</td>\n",
       "      <td>0</td>\n",
       "      <td>0</td>\n",
       "      <td>0</td>\n",
       "      <td>31</td>\n",
       "      <td>21</td>\n",
       "      <td>1</td>\n",
       "      <td>1</td>\n",
       "      <td>41</td>\n",
       "    </tr>\n",
       "    <tr>\n",
       "      <th>41-00006</th>\n",
       "      <td>0</td>\n",
       "      <td>11</td>\n",
       "      <td>1</td>\n",
       "      <td>3</td>\n",
       "      <td>5.0</td>\n",
       "      <td>98</td>\n",
       "      <td>100.0</td>\n",
       "      <td>77</td>\n",
       "      <td>134.0</td>\n",
       "      <td>8</td>\n",
       "      <td>...</td>\n",
       "      <td>0</td>\n",
       "      <td>0</td>\n",
       "      <td>0</td>\n",
       "      <td>0</td>\n",
       "      <td>0</td>\n",
       "      <td>21</td>\n",
       "      <td>22</td>\n",
       "      <td>1</td>\n",
       "      <td>1</td>\n",
       "      <td>41</td>\n",
       "    </tr>\n",
       "    <tr>\n",
       "      <th>...</th>\n",
       "      <td>...</td>\n",
       "      <td>...</td>\n",
       "      <td>...</td>\n",
       "      <td>...</td>\n",
       "      <td>...</td>\n",
       "      <td>...</td>\n",
       "      <td>...</td>\n",
       "      <td>...</td>\n",
       "      <td>...</td>\n",
       "      <td>...</td>\n",
       "      <td>...</td>\n",
       "      <td>...</td>\n",
       "      <td>...</td>\n",
       "      <td>...</td>\n",
       "      <td>...</td>\n",
       "      <td>...</td>\n",
       "      <td>...</td>\n",
       "      <td>...</td>\n",
       "      <td>...</td>\n",
       "      <td>...</td>\n",
       "      <td>...</td>\n",
       "    </tr>\n",
       "    <tr>\n",
       "      <th>52-07247</th>\n",
       "      <td>0</td>\n",
       "      <td>8</td>\n",
       "      <td>8</td>\n",
       "      <td>8</td>\n",
       "      <td>77.0</td>\n",
       "      <td>74</td>\n",
       "      <td>70.0</td>\n",
       "      <td>1</td>\n",
       "      <td>124.4</td>\n",
       "      <td>5</td>\n",
       "      <td>...</td>\n",
       "      <td>0</td>\n",
       "      <td>0</td>\n",
       "      <td>0</td>\n",
       "      <td>0</td>\n",
       "      <td>0</td>\n",
       "      <td>19</td>\n",
       "      <td>38</td>\n",
       "      <td>0</td>\n",
       "      <td>1</td>\n",
       "      <td>52</td>\n",
       "    </tr>\n",
       "    <tr>\n",
       "      <th>52-07248</th>\n",
       "      <td>0</td>\n",
       "      <td>8</td>\n",
       "      <td>8</td>\n",
       "      <td>8</td>\n",
       "      <td>99.0</td>\n",
       "      <td>74</td>\n",
       "      <td>0.0</td>\n",
       "      <td>2</td>\n",
       "      <td>124.4</td>\n",
       "      <td>5</td>\n",
       "      <td>...</td>\n",
       "      <td>0</td>\n",
       "      <td>0</td>\n",
       "      <td>0</td>\n",
       "      <td>1</td>\n",
       "      <td>0</td>\n",
       "      <td>34</td>\n",
       "      <td>24</td>\n",
       "      <td>1</td>\n",
       "      <td>1</td>\n",
       "      <td>52</td>\n",
       "    </tr>\n",
       "    <tr>\n",
       "      <th>52-07249</th>\n",
       "      <td>0</td>\n",
       "      <td>8</td>\n",
       "      <td>8</td>\n",
       "      <td>8</td>\n",
       "      <td>66.0</td>\n",
       "      <td>74</td>\n",
       "      <td>0.0</td>\n",
       "      <td>77</td>\n",
       "      <td>124.4</td>\n",
       "      <td>9</td>\n",
       "      <td>...</td>\n",
       "      <td>0</td>\n",
       "      <td>0</td>\n",
       "      <td>0</td>\n",
       "      <td>1</td>\n",
       "      <td>0</td>\n",
       "      <td>28</td>\n",
       "      <td>23</td>\n",
       "      <td>1</td>\n",
       "      <td>1</td>\n",
       "      <td>52</td>\n",
       "    </tr>\n",
       "    <tr>\n",
       "      <th>52-07250</th>\n",
       "      <td>0</td>\n",
       "      <td>8</td>\n",
       "      <td>8</td>\n",
       "      <td>8</td>\n",
       "      <td>66.0</td>\n",
       "      <td>74</td>\n",
       "      <td>90.0</td>\n",
       "      <td>1</td>\n",
       "      <td>124.4</td>\n",
       "      <td>5</td>\n",
       "      <td>...</td>\n",
       "      <td>0</td>\n",
       "      <td>0</td>\n",
       "      <td>0</td>\n",
       "      <td>0</td>\n",
       "      <td>0</td>\n",
       "      <td>16</td>\n",
       "      <td>23</td>\n",
       "      <td>0</td>\n",
       "      <td>1</td>\n",
       "      <td>52</td>\n",
       "    </tr>\n",
       "    <tr>\n",
       "      <th>52-07251</th>\n",
       "      <td>0</td>\n",
       "      <td>8</td>\n",
       "      <td>8</td>\n",
       "      <td>8</td>\n",
       "      <td>66.0</td>\n",
       "      <td>74</td>\n",
       "      <td>100.0</td>\n",
       "      <td>1</td>\n",
       "      <td>124.4</td>\n",
       "      <td>5</td>\n",
       "      <td>...</td>\n",
       "      <td>0</td>\n",
       "      <td>0</td>\n",
       "      <td>0</td>\n",
       "      <td>0</td>\n",
       "      <td>0</td>\n",
       "      <td>44</td>\n",
       "      <td>29</td>\n",
       "      <td>2</td>\n",
       "      <td>1</td>\n",
       "      <td>52</td>\n",
       "    </tr>\n",
       "  </tbody>\n",
       "</table>\n",
       "<p>185413 rows × 195 columns</p>\n",
       "</div>"
      ],
      "text/plain": [
       "          Accrete  AdmBishop  Admcervpos  Admconsistency  Admcontract  AdmDBP  \\\n",
       "MomID                                                                           \n",
       "41-00002        0          8           8               8         99.0      83   \n",
       "41-00003        0          6           3               2          2.9      77   \n",
       "41-00004        0          5           3               2          3.3      65   \n",
       "41-00005        0         11           2               3          4.0      77   \n",
       "41-00006        0         11           1               3          5.0      98   \n",
       "...           ...        ...         ...             ...          ...     ...   \n",
       "52-07247        0          8           8               8         77.0      74   \n",
       "52-07248        0          8           8               8         99.0      74   \n",
       "52-07249        0          8           8               8         66.0      74   \n",
       "52-07250        0          8           8               8         66.0      74   \n",
       "52-07251        0          8           8               8         66.0      74   \n",
       "\n",
       "          Admefface  Admpresent  AdmSBP  Analgesia  ...  ThreatenedPB  \\\n",
       "MomID                                               ...                 \n",
       "41-00002        0.0          77   150.0          7  ...             0   \n",
       "41-00003       70.0           1   105.0          8  ...             0   \n",
       "41-00004       70.0           1   122.0          8  ...             0   \n",
       "41-00005       80.0          77   138.0          8  ...             0   \n",
       "41-00006      100.0          77   134.0          8  ...             0   \n",
       "...             ...         ...     ...        ...  ...           ...   \n",
       "52-07247       70.0           1   124.4          5  ...             0   \n",
       "52-07248        0.0           2   124.4          5  ...             0   \n",
       "52-07249        0.0          77   124.4          9  ...             0   \n",
       "52-07250       90.0           1   124.4          5  ...             0   \n",
       "52-07251      100.0           1   124.4          5  ...             0   \n",
       "\n",
       "          threatpb9  UnspecHBP  uscar  version9  new_age  new_BMI  \\\n",
       "MomID                                                               \n",
       "41-00002          0          0      1         0       37       33   \n",
       "41-00003          0          0      0         0       36       22   \n",
       "41-00004          0          0      0         0       34       31   \n",
       "41-00005          0          0      0         0       31       21   \n",
       "41-00006          0          0      0         0       21       22   \n",
       "...             ...        ...    ...       ...      ...      ...   \n",
       "52-07247          0          0      0         0       19       38   \n",
       "52-07248          0          0      1         0       34       24   \n",
       "52-07249          0          0      1         0       28       23   \n",
       "52-07250          0          0      0         0       16       23   \n",
       "52-07251          0          0      0         0       44       29   \n",
       "\n",
       "          new_high_Age  new_high_BMI  Sitenum  \n",
       "MomID                                          \n",
       "41-00002             1             1       41  \n",
       "41-00003             1             1       41  \n",
       "41-00004             1             1       41  \n",
       "41-00005             1             1       41  \n",
       "41-00006             1             1       41  \n",
       "...                ...           ...      ...  \n",
       "52-07247             0             1       52  \n",
       "52-07248             1             1       52  \n",
       "52-07249             1             1       52  \n",
       "52-07250             0             1       52  \n",
       "52-07251             2             1       52  \n",
       "\n",
       "[185413 rows x 195 columns]"
      ]
     },
     "execution_count": 16,
     "metadata": {},
     "output_type": "execute_result"
    }
   ],
   "source": [
    "X"
   ]
  },
  {
   "cell_type": "code",
   "execution_count": 17,
   "metadata": {},
   "outputs": [
    {
     "name": "stdout",
     "output_type": "stream",
     "text": [
      "<class 'pandas.core.frame.DataFrame'>\n",
      "Index: 185413 entries, 41-00002 to 52-07251\n",
      "Columns: 197 entries, transfus_yes to Sitenum\n",
      "dtypes: float64(4), int64(193)\n",
      "memory usage: 280.1+ MB\n"
     ]
    }
   ],
   "source": [
    "csl_df.info()"
   ]
  },
  {
   "cell_type": "code",
   "execution_count": 18,
   "metadata": {},
   "outputs": [
    {
     "data": {
      "text/plain": [
       "Accrete           40.650960\n",
       "AdmBishop         -1.136977\n",
       "Admcervpos        -0.455299\n",
       "Admconsistency    -0.407357\n",
       "Admcontract        0.231978\n",
       "                    ...    \n",
       "new_age            0.232310\n",
       "new_BMI            2.086880\n",
       "new_high_Age      -0.673167\n",
       "new_high_BMI      -0.549007\n",
       "Sitenum           -0.027123\n",
       "Length: 195, dtype: float64"
      ]
     },
     "execution_count": 18,
     "metadata": {},
     "output_type": "execute_result"
    }
   ],
   "source": [
    "X.skew()"
   ]
  },
  {
   "cell_type": "markdown",
   "metadata": {},
   "source": [
    "<h1 align='center'>Categorical Features Data Analysis</h1>"
   ]
  },
  {
   "cell_type": "code",
   "execution_count": 19,
   "metadata": {},
   "outputs": [
    {
     "name": "stdout",
     "output_type": "stream",
     "text": [
      "0.0558\n",
      "0.0558\n"
     ]
    }
   ],
   "source": [
    "%precision %.3f\n",
    "#np.set_printoptions(precision=3)\n",
    "print(f'{np.bincount(y)[1]/len(y):.4f}')\n",
    "print(f'{np.bincount(y_train)[1]/len(y_train):.4f}')"
   ]
  },
  {
   "cell_type": "code",
   "execution_count": 1,
   "metadata": {},
   "outputs": [
    {
     "ename": "NameError",
     "evalue": "name 'plt' is not defined",
     "output_type": "error",
     "traceback": [
      "\u001b[0;31m---------------------------------------------------------------------------\u001b[0m",
      "\u001b[0;31mNameError\u001b[0m                                 Traceback (most recent call last)",
      "\u001b[0;32m<ipython-input-1-6d6b8e17b55d>\u001b[0m in \u001b[0;36m<module>\u001b[0;34m\u001b[0m\n\u001b[0;32m----> 1\u001b[0;31m \u001b[0mfig1\u001b[0m\u001b[0;34m,\u001b[0m \u001b[0max1\u001b[0m \u001b[0;34m=\u001b[0m \u001b[0mplt\u001b[0m\u001b[0;34m.\u001b[0m\u001b[0msubplots\u001b[0m\u001b[0;34m(\u001b[0m\u001b[0;34m)\u001b[0m\u001b[0;34m\u001b[0m\u001b[0;34m\u001b[0m\u001b[0m\n\u001b[0m\u001b[1;32m      2\u001b[0m \u001b[0max1\u001b[0m\u001b[0;34m.\u001b[0m\u001b[0mpie\u001b[0m\u001b[0;34m(\u001b[0m\u001b[0mcsl_df\u001b[0m\u001b[0;34m[\u001b[0m\u001b[0;34m'trans_loss'\u001b[0m\u001b[0;34m]\u001b[0m\u001b[0;34m.\u001b[0m\u001b[0mvalue_counts\u001b[0m\u001b[0;34m(\u001b[0m\u001b[0;34m)\u001b[0m\u001b[0;34m,\u001b[0m \u001b[0mlabels\u001b[0m\u001b[0;34m=\u001b[0m\u001b[0;34m[\u001b[0m\u001b[0;34m'No'\u001b[0m\u001b[0;34m,\u001b[0m\u001b[0;34m'Yes'\u001b[0m\u001b[0;34m]\u001b[0m\u001b[0;34m,\u001b[0m \u001b[0mautopct\u001b[0m\u001b[0;34m=\u001b[0m\u001b[0;34m'%1.1f%%'\u001b[0m\u001b[0;34m)\u001b[0m\u001b[0;34m\u001b[0m\u001b[0;34m\u001b[0m\u001b[0m\n\u001b[1;32m      3\u001b[0m \u001b[0mplt\u001b[0m\u001b[0;34m.\u001b[0m\u001b[0mshow\u001b[0m\u001b[0;34m(\u001b[0m\u001b[0;34m)\u001b[0m\u001b[0;34m\u001b[0m\u001b[0;34m\u001b[0m\u001b[0m\n",
      "\u001b[0;31mNameError\u001b[0m: name 'plt' is not defined"
     ]
    }
   ],
   "source": [
    "fig1, ax1 = plt.subplots()\n",
    "ax1.pie(csl_df['trans_loss'].value_counts(), labels=['No','Yes'], autopct='%1.1f%%')\n",
    "plt.show()"
   ]
  },
  {
   "cell_type": "code",
   "execution_count": 10,
   "metadata": {},
   "outputs": [],
   "source": [
    "#fig = px.pie(train,values=train['Response'].value_counts(),names=['Class 0','Class 1'],hole=0.6,labels={0:'Response = 0'},color_discrete_sequence=px.colors.sequential.Sunset)\n",
    "#fig.show(showlegend=True)\n",
    "#plt.show()"
   ]
  },
  {
   "cell_type": "code",
   "execution_count": 11,
   "metadata": {},
   "outputs": [],
   "source": [
    "#fig = px.pie(train,values=train['Response'].value_counts(),names=['Class 0','Class 1'],hole=0.6,labels={0:'Response = 0'},color_discrete_sequence=px.colors.sequential.Sunset)\n",
    "#fig.show(showlegend=True)"
   ]
  },
  {
   "cell_type": "code",
   "execution_count": 2,
   "metadata": {},
   "outputs": [
    {
     "ename": "NameError",
     "evalue": "name 'sns' is not defined",
     "output_type": "error",
     "traceback": [
      "\u001b[0;31m---------------------------------------------------------------------------\u001b[0m",
      "\u001b[0;31mNameError\u001b[0m                                 Traceback (most recent call last)",
      "\u001b[0;32m<ipython-input-2-1f75def282d5>\u001b[0m in \u001b[0;36m<module>\u001b[0;34m\u001b[0m\n\u001b[0;32m----> 1\u001b[0;31m \u001b[0msns\u001b[0m\u001b[0;34m.\u001b[0m\u001b[0mcountplot\u001b[0m\u001b[0;34m(\u001b[0m\u001b[0mcsl_df\u001b[0m\u001b[0;34m[\u001b[0m\u001b[0;34m'trans_loss'\u001b[0m\u001b[0;34m]\u001b[0m\u001b[0;34m)\u001b[0m\u001b[0;34m\u001b[0m\u001b[0;34m\u001b[0m\u001b[0m\n\u001b[0m\u001b[1;32m      2\u001b[0m \u001b[0mplt\u001b[0m\u001b[0;34m.\u001b[0m\u001b[0mshow\u001b[0m\u001b[0;34m(\u001b[0m\u001b[0;34m)\u001b[0m\u001b[0;34m\u001b[0m\u001b[0;34m\u001b[0m\u001b[0m\n",
      "\u001b[0;31mNameError\u001b[0m: name 'sns' is not defined"
     ]
    }
   ],
   "source": [
    "sns.countplot(csl_df['trans_loss'])\n",
    "plt.show()"
   ]
  },
  {
   "cell_type": "markdown",
   "metadata": {},
   "source": [
    "We can see from the above visualisations that:\n",
    "\n",
    "* The Data is highly imbalanced"
   ]
  },
  {
   "cell_type": "code",
   "execution_count": 3,
   "metadata": {},
   "outputs": [
    {
     "ename": "NameError",
     "evalue": "name 'plt' is not defined",
     "output_type": "error",
     "traceback": [
      "\u001b[0;31m---------------------------------------------------------------------------\u001b[0m",
      "\u001b[0;31mNameError\u001b[0m                                 Traceback (most recent call last)",
      "\u001b[0;32m<ipython-input-3-74e982958b8f>\u001b[0m in \u001b[0;36m<module>\u001b[0;34m\u001b[0m\n\u001b[0;32m----> 1\u001b[0;31m \u001b[0mplt\u001b[0m\u001b[0;34m.\u001b[0m\u001b[0mfigure\u001b[0m\u001b[0;34m(\u001b[0m\u001b[0mfigsize\u001b[0m\u001b[0;34m=\u001b[0m\u001b[0;34m(\u001b[0m\u001b[0;36m20\u001b[0m\u001b[0;34m,\u001b[0m\u001b[0;36m10\u001b[0m\u001b[0;34m)\u001b[0m\u001b[0;34m)\u001b[0m\u001b[0;34m\u001b[0m\u001b[0;34m\u001b[0m\u001b[0m\n\u001b[0m\u001b[1;32m      2\u001b[0m \u001b[0msns\u001b[0m\u001b[0;34m.\u001b[0m\u001b[0mbarplot\u001b[0m\u001b[0;34m(\u001b[0m\u001b[0mcsl_df\u001b[0m\u001b[0;34m[\u001b[0m\u001b[0;34m'new_age'\u001b[0m\u001b[0;34m]\u001b[0m\u001b[0;34m,\u001b[0m\u001b[0mcsl_df\u001b[0m\u001b[0;34m[\u001b[0m\u001b[0;34m'trans_loss'\u001b[0m\u001b[0;34m]\u001b[0m\u001b[0;34m)\u001b[0m\u001b[0;34m\u001b[0m\u001b[0;34m\u001b[0m\u001b[0m\n\u001b[1;32m      3\u001b[0m \u001b[0mplt\u001b[0m\u001b[0;34m.\u001b[0m\u001b[0mshow\u001b[0m\u001b[0;34m(\u001b[0m\u001b[0;34m)\u001b[0m\u001b[0;34m\u001b[0m\u001b[0;34m\u001b[0m\u001b[0m\n",
      "\u001b[0;31mNameError\u001b[0m: name 'plt' is not defined"
     ]
    }
   ],
   "source": [
    "plt.figure(figsize=(20,10))\n",
    "sns.barplot(csl_df['new_age'],csl_df['trans_loss'])\n",
    "plt.show()"
   ]
  },
  {
   "cell_type": "code",
   "execution_count": 4,
   "metadata": {},
   "outputs": [
    {
     "ename": "NameError",
     "evalue": "name 'sns' is not defined",
     "output_type": "error",
     "traceback": [
      "\u001b[0;31m---------------------------------------------------------------------------\u001b[0m",
      "\u001b[0;31mNameError\u001b[0m                                 Traceback (most recent call last)",
      "\u001b[0;32m<ipython-input-4-3e7f4639aff8>\u001b[0m in \u001b[0;36m<module>\u001b[0;34m\u001b[0m\n\u001b[0;32m----> 1\u001b[0;31m \u001b[0msns\u001b[0m\u001b[0;34m.\u001b[0m\u001b[0mboxplot\u001b[0m\u001b[0;34m(\u001b[0m\u001b[0mcsl_df\u001b[0m\u001b[0;34m[\u001b[0m\u001b[0;34m'new_age'\u001b[0m\u001b[0;34m]\u001b[0m\u001b[0;34m)\u001b[0m\u001b[0;34m\u001b[0m\u001b[0;34m\u001b[0m\u001b[0m\n\u001b[0m\u001b[1;32m      2\u001b[0m \u001b[0mplt\u001b[0m\u001b[0;34m.\u001b[0m\u001b[0mshow\u001b[0m\u001b[0;34m(\u001b[0m\u001b[0;34m)\u001b[0m\u001b[0;34m\u001b[0m\u001b[0;34m\u001b[0m\u001b[0m\n",
      "\u001b[0;31mNameError\u001b[0m: name 'sns' is not defined"
     ]
    }
   ],
   "source": [
    "sns.boxplot(csl_df['new_age'])\n",
    "plt.show()"
   ]
  },
  {
   "cell_type": "code",
   "execution_count": 5,
   "metadata": {},
   "outputs": [
    {
     "ename": "NameError",
     "evalue": "name 'plt' is not defined",
     "output_type": "error",
     "traceback": [
      "\u001b[0;31m---------------------------------------------------------------------------\u001b[0m",
      "\u001b[0;31mNameError\u001b[0m                                 Traceback (most recent call last)",
      "\u001b[0;32m<ipython-input-5-0f515baa0c8b>\u001b[0m in \u001b[0;36m<module>\u001b[0;34m\u001b[0m\n\u001b[0;32m----> 1\u001b[0;31m \u001b[0mplt\u001b[0m\u001b[0;34m.\u001b[0m\u001b[0mfigure\u001b[0m\u001b[0;34m(\u001b[0m\u001b[0mfigsize\u001b[0m\u001b[0;34m=\u001b[0m\u001b[0;34m(\u001b[0m\u001b[0;36m20\u001b[0m\u001b[0;34m,\u001b[0m\u001b[0;36m10\u001b[0m\u001b[0;34m)\u001b[0m\u001b[0;34m)\u001b[0m\u001b[0;34m\u001b[0m\u001b[0;34m\u001b[0m\u001b[0m\n\u001b[0m\u001b[1;32m      2\u001b[0m \u001b[0msns\u001b[0m\u001b[0;34m.\u001b[0m\u001b[0mbarplot\u001b[0m\u001b[0;34m(\u001b[0m\u001b[0mcsl_df\u001b[0m\u001b[0;34m[\u001b[0m\u001b[0;34m'new_BMI'\u001b[0m\u001b[0;34m]\u001b[0m\u001b[0;34m,\u001b[0m\u001b[0mcsl_df\u001b[0m\u001b[0;34m[\u001b[0m\u001b[0;34m'trans_loss'\u001b[0m\u001b[0;34m]\u001b[0m\u001b[0;34m)\u001b[0m\u001b[0;34m\u001b[0m\u001b[0;34m\u001b[0m\u001b[0m\n\u001b[1;32m      3\u001b[0m \u001b[0mplt\u001b[0m\u001b[0;34m.\u001b[0m\u001b[0mshow\u001b[0m\u001b[0;34m(\u001b[0m\u001b[0;34m)\u001b[0m\u001b[0;34m\u001b[0m\u001b[0;34m\u001b[0m\u001b[0m\n",
      "\u001b[0;31mNameError\u001b[0m: name 'plt' is not defined"
     ]
    }
   ],
   "source": [
    "plt.figure(figsize=(20,10))\n",
    "sns.barplot(csl_df['new_BMI'],csl_df['trans_loss'])\n",
    "plt.show()"
   ]
  },
  {
   "cell_type": "code",
   "execution_count": 6,
   "metadata": {},
   "outputs": [
    {
     "ename": "NameError",
     "evalue": "name 'sns' is not defined",
     "output_type": "error",
     "traceback": [
      "\u001b[0;31m---------------------------------------------------------------------------\u001b[0m",
      "\u001b[0;31mNameError\u001b[0m                                 Traceback (most recent call last)",
      "\u001b[0;32m<ipython-input-6-154c9bf59911>\u001b[0m in \u001b[0;36m<module>\u001b[0;34m\u001b[0m\n\u001b[0;32m----> 1\u001b[0;31m \u001b[0msns\u001b[0m\u001b[0;34m.\u001b[0m\u001b[0mboxplot\u001b[0m\u001b[0;34m(\u001b[0m\u001b[0mcsl_df\u001b[0m\u001b[0;34m[\u001b[0m\u001b[0;34m'new_BMI'\u001b[0m\u001b[0;34m]\u001b[0m\u001b[0;34m)\u001b[0m\u001b[0;34m\u001b[0m\u001b[0;34m\u001b[0m\u001b[0m\n\u001b[0m\u001b[1;32m      2\u001b[0m \u001b[0mplt\u001b[0m\u001b[0;34m.\u001b[0m\u001b[0mshow\u001b[0m\u001b[0;34m(\u001b[0m\u001b[0;34m)\u001b[0m\u001b[0;34m\u001b[0m\u001b[0;34m\u001b[0m\u001b[0m\n",
      "\u001b[0;31mNameError\u001b[0m: name 'sns' is not defined"
     ]
    }
   ],
   "source": [
    "sns.boxplot(csl_df['new_BMI'])\n",
    "plt.show()"
   ]
  },
  {
   "cell_type": "markdown",
   "metadata": {},
   "source": [
    "<h1 align='center'>Modelling</h1>"
   ]
  },
  {
   "cell_type": "code",
   "execution_count": 19,
   "metadata": {},
   "outputs": [],
   "source": [
    "#X = all_features.iloc[:len(train),:]\n",
    "#X_test = all_features.iloc[len(train):,:]\n",
    "\n",
    "#kf = StratifiedKFold(n_splits=12,shuffle=True,random_state=42)"
   ]
  },
  {
   "cell_type": "markdown",
   "metadata": {},
   "source": [
    "We define resplit our train and test set, and set up 12 Fold Stratified Cross Validation. It is important to stratify as this ensures that during our training and validation, we split according to target distribution"
   ]
  },
  {
   "cell_type": "code",
   "execution_count": 20,
   "metadata": {},
   "outputs": [],
   "source": [
    "#for train_index,val_index in kf.split(X,y):\n",
    "#    X_train,X_val = X.iloc[train_index],X.iloc[val_index],\n",
    "#    y_train,y_val = y.iloc[train_index],y.iloc[val_index],"
   ]
  },
  {
   "cell_type": "code",
   "execution_count": 25,
   "metadata": {},
   "outputs": [
    {
     "name": "stdout",
     "output_type": "stream",
     "text": [
      "(129789, 195)\n",
      "(185413, 195)\n",
      "(185413,)\n"
     ]
    }
   ],
   "source": [
    "# MWB\n",
    "print(X_train.shape)\n",
    "print(X.shape)\n",
    "print(y.shape)"
   ]
  },
  {
   "cell_type": "markdown",
   "metadata": {},
   "source": [
    "Here we define our validation set"
   ]
  },
  {
   "cell_type": "markdown",
   "metadata": {},
   "source": [
    "<h1 align='center'>Modelling Using Undersampling</h1>"
   ]
  },
  {
   "cell_type": "markdown",
   "metadata": {},
   "source": [
    "We will use `imblearn`'s RandomUnderSampler to undersample from the majority class so that they match"
   ]
  },
  {
   "cell_type": "code",
   "execution_count": 26,
   "metadata": {},
   "outputs": [],
   "source": [
    "#sampler = RandomUnderSampler(sampling_strategy=1.0, random_state=7)\n",
    "#X_rus, y_rus = sampler.fit_resample(X_train, y_train)\n",
    "\n",
    "# Try with no undersampling\n",
    "X_rus, y_rus = X_train, y_train"
   ]
  },
  {
   "cell_type": "code",
   "execution_count": 27,
   "metadata": {},
   "outputs": [
    {
     "name": "stdout",
     "output_type": "stream",
     "text": [
      "(129789, 195)\n",
      "(129789,)\n",
      "[122548   7241]\n"
     ]
    }
   ],
   "source": [
    "print(X_rus.shape)\n",
    "print(y_rus.shape)\n",
    "print(np.bincount(y_rus))"
   ]
  },
  {
   "cell_type": "markdown",
   "metadata": {},
   "source": [
    "<h1 align='center'>Basic LightGBM</h1>"
   ]
  },
  {
   "cell_type": "markdown",
   "metadata": {},
   "source": [
    "Let's fit a vanilla LGBMClassifier on the undersampled data and evaluate it"
   ]
  },
  {
   "cell_type": "code",
   "execution_count": 29,
   "metadata": {},
   "outputs": [
    {
     "name": "stdout",
     "output_type": "stream",
     "text": [
      "[[35561 16960]\n",
      " [  373  2730]]\n",
      "              precision    recall  f1-score   support\n",
      "\n",
      "           0       0.99      0.68      0.80     52521\n",
      "           1       0.14      0.88      0.24      3103\n",
      "\n",
      "    accuracy                           0.69     55624\n",
      "   macro avg       0.56      0.78      0.52     55624\n",
      "weighted avg       0.94      0.69      0.77     55624\n",
      "\n",
      "ROC AUC prob1: 0.8404317845625434\n",
      "MCC: 0.26726352596949493\n",
      "F2: 0.42520715220235505\n",
      "PR_AUC: 0.23579169084608326\n"
     ]
    }
   ],
   "source": [
    "from sklearn.metrics import matthews_corrcoef\n",
    "lgb_rus = LGBMClassifier(class_weight='balanced')   # If not undersampling\n",
    "# lgb_rus = LGBMClassifier()\n",
    "lgb_rus.fit(X_rus, y_rus)\n",
    "y_pred = lgb_rus.predict(X_test)\n",
    "probs = lgb_rus.predict_proba(X_test)\n",
    "prob1 = probs[:, 1]  # Only positives\n",
    "precision, recall, pr_thresh = precision_recall_curve(y_test, prob1)\n",
    "print(confusion_matrix(y_pred=y_pred, y_true=y_test))\n",
    "print(classification_report(y_test, y_pred))\n",
    "print(f'ROC AUC prob1: {roc_auc_score(y_test, prob1)}')\n",
    "print(f'MCC: {matthews_corrcoef(y_test, y_pred)}')\n",
    "print(f'F2: {fbeta_score(y_test, y_pred, beta=2.0, average=None)[1]}')\n",
    "print(f'PR_AUC: {auc(recall, precision)}')"
   ]
  },
  {
   "cell_type": "markdown",
   "metadata": {},
   "source": [
    "<h1 align='center'>Hyperparameter Tuning</h1>"
   ]
  },
  {
   "cell_type": "code",
   "execution_count": 32,
   "metadata": {},
   "outputs": [
    {
     "name": "stderr",
     "output_type": "stream",
     "text": [
      "\u001b[32m[I 2021-12-02 18:08:40,330]\u001b[0m A new study created in memory with name: no-name-0efee87c-7a33-4b9e-b73c-d463f5fcfe60\u001b[0m\n",
      "\u001b[32m[I 2021-12-02 18:08:50,336]\u001b[0m Trial 0 finished with value: 0.10985953775151971 and parameters: {'n_estimators': 250, 'num_leaves': 476, 'max_depth': 16, 'learning_rate': 0.5986986183486169, 'min_child_samples': 16}. Best is trial 0 with value: 0.10985953775151971.\u001b[0m\n"
     ]
    },
    {
     "name": "stdout",
     "output_type": "stream",
     "text": [
      "PR_AUC: 0.16571953411951862\n",
      "avg_prec: 0.16590258540184355\n",
      "MCC: 0.10985953775151971\n"
     ]
    },
    {
     "name": "stderr",
     "output_type": "stream",
     "text": [
      "\u001b[32m[I 2021-12-02 18:08:52,690]\u001b[0m Trial 1 finished with value: 0.17760394043883007 and parameters: {'n_estimators': 162, 'num_leaves': 38, 'max_depth': 18, 'learning_rate': 0.6011549002420344, 'min_child_samples': 39}. Best is trial 1 with value: 0.17760394043883007.\u001b[0m\n"
     ]
    },
    {
     "name": "stdout",
     "output_type": "stream",
     "text": [
      "PR_AUC: 0.16461964020142256\n",
      "avg_prec: 0.16494590720538013\n",
      "MCC: 0.17760394043883007\n"
     ]
    },
    {
     "name": "stderr",
     "output_type": "stream",
     "text": [
      "\u001b[32m[I 2021-12-02 18:08:57,257]\u001b[0m Trial 2 finished with value: 0.13252223067132346 and parameters: {'n_estimators': 108, 'num_leaves': 486, 'max_depth': 18, 'learning_rate': 0.21241787676720833, 'min_child_samples': 17}. Best is trial 1 with value: 0.17760394043883007.\u001b[0m\n"
     ]
    },
    {
     "name": "stdout",
     "output_type": "stream",
     "text": [
      "PR_AUC: 0.16676179867067753\n",
      "avg_prec: 0.16696026440484854\n",
      "MCC: 0.13252223067132346\n"
     ]
    },
    {
     "name": "stderr",
     "output_type": "stream",
     "text": [
      "\u001b[32m[I 2021-12-02 18:09:01,010]\u001b[0m Trial 3 finished with value: 0.12883966072475003 and parameters: {'n_estimators': 173, 'num_leaves': 159, 'max_depth': 12, 'learning_rate': 0.43200182414025157, 'min_child_samples': 21}. Best is trial 1 with value: 0.17760394043883007.\u001b[0m\n"
     ]
    },
    {
     "name": "stdout",
     "output_type": "stream",
     "text": [
      "PR_AUC: 0.15270522231912417\n",
      "avg_prec: 0.15290475518985486\n",
      "MCC: 0.12883966072475003\n"
     ]
    },
    {
     "name": "stderr",
     "output_type": "stream",
     "text": [
      "\u001b[32m[I 2021-12-02 18:09:05,917]\u001b[0m Trial 4 finished with value: 0.14717196476790392 and parameters: {'n_estimators': 345, 'num_leaves': 78, 'max_depth': 8, 'learning_rate': 0.3664252071093623, 'min_child_samples': 28}. Best is trial 1 with value: 0.17760394043883007.\u001b[0m\n"
     ]
    },
    {
     "name": "stdout",
     "output_type": "stream",
     "text": [
      "PR_AUC: 0.15906040252402037\n",
      "avg_prec: 0.15935266546609822\n",
      "MCC: 0.14717196476790392\n"
     ]
    },
    {
     "name": "stderr",
     "output_type": "stream",
     "text": [
      "\u001b[32m[I 2021-12-02 18:09:12,053]\u001b[0m Trial 5 finished with value: 0.08992408789285473 and parameters: {'n_estimators': 414, 'num_leaves': 108, 'max_depth': 12, 'learning_rate': 0.5924553274051563, 'min_child_samples': 11}. Best is trial 1 with value: 0.17760394043883007.\u001b[0m\n"
     ]
    },
    {
     "name": "stdout",
     "output_type": "stream",
     "text": [
      "PR_AUC: 0.32763485599419906\n",
      "avg_prec: 0.07422774100658346\n",
      "MCC: 0.08992408789285473\n"
     ]
    },
    {
     "name": "stderr",
     "output_type": "stream",
     "text": [
      "\u001b[32m[I 2021-12-02 18:09:15,633]\u001b[0m Trial 6 finished with value: 0.17149768048173789 and parameters: {'n_estimators': 343, 'num_leaves': 93, 'max_depth': 5, 'learning_rate': 0.9488906486996079, 'min_child_samples': 49}. Best is trial 1 with value: 0.17760394043883007.\u001b[0m\n"
     ]
    },
    {
     "name": "stdout",
     "output_type": "stream",
     "text": [
      "PR_AUC: 0.155010079513821\n",
      "avg_prec: 0.15524356803637573\n",
      "MCC: 0.17149768048173789\n"
     ]
    },
    {
     "name": "stderr",
     "output_type": "stream",
     "text": [
      "\u001b[32m[I 2021-12-02 18:09:19,691]\u001b[0m Trial 7 finished with value: 0.17335414716812106 and parameters: {'n_estimators': 424, 'num_leaves': 159, 'max_depth': 5, 'learning_rate': 0.6842646032095057, 'min_child_samples': 28}. Best is trial 1 with value: 0.17760394043883007.\u001b[0m\n"
     ]
    },
    {
     "name": "stdout",
     "output_type": "stream",
     "text": [
      "PR_AUC: 0.1558039465890786\n",
      "avg_prec: 0.1560195617065008\n",
      "MCC: 0.17335414716812106\n"
     ]
    },
    {
     "name": "stderr",
     "output_type": "stream",
     "text": [
      "\u001b[32m[I 2021-12-02 18:09:21,740]\u001b[0m Trial 8 finished with value: 0.23251947550351257 and parameters: {'n_estimators': 148, 'num_leaves': 253, 'max_depth': 4, 'learning_rate': 0.9093294700385742, 'min_child_samples': 20}. Best is trial 8 with value: 0.23251947550351257.\u001b[0m\n"
     ]
    },
    {
     "name": "stdout",
     "output_type": "stream",
     "text": [
      "PR_AUC: 0.16561412012184748\n",
      "avg_prec: 0.16542367989163148\n",
      "MCC: 0.23251947550351257\n"
     ]
    },
    {
     "name": "stderr",
     "output_type": "stream",
     "text": [
      "\u001b[32m[I 2021-12-02 18:09:28,493]\u001b[0m Trial 9 finished with value: 0.11308110007927565 and parameters: {'n_estimators': 365, 'num_leaves': 163, 'max_depth': 12, 'learning_rate': 0.5467556083153453, 'min_child_samples': 17}. Best is trial 8 with value: 0.23251947550351257.\u001b[0m\n"
     ]
    },
    {
     "name": "stdout",
     "output_type": "stream",
     "text": [
      "PR_AUC: 0.15584267696563653\n",
      "avg_prec: 0.1560207265293611\n",
      "MCC: 0.11308110007927565\n"
     ]
    },
    {
     "name": "stderr",
     "output_type": "stream",
     "text": [
      "\u001b[32m[I 2021-12-02 18:09:32,626]\u001b[0m Trial 10 finished with value: 0.12575644497321936 and parameters: {'n_estimators': 250, 'num_leaves': 352, 'max_depth': 8, 'learning_rate': 0.9549732369265584, 'min_child_samples': 36}. Best is trial 8 with value: 0.23251947550351257.\u001b[0m\n"
     ]
    },
    {
     "name": "stdout",
     "output_type": "stream",
     "text": [
      "PR_AUC: 0.20310885550522922\n",
      "avg_prec: 0.09679643589323378\n",
      "MCC: 0.12575644497321936\n"
     ]
    },
    {
     "name": "stderr",
     "output_type": "stream",
     "text": [
      "\u001b[32m[I 2021-12-02 18:09:36,660]\u001b[0m Trial 11 finished with value: 0.14301963612451923 and parameters: {'n_estimators': 115, 'num_leaves': 299, 'max_depth': 20, 'learning_rate': 0.783651258186902, 'min_child_samples': 40}. Best is trial 8 with value: 0.23251947550351257.\u001b[0m\n"
     ]
    },
    {
     "name": "stdout",
     "output_type": "stream",
     "text": [
      "PR_AUC: 0.2664791303147682\n",
      "avg_prec: 0.09916270885421177\n",
      "MCC: 0.14301963612451923\n"
     ]
    },
    {
     "name": "stderr",
     "output_type": "stream",
     "text": [
      "\u001b[32m[I 2021-12-02 18:09:39,024]\u001b[0m Trial 12 finished with value: 0.21434199876481244 and parameters: {'n_estimators': 190, 'num_leaves': 14, 'max_depth': 15, 'learning_rate': 0.7923386592512832, 'min_child_samples': 42}. Best is trial 8 with value: 0.23251947550351257.\u001b[0m\n"
     ]
    },
    {
     "name": "stdout",
     "output_type": "stream",
     "text": [
      "PR_AUC: 0.1698185960022229\n",
      "avg_prec: 0.17000035838256394\n",
      "MCC: 0.21434199876481244\n"
     ]
    },
    {
     "name": "stderr",
     "output_type": "stream",
     "text": [
      "\u001b[32m[I 2021-12-02 18:09:43,581]\u001b[0m Trial 13 finished with value: 0.04529241917386235 and parameters: {'n_estimators': 214, 'num_leaves': 263, 'max_depth': 15, 'learning_rate': 0.8224818041959032, 'min_child_samples': 48}. Best is trial 8 with value: 0.23251947550351257.\u001b[0m\n"
     ]
    },
    {
     "name": "stdout",
     "output_type": "stream",
     "text": [
      "PR_AUC: 0.12225392734247593\n",
      "avg_prec: 0.05993954715148948\n",
      "MCC: 0.04529241917386235\n"
     ]
    },
    {
     "name": "stderr",
     "output_type": "stream",
     "text": [
      "\u001b[32m[I 2021-12-02 18:09:46,957]\u001b[0m Trial 14 finished with value: 0.13470861834554648 and parameters: {'n_estimators': 179, 'num_leaves': 398, 'max_depth': 9, 'learning_rate': 0.8217448097808967, 'min_child_samples': 24}. Best is trial 8 with value: 0.23251947550351257.\u001b[0m\n"
     ]
    },
    {
     "name": "stdout",
     "output_type": "stream",
     "text": [
      "PR_AUC: 0.1732577753223214\n",
      "avg_prec: 0.1093332013274293\n",
      "MCC: 0.13470861834554648\n"
     ]
    },
    {
     "name": "stderr",
     "output_type": "stream",
     "text": [
      "\u001b[32m[I 2021-12-02 18:09:51,641]\u001b[0m Trial 15 finished with value: 0.18050672901683798 and parameters: {'n_estimators': 487, 'num_leaves': 12, 'max_depth': 15, 'learning_rate': 0.9869875702434437, 'min_child_samples': 34}. Best is trial 8 with value: 0.23251947550351257.\u001b[0m\n"
     ]
    },
    {
     "name": "stdout",
     "output_type": "stream",
     "text": [
      "PR_AUC: 0.1342270145070117\n",
      "avg_prec: 0.11915864231281778\n",
      "MCC: 0.18050672901683798\n"
     ]
    },
    {
     "name": "stderr",
     "output_type": "stream",
     "text": [
      "\u001b[32m[I 2021-12-02 18:09:57,421]\u001b[0m Trial 16 finished with value: 0.12458670398147904 and parameters: {'n_estimators': 275, 'num_leaves': 214, 'max_depth': 10, 'learning_rate': 0.7254395627317267, 'min_child_samples': 44}. Best is trial 8 with value: 0.23251947550351257.\u001b[0m\n"
     ]
    },
    {
     "name": "stdout",
     "output_type": "stream",
     "text": [
      "PR_AUC: 0.15794843445702897\n",
      "avg_prec: 0.15816201819111586\n",
      "MCC: 0.12458670398147904\n"
     ]
    },
    {
     "name": "stderr",
     "output_type": "stream",
     "text": [
      "\u001b[32m[I 2021-12-02 18:10:00,089]\u001b[0m Trial 17 finished with value: 0.265289327709256 and parameters: {'n_estimators': 212, 'num_leaves': 408, 'max_depth': 4, 'learning_rate': 0.13889895626883236, 'min_child_samples': 33}. Best is trial 17 with value: 0.265289327709256.\u001b[0m\n"
     ]
    },
    {
     "name": "stdout",
     "output_type": "stream",
     "text": [
      "PR_AUC: 0.23295926592857136\n",
      "avg_prec: 0.23316070052175297\n",
      "MCC: 0.265289327709256\n"
     ]
    },
    {
     "name": "stderr",
     "output_type": "stream",
     "text": [
      "\u001b[32m[I 2021-12-02 18:10:02,655]\u001b[0m Trial 18 finished with value: 0.26752978016458423 and parameters: {'n_estimators': 130, 'num_leaves': 387, 'max_depth': 4, 'learning_rate': 0.12067401081020171, 'min_child_samples': 32}. Best is trial 18 with value: 0.26752978016458423.\u001b[0m\n"
     ]
    },
    {
     "name": "stdout",
     "output_type": "stream",
     "text": [
      "PR_AUC: 0.23505324073354078\n",
      "avg_prec: 0.23526023165114615\n",
      "MCC: 0.26752978016458423\n"
     ]
    },
    {
     "name": "stderr",
     "output_type": "stream",
     "text": [
      "\u001b[32m[I 2021-12-02 18:10:06,039]\u001b[0m Trial 19 finished with value: 0.266837437761529 and parameters: {'n_estimators': 220, 'num_leaves': 414, 'max_depth': 6, 'learning_rate': 0.011088090324846922, 'min_child_samples': 31}. Best is trial 18 with value: 0.26752978016458423.\u001b[0m\n"
     ]
    },
    {
     "name": "stdout",
     "output_type": "stream",
     "text": [
      "PR_AUC: 0.2255668901756806\n",
      "avg_prec: 0.22536224641720254\n",
      "MCC: 0.266837437761529\n"
     ]
    },
    {
     "name": "stderr",
     "output_type": "stream",
     "text": [
      "\u001b[32m[I 2021-12-02 18:10:09,700]\u001b[0m Trial 20 finished with value: 0.26695716979875095 and parameters: {'n_estimators': 284, 'num_leaves': 429, 'max_depth': 6, 'learning_rate': 0.04002604014409565, 'min_child_samples': 30}. Best is trial 18 with value: 0.26752978016458423.\u001b[0m\n"
     ]
    },
    {
     "name": "stdout",
     "output_type": "stream",
     "text": [
      "PR_AUC: 0.2356084012685977\n",
      "avg_prec: 0.23579921642380913\n",
      "MCC: 0.26695716979875095\n"
     ]
    },
    {
     "name": "stderr",
     "output_type": "stream",
     "text": [
      "\u001b[32m[I 2021-12-02 18:10:15,306]\u001b[0m Trial 21 finished with value: 0.26418726115539576 and parameters: {'n_estimators': 316, 'num_leaves': 422, 'max_depth': 6, 'learning_rate': 0.0024675028343793468, 'min_child_samples': 31}. Best is trial 18 with value: 0.26752978016458423.\u001b[0m\n"
     ]
    },
    {
     "name": "stdout",
     "output_type": "stream",
     "text": [
      "PR_AUC: 0.20912740672779137\n",
      "avg_prec: 0.20640061109877994\n",
      "MCC: 0.26418726115539576\n"
     ]
    },
    {
     "name": "stderr",
     "output_type": "stream",
     "text": [
      "\u001b[32m[I 2021-12-02 18:10:19,916]\u001b[0m Trial 22 finished with value: 0.26562247551061424 and parameters: {'n_estimators': 277, 'num_leaves': 350, 'max_depth': 7, 'learning_rate': 0.00935190291185474, 'min_child_samples': 26}. Best is trial 18 with value: 0.26752978016458423.\u001b[0m\n"
     ]
    },
    {
     "name": "stdout",
     "output_type": "stream",
     "text": [
      "PR_AUC: 0.22627978565799756\n",
      "avg_prec: 0.22622971513549536\n",
      "MCC: 0.26562247551061424\n"
     ]
    },
    {
     "name": "stderr",
     "output_type": "stream",
     "text": [
      "\u001b[32m[I 2021-12-02 18:10:22,835]\u001b[0m Trial 23 finished with value: 0.25260230123623456 and parameters: {'n_estimators': 240, 'num_leaves': 458, 'max_depth': 6, 'learning_rate': 0.15875626043500624, 'min_child_samples': 36}. Best is trial 18 with value: 0.26752978016458423.\u001b[0m\n"
     ]
    },
    {
     "name": "stdout",
     "output_type": "stream",
     "text": [
      "PR_AUC: 0.21958121735220118\n",
      "avg_prec: 0.21975487721551337\n",
      "MCC: 0.25260230123623456\n"
     ]
    },
    {
     "name": "stderr",
     "output_type": "stream",
     "text": [
      "\u001b[32m[I 2021-12-02 18:10:26,203]\u001b[0m Trial 24 finished with value: 0.16783259581787102 and parameters: {'n_estimators': 128, 'num_leaves': 356, 'max_depth': 10, 'learning_rate': 0.2857078506478212, 'min_child_samples': 31}. Best is trial 18 with value: 0.26752978016458423.\u001b[0m\n"
     ]
    },
    {
     "name": "stdout",
     "output_type": "stream",
     "text": [
      "PR_AUC: 0.17028749005441784\n",
      "avg_prec: 0.1705159423584336\n",
      "MCC: 0.16783259581787102\n"
     ]
    },
    {
     "name": "stderr",
     "output_type": "stream",
     "text": [
      "\u001b[32m[I 2021-12-02 18:10:30,039]\u001b[0m Trial 25 finished with value: 0.2582139315056761 and parameters: {'n_estimators': 288, 'num_leaves': 441, 'max_depth': 6, 'learning_rate': 0.08741493794164591, 'min_child_samples': 24}. Best is trial 18 with value: 0.26752978016458423.\u001b[0m\n"
     ]
    },
    {
     "name": "stdout",
     "output_type": "stream",
     "text": [
      "PR_AUC: 0.2248667608568075\n",
      "avg_prec: 0.22506541161781937\n",
      "MCC: 0.2582139315056761\n"
     ]
    },
    {
     "name": "stderr",
     "output_type": "stream",
     "text": [
      "\u001b[32m[I 2021-12-02 18:10:32,500]\u001b[0m Trial 26 finished with value: 0.2681359505444071 and parameters: {'n_estimators': 214, 'num_leaves': 378, 'max_depth': 4, 'learning_rate': 0.07917469339090288, 'min_child_samples': 37}. Best is trial 26 with value: 0.2681359505444071.\u001b[0m\n"
     ]
    },
    {
     "name": "stdout",
     "output_type": "stream",
     "text": [
      "PR_AUC: 0.23328128665994488\n",
      "avg_prec: 0.23349884526913744\n",
      "MCC: 0.2681359505444071\n"
     ]
    },
    {
     "name": "stderr",
     "output_type": "stream",
     "text": [
      "\u001b[32m[I 2021-12-02 18:10:34,777]\u001b[0m Trial 27 finished with value: 0.26246968173491686 and parameters: {'n_estimators': 140, 'num_leaves': 308, 'max_depth': 4, 'learning_rate': 0.28758004024540884, 'min_child_samples': 37}. Best is trial 26 with value: 0.2681359505444071.\u001b[0m\n"
     ]
    },
    {
     "name": "stdout",
     "output_type": "stream",
     "text": [
      "PR_AUC: 0.22655188046188196\n",
      "avg_prec: 0.22676641822806298\n",
      "MCC: 0.26246968173491686\n"
     ]
    },
    {
     "name": "stderr",
     "output_type": "stream",
     "text": [
      "\u001b[32m[I 2021-12-02 18:10:38,051]\u001b[0m Trial 28 finished with value: 0.2518881459583812 and parameters: {'n_estimators': 197, 'num_leaves': 368, 'max_depth': 8, 'learning_rate': 0.09657263044550679, 'min_child_samples': 43}. Best is trial 26 with value: 0.2681359505444071.\u001b[0m\n"
     ]
    },
    {
     "name": "stdout",
     "output_type": "stream",
     "text": [
      "PR_AUC: 0.22047795892304792\n",
      "avg_prec: 0.22066382379611912\n",
      "MCC: 0.2518881459583812\n"
     ]
    },
    {
     "name": "stderr",
     "output_type": "stream",
     "text": [
      "\u001b[32m[I 2021-12-02 18:10:40,991]\u001b[0m Trial 29 finished with value: 0.25019202861568796 and parameters: {'n_estimators': 252, 'num_leaves': 482, 'max_depth': 5, 'learning_rate': 0.2326487901630212, 'min_child_samples': 45}. Best is trial 26 with value: 0.2681359505444071.\u001b[0m\n"
     ]
    },
    {
     "name": "stdout",
     "output_type": "stream",
     "text": [
      "PR_AUC: 0.2184630156622943\n",
      "avg_prec: 0.21863181030171092\n",
      "MCC: 0.25019202861568796\n"
     ]
    },
    {
     "name": "stderr",
     "output_type": "stream",
     "text": [
      "\u001b[32m[I 2021-12-02 18:10:49,945]\u001b[0m Trial 30 finished with value: 0.12375285721570364 and parameters: {'n_estimators': 393, 'num_leaves': 315, 'max_depth': 10, 'learning_rate': 0.3792922503226725, 'min_child_samples': 34}. Best is trial 26 with value: 0.2681359505444071.\u001b[0m\n"
     ]
    },
    {
     "name": "stdout",
     "output_type": "stream",
     "text": [
      "PR_AUC: 0.1571182670867402\n",
      "avg_prec: 0.157297211466273\n",
      "MCC: 0.12375285721570364\n"
     ]
    },
    {
     "name": "stderr",
     "output_type": "stream",
     "text": [
      "\u001b[32m[I 2021-12-02 18:10:52,766]\u001b[0m Trial 31 finished with value: 0.2653865690024053 and parameters: {'n_estimators': 221, 'num_leaves': 381, 'max_depth': 6, 'learning_rate': 0.06160039216624691, 'min_child_samples': 29}. Best is trial 26 with value: 0.2681359505444071.\u001b[0m\n"
     ]
    },
    {
     "name": "stdout",
     "output_type": "stream",
     "text": [
      "PR_AUC: 0.23523660866211193\n",
      "avg_prec: 0.23543524286504353\n",
      "MCC: 0.2653865690024053\n"
     ]
    },
    {
     "name": "stderr",
     "output_type": "stream",
     "text": [
      "\u001b[32m[I 2021-12-02 18:10:57,926]\u001b[0m Trial 32 finished with value: 0.22127080957107725 and parameters: {'n_estimators': 323, 'num_leaves': 428, 'max_depth': 7, 'learning_rate': 0.17369025580969905, 'min_child_samples': 38}. Best is trial 26 with value: 0.2681359505444071.\u001b[0m\n"
     ]
    },
    {
     "name": "stdout",
     "output_type": "stream",
     "text": [
      "PR_AUC: 0.2015474670346885\n",
      "avg_prec: 0.20170975353056347\n",
      "MCC: 0.22127080957107725\n"
     ]
    },
    {
     "name": "stderr",
     "output_type": "stream",
     "text": [
      "\u001b[32m[I 2021-12-02 18:11:00,141]\u001b[0m Trial 33 finished with value: 0.2662761978316575 and parameters: {'n_estimators': 152, 'num_leaves': 460, 'max_depth': 4, 'learning_rate': 0.0445168170250002, 'min_child_samples': 32}. Best is trial 26 with value: 0.2681359505444071.\u001b[0m\n"
     ]
    },
    {
     "name": "stdout",
     "output_type": "stream",
     "text": [
      "PR_AUC: 0.2312066064586526\n",
      "avg_prec: 0.23138884988386949\n",
      "MCC: 0.2662761978316575\n"
     ]
    },
    {
     "name": "stderr",
     "output_type": "stream",
     "text": [
      "\u001b[32m[I 2021-12-02 18:11:03,548]\u001b[0m Trial 34 finished with value: 0.25249635348435434 and parameters: {'n_estimators': 231, 'num_leaves': 397, 'max_depth': 7, 'learning_rate': 0.09837861545603162, 'min_child_samples': 26}. Best is trial 26 with value: 0.2681359505444071.\u001b[0m\n"
     ]
    },
    {
     "name": "stdout",
     "output_type": "stream",
     "text": [
      "PR_AUC: 0.22011089732346503\n",
      "avg_prec: 0.22029897783130228\n",
      "MCC: 0.25249635348435434\n"
     ]
    },
    {
     "name": "stderr",
     "output_type": "stream",
     "text": [
      "\u001b[32m[I 2021-12-02 18:11:06,091]\u001b[0m Trial 35 finished with value: 0.25619873012464145 and parameters: {'n_estimators': 170, 'num_leaves': 492, 'max_depth': 5, 'learning_rate': 0.2210645323240963, 'min_child_samples': 40}. Best is trial 26 with value: 0.2681359505444071.\u001b[0m\n"
     ]
    },
    {
     "name": "stdout",
     "output_type": "stream",
     "text": [
      "PR_AUC: 0.2225742265342752\n",
      "avg_prec: 0.22276072967637017\n",
      "MCC: 0.25619873012464145\n"
     ]
    },
    {
     "name": "stderr",
     "output_type": "stream",
     "text": [
      "\u001b[32m[I 2021-12-02 18:11:10,390]\u001b[0m Trial 36 finished with value: 0.2092089122321814 and parameters: {'n_estimators': 260, 'num_leaves': 329, 'max_depth': 9, 'learning_rate': 0.13217588336265157, 'min_child_samples': 35}. Best is trial 26 with value: 0.2681359505444071.\u001b[0m\n"
     ]
    },
    {
     "name": "stdout",
     "output_type": "stream",
     "text": [
      "PR_AUC: 0.19653335354521678\n",
      "avg_prec: 0.19669067661838566\n",
      "MCC: 0.2092089122321814\n"
     ]
    },
    {
     "name": "stderr",
     "output_type": "stream",
     "text": [
      "\u001b[32m[I 2021-12-02 18:11:20,662]\u001b[0m Trial 37 finished with value: 0.10990828734425737 and parameters: {'n_estimators': 316, 'num_leaves': 444, 'max_depth': 13, 'learning_rate': 0.3004435278197283, 'min_child_samples': 30}. Best is trial 26 with value: 0.2681359505444071.\u001b[0m\n"
     ]
    },
    {
     "name": "stdout",
     "output_type": "stream",
     "text": [
      "PR_AUC: 0.15747675154179905\n",
      "avg_prec: 0.15766893688304107\n",
      "MCC: 0.10990828734425737\n"
     ]
    },
    {
     "name": "stderr",
     "output_type": "stream",
     "text": [
      "\u001b[32m[I 2021-12-02 18:11:22,783]\u001b[0m Trial 38 finished with value: 0.2403779288524612 and parameters: {'n_estimators': 108, 'num_leaves': 386, 'max_depth': 5, 'learning_rate': 0.4837970377451399, 'min_child_samples': 25}. Best is trial 26 with value: 0.2681359505444071.\u001b[0m\n"
     ]
    },
    {
     "name": "stdout",
     "output_type": "stream",
     "text": [
      "PR_AUC: 0.20230750408656376\n",
      "avg_prec: 0.2025723358531869\n",
      "MCC: 0.2403779288524612\n"
     ]
    },
    {
     "name": "stderr",
     "output_type": "stream",
     "text": [
      "\u001b[32m[I 2021-12-02 18:11:25,376]\u001b[0m Trial 39 finished with value: 0.2662850414993782 and parameters: {'n_estimators': 197, 'num_leaves': 268, 'max_depth': 4, 'learning_rate': 0.040767007638395206, 'min_child_samples': 28}. Best is trial 26 with value: 0.2681359505444071.\u001b[0m\n"
     ]
    },
    {
     "name": "stdout",
     "output_type": "stream",
     "text": [
      "PR_AUC: 0.23154694907866863\n",
      "avg_prec: 0.23175048067277718\n",
      "MCC: 0.2662850414993782\n"
     ]
    },
    {
     "name": "stderr",
     "output_type": "stream",
     "text": [
      "\u001b[32m[I 2021-12-02 18:11:29,305]\u001b[0m Trial 40 finished with value: 0.2109764584637136 and parameters: {'n_estimators': 295, 'num_leaves': 334, 'max_depth': 7, 'learning_rate': 0.18403712295663804, 'min_child_samples': 21}. Best is trial 26 with value: 0.2681359505444071.\u001b[0m\n"
     ]
    },
    {
     "name": "stdout",
     "output_type": "stream",
     "text": [
      "PR_AUC: 0.1852735843272009\n",
      "avg_prec: 0.18544085331691673\n",
      "MCC: 0.2109764584637136\n"
     ]
    },
    {
     "name": "stderr",
     "output_type": "stream",
     "text": [
      "\u001b[32m[I 2021-12-02 18:11:31,701]\u001b[0m Trial 41 finished with value: 0.26674126686455774 and parameters: {'n_estimators': 198, 'num_leaves': 274, 'max_depth': 4, 'learning_rate': 0.03983598066782685, 'min_child_samples': 28}. Best is trial 26 with value: 0.2681359505444071.\u001b[0m\n"
     ]
    },
    {
     "name": "stdout",
     "output_type": "stream",
     "text": [
      "PR_AUC: 0.23276630808037255\n",
      "avg_prec: 0.23296603356692025\n",
      "MCC: 0.26674126686455774\n"
     ]
    },
    {
     "name": "stderr",
     "output_type": "stream",
     "text": [
      "\u001b[32m[I 2021-12-02 18:11:34,258]\u001b[0m Trial 42 finished with value: 0.25879346157757965 and parameters: {'n_estimators': 163, 'num_leaves': 214, 'max_depth': 5, 'learning_rate': 0.002185712633086735, 'min_child_samples': 22}. Best is trial 26 with value: 0.2681359505444071.\u001b[0m\n"
     ]
    },
    {
     "name": "stdout",
     "output_type": "stream",
     "text": [
      "PR_AUC: 0.1954036514281009\n",
      "avg_prec: 0.18415190520454183\n",
      "MCC: 0.25879346157757965\n"
     ]
    },
    {
     "name": "stderr",
     "output_type": "stream",
     "text": [
      "\u001b[32m[I 2021-12-02 18:11:36,226]\u001b[0m Trial 43 finished with value: 0.2671746713953781 and parameters: {'n_estimators': 132, 'num_leaves': 415, 'max_depth': 4, 'learning_rate': 0.12102990101296004, 'min_child_samples': 28}. Best is trial 26 with value: 0.2681359505444071.\u001b[0m\n"
     ]
    },
    {
     "name": "stdout",
     "output_type": "stream",
     "text": [
      "PR_AUC: 0.23568825235252633\n",
      "avg_prec: 0.23589876330116644\n",
      "MCC: 0.2671746713953781\n"
     ]
    },
    {
     "name": "stderr",
     "output_type": "stream",
     "text": [
      "\u001b[32m[I 2021-12-02 18:11:38,556]\u001b[0m Trial 44 finished with value: 0.2672154021257107 and parameters: {'n_estimators': 127, 'num_leaves': 417, 'max_depth': 6, 'learning_rate': 0.11408715187351322, 'min_child_samples': 32}. Best is trial 26 with value: 0.2681359505444071.\u001b[0m\n"
     ]
    },
    {
     "name": "stdout",
     "output_type": "stream",
     "text": [
      "PR_AUC: 0.22926145422842162\n",
      "avg_prec: 0.22959314922161433\n",
      "MCC: 0.2672154021257107\n"
     ]
    },
    {
     "name": "stderr",
     "output_type": "stream",
     "text": [
      "\u001b[32m[I 2021-12-02 18:11:40,769]\u001b[0m Trial 45 finished with value: 0.26733405554648976 and parameters: {'n_estimators': 128, 'num_leaves': 463, 'max_depth': 5, 'learning_rate': 0.11838798517776228, 'min_child_samples': 14}. Best is trial 26 with value: 0.2681359505444071.\u001b[0m\n"
     ]
    },
    {
     "name": "stdout",
     "output_type": "stream",
     "text": [
      "PR_AUC: 0.2354607020622934\n",
      "avg_prec: 0.23564120901163416\n",
      "MCC: 0.26733405554648976\n"
     ]
    },
    {
     "name": "stderr",
     "output_type": "stream",
     "text": [
      "\u001b[32m[I 2021-12-02 18:11:42,832]\u001b[0m Trial 46 finished with value: 0.2624831044916231 and parameters: {'n_estimators': 101, 'num_leaves': 465, 'max_depth': 5, 'learning_rate': 0.22492350476252515, 'min_child_samples': 14}. Best is trial 26 with value: 0.2681359505444071.\u001b[0m\n"
     ]
    },
    {
     "name": "stdout",
     "output_type": "stream",
     "text": [
      "PR_AUC: 0.22554861261410042\n",
      "avg_prec: 0.2258007158912082\n",
      "MCC: 0.2624831044916231\n"
     ]
    },
    {
     "name": "stderr",
     "output_type": "stream",
     "text": [
      "\u001b[32m[I 2021-12-02 18:11:48,025]\u001b[0m Trial 47 finished with value: 0.1282973839611971 and parameters: {'n_estimators': 131, 'num_leaves': 372, 'max_depth': 18, 'learning_rate': 0.34033086302814264, 'min_child_samples': 18}. Best is trial 26 with value: 0.2681359505444071.\u001b[0m\n"
     ]
    },
    {
     "name": "stdout",
     "output_type": "stream",
     "text": [
      "PR_AUC: 0.16240609270354509\n",
      "avg_prec: 0.1625904743683448\n",
      "MCC: 0.1282973839611971\n"
     ]
    },
    {
     "name": "stderr",
     "output_type": "stream",
     "text": [
      "\u001b[32m[I 2021-12-02 18:11:50,163]\u001b[0m Trial 48 finished with value: 0.26728255060940453 and parameters: {'n_estimators': 117, 'num_leaves': 488, 'max_depth': 4, 'learning_rate': 0.11249787973206164, 'min_child_samples': 11}. Best is trial 26 with value: 0.2681359505444071.\u001b[0m\n"
     ]
    },
    {
     "name": "stdout",
     "output_type": "stream",
     "text": [
      "PR_AUC: 0.2335833911657869\n",
      "avg_prec: 0.23381770900704898\n",
      "MCC: 0.26728255060940453\n"
     ]
    },
    {
     "name": "stderr",
     "output_type": "stream",
     "text": [
      "\u001b[32m[I 2021-12-02 18:11:52,882]\u001b[0m Trial 49 finished with value: 0.2532812943733228 and parameters: {'n_estimators': 121, 'num_leaves': 496, 'max_depth': 5, 'learning_rate': 0.24495809982211225, 'min_child_samples': 11}. Best is trial 26 with value: 0.2681359505444071.\u001b[0m\n"
     ]
    },
    {
     "name": "stdout",
     "output_type": "stream",
     "text": [
      "PR_AUC: 0.2173478803886954\n",
      "avg_prec: 0.2175621728726666\n",
      "MCC: 0.2532812943733228\n"
     ]
    },
    {
     "name": "stderr",
     "output_type": "stream",
     "text": [
      "\u001b[32m[I 2021-12-02 18:11:56,156]\u001b[0m Trial 50 finished with value: 0.1635838439531245 and parameters: {'n_estimators': 153, 'num_leaves': 480, 'max_depth': 8, 'learning_rate': 0.42451940091110846, 'min_child_samples': 14}. Best is trial 26 with value: 0.2681359505444071.\u001b[0m\n"
     ]
    },
    {
     "name": "stdout",
     "output_type": "stream",
     "text": [
      "PR_AUC: 0.15857909395623115\n",
      "avg_prec: 0.1587957987971711\n",
      "MCC: 0.1635838439531245\n"
     ]
    },
    {
     "name": "stderr",
     "output_type": "stream",
     "text": [
      "\u001b[32m[I 2021-12-02 18:11:58,204]\u001b[0m Trial 51 finished with value: 0.26764834345845795 and parameters: {'n_estimators': 137, 'num_leaves': 449, 'max_depth': 4, 'learning_rate': 0.09856401771546326, 'min_child_samples': 14}. Best is trial 26 with value: 0.2681359505444071.\u001b[0m\n"
     ]
    },
    {
     "name": "stdout",
     "output_type": "stream",
     "text": [
      "PR_AUC: 0.23475363056260135\n",
      "avg_prec: 0.23495192412404997\n",
      "MCC: 0.26764834345845795\n"
     ]
    },
    {
     "name": "stderr",
     "output_type": "stream",
     "text": [
      "\u001b[32m[I 2021-12-02 18:12:00,360]\u001b[0m Trial 52 finished with value: 0.2656066891407098 and parameters: {'n_estimators': 177, 'num_leaves': 454, 'max_depth': 4, 'learning_rate': 0.1829172949353836, 'min_child_samples': 15}. Best is trial 26 with value: 0.2681359505444071.\u001b[0m\n"
     ]
    },
    {
     "name": "stdout",
     "output_type": "stream",
     "text": [
      "PR_AUC: 0.22870632694024523\n",
      "avg_prec: 0.22896405419007715\n",
      "MCC: 0.2656066891407098\n"
     ]
    },
    {
     "name": "stderr",
     "output_type": "stream",
     "text": [
      "\u001b[32m[I 2021-12-02 18:12:02,307]\u001b[0m Trial 53 finished with value: 0.26736329860793095 and parameters: {'n_estimators': 100, 'num_leaves': 469, 'max_depth': 5, 'learning_rate': 0.08961913397873326, 'min_child_samples': 10}. Best is trial 26 with value: 0.2681359505444071.\u001b[0m\n"
     ]
    },
    {
     "name": "stdout",
     "output_type": "stream",
     "text": [
      "PR_AUC: 0.23640834632190624\n",
      "avg_prec: 0.23666393228525479\n",
      "MCC: 0.26736329860793095\n"
     ]
    },
    {
     "name": "stderr",
     "output_type": "stream",
     "text": [
      "\u001b[32m[I 2021-12-02 18:12:04,322]\u001b[0m Trial 54 finished with value: 0.2678905246419542 and parameters: {'n_estimators': 107, 'num_leaves': 471, 'max_depth': 5, 'learning_rate': 0.06880802722461876, 'min_child_samples': 12}. Best is trial 26 with value: 0.2681359505444071.\u001b[0m\n"
     ]
    },
    {
     "name": "stdout",
     "output_type": "stream",
     "text": [
      "PR_AUC: 0.23579993689060535\n",
      "avg_prec: 0.23599430396187634\n",
      "MCC: 0.2678905246419542\n"
     ]
    },
    {
     "name": "stderr",
     "output_type": "stream",
     "text": [
      "\u001b[32m[I 2021-12-02 18:12:06,448]\u001b[0m Trial 55 finished with value: 0.2670865091253682 and parameters: {'n_estimators': 102, 'num_leaves': 439, 'max_depth': 5, 'learning_rate': 0.08268380509561547, 'min_child_samples': 10}. Best is trial 26 with value: 0.2681359505444071.\u001b[0m\n"
     ]
    },
    {
     "name": "stdout",
     "output_type": "stream",
     "text": [
      "PR_AUC: 0.2354312323156965\n",
      "avg_prec: 0.23562500627371558\n",
      "MCC: 0.2670865091253682\n"
     ]
    },
    {
     "name": "stderr",
     "output_type": "stream",
     "text": [
      "\u001b[32m[I 2021-12-02 18:12:11,811]\u001b[0m Trial 56 finished with value: 0.15718330748574508 and parameters: {'n_estimators': 147, 'num_leaves': 472, 'max_depth': 13, 'learning_rate': 0.1492667695327478, 'min_child_samples': 13}. Best is trial 26 with value: 0.2681359505444071.\u001b[0m\n"
     ]
    },
    {
     "name": "stdout",
     "output_type": "stream",
     "text": [
      "PR_AUC: 0.16689404945401515\n",
      "avg_prec: 0.16715447363529898\n",
      "MCC: 0.15718330748574508\n"
     ]
    },
    {
     "name": "stderr",
     "output_type": "stream",
     "text": [
      "\u001b[32m[I 2021-12-02 18:12:14,850]\u001b[0m Trial 57 finished with value: 0.1585649887977986 and parameters: {'n_estimators': 160, 'num_leaves': 399, 'max_depth': 7, 'learning_rate': 0.6223760916446804, 'min_child_samples': 17}. Best is trial 26 with value: 0.2681359505444071.\u001b[0m\n"
     ]
    },
    {
     "name": "stdout",
     "output_type": "stream",
     "text": [
      "PR_AUC: 0.15002475412226424\n",
      "avg_prec: 0.15033606454238585\n",
      "MCC: 0.1585649887977986\n"
     ]
    },
    {
     "name": "stderr",
     "output_type": "stream",
     "text": [
      "\u001b[32m[I 2021-12-02 18:12:17,286]\u001b[0m Trial 58 finished with value: 0.26178002727794497 and parameters: {'n_estimators': 140, 'num_leaves': 455, 'max_depth': 5, 'learning_rate': 0.18868136930475382, 'min_child_samples': 19}. Best is trial 26 with value: 0.2681359505444071.\u001b[0m\n"
     ]
    },
    {
     "name": "stdout",
     "output_type": "stream",
     "text": [
      "PR_AUC: 0.22579327951961664\n",
      "avg_prec: 0.22600257947856595\n",
      "MCC: 0.26178002727794497\n"
     ]
    },
    {
     "name": "stderr",
     "output_type": "stream",
     "text": [
      "\u001b[32m[I 2021-12-02 18:12:19,869]\u001b[0m Trial 59 finished with value: 0.2644800625200721 and parameters: {'n_estimators': 116, 'num_leaves': 62, 'max_depth': 9, 'learning_rate': 0.0602913571310376, 'min_child_samples': 13}. Best is trial 26 with value: 0.2681359505444071.\u001b[0m\n"
     ]
    },
    {
     "name": "stdout",
     "output_type": "stream",
     "text": [
      "PR_AUC: 0.23493339150990936\n",
      "avg_prec: 0.23510834931726055\n",
      "MCC: 0.2644800625200721\n"
     ]
    }
   ],
   "source": [
    "def create_model(trial):\n",
    "    n_estimators = trial.suggest_int('n_estimators',100,500)\n",
    "    num_leaves = trial.suggest_int('num_leaves',10,500)\n",
    "    max_depth = trial.suggest_int('max_depth',4,20)\n",
    "    learning_rate = trial.suggest_uniform('learning_rate',0.0001,1)\n",
    "    min_child_samples = trial.suggest_int('min_child_samples',10,50)\n",
    "    model = LGBMClassifier(n_estimators=n_estimators, num_leaves=num_leaves, \n",
    "                           max_depth=max_depth, learning_rate=learning_rate, \n",
    "                           min_child_samples=min_child_samples, class_weight='balanced')\n",
    "#    model = LGBMClassifier(n_estimators=n_estimators, num_leaves=num_leaves, \n",
    "#                           max_depth=max_depth, learning_rate=learning_rate, \n",
    "#                           min_child_samples=min_child_samples)\n",
    "    return model\n",
    "\n",
    "def objective(trial):\n",
    "    model = create_model(trial)\n",
    "    model.fit(X_rus, y_rus)\n",
    "    y_pred = model.predict(X_test)\n",
    "    probs = model.predict_proba(X_test)\n",
    "    prob1 = probs[:, 1]  # Only positives\n",
    "    precision, recall, pr_thresh = precision_recall_curve(y_test, prob1)\n",
    "    roc = roc_auc_score(y_test, prob1)\n",
    "    mcc = matthews_corrcoef(y_test, y_pred)  # MWB\n",
    "    f2 = fbeta_score(y_test, y_pred, beta=2.0, average=None)[1]\n",
    "    pr_auc = auc(recall, precision)\n",
    "    avg_precision = average_precision_score(y_test, prob1)\n",
    "    print(f'PR_AUC: {pr_auc}')\n",
    "    print(f'avg_prec: {avg_precision}')\n",
    "    print(f'MCC: {mcc}')\n",
    "    return mcc\n",
    "#    return roc\n",
    "\n",
    "sampler = TPESampler(seed=42)\n",
    "study = optuna.create_study(sampler=sampler,direction='maximize')\n",
    "study.optimize(objective,n_trials=60)\n",
    "#study.optimize(objective,n_trials=10)"
   ]
  },
  {
   "cell_type": "code",
   "execution_count": 31,
   "metadata": {},
   "outputs": [
    {
     "name": "stdout",
     "output_type": "stream",
     "text": [
      "[[35311 17210]\n",
      " [  355  2748]]\n",
      "              precision    recall  f1-score   support\n",
      "\n",
      "           0       0.99      0.67      0.80     52521\n",
      "           1       0.14      0.89      0.24      3103\n",
      "\n",
      "    accuracy                           0.68     55624\n",
      "   macro avg       0.56      0.78      0.52     55624\n",
      "weighted avg       0.94      0.68      0.77     55624\n",
      "\n",
      "ROC AUC pred: 0.7789580667280378\n",
      "ROC AUC prob1: 0.8413393017944365\n",
      "MCC: 0.26695655516312067\n",
      "F2: 0.4244670991658943\n",
      "PR_AUC: 0.23720579120809138\n"
     ]
    }
   ],
   "source": [
    "lgb_params = study.best_params\n",
    "lgb_params['random_state'] = 42\n",
    "lgb_params['class_weight'] = 'balanced'\n",
    "lgb = LGBMClassifier(**lgb_params)\n",
    "lgb.fit(X_rus, y_rus)\n",
    "y_pred = lgb.predict(X_test)\n",
    "probs = lgb.predict_proba(X_test)\n",
    "prob1 = probs[:, 1]  # Only positives\n",
    "precision, recall, pr_thresh = precision_recall_curve(y_test, prob1)\n",
    "print(confusion_matrix(y_pred=y_pred, y_true=y_test))\n",
    "print(classification_report(y_test,lgb.predict(X_test)))\n",
    "print(f'ROC AUC pred: {roc_auc_score(y_test, y_pred)}')\n",
    "print(f'ROC AUC prob1: {roc_auc_score(y_test, prob1)}')\n",
    "print(f'MCC: {matthews_corrcoef(y_test, y_pred)}')\n",
    "print(f'F2: {fbeta_score(y_test, y_pred, beta=2.0, average=None)[1]}')\n",
    "print(f'PR_AUC: {auc(recall, precision)}')"
   ]
  },
  {
   "cell_type": "code",
   "execution_count": 35,
   "metadata": {},
   "outputs": [
    {
     "name": "stdout",
     "output_type": "stream",
     "text": [
      "[[35321 17200]\n",
      " [  348  2755]]\n",
      "              precision    recall  f1-score   support\n",
      "\n",
      "           0       0.99      0.67      0.80     52521\n",
      "           1       0.14      0.89      0.24      3103\n",
      "\n",
      "    accuracy                           0.68     55624\n",
      "   macro avg       0.56      0.78      0.52     55624\n",
      "weighted avg       0.94      0.68      0.77     55624\n",
      "\n",
      "ROC AUC pred: 0.8413901232012144\n",
      "MCC: 0.2681359505444071\n",
      "F2: 0.42558779003305836\n",
      "PR_AUC: 0.23328128665994488\n"
     ]
    }
   ],
   "source": [
    "lgb_params = study.best_params\n",
    "lgb_params['random_state'] = 42\n",
    "lgb_params['class_weight'] = 'balanced'\n",
    "lgb = LGBMClassifier(**lgb_params)\n",
    "lgb.fit(X_rus, y_rus)\n",
    "y_pred = lgb.predict(X_test)\n",
    "probs = lgb.predict_proba(X_test)\n",
    "prob1 = probs[:, 1]  # Only positives\n",
    "precision, recall, pr_thresh = precision_recall_curve(y_test, prob1)\n",
    "print(confusion_matrix(y_pred=y_pred, y_true=y_test))\n",
    "print(classification_report(y_test,lgb.predict(X_test)))\n",
    "print(f'ROC AUC pred: {roc_auc_score(y_test, prob1)}')\n",
    "print(f'MCC: {matthews_corrcoef(y_test, y_pred)}')\n",
    "print(f'F2: {fbeta_score(y_test, y_pred, beta=2.0, average=None)[1]}')\n",
    "print(f'PR_AUC: {auc(recall, precision)}')"
   ]
  },
  {
   "cell_type": "code",
   "execution_count": 37,
   "metadata": {},
   "outputs": [
    {
     "data": {
      "text/plain": [
       "{'n_estimators': 214,\n",
       " 'num_leaves': 378,\n",
       " 'max_depth': 4,\n",
       " 'learning_rate': 0.079,\n",
       " 'min_child_samples': 37,\n",
       " 'random_state': 42,\n",
       " 'class_weight': 'balanced'}"
      ]
     },
     "execution_count": 37,
     "metadata": {},
     "output_type": "execute_result"
    }
   ],
   "source": [
    "lgb_params"
   ]
  },
  {
   "cell_type": "markdown",
   "metadata": {},
   "source": [
    "<h1 align='center'>Thanks and make sure to learn!</h1>"
   ]
  }
 ],
 "metadata": {
  "kernelspec": {
   "display_name": "Python 3",
   "language": "python",
   "name": "python3"
  },
  "language_info": {
   "codemirror_mode": {
    "name": "ipython",
    "version": 3
   },
   "file_extension": ".py",
   "mimetype": "text/x-python",
   "name": "python",
   "nbconvert_exporter": "python",
   "pygments_lexer": "ipython3",
   "version": "3.7.9"
  }
 },
 "nbformat": 4,
 "nbformat_minor": 4
}
