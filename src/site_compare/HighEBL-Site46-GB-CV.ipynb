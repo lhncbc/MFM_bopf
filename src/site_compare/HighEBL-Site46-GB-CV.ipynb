{
 "cells": [
  {
   "cell_type": "code",
   "execution_count": 1,
   "metadata": {
    "_cell_guid": "b1076dfc-b9ad-4769-8c92-a6c4dae69d19",
    "_uuid": "8f2839f25d086af736a60e9eeb907d3b93b6e0e5"
   },
   "outputs": [],
   "source": [
    "import numpy as np \n",
    "import pandas as pd \n",
    "\n",
    "import matplotlib.pyplot as plt\n",
    "#import plotly.express as px\n",
    "import seaborn as sns\n",
    "\n",
    "from lightgbm import LGBMClassifier\n",
    "from sklearn.ensemble import GradientBoostingClassifier\n",
    "\n",
    "from sklearn.model_selection import StratifiedKFold\n",
    "from collections import Counter\n",
    "from imblearn.under_sampling import RandomUnderSampler\n",
    "from sklearn.metrics import classification_report, roc_auc_score, confusion_matrix, \\\n",
    "                            accuracy_score, f1_score, average_precision_score, \\\n",
    "                            fbeta_score, precision_recall_curve, auc\n",
    "from sklearn.metrics import matthews_corrcoef\n",
    "\n",
    "from sklearn.model_selection import train_test_split\n",
    "\n",
    "import optuna\n",
    "from optuna.samplers import TPESampler\n",
    "sns.set(style='white', context='notebook', palette='deep')\n",
    "%config Completer.use_jedi = False"
   ]
  },
  {
   "cell_type": "code",
   "execution_count": 2,
   "metadata": {},
   "outputs": [
    {
     "data": {
      "text/html": [
       "<div>\n",
       "<style scoped>\n",
       "    .dataframe tbody tr th:only-of-type {\n",
       "        vertical-align: middle;\n",
       "    }\n",
       "\n",
       "    .dataframe tbody tr th {\n",
       "        vertical-align: top;\n",
       "    }\n",
       "\n",
       "    .dataframe thead th {\n",
       "        text-align: right;\n",
       "    }\n",
       "</style>\n",
       "<table border=\"1\" class=\"dataframe\">\n",
       "  <thead>\n",
       "    <tr style=\"text-align: right;\">\n",
       "      <th></th>\n",
       "      <th>transfus_yes</th>\n",
       "      <th>Accrete</th>\n",
       "      <th>AdmBishop</th>\n",
       "      <th>Admcervpos</th>\n",
       "      <th>Admconsistency</th>\n",
       "      <th>Admcontract</th>\n",
       "      <th>AdmDBP</th>\n",
       "      <th>Admefface</th>\n",
       "      <th>Admpresent</th>\n",
       "      <th>AdmSBP</th>\n",
       "      <th>...</th>\n",
       "      <th>TD_nos</th>\n",
       "      <th>ThreatenedPB</th>\n",
       "      <th>threatpb9</th>\n",
       "      <th>UnspecHBP</th>\n",
       "      <th>uscar</th>\n",
       "      <th>version9</th>\n",
       "      <th>new_age</th>\n",
       "      <th>new_BMI</th>\n",
       "      <th>new_high_Age</th>\n",
       "      <th>new_high_BMI</th>\n",
       "    </tr>\n",
       "    <tr>\n",
       "      <th>MomID</th>\n",
       "      <th></th>\n",
       "      <th></th>\n",
       "      <th></th>\n",
       "      <th></th>\n",
       "      <th></th>\n",
       "      <th></th>\n",
       "      <th></th>\n",
       "      <th></th>\n",
       "      <th></th>\n",
       "      <th></th>\n",
       "      <th></th>\n",
       "      <th></th>\n",
       "      <th></th>\n",
       "      <th></th>\n",
       "      <th></th>\n",
       "      <th></th>\n",
       "      <th></th>\n",
       "      <th></th>\n",
       "      <th></th>\n",
       "      <th></th>\n",
       "      <th></th>\n",
       "    </tr>\n",
       "  </thead>\n",
       "  <tbody>\n",
       "    <tr>\n",
       "      <th>46-00490</th>\n",
       "      <td>0</td>\n",
       "      <td>0</td>\n",
       "      <td>8</td>\n",
       "      <td>8</td>\n",
       "      <td>8</td>\n",
       "      <td>99.0</td>\n",
       "      <td>79</td>\n",
       "      <td>0.0</td>\n",
       "      <td>1</td>\n",
       "      <td>120.0</td>\n",
       "      <td>...</td>\n",
       "      <td>0</td>\n",
       "      <td>0</td>\n",
       "      <td>0</td>\n",
       "      <td>0</td>\n",
       "      <td>0</td>\n",
       "      <td>0</td>\n",
       "      <td>35</td>\n",
       "      <td>20</td>\n",
       "      <td>1</td>\n",
       "      <td>0</td>\n",
       "    </tr>\n",
       "    <tr>\n",
       "      <th>46-03267</th>\n",
       "      <td>0</td>\n",
       "      <td>0</td>\n",
       "      <td>8</td>\n",
       "      <td>8</td>\n",
       "      <td>8</td>\n",
       "      <td>99.0</td>\n",
       "      <td>88</td>\n",
       "      <td>0.0</td>\n",
       "      <td>1</td>\n",
       "      <td>122.0</td>\n",
       "      <td>...</td>\n",
       "      <td>0</td>\n",
       "      <td>0</td>\n",
       "      <td>0</td>\n",
       "      <td>0</td>\n",
       "      <td>0</td>\n",
       "      <td>0</td>\n",
       "      <td>29</td>\n",
       "      <td>33</td>\n",
       "      <td>1</td>\n",
       "      <td>1</td>\n",
       "    </tr>\n",
       "    <tr>\n",
       "      <th>46-05746</th>\n",
       "      <td>0</td>\n",
       "      <td>0</td>\n",
       "      <td>8</td>\n",
       "      <td>8</td>\n",
       "      <td>8</td>\n",
       "      <td>99.0</td>\n",
       "      <td>63</td>\n",
       "      <td>0.0</td>\n",
       "      <td>1</td>\n",
       "      <td>130.0</td>\n",
       "      <td>...</td>\n",
       "      <td>0</td>\n",
       "      <td>0</td>\n",
       "      <td>0</td>\n",
       "      <td>0</td>\n",
       "      <td>0</td>\n",
       "      <td>0</td>\n",
       "      <td>22</td>\n",
       "      <td>24</td>\n",
       "      <td>1</td>\n",
       "      <td>1</td>\n",
       "    </tr>\n",
       "    <tr>\n",
       "      <th>46-04895</th>\n",
       "      <td>0</td>\n",
       "      <td>0</td>\n",
       "      <td>8</td>\n",
       "      <td>8</td>\n",
       "      <td>8</td>\n",
       "      <td>99.0</td>\n",
       "      <td>91</td>\n",
       "      <td>0.0</td>\n",
       "      <td>1</td>\n",
       "      <td>152.0</td>\n",
       "      <td>...</td>\n",
       "      <td>0</td>\n",
       "      <td>0</td>\n",
       "      <td>0</td>\n",
       "      <td>0</td>\n",
       "      <td>0</td>\n",
       "      <td>0</td>\n",
       "      <td>25</td>\n",
       "      <td>30</td>\n",
       "      <td>1</td>\n",
       "      <td>1</td>\n",
       "    </tr>\n",
       "    <tr>\n",
       "      <th>46-06459</th>\n",
       "      <td>0</td>\n",
       "      <td>0</td>\n",
       "      <td>8</td>\n",
       "      <td>8</td>\n",
       "      <td>8</td>\n",
       "      <td>99.0</td>\n",
       "      <td>74</td>\n",
       "      <td>0.0</td>\n",
       "      <td>1</td>\n",
       "      <td>127.0</td>\n",
       "      <td>...</td>\n",
       "      <td>0</td>\n",
       "      <td>0</td>\n",
       "      <td>0</td>\n",
       "      <td>0</td>\n",
       "      <td>0</td>\n",
       "      <td>0</td>\n",
       "      <td>21</td>\n",
       "      <td>24</td>\n",
       "      <td>1</td>\n",
       "      <td>1</td>\n",
       "    </tr>\n",
       "    <tr>\n",
       "      <th>...</th>\n",
       "      <td>...</td>\n",
       "      <td>...</td>\n",
       "      <td>...</td>\n",
       "      <td>...</td>\n",
       "      <td>...</td>\n",
       "      <td>...</td>\n",
       "      <td>...</td>\n",
       "      <td>...</td>\n",
       "      <td>...</td>\n",
       "      <td>...</td>\n",
       "      <td>...</td>\n",
       "      <td>...</td>\n",
       "      <td>...</td>\n",
       "      <td>...</td>\n",
       "      <td>...</td>\n",
       "      <td>...</td>\n",
       "      <td>...</td>\n",
       "      <td>...</td>\n",
       "      <td>...</td>\n",
       "      <td>...</td>\n",
       "      <td>...</td>\n",
       "    </tr>\n",
       "    <tr>\n",
       "      <th>46-00421</th>\n",
       "      <td>0</td>\n",
       "      <td>0</td>\n",
       "      <td>8</td>\n",
       "      <td>8</td>\n",
       "      <td>8</td>\n",
       "      <td>2.0</td>\n",
       "      <td>69</td>\n",
       "      <td>0.0</td>\n",
       "      <td>1</td>\n",
       "      <td>121.0</td>\n",
       "      <td>...</td>\n",
       "      <td>0</td>\n",
       "      <td>0</td>\n",
       "      <td>0</td>\n",
       "      <td>0</td>\n",
       "      <td>0</td>\n",
       "      <td>0</td>\n",
       "      <td>22</td>\n",
       "      <td>31</td>\n",
       "      <td>1</td>\n",
       "      <td>1</td>\n",
       "    </tr>\n",
       "    <tr>\n",
       "      <th>46-01335</th>\n",
       "      <td>0</td>\n",
       "      <td>0</td>\n",
       "      <td>8</td>\n",
       "      <td>8</td>\n",
       "      <td>8</td>\n",
       "      <td>99.0</td>\n",
       "      <td>85</td>\n",
       "      <td>0.0</td>\n",
       "      <td>1</td>\n",
       "      <td>136.0</td>\n",
       "      <td>...</td>\n",
       "      <td>0</td>\n",
       "      <td>0</td>\n",
       "      <td>0</td>\n",
       "      <td>0</td>\n",
       "      <td>0</td>\n",
       "      <td>0</td>\n",
       "      <td>23</td>\n",
       "      <td>31</td>\n",
       "      <td>1</td>\n",
       "      <td>1</td>\n",
       "    </tr>\n",
       "    <tr>\n",
       "      <th>46-04625</th>\n",
       "      <td>0</td>\n",
       "      <td>0</td>\n",
       "      <td>8</td>\n",
       "      <td>8</td>\n",
       "      <td>8</td>\n",
       "      <td>99.0</td>\n",
       "      <td>100</td>\n",
       "      <td>0.0</td>\n",
       "      <td>1</td>\n",
       "      <td>151.0</td>\n",
       "      <td>...</td>\n",
       "      <td>0</td>\n",
       "      <td>0</td>\n",
       "      <td>0</td>\n",
       "      <td>0</td>\n",
       "      <td>0</td>\n",
       "      <td>0</td>\n",
       "      <td>26</td>\n",
       "      <td>44</td>\n",
       "      <td>1</td>\n",
       "      <td>2</td>\n",
       "    </tr>\n",
       "    <tr>\n",
       "      <th>46-05080</th>\n",
       "      <td>0</td>\n",
       "      <td>0</td>\n",
       "      <td>8</td>\n",
       "      <td>8</td>\n",
       "      <td>8</td>\n",
       "      <td>2.5</td>\n",
       "      <td>63</td>\n",
       "      <td>0.0</td>\n",
       "      <td>1</td>\n",
       "      <td>109.0</td>\n",
       "      <td>...</td>\n",
       "      <td>0</td>\n",
       "      <td>0</td>\n",
       "      <td>0</td>\n",
       "      <td>0</td>\n",
       "      <td>0</td>\n",
       "      <td>0</td>\n",
       "      <td>33</td>\n",
       "      <td>31</td>\n",
       "      <td>1</td>\n",
       "      <td>1</td>\n",
       "    </tr>\n",
       "    <tr>\n",
       "      <th>46-04468</th>\n",
       "      <td>0</td>\n",
       "      <td>0</td>\n",
       "      <td>8</td>\n",
       "      <td>8</td>\n",
       "      <td>8</td>\n",
       "      <td>99.0</td>\n",
       "      <td>55</td>\n",
       "      <td>0.0</td>\n",
       "      <td>1</td>\n",
       "      <td>110.0</td>\n",
       "      <td>...</td>\n",
       "      <td>0</td>\n",
       "      <td>0</td>\n",
       "      <td>0</td>\n",
       "      <td>0</td>\n",
       "      <td>1</td>\n",
       "      <td>0</td>\n",
       "      <td>37</td>\n",
       "      <td>35</td>\n",
       "      <td>1</td>\n",
       "      <td>1</td>\n",
       "    </tr>\n",
       "  </tbody>\n",
       "</table>\n",
       "<p>4063 rows × 195 columns</p>\n",
       "</div>"
      ],
      "text/plain": [
       "          transfus_yes  Accrete  AdmBishop  Admcervpos  Admconsistency  \\\n",
       "MomID                                                                    \n",
       "46-00490             0        0          8           8               8   \n",
       "46-03267             0        0          8           8               8   \n",
       "46-05746             0        0          8           8               8   \n",
       "46-04895             0        0          8           8               8   \n",
       "46-06459             0        0          8           8               8   \n",
       "...                ...      ...        ...         ...             ...   \n",
       "46-00421             0        0          8           8               8   \n",
       "46-01335             0        0          8           8               8   \n",
       "46-04625             0        0          8           8               8   \n",
       "46-05080             0        0          8           8               8   \n",
       "46-04468             0        0          8           8               8   \n",
       "\n",
       "          Admcontract  AdmDBP  Admefface  Admpresent  AdmSBP  ...  TD_nos  \\\n",
       "MomID                                                         ...           \n",
       "46-00490         99.0      79        0.0           1   120.0  ...       0   \n",
       "46-03267         99.0      88        0.0           1   122.0  ...       0   \n",
       "46-05746         99.0      63        0.0           1   130.0  ...       0   \n",
       "46-04895         99.0      91        0.0           1   152.0  ...       0   \n",
       "46-06459         99.0      74        0.0           1   127.0  ...       0   \n",
       "...               ...     ...        ...         ...     ...  ...     ...   \n",
       "46-00421          2.0      69        0.0           1   121.0  ...       0   \n",
       "46-01335         99.0      85        0.0           1   136.0  ...       0   \n",
       "46-04625         99.0     100        0.0           1   151.0  ...       0   \n",
       "46-05080          2.5      63        0.0           1   109.0  ...       0   \n",
       "46-04468         99.0      55        0.0           1   110.0  ...       0   \n",
       "\n",
       "          ThreatenedPB  threatpb9  UnspecHBP  uscar  version9  new_age  \\\n",
       "MomID                                                                    \n",
       "46-00490             0          0          0      0         0       35   \n",
       "46-03267             0          0          0      0         0       29   \n",
       "46-05746             0          0          0      0         0       22   \n",
       "46-04895             0          0          0      0         0       25   \n",
       "46-06459             0          0          0      0         0       21   \n",
       "...                ...        ...        ...    ...       ...      ...   \n",
       "46-00421             0          0          0      0         0       22   \n",
       "46-01335             0          0          0      0         0       23   \n",
       "46-04625             0          0          0      0         0       26   \n",
       "46-05080             0          0          0      0         0       33   \n",
       "46-04468             0          0          0      1         0       37   \n",
       "\n",
       "          new_BMI  new_high_Age  new_high_BMI  \n",
       "MomID                                          \n",
       "46-00490       20             1             0  \n",
       "46-03267       33             1             1  \n",
       "46-05746       24             1             1  \n",
       "46-04895       30             1             1  \n",
       "46-06459       24             1             1  \n",
       "...           ...           ...           ...  \n",
       "46-00421       31             1             1  \n",
       "46-01335       31             1             1  \n",
       "46-04625       44             1             2  \n",
       "46-05080       31             1             1  \n",
       "46-04468       35             1             1  \n",
       "\n",
       "[4063 rows x 195 columns]"
      ]
     },
     "execution_count": 2,
     "metadata": {},
     "output_type": "execute_result"
    }
   ],
   "source": [
    "csl_df = pd.read_csv('../../data/csl/Sites/CSL_he_PI_s46.csv', index_col=0)\n",
    "X = csl_df.drop(['high_EBL','Sitenum'], axis=1, inplace=False)\n",
    "y = csl_df['high_EBL'].values\n",
    "\n",
    "X_train, X_test, y_train, y_test = train_test_split(X, y, test_size=0.3, stratify=y, random_state=7)\n",
    "X_train                                                    "
   ]
  },
  {
   "cell_type": "code",
   "execution_count": 3,
   "metadata": {},
   "outputs": [
    {
     "data": {
      "text/plain": [
       "(5805, 195)"
      ]
     },
     "execution_count": 3,
     "metadata": {},
     "output_type": "execute_result"
    }
   ],
   "source": [
    "X.shape"
   ]
  },
  {
   "cell_type": "markdown",
   "metadata": {},
   "source": [
    "<h1 align='center'>Exploratory Data Analysis</h1>"
   ]
  },
  {
   "cell_type": "markdown",
   "metadata": {},
   "source": [
    "<h1 align='center'>Modelling</h1>"
   ]
  },
  {
   "cell_type": "code",
   "execution_count": 8,
   "metadata": {},
   "outputs": [
    {
     "name": "stdout",
     "output_type": "stream",
     "text": [
      "(4063, 195)\n",
      "(5805, 195)\n",
      "(5805,)\n"
     ]
    }
   ],
   "source": [
    "print(X_train.shape)\n",
    "print(X.shape)\n",
    "print(y.shape)"
   ]
  },
  {
   "cell_type": "markdown",
   "metadata": {},
   "source": [
    "Here we define our validation set"
   ]
  },
  {
   "cell_type": "markdown",
   "metadata": {},
   "source": [
    "<h1 align='center'>Modelling Using Undersampling</h1>"
   ]
  },
  {
   "cell_type": "markdown",
   "metadata": {},
   "source": [
    "We will use `imblearn`'s RandomUnderSampler to undersample from the majority class so that they match"
   ]
  },
  {
   "cell_type": "code",
   "execution_count": 9,
   "metadata": {},
   "outputs": [],
   "source": [
    "sampler = RandomUnderSampler(sampling_strategy=1.0, random_state=7)\n",
    "X_rus, y_rus = sampler.fit_resample(X_train, y_train)\n",
    "\n",
    "# Try with no undersampling\n",
    "#X_rus, y_rus = X_train, y_train"
   ]
  },
  {
   "cell_type": "code",
   "execution_count": 10,
   "metadata": {},
   "outputs": [
    {
     "name": "stdout",
     "output_type": "stream",
     "text": [
      "(260, 195)\n",
      "(260,)\n",
      "[130 130]\n"
     ]
    }
   ],
   "source": [
    "print(X_rus.shape)\n",
    "print(y_rus.shape)\n",
    "print(np.bincount(y_rus))"
   ]
  },
  {
   "cell_type": "markdown",
   "metadata": {},
   "source": [
    "<h1 align='center'>Basic Gradient Boosting</h1>"
   ]
  },
  {
   "cell_type": "code",
   "execution_count": 11,
   "metadata": {},
   "outputs": [
    {
     "name": "stdout",
     "output_type": "stream",
     "text": [
      "{'ccp_alpha': 0.0, 'criterion': 'friedman_mse', 'init': None, 'learning_rate': 0.1, 'loss': 'deviance', 'max_depth': 3, 'max_features': None, 'max_leaf_nodes': None, 'min_impurity_decrease': 0.0, 'min_impurity_split': None, 'min_samples_leaf': 1, 'min_samples_split': 2, 'min_weight_fraction_leaf': 0.0, 'n_estimators': 100, 'n_iter_no_change': None, 'presort': 'deprecated', 'random_state': None, 'subsample': 1.0, 'tol': 0.0001, 'validation_fraction': 0.1, 'verbose': 0, 'warm_start': False}\n",
      "[[1309  377]\n",
      " [   9   47]]\n",
      "              precision    recall  f1-score   support\n",
      "\n",
      "           0       0.99      0.78      0.87      1686\n",
      "           1       0.11      0.84      0.20        56\n",
      "\n",
      "    accuracy                           0.78      1742\n",
      "   macro avg       0.55      0.81      0.53      1742\n",
      "weighted avg       0.96      0.78      0.85      1742\n",
      "\n",
      "ROC AUC prob1: 0.8567562701237079\n",
      "MCC: 0.2530678007252819\n",
      "F2: 0.36265432098765443\n",
      "PR_AUC: 0.13549053779939826\n",
      "CPU times: user 162 ms, sys: 2.07 ms, total: 164 ms\n",
      "Wall time: 159 ms\n"
     ]
    }
   ],
   "source": [
    "%%time\n",
    "from sklearn.metrics import matthews_corrcoef\n",
    "from sklearn.utils import class_weight\n",
    "gb_rus = GradientBoostingClassifier()   # If not undersampling\n",
    "gb_rus.fit(X_rus, y_rus)\n",
    "print(gb_rus.get_params())\n",
    "y_pred = gb_rus.predict(X_test)\n",
    "probs = gb_rus.predict_proba(X_test)\n",
    "prob1 = probs[:, 1]  # Only positives\n",
    "precision, recall, pr_thresh = precision_recall_curve(y_test, prob1)\n",
    "print(confusion_matrix(y_pred=y_pred, y_true=y_test))\n",
    "print(classification_report(y_test, y_pred))\n",
    "print(f'ROC AUC prob1: {roc_auc_score(y_test, prob1)}')\n",
    "print(f'MCC: {matthews_corrcoef(y_test, y_pred)}')\n",
    "print(f'F2: {fbeta_score(y_test, y_pred, beta=2.0, average=None)[1]}')\n",
    "print(f'PR_AUC: {auc(recall, precision)}')"
   ]
  },
  {
   "cell_type": "code",
   "execution_count": 12,
   "metadata": {},
   "outputs": [
    {
     "name": "stdout",
     "output_type": "stream",
     "text": [
      "{'ccp_alpha': 0.0, 'criterion': 'friedman_mse', 'init': None, 'learning_rate': 0.1, 'loss': 'deviance', 'max_depth': 3, 'max_features': None, 'max_leaf_nodes': None, 'min_impurity_decrease': 0.0, 'min_impurity_split': None, 'min_samples_leaf': 1, 'min_samples_split': 2, 'min_weight_fraction_leaf': 0.0, 'n_estimators': 100, 'n_iter_no_change': None, 'presort': 'deprecated', 'random_state': None, 'subsample': 1.0, 'tol': 0.0001, 'validation_fraction': 0.1, 'verbose': 0, 'warm_start': False}\n",
      "[[1442  244]\n",
      " [  17   39]]\n",
      "              precision    recall  f1-score   support\n",
      "\n",
      "           0       0.99      0.86      0.92      1686\n",
      "           1       0.14      0.70      0.23        56\n",
      "\n",
      "    accuracy                           0.85      1742\n",
      "   macro avg       0.56      0.78      0.57      1742\n",
      "weighted avg       0.96      0.85      0.89      1742\n",
      "\n",
      "ROC AUC prob1: 0.8497712252160652\n",
      "MCC: 0.2638218096977305\n",
      "F2: 0.3846153846153846\n",
      "PR_AUC: 0.18852169889904058\n",
      "CPU times: user 1.05 s, sys: 3.73 ms, total: 1.05 s\n",
      "Wall time: 1.04 s\n"
     ]
    }
   ],
   "source": [
    "%%time\n",
    "# Not undersampled\n",
    "from sklearn.metrics import matthews_corrcoef\n",
    "from sklearn.utils import class_weight\n",
    "gb_weight = GradientBoostingClassifier()  \n",
    "weights = class_weight.compute_sample_weight('balanced', y=y_train)\n",
    "gb_weight.fit(X_train, y_train, sample_weight=weights)\n",
    "print(gb_weight.get_params())\n",
    "y_pred = gb_weight.predict(X_test)\n",
    "probs = gb_weight.predict_proba(X_test)\n",
    "prob1 = probs[:, 1]  # Only positives\n",
    "precision, recall, pr_thresh = precision_recall_curve(y_test, prob1)\n",
    "print(confusion_matrix(y_pred=y_pred, y_true=y_test))\n",
    "print(classification_report(y_test, y_pred))\n",
    "print(f'ROC AUC prob1: {roc_auc_score(y_test, prob1)}')\n",
    "print(f'MCC: {matthews_corrcoef(y_test, y_pred)}')\n",
    "print(f'F2: {fbeta_score(y_test, y_pred, beta=2.0, average=None)[1]}')\n",
    "print(f'PR_AUC: {auc(recall, precision)}')"
   ]
  },
  {
   "cell_type": "markdown",
   "metadata": {},
   "source": [
    "<h1 align='center'>Hyperparameter Tuning with Cross Validation</h1>"
   ]
  },
  {
   "cell_type": "code",
   "execution_count": 13,
   "metadata": {
    "scrolled": false
   },
   "outputs": [
    {
     "name": "stderr",
     "output_type": "stream",
     "text": [
      "\u001b[32m[I 2021-12-10 17:00:14,407]\u001b[0m A new study created in memory with name: no-name-256eac24-d686-45cd-a14b-f54c07ede565\u001b[0m\n",
      "\u001b[32m[I 2021-12-10 17:00:14,775]\u001b[0m Trial 0 finished with value: 0.28638151657661026 and parameters: {'n_estimators': 24, 'subsample': 0.955983758448023, 'max_depth': 10, 'max_features': 17, 'learning_rate': 0.1973587414395923, 'min_samples_leaf': 27}. Best is trial 0 with value: 0.28638151657661026.\u001b[0m\n"
     ]
    },
    {
     "name": "stdout",
     "output_type": "stream",
     "text": [
      "MCC: [0.30564699604649737, 0.3074230828968115, 0.2695662766728247, 0.26288971069030764]\n",
      "ROC: [0.8878549254183388, 0.8728918458920006, 0.8537211821135695, 0.8154664484451718]\n",
      "PR_AUC: [0.21174375648411567, 0.11391911428393207, 0.11943774453643656, 0.10796089462368812]\n"
     ]
    },
    {
     "name": "stderr",
     "output_type": "stream",
     "text": [
      "\u001b[32m[I 2021-12-10 17:00:15,385]\u001b[0m Trial 1 finished with value: 0.27750364589252063 and parameters: {'n_estimators': 105, 'subsample': 0.8144102266719524, 'max_depth': 7, 'max_features': 15, 'learning_rate': 0.16150759953451288, 'min_samples_leaf': 41}. Best is trial 0 with value: 0.28638151657661026.\u001b[0m\n"
     ]
    },
    {
     "name": "stdout",
     "output_type": "stream",
     "text": [
      "MCC: [0.2773782408833501, 0.31280523508710295, 0.25501715853810003, 0.26481394906152955]\n",
      "ROC: [0.8810176421594609, 0.8896178245396874, 0.849002011449791, 0.8234982117960842]\n",
      "PR_AUC: [0.19859072731377486, 0.1360634724770983, 0.13353289660387305, 0.12231766446422083]\n"
     ]
    },
    {
     "name": "stderr",
     "output_type": "stream",
     "text": [
      "\u001b[32m[I 2021-12-10 17:00:16,041]\u001b[0m Trial 2 finished with value: 0.2800571664895577 and parameters: {'n_estimators': 82, 'subsample': 0.813187269381181, 'max_depth': 8, 'max_features': 20, 'learning_rate': 0.10560624242958987, 'min_samples_leaf': 23}. Best is trial 0 with value: 0.28638151657661026.\u001b[0m\n"
     ]
    },
    {
     "name": "stdout",
     "output_type": "stream",
     "text": [
      "MCC: [0.30072766327696615, 0.3028622148131213, 0.2595724776179845, 0.25706631025015886]\n",
      "ROC: [0.8757931400015144, 0.8738511527154572, 0.851152715457218, 0.8127841425713767]\n",
      "PR_AUC: [0.17453576314632532, 0.11967299576027038, 0.12917406086619937, 0.12118153883307348]\n"
     ]
    },
    {
     "name": "stderr",
     "output_type": "stream",
     "text": [
      "\u001b[32m[I 2021-12-10 17:00:17,173]\u001b[0m Trial 3 finished with value: 0.2659566751114252 and parameters: {'n_estimators': 187, 'subsample': 0.8049798455100696, 'max_depth': 13, 'max_features': 20, 'learning_rate': 0.10763634548251577, 'min_samples_leaf': 28}. Best is trial 0 with value: 0.28638151657661026.\u001b[0m\n"
     ]
    },
    {
     "name": "stdout",
     "output_type": "stream",
     "text": [
      "MCC: [0.283348774594879, 0.3114421247815641, 0.23081299734533872, 0.23822280372391888]\n",
      "ROC: [0.8804119027788294, 0.8763267832276034, 0.8382330187219557, 0.7950688003879494]\n",
      "PR_AUC: [0.18406420596844794, 0.14169398299675154, 0.11508342518668971, 0.13239290793948033]\n"
     ]
    },
    {
     "name": "stderr",
     "output_type": "stream",
     "text": [
      "\u001b[32m[I 2021-12-10 17:00:18,392]\u001b[0m Trial 4 finished with value: 0.26289392299010517 and parameters: {'n_estimators': 183, 'subsample': 0.8266338891518501, 'max_depth': 12, 'max_features': 18, 'learning_rate': 0.16028158890606967, 'min_samples_leaf': 24}. Best is trial 0 with value: 0.28638151657661026.\u001b[0m\n"
     ]
    },
    {
     "name": "stdout",
     "output_type": "stream",
     "text": [
      "MCC: [0.2739049406284071, 0.2832468432262327, 0.25016824128780485, 0.24425566681797606]\n",
      "ROC: [0.8694631634739154, 0.8709732322450875, 0.843694878539378, 0.790719524762078]\n",
      "PR_AUC: [0.16942338277913183, 0.12435985285046519, 0.11754659466137361, 0.11394364437670512]\n"
     ]
    },
    {
     "name": "stderr",
     "output_type": "stream",
     "text": [
      "\u001b[32m[I 2021-12-10 17:00:18,848]\u001b[0m Trial 5 finished with value: 0.2881502092719719 and parameters: {'n_estimators': 49, 'subsample': 0.8981531778182141, 'max_depth': 9, 'max_features': 15, 'learning_rate': 0.12390684629367116, 'min_samples_leaf': 42}. Best is trial 5 with value: 0.2881502092719719.\u001b[0m\n"
     ]
    },
    {
     "name": "stdout",
     "output_type": "stream",
     "text": [
      "MCC: [0.2889949203108434, 0.3272568687521583, 0.2695662766728247, 0.2667827713520612]\n",
      "ROC: [0.8908760505792382, 0.8894785703233793, 0.8545102893393162, 0.8414711765775595]\n",
      "PR_AUC: [0.1921833835779145, 0.13353530269831138, 0.14538755819220972, 0.1265279606177426]\n"
     ]
    },
    {
     "name": "stderr",
     "output_type": "stream",
     "text": [
      "\u001b[32m[I 2021-12-10 17:00:20,193]\u001b[0m Trial 6 finished with value: 0.2653098239338548 and parameters: {'n_estimators': 156, 'subsample': 0.8627989354425325, 'max_depth': 13, 'max_features': 13, 'learning_rate': 0.13434115190556806, 'min_samples_leaf': 18}. Best is trial 5 with value: 0.2881502092719719.\u001b[0m\n"
     ]
    },
    {
     "name": "stdout",
     "output_type": "stream",
     "text": [
      "MCC: [0.2896005266272599, 0.27015817065381187, 0.24569227831435164, 0.2557883201399959]\n",
      "ROC: [0.871901264480957, 0.8693331270307907, 0.8334983753674764, 0.7947808692489543]\n",
      "PR_AUC: [0.16640952723065733, 0.11844134921045493, 0.11331439679841056, 0.11929506622552678]\n"
     ]
    },
    {
     "name": "stderr",
     "output_type": "stream",
     "text": [
      "\u001b[32m[I 2021-12-10 17:00:20,986]\u001b[0m Trial 7 finished with value: 0.280838704001411 and parameters: {'n_estimators': 135, 'subsample': 0.8740702165976071, 'max_depth': 11, 'max_features': 17, 'learning_rate': 0.12955901949366017, 'min_samples_leaf': 46}. Best is trial 5 with value: 0.2881502092719719.\u001b[0m\n"
     ]
    },
    {
     "name": "stdout",
     "output_type": "stream",
     "text": [
      "MCC: [0.2797385149484949, 0.33105492854125085, 0.24514225182797791, 0.26741912068792023]\n",
      "ROC: [0.8772317710305142, 0.8875290112950642, 0.8512919696735263, 0.8340758925865308]\n",
      "PR_AUC: [0.19005361226200096, 0.13255169906775877, 0.11994163782686902, 0.12285939485588286]\n"
     ]
    },
    {
     "name": "stderr",
     "output_type": "stream",
     "text": [
      "\u001b[32m[I 2021-12-10 17:00:21,445]\u001b[0m Trial 8 finished with value: 0.28426236628066226 and parameters: {'n_estimators': 44, 'subsample': 0.9482237745826528, 'max_depth': 10, 'max_features': 14, 'learning_rate': 0.15612558423606065, 'min_samples_leaf': 27}. Best is trial 5 with value: 0.2881502092719719.\u001b[0m\n"
     ]
    },
    {
     "name": "stdout",
     "output_type": "stream",
     "text": [
      "MCC: [0.29143175781897634, 0.3058547968119677, 0.275593157398989, 0.26416975309271595]\n",
      "ROC: [0.8764140228666616, 0.8800711743772242, 0.8472690700912889, 0.8110565557374069]\n",
      "PR_AUC: [0.1986954562573955, 0.12105158885544196, 0.1103951108926426, 0.12552688895890338]\n"
     ]
    },
    {
     "name": "stderr",
     "output_type": "stream",
     "text": [
      "\u001b[32m[I 2021-12-10 17:00:22,099]\u001b[0m Trial 9 finished with value: 0.2772222194233315 and parameters: {'n_estimators': 89, 'subsample': 0.8002853761125517, 'max_depth': 4, 'max_features': 17, 'learning_rate': 0.14292147161182367, 'min_samples_leaf': 35}. Best is trial 5 with value: 0.2881502092719719.\u001b[0m\n"
     ]
    },
    {
     "name": "stdout",
     "output_type": "stream",
     "text": [
      "MCC: [0.26816044385035576, 0.33717064681497627, 0.24903640062218735, 0.2545213864058067]\n",
      "ROC: [0.8776557885969561, 0.8818041157357264, 0.8402444685130744, 0.8020094562647754]\n",
      "PR_AUC: [0.171020037840858, 0.1257302784291565, 0.1337419874683443, 0.1303263096467813]\n"
     ]
    },
    {
     "name": "stderr",
     "output_type": "stream",
     "text": [
      "\u001b[32m[I 2021-12-10 17:00:23,187]\u001b[0m Trial 10 finished with value: 0.2722770327940858 and parameters: {'n_estimators': 55, 'subsample': 0.924763336987846, 'max_depth': 18, 'max_features': 10, 'learning_rate': 0.09172353354166263, 'min_samples_leaf': 4}. Best is trial 5 with value: 0.2881502092719719.\u001b[0m\n"
     ]
    },
    {
     "name": "stdout",
     "output_type": "stream",
     "text": [
      "MCC: [0.3136269595785885, 0.23708240205691286, 0.2696596878789847, 0.2687390816618573]\n",
      "ROC: [0.8721132732641781, 0.843014080148538, 0.8537830728763731, 0.8116930350972905]\n",
      "PR_AUC: [0.15260063939365415, 0.10784648148468982, 0.11794764128879322, 0.12801705692250234]\n"
     ]
    },
    {
     "name": "stderr",
     "output_type": "stream",
     "text": [
      "\u001b[32m[I 2021-12-10 17:00:23,541]\u001b[0m Trial 11 finished with value: 0.27469553790475526 and parameters: {'n_estimators': 16, 'subsample': 0.9924233767166261, 'max_depth': 17, 'max_features': 12, 'learning_rate': 0.19602237319055124, 'min_samples_leaf': 11}. Best is trial 5 with value: 0.2881502092719719.\u001b[0m\n"
     ]
    },
    {
     "name": "stdout",
     "output_type": "stream",
     "text": [
      "MCC: [0.31676413639788886, 0.2678972443651847, 0.26548730955636696, 0.2486334612995805]\n",
      "ROC: [0.8777012190505035, 0.8602816029707566, 0.8460467275259167, 0.7950384918470025]\n",
      "PR_AUC: [0.16508978837171898, 0.11218327584169645, 0.11610725143945672, 0.09862933684209299]\n"
     ]
    },
    {
     "name": "stderr",
     "output_type": "stream",
     "text": [
      "\u001b[32m[I 2021-12-10 17:00:23,864]\u001b[0m Trial 12 finished with value: 0.29693911595138367 and parameters: {'n_estimators': 10, 'subsample': 0.9584495026303259, 'max_depth': 3, 'max_features': 16, 'learning_rate': 0.19834120666704083, 'min_samples_leaf': 37}. Best is trial 12 with value: 0.29693911595138367.\u001b[0m\n"
     ]
    },
    {
     "name": "stdout",
     "output_type": "stream",
     "text": [
      "MCC: [0.31300693644398986, 0.3123602063773523, 0.28536963110328467, 0.2770196898809078]\n",
      "ROC: [0.8824941318997501, 0.8862138325854866, 0.8573263190468823, 0.8295523428502153]\n",
      "PR_AUC: [0.18991168842629513, 0.1262747165827653, 0.12773348694010794, 0.12546650936864523]\n"
     ]
    },
    {
     "name": "stderr",
     "output_type": "stream",
     "text": [
      "\u001b[32m[I 2021-12-10 17:00:24,404]\u001b[0m Trial 13 finished with value: 0.28881526846544214 and parameters: {'n_estimators': 57, 'subsample': 0.9076814971706537, 'max_depth': 3, 'max_features': 15, 'learning_rate': 0.17357284938843362, 'min_samples_leaf': 49}. Best is trial 12 with value: 0.29693911595138367.\u001b[0m\n"
     ]
    },
    {
     "name": "stdout",
     "output_type": "stream",
     "text": [
      "MCC: [0.29143175781897634, 0.33863858269171027, 0.2725494220140698, 0.25264131133701206]\n",
      "ROC: [0.8851896721435603, 0.8899118056630049, 0.855067306204549, 0.8518518518518519]\n",
      "PR_AUC: [0.17894938815497488, 0.13858376201823155, 0.12896589854261398, 0.12147929387845702]\n"
     ]
    },
    {
     "name": "stderr",
     "output_type": "stream",
     "text": [
      "\u001b[32m[I 2021-12-10 17:00:24,734]\u001b[0m Trial 14 finished with value: 0.2981591994406853 and parameters: {'n_estimators': 11, 'subsample': 0.9856209318135866, 'max_depth': 3, 'max_features': 12, 'learning_rate': 0.18022130213787646, 'min_samples_leaf': 47}. Best is trial 14 with value: 0.2981591994406853.\u001b[0m\n"
     ]
    },
    {
     "name": "stdout",
     "output_type": "stream",
     "text": [
      "MCC: [0.31424942901532776, 0.3123602063773523, 0.2890074724891535, 0.2770196898809078]\n",
      "ROC: [0.8773529189066405, 0.9067460931455981, 0.8610629738511527, 0.864141965205795]\n",
      "PR_AUC: [0.16067972498768313, 0.18514549498878874, 0.12978628602025918, 0.12093543986386726]\n"
     ]
    },
    {
     "name": "stderr",
     "output_type": "stream",
     "text": [
      "\u001b[32m[I 2021-12-10 17:00:25,173]\u001b[0m Trial 15 finished with value: 0.28915252446101947 and parameters: {'n_estimators': 18, 'subsample': 0.9998277518480155, 'max_depth': 5, 'max_features': 11, 'learning_rate': 0.18167158322018723, 'min_samples_leaf': 36}. Best is trial 14 with value: 0.2981591994406853.\u001b[0m\n"
     ]
    },
    {
     "name": "stdout",
     "output_type": "stream",
     "text": [
      "MCC: [0.31300693644398986, 0.3136711607209051, 0.2637726777754649, 0.266159322903718]\n",
      "ROC: [0.8898008631786174, 0.8851152715457218, 0.8516401052142967, 0.8108822816269625]\n",
      "PR_AUC: [0.1746705277044396, 0.12902650311364286, 0.12129484399976402, 0.11932911529598647]\n"
     ]
    },
    {
     "name": "stderr",
     "output_type": "stream",
     "text": [
      "\u001b[32m[I 2021-12-10 17:00:25,850]\u001b[0m Trial 16 finished with value: 0.26736732515205314 and parameters: {'n_estimators': 75, 'subsample': 0.9682757969285061, 'max_depth': 6, 'max_features': 13, 'learning_rate': 0.18272928189632393, 'min_samples_leaf': 35}. Best is trial 14 with value: 0.2981591994406853.\u001b[0m\n"
     ]
    },
    {
     "name": "stdout",
     "output_type": "stream",
     "text": [
      "MCC: [0.2658987476193031, 0.3093173878304099, 0.23909968222112538, 0.2551534829373742]\n",
      "ROC: [0.8753994094041039, 0.8714528856568158, 0.8420393006343804, 0.8090713463053888]\n",
      "PR_AUC: [0.18229816360998197, 0.11937964118575975, 0.11816470524661335, 0.12806792916366633]\n"
     ]
    },
    {
     "name": "stderr",
     "output_type": "stream",
     "text": [
      "\u001b[32m[I 2021-12-10 17:00:26,180]\u001b[0m Trial 17 finished with value: 0.2983154329226311 and parameters: {'n_estimators': 11, 'subsample': 0.9803712313231584, 'max_depth': 3, 'max_features': 10, 'learning_rate': 0.1832536562134998, 'min_samples_leaf': 50}. Best is trial 17 with value: 0.2983154329226311.\u001b[0m\n"
     ]
    },
    {
     "name": "stdout",
     "output_type": "stream",
     "text": [
      "MCC: [0.3148743629431107, 0.3123602063773523, 0.2890074724891535, 0.2770196898809078]\n",
      "ROC: [0.883001438631029, 0.8885811542627262, 0.8571483831038218, 0.8579590228526397]\n",
      "PR_AUC: [0.16024961151071324, 0.15463232655637052, 0.1493048171628013, 0.11607790109348942]\n"
     ]
    },
    {
     "name": "stderr",
     "output_type": "stream",
     "text": [
      "\u001b[32m[I 2021-12-10 17:00:26,589]\u001b[0m Trial 18 finished with value: 0.2860094291796264 and parameters: {'n_estimators': 36, 'subsample': 0.9806692309066943, 'max_depth': 6, 'max_features': 10, 'learning_rate': 0.17521314425168996, 'min_samples_leaf': 50}. Best is trial 17 with value: 0.2983154329226311.\u001b[0m\n"
     ]
    },
    {
     "name": "stdout",
     "output_type": "stream",
     "text": [
      "MCC: [0.2854104781455702, 0.3176713038008203, 0.27541746662263034, 0.2655384681494848]\n",
      "ROC: [0.8917543726811539, 0.8871112486461395, 0.8495977100417762, 0.851692732011881]\n",
      "PR_AUC: [0.1866074445970391, 0.13373986898699158, 0.11682233347566653, 0.1242549586335781]\n"
     ]
    },
    {
     "name": "stderr",
     "output_type": "stream",
     "text": [
      "\u001b[32m[I 2021-12-10 17:00:27,399]\u001b[0m Trial 19 finished with value: 0.28161481186421145 and parameters: {'n_estimators': 115, 'subsample': 0.9347810722414596, 'max_depth': 15, 'max_features': 11, 'learning_rate': 0.15068865800455267, 'min_samples_leaf': 44}. Best is trial 17 with value: 0.2983154329226311.\u001b[0m\n"
     ]
    },
    {
     "name": "stdout",
     "output_type": "stream",
     "text": [
      "MCC: [0.28153298172148183, 0.3408660169853871, 0.25016824128780485, 0.253892007462172]\n",
      "ROC: [0.8763534489285985, 0.8867244313786168, 0.8500541544174531, 0.8141480269139844]\n",
      "PR_AUC: [0.1932155637677079, 0.13288800437179094, 0.13799648069244008, 0.1215687407876066]\n"
     ]
    },
    {
     "name": "stderr",
     "output_type": "stream",
     "text": [
      "\u001b[32m[I 2021-12-10 17:00:27,924]\u001b[0m Trial 20 finished with value: 0.2869659654221257 and parameters: {'n_estimators': 64, 'subsample': 0.9759250412281357, 'max_depth': 5, 'max_features': 12, 'learning_rate': 0.18627552525260013, 'min_samples_leaf': 50}. Best is trial 17 with value: 0.2983154329226311.\u001b[0m\n"
     ]
    },
    {
     "name": "stdout",
     "output_type": "stream",
     "text": [
      "MCC: [0.2865960379163445, 0.3364416994558284, 0.2632054780498593, 0.2616206462664706]\n",
      "ROC: [0.8860452790187021, 0.8898499149002012, 0.849303728918459, 0.8375916833363642]\n",
      "PR_AUC: [0.1961300446117215, 0.13523964162906543, 0.11940929087575686, 0.11897219439999893]\n"
     ]
    },
    {
     "name": "stderr",
     "output_type": "stream",
     "text": [
      "\u001b[32m[I 2021-12-10 17:00:28,283]\u001b[0m Trial 21 finished with value: 0.2975461385423037 and parameters: {'n_estimators': 10, 'subsample': 0.956789178953835, 'max_depth': 3, 'max_features': 10, 'learning_rate': 0.19621793637947094, 'min_samples_leaf': 39}. Best is trial 17 with value: 0.2983154329226311.\u001b[0m\n"
     ]
    },
    {
     "name": "stdout",
     "output_type": "stream",
     "text": [
      "MCC: [0.3136269595785885, 0.3123602063773523, 0.2871776983323663, 0.2770196898809078]\n",
      "ROC: [0.8811690770046188, 0.8980117592449327, 0.8601423487544485, 0.801918530641935]\n",
      "PR_AUC: [0.14659414886367986, 0.17369762709797562, 0.13492502871597675, 0.10744188683341845]\n"
     ]
    },
    {
     "name": "stderr",
     "output_type": "stream",
     "text": [
      "\u001b[32m[I 2021-12-10 17:00:28,716]\u001b[0m Trial 22 finished with value: 0.2862832899639957 and parameters: {'n_estimators': 34, 'subsample': 0.9837955856439575, 'max_depth': 3, 'max_features': 10, 'learning_rate': 0.16959633554912465, 'min_samples_leaf': 42}. Best is trial 17 with value: 0.2983154329226311.\u001b[0m\n"
     ]
    },
    {
     "name": "stdout",
     "output_type": "stream",
     "text": [
      "MCC: [0.3031999306678697, 0.3136711607209051, 0.26664142220073755, 0.2616206462664706]\n",
      "ROC: [0.8896039978799122, 0.8854711434318427, 0.8518335138480582, 0.8145117294053463]\n",
      "PR_AUC: [0.18453309775139434, 0.1323306240331567, 0.13736964808675753, 0.12405138731171858]\n"
     ]
    },
    {
     "name": "stderr",
     "output_type": "stream",
     "text": [
      "\u001b[32m[I 2021-12-10 17:00:29,025]\u001b[0m Trial 23 finished with value: 0.2983154329226311 and parameters: {'n_estimators': 10, 'subsample': 0.9397223442136705, 'max_depth': 20, 'max_features': 11, 'learning_rate': 0.18885759166233912, 'min_samples_leaf': 45}. Best is trial 17 with value: 0.2983154329226311.\u001b[0m\n"
     ]
    },
    {
     "name": "stdout",
     "output_type": "stream",
     "text": [
      "MCC: [0.3148743629431107, 0.3123602063773523, 0.2890074724891535, 0.2770196898809078]\n",
      "ROC: [0.8798440221094873, 0.9056165867244313, 0.8503171901593687, 0.8599063466084743]\n",
      "PR_AUC: [0.13950454331950254, 0.18673299320683023, 0.1317132429892332, 0.11677633882152202]\n"
     ]
    },
    {
     "name": "stderr",
     "output_type": "stream",
     "text": [
      "\u001b[32m[I 2021-12-10 17:00:29,451]\u001b[0m Trial 24 finished with value: 0.2873656249449844 and parameters: {'n_estimators': 31, 'subsample': 0.9312220930123101, 'max_depth': 16, 'max_features': 12, 'learning_rate': 0.1866563240882886, 'min_samples_leaf': 46}. Best is trial 17 with value: 0.2983154329226311.\u001b[0m\n"
     ]
    },
    {
     "name": "stdout",
     "output_type": "stream",
     "text": [
      "MCC: [0.29341404627307777, 0.31632653068859906, 0.27541746662263034, 0.26430445619563053]\n",
      "ROC: [0.8924282577421065, 0.8837536747640415, 0.8516787869410491, 0.8555116081711825]\n",
      "PR_AUC: [0.215738744105224, 0.12912321789301826, 0.1146087670953535, 0.14299037641886148]\n",
      "CPU times: user 15 s, sys: 249 ms, total: 15.2 s\n",
      "Wall time: 15 s\n"
     ]
    }
   ],
   "source": [
    "%%time\n",
    "def create_model(trial):\n",
    "    n_estimators = trial.suggest_int('n_estimators', 10, 200)\n",
    "    subsample = trial.suggest_float('subsample', 0.8, 1.0)\n",
    "    max_depth = trial.suggest_int('max_depth',3,20)\n",
    "    max_features = trial.suggest_int('max_features',10,20)\n",
    "    learning_rate = trial.suggest_uniform('learning_rate',0.08,0.2)\n",
    "    min_samples_leaf = trial.suggest_int('min_samples_leaf',1,50)\n",
    "    model = GradientBoostingClassifier(n_estimators=n_estimators, subsample=subsample, \n",
    "                           max_depth=max_depth, learning_rate=learning_rate, \n",
    "                           min_samples_leaf=min_samples_leaf)\n",
    "#    model = GradientBoostingClassifier(n_estimators=n_estimators, subsample=subsample, \n",
    "#                           learning_rate=learning_rate, \n",
    "#                           min_samples_leaf=min_samples_leaf)\n",
    "#    model = GradientBoostingClassifier(n_estimators=n_estimators, learning_rate=learning_rate) \n",
    "    return model\n",
    "\n",
    "def objective(trial):\n",
    "    model = create_model(trial)\n",
    "    \n",
    "    mcc_list = []\n",
    "    roc_list = []\n",
    "    pr_list = []\n",
    "    f2_list = []\n",
    "    cv = StratifiedKFold(n_splits=4, shuffle=True, random_state=11)\n",
    "    for idx, (train_idx, test_idx) in enumerate(cv.split(X, y)):\n",
    "        X_train_c, X_test_c = X.iloc[train_idx], X.iloc[test_idx]\n",
    "        y_train_c, y_test_c = y[train_idx], y[test_idx]\n",
    "        sampler = RandomUnderSampler(sampling_strategy=1.0, random_state=7)\n",
    "        X_res, y_res = sampler.fit_resample(X_train_c, y_train_c)\n",
    "\n",
    "#        weights = class_weight.compute_sample_weight('balanced', y=y_train)\n",
    "#        model.fit(X_train, y_train, sample_weight=weights)\n",
    "        model.fit(X_res, y_res)\n",
    "        y_pred = model.predict(X_test_c)\n",
    "        probs = model.predict_proba(X_test_c)\n",
    "        prob1 = probs[:, 1]  # Only positives\n",
    "        precision, recall, pr_thresh = precision_recall_curve(y_test_c, prob1)\n",
    "        roc = roc_auc_score(y_test_c, prob1)\n",
    "        roc_list.append(roc)\n",
    "        mcc = matthews_corrcoef(y_test_c, y_pred)  # MWB\n",
    "        mcc_list.append(mcc)\n",
    "        f2 = fbeta_score(y_test_c, y_pred, beta=2.0, average=None)[1]\n",
    "        pr_auc = auc(recall, precision)\n",
    "        pr_list.append(pr_auc)\n",
    "        avg_precision = average_precision_score(y_test_c, prob1)\n",
    "#        print(f'ROC: {roc}')\n",
    "#        print(f'PR_AUC: {pr_auc}')\n",
    "#        print(f'avg_prec: {avg_precision}')\n",
    "        \n",
    "    print(f'MCC: {mcc_list}')\n",
    "    print(f'ROC: {roc_list}')\n",
    "    print(f'PR_AUC: {pr_list}')\n",
    "    return np.mean(mcc_list)\n",
    "\n",
    "sampler = TPESampler(seed=7)\n",
    "study = optuna.create_study(sampler=sampler,direction='maximize')\n",
    "#study.optimize(objective,n_trials=60)\n",
    "study.optimize(objective,n_trials=25)\n",
    "#study.optimize(objective,n_trials=5)"
   ]
  },
  {
   "cell_type": "code",
   "execution_count": 14,
   "metadata": {},
   "outputs": [
    {
     "data": {
      "text/plain": [
       "FrozenTrial(number=17, values=[0.2983154329226311], datetime_start=datetime.datetime(2021, 12, 10, 17, 0, 25, 851732), datetime_complete=datetime.datetime(2021, 12, 10, 17, 0, 26, 179753), params={'n_estimators': 11, 'subsample': 0.9803712313231584, 'max_depth': 3, 'max_features': 10, 'learning_rate': 0.1832536562134998, 'min_samples_leaf': 50}, distributions={'n_estimators': IntUniformDistribution(high=200, low=10, step=1), 'subsample': UniformDistribution(high=1.0, low=0.8), 'max_depth': IntUniformDistribution(high=20, low=3, step=1), 'max_features': IntUniformDistribution(high=20, low=10, step=1), 'learning_rate': UniformDistribution(high=0.2, low=0.08), 'min_samples_leaf': IntUniformDistribution(high=50, low=1, step=1)}, user_attrs={}, system_attrs={}, intermediate_values={}, trial_id=17, state=TrialState.COMPLETE, value=None)"
      ]
     },
     "execution_count": 14,
     "metadata": {},
     "output_type": "execute_result"
    }
   ],
   "source": [
    "best = study.best_trial\n",
    "best"
   ]
  },
  {
   "cell_type": "code",
   "execution_count": 15,
   "metadata": {},
   "outputs": [
    {
     "name": "stdout",
     "output_type": "stream",
     "text": [
      "[[1350  336]\n",
      " [   5   51]]\n",
      "              precision    recall  f1-score   support\n",
      "\n",
      "           0       1.00      0.80      0.89      1686\n",
      "           1       0.13      0.91      0.23        56\n",
      "\n",
      "    accuracy                           0.80      1742\n",
      "   macro avg       0.56      0.86      0.56      1742\n",
      "weighted avg       0.97      0.80      0.87      1742\n",
      "\n",
      "ROC AUC prob1: 0.8833990001694627\n",
      "MCC: 0.30187518867674695\n",
      "F2: 0.4173486088379706\n",
      "PR_AUC: 0.17095294177771772\n",
      "CPU times: user 32 ms, sys: 1 ms, total: 33 ms\n",
      "Wall time: 31.6 ms\n"
     ]
    }
   ],
   "source": [
    "%%time\n",
    "gb_params = study.best_params\n",
    "#gb_params['random_state'] = 42\n",
    "gb = GradientBoostingClassifier(**gb_params)\n",
    "gb.fit(X_rus, y_rus)\n",
    "y_pred = gb.predict(X_test)\n",
    "probs = gb.predict_proba(X_test)\n",
    "prob1 = probs[:, 1]  # Only positives\n",
    "precision, recall, pr_thresh = precision_recall_curve(y_test, prob1)\n",
    "print(confusion_matrix(y_pred=y_pred, y_true=y_test))\n",
    "print(classification_report(y_test, y_pred))\n",
    "print(f'ROC AUC prob1: {roc_auc_score(y_test, prob1)}')\n",
    "print(f'MCC: {matthews_corrcoef(y_test, y_pred)}')\n",
    "print(f'F2: {fbeta_score(y_test, y_pred, beta=2.0, average=None)[1]}')\n",
    "print(f'PR_AUC: {auc(recall, precision)}')"
   ]
  },
  {
   "cell_type": "code",
   "execution_count": 16,
   "metadata": {},
   "outputs": [
    {
     "name": "stdout",
     "output_type": "stream",
     "text": [
      "[[1370  316]\n",
      " [  17   39]]\n",
      "              precision    recall  f1-score   support\n",
      "\n",
      "           0       0.99      0.81      0.89      1686\n",
      "           1       0.11      0.70      0.19        56\n",
      "\n",
      "    accuracy                           0.81      1742\n",
      "   macro avg       0.55      0.75      0.54      1742\n",
      "weighted avg       0.96      0.81      0.87      1742\n",
      "\n",
      "ROC AUC prob1: 0.8421136248093544\n",
      "MCC: 0.22288995029478373\n",
      "F2: 0.3367875647668394\n",
      "PR_AUC: 0.11925043631444184\n",
      "CPU times: user 64.7 ms, sys: 5.04 ms, total: 69.7 ms\n",
      "Wall time: 67.3 ms\n"
     ]
    }
   ],
   "source": [
    "%%time\n",
    "gb_params = study.best_params\n",
    "gb_params['random_state'] = 42\n",
    "gb_weight = GradientBoostingClassifier(**gb_params)\n",
    "weights = class_weight.compute_sample_weight('balanced', y=y_train)\n",
    "gb_weight.fit(X_train, y_train, sample_weight=weights)\n",
    "y_pred = gb_weight.predict(X_test)\n",
    "probs = gb_weight.predict_proba(X_test)\n",
    "prob1 = probs[:, 1]  # Only positives\n",
    "precision, recall, pr_thresh = precision_recall_curve(y_test, prob1)\n",
    "print(confusion_matrix(y_pred=y_pred, y_true=y_test))\n",
    "print(classification_report(y_test, y_pred))\n",
    "print(f'ROC AUC prob1: {roc_auc_score(y_test, prob1)}')\n",
    "print(f'MCC: {matthews_corrcoef(y_test, y_pred)}')\n",
    "print(f'F2: {fbeta_score(y_test, y_pred, beta=2.0, average=None)[1]}')\n",
    "print(f'PR_AUC: {auc(recall, precision)}')"
   ]
  },
  {
   "cell_type": "code",
   "execution_count": 17,
   "metadata": {},
   "outputs": [
    {
     "data": {
      "text/plain": [
       "Delmode           0.291215\n",
       "spontlabor        0.195732\n",
       "Parity            0.090745\n",
       "TrialLabor        0.078018\n",
       "Induction         0.047108\n",
       "MthInd_Oxy        0.035118\n",
       "HxnumCS           0.027300\n",
       "prelaborCD        0.026633\n",
       "new_high_BMI      0.024017\n",
       "CS_FTP            0.023671\n",
       "new_BMI           0.021933\n",
       "Delfetalpos       0.013585\n",
       "Dilat_lst         0.012538\n",
       "AdmSBP            0.011563\n",
       "new_age           0.010891\n",
       "uscar             0.010769\n",
       "Lac_None          0.010673\n",
       "CS_NRFHT          0.010667\n",
       "Admreason         0.010346\n",
       "high_Gravidity    0.007625\n",
       "dtype: float64"
      ]
     },
     "execution_count": 17,
     "metadata": {},
     "output_type": "execute_result"
    }
   ],
   "source": [
    "# No Sitenum - 5\n",
    "coeffs_wgt = pd.Series(data=gb_weight.feature_importances_,\n",
    "                   index=X_test.columns.values).sort_values(ascending=False)\n",
    "coeffs_wgt[0:20]"
   ]
  },
  {
   "cell_type": "code",
   "execution_count": 1,
   "metadata": {},
   "outputs": [
    {
     "ename": "NameError",
     "evalue": "name 'plt' is not defined",
     "output_type": "error",
     "traceback": [
      "\u001b[0;31m---------------------------------------------------------------------------\u001b[0m",
      "\u001b[0;31mNameError\u001b[0m                                 Traceback (most recent call last)",
      "\u001b[0;32m<ipython-input-1-163c23260408>\u001b[0m in \u001b[0;36m<module>\u001b[0;34m\u001b[0m\n\u001b[0;32m----> 1\u001b[0;31m \u001b[0mplt\u001b[0m\u001b[0;34m.\u001b[0m\u001b[0mrcParams\u001b[0m\u001b[0;34m[\u001b[0m\u001b[0;34m\"figure.figsize\"\u001b[0m\u001b[0;34m]\u001b[0m \u001b[0;34m=\u001b[0m \u001b[0;34m(\u001b[0m\u001b[0;36m14\u001b[0m\u001b[0;34m,\u001b[0m \u001b[0;36m8\u001b[0m\u001b[0;34m)\u001b[0m\u001b[0;34m\u001b[0m\u001b[0;34m\u001b[0m\u001b[0m\n\u001b[0m\u001b[1;32m      2\u001b[0m \u001b[0mx_labels\u001b[0m \u001b[0;34m=\u001b[0m \u001b[0mcoeffs_wgt\u001b[0m\u001b[0;34m.\u001b[0m\u001b[0mindex\u001b[0m\u001b[0;34m.\u001b[0m\u001b[0mvalues\u001b[0m\u001b[0;34m[\u001b[0m\u001b[0;36m0\u001b[0m\u001b[0;34m:\u001b[0m\u001b[0;36m25\u001b[0m\u001b[0;34m]\u001b[0m\u001b[0;34m\u001b[0m\u001b[0;34m\u001b[0m\u001b[0m\n\u001b[1;32m      3\u001b[0m \u001b[0mprint\u001b[0m\u001b[0;34m(\u001b[0m\u001b[0mx_labels\u001b[0m\u001b[0;34m)\u001b[0m\u001b[0;34m\u001b[0m\u001b[0;34m\u001b[0m\u001b[0m\n\u001b[1;32m      4\u001b[0m \u001b[0mfig\u001b[0m\u001b[0;34m,\u001b[0m \u001b[0max\u001b[0m \u001b[0;34m=\u001b[0m \u001b[0mplt\u001b[0m\u001b[0;34m.\u001b[0m\u001b[0msubplots\u001b[0m\u001b[0;34m(\u001b[0m\u001b[0;36m1\u001b[0m\u001b[0;34m,\u001b[0m\u001b[0;36m1\u001b[0m\u001b[0;34m)\u001b[0m  \u001b[0;31m# Create a figure and an axes.\u001b[0m\u001b[0;34m\u001b[0m\u001b[0;34m\u001b[0m\u001b[0m\n\u001b[1;32m      5\u001b[0m \u001b[0max\u001b[0m\u001b[0;34m.\u001b[0m\u001b[0mset_title\u001b[0m\u001b[0;34m(\u001b[0m\u001b[0;34m'Top Predictors: All Sites combined; target: High_EBLoss, vars: PI'\u001b[0m\u001b[0;34m)\u001b[0m\u001b[0;34m\u001b[0m\u001b[0;34m\u001b[0m\u001b[0m\n",
      "\u001b[0;31mNameError\u001b[0m: name 'plt' is not defined"
     ]
    }
   ],
   "source": [
    "plt.rcParams[\"figure.figsize\"] = (14, 8)\n",
    "x_labels = coeffs_wgt.index.values[0:25]\n",
    "print(x_labels)\n",
    "fig, ax = plt.subplots(1,1)  # Create a figure and an axes.\n",
    "ax.set_title('Top Predictors: All Sites combined; target: High_EBLoss, vars: PI')\n",
    "ax.bar(x_labels, coeffs_wgt.values[0:25])\n",
    "ax.set_ylabel('Coeff')\n",
    "ax.set_xlabel('Variable')\n",
    "plt.draw()\n",
    "ax.set_xticklabels(ax.get_xticklabels(), rotation=90, fontsize=16)\n",
    "#plt.xlim(1,20)\n",
    "plt.show()"
   ]
  },
  {
   "cell_type": "code",
   "execution_count": 19,
   "metadata": {},
   "outputs": [
    {
     "data": {
      "text/plain": [
       "Delmode           0.827671\n",
       "spontlabor        0.097039\n",
       "new_age           0.032086\n",
       "Augment           0.012469\n",
       "Lac_None          0.009450\n",
       "BESTGA            0.006233\n",
       "ROMmeth           0.005280\n",
       "Admcontract       0.005178\n",
       "high_Gravidity    0.003397\n",
       "momrace_new       0.001198\n",
       "Hxcsection        0.000000\n",
       "Hxanemia          0.000000\n",
       "Hxasthma          0.000000\n",
       "HxGIdis           0.000000\n",
       "Hostype           0.000000\n",
       "HospElectInd      0.000000\n",
       "Hxdepression      0.000000\n",
       "HxnumCS           0.000000\n",
       "Hxheartdis        0.000000\n",
       "Hxmacrosomia      0.000000\n",
       "dtype: float64"
      ]
     },
     "execution_count": 19,
     "metadata": {},
     "output_type": "execute_result"
    }
   ],
   "source": [
    "# No Sitenum - 5\n",
    "coeffs = pd.Series(data=gb.feature_importances_,\n",
    "                   index=X_test.columns.values).sort_values(ascending=False)\n",
    "coeffs[0:20]"
   ]
  },
  {
   "cell_type": "code",
   "execution_count": 21,
   "metadata": {},
   "outputs": [
    {
     "data": {
      "text/plain": [
       "{'n_estimators': 11,\n",
       " 'subsample': 0.9803712313231584,\n",
       " 'max_depth': 3,\n",
       " 'max_features': 10,\n",
       " 'learning_rate': 0.1832536562134998,\n",
       " 'min_samples_leaf': 50,\n",
       " 'random_state': 42}"
      ]
     },
     "execution_count": 21,
     "metadata": {},
     "output_type": "execute_result"
    }
   ],
   "source": [
    "gb_params # 5 runs"
   ]
  },
  {
   "cell_type": "code",
   "execution_count": 2,
   "metadata": {},
   "outputs": [
    {
     "ename": "NameError",
     "evalue": "name 'study' is not defined",
     "output_type": "error",
     "traceback": [
      "\u001b[0;31m---------------------------------------------------------------------------\u001b[0m",
      "\u001b[0;31mNameError\u001b[0m                                 Traceback (most recent call last)",
      "\u001b[0;32m<ipython-input-2-bf9f527b858c>\u001b[0m in \u001b[0;36m<module>\u001b[0;34m\u001b[0m\n\u001b[1;32m      3\u001b[0m \u001b[0mplotly_config\u001b[0m \u001b[0;34m=\u001b[0m \u001b[0;34m{\u001b[0m\u001b[0;34m\"staticPlot\"\u001b[0m\u001b[0;34m:\u001b[0m \u001b[0;32mTrue\u001b[0m\u001b[0;34m}\u001b[0m\u001b[0;34m\u001b[0m\u001b[0;34m\u001b[0m\u001b[0m\n\u001b[1;32m      4\u001b[0m \u001b[0;34m\u001b[0m\u001b[0m\n\u001b[0;32m----> 5\u001b[0;31m \u001b[0mfig\u001b[0m \u001b[0;34m=\u001b[0m \u001b[0mplot_optimization_history\u001b[0m\u001b[0;34m(\u001b[0m\u001b[0mstudy\u001b[0m\u001b[0;34m)\u001b[0m\u001b[0;34m\u001b[0m\u001b[0;34m\u001b[0m\u001b[0m\n\u001b[0m\u001b[1;32m      6\u001b[0m \u001b[0mfig\u001b[0m\u001b[0;34m.\u001b[0m\u001b[0mshow\u001b[0m\u001b[0;34m(\u001b[0m\u001b[0mconfig\u001b[0m\u001b[0;34m=\u001b[0m\u001b[0mplotly_config\u001b[0m\u001b[0;34m)\u001b[0m\u001b[0;34m\u001b[0m\u001b[0;34m\u001b[0m\u001b[0m\n",
      "\u001b[0;31mNameError\u001b[0m: name 'study' is not defined"
     ]
    }
   ],
   "source": [
    "from optuna.visualization import plot_optimization_history\n",
    "\n",
    "plotly_config = {\"staticPlot\": True}\n",
    "\n",
    "fig = plot_optimization_history(study)\n",
    "fig.show(config=plotly_config)"
   ]
  },
  {
   "cell_type": "code",
   "execution_count": null,
   "metadata": {},
   "outputs": [],
   "source": [
    "from optuna.visualization import plot_param_importances\n",
    "\n",
    "fig = plot_param_importances(study)\n",
    "fig.show(config=plotly_config)"
   ]
  },
  {
   "cell_type": "code",
   "execution_count": 24,
   "metadata": {},
   "outputs": [
    {
     "data": {
      "text/plain": [
       "0.3155208505596307"
      ]
     },
     "execution_count": 24,
     "metadata": {},
     "output_type": "execute_result"
    }
   ],
   "source": [
    "np.mean([0.3149689279176914, 0.31449457458602254, 0.31066798538596907, 0.3219519143488398])"
   ]
  },
  {
   "cell_type": "markdown",
   "metadata": {},
   "source": [
    "<h1 align='center'>Thanks and make sure to learn!</h1>"
   ]
  }
 ],
 "metadata": {
  "kernelspec": {
   "display_name": "Python 3",
   "language": "python",
   "name": "python3"
  },
  "language_info": {
   "codemirror_mode": {
    "name": "ipython",
    "version": 3
   },
   "file_extension": ".py",
   "mimetype": "text/x-python",
   "name": "python",
   "nbconvert_exporter": "python",
   "pygments_lexer": "ipython3",
   "version": "3.7.9"
  }
 },
 "nbformat": 4,
 "nbformat_minor": 4
}
