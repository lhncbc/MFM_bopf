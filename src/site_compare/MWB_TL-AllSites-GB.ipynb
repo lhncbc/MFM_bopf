{
 "cells": [
  {
   "cell_type": "markdown",
   "metadata": {},
   "source": [
    "<h1 align='center'>Welcome to my Notebook</h1>"
   ]
  },
  {
   "cell_type": "code",
   "execution_count": 9,
   "metadata": {
    "_cell_guid": "b1076dfc-b9ad-4769-8c92-a6c4dae69d19",
    "_uuid": "8f2839f25d086af736a60e9eeb907d3b93b6e0e5"
   },
   "outputs": [],
   "source": [
    "import numpy as np \n",
    "import pandas as pd \n",
    "\n",
    "import matplotlib.pyplot as plt\n",
    "#import plotly.express as px\n",
    "import seaborn as sns\n",
    "\n",
    "from lightgbm import LGBMClassifier\n",
    "from sklearn.ensemble import GradientBoostingClassifier\n",
    "\n",
    "from sklearn.model_selection import StratifiedKFold,KFold\n",
    "from collections import Counter\n",
    "from imblearn.under_sampling import RandomUnderSampler\n",
    "from sklearn.metrics import classification_report, roc_auc_score, confusion_matrix, \\\n",
    "                            accuracy_score, f1_score, average_precision_score, \\\n",
    "                            fbeta_score, precision_recall_curve, auc\n",
    "from sklearn.metrics import matthews_corrcoef\n",
    "\n",
    "from sklearn.model_selection import train_test_split\n",
    "\n",
    "import optuna\n",
    "from optuna.samplers import TPESampler\n",
    "sns.set(style='white', context='notebook', palette='deep')\n",
    "%config Completer.use_jedi = False"
   ]
  },
  {
   "cell_type": "code",
   "execution_count": 10,
   "metadata": {},
   "outputs": [],
   "source": [
    "csl_df = pd.read_csv('../../data/csl/CSL_tytl_PI.csv', index_col=0)\n",
    "X = csl_df.drop(['trans_loss', 'transfus_yes'], axis=1, inplace=False)\n",
    "y = csl_df['trans_loss'].values\n",
    "\n",
    "X_train, X_test, y_train, y_test = train_test_split(X, y, test_size=0.3, stratify=y,\n",
    "                                                    random_state=7)"
   ]
  },
  {
   "cell_type": "markdown",
   "metadata": {},
   "source": [
    "<h1 align='center'>Exploratory Data Analysis</h1>"
   ]
  },
  {
   "cell_type": "code",
   "execution_count": 11,
   "metadata": {
    "_cell_guid": "79c7e3d0-c299-4dcb-8224-4455121ee9b0",
    "_uuid": "d629ff2d2480ee46fbb7e2d37f6b5fab8052498a"
   },
   "outputs": [
    {
     "data": {
      "text/html": [
       "<div>\n",
       "<style scoped>\n",
       "    .dataframe tbody tr th:only-of-type {\n",
       "        vertical-align: middle;\n",
       "    }\n",
       "\n",
       "    .dataframe tbody tr th {\n",
       "        vertical-align: top;\n",
       "    }\n",
       "\n",
       "    .dataframe thead th {\n",
       "        text-align: right;\n",
       "    }\n",
       "</style>\n",
       "<table border=\"1\" class=\"dataframe\">\n",
       "  <thead>\n",
       "    <tr style=\"text-align: right;\">\n",
       "      <th></th>\n",
       "      <th>Accrete</th>\n",
       "      <th>AdmBishop</th>\n",
       "      <th>Admcervpos</th>\n",
       "      <th>Admconsistency</th>\n",
       "      <th>Admcontract</th>\n",
       "      <th>AdmDBP</th>\n",
       "      <th>Admefface</th>\n",
       "      <th>Admpresent</th>\n",
       "      <th>AdmSBP</th>\n",
       "      <th>Analgesia</th>\n",
       "      <th>...</th>\n",
       "      <th>ThreatenedPB</th>\n",
       "      <th>threatpb9</th>\n",
       "      <th>UnspecHBP</th>\n",
       "      <th>uscar</th>\n",
       "      <th>version9</th>\n",
       "      <th>new_age</th>\n",
       "      <th>new_BMI</th>\n",
       "      <th>new_high_Age</th>\n",
       "      <th>new_high_BMI</th>\n",
       "      <th>Sitenum</th>\n",
       "    </tr>\n",
       "    <tr>\n",
       "      <th>MomID</th>\n",
       "      <th></th>\n",
       "      <th></th>\n",
       "      <th></th>\n",
       "      <th></th>\n",
       "      <th></th>\n",
       "      <th></th>\n",
       "      <th></th>\n",
       "      <th></th>\n",
       "      <th></th>\n",
       "      <th></th>\n",
       "      <th></th>\n",
       "      <th></th>\n",
       "      <th></th>\n",
       "      <th></th>\n",
       "      <th></th>\n",
       "      <th></th>\n",
       "      <th></th>\n",
       "      <th></th>\n",
       "      <th></th>\n",
       "      <th></th>\n",
       "      <th></th>\n",
       "    </tr>\n",
       "  </thead>\n",
       "  <tbody>\n",
       "    <tr>\n",
       "      <th>41-00002</th>\n",
       "      <td>0</td>\n",
       "      <td>8</td>\n",
       "      <td>8</td>\n",
       "      <td>8</td>\n",
       "      <td>99.0</td>\n",
       "      <td>83</td>\n",
       "      <td>0.0</td>\n",
       "      <td>77</td>\n",
       "      <td>150.0</td>\n",
       "      <td>7</td>\n",
       "      <td>...</td>\n",
       "      <td>0</td>\n",
       "      <td>0</td>\n",
       "      <td>0</td>\n",
       "      <td>1</td>\n",
       "      <td>0</td>\n",
       "      <td>37</td>\n",
       "      <td>33</td>\n",
       "      <td>1</td>\n",
       "      <td>1</td>\n",
       "      <td>41</td>\n",
       "    </tr>\n",
       "    <tr>\n",
       "      <th>41-00003</th>\n",
       "      <td>0</td>\n",
       "      <td>6</td>\n",
       "      <td>3</td>\n",
       "      <td>2</td>\n",
       "      <td>2.9</td>\n",
       "      <td>77</td>\n",
       "      <td>70.0</td>\n",
       "      <td>1</td>\n",
       "      <td>105.0</td>\n",
       "      <td>8</td>\n",
       "      <td>...</td>\n",
       "      <td>0</td>\n",
       "      <td>0</td>\n",
       "      <td>0</td>\n",
       "      <td>0</td>\n",
       "      <td>0</td>\n",
       "      <td>36</td>\n",
       "      <td>22</td>\n",
       "      <td>1</td>\n",
       "      <td>1</td>\n",
       "      <td>41</td>\n",
       "    </tr>\n",
       "    <tr>\n",
       "      <th>41-00004</th>\n",
       "      <td>0</td>\n",
       "      <td>5</td>\n",
       "      <td>3</td>\n",
       "      <td>2</td>\n",
       "      <td>3.3</td>\n",
       "      <td>65</td>\n",
       "      <td>70.0</td>\n",
       "      <td>1</td>\n",
       "      <td>122.0</td>\n",
       "      <td>8</td>\n",
       "      <td>...</td>\n",
       "      <td>0</td>\n",
       "      <td>0</td>\n",
       "      <td>0</td>\n",
       "      <td>0</td>\n",
       "      <td>0</td>\n",
       "      <td>34</td>\n",
       "      <td>31</td>\n",
       "      <td>1</td>\n",
       "      <td>1</td>\n",
       "      <td>41</td>\n",
       "    </tr>\n",
       "    <tr>\n",
       "      <th>41-00005</th>\n",
       "      <td>0</td>\n",
       "      <td>11</td>\n",
       "      <td>2</td>\n",
       "      <td>3</td>\n",
       "      <td>4.0</td>\n",
       "      <td>77</td>\n",
       "      <td>80.0</td>\n",
       "      <td>77</td>\n",
       "      <td>138.0</td>\n",
       "      <td>8</td>\n",
       "      <td>...</td>\n",
       "      <td>0</td>\n",
       "      <td>0</td>\n",
       "      <td>0</td>\n",
       "      <td>0</td>\n",
       "      <td>0</td>\n",
       "      <td>31</td>\n",
       "      <td>21</td>\n",
       "      <td>1</td>\n",
       "      <td>1</td>\n",
       "      <td>41</td>\n",
       "    </tr>\n",
       "    <tr>\n",
       "      <th>41-00006</th>\n",
       "      <td>0</td>\n",
       "      <td>11</td>\n",
       "      <td>1</td>\n",
       "      <td>3</td>\n",
       "      <td>5.0</td>\n",
       "      <td>98</td>\n",
       "      <td>100.0</td>\n",
       "      <td>77</td>\n",
       "      <td>134.0</td>\n",
       "      <td>8</td>\n",
       "      <td>...</td>\n",
       "      <td>0</td>\n",
       "      <td>0</td>\n",
       "      <td>0</td>\n",
       "      <td>0</td>\n",
       "      <td>0</td>\n",
       "      <td>21</td>\n",
       "      <td>22</td>\n",
       "      <td>1</td>\n",
       "      <td>1</td>\n",
       "      <td>41</td>\n",
       "    </tr>\n",
       "    <tr>\n",
       "      <th>...</th>\n",
       "      <td>...</td>\n",
       "      <td>...</td>\n",
       "      <td>...</td>\n",
       "      <td>...</td>\n",
       "      <td>...</td>\n",
       "      <td>...</td>\n",
       "      <td>...</td>\n",
       "      <td>...</td>\n",
       "      <td>...</td>\n",
       "      <td>...</td>\n",
       "      <td>...</td>\n",
       "      <td>...</td>\n",
       "      <td>...</td>\n",
       "      <td>...</td>\n",
       "      <td>...</td>\n",
       "      <td>...</td>\n",
       "      <td>...</td>\n",
       "      <td>...</td>\n",
       "      <td>...</td>\n",
       "      <td>...</td>\n",
       "      <td>...</td>\n",
       "    </tr>\n",
       "    <tr>\n",
       "      <th>52-07247</th>\n",
       "      <td>0</td>\n",
       "      <td>8</td>\n",
       "      <td>8</td>\n",
       "      <td>8</td>\n",
       "      <td>77.0</td>\n",
       "      <td>74</td>\n",
       "      <td>70.0</td>\n",
       "      <td>1</td>\n",
       "      <td>124.4</td>\n",
       "      <td>5</td>\n",
       "      <td>...</td>\n",
       "      <td>0</td>\n",
       "      <td>0</td>\n",
       "      <td>0</td>\n",
       "      <td>0</td>\n",
       "      <td>0</td>\n",
       "      <td>19</td>\n",
       "      <td>38</td>\n",
       "      <td>0</td>\n",
       "      <td>1</td>\n",
       "      <td>52</td>\n",
       "    </tr>\n",
       "    <tr>\n",
       "      <th>52-07248</th>\n",
       "      <td>0</td>\n",
       "      <td>8</td>\n",
       "      <td>8</td>\n",
       "      <td>8</td>\n",
       "      <td>99.0</td>\n",
       "      <td>74</td>\n",
       "      <td>0.0</td>\n",
       "      <td>2</td>\n",
       "      <td>124.4</td>\n",
       "      <td>5</td>\n",
       "      <td>...</td>\n",
       "      <td>0</td>\n",
       "      <td>0</td>\n",
       "      <td>0</td>\n",
       "      <td>1</td>\n",
       "      <td>0</td>\n",
       "      <td>34</td>\n",
       "      <td>24</td>\n",
       "      <td>1</td>\n",
       "      <td>1</td>\n",
       "      <td>52</td>\n",
       "    </tr>\n",
       "    <tr>\n",
       "      <th>52-07249</th>\n",
       "      <td>0</td>\n",
       "      <td>8</td>\n",
       "      <td>8</td>\n",
       "      <td>8</td>\n",
       "      <td>66.0</td>\n",
       "      <td>74</td>\n",
       "      <td>0.0</td>\n",
       "      <td>77</td>\n",
       "      <td>124.4</td>\n",
       "      <td>9</td>\n",
       "      <td>...</td>\n",
       "      <td>0</td>\n",
       "      <td>0</td>\n",
       "      <td>0</td>\n",
       "      <td>1</td>\n",
       "      <td>0</td>\n",
       "      <td>28</td>\n",
       "      <td>23</td>\n",
       "      <td>1</td>\n",
       "      <td>1</td>\n",
       "      <td>52</td>\n",
       "    </tr>\n",
       "    <tr>\n",
       "      <th>52-07250</th>\n",
       "      <td>0</td>\n",
       "      <td>8</td>\n",
       "      <td>8</td>\n",
       "      <td>8</td>\n",
       "      <td>66.0</td>\n",
       "      <td>74</td>\n",
       "      <td>90.0</td>\n",
       "      <td>1</td>\n",
       "      <td>124.4</td>\n",
       "      <td>5</td>\n",
       "      <td>...</td>\n",
       "      <td>0</td>\n",
       "      <td>0</td>\n",
       "      <td>0</td>\n",
       "      <td>0</td>\n",
       "      <td>0</td>\n",
       "      <td>16</td>\n",
       "      <td>23</td>\n",
       "      <td>0</td>\n",
       "      <td>1</td>\n",
       "      <td>52</td>\n",
       "    </tr>\n",
       "    <tr>\n",
       "      <th>52-07251</th>\n",
       "      <td>0</td>\n",
       "      <td>8</td>\n",
       "      <td>8</td>\n",
       "      <td>8</td>\n",
       "      <td>66.0</td>\n",
       "      <td>74</td>\n",
       "      <td>100.0</td>\n",
       "      <td>1</td>\n",
       "      <td>124.4</td>\n",
       "      <td>5</td>\n",
       "      <td>...</td>\n",
       "      <td>0</td>\n",
       "      <td>0</td>\n",
       "      <td>0</td>\n",
       "      <td>0</td>\n",
       "      <td>0</td>\n",
       "      <td>44</td>\n",
       "      <td>29</td>\n",
       "      <td>2</td>\n",
       "      <td>1</td>\n",
       "      <td>52</td>\n",
       "    </tr>\n",
       "  </tbody>\n",
       "</table>\n",
       "<p>185413 rows × 195 columns</p>\n",
       "</div>"
      ],
      "text/plain": [
       "          Accrete  AdmBishop  Admcervpos  Admconsistency  Admcontract  AdmDBP  \\\n",
       "MomID                                                                           \n",
       "41-00002        0          8           8               8         99.0      83   \n",
       "41-00003        0          6           3               2          2.9      77   \n",
       "41-00004        0          5           3               2          3.3      65   \n",
       "41-00005        0         11           2               3          4.0      77   \n",
       "41-00006        0         11           1               3          5.0      98   \n",
       "...           ...        ...         ...             ...          ...     ...   \n",
       "52-07247        0          8           8               8         77.0      74   \n",
       "52-07248        0          8           8               8         99.0      74   \n",
       "52-07249        0          8           8               8         66.0      74   \n",
       "52-07250        0          8           8               8         66.0      74   \n",
       "52-07251        0          8           8               8         66.0      74   \n",
       "\n",
       "          Admefface  Admpresent  AdmSBP  Analgesia  ...  ThreatenedPB  \\\n",
       "MomID                                               ...                 \n",
       "41-00002        0.0          77   150.0          7  ...             0   \n",
       "41-00003       70.0           1   105.0          8  ...             0   \n",
       "41-00004       70.0           1   122.0          8  ...             0   \n",
       "41-00005       80.0          77   138.0          8  ...             0   \n",
       "41-00006      100.0          77   134.0          8  ...             0   \n",
       "...             ...         ...     ...        ...  ...           ...   \n",
       "52-07247       70.0           1   124.4          5  ...             0   \n",
       "52-07248        0.0           2   124.4          5  ...             0   \n",
       "52-07249        0.0          77   124.4          9  ...             0   \n",
       "52-07250       90.0           1   124.4          5  ...             0   \n",
       "52-07251      100.0           1   124.4          5  ...             0   \n",
       "\n",
       "          threatpb9  UnspecHBP  uscar  version9  new_age  new_BMI  \\\n",
       "MomID                                                               \n",
       "41-00002          0          0      1         0       37       33   \n",
       "41-00003          0          0      0         0       36       22   \n",
       "41-00004          0          0      0         0       34       31   \n",
       "41-00005          0          0      0         0       31       21   \n",
       "41-00006          0          0      0         0       21       22   \n",
       "...             ...        ...    ...       ...      ...      ...   \n",
       "52-07247          0          0      0         0       19       38   \n",
       "52-07248          0          0      1         0       34       24   \n",
       "52-07249          0          0      1         0       28       23   \n",
       "52-07250          0          0      0         0       16       23   \n",
       "52-07251          0          0      0         0       44       29   \n",
       "\n",
       "          new_high_Age  new_high_BMI  Sitenum  \n",
       "MomID                                          \n",
       "41-00002             1             1       41  \n",
       "41-00003             1             1       41  \n",
       "41-00004             1             1       41  \n",
       "41-00005             1             1       41  \n",
       "41-00006             1             1       41  \n",
       "...                ...           ...      ...  \n",
       "52-07247             0             1       52  \n",
       "52-07248             1             1       52  \n",
       "52-07249             1             1       52  \n",
       "52-07250             0             1       52  \n",
       "52-07251             2             1       52  \n",
       "\n",
       "[185413 rows x 195 columns]"
      ]
     },
     "execution_count": 11,
     "metadata": {},
     "output_type": "execute_result"
    }
   ],
   "source": [
    "X"
   ]
  },
  {
   "cell_type": "code",
   "execution_count": 12,
   "metadata": {},
   "outputs": [
    {
     "name": "stdout",
     "output_type": "stream",
     "text": [
      "<class 'pandas.core.frame.DataFrame'>\n",
      "Index: 185413 entries, 41-00002 to 52-07251\n",
      "Columns: 197 entries, transfus_yes to Sitenum\n",
      "dtypes: float64(4), int64(193)\n",
      "memory usage: 280.1+ MB\n"
     ]
    }
   ],
   "source": [
    "csl_df.info()"
   ]
  },
  {
   "cell_type": "code",
   "execution_count": 13,
   "metadata": {},
   "outputs": [
    {
     "data": {
      "text/plain": [
       "Accrete           40.650960\n",
       "AdmBishop         -1.136977\n",
       "Admcervpos        -0.455299\n",
       "Admconsistency    -0.407357\n",
       "Admcontract        0.231978\n",
       "                    ...    \n",
       "new_age            0.232310\n",
       "new_BMI            2.086880\n",
       "new_high_Age      -0.673167\n",
       "new_high_BMI      -0.549007\n",
       "Sitenum           -0.027123\n",
       "Length: 195, dtype: float64"
      ]
     },
     "execution_count": 13,
     "metadata": {},
     "output_type": "execute_result"
    }
   ],
   "source": [
    "X.skew()"
   ]
  },
  {
   "cell_type": "markdown",
   "metadata": {},
   "source": [
    "<h1 align='center'>Categorical Features Data Analysis</h1>"
   ]
  },
  {
   "cell_type": "code",
   "execution_count": 14,
   "metadata": {},
   "outputs": [
    {
     "name": "stdout",
     "output_type": "stream",
     "text": [
      "0.0558\n",
      "0.0558\n"
     ]
    }
   ],
   "source": [
    "%precision %.3f\n",
    "#np.set_printoptions(precision=3)\n",
    "print(f'{np.bincount(y)[1]/len(y):.4f}')\n",
    "print(f'{np.bincount(y_train)[1]/len(y_train):.4f}')"
   ]
  },
  {
   "cell_type": "code",
   "execution_count": 1,
   "metadata": {},
   "outputs": [
    {
     "ename": "NameError",
     "evalue": "name 'plt' is not defined",
     "output_type": "error",
     "traceback": [
      "\u001b[0;31m---------------------------------------------------------------------------\u001b[0m",
      "\u001b[0;31mNameError\u001b[0m                                 Traceback (most recent call last)",
      "\u001b[0;32m<ipython-input-1-6d6b8e17b55d>\u001b[0m in \u001b[0;36m<module>\u001b[0;34m\u001b[0m\n\u001b[0;32m----> 1\u001b[0;31m \u001b[0mfig1\u001b[0m\u001b[0;34m,\u001b[0m \u001b[0max1\u001b[0m \u001b[0;34m=\u001b[0m \u001b[0mplt\u001b[0m\u001b[0;34m.\u001b[0m\u001b[0msubplots\u001b[0m\u001b[0;34m(\u001b[0m\u001b[0;34m)\u001b[0m\u001b[0;34m\u001b[0m\u001b[0;34m\u001b[0m\u001b[0m\n\u001b[0m\u001b[1;32m      2\u001b[0m \u001b[0max1\u001b[0m\u001b[0;34m.\u001b[0m\u001b[0mpie\u001b[0m\u001b[0;34m(\u001b[0m\u001b[0mcsl_df\u001b[0m\u001b[0;34m[\u001b[0m\u001b[0;34m'trans_loss'\u001b[0m\u001b[0;34m]\u001b[0m\u001b[0;34m.\u001b[0m\u001b[0mvalue_counts\u001b[0m\u001b[0;34m(\u001b[0m\u001b[0;34m)\u001b[0m\u001b[0;34m,\u001b[0m \u001b[0mlabels\u001b[0m\u001b[0;34m=\u001b[0m\u001b[0;34m[\u001b[0m\u001b[0;34m'No'\u001b[0m\u001b[0;34m,\u001b[0m\u001b[0;34m'Yes'\u001b[0m\u001b[0;34m]\u001b[0m\u001b[0;34m,\u001b[0m \u001b[0mautopct\u001b[0m\u001b[0;34m=\u001b[0m\u001b[0;34m'%1.1f%%'\u001b[0m\u001b[0;34m)\u001b[0m\u001b[0;34m\u001b[0m\u001b[0;34m\u001b[0m\u001b[0m\n\u001b[1;32m      3\u001b[0m \u001b[0mplt\u001b[0m\u001b[0;34m.\u001b[0m\u001b[0mshow\u001b[0m\u001b[0;34m(\u001b[0m\u001b[0;34m)\u001b[0m\u001b[0;34m\u001b[0m\u001b[0;34m\u001b[0m\u001b[0m\n",
      "\u001b[0;31mNameError\u001b[0m: name 'plt' is not defined"
     ]
    }
   ],
   "source": [
    "fig1, ax1 = plt.subplots()\n",
    "ax1.pie(csl_df['trans_loss'].value_counts(), labels=['No','Yes'], autopct='%1.1f%%')\n",
    "plt.show()"
   ]
  },
  {
   "cell_type": "code",
   "execution_count": 16,
   "metadata": {},
   "outputs": [],
   "source": [
    "#fig = px.pie(train,values=train['Response'].value_counts(),names=['Class 0','Class 1'],hole=0.6,labels={0:'Response = 0'},color_discrete_sequence=px.colors.sequential.Sunset)\n",
    "#fig.show(showlegend=True)\n",
    "#plt.show()"
   ]
  },
  {
   "cell_type": "code",
   "execution_count": 17,
   "metadata": {},
   "outputs": [],
   "source": [
    "#fig = px.pie(train,values=train['Response'].value_counts(),names=['Class 0','Class 1'],hole=0.6,labels={0:'Response = 0'},color_discrete_sequence=px.colors.sequential.Sunset)\n",
    "#fig.show(showlegend=True)"
   ]
  },
  {
   "cell_type": "code",
   "execution_count": 2,
   "metadata": {},
   "outputs": [
    {
     "ename": "NameError",
     "evalue": "name 'sns' is not defined",
     "output_type": "error",
     "traceback": [
      "\u001b[0;31m---------------------------------------------------------------------------\u001b[0m",
      "\u001b[0;31mNameError\u001b[0m                                 Traceback (most recent call last)",
      "\u001b[0;32m<ipython-input-2-1f75def282d5>\u001b[0m in \u001b[0;36m<module>\u001b[0;34m\u001b[0m\n\u001b[0;32m----> 1\u001b[0;31m \u001b[0msns\u001b[0m\u001b[0;34m.\u001b[0m\u001b[0mcountplot\u001b[0m\u001b[0;34m(\u001b[0m\u001b[0mcsl_df\u001b[0m\u001b[0;34m[\u001b[0m\u001b[0;34m'trans_loss'\u001b[0m\u001b[0;34m]\u001b[0m\u001b[0;34m)\u001b[0m\u001b[0;34m\u001b[0m\u001b[0;34m\u001b[0m\u001b[0m\n\u001b[0m\u001b[1;32m      2\u001b[0m \u001b[0mplt\u001b[0m\u001b[0;34m.\u001b[0m\u001b[0mshow\u001b[0m\u001b[0;34m(\u001b[0m\u001b[0;34m)\u001b[0m\u001b[0;34m\u001b[0m\u001b[0;34m\u001b[0m\u001b[0m\n",
      "\u001b[0;31mNameError\u001b[0m: name 'sns' is not defined"
     ]
    }
   ],
   "source": [
    "sns.countplot(csl_df['trans_loss'])\n",
    "plt.show()"
   ]
  },
  {
   "cell_type": "markdown",
   "metadata": {},
   "source": [
    "We can see from the above visualisations that:\n",
    "\n",
    "* The Data is highly imbalanced"
   ]
  },
  {
   "cell_type": "code",
   "execution_count": 3,
   "metadata": {},
   "outputs": [
    {
     "ename": "NameError",
     "evalue": "name 'plt' is not defined",
     "output_type": "error",
     "traceback": [
      "\u001b[0;31m---------------------------------------------------------------------------\u001b[0m",
      "\u001b[0;31mNameError\u001b[0m                                 Traceback (most recent call last)",
      "\u001b[0;32m<ipython-input-3-74e982958b8f>\u001b[0m in \u001b[0;36m<module>\u001b[0;34m\u001b[0m\n\u001b[0;32m----> 1\u001b[0;31m \u001b[0mplt\u001b[0m\u001b[0;34m.\u001b[0m\u001b[0mfigure\u001b[0m\u001b[0;34m(\u001b[0m\u001b[0mfigsize\u001b[0m\u001b[0;34m=\u001b[0m\u001b[0;34m(\u001b[0m\u001b[0;36m20\u001b[0m\u001b[0;34m,\u001b[0m\u001b[0;36m10\u001b[0m\u001b[0;34m)\u001b[0m\u001b[0;34m)\u001b[0m\u001b[0;34m\u001b[0m\u001b[0;34m\u001b[0m\u001b[0m\n\u001b[0m\u001b[1;32m      2\u001b[0m \u001b[0msns\u001b[0m\u001b[0;34m.\u001b[0m\u001b[0mbarplot\u001b[0m\u001b[0;34m(\u001b[0m\u001b[0mcsl_df\u001b[0m\u001b[0;34m[\u001b[0m\u001b[0;34m'new_age'\u001b[0m\u001b[0;34m]\u001b[0m\u001b[0;34m,\u001b[0m\u001b[0mcsl_df\u001b[0m\u001b[0;34m[\u001b[0m\u001b[0;34m'trans_loss'\u001b[0m\u001b[0;34m]\u001b[0m\u001b[0;34m)\u001b[0m\u001b[0;34m\u001b[0m\u001b[0;34m\u001b[0m\u001b[0m\n\u001b[1;32m      3\u001b[0m \u001b[0mplt\u001b[0m\u001b[0;34m.\u001b[0m\u001b[0mshow\u001b[0m\u001b[0;34m(\u001b[0m\u001b[0;34m)\u001b[0m\u001b[0;34m\u001b[0m\u001b[0;34m\u001b[0m\u001b[0m\n",
      "\u001b[0;31mNameError\u001b[0m: name 'plt' is not defined"
     ]
    }
   ],
   "source": [
    "plt.figure(figsize=(20,10))\n",
    "sns.barplot(csl_df['new_age'],csl_df['trans_loss'])\n",
    "plt.show()"
   ]
  },
  {
   "cell_type": "code",
   "execution_count": 4,
   "metadata": {},
   "outputs": [
    {
     "ename": "NameError",
     "evalue": "name 'sns' is not defined",
     "output_type": "error",
     "traceback": [
      "\u001b[0;31m---------------------------------------------------------------------------\u001b[0m",
      "\u001b[0;31mNameError\u001b[0m                                 Traceback (most recent call last)",
      "\u001b[0;32m<ipython-input-4-3e7f4639aff8>\u001b[0m in \u001b[0;36m<module>\u001b[0;34m\u001b[0m\n\u001b[0;32m----> 1\u001b[0;31m \u001b[0msns\u001b[0m\u001b[0;34m.\u001b[0m\u001b[0mboxplot\u001b[0m\u001b[0;34m(\u001b[0m\u001b[0mcsl_df\u001b[0m\u001b[0;34m[\u001b[0m\u001b[0;34m'new_age'\u001b[0m\u001b[0;34m]\u001b[0m\u001b[0;34m)\u001b[0m\u001b[0;34m\u001b[0m\u001b[0;34m\u001b[0m\u001b[0m\n\u001b[0m\u001b[1;32m      2\u001b[0m \u001b[0mplt\u001b[0m\u001b[0;34m.\u001b[0m\u001b[0mshow\u001b[0m\u001b[0;34m(\u001b[0m\u001b[0;34m)\u001b[0m\u001b[0;34m\u001b[0m\u001b[0;34m\u001b[0m\u001b[0m\n",
      "\u001b[0;31mNameError\u001b[0m: name 'sns' is not defined"
     ]
    }
   ],
   "source": [
    "sns.boxplot(csl_df['new_age'])\n",
    "plt.show()"
   ]
  },
  {
   "cell_type": "code",
   "execution_count": 5,
   "metadata": {},
   "outputs": [
    {
     "ename": "NameError",
     "evalue": "name 'plt' is not defined",
     "output_type": "error",
     "traceback": [
      "\u001b[0;31m---------------------------------------------------------------------------\u001b[0m",
      "\u001b[0;31mNameError\u001b[0m                                 Traceback (most recent call last)",
      "\u001b[0;32m<ipython-input-5-0f515baa0c8b>\u001b[0m in \u001b[0;36m<module>\u001b[0;34m\u001b[0m\n\u001b[0;32m----> 1\u001b[0;31m \u001b[0mplt\u001b[0m\u001b[0;34m.\u001b[0m\u001b[0mfigure\u001b[0m\u001b[0;34m(\u001b[0m\u001b[0mfigsize\u001b[0m\u001b[0;34m=\u001b[0m\u001b[0;34m(\u001b[0m\u001b[0;36m20\u001b[0m\u001b[0;34m,\u001b[0m\u001b[0;36m10\u001b[0m\u001b[0;34m)\u001b[0m\u001b[0;34m)\u001b[0m\u001b[0;34m\u001b[0m\u001b[0;34m\u001b[0m\u001b[0m\n\u001b[0m\u001b[1;32m      2\u001b[0m \u001b[0msns\u001b[0m\u001b[0;34m.\u001b[0m\u001b[0mbarplot\u001b[0m\u001b[0;34m(\u001b[0m\u001b[0mcsl_df\u001b[0m\u001b[0;34m[\u001b[0m\u001b[0;34m'new_BMI'\u001b[0m\u001b[0;34m]\u001b[0m\u001b[0;34m,\u001b[0m\u001b[0mcsl_df\u001b[0m\u001b[0;34m[\u001b[0m\u001b[0;34m'trans_loss'\u001b[0m\u001b[0;34m]\u001b[0m\u001b[0;34m)\u001b[0m\u001b[0;34m\u001b[0m\u001b[0;34m\u001b[0m\u001b[0m\n\u001b[1;32m      3\u001b[0m \u001b[0mplt\u001b[0m\u001b[0;34m.\u001b[0m\u001b[0mshow\u001b[0m\u001b[0;34m(\u001b[0m\u001b[0;34m)\u001b[0m\u001b[0;34m\u001b[0m\u001b[0;34m\u001b[0m\u001b[0m\n",
      "\u001b[0;31mNameError\u001b[0m: name 'plt' is not defined"
     ]
    }
   ],
   "source": [
    "plt.figure(figsize=(20,10))\n",
    "sns.barplot(csl_df['new_BMI'],csl_df['trans_loss'])\n",
    "plt.show()"
   ]
  },
  {
   "cell_type": "code",
   "execution_count": 6,
   "metadata": {},
   "outputs": [
    {
     "ename": "NameError",
     "evalue": "name 'sns' is not defined",
     "output_type": "error",
     "traceback": [
      "\u001b[0;31m---------------------------------------------------------------------------\u001b[0m",
      "\u001b[0;31mNameError\u001b[0m                                 Traceback (most recent call last)",
      "\u001b[0;32m<ipython-input-6-154c9bf59911>\u001b[0m in \u001b[0;36m<module>\u001b[0;34m\u001b[0m\n\u001b[0;32m----> 1\u001b[0;31m \u001b[0msns\u001b[0m\u001b[0;34m.\u001b[0m\u001b[0mboxplot\u001b[0m\u001b[0;34m(\u001b[0m\u001b[0mcsl_df\u001b[0m\u001b[0;34m[\u001b[0m\u001b[0;34m'new_BMI'\u001b[0m\u001b[0;34m]\u001b[0m\u001b[0;34m)\u001b[0m\u001b[0;34m\u001b[0m\u001b[0;34m\u001b[0m\u001b[0m\n\u001b[0m\u001b[1;32m      2\u001b[0m \u001b[0mplt\u001b[0m\u001b[0;34m.\u001b[0m\u001b[0mshow\u001b[0m\u001b[0;34m(\u001b[0m\u001b[0;34m)\u001b[0m\u001b[0;34m\u001b[0m\u001b[0;34m\u001b[0m\u001b[0m\n",
      "\u001b[0;31mNameError\u001b[0m: name 'sns' is not defined"
     ]
    }
   ],
   "source": [
    "sns.boxplot(csl_df['new_BMI'])\n",
    "plt.show()"
   ]
  },
  {
   "cell_type": "markdown",
   "metadata": {},
   "source": [
    "<h1 align='center'>Modelling</h1>"
   ]
  },
  {
   "cell_type": "code",
   "execution_count": 23,
   "metadata": {},
   "outputs": [],
   "source": [
    "#X = all_features.iloc[:len(train),:]\n",
    "#X_test = all_features.iloc[len(train):,:]\n",
    "\n",
    "#kf = StratifiedKFold(n_splits=12,shuffle=True,random_state=42)"
   ]
  },
  {
   "cell_type": "markdown",
   "metadata": {},
   "source": [
    "We define resplit our train and test set, and set up 12 Fold Stratified Cross Validation. It is important to stratify as this ensures that during our training and validation, we split according to target distribution"
   ]
  },
  {
   "cell_type": "code",
   "execution_count": 24,
   "metadata": {},
   "outputs": [],
   "source": [
    "#for train_index,val_index in kf.split(X,y):\n",
    "#    X_train,X_val = X.iloc[train_index],X.iloc[val_index],\n",
    "#    y_train,y_val = y.iloc[train_index],y.iloc[val_index],"
   ]
  },
  {
   "cell_type": "code",
   "execution_count": 25,
   "metadata": {},
   "outputs": [
    {
     "name": "stdout",
     "output_type": "stream",
     "text": [
      "(129789, 195)\n",
      "(185413, 195)\n",
      "(185413,)\n"
     ]
    }
   ],
   "source": [
    "# MWB\n",
    "print(X_train.shape)\n",
    "print(X.shape)\n",
    "print(y.shape)"
   ]
  },
  {
   "cell_type": "markdown",
   "metadata": {},
   "source": [
    "Here we define our validation set"
   ]
  },
  {
   "cell_type": "markdown",
   "metadata": {},
   "source": [
    "<h1 align='center'>Modelling Using Undersampling</h1>"
   ]
  },
  {
   "cell_type": "markdown",
   "metadata": {},
   "source": [
    "We will use `imblearn`'s RandomUnderSampler to undersample from the majority class so that they match"
   ]
  },
  {
   "cell_type": "code",
   "execution_count": 31,
   "metadata": {},
   "outputs": [],
   "source": [
    "sampler = RandomUnderSampler(sampling_strategy=1.0, random_state=7)\n",
    "X_rus, y_rus = sampler.fit_resample(X_train, y_train)\n",
    "\n",
    "# Try with no undersampling\n",
    "#X_rus, y_rus = X_train, y_train"
   ]
  },
  {
   "cell_type": "code",
   "execution_count": 32,
   "metadata": {},
   "outputs": [
    {
     "name": "stdout",
     "output_type": "stream",
     "text": [
      "(14482, 195)\n",
      "(14482,)\n",
      "[7241 7241]\n"
     ]
    }
   ],
   "source": [
    "print(X_rus.shape)\n",
    "print(y_rus.shape)\n",
    "print(np.bincount(y_rus))"
   ]
  },
  {
   "cell_type": "markdown",
   "metadata": {},
   "source": [
    "<h1 align='center'>Basic Gradient Boosting</h1>"
   ]
  },
  {
   "cell_type": "code",
   "execution_count": 34,
   "metadata": {},
   "outputs": [
    {
     "name": "stdout",
     "output_type": "stream",
     "text": [
      "{'ccp_alpha': 0.0, 'criterion': 'friedman_mse', 'init': None, 'learning_rate': 0.1, 'loss': 'deviance', 'max_depth': 3, 'max_features': None, 'max_leaf_nodes': None, 'min_impurity_decrease': 0.0, 'min_impurity_split': None, 'min_samples_leaf': 1, 'min_samples_split': 2, 'min_weight_fraction_leaf': 0.0, 'n_estimators': 100, 'n_iter_no_change': None, 'presort': 'deprecated', 'random_state': None, 'subsample': 1.0, 'tol': 0.0001, 'validation_fraction': 0.1, 'verbose': 0, 'warm_start': False}\n",
      "[[35054 17467]\n",
      " [  350  2753]]\n",
      "              precision    recall  f1-score   support\n",
      "\n",
      "           0       0.99      0.67      0.80     52521\n",
      "           1       0.14      0.89      0.24      3103\n",
      "\n",
      "    accuracy                           0.68     55624\n",
      "   macro avg       0.56      0.78      0.52     55624\n",
      "weighted avg       0.94      0.68      0.77     55624\n",
      "\n",
      "ROC AUC prob1: 0.8355697697594842\n",
      "MCC: 0.26463499992703937\n",
      "F2: 0.42182520225545467\n",
      "PR_AUC: 0.2140558200374818\n"
     ]
    }
   ],
   "source": [
    "from sklearn.metrics import matthews_corrcoef\n",
    "from sklearn.utils import class_weight\n",
    "gb_rus = GradientBoostingClassifier()   # If not undersampling\n",
    "weights = class_weight.compute_sample_weight('balanced', y=y_rus)\n",
    "gb_rus.fit(X_rus, y_rus, sample_weight=weights)\n",
    "print(gb_rus.get_params())\n",
    "y_pred = gb_rus.predict(X_test)\n",
    "probs = gb_rus.predict_proba(X_test)\n",
    "prob1 = probs[:, 1]  # Only positives\n",
    "precision, recall, pr_thresh = precision_recall_curve(y_test, prob1)\n",
    "print(confusion_matrix(y_pred=y_pred, y_true=y_test))\n",
    "print(classification_report(y_test, y_pred))\n",
    "print(f'ROC AUC prob1: {roc_auc_score(y_test, prob1)}')\n",
    "print(f'MCC: {matthews_corrcoef(y_test, y_pred)}')\n",
    "print(f'F2: {fbeta_score(y_test, y_pred, beta=2.0, average=None)[1]}')\n",
    "print(f'PR_AUC: {auc(recall, precision)}')"
   ]
  },
  {
   "cell_type": "code",
   "execution_count": 28,
   "metadata": {},
   "outputs": [
    {
     "name": "stdout",
     "output_type": "stream",
     "text": [
      "[[35363 17158]\n",
      " [  374  2729]]\n",
      "              precision    recall  f1-score   support\n",
      "\n",
      "           0       0.99      0.67      0.80     52521\n",
      "           1       0.14      0.88      0.24      3103\n",
      "\n",
      "    accuracy                           0.68     55624\n",
      "   macro avg       0.56      0.78      0.52     55624\n",
      "weighted avg       0.94      0.68      0.77     55624\n",
      "\n",
      "ROC AUC prob1: 0.8378781967869053\n",
      "MCC: 0.2647088495812209\n",
      "F2: 0.4224588996563361\n",
      "PR_AUC: 0.22394914990846596\n"
     ]
    }
   ],
   "source": [
    "from sklearn.metrics import matthews_corrcoef\n",
    "from sklearn.utils import class_weight\n",
    "gb_rus = GradientBoostingClassifier()   # If not undersampling\n",
    "weights = class_weight.compute_sample_weight('balanced', y=y_rus)\n",
    "gb_rus.fit(X_rus, y_rus, sample_weight=weights)\n",
    "print(gb_rus.get_params())\n",
    "y_pred = gb_rus.predict(X_test)\n",
    "probs = gb_rus.predict_proba(X_test)\n",
    "prob1 = probs[:, 1]  # Only positives\n",
    "precision, recall, pr_thresh = precision_recall_curve(y_test, prob1)\n",
    "print(confusion_matrix(y_pred=y_pred, y_true=y_test))\n",
    "print(classification_report(y_test, y_pred))\n",
    "print(f'ROC AUC prob1: {roc_auc_score(y_test, prob1)}')\n",
    "print(f'MCC: {matthews_corrcoef(y_test, y_pred)}')\n",
    "print(f'F2: {fbeta_score(y_test, y_pred, beta=2.0, average=None)[1]}')\n",
    "print(f'PR_AUC: {auc(recall, precision)}')"
   ]
  },
  {
   "cell_type": "markdown",
   "metadata": {},
   "source": [
    "<h1 align='center'>Hyperparameter Tuning</h1>"
   ]
  },
  {
   "cell_type": "code",
   "execution_count": 37,
   "metadata": {},
   "outputs": [
    {
     "name": "stderr",
     "output_type": "stream",
     "text": [
      "\u001b[32m[I 2021-12-03 16:31:43,052]\u001b[0m A new study created in memory with name: no-name-f761ccaf-141e-4157-acbe-781672b411fb\u001b[0m\n"
     ]
    },
    {
     "name": "stdout",
     "output_type": "stream",
     "text": [
      "{'ccp_alpha': 0.0, 'criterion': 'friedman_mse', 'init': None, 'learning_rate': 0.1, 'loss': 'deviance', 'max_depth': 3, 'max_features': None, 'max_leaf_nodes': None, 'min_impurity_decrease': 0.0, 'min_impurity_split': None, 'min_samples_leaf': 1, 'min_samples_split': 2, 'min_weight_fraction_leaf': 0.0, 'n_estimators': 100, 'n_iter_no_change': None, 'presort': 'deprecated', 'random_state': None, 'subsample': 1.0, 'tol': 0.0001, 'validation_fraction': 0.1, 'verbose': 0, 'warm_start': False}\n"
     ]
    },
    {
     "name": "stderr",
     "output_type": "stream",
     "text": [
      "\u001b[32m[I 2021-12-03 16:31:48,134]\u001b[0m Trial 0 finished with value: 0.26541888202503866 and parameters: {'n_estimators': 81, 'subsample': 0.9852142919229748, 'learning_rate': 0.14907884894416698, 'min_samples_leaf': 30}. Best is trial 0 with value: 0.26541888202503866.\u001b[0m\n"
     ]
    },
    {
     "name": "stdout",
     "output_type": "stream",
     "text": [
      "ROC: 0.8365339805486274\n",
      "PR_AUC: 0.2187978814719409\n",
      "avg_prec: 0.2190332028833386\n",
      "MCC: 0.26541888202503866\n",
      "{'ccp_alpha': 0.0, 'criterion': 'friedman_mse', 'init': None, 'learning_rate': 0.1, 'loss': 'deviance', 'max_depth': 3, 'max_features': None, 'max_leaf_nodes': None, 'min_impurity_decrease': 0.0, 'min_impurity_split': None, 'min_samples_leaf': 1, 'min_samples_split': 2, 'min_weight_fraction_leaf': 0.0, 'n_estimators': 100, 'n_iter_no_change': None, 'presort': 'deprecated', 'random_state': None, 'subsample': 1.0, 'tol': 0.0001, 'validation_fraction': 0.1, 'verbose': 0, 'warm_start': False}\n"
     ]
    },
    {
     "name": "stderr",
     "output_type": "stream",
     "text": [
      "\u001b[32m[I 2021-12-03 16:31:50,408]\u001b[0m Trial 1 finished with value: 0.23982979998335768 and parameters: {'n_estimators': 39, 'subsample': 0.7467983561008608, 'learning_rate': 0.021035886311957897, 'min_samples_leaf': 44}. Best is trial 0 with value: 0.26541888202503866.\u001b[0m\n"
     ]
    },
    {
     "name": "stdout",
     "output_type": "stream",
     "text": [
      "ROC: 0.8219159951997593\n",
      "PR_AUC: 0.18721519115920413\n",
      "avg_prec: 0.18053071342316032\n",
      "MCC: 0.23982979998335768\n",
      "{'ccp_alpha': 0.0, 'criterion': 'friedman_mse', 'init': None, 'learning_rate': 0.1, 'loss': 'deviance', 'max_depth': 3, 'max_features': None, 'max_leaf_nodes': None, 'min_impurity_decrease': 0.0, 'min_impurity_split': None, 'min_samples_leaf': 1, 'min_samples_split': 2, 'min_weight_fraction_leaf': 0.0, 'n_estimators': 100, 'n_iter_no_change': None, 'presort': 'deprecated', 'random_state': None, 'subsample': 1.0, 'tol': 0.0001, 'validation_fraction': 0.1, 'verbose': 0, 'warm_start': False}\n"
     ]
    },
    {
     "name": "stderr",
     "output_type": "stream",
     "text": [
      "\u001b[32m[I 2021-12-03 16:31:58,458]\u001b[0m Trial 2 finished with value: 0.2606340931049227 and parameters: {'n_estimators': 124, 'subsample': 0.9124217733388136, 'learning_rate': 0.013911053916202464, 'min_samples_leaf': 49}. Best is trial 0 with value: 0.26541888202503866.\u001b[0m\n"
     ]
    },
    {
     "name": "stdout",
     "output_type": "stream",
     "text": [
      "ROC: 0.8287811128176754\n",
      "PR_AUC: 0.1981845524610231\n",
      "avg_prec: 0.19528415745177166\n",
      "MCC: 0.2606340931049227\n",
      "{'ccp_alpha': 0.0, 'criterion': 'friedman_mse', 'init': None, 'learning_rate': 0.1, 'loss': 'deviance', 'max_depth': 3, 'max_features': None, 'max_leaf_nodes': None, 'min_impurity_decrease': 0.0, 'min_impurity_split': None, 'min_samples_leaf': 1, 'min_samples_split': 2, 'min_weight_fraction_leaf': 0.0, 'n_estimators': 100, 'n_iter_no_change': None, 'presort': 'deprecated', 'random_state': None, 'subsample': 1.0, 'tol': 0.0001, 'validation_fraction': 0.1, 'verbose': 0, 'warm_start': False}\n"
     ]
    },
    {
     "name": "stderr",
     "output_type": "stream",
     "text": [
      "\u001b[32m[I 2021-12-03 16:32:07,038]\u001b[0m Trial 3 finished with value: 0.26448822218278967 and parameters: {'n_estimators': 168, 'subsample': 0.7637017332034828, 'learning_rate': 0.04454674376934912, 'min_samples_leaf': 10}. Best is trial 0 with value: 0.26541888202503866.\u001b[0m\n"
     ]
    },
    {
     "name": "stdout",
     "output_type": "stream",
     "text": [
      "ROC: 0.835988073042655\n",
      "PR_AUC: 0.217290475020333\n",
      "avg_prec: 0.21754601022697295\n",
      "MCC: 0.26448822218278967\n",
      "{'ccp_alpha': 0.0, 'criterion': 'friedman_mse', 'init': None, 'learning_rate': 0.1, 'loss': 'deviance', 'max_depth': 3, 'max_features': None, 'max_leaf_nodes': None, 'min_impurity_decrease': 0.0, 'min_impurity_split': None, 'min_samples_leaf': 1, 'min_samples_split': 2, 'min_weight_fraction_leaf': 0.0, 'n_estimators': 100, 'n_iter_no_change': None, 'presort': 'deprecated', 'random_state': None, 'subsample': 1.0, 'tol': 0.0001, 'validation_fraction': 0.1, 'verbose': 0, 'warm_start': False}\n"
     ]
    },
    {
     "name": "stderr",
     "output_type": "stream",
     "text": [
      "\u001b[32m[I 2021-12-03 16:32:10,914]\u001b[0m Trial 4 finished with value: 0.26479441103956564 and parameters: {'n_estimators': 68, 'subsample': 0.8574269294896714, 'learning_rate': 0.092069553542002, 'min_samples_leaf': 15}. Best is trial 0 with value: 0.26541888202503866.\u001b[0m\n"
     ]
    },
    {
     "name": "stdout",
     "output_type": "stream",
     "text": [
      "ROC: 0.8352831112540635\n",
      "PR_AUC: 0.21418274875639715\n",
      "avg_prec: 0.21426100750154575\n",
      "MCC: 0.26479441103956564\n"
     ]
    }
   ],
   "source": [
    "def create_model(trial):\n",
    "    n_estimators = trial.suggest_int('n_estimators', 10, 200)\n",
    "    subsample = trial.suggest_float('subsample', 0.9, 1.0)\n",
    "#    max_depth = trial.suggest_int('max_depth',3,20)\n",
    "    learning_rate = trial.suggest_uniform('learning_rate',0.01,0.2)\n",
    "    min_samples_leaf = trial.suggest_int('min_samples_leaf',1,50)\n",
    "#    model = GradientBoostingClassifier(n_estimators=n_estimators, subsample=subsample, \n",
    "#                           max_depth=max_depth, learning_rate=learning_rate, \n",
    "#                           min_samples_leaf=min_samples_leaf)\n",
    "    model = GradientBoostingClassifier(n_estimators=n_estimators, subsample=subsample, \n",
    "                           learning_rate=learning_rate, \n",
    "                           min_samples_leaf=min_samples_leaf)\n",
    "    return model\n",
    "\n",
    "def objective(trial):\n",
    "    model = create_model(trial)\n",
    "    model.fit(X_rus, y_rus)\n",
    "    y_pred = model.predict(X_test)\n",
    "    probs = model.predict_proba(X_test)\n",
    "    prob1 = probs[:, 1]  # Only positives\n",
    "    precision, recall, pr_thresh = precision_recall_curve(y_test, prob1)\n",
    "    roc = roc_auc_score(y_test, prob1)\n",
    "    mcc = matthews_corrcoef(y_test, y_pred)  # MWB\n",
    "    f2 = fbeta_score(y_test, y_pred, beta=2.0, average=None)[1]\n",
    "    pr_auc = auc(recall, precision)\n",
    "    avg_precision = average_precision_score(y_test, prob1)\n",
    "    print(f'ROC: {roc}')\n",
    "    print(f'PR_AUC: {pr_auc}')\n",
    "    print(f'avg_prec: {avg_precision}')\n",
    "    print(f'MCC: {mcc}')\n",
    "    return mcc\n",
    "#    return roc\n",
    "\n",
    "sampler = TPESampler(seed=42)\n",
    "study = optuna.create_study(sampler=sampler,direction='maximize')\n",
    "#study.optimize(objective,n_trials=60)\n",
    "study.optimize(objective,n_trials=5)"
   ]
  },
  {
   "cell_type": "code",
   "execution_count": 45,
   "metadata": {},
   "outputs": [
    {
     "name": "stderr",
     "output_type": "stream",
     "text": [
      "\u001b[32m[I 2021-12-03 17:30:52,893]\u001b[0m A new study created in memory with name: no-name-a8cbb3b2-ae64-4f53-b9fb-402ad54ccc0c\u001b[0m\n",
      "\u001b[32m[I 2021-12-03 17:30:58,099]\u001b[0m Trial 0 finished with value: 0.2654547963716877 and parameters: {'n_estimators': 81, 'subsample': 0.9950714306409916, 'learning_rate': 0.14907884894416698, 'min_samples_leaf': 30}. Best is trial 0 with value: 0.2654547963716877.\u001b[0m\n"
     ]
    },
    {
     "name": "stdout",
     "output_type": "stream",
     "text": [
      "ROC: 0.8363947179288591\n",
      "PR_AUC: 0.2195439696948936\n",
      "avg_prec: 0.2197653647796915\n",
      "MCC: 0.2654547963716877\n"
     ]
    },
    {
     "name": "stderr",
     "output_type": "stream",
     "text": [
      "\u001b[32m[I 2021-12-03 17:31:00,927]\u001b[0m Trial 1 finished with value: 0.23982979998335768 and parameters: {'n_estimators': 39, 'subsample': 0.9155994520336203, 'learning_rate': 0.021035886311957897, 'min_samples_leaf': 44}. Best is trial 0 with value: 0.2654547963716877.\u001b[0m\n"
     ]
    },
    {
     "name": "stdout",
     "output_type": "stream",
     "text": [
      "ROC: 0.8220709537034442\n",
      "PR_AUC: 0.1855844912958978\n",
      "avg_prec: 0.17698409946770524\n",
      "MCC: 0.23982979998335768\n"
     ]
    },
    {
     "name": "stderr",
     "output_type": "stream",
     "text": [
      "\u001b[32m[I 2021-12-03 17:31:08,962]\u001b[0m Trial 2 finished with value: 0.2607222534891927 and parameters: {'n_estimators': 124, 'subsample': 0.9708072577796045, 'learning_rate': 0.013911053916202464, 'min_samples_leaf': 49}. Best is trial 0 with value: 0.2654547963716877.\u001b[0m\n"
     ]
    },
    {
     "name": "stdout",
     "output_type": "stream",
     "text": [
      "ROC: 0.8294747506212129\n",
      "PR_AUC: 0.1996556504329885\n",
      "avg_prec: 0.19483124491633613\n",
      "MCC: 0.2607222534891927\n"
     ]
    },
    {
     "name": "stderr",
     "output_type": "stream",
     "text": [
      "\u001b[32m[I 2021-12-03 17:31:19,086]\u001b[0m Trial 3 finished with value: 0.26490270896215284 and parameters: {'n_estimators': 168, 'subsample': 0.9212339110678276, 'learning_rate': 0.04454674376934912, 'min_samples_leaf': 10}. Best is trial 0 with value: 0.2654547963716877.\u001b[0m\n"
     ]
    },
    {
     "name": "stdout",
     "output_type": "stream",
     "text": [
      "ROC: 0.8355717639589653\n",
      "PR_AUC: 0.21549628572667953\n",
      "avg_prec: 0.2157414299137088\n",
      "MCC: 0.26490270896215284\n"
     ]
    },
    {
     "name": "stderr",
     "output_type": "stream",
     "text": [
      "\u001b[32m[I 2021-12-03 17:31:23,618]\u001b[0m Trial 4 finished with value: 0.2645190512134221 and parameters: {'n_estimators': 68, 'subsample': 0.9524756431632238, 'learning_rate': 0.092069553542002, 'min_samples_leaf': 15}. Best is trial 0 with value: 0.2654547963716877.\u001b[0m\n"
     ]
    },
    {
     "name": "stdout",
     "output_type": "stream",
     "text": [
      "ROC: 0.8350129954003389\n",
      "PR_AUC: 0.21471389658304504\n",
      "avg_prec: 0.21477085064967788\n",
      "MCC: 0.2645190512134221\n"
     ]
    },
    {
     "name": "stderr",
     "output_type": "stream",
     "text": [
      "\u001b[32m[I 2021-12-03 17:31:31,990]\u001b[0m Trial 5 finished with value: 0.26454366164350923 and parameters: {'n_estimators': 126, 'subsample': 0.9139493860652042, 'learning_rate': 0.06550748322169145, 'min_samples_leaf': 19}. Best is trial 0 with value: 0.2654547963716877.\u001b[0m\n"
     ]
    },
    {
     "name": "stdout",
     "output_type": "stream",
     "text": [
      "ROC: 0.8364546390212695\n",
      "PR_AUC: 0.21905969477978177\n",
      "avg_prec: 0.21924605567943045\n",
      "MCC: 0.26454366164350923\n"
     ]
    },
    {
     "name": "stderr",
     "output_type": "stream",
     "text": [
      "\u001b[32m[I 2021-12-03 17:31:38,373]\u001b[0m Trial 6 finished with value: 0.26395544495063666 and parameters: {'n_estimators': 97, 'subsample': 0.9785175961393013, 'learning_rate': 0.047938018610088354, 'min_samples_leaf': 26}. Best is trial 0 with value: 0.2654547963716877.\u001b[0m\n"
     ]
    },
    {
     "name": "stdout",
     "output_type": "stream",
     "text": [
      "ROC: 0.8332935014996963\n",
      "PR_AUC: 0.2110604876986793\n",
      "avg_prec: 0.21084284680397564\n",
      "MCC: 0.26395544495063666\n"
     ]
    },
    {
     "name": "stderr",
     "output_type": "stream",
     "text": [
      "\u001b[32m[I 2021-12-03 17:31:45,638]\u001b[0m Trial 7 finished with value: 0.2656612485474642 and parameters: {'n_estimators': 123, 'subsample': 0.9046450412719997, 'learning_rate': 0.1254335218612733, 'min_samples_leaf': 9}. Best is trial 7 with value: 0.2656612485474642.\u001b[0m\n"
     ]
    },
    {
     "name": "stdout",
     "output_type": "stream",
     "text": [
      "ROC: 0.8369622640332017\n",
      "PR_AUC: 0.21787811311939376\n",
      "avg_prec: 0.21810541226470836\n",
      "MCC: 0.2656612485474642\n"
     ]
    },
    {
     "name": "stderr",
     "output_type": "stream",
     "text": [
      "\u001b[32m[I 2021-12-03 17:31:47,364]\u001b[0m Trial 8 finished with value: 0.26416802939255996 and parameters: {'n_estimators': 22, 'subsample': 0.9948885537253334, 'learning_rate': 0.1934700862841663, 'min_samples_leaf': 41}. Best is trial 7 with value: 0.2656612485474642.\u001b[0m\n"
     ]
    },
    {
     "name": "stdout",
     "output_type": "stream",
     "text": [
      "ROC: 0.8339677925002673\n",
      "PR_AUC: 0.21035623411169782\n",
      "avg_prec: 0.20873097536995083\n",
      "MCC: 0.26416802939255996\n"
     ]
    },
    {
     "name": "stderr",
     "output_type": "stream",
     "text": [
      "\u001b[32m[I 2021-12-03 17:31:51,716]\u001b[0m Trial 9 finished with value: 0.26543753467199666 and parameters: {'n_estimators': 68, 'subsample': 0.9097672114006384, 'learning_rate': 0.14000427503730983, 'min_samples_leaf': 23}. Best is trial 7 with value: 0.2656612485474642.\u001b[0m\n"
     ]
    },
    {
     "name": "stdout",
     "output_type": "stream",
     "text": [
      "ROC: 0.836492166787506\n",
      "PR_AUC: 0.21676889777392588\n",
      "avg_prec: 0.21696745342941484\n",
      "MCC: 0.26543753467199666\n"
     ]
    },
    {
     "name": "stderr",
     "output_type": "stream",
     "text": [
      "\u001b[32m[I 2021-12-03 17:32:03,626]\u001b[0m Trial 10 finished with value: 0.2669435186878387 and parameters: {'n_estimators': 191, 'subsample': 0.9363727673621631, 'learning_rate': 0.1200967063032936, 'min_samples_leaf': 1}. Best is trial 10 with value: 0.2669435186878387.\u001b[0m\n"
     ]
    },
    {
     "name": "stdout",
     "output_type": "stream",
     "text": [
      "ROC: 0.8371660712201775\n",
      "PR_AUC: 0.21557561203610587\n",
      "avg_prec: 0.21580882792102357\n",
      "MCC: 0.2669435186878387\n"
     ]
    },
    {
     "name": "stderr",
     "output_type": "stream",
     "text": [
      "\u001b[32m[I 2021-12-03 17:32:15,080]\u001b[0m Trial 11 finished with value: 0.26520826872946063 and parameters: {'n_estimators': 194, 'subsample': 0.9352597506256056, 'learning_rate': 0.12406190034009686, 'min_samples_leaf': 1}. Best is trial 10 with value: 0.2669435186878387.\u001b[0m\n"
     ]
    },
    {
     "name": "stdout",
     "output_type": "stream",
     "text": [
      "ROC: 0.8373913145175764\n",
      "PR_AUC: 0.2169242168979128\n",
      "avg_prec: 0.21718043786896812\n",
      "MCC: 0.26520826872946063\n"
     ]
    },
    {
     "name": "stderr",
     "output_type": "stream",
     "text": [
      "\u001b[32m[I 2021-12-03 17:32:24,679]\u001b[0m Trial 12 finished with value: 0.2657839488192185 and parameters: {'n_estimators': 159, 'subsample': 0.9379604243420223, 'learning_rate': 0.1731960471122465, 'min_samples_leaf': 1}. Best is trial 10 with value: 0.2669435186878387.\u001b[0m\n"
     ]
    },
    {
     "name": "stdout",
     "output_type": "stream",
     "text": [
      "ROC: 0.8358978186421364\n",
      "PR_AUC: 0.2140474318358691\n",
      "avg_prec: 0.2142939966830701\n",
      "MCC: 0.2657839488192185\n"
     ]
    },
    {
     "name": "stderr",
     "output_type": "stream",
     "text": [
      "\u001b[32m[I 2021-12-03 17:32:34,772]\u001b[0m Trial 13 finished with value: 0.264265335572703 and parameters: {'n_estimators': 163, 'subsample': 0.9434356271756411, 'learning_rate': 0.1833628125557201, 'min_samples_leaf': 2}. Best is trial 10 with value: 0.2669435186878387.\u001b[0m\n"
     ]
    },
    {
     "name": "stdout",
     "output_type": "stream",
     "text": [
      "ROC: 0.8358726610486816\n",
      "PR_AUC: 0.21472122712852643\n",
      "avg_prec: 0.21492655346658374\n",
      "MCC: 0.264265335572703\n"
     ]
    },
    {
     "name": "stderr",
     "output_type": "stream",
     "text": [
      "\u001b[32m[I 2021-12-03 17:32:46,656]\u001b[0m Trial 14 finished with value: 0.2672634282490243 and parameters: {'n_estimators': 198, 'subsample': 0.933546937315991, 'learning_rate': 0.16626816961418306, 'min_samples_leaf': 8}. Best is trial 14 with value: 0.2672634282490243.\u001b[0m\n"
     ]
    },
    {
     "name": "stdout",
     "output_type": "stream",
     "text": [
      "ROC: 0.8360147891797043\n",
      "PR_AUC: 0.22010198165982314\n",
      "avg_prec: 0.22033692410866207\n",
      "MCC: 0.2672634282490243\n"
     ]
    },
    {
     "name": "stderr",
     "output_type": "stream",
     "text": [
      "\u001b[32m[I 2021-12-03 17:32:58,537]\u001b[0m Trial 15 finished with value: 0.26629700939251455 and parameters: {'n_estimators': 195, 'subsample': 0.95516580815137, 'learning_rate': 0.09563853304394158, 'min_samples_leaf': 10}. Best is trial 14 with value: 0.2672634282490243.\u001b[0m\n"
     ]
    },
    {
     "name": "stdout",
     "output_type": "stream",
     "text": [
      "ROC: 0.8374349046502356\n",
      "PR_AUC: 0.21810104042806258\n",
      "avg_prec: 0.21832016723283987\n",
      "MCC: 0.26629700939251455\n"
     ]
    },
    {
     "name": "stderr",
     "output_type": "stream",
     "text": [
      "\u001b[32m[I 2021-12-03 17:33:10,580]\u001b[0m Trial 16 finished with value: 0.26536638006787205 and parameters: {'n_estimators': 199, 'subsample': 0.9287421475034864, 'learning_rate': 0.16060200088248733, 'min_samples_leaf': 33}. Best is trial 14 with value: 0.2672634282490243.\u001b[0m\n"
     ]
    },
    {
     "name": "stdout",
     "output_type": "stream",
     "text": [
      "ROC: 0.8358872371128894\n",
      "PR_AUC: 0.2205175765930605\n",
      "avg_prec: 0.22068658068502384\n",
      "MCC: 0.26536638006787205\n"
     ]
    },
    {
     "name": "stderr",
     "output_type": "stream",
     "text": [
      "\u001b[32m[I 2021-12-03 17:33:19,827]\u001b[0m Trial 17 finished with value: 0.26469477715741935 and parameters: {'n_estimators': 145, 'subsample': 0.9624728963158738, 'learning_rate': 0.1172303024097821, 'min_samples_leaf': 7}. Best is trial 14 with value: 0.2672634282490243.\u001b[0m\n"
     ]
    },
    {
     "name": "stdout",
     "output_type": "stream",
     "text": [
      "ROC: 0.8377292331536609\n",
      "PR_AUC: 0.21853828080933788\n",
      "avg_prec: 0.21875821886220193\n",
      "MCC: 0.26469477715741935\n"
     ]
    },
    {
     "name": "stderr",
     "output_type": "stream",
     "text": [
      "\u001b[32m[I 2021-12-03 17:33:30,950]\u001b[0m Trial 18 finished with value: 0.2649576444198548 and parameters: {'n_estimators': 179, 'subsample': 0.924155493298034, 'learning_rate': 0.16381999448709172, 'min_samples_leaf': 16}. Best is trial 14 with value: 0.2672634282490243.\u001b[0m\n"
     ]
    },
    {
     "name": "stdout",
     "output_type": "stream",
     "text": [
      "ROC: 0.8355228876636813\n",
      "PR_AUC: 0.2167631092882542\n",
      "avg_prec: 0.21699645551393415\n",
      "MCC: 0.2649576444198548\n"
     ]
    },
    {
     "name": "stderr",
     "output_type": "stream",
     "text": [
      "\u001b[32m[I 2021-12-03 17:33:39,881]\u001b[0m Trial 19 finished with value: 0.26569909320724916 and parameters: {'n_estimators': 143, 'subsample': 0.945314100300171, 'learning_rate': 0.07916345987670408, 'min_samples_leaf': 6}. Best is trial 14 with value: 0.2672634282490243.\u001b[0m\n"
     ]
    },
    {
     "name": "stdout",
     "output_type": "stream",
     "text": [
      "ROC: 0.836923183859369\n",
      "PR_AUC: 0.21797598842569893\n",
      "avg_prec: 0.2181991620629117\n",
      "MCC: 0.26569909320724916\n"
     ]
    },
    {
     "name": "stderr",
     "output_type": "stream",
     "text": [
      "\u001b[32m[I 2021-12-03 17:33:50,771]\u001b[0m Trial 20 finished with value: 0.2650608257909501 and parameters: {'n_estimators': 178, 'subsample': 0.9333417320525443, 'learning_rate': 0.14205689895378754, 'min_samples_leaf': 15}. Best is trial 14 with value: 0.2672634282490243.\u001b[0m\n"
     ]
    },
    {
     "name": "stdout",
     "output_type": "stream",
     "text": [
      "ROC: 0.8369900048819844\n",
      "PR_AUC: 0.21865844646711996\n",
      "avg_prec: 0.21886167054560027\n",
      "MCC: 0.2650608257909501\n"
     ]
    },
    {
     "name": "stderr",
     "output_type": "stream",
     "text": [
      "\u001b[32m[I 2021-12-03 17:34:02,830]\u001b[0m Trial 21 finished with value: 0.265287247046813 and parameters: {'n_estimators': 191, 'subsample': 0.9555695168410909, 'learning_rate': 0.10394143865518943, 'min_samples_leaf': 11}. Best is trial 14 with value: 0.2672634282490243.\u001b[0m\n"
     ]
    },
    {
     "name": "stdout",
     "output_type": "stream",
     "text": [
      "ROC: 0.8375371273156407\n",
      "PR_AUC: 0.21933846536419782\n",
      "avg_prec: 0.21956037881146284\n",
      "MCC: 0.265287247046813\n"
     ]
    },
    {
     "name": "stderr",
     "output_type": "stream",
     "text": [
      "\u001b[32m[I 2021-12-03 17:34:14,543]\u001b[0m Trial 22 finished with value: 0.26507145077777866 and parameters: {'n_estimators': 183, 'subsample': 0.9622700679817505, 'learning_rate': 0.09996558626446403, 'min_samples_leaf': 5}. Best is trial 14 with value: 0.2672634282490243.\u001b[0m\n"
     ]
    },
    {
     "name": "stdout",
     "output_type": "stream",
     "text": [
      "ROC: 0.8376518029898058\n",
      "PR_AUC: 0.21846236043406625\n",
      "avg_prec: 0.21874340302630835\n",
      "MCC: 0.26507145077777866\n"
     ]
    },
    {
     "name": "stderr",
     "output_type": "stream",
     "text": [
      "\u001b[32m[I 2021-12-03 17:34:27,569]\u001b[0m Trial 23 finished with value: 0.2662522940274458 and parameters: {'n_estimators': 200, 'subsample': 0.9442091569212069, 'learning_rate': 0.08271523484987582, 'min_samples_leaf': 12}. Best is trial 14 with value: 0.2672634282490243.\u001b[0m\n"
     ]
    },
    {
     "name": "stdout",
     "output_type": "stream",
     "text": [
      "ROC: 0.8377836962754914\n",
      "PR_AUC: 0.22185952488263191\n",
      "avg_prec: 0.2220534227775094\n",
      "MCC: 0.2662522940274458\n"
     ]
    },
    {
     "name": "stderr",
     "output_type": "stream",
     "text": [
      "\u001b[32m[I 2021-12-03 17:34:37,574]\u001b[0m Trial 24 finished with value: 0.2652582759491026 and parameters: {'n_estimators': 157, 'subsample': 0.979903868834662, 'learning_rate': 0.06847140746765236, 'min_samples_leaf': 4}. Best is trial 14 with value: 0.2672634282490243.\u001b[0m\n"
     ]
    },
    {
     "name": "stdout",
     "output_type": "stream",
     "text": [
      "ROC: 0.836970737846997\n",
      "PR_AUC: 0.21751196929381264\n",
      "avg_prec: 0.2177229351620843\n",
      "MCC: 0.2652582759491026\n"
     ]
    },
    {
     "name": "stderr",
     "output_type": "stream",
     "text": [
      "\u001b[32m[I 2021-12-03 17:34:48,481]\u001b[0m Trial 25 finished with value: 0.26597845589994046 and parameters: {'n_estimators': 175, 'subsample': 0.9579989589192289, 'learning_rate': 0.11298042172396613, 'min_samples_leaf': 21}. Best is trial 14 with value: 0.2672634282490243.\u001b[0m\n"
     ]
    },
    {
     "name": "stdout",
     "output_type": "stream",
     "text": [
      "ROC: 0.8370668153100007\n",
      "PR_AUC: 0.22025455735352345\n",
      "avg_prec: 0.22044113927382855\n",
      "MCC: 0.26597845589994046\n"
     ]
    },
    {
     "name": "stderr",
     "output_type": "stream",
     "text": [
      "\u001b[32m[I 2021-12-03 17:34:57,946]\u001b[0m Trial 26 finished with value: 0.26490270896215284 and parameters: {'n_estimators': 150, 'subsample': 0.9491453127893439, 'learning_rate': 0.13527241374080406, 'min_samples_leaf': 13}. Best is trial 14 with value: 0.2672634282490243.\u001b[0m\n"
     ]
    },
    {
     "name": "stdout",
     "output_type": "stream",
     "text": [
      "ROC: 0.8369408401947754\n",
      "PR_AUC: 0.21758957567445764\n",
      "avg_prec: 0.21781382495155222\n",
      "MCC: 0.26490270896215284\n"
     ]
    },
    {
     "name": "stderr",
     "output_type": "stream",
     "text": [
      "\u001b[32m[I 2021-12-03 17:35:06,600]\u001b[0m Trial 27 finished with value: 0.2650569864597226 and parameters: {'n_estimators': 136, 'subsample': 0.9278337341281233, 'learning_rate': 0.19972562140512728, 'min_samples_leaf': 8}. Best is trial 14 with value: 0.2672634282490243.\u001b[0m\n"
     ]
    },
    {
     "name": "stdout",
     "output_type": "stream",
     "text": [
      "ROC: 0.8352284303042896\n",
      "PR_AUC: 0.2136654291760549\n",
      "avg_prec: 0.21388029139053694\n",
      "MCC: 0.2650569864597226\n"
     ]
    },
    {
     "name": "stderr",
     "output_type": "stream",
     "text": [
      "\u001b[32m[I 2021-12-03 17:35:18,522]\u001b[0m Trial 28 finished with value: 0.2640960838793183 and parameters: {'n_estimators': 187, 'subsample': 0.9403109437733641, 'learning_rate': 0.15783771258238766, 'min_samples_leaf': 18}. Best is trial 14 with value: 0.2672634282490243.\u001b[0m\n"
     ]
    },
    {
     "name": "stdout",
     "output_type": "stream",
     "text": [
      "ROC: 0.8366491440346655\n",
      "PR_AUC: 0.217187800369022\n",
      "avg_prec: 0.21741148648076766\n",
      "MCC: 0.2640960838793183\n"
     ]
    },
    {
     "name": "stderr",
     "output_type": "stream",
     "text": [
      "\u001b[32m[I 2021-12-03 17:35:25,443]\u001b[0m Trial 29 finished with value: 0.2652557979275144 and parameters: {'n_estimators': 109, 'subsample': 0.9681883494209534, 'learning_rate': 0.14925871453410888, 'min_samples_leaf': 27}. Best is trial 14 with value: 0.2672634282490243.\u001b[0m\n"
     ]
    },
    {
     "name": "stdout",
     "output_type": "stream",
     "text": [
      "ROC: 0.8364203848101813\n",
      "PR_AUC: 0.21814278129643405\n",
      "avg_prec: 0.21838333220305625\n",
      "MCC: 0.2652557979275144\n"
     ]
    },
    {
     "name": "stderr",
     "output_type": "stream",
     "text": [
      "\u001b[32m[I 2021-12-03 17:35:35,468]\u001b[0m Trial 30 finished with value: 0.26484552698947467 and parameters: {'n_estimators': 168, 'subsample': 0.9206125537003939, 'learning_rate': 0.18017752411357313, 'min_samples_leaf': 34}. Best is trial 14 with value: 0.2672634282490243.\u001b[0m\n"
     ]
    },
    {
     "name": "stdout",
     "output_type": "stream",
     "text": [
      "ROC: 0.8367210364599614\n",
      "PR_AUC: 0.22116293899322909\n",
      "avg_prec: 0.22135737684983323\n",
      "MCC: 0.26484552698947467\n"
     ]
    },
    {
     "name": "stderr",
     "output_type": "stream",
     "text": [
      "\u001b[32m[I 2021-12-03 17:35:47,506]\u001b[0m Trial 31 finished with value: 0.26577829401879105 and parameters: {'n_estimators': 200, 'subsample': 0.9485292221402737, 'learning_rate': 0.08699073430894393, 'min_samples_leaf': 12}. Best is trial 14 with value: 0.2672634282490243.\u001b[0m\n"
     ]
    },
    {
     "name": "stdout",
     "output_type": "stream",
     "text": [
      "ROC: 0.8369216590637658\n",
      "PR_AUC: 0.2174855673403907\n",
      "avg_prec: 0.21770931739855062\n",
      "MCC: 0.26577829401879105\n"
     ]
    },
    {
     "name": "stderr",
     "output_type": "stream",
     "text": [
      "\u001b[32m[I 2021-12-03 17:35:59,183]\u001b[0m Trial 32 finished with value: 0.26589819557936867 and parameters: {'n_estimators': 200, 'subsample': 0.9318324455471969, 'learning_rate': 0.07216938316589534, 'min_samples_leaf': 4}. Best is trial 14 with value: 0.2672634282490243.\u001b[0m\n"
     ]
    },
    {
     "name": "stdout",
     "output_type": "stream",
     "text": [
      "ROC: 0.8373543052432052\n",
      "PR_AUC: 0.218634491703552\n",
      "avg_prec: 0.2188996069073461\n",
      "MCC: 0.26589819557936867\n"
     ]
    },
    {
     "name": "stderr",
     "output_type": "stream",
     "text": [
      "\u001b[32m[I 2021-12-03 17:36:10,321]\u001b[0m Trial 33 finished with value: 0.26537763506824974 and parameters: {'n_estimators': 186, 'subsample': 0.9375097535129889, 'learning_rate': 0.053349641144127144, 'min_samples_leaf': 8}. Best is trial 14 with value: 0.2672634282490243.\u001b[0m\n"
     ]
    },
    {
     "name": "stdout",
     "output_type": "stream",
     "text": [
      "ROC: 0.8368529726976358\n",
      "PR_AUC: 0.21666880412739092\n",
      "avg_prec: 0.21690720063947272\n",
      "MCC: 0.26537763506824974\n"
     ]
    },
    {
     "name": "stderr",
     "output_type": "stream",
     "text": [
      "\u001b[32m[I 2021-12-03 17:36:21,248]\u001b[0m Trial 34 finished with value: 0.26478956581805124 and parameters: {'n_estimators': 175, 'subsample': 0.9438325458705145, 'learning_rate': 0.03224564710328651, 'min_samples_leaf': 12}. Best is trial 14 with value: 0.2672634282490243.\u001b[0m\n"
     ]
    },
    {
     "name": "stdout",
     "output_type": "stream",
     "text": [
      "ROC: 0.835027194100645\n",
      "PR_AUC: 0.21453893015236314\n",
      "avg_prec: 0.2146419150468818\n",
      "MCC: 0.26478956581805124\n"
     ]
    },
    {
     "name": "stderr",
     "output_type": "stream",
     "text": [
      "\u001b[32m[I 2021-12-03 17:36:31,183]\u001b[0m Trial 35 finished with value: 0.2648937372266866 and parameters: {'n_estimators': 172, 'subsample': 0.952520772357239, 'learning_rate': 0.09138176295637598, 'min_samples_leaf': 4}. Best is trial 14 with value: 0.2672634282490243.\u001b[0m\n"
     ]
    },
    {
     "name": "stdout",
     "output_type": "stream",
     "text": [
      "ROC: 0.8368793114707833\n",
      "PR_AUC: 0.21987976979672652\n",
      "avg_prec: 0.22010122325644033\n",
      "MCC: 0.2648937372266866\n"
     ]
    },
    {
     "name": "stderr",
     "output_type": "stream",
     "text": [
      "\u001b[32m[I 2021-12-03 17:36:42,234]\u001b[0m Trial 36 finished with value: 0.26671431631828874 and parameters: {'n_estimators': 188, 'subsample': 0.9202891715225031, 'learning_rate': 0.08251338820358463, 'min_samples_leaf': 17}. Best is trial 14 with value: 0.2672634282490243.\u001b[0m\n"
     ]
    },
    {
     "name": "stdout",
     "output_type": "stream",
     "text": [
      "ROC: 0.8371686145915158\n",
      "PR_AUC: 0.21888632206086645\n",
      "avg_prec: 0.2191136087684776\n",
      "MCC: 0.26671431631828874\n"
     ]
    },
    {
     "name": "stderr",
     "output_type": "stream",
     "text": [
      "\u001b[32m[I 2021-12-03 17:36:45,639]\u001b[0m Trial 37 finished with value: 0.2643285186020763 and parameters: {'n_estimators': 49, 'subsample': 0.9136088734425606, 'learning_rate': 0.09856922407845713, 'min_samples_leaf': 17}. Best is trial 14 with value: 0.2672634282490243.\u001b[0m\n"
     ]
    },
    {
     "name": "stdout",
     "output_type": "stream",
     "text": [
      "ROC: 0.8339301358780644\n",
      "PR_AUC: 0.21058065610396928\n",
      "avg_prec: 0.2100106146568151\n",
      "MCC: 0.2643285186020763\n"
     ]
    },
    {
     "name": "stderr",
     "output_type": "stream",
     "text": [
      "\u001b[32m[I 2021-12-03 17:36:56,396]\u001b[0m Trial 38 finished with value: 0.26456680816105643 and parameters: {'n_estimators': 188, 'subsample': 0.919325255850819, 'learning_rate': 0.057942053154978634, 'min_samples_leaf': 23}. Best is trial 14 with value: 0.2672634282490243.\u001b[0m\n"
     ]
    },
    {
     "name": "stdout",
     "output_type": "stream",
     "text": [
      "ROC: 0.8365485535448359\n",
      "PR_AUC: 0.22011512429526764\n",
      "avg_prec: 0.22030697151231915\n",
      "MCC: 0.26456680816105643\n"
     ]
    },
    {
     "name": "stderr",
     "output_type": "stream",
     "text": [
      "\u001b[32m[I 2021-12-03 17:37:02,512]\u001b[0m Trial 39 finished with value: 0.26385996691104036 and parameters: {'n_estimators': 102, 'subsample': 0.9028737218602767, 'learning_rate': 0.041225293979972155, 'min_samples_leaf': 20}. Best is trial 14 with value: 0.2672634282490243.\u001b[0m\n"
     ]
    },
    {
     "name": "stdout",
     "output_type": "stream",
     "text": [
      "ROC: 0.8336282508926052\n",
      "PR_AUC: 0.21137982939843772\n",
      "avg_prec: 0.21104990842250756\n",
      "MCC: 0.26385996691104036\n"
     ]
    },
    {
     "name": "stderr",
     "output_type": "stream",
     "text": [
      "\u001b[32m[I 2021-12-03 17:37:11,837]\u001b[0m Trial 40 finished with value: 0.2655026914400649 and parameters: {'n_estimators': 155, 'subsample': 0.9093649593697996, 'learning_rate': 0.10949748642569508, 'min_samples_leaf': 14}. Best is trial 14 with value: 0.2672634282490243.\u001b[0m\n"
     ]
    },
    {
     "name": "stdout",
     "output_type": "stream",
     "text": [
      "ROC: 0.8375048642360345\n",
      "PR_AUC: 0.21953504168225038\n",
      "avg_prec: 0.21973329091988436\n",
      "MCC: 0.2655026914400649\n"
     ]
    },
    {
     "name": "stderr",
     "output_type": "stream",
     "text": [
      "\u001b[32m[I 2021-12-03 17:37:22,709]\u001b[0m Trial 41 finished with value: 0.2654887375138887 and parameters: {'n_estimators': 189, 'subsample': 0.9264657622117407, 'learning_rate': 0.08257992624022331, 'min_samples_leaf': 10}. Best is trial 14 with value: 0.2672634282490243.\u001b[0m\n"
     ]
    },
    {
     "name": "stdout",
     "output_type": "stream",
     "text": [
      "ROC: 0.8376995165133921\n",
      "PR_AUC: 0.2206998872708458\n",
      "avg_prec: 0.22090586100062387\n",
      "MCC: 0.2654887375138887\n"
     ]
    },
    {
     "name": "stderr",
     "output_type": "stream",
     "text": [
      "\u001b[32m[I 2021-12-03 17:37:32,535]\u001b[0m Trial 42 finished with value: 0.2652862894242851 and parameters: {'n_estimators': 168, 'subsample': 0.9316384255518513, 'learning_rate': 0.07786114516855858, 'min_samples_leaf': 10}. Best is trial 14 with value: 0.2672634282490243.\u001b[0m\n"
     ]
    },
    {
     "name": "stdout",
     "output_type": "stream",
     "text": [
      "ROC: 0.8374528002895798\n",
      "PR_AUC: 0.21983792008327713\n",
      "avg_prec: 0.2200468346031118\n",
      "MCC: 0.2652862894242851\n"
     ]
    },
    {
     "name": "stderr",
     "output_type": "stream",
     "text": [
      "\u001b[32m[I 2021-12-03 17:37:44,131]\u001b[0m Trial 43 finished with value: 0.2657616239976693 and parameters: {'n_estimators': 194, 'subsample': 0.940555080584228, 'learning_rate': 0.12609420822437792, 'min_samples_leaf': 49}. Best is trial 14 with value: 0.2672634282490243.\u001b[0m\n"
     ]
    },
    {
     "name": "stdout",
     "output_type": "stream",
     "text": [
      "ROC: 0.8361445624779416\n",
      "PR_AUC: 0.21376638270430037\n",
      "avg_prec: 0.21405761042406757\n",
      "MCC: 0.2657616239976693\n"
     ]
    },
    {
     "name": "stderr",
     "output_type": "stream",
     "text": [
      "\u001b[32m[I 2021-12-03 17:37:45,076]\u001b[0m Trial 44 finished with value: 0.24220951992432357 and parameters: {'n_estimators': 11, 'subsample': 0.9194479582104006, 'learning_rate': 0.09573374171516787, 'min_samples_leaf': 7}. Best is trial 14 with value: 0.2672634282490243.\u001b[0m\n"
     ]
    },
    {
     "name": "stdout",
     "output_type": "stream",
     "text": [
      "ROC: 0.8204459204302258\n",
      "PR_AUC: 0.189999515801444\n",
      "avg_prec: 0.17526567686725616\n",
      "MCC: 0.24220951992432357\n"
     ]
    },
    {
     "name": "stderr",
     "output_type": "stream",
     "text": [
      "\u001b[32m[I 2021-12-03 17:37:56,244]\u001b[0m Trial 45 finished with value: 0.266208830998725 and parameters: {'n_estimators': 181, 'subsample': 0.9766101675250142, 'learning_rate': 0.06367762153050402, 'min_samples_leaf': 2}. Best is trial 14 with value: 0.2672634282490243.\u001b[0m\n"
     ]
    },
    {
     "name": "stdout",
     "output_type": "stream",
     "text": [
      "ROC: 0.8366647754905987\n",
      "PR_AUC: 0.21733191583864692\n",
      "avg_prec: 0.2175501313620304\n",
      "MCC: 0.266208830998725\n"
     ]
    },
    {
     "name": "stderr",
     "output_type": "stream",
     "text": [
      "\u001b[32m[I 2021-12-03 17:38:08,264]\u001b[0m Trial 46 finished with value: 0.2645543744369117 and parameters: {'n_estimators': 199, 'subsample': 0.9468355176691647, 'learning_rate': 0.11638988083851229, 'min_samples_leaf': 14}. Best is trial 14 with value: 0.2672634282490243.\u001b[0m\n"
     ]
    },
    {
     "name": "stdout",
     "output_type": "stream",
     "text": [
      "ROC: 0.8378614271032682\n",
      "PR_AUC: 0.22074134214740507\n",
      "avg_prec: 0.22096038026252995\n",
      "MCC: 0.2645543744369117\n"
     ]
    },
    {
     "name": "stderr",
     "output_type": "stream",
     "text": [
      "\u001b[32m[I 2021-12-03 17:38:18,530]\u001b[0m Trial 47 finished with value: 0.2658904718764364 and parameters: {'n_estimators': 166, 'subsample': 0.9990977663786821, 'learning_rate': 0.12968110756427556, 'min_samples_leaf': 9}. Best is trial 14 with value: 0.2672634282490243.\u001b[0m\n"
     ]
    },
    {
     "name": "stdout",
     "output_type": "stream",
     "text": [
      "ROC: 0.8375742807859746\n",
      "PR_AUC: 0.21922840001748023\n",
      "avg_prec: 0.2194439366017804\n",
      "MCC: 0.2658904718764364\n"
     ]
    },
    {
     "name": "stderr",
     "output_type": "stream",
     "text": [
      "\u001b[32m[I 2021-12-03 17:38:23,520]\u001b[0m Trial 48 finished with value: 0.26461237919799574 and parameters: {'n_estimators': 78, 'subsample': 0.952408708258997, 'learning_rate': 0.07512092308353543, 'min_samples_leaf': 23}. Best is trial 14 with value: 0.2672634282490243.\u001b[0m\n"
     ]
    },
    {
     "name": "stdout",
     "output_type": "stream",
     "text": [
      "ROC: 0.8338568597851286\n",
      "PR_AUC: 0.21248423291867313\n",
      "avg_prec: 0.2124583821008652\n",
      "MCC: 0.26461237919799574\n"
     ]
    },
    {
     "name": "stderr",
     "output_type": "stream",
     "text": [
      "\u001b[32m[I 2021-12-03 17:38:35,641]\u001b[0m Trial 49 finished with value: 0.266140540594511 and parameters: {'n_estimators': 193, 'subsample': 0.9352199967753311, 'learning_rate': 0.08992128529979355, 'min_samples_leaf': 17}. Best is trial 14 with value: 0.2672634282490243.\u001b[0m\n"
     ]
    },
    {
     "name": "stdout",
     "output_type": "stream",
     "text": [
      "ROC: 0.8372862938368995\n",
      "PR_AUC: 0.21774435365838668\n",
      "avg_prec: 0.21795917957056354\n",
      "MCC: 0.266140540594511\n"
     ]
    },
    {
     "name": "stderr",
     "output_type": "stream",
     "text": [
      "\u001b[32m[I 2021-12-03 17:38:42,936]\u001b[0m Trial 50 finished with value: 0.2594030516350323 and parameters: {'n_estimators': 120, 'subsample': 0.9241805497750247, 'learning_rate': 0.021510297858526414, 'min_samples_leaf': 1}. Best is trial 14 with value: 0.2672634282490243.\u001b[0m\n"
     ]
    },
    {
     "name": "stdout",
     "output_type": "stream",
     "text": [
      "ROC: 0.8320638504876121\n",
      "PR_AUC: 0.2059020451789353\n",
      "avg_prec: 0.20485511665352524\n",
      "MCC: 0.2594030516350323\n"
     ]
    },
    {
     "name": "stderr",
     "output_type": "stream",
     "text": [
      "\u001b[32m[I 2021-12-03 17:38:54,224]\u001b[0m Trial 51 finished with value: 0.26522641749937903 and parameters: {'n_estimators': 182, 'subsample': 0.9776883949692933, 'learning_rate': 0.06824408628185459, 'min_samples_leaf': 3}. Best is trial 14 with value: 0.2672634282490243.\u001b[0m\n"
     ]
    },
    {
     "name": "stdout",
     "output_type": "stream",
     "text": [
      "ROC: 0.8369400241069878\n",
      "PR_AUC: 0.21783393423116199\n",
      "avg_prec: 0.21808020099989417\n",
      "MCC: 0.26522641749937903\n"
     ]
    },
    {
     "name": "stderr",
     "output_type": "stream",
     "text": [
      "\u001b[32m[I 2021-12-03 17:39:06,027]\u001b[0m Trial 52 finished with value: 0.26518847040798904 and parameters: {'n_estimators': 180, 'subsample': 0.9874347602642441, 'learning_rate': 0.05987168752873726, 'min_samples_leaf': 6}. Best is trial 14 with value: 0.2672634282490243.\u001b[0m\n"
     ]
    },
    {
     "name": "stdout",
     "output_type": "stream",
     "text": [
      "ROC: 0.8365442675499509\n",
      "PR_AUC: 0.21679902738028145\n",
      "avg_prec: 0.21701900280609243\n",
      "MCC: 0.26518847040798904\n"
     ]
    },
    {
     "name": "stderr",
     "output_type": "stream",
     "text": [
      "\u001b[32m[I 2021-12-03 17:39:17,982]\u001b[0m Trial 53 finished with value: 0.2653973732502659 and parameters: {'n_estimators': 194, 'subsample': 0.9711379086867385, 'learning_rate': 0.061080578958637846, 'min_samples_leaf': 2}. Best is trial 14 with value: 0.2672634282490243.\u001b[0m\n"
     ]
    },
    {
     "name": "stdout",
     "output_type": "stream",
     "text": [
      "ROC: 0.8365255496868209\n",
      "PR_AUC: 0.21788160333546336\n",
      "avg_prec: 0.21810716074057654\n",
      "MCC: 0.2653973732502659\n"
     ]
    },
    {
     "name": "stderr",
     "output_type": "stream",
     "text": [
      "\u001b[32m[I 2021-12-03 17:39:28,884]\u001b[0m Trial 54 finished with value: 0.26641672475345646 and parameters: {'n_estimators': 181, 'subsample': 0.9582498683310119, 'learning_rate': 0.08352579787076073, 'min_samples_leaf': 6}. Best is trial 14 with value: 0.2672634282490243.\u001b[0m\n"
     ]
    },
    {
     "name": "stdout",
     "output_type": "stream",
     "text": [
      "ROC: 0.8367433039981681\n",
      "PR_AUC: 0.21920975798232115\n",
      "avg_prec: 0.21943016220224565\n",
      "MCC: 0.26641672475345646\n"
     ]
    },
    {
     "name": "stderr",
     "output_type": "stream",
     "text": [
      "\u001b[32m[I 2021-12-03 17:39:39,576]\u001b[0m Trial 55 finished with value: 0.2661142849248667 and parameters: {'n_estimators': 173, 'subsample': 0.9591091815686091, 'learning_rate': 0.10637911101212616, 'min_samples_leaf': 6}. Best is trial 14 with value: 0.2672634282490243.\u001b[0m\n"
     ]
    },
    {
     "name": "stdout",
     "output_type": "stream",
     "text": [
      "ROC: 0.8373228674553842\n",
      "PR_AUC: 0.21902472841313692\n",
      "avg_prec: 0.2192433738739166\n",
      "MCC: 0.2661142849248667\n"
     ]
    },
    {
     "name": "stderr",
     "output_type": "stream",
     "text": [
      "\u001b[32m[I 2021-12-03 17:39:49,623]\u001b[0m Trial 56 finished with value: 0.26483312274324056 and parameters: {'n_estimators': 162, 'subsample': 0.9659851837594797, 'learning_rate': 0.08579742534666138, 'min_samples_leaf': 44}. Best is trial 14 with value: 0.2672634282490243.\u001b[0m\n"
     ]
    },
    {
     "name": "stdout",
     "output_type": "stream",
     "text": [
      "ROC: 0.837373885214111\n",
      "PR_AUC: 0.22031155486483364\n",
      "avg_prec: 0.22055991447553583\n",
      "MCC: 0.26483312274324056\n"
     ]
    },
    {
     "name": "stderr",
     "output_type": "stream",
     "text": [
      "\u001b[32m[I 2021-12-03 17:40:01,004]\u001b[0m Trial 57 finished with value: 0.26555255854579674 and parameters: {'n_estimators': 185, 'subsample': 0.9411869028178995, 'learning_rate': 0.10021779418822373, 'min_samples_leaf': 12}. Best is trial 14 with value: 0.2672634282490243.\u001b[0m\n"
     ]
    },
    {
     "name": "stdout",
     "output_type": "stream",
     "text": [
      "ROC: 0.8375857182869988\n",
      "PR_AUC: 0.22010403739433895\n",
      "avg_prec: 0.2203033720764178\n",
      "MCC: 0.26555255854579674\n"
     ]
    },
    {
     "name": "stderr",
     "output_type": "stream",
     "text": [
      "\u001b[32m[I 2021-12-03 17:40:13,324]\u001b[0m Trial 58 finished with value: 0.266099831248213 and parameters: {'n_estimators': 193, 'subsample': 0.9552103938844836, 'learning_rate': 0.12070273541315826, 'min_samples_leaf': 9}. Best is trial 14 with value: 0.2672634282490243.\u001b[0m\n"
     ]
    },
    {
     "name": "stdout",
     "output_type": "stream",
     "text": [
      "ROC: 0.8371439785579253\n",
      "PR_AUC: 0.21887153396686462\n",
      "avg_prec: 0.21908779416964208\n",
      "MCC: 0.266099831248213\n"
     ]
    },
    {
     "name": "stderr",
     "output_type": "stream",
     "text": [
      "\u001b[32m[I 2021-12-03 17:40:22,499]\u001b[0m Trial 59 finished with value: 0.2640860301261427 and parameters: {'n_estimators': 152, 'subsample': 0.9298245189364603, 'learning_rate': 0.1499302812458187, 'min_samples_leaf': 15}. Best is trial 14 with value: 0.2672634282490243.\u001b[0m\n"
     ]
    },
    {
     "name": "stdout",
     "output_type": "stream",
     "text": [
      "ROC: 0.8361214358999582\n",
      "PR_AUC: 0.2170292201803484\n",
      "avg_prec: 0.21723927054901637\n",
      "MCC: 0.2640860301261427\n"
     ]
    }
   ],
   "source": [
    "def create_model(trial):\n",
    "    n_estimators = trial.suggest_int('n_estimators', 10, 200)\n",
    "    subsample = trial.suggest_float('subsample', 0.9, 1.0)\n",
    "#    max_depth = trial.suggest_int('max_depth',3,20)\n",
    "    learning_rate = trial.suggest_uniform('learning_rate',0.01,0.2)\n",
    "    min_samples_leaf = trial.suggest_int('min_samples_leaf',1,50)\n",
    "#    model = GradientBoostingClassifier(n_estimators=n_estimators, subsample=subsample, \n",
    "#                           max_depth=max_depth, learning_rate=learning_rate, \n",
    "#                           min_samples_leaf=min_samples_leaf)\n",
    "    model = GradientBoostingClassifier(n_estimators=n_estimators, subsample=subsample, \n",
    "                           learning_rate=learning_rate, \n",
    "                           min_samples_leaf=min_samples_leaf)\n",
    "    return model\n",
    "\n",
    "def objective(trial):\n",
    "    model = create_model(trial)\n",
    "    model.fit(X_rus, y_rus)\n",
    "    y_pred = model.predict(X_test)\n",
    "    probs = model.predict_proba(X_test)\n",
    "    prob1 = probs[:, 1]  # Only positives\n",
    "    precision, recall, pr_thresh = precision_recall_curve(y_test, prob1)\n",
    "    roc = roc_auc_score(y_test, prob1)\n",
    "    mcc = matthews_corrcoef(y_test, y_pred)  # MWB\n",
    "    f2 = fbeta_score(y_test, y_pred, beta=2.0, average=None)[1]\n",
    "    pr_auc = auc(recall, precision)\n",
    "    avg_precision = average_precision_score(y_test, prob1)\n",
    "    print(f'ROC: {roc}')\n",
    "    print(f'PR_AUC: {pr_auc}')\n",
    "    print(f'avg_prec: {avg_precision}')\n",
    "    print(f'MCC: {mcc}')\n",
    "    return mcc\n",
    "#    return roc\n",
    "\n",
    "sampler = TPESampler(seed=42)\n",
    "study = optuna.create_study(sampler=sampler,direction='maximize')\n",
    "study.optimize(objective,n_trials=60)\n",
    "#study.optimize(objective,n_trials=5)"
   ]
  },
  {
   "cell_type": "code",
   "execution_count": 41,
   "metadata": {},
   "outputs": [
    {
     "name": "stdout",
     "output_type": "stream",
     "text": [
      "[[35182 17339]\n",
      " [  355  2748]]\n",
      "              precision    recall  f1-score   support\n",
      "\n",
      "           0       0.99      0.67      0.80     52521\n",
      "           1       0.14      0.89      0.24      3103\n",
      "\n",
      "    accuracy                           0.68     55624\n",
      "   macro avg       0.56      0.78      0.52     55624\n",
      "weighted avg       0.94      0.68      0.77     55624\n",
      "\n",
      "ROC AUC pred: 0.7777299865315448\n",
      "ROC AUC prob1: 0.8366437320840735\n",
      "MCC: 0.26540691190037247\n",
      "F2: 0.42278223945352167\n",
      "PR_AUC: 0.21889157239149593\n"
     ]
    }
   ],
   "source": [
    "gb_params = study.best_params\n",
    "gb_params['random_state'] = 42\n",
    "gb = GradientBoostingClassifier(**gb_params)\n",
    "gb.fit(X_rus, y_rus)\n",
    "y_pred = gb.predict(X_test)\n",
    "probs = gb.predict_proba(X_test)\n",
    "prob1 = probs[:, 1]  # Only positives\n",
    "precision, recall, pr_thresh = precision_recall_curve(y_test, prob1)\n",
    "print(confusion_matrix(y_pred=y_pred, y_true=y_test))\n",
    "print(classification_report(y_test, y_pred))\n",
    "print(f'ROC AUC prob1: {roc_auc_score(y_test, prob1)}')\n",
    "print(f'MCC: {matthews_corrcoef(y_test, y_pred)}')\n",
    "print(f'F2: {fbeta_score(y_test, y_pred, beta=2.0, average=None)[1]}')\n",
    "print(f'PR_AUC: {auc(recall, precision)}')"
   ]
  },
  {
   "cell_type": "code",
   "execution_count": 44,
   "metadata": {},
   "outputs": [
    {
     "data": {
      "text/plain": [
       "{'n_estimators': 81,\n",
       " 'subsample': 0.985,\n",
       " 'learning_rate': 0.149,\n",
       " 'min_samples_leaf': 30,\n",
       " 'random_state': 42}"
      ]
     },
     "execution_count": 44,
     "metadata": {},
     "output_type": "execute_result"
    }
   ],
   "source": [
    "gb_params"
   ]
  },
  {
   "cell_type": "markdown",
   "metadata": {},
   "source": [
    "<h1 align='center'>Thanks and make sure to learn!</h1>"
   ]
  }
 ],
 "metadata": {
  "kernelspec": {
   "display_name": "Python 3",
   "language": "python",
   "name": "python3"
  },
  "language_info": {
   "codemirror_mode": {
    "name": "ipython",
    "version": 3
   },
   "file_extension": ".py",
   "mimetype": "text/x-python",
   "name": "python",
   "nbconvert_exporter": "python",
   "pygments_lexer": "ipython3",
   "version": "3.7.9"
  }
 },
 "nbformat": 4,
 "nbformat_minor": 4
}
