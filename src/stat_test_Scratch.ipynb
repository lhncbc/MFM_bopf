{
 "cells": [
  {
   "cell_type": "code",
   "execution_count": 1,
   "metadata": {},
   "outputs": [],
   "source": [
    "import numpy as np\n",
    "import pandas as pd\n",
    "import matplotlib.pyplot as plt\n",
    "from sklearn.metrics import accuracy_score, balanced_accuracy_score, confusion_matrix, recall_score, \\\n",
    "                            classification_report, roc_auc_score, precision_score, \\\n",
    "                            f1_score, precision_recall_curve, plot_precision_recall_curve, average_precision_score, \\\n",
    "                            auc"
   ]
  },
  {
   "cell_type": "code",
   "execution_count": 2,
   "metadata": {},
   "outputs": [
    {
     "name": "stdout",
     "output_type": "stream",
     "text": [
      "0.23.2\n"
     ]
    }
   ],
   "source": [
    "import sklearn\n",
    "print(sklearn.__version__) # 0.22 required for plot_precision_recall_curve"
   ]
  },
  {
   "cell_type": "code",
   "execution_count": 3,
   "metadata": {},
   "outputs": [],
   "source": [
    "nfpr, ntpr, nthresh = np.loadtxt('/MFMDatasets/MFM_bopf/src/multi_predict/RF/output/ft_test.dat', delimiter=',')\n",
    "nprec, nrec, pr_thresh = np.loadtxt('/MFMDatasets/MFM_bopf/src/multi_predict/RF/output/pr_test.dat', delimiter=',')\n",
    "ny_test, ny_pred = np.loadtxt('/MFMDatasets/MFM_bopf/src/multi_predict/RF/output/pred_test.dat', delimiter=',')\n",
    "nprobs = np.loadtxt('/MFMDatasets/MFM_bopf/src/multi_predict/RF/output/probs_test.dat', delimiter=',')\n",
    "nprob1 = nprobs[:,1]"
   ]
  },
  {
   "cell_type": "code",
   "execution_count": 4,
   "metadata": {},
   "outputs": [
    {
     "name": "stdout",
     "output_type": "stream",
     "text": [
      "1=0.9950566882270481\n",
      "2=0.09022254895408675\n",
      "nprec_s1 = 0.9950566882270481\n",
      "nprec_s2 = 0.09022254895408675\n",
      "nprec_s_micro = 0.7516539623184237\n",
      "nprec_s_macro = 0.5426396185905674\n",
      "nprec_s_weigh = 0.9698266121805149\n",
      "nrecall_s1 = 0.7482477391674218\n",
      "nrecall_s2 = 0.8704061895551257\n",
      "nrecall_s_micro = 0.7516539623184237\n",
      "nrecall_s_macro = 0.8093269643612737\n",
      "nrecall_s_weigh = 0.7516539623184237\n",
      "nf1_s1 = 0.8541811809909854\n",
      "nf1_s2 = 0.1634976383674458\n",
      "nf1_s_micro = 0.7516539623184237\n",
      "nf1_s_macro = 0.5088394096792156\n",
      "nf1_s_weigh = 0.8349224046604607\n"
     ]
    }
   ],
   "source": [
    "nprec_s1 = precision_score(ny_test, ny_pred)\n",
    "nprec_s2 = precision_score(ny_test, ny_pred, pos_label=2)\n",
    "nprec_both = precision_score(ny_test, ny_pred, average=None)\n",
    "print(f'1={nprec_both[0]}')\n",
    "print(f'2={nprec_both[1]}')\n",
    "nprec_s_micro = precision_score(ny_test, ny_pred, average='micro')\n",
    "nprec_s_macro = precision_score(ny_test, ny_pred, average='macro')\n",
    "nprec_s_weighted = precision_score(ny_test, ny_pred, average='weighted')\n",
    "print(f'nprec_s1 = {nprec_s1}')\n",
    "print(f'nprec_s2 = {nprec_s2}')\n",
    "print(f'nprec_s_micro = {nprec_s_micro}')\n",
    "print(f'nprec_s_macro = {nprec_s_macro}')\n",
    "print(f'nprec_s_weigh = {nprec_s_weighted}')\n",
    "nrecall_s1 = recall_score(ny_test, ny_pred)\n",
    "nrecall_s2 = recall_score(ny_test, ny_pred, pos_label=2)\n",
    "nrecall_s_micro = recall_score(ny_test, ny_pred, average='micro')\n",
    "nrecall_s_macro = recall_score(ny_test, ny_pred, average='macro')\n",
    "nrecall_s_weighted = recall_score(ny_test, ny_pred, average='weighted')\n",
    "print(f'nrecall_s1 = {nrecall_s1}')\n",
    "print(f'nrecall_s2 = {nrecall_s2}')\n",
    "print(f'nrecall_s_micro = {nrecall_s_micro}')\n",
    "print(f'nrecall_s_macro = {nrecall_s_macro}')\n",
    "print(f'nrecall_s_weigh = {nrecall_s_weighted}')\n",
    "nf1_s1 = f1_score(ny_test, ny_pred)\n",
    "nf1_s2 = f1_score(ny_test, ny_pred, pos_label=2)\n",
    "nf1_s_micro = f1_score(ny_test, ny_pred, average='micro')\n",
    "nf1_s_macro = f1_score(ny_test, ny_pred, average='macro')\n",
    "nf1_s_weighted = f1_score(ny_test, ny_pred, average='weighted')\n",
    "print(f'nf1_s1 = {nf1_s1}')\n",
    "print(f'nf1_s2 = {nf1_s2}')\n",
    "print(f'nf1_s_micro = {nf1_s_micro}')\n",
    "print(f'nf1_s_macro = {nf1_s_macro}')\n",
    "print(f'nf1_s_weigh = {nf1_s_weighted}')"
   ]
  },
  {
   "cell_type": "code",
   "execution_count": 5,
   "metadata": {},
   "outputs": [
    {
     "name": "stdout",
     "output_type": "stream",
     "text": [
      "fbeta_05 = 0.9334754541637251\n",
      "fbeta_05 = 0.10992948227285314\n",
      "fbeta_2 = 0.7873035146505393\n",
      "fbeta_2 = 0.31889261586431716\n",
      "fbeta_1 = 0.8541811809909854\n",
      "fbeta_1 = 0.1634976383674458\n"
     ]
    }
   ],
   "source": [
    "from sklearn.metrics import fbeta_score\n",
    "fbeta_05 = fbeta_score(ny_test, ny_pred, beta=0.5, pos_label=1)\n",
    "print(f'fbeta_05 = {fbeta_05}')\n",
    "fbeta_05 = fbeta_score(ny_test, ny_pred, beta=0.5, pos_label=2)\n",
    "print(f'fbeta_05 = {fbeta_05}')\n",
    "fbeta_2 = fbeta_score(ny_test, ny_pred, beta=2.0, pos_label=1)\n",
    "print(f'fbeta_2 = {fbeta_2}')\n",
    "fbeta_2 = fbeta_score(ny_test, ny_pred, beta=2.0, pos_label=2)\n",
    "print(f'fbeta_2 = {fbeta_2}')\n",
    "fbeta_1 = fbeta_score(ny_test, ny_pred, beta=1.0, pos_label=1)\n",
    "print(f'fbeta_1 = {fbeta_1}')\n",
    "fbeta_1 = fbeta_score(ny_test, ny_pred, beta=1.0, pos_label=2)\n",
    "print(f'fbeta_1 = {fbeta_1}')"
   ]
  },
  {
   "cell_type": "code",
   "execution_count": 6,
   "metadata": {},
   "outputs": [
    {
     "name": "stdout",
     "output_type": "stream",
     "text": [
      "roc_auc_s_pred = 0.8093269643612737\n",
      "roc_auc_s_prob = 0.8549350739799744\n",
      "roc_auc(auc) = 0.8549350739799744\n"
     ]
    }
   ],
   "source": [
    "# roc_auc vs roc_auc_score\n",
    "roc_auc_s_pred = roc_auc_score(ny_test, ny_pred)\n",
    "roc_auc_s_prob = roc_auc_score(ny_test, nprob1)\n",
    "roc_auc = auc(nfpr, ntpr)\n",
    "print(f'roc_auc_s_pred = {roc_auc_s_pred}')\n",
    "print(f'roc_auc_s_prob = {roc_auc_s_prob}')\n",
    "print(f'roc_auc(auc) = {roc_auc}')"
   ]
  },
  {
   "cell_type": "code",
   "execution_count": 7,
   "metadata": {},
   "outputs": [
    {
     "data": {
      "image/png": "[encoded data removed]",
      "text/plain": [
       "<Figure size 432x288 with 1 Axes>"
      ]
     },
     "metadata": {
      "needs_background": "light"
     },
     "output_type": "display_data"
    }
   ],
   "source": [
    "plt.title('ROC Curve')\n",
    "plt.plot(nfpr, ntpr, 'b', label = 'AUC = %0.3f' % roc_auc)\n",
    "plt.legend(loc = 'lower right')\n",
    "plt.plot([0, 1], [0, 1],'r--')\n",
    "plt.xlim([0, 1])\n",
    "plt.ylim([0, 1])\n",
    "plt.ylabel('TPRate')\n",
    "plt.xlabel('FPRate')\n",
    "plt.show()"
   ]
  },
  {
   "cell_type": "code",
   "execution_count": 12,
   "metadata": {},
   "outputs": [
    {
     "name": "stdout",
     "output_type": "stream",
     "text": [
      "pr_auc = 0.11361188760283794\n",
      "avg_prec = 0.11408866453802519\n",
      "avg_prec_pred = 0.08214381315580749\n"
     ]
    }
   ],
   "source": [
    "pr_auc = auc(nrec, nprec)\n",
    "avg_prec = average_precision_score(ny_test, nprob1, pos_label=2)\n",
    "avg_prec_pred = average_precision_score(ny_test, ny_pred, pos_label=2)\n",
    "print(f'pr_auc = {pr_auc}')\n",
    "print(f'avg_prec = {avg_prec}')\n",
    "print(f'avg_prec_pred = {avg_prec_pred}')"
   ]
  },
  {
   "cell_type": "code",
   "execution_count": 13,
   "metadata": {},
   "outputs": [
    {
     "data": {
      "text/plain": [
       "(45216,)"
      ]
     },
     "execution_count": 13,
     "metadata": {},
     "output_type": "execute_result"
    }
   ],
   "source": [
    "pr_thresh.shape"
   ]
  },
  {
   "cell_type": "code",
   "execution_count": 14,
   "metadata": {
    "scrolled": true
   },
   "outputs": [
    {
     "data": {
      "image/png": "[encoded data removed]",
      "text/plain": [
       "<Figure size 432x288 with 1 Axes>"
      ]
     },
     "metadata": {
      "needs_background": "light"
     },
     "output_type": "display_data"
    }
   ],
   "source": [
    "# calculate the no skill line as the proportion of the positive class\n",
    "#no_skill = len(y[y==1]) / len(y)\n",
    "# plot the no skill precision-recall curve\n",
    "#plt.plot([0, 1], [no_skill, no_skill], linestyle='--', label='No Skill')\n",
    "plt.plot(nrec, nprec, marker='.', label='AP = %0.3f' % avg_prec)\n",
    "# axis labels\n",
    "plt.xlabel('Recall')\n",
    "plt.ylabel('Precision')\n",
    "# show the legend\n",
    "plt.legend()\n",
    "# show the plot\n",
    "plt.show()"
   ]
  },
  {
   "cell_type": "code",
   "execution_count": null,
   "metadata": {},
   "outputs": [],
   "source": []
  }
 ],
 "metadata": {
  "kernelspec": {
   "display_name": "Python 3",
   "language": "python",
   "name": "python3"
  },
  "language_info": {
   "codemirror_mode": {
    "name": "ipython",
    "version": 3
   },
   "file_extension": ".py",
   "mimetype": "text/x-python",
   "name": "python",
   "nbconvert_exporter": "python",
   "pygments_lexer": "ipython3",
   "version": "3.7.9"
  }
 },
 "nbformat": 4,
 "nbformat_minor": 2
}
