{
 "cells": [
  {
   "cell_type": "code",
   "execution_count": 1,
   "metadata": {},
   "outputs": [],
   "source": [
    "import numpy as np\n",
    "import pandas as pd\n",
    "import os, glob\n",
    "pd.options.display.float_format = '{:0.4f}'.format"
   ]
  },
  {
   "cell_type": "code",
   "execution_count": 2,
   "metadata": {},
   "outputs": [],
   "source": [
    "transfus_yes_corr = pd.read_csv('/slurm_storage/mbopf/projects/MFM_bopf/src/imbl/underCompOut/corr-transfus_yes-RAND-1.0-Cramer-1-20200824_191711.csv', index_col=0)\n",
    "trans_loss_corr = pd.read_csv('/slurm_storage/mbopf/projects/MFM_bopf/src/imbl/underCompOut/corr-trans_loss-RAND-1.0-Cramer-1-20200828_113457.csv', index_col=0)\n"
   ]
  },
  {
   "cell_type": "code",
   "execution_count": 3,
   "metadata": {},
   "outputs": [
    {
     "data": {
      "text/plain": [
       "Inoxy_incrdose   0.4913\n",
       "Intratocolytix   0.4851\n",
       "Admcontract      0.4408\n",
       "Education        0.4267\n",
       "HospElectCS      0.4108\n",
       "                  ...  \n",
       "CS_FVBAC         0.0000\n",
       "CS_Fforceps      0.0000\n",
       "R_preg           0.0000\n",
       "Hyp_clon         0.0000\n",
       "Hyp_othr         0.0000\n",
       "Name: mean_corr, Length: 231, dtype: float64"
      ]
     },
     "execution_count": 3,
     "metadata": {},
     "output_type": "execute_result"
    }
   ],
   "source": [
    "ty_mean_df = transfus_yes_corr['mean_corr']\n",
    "ty_mean_df.drop('transfus_yes', inplace=True)\n",
    "ty_mean_df"
   ]
  },
  {
   "cell_type": "code",
   "execution_count": 4,
   "metadata": {},
   "outputs": [],
   "source": [
    "# NOTE - saving this in /MFMDatasets instead of /slurm_storage\n",
    "filename = '/MFMDatasets/MFM_bopf/data/csl/Cramer-corr-transfus_yes.csv'\n",
    "if not os.path.exists(filename):\n",
    "    ty_mean_df.to_csv(filename, header=None)"
   ]
  },
  {
   "cell_type": "code",
   "execution_count": 5,
   "metadata": {},
   "outputs": [
    {
     "data": {
      "text/plain": [
       "Delmode      0.3639\n",
       "delivery     0.3600\n",
       "HxnumCS      0.2406\n",
       "Dilat_lst    0.2256\n",
       "TrialLabor   0.2159\n",
       "              ...  \n",
       "TTTwin       0.0000\n",
       "R_preg       0.0000\n",
       "Hyp_clon     0.0000\n",
       "Hyp_alpha    0.0000\n",
       "Ind_FComp    0.0000\n",
       "Name: mean_corr, Length: 231, dtype: float64"
      ]
     },
     "execution_count": 5,
     "metadata": {},
     "output_type": "execute_result"
    }
   ],
   "source": [
    "tl_mean_df = trans_loss_corr['mean_corr']\n",
    "tl_mean_df.drop('trans_loss', inplace=True)\n",
    "tl_mean_df"
   ]
  },
  {
   "cell_type": "code",
   "execution_count": 6,
   "metadata": {},
   "outputs": [],
   "source": [
    "# NOTE - saving this in /MFMDatasets instead of /slurm_storage\n",
    "filename = '/MFMDatasets/MFM_bopf/data/csl/Cramer-corr-trans_loss.csv'\n",
    "if not os.path.exists(filename):\n",
    "    tl_mean_df.to_csv(filename, header=None)"
   ]
  },
  {
   "cell_type": "code",
   "execution_count": 7,
   "metadata": {},
   "outputs": [],
   "source": [
    "# Test feature thresholding\n",
    "def get_feature_list(filename, feature_thresh):\n",
    "    corr_var_df = pd.read_csv(filename, header=None, index_col=0, names=['Variable','corr'])\n",
    "    corr_var_list = corr_var_df.index.to_list()\n",
    "    if feature_thresh > 1: # Assuming integer count\n",
    "        thresh = min(feature_thresh, len(corr_var_list))\n",
    "    else: # Assuming float percentage\n",
    "        thresh = int(feature_thresh * len(corr_var_list))\n",
    "        \n",
    "    return corr_var_list[:thresh]"
   ]
  },
  {
   "cell_type": "code",
   "execution_count": 12,
   "metadata": {
    "scrolled": true
   },
   "outputs": [
    {
     "name": "stdout",
     "output_type": "stream",
     "text": [
      "40\n"
     ]
    }
   ],
   "source": [
    "ret_list = get_feature_list('/MFMDatasets/MFM_bopf/data/csl/Cramer-corr-transfus_yes.csv', 40) \n",
    "print(len(ret_list))"
   ]
  },
  {
   "cell_type": "code",
   "execution_count": 13,
   "metadata": {},
   "outputs": [
    {
     "name": "stdout",
     "output_type": "stream",
     "text": [
      "231\n"
     ]
    }
   ],
   "source": [
    "ret_list = get_feature_list('/MFMDatasets/MFM_bopf/data/csl/Cramer-corr-trans_loss.csv', 240) \n",
    "print(len(ret_list))"
   ]
  },
  {
   "cell_type": "code",
   "execution_count": 14,
   "metadata": {},
   "outputs": [
    {
     "name": "stdout",
     "output_type": "stream",
     "text": [
      "46\n"
     ]
    }
   ],
   "source": [
    "ret_list = get_feature_list('/MFMDatasets/MFM_bopf/data/csl/Cramer-corr-trans_loss.csv', 0.2) \n",
    "print(len(ret_list))"
   ]
  },
  {
   "cell_type": "code",
   "execution_count": 15,
   "metadata": {
    "scrolled": true
   },
   "outputs": [
    {
     "name": "stdout",
     "output_type": "stream",
     "text": [
      "231\n"
     ]
    }
   ],
   "source": [
    "ret_list = get_feature_list('/MFMDatasets/MFM_bopf/data/csl/Cramer-corr-transfus_yes.csv', 1.0) \n",
    "print(len(ret_list))"
   ]
  },
  {
   "cell_type": "code",
   "execution_count": null,
   "metadata": {},
   "outputs": [],
   "source": []
  }
 ],
 "metadata": {
  "kernelspec": {
   "display_name": "Python [conda env:root] *",
   "language": "python",
   "name": "conda-root-py"
  },
  "language_info": {
   "codemirror_mode": {
    "name": "ipython",
    "version": 3
   },
   "file_extension": ".py",
   "mimetype": "text/x-python",
   "name": "python",
   "nbconvert_exporter": "python",
   "pygments_lexer": "ipython3",
   "version": "3.7.9"
  }
 },
 "nbformat": 4,
 "nbformat_minor": 4
}
