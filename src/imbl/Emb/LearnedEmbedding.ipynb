{
 "cells": [
  {
   "cell_type": "code",
   "execution_count": 1,
   "metadata": {},
   "outputs": [],
   "source": [
    "import pandas as pd\n",
    "import numpy as np"
   ]
  },
  {
   "cell_type": "code",
   "execution_count": 2,
   "metadata": {},
   "outputs": [],
   "source": [
    "# load the dataset\n",
    "def load_dataset(filename):\n",
    "    # load the dataset as a pandas DataFrame\n",
    "    data = pd.read_csv(filename, header=None)\n",
    "    # retrieve numpy array\n",
    "    dataset = data.values\n",
    "    # split into input (X) and output (y) variables\n",
    "    X = dataset[:, :-1]\n",
    "    y = dataset[:,-1]\n",
    "    # format all fields as string\n",
    "    X = X.astype(str)\n",
    "    # reshape target to be a 2d array\n",
    "    y = y.reshape((len(y), 1))\n",
    "    return X, y"
   ]
  },
  {
   "cell_type": "code",
   "execution_count": 3,
   "metadata": {},
   "outputs": [],
   "source": [
    "# prepare input data\n",
    "def prepare_inputs(X_train, X_test):\n",
    "    X_train_enc, X_test_enc = list(), list()\n",
    "    # label encode each column\n",
    "    for i in range(X_train.shape[1]):\n",
    "        le = LabelEncoder()\n",
    "        le.fit(X_train[:, i])\n",
    "        # encode\n",
    "        train_enc = le.transform(X_train[:, i])\n",
    "        test_enc = le.transform(X_test[:, i])\n",
    "        # store\n",
    "        X_train_enc.append(train_enc)\n",
    "        X_test_enc.append(test_enc)\n",
    "    return X_train_enc, X_test_enc"
   ]
  },
  {
   "cell_type": "code",
   "execution_count": 4,
   "metadata": {},
   "outputs": [],
   "source": [
    "# prepare target\n",
    "def prepare_targets(y_train, y_test):\n",
    "    le = LabelEncoder()\n",
    "    le.fit(y_train)\n",
    "    y_train_enc = le.transform(y_train)\n",
    "    y_test_enc = le.transform(y_test)\n",
    "    return y_train_enc, y_test_enc"
   ]
  },
  {
   "cell_type": "code",
   "execution_count": 5,
   "metadata": {},
   "outputs": [],
   "source": [
    "pd.options.display.max_columns = None\n",
    "pd.options.display.max_rows = None\n",
    "#np.set_printoptions(threshold=1000)\n",
    "np.set_printoptions(edgeitems=1000, threshold=np.inf)"
   ]
  },
  {
   "cell_type": "code",
   "execution_count": 6,
   "metadata": {},
   "outputs": [],
   "source": [
    "import keras"
   ]
  },
  {
   "cell_type": "code",
   "execution_count": 7,
   "metadata": {},
   "outputs": [
    {
     "name": "stderr",
     "output_type": "stream",
     "text": [
      "/opt/miniconda3/envs/tf/lib/python3.9/site-packages/sklearn/utils/validation.py:63: DataConversionWarning: A column-vector y was passed when a 1d array was expected. Please change the shape of y to (n_samples, ), for example using ravel().\n",
      "  return f(*args, **kwargs)\n"
     ]
    },
    {
     "name": "stdout",
     "output_type": "stream",
     "text": [
      "('Failed to import pydot. You must `pip install pydot` and install graphviz (https://graphviz.gitlab.io/download/), ', 'for `pydotprint` to work.')\n",
      "Epoch 1/20\n",
      "12/12 - 2s - loss: 0.6917 - accuracy: 0.5707\n",
      "Epoch 2/20\n",
      "12/12 - 0s - loss: 0.6770 - accuracy: 0.7382\n",
      "Epoch 3/20\n",
      "12/12 - 0s - loss: 0.6618 - accuracy: 0.7330\n",
      "Epoch 4/20\n",
      "12/12 - 0s - loss: 0.6411 - accuracy: 0.7277\n",
      "Epoch 5/20\n",
      "12/12 - 0s - loss: 0.6180 - accuracy: 0.7277\n",
      "Epoch 6/20\n",
      "12/12 - 0s - loss: 0.5949 - accuracy: 0.7277\n",
      "Epoch 7/20\n",
      "12/12 - 0s - loss: 0.5765 - accuracy: 0.7277\n",
      "Epoch 8/20\n",
      "12/12 - 0s - loss: 0.5612 - accuracy: 0.7277\n",
      "Epoch 9/20\n",
      "12/12 - 0s - loss: 0.5496 - accuracy: 0.7277\n",
      "Epoch 10/20\n",
      "12/12 - 0s - loss: 0.5422 - accuracy: 0.7277\n",
      "Epoch 11/20\n",
      "12/12 - 0s - loss: 0.5317 - accuracy: 0.7277\n",
      "Epoch 12/20\n",
      "12/12 - 0s - loss: 0.5219 - accuracy: 0.7382\n",
      "Epoch 13/20\n",
      "12/12 - 0s - loss: 0.5141 - accuracy: 0.7539\n",
      "Epoch 14/20\n",
      "12/12 - 0s - loss: 0.5052 - accuracy: 0.7592\n",
      "Epoch 15/20\n",
      "12/12 - 0s - loss: 0.4984 - accuracy: 0.7644\n",
      "Epoch 16/20\n",
      "12/12 - 0s - loss: 0.4907 - accuracy: 0.7749\n",
      "Epoch 17/20\n",
      "12/12 - 0s - loss: 0.4859 - accuracy: 0.7749\n",
      "Epoch 18/20\n",
      "12/12 - 0s - loss: 0.4802 - accuracy: 0.7853\n",
      "Epoch 19/20\n",
      "12/12 - 0s - loss: 0.4751 - accuracy: 0.7906\n",
      "Epoch 20/20\n",
      "12/12 - 0s - loss: 0.4712 - accuracy: 0.7906\n",
      "Accuracy: 72.63\n"
     ]
    }
   ],
   "source": [
    "# example of learned embedding encoding for a neural network\n",
    "from numpy import unique\n",
    "from pandas import read_csv\n",
    "from sklearn.model_selection import train_test_split\n",
    "from sklearn.preprocessing import LabelEncoder\n",
    "from keras.models import Model\n",
    "from keras.layers import Input\n",
    "from keras.layers import Dense\n",
    "from keras.layers import Embedding\n",
    "from keras.layers.merge import concatenate\n",
    "from keras.utils import plot_model\n",
    " \n",
    "# load the dataset\n",
    "X, y = load_dataset('breast-cancer.csv')\n",
    "# split into train and test sets\n",
    "X_train, X_test, y_train, y_test = train_test_split(X, y, test_size=0.33, random_state=1)\n",
    "# prepare input data\n",
    "X_train_enc, X_test_enc = prepare_inputs(X_train, X_test)\n",
    "# prepare output data\n",
    "y_train_enc, y_test_enc = prepare_targets(y_train, y_test)\n",
    "# make output 3d\n",
    "y_train_enc = y_train_enc.reshape((len(y_train_enc), 1, 1))\n",
    "y_test_enc = y_test_enc.reshape((len(y_test_enc), 1, 1))\n",
    "# prepare each input head\n",
    "in_layers = list()\n",
    "em_layers = list()\n",
    "for i in range(len(X_train_enc)):\n",
    "\t# calculate the number of unique inputs\n",
    "\tn_labels = len(unique(X_train_enc[i]))\n",
    "\t# define input layer\n",
    "\tin_layer = Input(shape=(1,))\n",
    "\t# define embedding layer\n",
    "\tem_layer = Embedding(n_labels, 10)(in_layer)\n",
    "\t# store layers\n",
    "\tin_layers.append(in_layer)\n",
    "\tem_layers.append(em_layer)\n",
    "# concat all embeddings\n",
    "merge = concatenate(em_layers)\n",
    "dense = Dense(10, activation='relu', kernel_initializer='he_normal')(merge)\n",
    "output = Dense(1, activation='sigmoid')(dense)\n",
    "model = Model(inputs=in_layers, outputs=output)\n",
    "# compile the keras model\n",
    "model.compile(loss='binary_crossentropy', optimizer='adam', metrics=['accuracy'])\n",
    "\n",
    "# plot graph: MWB - Requires pydot and graphviz (which wants python 3.9)\n",
    "#plot_model(model, show_shapes=True, to_file='embeddings.png')\n",
    "\n",
    "# fit the keras model on the dataset\n",
    "model.fit(X_train_enc, y_train_enc, epochs=20, batch_size=16, verbose=2)\n",
    "# evaluate the keras model\n",
    "_, accuracy = model.evaluate(X_test_enc, y_test_enc, verbose=0)\n",
    "print('Accuracy: %.2f' % (accuracy*100))"
   ]
  },
  {
   "cell_type": "code",
   "execution_count": 8,
   "metadata": {},
   "outputs": [
    {
     "data": {
      "text/plain": [
       "[array([3, 3, 3, 2, 1, 1, 2, 1, 4, 3, 3, 2, 2, 2, 3, 2, 3, 4, 1, 1, 2, 3,\n",
       "        1, 4, 3, 3, 3, 4, 4, 1, 2, 2, 3, 3, 4, 2, 3, 2, 4, 4, 2, 3, 4, 3,\n",
       "        3, 2, 4, 4, 1, 1, 3, 4, 4, 3, 3, 2, 4, 3, 2, 3, 2, 4, 3, 3, 4, 3,\n",
       "        4, 2, 3, 2, 1, 2, 2, 3, 2, 2, 2, 1, 4, 2, 1, 3, 4, 3, 2, 2, 3, 2,\n",
       "        2, 2, 2, 4, 1, 3, 2]),\n",
       " array([2, 2, 2, 2, 2, 2, 2, 2, 0, 0, 0, 2, 2, 2, 0, 2, 0, 0, 2, 2, 2, 2,\n",
       "        2, 0, 0, 0, 2, 0, 0, 2, 2, 0, 0, 0, 0, 2, 1, 2, 0, 0, 0, 0, 0, 0,\n",
       "        0, 2, 0, 0, 2, 2, 0, 0, 0, 2, 2, 0, 0, 2, 2, 0, 0, 0, 0, 0, 0, 0,\n",
       "        0, 2, 2, 2, 2, 2, 2, 0, 2, 2, 2, 2, 0, 2, 1, 0, 0, 2, 2, 2, 0, 2,\n",
       "        2, 2, 0, 0, 2, 0, 2]),\n",
       " array([ 4,  5,  7,  3,  0,  6,  5,  3,  2,  5,  3,  4,  1,  5,  5,  3,  5,\n",
       "         2,  5,  3,  4,  4,  6,  1,  0,  4,  4,  5,  5,  5,  3,  3,  6,  3,\n",
       "        10,  3,  5,  3,  3,  6,  5, 10,  3,  5,  5,  5,  2, 10,  5,  7,  4,\n",
       "         8,  4,  4,  4,  4,  2,  4,  1,  1,  3,  5,  7,  6,  7,  5,  1,  5,\n",
       "         5,  2,  3,  3,  3,  3,  4,  6, 10,  2,  1,  5,  2,  7,  5,  6, 10,\n",
       "         6,  3,  8,  0,  4,  3,  4,  4,  4,  1]),\n",
       " array([4, 4, 0, 4, 0, 0, 4, 4, 0, 4, 0, 6, 0, 0, 0, 0, 0, 0, 5, 0, 0, 0,\n",
       "        6, 5, 0, 5, 0, 0, 0, 0, 0, 0, 0, 0, 0, 0, 0, 0, 0, 5, 0, 0, 0, 0,\n",
       "        0, 4, 0, 0, 0, 0, 0, 0, 0, 0, 0, 0, 0, 4, 0, 0, 0, 4, 0, 0, 4, 5,\n",
       "        0, 0, 0, 0, 4, 0, 0, 0, 0, 0, 0, 0, 0, 0, 0, 5, 5, 2, 0, 0, 0, 0,\n",
       "        0, 0, 4, 4, 0, 2, 0]),\n",
       " array([1, 1, 0, 1, 0, 0, 0, 1, 0, 0, 0, 1, 0, 1, 0, 0, 0, 0, 1, 0, 0, 0,\n",
       "        1, 1, 0, 0, 0, 0, 0, 0, 0, 0, 0, 0, 0, 0, 0, 0, 0, 1, 0, 0, 0, 0,\n",
       "        0, 1, 0, 0, 0, 0, 0, 0, 0, 0, 0, 0, 0, 0, 0, 0, 0, 1, 0, 0, 1, 1,\n",
       "        0, 0, 0, 0, 1, 0, 0, 0, 0, 0, 0, 0, 0, 0, 0, 1, 1, 1, 0, 0, 0, 0,\n",
       "        0, 0, 0, 2, 0, 1, 0]),\n",
       " array([2, 1, 1, 1, 1, 2, 1, 1, 1, 2, 2, 2, 0, 2, 0, 1, 2, 0, 1, 2, 1, 1,\n",
       "        2, 2, 0, 2, 1, 0, 1, 2, 1, 2, 2, 1, 1, 1, 2, 1, 0, 2, 1, 0, 0, 0,\n",
       "        0, 1, 1, 2, 1, 1, 0, 0, 1, 0, 0, 1, 0, 1, 0, 0, 2, 1, 2, 2, 2, 2,\n",
       "        0, 0, 2, 1, 1, 0, 1, 2, 1, 0, 1, 0, 0, 2, 2, 2, 1, 2, 1, 0, 0, 1,\n",
       "        1, 0, 2, 0, 1, 2, 1]),\n",
       " array([0, 0, 0, 1, 1, 0, 1, 1, 1, 1, 0, 1, 1, 1, 1, 0, 1, 1, 1, 0, 1, 1,\n",
       "        0, 0, 0, 0, 0, 1, 0, 0, 1, 0, 0, 1, 1, 1, 1, 0, 1, 0, 0, 1, 0, 0,\n",
       "        1, 0, 1, 1, 0, 0, 0, 1, 1, 1, 1, 0, 0, 1, 1, 1, 0, 0, 0, 0, 1, 0,\n",
       "        0, 0, 0, 0, 0, 1, 0, 0, 0, 0, 1, 0, 0, 1, 1, 0, 1, 1, 0, 1, 1, 0,\n",
       "        1, 0, 1, 1, 0, 1, 1]),\n",
       " array([1, 1, 2, 4, 0, 1, 2, 2, 2, 2, 2, 2, 2, 4, 0, 1, 1, 2, 4, 2, 2, 3,\n",
       "        1, 2, 1, 1, 4, 2, 1, 1, 2, 2, 2, 0, 2, 2, 2, 0, 2, 1, 2, 4, 1, 2,\n",
       "        4, 4, 2, 2, 2, 1, 1, 4, 1, 2, 2, 1, 3, 2, 3, 2, 1, 0, 4, 1, 1, 3,\n",
       "        2, 1, 1, 1, 1, 4, 1, 2, 1, 1, 1, 1, 1, 4, 2, 1, 4, 4, 1, 2, 1, 1,\n",
       "        3, 3, 1, 1, 1, 2, 1]),\n",
       " array([1, 1, 0, 1, 0, 0, 0, 1, 0, 0, 0, 0, 0, 0, 0, 0, 0, 0, 0, 1, 0, 0,\n",
       "        0, 1, 0, 1, 0, 0, 0, 0, 0, 0, 0, 0, 1, 0, 0, 0, 0, 0, 1, 0, 0, 0,\n",
       "        0, 0, 0, 0, 0, 1, 0, 1, 0, 0, 0, 0, 0, 1, 0, 0, 0, 1, 0, 0, 0, 0,\n",
       "        0, 1, 0, 0, 0, 0, 0, 0, 1, 0, 1, 0, 0, 0, 0, 1, 0, 0, 0, 0, 0, 1,\n",
       "        0, 0, 1, 1, 0, 0, 0])]"
      ]
     },
     "execution_count": 8,
     "metadata": {},
     "output_type": "execute_result"
    }
   ],
   "source": [
    "X_test_enc"
   ]
  },
  {
   "cell_type": "code",
   "execution_count": null,
   "metadata": {},
   "outputs": [],
   "source": []
  }
 ],
 "metadata": {
  "kernelspec": {
   "display_name": "Python [conda env:tf] *",
   "language": "python",
   "name": "conda-env-tf-py"
  },
  "language_info": {
   "codemirror_mode": {
    "name": "ipython",
    "version": 3
   },
   "file_extension": ".py",
   "mimetype": "text/x-python",
   "name": "python",
   "nbconvert_exporter": "python",
   "pygments_lexer": "ipython3",
   "version": "3.9.4"
  }
 },
 "nbformat": 4,
 "nbformat_minor": 4
}
