{
 "cells": [
  {
   "cell_type": "code",
   "execution_count": 1,
   "metadata": {},
   "outputs": [],
   "source": [
    "import pandas as pd\n",
    "import numpy as np\n",
    "from IPython.display import display"
   ]
  },
  {
   "cell_type": "code",
   "execution_count": 2,
   "metadata": {},
   "outputs": [],
   "source": [
    "# load the dataset\n",
    "def load_dataset(filename, cramer_coef, target, var_count, row_count):\n",
    "    # load the dataset as a pandas DataFrame\n",
    "    df = pd.read_csv(filename, header=0, index_col=0, nrows=row_count)\n",
    "    \n",
    "    # split into input (X) and output (y) variables\n",
    "    X = df.drop(target, axis=1, inplace=False)\n",
    "    \n",
    "    # order columns by Cramer coeffs\n",
    "    cramer_df = pd.read_csv(cramer_coef, sep='\\t', header=None)\n",
    "    cols = cramer_df.iloc[:, 0].tolist()\n",
    "    X = X[cols]\n",
    "    \n",
    "    # Reduce # of variables\n",
    "    if var_count < X.shape[1]:\n",
    "        X = X.iloc[:, 0:var_count]\n",
    "        \n",
    "    y = df[target]\n",
    "    \n",
    "    # reshape target to be a 2d array\n",
    "    #y = y.reshape((len(y), 1))\n",
    "    #X = X.values\n",
    "    \n",
    "    return X, y"
   ]
  },
  {
   "cell_type": "code",
   "execution_count": 3,
   "metadata": {},
   "outputs": [],
   "source": [
    "from sklearn.preprocessing import LabelEncoder\n",
    "def encode_df(df):\n",
    "    df_enc = pd.DataFrame()\n",
    "    for col in df:\n",
    "        le = LabelEncoder()\n",
    "        le.fit(df[col])\n",
    "        df_enc[col] = le.transform(df[col])\n",
    "    return df_enc"
   ]
  },
  {
   "cell_type": "code",
   "execution_count": 4,
   "metadata": {},
   "outputs": [],
   "source": [
    "# prepare input data\n",
    "from sklearn.preprocessing import LabelEncoder\n",
    "def prepare_inputs(X_train, X_test):\n",
    "    X_train_enc, X_test_enc = list(), list()\n",
    "    # label encode each column\n",
    "    for i in range(X_train.shape[1]):\n",
    "        le = LabelEncoder()\n",
    "        #le.fit(X_train[:, i])\n",
    "        # Fix missing field error by fitting both train & test - MWB\n",
    "        both = np.concatenate((X_train[:, i], X_test[:,i]), axis=0)\n",
    "        le.fit(both)  \n",
    "        # encode\n",
    "        train_enc = le.transform(X_train[:, i])\n",
    "        test_enc = le.transform(X_test[:, i])\n",
    "        \n",
    "        X_train_enc.append(train_enc)\n",
    "        X_test_enc.append(test_enc)\n",
    "    return X_train_enc, X_test_enc"
   ]
  },
  {
   "cell_type": "code",
   "execution_count": 5,
   "metadata": {},
   "outputs": [],
   "source": [
    "# MWB - Not necessary - already [0,1]\n",
    "# prepare target\n",
    "def prepare_targets(y_train, y_test):\n",
    "    le = LabelEncoder()\n",
    "    le.fit(y_train)\n",
    "    y_train_enc = le.transform(y_train)\n",
    "    y_test_enc = le.transform(y_test)\n",
    "    return y_train_enc, y_test_enc"
   ]
  },
  {
   "cell_type": "code",
   "execution_count": 6,
   "metadata": {},
   "outputs": [],
   "source": [
    "pd.options.display.max_columns = None\n",
    "pd.options.display.max_rows = 200\n",
    "#np.set_printoptions(threshold=1000)\n",
    "np.set_printoptions(edgeitems=1000, threshold=np.inf)"
   ]
  },
  {
   "cell_type": "code",
   "execution_count": 14,
   "metadata": {},
   "outputs": [],
   "source": [
    "# When running on lhc-lx-mbopf to limit cores used\n",
    "\n",
    "# THROWS: \n",
    "#     AttributeError: module 'tensorflow.keras.backend' has no attribute 'set_session'\n",
    "\n",
    "#import tensorflow as tf\n",
    "#import tensorflow.keras.backend as K\n",
    "#K.set_session(K.tf.Session(config=K.tf.ConfigProto(intra_op_parallelism_threads=7, inter_op_parallelism_threads=7)))"
   ]
  },
  {
   "cell_type": "code",
   "execution_count": 15,
   "metadata": {},
   "outputs": [
    {
     "name": "stdout",
     "output_type": "stream",
     "text": [
      "(185413, 66)\n"
     ]
    },
    {
     "data": {
      "text/plain": [
       "0    175069\n",
       "1     10344\n",
       "Name: trans_loss, dtype: int64"
      ]
     },
     "execution_count": 15,
     "metadata": {},
     "output_type": "execute_result"
    }
   ],
   "source": [
    "# example of learned embedding encoding for a neural network\n",
    "from numpy import unique\n",
    "from pandas import read_csv\n",
    "from sklearn.model_selection import train_test_split\n",
    "from sklearn.preprocessing import LabelEncoder\n",
    "from keras.models import Model\n",
    "from keras.layers import Input\n",
    "from keras.layers import Dense\n",
    "from keras.layers import Embedding\n",
    "from keras.layers.merge import concatenate\n",
    "#from keras.utils import plot_model  MWB - errors\n",
    "#from prettytable import PrettyTable\n",
    "#from tabulate import tabulate\n",
    " \n",
    "# load the dataset\n",
    "X, y = load_dataset('../../../data/csl/CSL_tl_PI_binned.csv', \n",
    "                    '../../../data/csl/CramerTheil/Cramer_PI_Tl_vars_Union50.csv',\n",
    "                    'trans_loss', 200, 200000)\n",
    "print(X.shape)\n",
    "y.value_counts()"
   ]
  },
  {
   "cell_type": "code",
   "execution_count": 16,
   "metadata": {},
   "outputs": [],
   "source": [
    "# Encode features using LabelEncoder\n",
    "X_enc_df = encode_df(X)\n",
    "\n",
    "#for col in X_enc_df:\n",
    "#    print(unique(X_enc_df[col]))"
   ]
  },
  {
   "cell_type": "code",
   "execution_count": 17,
   "metadata": {},
   "outputs": [],
   "source": [
    "# split into train and test sets\n",
    "X_train, X_test, y_train, y_test = train_test_split(X_enc_df, y, stratify=y, test_size=0.30, random_state=1)"
   ]
  },
  {
   "cell_type": "code",
   "execution_count": 18,
   "metadata": {},
   "outputs": [
    {
     "name": "stdout",
     "output_type": "stream",
     "text": [
      "(129789, 66)\n",
      "(129789,)\n",
      "0    122548\n",
      "1      7241\n",
      "Name: trans_loss, dtype: int64\n"
     ]
    }
   ],
   "source": [
    "print(X_train.shape)\n",
    "print(y_train.shape)\n",
    "print(y_train.value_counts())"
   ]
  },
  {
   "cell_type": "code",
   "execution_count": 19,
   "metadata": {},
   "outputs": [],
   "source": [
    "from imblearn.over_sampling import RandomOverSampler\n",
    "#from stat_mwb import under_samp\n",
    "\n",
    "#X_res, y_res = under_samp(X_train_enc, y_train_enc)\n",
    "sampler = RandomOverSampler(sampling_strategy=1.0)\n",
    "X_train, y_train= sampler.fit_resample(X_train, y_train)"
   ]
  },
  {
   "cell_type": "code",
   "execution_count": 20,
   "metadata": {},
   "outputs": [
    {
     "name": "stdout",
     "output_type": "stream",
     "text": [
      "(245096, 66)\n",
      "(245096,)\n",
      "0    122548\n",
      "1    122548\n",
      "Name: trans_loss, dtype: int64\n"
     ]
    }
   ],
   "source": [
    "print(X_train.shape)\n",
    "print(y_train.shape)\n",
    "print(y_train.value_counts())"
   ]
  },
  {
   "cell_type": "code",
   "execution_count": 21,
   "metadata": {
    "scrolled": true
   },
   "outputs": [],
   "source": [
    "X_train_enc = np.array(X_train)\n",
    "X_test_enc = np.array(X_test)\n",
    "y_train_enc = np.array(y_train)\n",
    "y_test_enc = np.array(y_test)"
   ]
  },
  {
   "cell_type": "code",
   "execution_count": 22,
   "metadata": {},
   "outputs": [
    {
     "name": "stdout",
     "output_type": "stream",
     "text": [
      "(245096, 1, 1)\n"
     ]
    }
   ],
   "source": [
    "# make output 3d\n",
    "y_train_enc = y_train_enc.reshape((len(y_train_enc), 1, 1))\n",
    "y_test_enc = y_test_enc.reshape((len(y_test_enc), 1, 1))\n",
    "# prepare each input head\n",
    "print(y_train_enc.shape)"
   ]
  },
  {
   "cell_type": "code",
   "execution_count": 23,
   "metadata": {},
   "outputs": [
    {
     "data": {
      "text/plain": [
       "(245096, 66)"
      ]
     },
     "execution_count": 23,
     "metadata": {},
     "output_type": "execute_result"
    }
   ],
   "source": [
    "X_train_enc.shape"
   ]
  },
  {
   "cell_type": "code",
   "execution_count": 24,
   "metadata": {},
   "outputs": [],
   "source": [
    "in_layers = list()\n",
    "em_layers = list()\n",
    "for col in range(X_train_enc.shape[1]):\n",
    "    # calculate the number of unique inputs\n",
    "    n_labels = len(unique(X_train_enc[:, col]))\n",
    "    # define input layer\n",
    "    in_layer = Input(shape=(1,))\n",
    "    # define embedding layer\n",
    "    em_layer = Embedding(n_labels+1, 10)(in_layer)  # MWB - Embedding docs say to use this\n",
    "    #em_layer = Embedding(n_labels, 10)(in_layer)\n",
    "    # store layers\n",
    "    in_layers.append(in_layer)\n",
    "    em_layers.append(em_layer)"
   ]
  },
  {
   "cell_type": "code",
   "execution_count": 25,
   "metadata": {},
   "outputs": [
    {
     "data": {
      "text/plain": [
       "(245096, 1)"
      ]
     },
     "execution_count": 25,
     "metadata": {},
     "output_type": "execute_result"
    }
   ],
   "source": [
    "# transpose input data to lists\n",
    "X_train_encl = []\n",
    "X_test_encl = []\n",
    "for col in range(X_train_enc.shape[1]):\n",
    "    X_train_encl.append(X_train_enc[..., [col]])\n",
    "    X_test_encl.append(X_test_enc[..., [col]])\n",
    "X_train_encl[0].shape"
   ]
  },
  {
   "cell_type": "code",
   "execution_count": 26,
   "metadata": {},
   "outputs": [],
   "source": [
    "#for col in range(X_test_enc.shape[1]):\n",
    "#    print(unique(X_test_enc[:,col]))"
   ]
  },
  {
   "cell_type": "code",
   "execution_count": 27,
   "metadata": {},
   "outputs": [
    {
     "name": "stdout",
     "output_type": "stream",
     "text": [
      "66\n",
      "66\n",
      "<class 'list'>\n",
      "<class 'list'>\n"
     ]
    }
   ],
   "source": [
    "print(len(in_layers))\n",
    "print(len(em_layers))\n",
    "print(type(em_layers))\n",
    "print(type(X_train_encl))"
   ]
  },
  {
   "cell_type": "code",
   "execution_count": 28,
   "metadata": {
    "scrolled": true
   },
   "outputs": [
    {
     "name": "stdout",
     "output_type": "stream",
     "text": [
      "Epoch 1/20\n",
      "15319/15319 - 240s - loss: 0.4793 - accuracy: 0.7724 - precision: 0.7237 - recall: 0.8814 - auc: 0.8345 - pr_auc: 0.7968\n",
      "Epoch 2/20\n",
      "15319/15319 - 221s - loss: 0.4631 - accuracy: 0.7803 - precision: 0.7269 - recall: 0.8980 - auc: 0.8448 - pr_auc: 0.8096\n",
      "Epoch 3/20\n",
      "15319/15319 - 233s - loss: 0.4550 - accuracy: 0.7846 - precision: 0.7314 - recall: 0.8998 - auc: 0.8508 - pr_auc: 0.8161\n",
      "Epoch 4/20\n",
      "15319/15319 - 235s - loss: 0.4482 - accuracy: 0.7879 - precision: 0.7353 - recall: 0.8997 - auc: 0.8558 - pr_auc: 0.8213\n",
      "Epoch 5/20\n",
      "15319/15319 - 222s - loss: 0.4435 - accuracy: 0.7905 - precision: 0.7380 - recall: 0.9007 - auc: 0.8586 - pr_auc: 0.8242\n",
      "Epoch 6/20\n",
      "15319/15319 - 225s - loss: 0.4395 - accuracy: 0.7924 - precision: 0.7405 - recall: 0.9001 - auc: 0.8610 - pr_auc: 0.8268\n",
      "Epoch 7/20\n",
      "15319/15319 - 220s - loss: 0.4367 - accuracy: 0.7942 - precision: 0.7421 - recall: 0.9019 - auc: 0.8629 - pr_auc: 0.8284\n",
      "Epoch 8/20\n",
      "15319/15319 - 216s - loss: 0.4342 - accuracy: 0.7961 - precision: 0.7441 - recall: 0.9025 - auc: 0.8642 - pr_auc: 0.8293\n",
      "Epoch 9/20\n",
      "15319/15319 - 229s - loss: 0.4323 - accuracy: 0.7970 - precision: 0.7442 - recall: 0.9051 - auc: 0.8654 - pr_auc: 0.8307\n",
      "Epoch 10/20\n",
      "15319/15319 - 234s - loss: 0.4307 - accuracy: 0.7977 - precision: 0.7452 - recall: 0.9047 - auc: 0.8665 - pr_auc: 0.8315\n",
      "Epoch 11/20\n",
      "15319/15319 - 219s - loss: 0.4292 - accuracy: 0.7987 - precision: 0.7463 - recall: 0.9049 - auc: 0.8673 - pr_auc: 0.8321\n",
      "Epoch 12/20\n",
      "15319/15319 - 225s - loss: 0.4277 - accuracy: 0.7993 - precision: 0.7472 - recall: 0.9047 - auc: 0.8684 - pr_auc: 0.8341\n",
      "Epoch 13/20\n",
      "15319/15319 - 222s - loss: 0.4269 - accuracy: 0.7992 - precision: 0.7469 - recall: 0.9051 - auc: 0.8684 - pr_auc: 0.8339\n",
      "Epoch 14/20\n",
      "15319/15319 - 220s - loss: 0.4258 - accuracy: 0.8005 - precision: 0.7480 - recall: 0.9064 - auc: 0.8692 - pr_auc: 0.8345\n",
      "Epoch 15/20\n",
      "15319/15319 - 230s - loss: 0.4249 - accuracy: 0.8008 - precision: 0.7485 - recall: 0.9061 - auc: 0.8696 - pr_auc: 0.8350\n",
      "Epoch 16/20\n",
      "15319/15319 - 228s - loss: 0.4240 - accuracy: 0.8015 - precision: 0.7487 - recall: 0.9076 - auc: 0.8701 - pr_auc: 0.8354\n",
      "Epoch 17/20\n",
      "15319/15319 - 221s - loss: 0.4232 - accuracy: 0.8016 - precision: 0.7490 - recall: 0.9074 - auc: 0.8707 - pr_auc: 0.8359\n",
      "Epoch 18/20\n",
      "15319/15319 - 228s - loss: 0.4226 - accuracy: 0.8024 - precision: 0.7496 - recall: 0.9082 - auc: 0.8710 - pr_auc: 0.8363\n",
      "Epoch 19/20\n",
      "15319/15319 - 217s - loss: 0.4218 - accuracy: 0.8027 - precision: 0.7499 - recall: 0.9083 - auc: 0.8717 - pr_auc: 0.8372\n",
      "Epoch 20/20\n",
      "15319/15319 - 229s - loss: 0.4210 - accuracy: 0.8032 - precision: 0.7502 - recall: 0.9094 - auc: 0.8720 - pr_auc: 0.8373\n",
      "Accuracy: 0.6964439749717712; Prec: 0.13376913964748383; Recall: 0.8111504912376404, ROC_AUC: 0.8131365776062012, PR_AUC: 0.1923220157623291\n",
      "CPU times: user 2h 53min 31s, sys: 6h 57min 22s, total: 9h 50min 53s\n",
      "Wall time: 1h 15min 23s\n"
     ]
    }
   ],
   "source": [
    "%%time\n",
    "# concat all embeddings\n",
    "from keras.metrics import AUC\n",
    "BATCH_SIZE = 16\n",
    "merge = concatenate(em_layers)\n",
    "dense = Dense(10, activation='relu', kernel_initializer='he_normal')(merge)\n",
    "output = Dense(1, activation='sigmoid')(dense)\n",
    "model = Model(inputs=in_layers, outputs=output)\n",
    "# compile the keras model\n",
    "model.compile(loss='binary_crossentropy', optimizer='adam', sample_weight_mode='temporal', \n",
    "              metrics=['accuracy','Precision','Recall','AUC',\n",
    "                       AUC(name='pr_auc', curve='PR')])\n",
    "#model.compile(loss='binary_crossentropy', optimizer='adam', metrics=['AUC'])\n",
    "\n",
    "# plot graph: MWB - Requires pydot and graphviz (which wants python 3.9)\n",
    "#plot_model(model, show_shapes=True, to_file='embeddings.png')\n",
    "\n",
    "#weights = {0:0.51, 1:18.0}\n",
    "#weights = {0:1, 1:36}\n",
    "#weights = np.zeros((10, 2))\n",
    "#weights[:,0] = 0.51\n",
    "#weights[:,1] = 18.0 \n",
    "#print(type(weights))\n",
    "#print(weights)\n",
    "\n",
    "# fit the keras model on the dataset\n",
    "run_start = time.time()\n",
    "model.fit(X_train_encl, y_train_enc, epochs=20, batch_size=BATCH_SIZE, verbose=2) \n",
    "#model.fit(X_train_encl, y_train_enc, epochs=20, batch_size=16, verbose=2, \n",
    "#          class_weight=weights)\n",
    "# evaluate the keras model\n",
    "_, accuracy, prec, recall, auc, pr_auc = model.evaluate(X_test_encl, y_test_enc, verbose=0)\n",
    "#_, accuracy, prec, recall, auc = model.evaluate(X_test_enc, y_test_enc, verbose=0)\n",
    "#print('Accuracy: %.2f' % (accuracy*100))\n",
    "print(f'Accuracy: {accuracy}; Prec: {prec}; Recall: {recall}, ROC_AUC: {auc}, PR_AUC: {pr_auc}')"
   ]
  },
  {
   "cell_type": "code",
   "execution_count": 39,
   "metadata": {},
   "outputs": [
    {
     "ename": "AttributeError",
     "evalue": "'numpy.ndarray' object has no attribute 'head'",
     "output_type": "error",
     "traceback": [
      "\u001b[0;31m---------------------------------------------------------------------------\u001b[0m",
      "\u001b[0;31mAttributeError\u001b[0m                            Traceback (most recent call last)",
      "\u001b[0;32m<ipython-input-39-10d311d14d78>\u001b[0m in \u001b[0;36m<module>\u001b[0;34m\u001b[0m\n\u001b[1;32m      1\u001b[0m \u001b[0mpredictions\u001b[0m \u001b[0;34m=\u001b[0m \u001b[0mmodel\u001b[0m\u001b[0;34m.\u001b[0m\u001b[0mpredict\u001b[0m\u001b[0;34m(\u001b[0m\u001b[0mX_test_encl\u001b[0m\u001b[0;34m,\u001b[0m \u001b[0mbatch_size\u001b[0m\u001b[0;34m=\u001b[0m\u001b[0mBATCH_SIZE\u001b[0m\u001b[0;34m)\u001b[0m\u001b[0;34m\u001b[0m\u001b[0;34m\u001b[0m\u001b[0m\n\u001b[0;32m----> 2\u001b[0;31m \u001b[0mpredictions\u001b[0m\u001b[0;34m.\u001b[0m\u001b[0mhead\u001b[0m\u001b[0;34m(\u001b[0m\u001b[0;34m)\u001b[0m\u001b[0;34m\u001b[0m\u001b[0;34m\u001b[0m\u001b[0m\n\u001b[0m",
      "\u001b[0;31mAttributeError\u001b[0m: 'numpy.ndarray' object has no attribute 'head'"
     ]
    }
   ],
   "source": [
    "predictions = model.predict(X_test_encl, batch_size=BATCH_SIZE)"
   ]
  },
  {
   "cell_type": "code",
   "execution_count": 46,
   "metadata": {},
   "outputs": [
    {
     "name": "stdout",
     "output_type": "stream",
     "text": [
      "55624\n",
      "55624\n",
      "52862\n",
      "52862\n",
      "52861\n"
     ]
    }
   ],
   "source": [
    "from sklearn.metrics import precision_recall_curve\n",
    "prob1 = predictions.flatten()\n",
    "print(len(prob1))\n",
    "print(len(y_test))\n",
    "prec_all, recall_all, pr_thresh = precision_recall_curve(y_test, prob1)\n",
    "prec_all\n",
    "print(len(prec_all))\n",
    "print(len(recall_all))\n",
    "print(len(pr_thresh))"
   ]
  },
  {
   "cell_type": "code",
   "execution_count": 49,
   "metadata": {},
   "outputs": [
    {
     "data": {
      "image/png": "[encoded data removed]",
      "text/plain": [
       "<Figure size 432x288 with 1 Axes>"
      ]
     },
     "metadata": {
      "needs_background": "light"
     },
     "output_type": "display_data"
    }
   ],
   "source": [
    "import matplotlib.pyplot as plt\n",
    "import sklearn.metrics\n",
    "%matplotlib inline\n",
    "# calculate the no skill line as the proportion of the positive class\n",
    "no_skill = len(y_test[y_test==1]) / len(y_test)\n",
    "# plot the no skill precision-recall curve\n",
    "plt.plot([0, 1], [no_skill, no_skill], linestyle= '--', label= f'No Skill: {no_skill:.3f}')\n",
    "\n",
    "pr_auc = sklearn.metrics.auc(recall_all, prec_all)\n",
    "plt.title('PR Curve')\n",
    "plt.plot(recall_all, prec_all, 'g', label = 'PR_AUC = %0.3f' % pr_auc)\n",
    "plt.legend(loc = 'upper right')\n",
    "plt.ylabel('Precision')\n",
    "plt.xlabel('Recall')\n",
    "plt.show()"
   ]
  },
  {
   "cell_type": "code",
   "execution_count": 30,
   "metadata": {},
   "outputs": [
    {
     "name": "stdout",
     "output_type": "stream",
     "text": [
      "<class 'numpy.ndarray'>\n",
      "55624\n",
      "66\n"
     ]
    }
   ],
   "source": [
    "print(type(predictions))\n",
    "print(len(predictions))\n",
    "print(len(X_test_encl))"
   ]
  },
  {
   "cell_type": "code",
   "execution_count": 31,
   "metadata": {},
   "outputs": [
    {
     "name": "stdout",
     "output_type": "stream",
     "text": [
      "[52521  3103]\n",
      "[36808 18816]\n"
     ]
    }
   ],
   "source": [
    "print(np.bincount(y_test_enc.flatten()))\n",
    "print(np.bincount(predictions.flatten() > 0.5))"
   ]
  },
  {
   "cell_type": "code",
   "execution_count": 32,
   "metadata": {},
   "outputs": [],
   "source": [
    "y_true = y_test_enc.flatten()\n",
    "y_pred = predictions.flatten() > 0.5"
   ]
  },
  {
   "cell_type": "code",
   "execution_count": 33,
   "metadata": {},
   "outputs": [
    {
     "name": "stdout",
     "output_type": "stream",
     "text": [
      "6511 2930 105 452\n",
      "acc = 0.6964439810153891\n",
      "prec = 0.13376913964748383\n",
      "recall = 0.8111504912376404\n",
      "spec = 0.6896669903467184\n",
      "auc = 0.8131365776062012\n",
      "mcc = 0.2429417222102656\n",
      "f2 = 0.403003714615089\n"
     ]
    }
   ],
   "source": [
    "from sklearn.metrics import confusion_matrix, matthews_corrcoef, fbeta_score\n",
    "ntn, nfp, nfn, ntp = (confusion_matrix(y_true, y_pred, normalize='all').flatten()*10000).astype(int)\n",
    "tn, fp, fn, tp = confusion_matrix(y_true, y_pred).ravel()\n",
    "total = tn + fp + fn + tp\n",
    "acc = (tn + tp)/total\n",
    "spec = tn / (tn + fp)\n",
    "mcc = matthews_corrcoef(y_true, y_pred)\n",
    "f2 = fbeta_score(y_true, y_pred, beta=2.0, average=None)\n",
    "print(ntn, nfp, nfn, ntp)\n",
    "print(f'acc = {acc}')\n",
    "print(f'prec = {prec}')\n",
    "print(f'recall = {recall}')\n",
    "print(f'spec = {spec}')\n",
    "print(f'auc = {auc}')\n",
    "print(f'mcc = {mcc}')\n",
    "print(f'f2 = {f2[1]}')"
   ]
  },
  {
   "cell_type": "code",
   "execution_count": 34,
   "metadata": {},
   "outputs": [
    {
     "data": {
      "text/plain": [
       "55624"
      ]
     },
     "execution_count": 34,
     "metadata": {},
     "output_type": "execute_result"
    }
   ],
   "source": [
    "len(y_true)"
   ]
  },
  {
   "cell_type": "code",
   "execution_count": 37,
   "metadata": {},
   "outputs": [
    {
     "name": "stdout",
     "output_type": "stream",
     "text": [
      "np.bincount(y_test) =\n",
      " [52521  3103]\n",
      "np.bincount(y_pred) =\n",
      " [36808 18816]\n"
     ]
    },
    {
     "data": {
      "text/plain": [
       "0.6964439810153891"
      ]
     },
     "execution_count": 37,
     "metadata": {},
     "output_type": "execute_result"
    }
   ],
   "source": [
    "from sklearn.metrics import accuracy_score\n",
    "y_test = y_true\n",
    "print(f'np.bincount(y_test) =\\n {np.bincount(y_test)}')\n",
    "print(f'np.bincount(y_pred) =\\n {np.bincount(y_pred)}')\n",
    "accuracy_s = accuracy_score(y_test, y_pred)\n",
    "accuracy_s\n",
    "probs = model.pr"
   ]
  },
  {
   "cell_type": "code",
   "execution_count": null,
   "metadata": {},
   "outputs": [],
   "source": [
    "def create_outfile_base(opts, params_dict=None):\n",
    "    import datetime\n",
    "    now = datetime.datetime.now()\n",
    "    timestamp = str(now.strftime(\"%Y%m%d_%H%M%S\"))\n",
    "    if params_dict:\n",
    "        param_str = \"_\".join([x if isinstance(x, str) else str(x) for x in params_dict.values()])\n",
    "        fname = \"-\".join([opts.target, opts.period, opts.feats, opts.under_alg, opts.pred_alg, param_str,\\\n",
    "                          str(opts.seed), str(opts.samp_strat), timestamp])\n",
    "    else:\n",
    "        fname = \"-\".join([opts.target, opts.period, opts.feats, opts.under_alg, opts.pred_alg, str(opts.seed), timestamp])\n",
    "    fname = fname.replace(\" \", \"\")\n",
    "    return opts.output_dir + '/' + fname"
   ]
  },
  {
   "cell_type": "code",
   "execution_count": null,
   "metadata": {},
   "outputs": [],
   "source": []
  }
 ],
 "metadata": {
  "kernelspec": {
   "display_name": "Python [conda env:tf]",
   "language": "python",
   "name": "conda-env-tf-py"
  },
  "language_info": {
   "codemirror_mode": {
    "name": "ipython",
    "version": 3
   },
   "file_extension": ".py",
   "mimetype": "text/x-python",
   "name": "python",
   "nbconvert_exporter": "python",
   "pygments_lexer": "ipython3",
   "version": "3.9.4"
  }
 },
 "nbformat": 4,
 "nbformat_minor": 4
}
