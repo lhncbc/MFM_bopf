{
 "cells": [
  {
   "cell_type": "markdown",
   "metadata": {},
   "source": [
    "<h1 align='center'>Welcome to my Notebook</h1>"
   ]
  },
  {
   "cell_type": "markdown",
   "metadata": {},
   "source": [
    "# Modified version of: \n",
    "https://www.kaggle.com/vagifa/vehicle-insurance-eda-undersampling-lightgbm/notebook\n"
   ]
  },
  {
   "cell_type": "code",
   "execution_count": 1,
   "metadata": {
    "_cell_guid": "b1076dfc-b9ad-4769-8c92-a6c4dae69d19",
    "_uuid": "8f2839f25d086af736a60e9eeb907d3b93b6e0e5"
   },
   "outputs": [],
   "source": [
    "import numpy as np \n",
    "import pandas as pd \n",
    "\n",
    "import matplotlib.pyplot as plt\n",
    "#import plotly.express as px\n",
    "import seaborn as sns\n",
    "\n",
    "from lightgbm import LGBMClassifier\n",
    "from xgboost import XGBClassifier\n",
    "#from catboost import CatBoostClassifier\n",
    "from sklearn.ensemble import RandomForestClassifier\n",
    "\n",
    "from sklearn.model_selection import StratifiedKFold,KFold\n",
    "from collections import Counter\n",
    "from imblearn.over_sampling import RandomOverSampler\n",
    "from imblearn.under_sampling import RandomUnderSampler\n",
    "from sklearn.metrics import classification_report,roc_auc_score,confusion_matrix,accuracy_score,f1_score\n",
    "from sklearn.metrics import matthews_corrcoef\n",
    "\n",
    "import optuna\n",
    "from optuna.samplers import TPESampler\n",
    "%config Completer.use_jedi = False"
   ]
  },
  {
   "cell_type": "code",
   "execution_count": null,
   "metadata": {},
   "outputs": [],
   "source": [
    "#train = pd.read_csv('/kaggle/input/health-insurance-cross-sell-prediction/train.csv')\n",
    "#test = pd.read_csv('/kaggle/input/health-insurance-cross-sell-prediction/test.csv')\n",
    "#sample = pd.read_csv('/kaggle/input/health-insurance-cross-sell-prediction/sample_submission.csv')"
   ]
  },
  {
   "cell_type": "code",
   "execution_count": 2,
   "metadata": {},
   "outputs": [],
   "source": [
    "train = pd.read_csv('train.csv')\n",
    "test = pd.read_csv('test.csv')\n",
    "sample = pd.read_csv('sample_submission.csv')\n",
    "\n",
    "sns.set(style='white', context='notebook', palette='deep')"
   ]
  },
  {
   "cell_type": "markdown",
   "metadata": {},
   "source": [
    "<h1 align='center'>Exploratory Data Analysis</h1>"
   ]
  },
  {
   "cell_type": "code",
   "execution_count": 3,
   "metadata": {
    "_cell_guid": "79c7e3d0-c299-4dcb-8224-4455121ee9b0",
    "_uuid": "d629ff2d2480ee46fbb7e2d37f6b5fab8052498a"
   },
   "outputs": [
    {
     "data": {
      "text/html": [
       "<div>\n",
       "<style scoped>\n",
       "    .dataframe tbody tr th:only-of-type {\n",
       "        vertical-align: middle;\n",
       "    }\n",
       "\n",
       "    .dataframe tbody tr th {\n",
       "        vertical-align: top;\n",
       "    }\n",
       "\n",
       "    .dataframe thead th {\n",
       "        text-align: right;\n",
       "    }\n",
       "</style>\n",
       "<table border=\"1\" class=\"dataframe\">\n",
       "  <thead>\n",
       "    <tr style=\"text-align: right;\">\n",
       "      <th></th>\n",
       "      <th>id</th>\n",
       "      <th>Gender</th>\n",
       "      <th>Age</th>\n",
       "      <th>Driving_License</th>\n",
       "      <th>Region_Code</th>\n",
       "      <th>Previously_Insured</th>\n",
       "      <th>Vehicle_Age</th>\n",
       "      <th>Vehicle_Damage</th>\n",
       "      <th>Annual_Premium</th>\n",
       "      <th>Policy_Sales_Channel</th>\n",
       "      <th>Vintage</th>\n",
       "      <th>Response</th>\n",
       "    </tr>\n",
       "  </thead>\n",
       "  <tbody>\n",
       "    <tr>\n",
       "      <th>0</th>\n",
       "      <td>1</td>\n",
       "      <td>Male</td>\n",
       "      <td>44</td>\n",
       "      <td>1</td>\n",
       "      <td>28.0</td>\n",
       "      <td>0</td>\n",
       "      <td>&gt; 2 Years</td>\n",
       "      <td>Yes</td>\n",
       "      <td>40454.0</td>\n",
       "      <td>26.0</td>\n",
       "      <td>217</td>\n",
       "      <td>1</td>\n",
       "    </tr>\n",
       "    <tr>\n",
       "      <th>1</th>\n",
       "      <td>2</td>\n",
       "      <td>Male</td>\n",
       "      <td>76</td>\n",
       "      <td>1</td>\n",
       "      <td>3.0</td>\n",
       "      <td>0</td>\n",
       "      <td>1-2 Year</td>\n",
       "      <td>No</td>\n",
       "      <td>33536.0</td>\n",
       "      <td>26.0</td>\n",
       "      <td>183</td>\n",
       "      <td>0</td>\n",
       "    </tr>\n",
       "    <tr>\n",
       "      <th>2</th>\n",
       "      <td>3</td>\n",
       "      <td>Male</td>\n",
       "      <td>47</td>\n",
       "      <td>1</td>\n",
       "      <td>28.0</td>\n",
       "      <td>0</td>\n",
       "      <td>&gt; 2 Years</td>\n",
       "      <td>Yes</td>\n",
       "      <td>38294.0</td>\n",
       "      <td>26.0</td>\n",
       "      <td>27</td>\n",
       "      <td>1</td>\n",
       "    </tr>\n",
       "    <tr>\n",
       "      <th>3</th>\n",
       "      <td>4</td>\n",
       "      <td>Male</td>\n",
       "      <td>21</td>\n",
       "      <td>1</td>\n",
       "      <td>11.0</td>\n",
       "      <td>1</td>\n",
       "      <td>&lt; 1 Year</td>\n",
       "      <td>No</td>\n",
       "      <td>28619.0</td>\n",
       "      <td>152.0</td>\n",
       "      <td>203</td>\n",
       "      <td>0</td>\n",
       "    </tr>\n",
       "    <tr>\n",
       "      <th>4</th>\n",
       "      <td>5</td>\n",
       "      <td>Female</td>\n",
       "      <td>29</td>\n",
       "      <td>1</td>\n",
       "      <td>41.0</td>\n",
       "      <td>1</td>\n",
       "      <td>&lt; 1 Year</td>\n",
       "      <td>No</td>\n",
       "      <td>27496.0</td>\n",
       "      <td>152.0</td>\n",
       "      <td>39</td>\n",
       "      <td>0</td>\n",
       "    </tr>\n",
       "  </tbody>\n",
       "</table>\n",
       "</div>"
      ],
      "text/plain": [
       "   id  Gender  Age  Driving_License  Region_Code  Previously_Insured  \\\n",
       "0   1    Male   44                1         28.0                   0   \n",
       "1   2    Male   76                1          3.0                   0   \n",
       "2   3    Male   47                1         28.0                   0   \n",
       "3   4    Male   21                1         11.0                   1   \n",
       "4   5  Female   29                1         41.0                   1   \n",
       "\n",
       "  Vehicle_Age Vehicle_Damage  Annual_Premium  Policy_Sales_Channel  Vintage  \\\n",
       "0   > 2 Years            Yes         40454.0                  26.0      217   \n",
       "1    1-2 Year             No         33536.0                  26.0      183   \n",
       "2   > 2 Years            Yes         38294.0                  26.0       27   \n",
       "3    < 1 Year             No         28619.0                 152.0      203   \n",
       "4    < 1 Year             No         27496.0                 152.0       39   \n",
       "\n",
       "   Response  \n",
       "0         1  \n",
       "1         0  \n",
       "2         1  \n",
       "3         0  \n",
       "4         0  "
      ]
     },
     "execution_count": 3,
     "metadata": {},
     "output_type": "execute_result"
    }
   ],
   "source": [
    "train.head()"
   ]
  },
  {
   "cell_type": "code",
   "execution_count": 4,
   "metadata": {},
   "outputs": [
    {
     "name": "stdout",
     "output_type": "stream",
     "text": [
      "<class 'pandas.core.frame.DataFrame'>\n",
      "RangeIndex: 381109 entries, 0 to 381108\n",
      "Data columns (total 12 columns):\n",
      " #   Column                Non-Null Count   Dtype  \n",
      "---  ------                --------------   -----  \n",
      " 0   id                    381109 non-null  int64  \n",
      " 1   Gender                381109 non-null  object \n",
      " 2   Age                   381109 non-null  int64  \n",
      " 3   Driving_License       381109 non-null  int64  \n",
      " 4   Region_Code           381109 non-null  float64\n",
      " 5   Previously_Insured    381109 non-null  int64  \n",
      " 6   Vehicle_Age           381109 non-null  object \n",
      " 7   Vehicle_Damage        381109 non-null  object \n",
      " 8   Annual_Premium        381109 non-null  float64\n",
      " 9   Policy_Sales_Channel  381109 non-null  float64\n",
      " 10  Vintage               381109 non-null  int64  \n",
      " 11  Response              381109 non-null  int64  \n",
      "dtypes: float64(3), int64(6), object(3)\n",
      "memory usage: 34.9+ MB\n"
     ]
    }
   ],
   "source": [
    "train.info()"
   ]
  },
  {
   "cell_type": "code",
   "execution_count": 5,
   "metadata": {},
   "outputs": [
    {
     "data": {
      "text/html": [
       "<div>\n",
       "<style scoped>\n",
       "    .dataframe tbody tr th:only-of-type {\n",
       "        vertical-align: middle;\n",
       "    }\n",
       "\n",
       "    .dataframe tbody tr th {\n",
       "        vertical-align: top;\n",
       "    }\n",
       "\n",
       "    .dataframe thead th {\n",
       "        text-align: right;\n",
       "    }\n",
       "</style>\n",
       "<table border=\"1\" class=\"dataframe\">\n",
       "  <thead>\n",
       "    <tr style=\"text-align: right;\">\n",
       "      <th></th>\n",
       "      <th>id</th>\n",
       "      <th>Age</th>\n",
       "      <th>Driving_License</th>\n",
       "      <th>Region_Code</th>\n",
       "      <th>Previously_Insured</th>\n",
       "      <th>Annual_Premium</th>\n",
       "      <th>Policy_Sales_Channel</th>\n",
       "      <th>Vintage</th>\n",
       "      <th>Response</th>\n",
       "    </tr>\n",
       "  </thead>\n",
       "  <tbody>\n",
       "    <tr>\n",
       "      <th>count</th>\n",
       "      <td>381109.000000</td>\n",
       "      <td>381109.000000</td>\n",
       "      <td>381109.000000</td>\n",
       "      <td>381109.000000</td>\n",
       "      <td>381109.000000</td>\n",
       "      <td>381109.000000</td>\n",
       "      <td>381109.000000</td>\n",
       "      <td>381109.000000</td>\n",
       "      <td>381109.000000</td>\n",
       "    </tr>\n",
       "    <tr>\n",
       "      <th>mean</th>\n",
       "      <td>190555.000000</td>\n",
       "      <td>38.822584</td>\n",
       "      <td>0.997869</td>\n",
       "      <td>26.388807</td>\n",
       "      <td>0.458210</td>\n",
       "      <td>30564.389581</td>\n",
       "      <td>112.034295</td>\n",
       "      <td>154.347397</td>\n",
       "      <td>0.122563</td>\n",
       "    </tr>\n",
       "    <tr>\n",
       "      <th>std</th>\n",
       "      <td>110016.836208</td>\n",
       "      <td>15.511611</td>\n",
       "      <td>0.046110</td>\n",
       "      <td>13.229888</td>\n",
       "      <td>0.498251</td>\n",
       "      <td>17213.155057</td>\n",
       "      <td>54.203995</td>\n",
       "      <td>83.671304</td>\n",
       "      <td>0.327936</td>\n",
       "    </tr>\n",
       "    <tr>\n",
       "      <th>min</th>\n",
       "      <td>1.000000</td>\n",
       "      <td>20.000000</td>\n",
       "      <td>0.000000</td>\n",
       "      <td>0.000000</td>\n",
       "      <td>0.000000</td>\n",
       "      <td>2630.000000</td>\n",
       "      <td>1.000000</td>\n",
       "      <td>10.000000</td>\n",
       "      <td>0.000000</td>\n",
       "    </tr>\n",
       "    <tr>\n",
       "      <th>25%</th>\n",
       "      <td>95278.000000</td>\n",
       "      <td>25.000000</td>\n",
       "      <td>1.000000</td>\n",
       "      <td>15.000000</td>\n",
       "      <td>0.000000</td>\n",
       "      <td>24405.000000</td>\n",
       "      <td>29.000000</td>\n",
       "      <td>82.000000</td>\n",
       "      <td>0.000000</td>\n",
       "    </tr>\n",
       "    <tr>\n",
       "      <th>50%</th>\n",
       "      <td>190555.000000</td>\n",
       "      <td>36.000000</td>\n",
       "      <td>1.000000</td>\n",
       "      <td>28.000000</td>\n",
       "      <td>0.000000</td>\n",
       "      <td>31669.000000</td>\n",
       "      <td>133.000000</td>\n",
       "      <td>154.000000</td>\n",
       "      <td>0.000000</td>\n",
       "    </tr>\n",
       "    <tr>\n",
       "      <th>75%</th>\n",
       "      <td>285832.000000</td>\n",
       "      <td>49.000000</td>\n",
       "      <td>1.000000</td>\n",
       "      <td>35.000000</td>\n",
       "      <td>1.000000</td>\n",
       "      <td>39400.000000</td>\n",
       "      <td>152.000000</td>\n",
       "      <td>227.000000</td>\n",
       "      <td>0.000000</td>\n",
       "    </tr>\n",
       "    <tr>\n",
       "      <th>max</th>\n",
       "      <td>381109.000000</td>\n",
       "      <td>85.000000</td>\n",
       "      <td>1.000000</td>\n",
       "      <td>52.000000</td>\n",
       "      <td>1.000000</td>\n",
       "      <td>540165.000000</td>\n",
       "      <td>163.000000</td>\n",
       "      <td>299.000000</td>\n",
       "      <td>1.000000</td>\n",
       "    </tr>\n",
       "  </tbody>\n",
       "</table>\n",
       "</div>"
      ],
      "text/plain": [
       "                  id            Age  Driving_License    Region_Code  \\\n",
       "count  381109.000000  381109.000000    381109.000000  381109.000000   \n",
       "mean   190555.000000      38.822584         0.997869      26.388807   \n",
       "std    110016.836208      15.511611         0.046110      13.229888   \n",
       "min         1.000000      20.000000         0.000000       0.000000   \n",
       "25%     95278.000000      25.000000         1.000000      15.000000   \n",
       "50%    190555.000000      36.000000         1.000000      28.000000   \n",
       "75%    285832.000000      49.000000         1.000000      35.000000   \n",
       "max    381109.000000      85.000000         1.000000      52.000000   \n",
       "\n",
       "       Previously_Insured  Annual_Premium  Policy_Sales_Channel  \\\n",
       "count       381109.000000   381109.000000         381109.000000   \n",
       "mean             0.458210    30564.389581            112.034295   \n",
       "std              0.498251    17213.155057             54.203995   \n",
       "min              0.000000     2630.000000              1.000000   \n",
       "25%              0.000000    24405.000000             29.000000   \n",
       "50%              0.000000    31669.000000            133.000000   \n",
       "75%              1.000000    39400.000000            152.000000   \n",
       "max              1.000000   540165.000000            163.000000   \n",
       "\n",
       "             Vintage       Response  \n",
       "count  381109.000000  381109.000000  \n",
       "mean      154.347397       0.122563  \n",
       "std        83.671304       0.327936  \n",
       "min        10.000000       0.000000  \n",
       "25%        82.000000       0.000000  \n",
       "50%       154.000000       0.000000  \n",
       "75%       227.000000       0.000000  \n",
       "max       299.000000       1.000000  "
      ]
     },
     "execution_count": 5,
     "metadata": {},
     "output_type": "execute_result"
    }
   ],
   "source": [
    "train.describe()"
   ]
  },
  {
   "cell_type": "code",
   "execution_count": 6,
   "metadata": {},
   "outputs": [
    {
     "data": {
      "text/plain": [
       "id                      0\n",
       "Gender                  0\n",
       "Age                     0\n",
       "Driving_License         0\n",
       "Region_Code             0\n",
       "Previously_Insured      0\n",
       "Vehicle_Age             0\n",
       "Vehicle_Damage          0\n",
       "Annual_Premium          0\n",
       "Policy_Sales_Channel    0\n",
       "Vintage                 0\n",
       "Response                0\n",
       "dtype: int64"
      ]
     },
     "execution_count": 6,
     "metadata": {},
     "output_type": "execute_result"
    }
   ],
   "source": [
    "train.isnull().sum()"
   ]
  },
  {
   "cell_type": "code",
   "execution_count": 7,
   "metadata": {},
   "outputs": [
    {
     "data": {
      "text/plain": [
       "id                      9.443274e-16\n",
       "Age                     6.725390e-01\n",
       "Driving_License        -2.159518e+01\n",
       "Region_Code            -1.152664e-01\n",
       "Previously_Insured      1.677471e-01\n",
       "Annual_Premium          1.766087e+00\n",
       "Policy_Sales_Channel   -9.000081e-01\n",
       "Vintage                 3.029517e-03\n",
       "Response                2.301906e+00\n",
       "dtype: float64"
      ]
     },
     "execution_count": 7,
     "metadata": {},
     "output_type": "execute_result"
    }
   ],
   "source": [
    "train.skew()"
   ]
  },
  {
   "cell_type": "code",
   "execution_count": 8,
   "metadata": {},
   "outputs": [
    {
     "data": {
      "text/plain": [
       "id                        int64\n",
       "Gender                   object\n",
       "Age                       int64\n",
       "Driving_License           int64\n",
       "Region_Code             float64\n",
       "Previously_Insured        int64\n",
       "Vehicle_Age              object\n",
       "Vehicle_Damage           object\n",
       "Annual_Premium          float64\n",
       "Policy_Sales_Channel    float64\n",
       "Vintage                   int64\n",
       "Response                  int64\n",
       "dtype: object"
      ]
     },
     "execution_count": 8,
     "metadata": {},
     "output_type": "execute_result"
    }
   ],
   "source": [
    "train.dtypes"
   ]
  },
  {
   "cell_type": "code",
   "execution_count": 9,
   "metadata": {},
   "outputs": [],
   "source": [
    "all_features = pd.concat([train.drop(['id','Response'],axis=1),test.drop('id',axis=1)],axis=0)\n",
    "y = train['Response']"
   ]
  },
  {
   "cell_type": "markdown",
   "metadata": {},
   "source": [
    "Let's combine the train and test set so our transformations are easier as we don't have to apply them seperately to each set"
   ]
  },
  {
   "cell_type": "markdown",
   "metadata": {},
   "source": [
    "<h1 align='center'>Categorical Features Data Analysis</h1>"
   ]
  },
  {
   "cell_type": "code",
   "execution_count": 10,
   "metadata": {},
   "outputs": [
    {
     "data": {
      "text/plain": [
       "0    334399\n",
       "1     46710\n",
       "Name: Response, dtype: int64"
      ]
     },
     "execution_count": 10,
     "metadata": {},
     "output_type": "execute_result"
    }
   ],
   "source": [
    "train['Response'].value_counts()"
   ]
  },
  {
   "cell_type": "code",
   "execution_count": 11,
   "metadata": {},
   "outputs": [
    {
     "data": {
      "image/png": "[encoded data removed]",
      "text/plain": [
       "<Figure size 432x288 with 1 Axes>"
      ]
     },
     "metadata": {},
     "output_type": "display_data"
    }
   ],
   "source": [
    "fig1, ax1 = plt.subplots()\n",
    "ax1.pie(train['Response'].value_counts(), labels=['Not Interested','Interested'], autopct='%1.1f%%')\n",
    "plt.show()"
   ]
  },
  {
   "cell_type": "code",
   "execution_count": 12,
   "metadata": {},
   "outputs": [],
   "source": [
    "#fig = px.pie(train,values=train['Response'].value_counts(),names=['Class 0','Class 1'],hole=0.6,labels={0:'Response = 0'},color_discrete_sequence=px.colors.sequential.Sunset)\n",
    "#fig.show(showlegend=True)\n",
    "#plt.show()"
   ]
  },
  {
   "cell_type": "code",
   "execution_count": 13,
   "metadata": {},
   "outputs": [],
   "source": [
    "#fig = px.pie(train,values=train['Response'].value_counts(),names=['Class 0','Class 1'],hole=0.6,labels={0:'Response = 0'},color_discrete_sequence=px.colors.sequential.Sunset)\n",
    "#fig.show(showlegend=True)"
   ]
  },
  {
   "cell_type": "code",
   "execution_count": 14,
   "metadata": {},
   "outputs": [
    {
     "name": "stderr",
     "output_type": "stream",
     "text": [
      "/opt/miniconda3/lib/python3.7/site-packages/seaborn/_decorators.py:43: FutureWarning: Pass the following variable as a keyword arg: x. From version 0.12, the only valid positional argument will be `data`, and passing other arguments without an explicit keyword will result in an error or misinterpretation.\n",
      "  FutureWarning\n"
     ]
    },
    {
     "data": {
      "image/png": "[encoded data removed]",
      "text/plain": [
       "<Figure size 432x288 with 1 Axes>"
      ]
     },
     "metadata": {},
     "output_type": "display_data"
    }
   ],
   "source": [
    "sns.countplot(train['Response'])\n",
    "plt.show()"
   ]
  },
  {
   "cell_type": "markdown",
   "metadata": {},
   "source": [
    "We can see from the above visualisations that:\n",
    "\n",
    "* The Data is highly imbalanced, with 87.7% belonging to Class 0 and 12.3% belonging to Class 1. We will use both UnderSampling and OverSampling to balance the data out equally"
   ]
  },
  {
   "cell_type": "code",
   "execution_count": 15,
   "metadata": {},
   "outputs": [
    {
     "name": "stderr",
     "output_type": "stream",
     "text": [
      "/opt/miniconda3/lib/python3.7/site-packages/seaborn/_decorators.py:43: FutureWarning: Pass the following variables as keyword args: x, y. From version 0.12, the only valid positional argument will be `data`, and passing other arguments without an explicit keyword will result in an error or misinterpretation.\n",
      "  FutureWarning\n"
     ]
    },
    {
     "data": {
      "image/png": "[encoded data removed]",
      "text/plain": [
       "<Figure size 432x288 with 1 Axes>"
      ]
     },
     "metadata": {},
     "output_type": "display_data"
    }
   ],
   "source": [
    "sns.barplot(train['Driving_License'],train['Response'])\n",
    "plt.show()"
   ]
  },
  {
   "cell_type": "markdown",
   "metadata": {},
   "source": [
    "Here, we can see that people who have the a driving license are more likely to be interested in getting insurance"
   ]
  },
  {
   "cell_type": "code",
   "execution_count": 16,
   "metadata": {},
   "outputs": [
    {
     "name": "stderr",
     "output_type": "stream",
     "text": [
      "/opt/miniconda3/lib/python3.7/site-packages/seaborn/_decorators.py:43: FutureWarning: Pass the following variables as keyword args: x, y. From version 0.12, the only valid positional argument will be `data`, and passing other arguments without an explicit keyword will result in an error or misinterpretation.\n",
      "  FutureWarning\n"
     ]
    },
    {
     "data": {
      "image/png": "[encoded data removed]",
      "text/plain": [
       "<Figure size 432x288 with 1 Axes>"
      ]
     },
     "metadata": {},
     "output_type": "display_data"
    }
   ],
   "source": [
    "sns.barplot(train['Previously_Insured'],train['Response'])\n",
    "plt.show()"
   ]
  },
  {
   "cell_type": "markdown",
   "metadata": {},
   "source": [
    "Now,we see that people who are not previously insured are more likely to be interested in getting insurance, as one does not want to pay for multiple insurances"
   ]
  },
  {
   "cell_type": "code",
   "execution_count": 17,
   "metadata": {},
   "outputs": [
    {
     "name": "stderr",
     "output_type": "stream",
     "text": [
      "/opt/miniconda3/lib/python3.7/site-packages/seaborn/_decorators.py:43: FutureWarning: Pass the following variables as keyword args: x, y. From version 0.12, the only valid positional argument will be `data`, and passing other arguments without an explicit keyword will result in an error or misinterpretation.\n",
      "  FutureWarning\n"
     ]
    },
    {
     "data": {
      "image/png": "[encoded data removed]",
      "text/plain": [
       "<Figure size 432x288 with 1 Axes>"
      ]
     },
     "metadata": {},
     "output_type": "display_data"
    }
   ],
   "source": [
    "sns.barplot(train['Vehicle_Damage'],train['Response'])\n",
    "plt.show()"
   ]
  },
  {
   "cell_type": "markdown",
   "metadata": {},
   "source": [
    "People with vehicle damage are also more likely to be interested in getting insurance, which is self-explanatory"
   ]
  },
  {
   "cell_type": "code",
   "execution_count": 18,
   "metadata": {},
   "outputs": [
    {
     "name": "stderr",
     "output_type": "stream",
     "text": [
      "/opt/miniconda3/lib/python3.7/site-packages/seaborn/_decorators.py:43: FutureWarning: Pass the following variables as keyword args: x, y. From version 0.12, the only valid positional argument will be `data`, and passing other arguments without an explicit keyword will result in an error or misinterpretation.\n",
      "  FutureWarning\n"
     ]
    },
    {
     "data": {
      "image/png": "[encoded data removed]",
      "text/plain": [
       "<Figure size 432x288 with 1 Axes>"
      ]
     },
     "metadata": {},
     "output_type": "display_data"
    }
   ],
   "source": [
    "sns.barplot(train['Vehicle_Age'],train['Response'])\n",
    "plt.show()"
   ]
  },
  {
   "cell_type": "markdown",
   "metadata": {},
   "source": [
    "Here we see that people with older Vehicles are more likely to be interested. This is obvious, as the longer a vehicle is on the road, the more likely it is to have problems and issues as oppose to new cars"
   ]
  },
  {
   "cell_type": "code",
   "execution_count": 19,
   "metadata": {},
   "outputs": [
    {
     "name": "stderr",
     "output_type": "stream",
     "text": [
      "/opt/miniconda3/lib/python3.7/site-packages/seaborn/_decorators.py:43: FutureWarning: Pass the following variables as keyword args: x, y. From version 0.12, the only valid positional argument will be `data`, and passing other arguments without an explicit keyword will result in an error or misinterpretation.\n",
      "  FutureWarning\n"
     ]
    },
    {
     "data": {
      "image/png": "[encoded data removed]",
      "text/plain": [
       "<Figure size 432x288 with 1 Axes>"
      ]
     },
     "metadata": {},
     "output_type": "display_data"
    }
   ],
   "source": [
    "sns.barplot(train['Gender'],train['Response'])\n",
    "plt.show()"
   ]
  },
  {
   "cell_type": "markdown",
   "metadata": {},
   "source": [
    "Males are more likely to be interested in getting insured. This could be due to many possible reasons, but one could be just that more males in the dataset."
   ]
  },
  {
   "cell_type": "code",
   "execution_count": 20,
   "metadata": {},
   "outputs": [
    {
     "name": "stderr",
     "output_type": "stream",
     "text": [
      "/opt/miniconda3/lib/python3.7/site-packages/seaborn/_decorators.py:43: FutureWarning: Pass the following variables as keyword args: x, y. From version 0.12, the only valid positional argument will be `data`, and passing other arguments without an explicit keyword will result in an error or misinterpretation.\n",
      "  FutureWarning\n"
     ]
    },
    {
     "data": {
      "image/png": "[encoded data removed]",
      "text/plain": [
       "<Figure size 1440x720 with 1 Axes>"
      ]
     },
     "metadata": {},
     "output_type": "display_data"
    }
   ],
   "source": [
    "plt.figure(figsize=(20,10))\n",
    "sns.barplot(train['Age'],train['Response'])\n",
    "plt.show()"
   ]
  },
  {
   "cell_type": "markdown",
   "metadata": {},
   "source": [
    "In this visualisation, we see what ages are more likely to be interested in insurance. We see the following things:\n",
    "1. Ages between 20-27 are not very interested in getting insured. This can be because insurance is not their main priority, and they probably cannot afford it as they are most likely students\n",
    "2. Ages 30-55 are more interested in getting insured, as they use the car on a day to day basis to travel for work, so they are more in need to repairs \n",
    "3. Age 65+ are less likely to be interested in insurance as this is the retirment age and they do not have a need for a car any more, let alone insurance"
   ]
  },
  {
   "cell_type": "code",
   "execution_count": 21,
   "metadata": {},
   "outputs": [
    {
     "name": "stderr",
     "output_type": "stream",
     "text": [
      "/opt/miniconda3/lib/python3.7/site-packages/seaborn/_decorators.py:43: FutureWarning: Pass the following variable as a keyword arg: x. From version 0.12, the only valid positional argument will be `data`, and passing other arguments without an explicit keyword will result in an error or misinterpretation.\n",
      "  FutureWarning\n"
     ]
    },
    {
     "data": {
      "image/png": "[encoded data removed]",
      "text/plain": [
       "<Figure size 432x288 with 1 Axes>"
      ]
     },
     "metadata": {},
     "output_type": "display_data"
    }
   ],
   "source": [
    "sns.boxplot(train['Age'])\n",
    "plt.show()"
   ]
  },
  {
   "cell_type": "markdown",
   "metadata": {},
   "source": [
    "The reason for this boxplot was to see if there was any outliers(in this case, any extreme cases or accidental ages, e.g a 5 year old interested in insurance!)"
   ]
  },
  {
   "cell_type": "code",
   "execution_count": 22,
   "metadata": {},
   "outputs": [],
   "source": [
    "bins = [20, 30, 40, 50, 60, 70,90]\n",
    "labels = ['20-27', '28-39', '40-49', '50-59', '60-69', '70+']\n",
    "age_categories = pd.cut(train['Age'], bins, labels = labels,include_lowest = True)"
   ]
  },
  {
   "cell_type": "code",
   "execution_count": 23,
   "metadata": {},
   "outputs": [
    {
     "name": "stderr",
     "output_type": "stream",
     "text": [
      "/opt/miniconda3/lib/python3.7/site-packages/seaborn/_decorators.py:43: FutureWarning: Pass the following variables as keyword args: x, y. From version 0.12, the only valid positional argument will be `data`, and passing other arguments without an explicit keyword will result in an error or misinterpretation.\n",
      "  FutureWarning\n"
     ]
    },
    {
     "data": {
      "image/png": "[encoded data removed]",
      "text/plain": [
       "<Figure size 432x288 with 1 Axes>"
      ]
     },
     "metadata": {},
     "output_type": "display_data"
    }
   ],
   "source": [
    "sns.barplot(age_categories,train['Response'])\n",
    "plt.show()"
   ]
  },
  {
   "cell_type": "markdown",
   "metadata": {},
   "source": [
    "After splitting the ages into 6 groups, we see that this visualisation confirms our observations from before; the main age groups interested in getting insurance are between 28-50."
   ]
  },
  {
   "cell_type": "markdown",
   "metadata": {},
   "source": [
    "<h1 align='center'>Numerical Features Data Analysis</h1>"
   ]
  },
  {
   "cell_type": "code",
   "execution_count": 24,
   "metadata": {},
   "outputs": [
    {
     "name": "stderr",
     "output_type": "stream",
     "text": [
      "/opt/miniconda3/lib/python3.7/site-packages/seaborn/_decorators.py:43: FutureWarning: Pass the following variable as a keyword arg: x. From version 0.12, the only valid positional argument will be `data`, and passing other arguments without an explicit keyword will result in an error or misinterpretation.\n",
      "  FutureWarning\n"
     ]
    },
    {
     "data": {
      "image/png": "[encoded data removed]",
      "text/plain": [
       "<Figure size 432x288 with 1 Axes>"
      ]
     },
     "metadata": {},
     "output_type": "display_data"
    }
   ],
   "source": [
    "sns.boxplot(train['Annual_Premium'])\n",
    "plt.show()"
   ]
  },
  {
   "cell_type": "markdown",
   "metadata": {},
   "source": [
    "We see that Annual Premium has a wide varietly of values"
   ]
  },
  {
   "cell_type": "code",
   "execution_count": 25,
   "metadata": {},
   "outputs": [
    {
     "name": "stderr",
     "output_type": "stream",
     "text": [
      "/opt/miniconda3/lib/python3.7/site-packages/seaborn/distributions.py:2551: FutureWarning: `distplot` is a deprecated function and will be removed in a future version. Please adapt your code to use either `displot` (a figure-level function with similar flexibility) or `histplot` (an axes-level function for histograms).\n",
      "  warnings.warn(msg, FutureWarning)\n"
     ]
    },
    {
     "data": {
      "image/png": "[encoded data removed]",
      "text/plain": [
       "<Figure size 432x288 with 1 Axes>"
      ]
     },
     "metadata": {},
     "output_type": "display_data"
    }
   ],
   "source": [
    "g = sns.distplot(train['Annual_Premium'],label='Skewness: '+str(round(train['Annual_Premium'].skew(),4)))\n",
    "g = g.legend(loc='best')\n",
    "plt.show()"
   ]
  },
  {
   "cell_type": "markdown",
   "metadata": {},
   "source": [
    "Annual Premium is also skewed. We might try a log or square root transformation to mitigate the skewness"
   ]
  },
  {
   "cell_type": "code",
   "execution_count": 26,
   "metadata": {},
   "outputs": [
    {
     "data": {
      "image/png": "[encoded data removed]",
      "text/plain": [
       "<Figure size 720x720 with 2 Axes>"
      ]
     },
     "metadata": {},
     "output_type": "display_data"
    }
   ],
   "source": [
    "plt.figure(figsize=(10,10))\n",
    "sns.heatmap(train.corr(),annot=True,cmap='rainbow')\n",
    "plt.show()"
   ]
  },
  {
   "cell_type": "markdown",
   "metadata": {},
   "source": [
    "<h1 align='center'>Feature Preprocessing</h1>"
   ]
  },
  {
   "cell_type": "markdown",
   "metadata": {},
   "source": [
    "Here we plot a correlation heatmap and see that there is no strong correlation between any feautures and the target feature"
   ]
  },
  {
   "cell_type": "code",
   "execution_count": 27,
   "metadata": {},
   "outputs": [
    {
     "data": {
      "text/html": [
       "<div>\n",
       "<style scoped>\n",
       "    .dataframe tbody tr th:only-of-type {\n",
       "        vertical-align: middle;\n",
       "    }\n",
       "\n",
       "    .dataframe tbody tr th {\n",
       "        vertical-align: top;\n",
       "    }\n",
       "\n",
       "    .dataframe thead th {\n",
       "        text-align: right;\n",
       "    }\n",
       "</style>\n",
       "<table border=\"1\" class=\"dataframe\">\n",
       "  <thead>\n",
       "    <tr style=\"text-align: right;\">\n",
       "      <th></th>\n",
       "      <th>Gender</th>\n",
       "      <th>Age</th>\n",
       "      <th>Driving_License</th>\n",
       "      <th>Region_Code</th>\n",
       "      <th>Previously_Insured</th>\n",
       "      <th>Vehicle_Age</th>\n",
       "      <th>Vehicle_Damage</th>\n",
       "      <th>Annual_Premium</th>\n",
       "      <th>Policy_Sales_Channel</th>\n",
       "      <th>Vintage</th>\n",
       "    </tr>\n",
       "  </thead>\n",
       "  <tbody>\n",
       "    <tr>\n",
       "      <th>0</th>\n",
       "      <td>1</td>\n",
       "      <td>44</td>\n",
       "      <td>1</td>\n",
       "      <td>28.0</td>\n",
       "      <td>0</td>\n",
       "      <td>2</td>\n",
       "      <td>1</td>\n",
       "      <td>40454.0</td>\n",
       "      <td>26.0</td>\n",
       "      <td>217</td>\n",
       "    </tr>\n",
       "    <tr>\n",
       "      <th>1</th>\n",
       "      <td>1</td>\n",
       "      <td>76</td>\n",
       "      <td>1</td>\n",
       "      <td>3.0</td>\n",
       "      <td>0</td>\n",
       "      <td>1</td>\n",
       "      <td>0</td>\n",
       "      <td>33536.0</td>\n",
       "      <td>26.0</td>\n",
       "      <td>183</td>\n",
       "    </tr>\n",
       "    <tr>\n",
       "      <th>2</th>\n",
       "      <td>1</td>\n",
       "      <td>47</td>\n",
       "      <td>1</td>\n",
       "      <td>28.0</td>\n",
       "      <td>0</td>\n",
       "      <td>2</td>\n",
       "      <td>1</td>\n",
       "      <td>38294.0</td>\n",
       "      <td>26.0</td>\n",
       "      <td>27</td>\n",
       "    </tr>\n",
       "    <tr>\n",
       "      <th>3</th>\n",
       "      <td>1</td>\n",
       "      <td>21</td>\n",
       "      <td>1</td>\n",
       "      <td>11.0</td>\n",
       "      <td>1</td>\n",
       "      <td>0</td>\n",
       "      <td>0</td>\n",
       "      <td>28619.0</td>\n",
       "      <td>152.0</td>\n",
       "      <td>203</td>\n",
       "    </tr>\n",
       "    <tr>\n",
       "      <th>4</th>\n",
       "      <td>0</td>\n",
       "      <td>29</td>\n",
       "      <td>1</td>\n",
       "      <td>41.0</td>\n",
       "      <td>1</td>\n",
       "      <td>0</td>\n",
       "      <td>0</td>\n",
       "      <td>27496.0</td>\n",
       "      <td>152.0</td>\n",
       "      <td>39</td>\n",
       "    </tr>\n",
       "    <tr>\n",
       "      <th>...</th>\n",
       "      <td>...</td>\n",
       "      <td>...</td>\n",
       "      <td>...</td>\n",
       "      <td>...</td>\n",
       "      <td>...</td>\n",
       "      <td>...</td>\n",
       "      <td>...</td>\n",
       "      <td>...</td>\n",
       "      <td>...</td>\n",
       "      <td>...</td>\n",
       "    </tr>\n",
       "    <tr>\n",
       "      <th>127032</th>\n",
       "      <td>0</td>\n",
       "      <td>26</td>\n",
       "      <td>1</td>\n",
       "      <td>37.0</td>\n",
       "      <td>1</td>\n",
       "      <td>0</td>\n",
       "      <td>0</td>\n",
       "      <td>30867.0</td>\n",
       "      <td>152.0</td>\n",
       "      <td>56</td>\n",
       "    </tr>\n",
       "    <tr>\n",
       "      <th>127033</th>\n",
       "      <td>0</td>\n",
       "      <td>38</td>\n",
       "      <td>1</td>\n",
       "      <td>28.0</td>\n",
       "      <td>0</td>\n",
       "      <td>1</td>\n",
       "      <td>1</td>\n",
       "      <td>28700.0</td>\n",
       "      <td>122.0</td>\n",
       "      <td>165</td>\n",
       "    </tr>\n",
       "    <tr>\n",
       "      <th>127034</th>\n",
       "      <td>1</td>\n",
       "      <td>21</td>\n",
       "      <td>1</td>\n",
       "      <td>46.0</td>\n",
       "      <td>1</td>\n",
       "      <td>0</td>\n",
       "      <td>0</td>\n",
       "      <td>29802.0</td>\n",
       "      <td>152.0</td>\n",
       "      <td>74</td>\n",
       "    </tr>\n",
       "    <tr>\n",
       "      <th>127035</th>\n",
       "      <td>1</td>\n",
       "      <td>71</td>\n",
       "      <td>1</td>\n",
       "      <td>28.0</td>\n",
       "      <td>1</td>\n",
       "      <td>1</td>\n",
       "      <td>0</td>\n",
       "      <td>62875.0</td>\n",
       "      <td>26.0</td>\n",
       "      <td>265</td>\n",
       "    </tr>\n",
       "    <tr>\n",
       "      <th>127036</th>\n",
       "      <td>1</td>\n",
       "      <td>41</td>\n",
       "      <td>1</td>\n",
       "      <td>29.0</td>\n",
       "      <td>1</td>\n",
       "      <td>1</td>\n",
       "      <td>0</td>\n",
       "      <td>27927.0</td>\n",
       "      <td>124.0</td>\n",
       "      <td>231</td>\n",
       "    </tr>\n",
       "  </tbody>\n",
       "</table>\n",
       "<p>508146 rows × 10 columns</p>\n",
       "</div>"
      ],
      "text/plain": [
       "        Gender  Age  Driving_License  Region_Code  Previously_Insured  \\\n",
       "0            1   44                1         28.0                   0   \n",
       "1            1   76                1          3.0                   0   \n",
       "2            1   47                1         28.0                   0   \n",
       "3            1   21                1         11.0                   1   \n",
       "4            0   29                1         41.0                   1   \n",
       "...        ...  ...              ...          ...                 ...   \n",
       "127032       0   26                1         37.0                   1   \n",
       "127033       0   38                1         28.0                   0   \n",
       "127034       1   21                1         46.0                   1   \n",
       "127035       1   71                1         28.0                   1   \n",
       "127036       1   41                1         29.0                   1   \n",
       "\n",
       "        Vehicle_Age  Vehicle_Damage  Annual_Premium  Policy_Sales_Channel  \\\n",
       "0                 2               1         40454.0                  26.0   \n",
       "1                 1               0         33536.0                  26.0   \n",
       "2                 2               1         38294.0                  26.0   \n",
       "3                 0               0         28619.0                 152.0   \n",
       "4                 0               0         27496.0                 152.0   \n",
       "...             ...             ...             ...                   ...   \n",
       "127032            0               0         30867.0                 152.0   \n",
       "127033            1               1         28700.0                 122.0   \n",
       "127034            0               0         29802.0                 152.0   \n",
       "127035            1               0         62875.0                  26.0   \n",
       "127036            1               0         27927.0                 124.0   \n",
       "\n",
       "        Vintage  \n",
       "0           217  \n",
       "1           183  \n",
       "2            27  \n",
       "3           203  \n",
       "4            39  \n",
       "...         ...  \n",
       "127032       56  \n",
       "127033      165  \n",
       "127034       74  \n",
       "127035      265  \n",
       "127036      231  \n",
       "\n",
       "[508146 rows x 10 columns]"
      ]
     },
     "execution_count": 27,
     "metadata": {},
     "output_type": "execute_result"
    }
   ],
   "source": [
    "all_features['Vehicle_Age'] = all_features['Vehicle_Age'].map({'> 2 Years':2,'1-2 Year':1,'< 1 Year':0})\n",
    "all_features['Vehicle_Damage'] = all_features['Vehicle_Damage'].map({'Yes':1,'No':0})\n",
    "all_features['Gender'] = all_features['Gender'].map({'Male':1,'Female':0}) \n",
    "all_features"
   ]
  },
  {
   "cell_type": "markdown",
   "metadata": {},
   "source": [
    "Here we just map categorical values to their appropriate numerical counterparts"
   ]
  },
  {
   "cell_type": "markdown",
   "metadata": {},
   "source": [
    "<h1 align='center'>Modelling</h1>"
   ]
  },
  {
   "cell_type": "code",
   "execution_count": 28,
   "metadata": {},
   "outputs": [],
   "source": [
    "X = all_features.iloc[:len(train),:]\n",
    "X_test = all_features.iloc[len(train):,:]\n",
    "\n",
    "kf = StratifiedKFold(n_splits=12,shuffle=True,random_state=42)"
   ]
  },
  {
   "cell_type": "markdown",
   "metadata": {},
   "source": [
    "We define resplit our train and test set, and set up 12 Fold Stratified Cross Validation. It is important to stratify as this ensures that during our training and validation, we split according to target distribution"
   ]
  },
  {
   "cell_type": "code",
   "execution_count": 29,
   "metadata": {},
   "outputs": [],
   "source": [
    "for train_index,val_index in kf.split(X,y):\n",
    "    X_train,X_val = X.iloc[train_index],X.iloc[val_index],\n",
    "    y_train,y_val = y.iloc[train_index],y.iloc[val_index],"
   ]
  },
  {
   "cell_type": "code",
   "execution_count": 31,
   "metadata": {},
   "outputs": [
    {
     "name": "stdout",
     "output_type": "stream",
     "text": [
      "(349350, 10)\n",
      "(31759, 10)\n",
      "(381109, 10)\n",
      "(381109,)\n"
     ]
    }
   ],
   "source": [
    "# MWB\n",
    "print(X_train.shape)\n",
    "print(X_val.shape)\n",
    "print(X.shape)\n",
    "print(y.shape)"
   ]
  },
  {
   "cell_type": "markdown",
   "metadata": {},
   "source": [
    "Here we define our validation set"
   ]
  },
  {
   "cell_type": "markdown",
   "metadata": {},
   "source": [
    "<h1 align='center'>Modelling Using Undersampling</h1>"
   ]
  },
  {
   "cell_type": "markdown",
   "metadata": {},
   "source": [
    "We will use `imblearn`'s RandomUnderSampler to undersample from the majority class so that they match"
   ]
  },
  {
   "cell_type": "code",
   "execution_count": 32,
   "metadata": {},
   "outputs": [],
   "source": [
    "rus = RandomOverSampler(random_state=42)\n",
    "X_rus,y_rus = rus.fit_sample(X_train,y_train)"
   ]
  },
  {
   "cell_type": "markdown",
   "metadata": {},
   "source": [
    "<h1 align='center'>Basic LightGBM</h1>"
   ]
  },
  {
   "cell_type": "markdown",
   "metadata": {},
   "source": [
    "Let's fit a vanilla LGBMClassifier on the undersampled data and evaluate it"
   ]
  },
  {
   "cell_type": "code",
   "execution_count": 33,
   "metadata": {},
   "outputs": [
    {
     "name": "stdout",
     "output_type": "stream",
     "text": [
      "              precision    recall  f1-score   support\n",
      "\n",
      "           0       0.99      0.67      0.80     27867\n",
      "           1       0.29      0.94      0.44      3892\n",
      "\n",
      "    accuracy                           0.71     31759\n",
      "   macro avg       0.64      0.81      0.62     31759\n",
      "weighted avg       0.90      0.71      0.76     31759\n",
      "\n",
      "ROC AUC Score: 0.8056953081092022\n"
     ]
    }
   ],
   "source": [
    "lgb_rus = LGBMClassifier(random_state=42)\n",
    "lgb_rus.fit(X_rus,y_rus)\n",
    "print(classification_report(y_val,lgb_rus.predict(X_val)))\n",
    "print('ROC AUC Score: ' + str(roc_auc_score(y_val,lgb_rus.predict(X_val))))"
   ]
  },
  {
   "cell_type": "code",
   "execution_count": 34,
   "metadata": {},
   "outputs": [
    {
     "name": "stdout",
     "output_type": "stream",
     "text": [
      "[[18799  9068]\n",
      " [  246  3646]]\n",
      "MCC = 0.4091840544881246\n"
     ]
    }
   ],
   "source": [
    "#MWB\n",
    "from sklearn.metrics import matthews_corrcoef\n",
    "y_pred = lgb_rus.predict(X_val)\n",
    "print(confusion_matrix(y_pred=y_pred, y_true=y_val))\n",
    "print(f'MCC = {matthews_corrcoef(y_pred=y_pred, y_true=y_val)}')"
   ]
  },
  {
   "cell_type": "code",
   "execution_count": 35,
   "metadata": {},
   "outputs": [
    {
     "data": {
      "image/png": "[encoded data removed]",
      "text/plain": [
       "<Figure size 432x288 with 2 Axes>"
      ]
     },
     "metadata": {},
     "output_type": "display_data"
    }
   ],
   "source": [
    "sns.heatmap(confusion_matrix(y_val,lgb_rus.predict(X_val)),cmap='magma',annot=True,fmt='g')\n",
    "plt.show()"
   ]
  },
  {
   "cell_type": "markdown",
   "metadata": {},
   "source": [
    "Our model did suprisingly well with default parameters, but not fantastic. Let's optimize"
   ]
  },
  {
   "cell_type": "markdown",
   "metadata": {},
   "source": [
    "<h1 align='center'>Hyperparameter Tuning</h1>"
   ]
  },
  {
   "cell_type": "code",
   "execution_count": 36,
   "metadata": {},
   "outputs": [
    {
     "name": "stderr",
     "output_type": "stream",
     "text": [
      "\u001b[32m[I 2021-11-29 15:58:35,086]\u001b[0m A new study created in memory with name: no-name-a9475f95-3c55-46f3-9382-408c667f8bb7\u001b[0m\n",
      "\u001b[32m[I 2021-11-29 15:58:44,371]\u001b[0m Trial 0 finished with value: 0.29900251581432613 and parameters: {'n_estimators': 250, 'num_leaves': 476, 'max_depth': 16, 'learning_rate': 0.5986986183486169, 'min_child_samples': 16}. Best is trial 0 with value: 0.29900251581432613.\u001b[0m\n",
      "\u001b[32m[I 2021-11-29 15:58:47,068]\u001b[0m Trial 1 finished with value: 0.39922090995664644 and parameters: {'n_estimators': 162, 'num_leaves': 38, 'max_depth': 18, 'learning_rate': 0.6011549002420344, 'min_child_samples': 39}. Best is trial 1 with value: 0.39922090995664644.\u001b[0m\n",
      "\u001b[32m[I 2021-11-29 15:58:50,998]\u001b[0m Trial 2 finished with value: 0.37826392208329274 and parameters: {'n_estimators': 108, 'num_leaves': 486, 'max_depth': 18, 'learning_rate': 0.21241787676720833, 'min_child_samples': 17}. Best is trial 1 with value: 0.39922090995664644.\u001b[0m\n",
      "\u001b[32m[I 2021-11-29 15:58:55,238]\u001b[0m Trial 3 finished with value: 0.3724873577842669 and parameters: {'n_estimators': 173, 'num_leaves': 159, 'max_depth': 12, 'learning_rate': 0.43200182414025157, 'min_child_samples': 21}. Best is trial 1 with value: 0.39922090995664644.\u001b[0m\n",
      "\u001b[32m[I 2021-11-29 15:59:02,109]\u001b[0m Trial 4 finished with value: 0.39474856942152003 and parameters: {'n_estimators': 345, 'num_leaves': 78, 'max_depth': 8, 'learning_rate': 0.3664252071093623, 'min_child_samples': 28}. Best is trial 1 with value: 0.39922090995664644.\u001b[0m\n",
      "\u001b[32m[I 2021-11-29 15:59:10,719]\u001b[0m Trial 5 finished with value: 0.3573122561769789 and parameters: {'n_estimators': 414, 'num_leaves': 108, 'max_depth': 12, 'learning_rate': 0.5924553274051563, 'min_child_samples': 11}. Best is trial 1 with value: 0.39922090995664644.\u001b[0m\n",
      "\u001b[32m[I 2021-11-29 15:59:16,825]\u001b[0m Trial 6 finished with value: 0.3963165143316797 and parameters: {'n_estimators': 343, 'num_leaves': 93, 'max_depth': 5, 'learning_rate': 0.9488906486996079, 'min_child_samples': 49}. Best is trial 1 with value: 0.39922090995664644.\u001b[0m\n",
      "\u001b[32m[I 2021-11-29 15:59:24,591]\u001b[0m Trial 7 finished with value: 0.39104812505535114 and parameters: {'n_estimators': 424, 'num_leaves': 159, 'max_depth': 5, 'learning_rate': 0.6842646032095057, 'min_child_samples': 28}. Best is trial 1 with value: 0.39922090995664644.\u001b[0m\n",
      "\u001b[32m[I 2021-11-29 15:59:27,421]\u001b[0m Trial 8 finished with value: 0.4036465746266325 and parameters: {'n_estimators': 148, 'num_leaves': 253, 'max_depth': 4, 'learning_rate': 0.9093294700385742, 'min_child_samples': 20}. Best is trial 8 with value: 0.4036465746266325.\u001b[0m\n",
      "\u001b[32m[I 2021-11-29 15:59:36,775]\u001b[0m Trial 9 finished with value: 0.34987690807113586 and parameters: {'n_estimators': 365, 'num_leaves': 163, 'max_depth': 12, 'learning_rate': 0.5467556083153453, 'min_child_samples': 17}. Best is trial 8 with value: 0.4036465746266325.\u001b[0m\n",
      "\u001b[32m[I 2021-11-29 15:59:43,424]\u001b[0m Trial 10 finished with value: 0.35140729495129147 and parameters: {'n_estimators': 250, 'num_leaves': 352, 'max_depth': 8, 'learning_rate': 0.9549732369265584, 'min_child_samples': 36}. Best is trial 8 with value: 0.4036465746266325.\u001b[0m\n",
      "\u001b[32m[I 2021-11-29 15:59:47,974]\u001b[0m Trial 11 finished with value: 0.34211017866834637 and parameters: {'n_estimators': 115, 'num_leaves': 299, 'max_depth': 20, 'learning_rate': 0.783651258186902, 'min_child_samples': 40}. Best is trial 8 with value: 0.4036465746266325.\u001b[0m\n",
      "\u001b[32m[I 2021-11-29 15:59:51,319]\u001b[0m Trial 12 finished with value: 0.40376997631796924 and parameters: {'n_estimators': 190, 'num_leaves': 14, 'max_depth': 15, 'learning_rate': 0.7923386592512832, 'min_child_samples': 42}. Best is trial 12 with value: 0.40376997631796924.\u001b[0m\n",
      "\u001b[32m[I 2021-11-29 15:59:57,576]\u001b[0m Trial 13 finished with value: 0.2979030768823034 and parameters: {'n_estimators': 214, 'num_leaves': 263, 'max_depth': 15, 'learning_rate': 0.8224818041959032, 'min_child_samples': 48}. Best is trial 12 with value: 0.40376997631796924.\u001b[0m\n",
      "\u001b[32m[I 2021-11-29 16:00:02,603]\u001b[0m Trial 14 finished with value: 0.34175622078568013 and parameters: {'n_estimators': 179, 'num_leaves': 398, 'max_depth': 9, 'learning_rate': 0.8217448097808967, 'min_child_samples': 24}. Best is trial 12 with value: 0.40376997631796924.\u001b[0m\n",
      "\u001b[32m[I 2021-11-29 16:00:11,031]\u001b[0m Trial 15 finished with value: 0.3965624185864682 and parameters: {'n_estimators': 487, 'num_leaves': 12, 'max_depth': 15, 'learning_rate': 0.9869875702434437, 'min_child_samples': 34}. Best is trial 12 with value: 0.40376997631796924.\u001b[0m\n",
      "\u001b[32m[I 2021-11-29 16:00:20,332]\u001b[0m Trial 16 finished with value: 0.32671955968284006 and parameters: {'n_estimators': 275, 'num_leaves': 214, 'max_depth': 10, 'learning_rate': 0.7254395627317267, 'min_child_samples': 44}. Best is trial 12 with value: 0.40376997631796924.\u001b[0m\n",
      "\u001b[32m[I 2021-11-29 16:00:23,509]\u001b[0m Trial 17 finished with value: 0.4083742229735551 and parameters: {'n_estimators': 212, 'num_leaves': 408, 'max_depth': 4, 'learning_rate': 0.13889895626883236, 'min_child_samples': 33}. Best is trial 17 with value: 0.4083742229735551.\u001b[0m\n",
      "\u001b[32m[I 2021-11-29 16:00:31,112]\u001b[0m Trial 18 finished with value: 0.39645536985514224 and parameters: {'n_estimators': 215, 'num_leaves': 387, 'max_depth': 14, 'learning_rate': 0.12067401081020171, 'min_child_samples': 33}. Best is trial 17 with value: 0.4083742229735551.\u001b[0m\n",
      "\u001b[32m[I 2021-11-29 16:00:40,497]\u001b[0m Trial 19 finished with value: 0.4033895967282528 and parameters: {'n_estimators': 302, 'num_leaves': 438, 'max_depth': 7, 'learning_rate': 0.011088090324846922, 'min_child_samples': 43}. Best is trial 17 with value: 0.4083742229735551.\u001b[0m\n",
      "\u001b[32m[I 2021-11-29 16:00:47,744]\u001b[0m Trial 20 finished with value: 0.3734796021074399 and parameters: {'n_estimators': 207, 'num_leaves': 321, 'max_depth': 11, 'learning_rate': 0.2668483797541453, 'min_child_samples': 31}. Best is trial 17 with value: 0.4083742229735551.\u001b[0m\n",
      "\u001b[32m[I 2021-11-29 16:00:50,716]\u001b[0m Trial 21 finished with value: 0.40229585374733207 and parameters: {'n_estimators': 145, 'num_leaves': 235, 'max_depth': 4, 'learning_rate': 0.8827120767959364, 'min_child_samples': 24}. Best is trial 17 with value: 0.4083742229735551.\u001b[0m\n",
      "\u001b[32m[I 2021-11-29 16:00:53,872]\u001b[0m Trial 22 finished with value: 0.4024627655894403 and parameters: {'n_estimators': 135, 'num_leaves': 281, 'max_depth': 6, 'learning_rate': 0.44559722077279845, 'min_child_samples': 38}. Best is trial 17 with value: 0.4083742229735551.\u001b[0m\n",
      "\u001b[32m[I 2021-11-29 16:00:56,732]\u001b[0m Trial 23 finished with value: 0.40608974197960857 and parameters: {'n_estimators': 183, 'num_leaves': 209, 'max_depth': 4, 'learning_rate': 0.6908630676948185, 'min_child_samples': 44}. Best is trial 17 with value: 0.4083742229735551.\u001b[0m\n",
      "\u001b[32m[I 2021-11-29 16:01:00,972]\u001b[0m Trial 24 finished with value: 0.3920328965609524 and parameters: {'n_estimators': 202, 'num_leaves': 213, 'max_depth': 6, 'learning_rate': 0.6825076251798092, 'min_child_samples': 44}. Best is trial 17 with value: 0.4083742229735551.\u001b[0m\n",
      "\u001b[32m[I 2021-11-29 16:01:13,507]\u001b[0m Trial 25 finished with value: 0.4052615604132429 and parameters: {'n_estimators': 249, 'num_leaves': 344, 'max_depth': 14, 'learning_rate': 0.006831311740047724, 'min_child_samples': 46}. Best is trial 17 with value: 0.4083742229735551.\u001b[0m\n",
      "\u001b[32m[I 2021-11-29 16:01:29,225]\u001b[0m Trial 26 finished with value: 0.40865585672294624 and parameters: {'n_estimators': 251, 'num_leaves': 344, 'max_depth': 13, 'learning_rate': 0.021531075825879487, 'min_child_samples': 47}. Best is trial 26 with value: 0.40865585672294624.\u001b[0m\n",
      "\u001b[32m[I 2021-11-29 16:01:46,899]\u001b[0m Trial 27 finished with value: 0.4001592435586316 and parameters: {'n_estimators': 301, 'num_leaves': 425, 'max_depth': 10, 'learning_rate': 0.11642950484733051, 'min_child_samples': 50}. Best is trial 26 with value: 0.40865585672294624.\u001b[0m\n",
      "\u001b[32m[I 2021-11-29 16:01:53,063]\u001b[0m Trial 28 finished with value: 0.40820688390906745 and parameters: {'n_estimators': 278, 'num_leaves': 367, 'max_depth': 7, 'learning_rate': 0.10460899159021667, 'min_child_samples': 46}. Best is trial 26 with value: 0.40865585672294624.\u001b[0m\n",
      "\u001b[32m[I 2021-11-29 16:01:59,452]\u001b[0m Trial 29 finished with value: 0.40725867537754457 and parameters: {'n_estimators': 253, 'num_leaves': 441, 'max_depth': 7, 'learning_rate': 0.11361549172732363, 'min_child_samples': 36}. Best is trial 26 with value: 0.40865585672294624.\u001b[0m\n"
     ]
    },
    {
     "name": "stderr",
     "output_type": "stream",
     "text": [
      "\u001b[32m[I 2021-11-29 16:02:08,252]\u001b[0m Trial 30 finished with value: 0.3829624967899356 and parameters: {'n_estimators': 280, 'num_leaves': 371, 'max_depth': 10, 'learning_rate': 0.23239604485107337, 'min_child_samples': 46}. Best is trial 26 with value: 0.40865585672294624.\u001b[0m\n",
      "\u001b[32m[I 2021-11-29 16:02:13,947]\u001b[0m Trial 31 finished with value: 0.4083648328575246 and parameters: {'n_estimators': 242, 'num_leaves': 452, 'max_depth': 7, 'learning_rate': 0.10252336862666626, 'min_child_samples': 37}. Best is trial 26 with value: 0.40865585672294624.\u001b[0m\n",
      "\u001b[32m[I 2021-11-29 16:02:19,312]\u001b[0m Trial 32 finished with value: 0.4087785606030528 and parameters: {'n_estimators': 235, 'num_leaves': 465, 'max_depth': 6, 'learning_rate': 0.07118597442066438, 'min_child_samples': 39}. Best is trial 32 with value: 0.4087785606030528.\u001b[0m\n",
      "\u001b[32m[I 2021-11-29 16:02:23,825]\u001b[0m Trial 33 finished with value: 0.4095706693990336 and parameters: {'n_estimators': 239, 'num_leaves': 474, 'max_depth': 5, 'learning_rate': 0.17317999847277454, 'min_child_samples': 40}. Best is trial 33 with value: 0.4095706693990336.\u001b[0m\n",
      "\u001b[32m[I 2021-11-29 16:02:28,049]\u001b[0m Trial 34 finished with value: 0.4067993669615917 and parameters: {'n_estimators': 220, 'num_leaves': 488, 'max_depth': 5, 'learning_rate': 0.3050929324760455, 'min_child_samples': 40}. Best is trial 33 with value: 0.4095706693990336.\u001b[0m\n",
      "\u001b[32m[I 2021-11-29 16:02:37,677]\u001b[0m Trial 35 finished with value: 0.3699713980079251 and parameters: {'n_estimators': 231, 'num_leaves': 466, 'max_depth': 13, 'learning_rate': 0.18418218287729932, 'min_child_samples': 41}. Best is trial 33 with value: 0.4095706693990336.\u001b[0m\n",
      "\u001b[32m[I 2021-11-29 16:02:45,876]\u001b[0m Trial 36 finished with value: 0.40602950671950155 and parameters: {'n_estimators': 327, 'num_leaves': 420, 'max_depth': 6, 'learning_rate': 0.16457159594850856, 'min_child_samples': 34}. Best is trial 33 with value: 0.4095706693990336.\u001b[0m\n",
      "\u001b[32m[I 2021-11-29 16:02:53,185]\u001b[0m Trial 37 finished with value: 0.40755674390626867 and parameters: {'n_estimators': 268, 'num_leaves': 483, 'max_depth': 5, 'learning_rate': 0.038193057294640106, 'min_child_samples': 30}. Best is trial 33 with value: 0.4095706693990336.\u001b[0m\n",
      "\u001b[32m[I 2021-11-29 16:03:05,102]\u001b[0m Trial 38 finished with value: 0.32170975186373646 and parameters: {'n_estimators': 302, 'num_leaves': 408, 'max_depth': 17, 'learning_rate': 0.3510240281354016, 'min_child_samples': 39}. Best is trial 33 with value: 0.4095706693990336.\u001b[0m\n",
      "\u001b[32m[I 2021-11-29 16:03:16,315]\u001b[0m Trial 39 finished with value: 0.4082037828801661 and parameters: {'n_estimators': 326, 'num_leaves': 467, 'max_depth': 8, 'learning_rate': 0.055409668741794815, 'min_child_samples': 32}. Best is trial 33 with value: 0.4095706693990336.\u001b[0m\n",
      "\u001b[32m[I 2021-11-29 16:03:20,703]\u001b[0m Trial 40 finished with value: 0.4088255318728398 and parameters: {'n_estimators': 230, 'num_leaves': 338, 'max_depth': 4, 'learning_rate': 0.1826756101416741, 'min_child_samples': 28}. Best is trial 33 with value: 0.4095706693990336.\u001b[0m\n",
      "\u001b[32m[I 2021-11-29 16:03:24,512]\u001b[0m Trial 41 finished with value: 0.4099622486454612 and parameters: {'n_estimators': 235, 'num_leaves': 321, 'max_depth': 4, 'learning_rate': 0.18924682003081417, 'min_child_samples': 28}. Best is trial 41 with value: 0.4099622486454612.\u001b[0m\n",
      "\u001b[32m[I 2021-11-29 16:03:27,470]\u001b[0m Trial 42 finished with value: 0.4098892351907244 and parameters: {'n_estimators': 159, 'num_leaves': 324, 'max_depth': 5, 'learning_rate': 0.21303038348880915, 'min_child_samples': 26}. Best is trial 41 with value: 0.4099622486454612.\u001b[0m\n",
      "\u001b[32m[I 2021-11-29 16:03:30,212]\u001b[0m Trial 43 finished with value: 0.40776661874121917 and parameters: {'n_estimators': 159, 'num_leaves': 308, 'max_depth': 5, 'learning_rate': 0.2291427715848807, 'min_child_samples': 26}. Best is trial 41 with value: 0.4099622486454612.\u001b[0m\n",
      "\u001b[32m[I 2021-11-29 16:03:32,927]\u001b[0m Trial 44 finished with value: 0.4122625963100799 and parameters: {'n_estimators': 125, 'num_leaves': 323, 'max_depth': 6, 'learning_rate': 0.2982233778503205, 'min_child_samples': 29}. Best is trial 44 with value: 0.4122625963100799.\u001b[0m\n",
      "\u001b[32m[I 2021-11-29 16:03:34,954]\u001b[0m Trial 45 finished with value: 0.40845427732276735 and parameters: {'n_estimators': 112, 'num_leaves': 325, 'max_depth': 4, 'learning_rate': 0.3253575396887265, 'min_child_samples': 21}. Best is trial 44 with value: 0.4122625963100799.\u001b[0m\n",
      "\u001b[32m[I 2021-11-29 16:03:37,218]\u001b[0m Trial 46 finished with value: 0.40987205166002266 and parameters: {'n_estimators': 101, 'num_leaves': 284, 'max_depth': 5, 'learning_rate': 0.27374947980461484, 'min_child_samples': 27}. Best is trial 44 with value: 0.4122625963100799.\u001b[0m\n",
      "\u001b[32m[I 2021-11-29 16:03:39,651]\u001b[0m Trial 47 finished with value: 0.4057632789619962 and parameters: {'n_estimators': 128, 'num_leaves': 286, 'max_depth': 5, 'learning_rate': 0.3915480755777427, 'min_child_samples': 24}. Best is trial 44 with value: 0.4122625963100799.\u001b[0m\n",
      "\u001b[32m[I 2021-11-29 16:03:44,033]\u001b[0m Trial 48 finished with value: 0.394127968232052 and parameters: {'n_estimators': 166, 'num_leaves': 267, 'max_depth': 9, 'learning_rate': 0.27500814230871995, 'min_child_samples': 27}. Best is trial 44 with value: 0.4122625963100799.\u001b[0m\n",
      "\u001b[32m[I 2021-11-29 16:03:46,311]\u001b[0m Trial 49 finished with value: 0.4011450932464828 and parameters: {'n_estimators': 106, 'num_leaves': 244, 'max_depth': 6, 'learning_rate': 0.4591338457103533, 'min_child_samples': 19}. Best is trial 44 with value: 0.4122625963100799.\u001b[0m\n",
      "\u001b[32m[I 2021-11-29 16:03:49,885]\u001b[0m Trial 50 finished with value: 0.3943807251728003 and parameters: {'n_estimators': 129, 'num_leaves': 182, 'max_depth': 8, 'learning_rate': 0.39696824567750677, 'min_child_samples': 14}. Best is trial 44 with value: 0.4122625963100799.\u001b[0m\n",
      "\u001b[32m[I 2021-11-29 16:03:51,823]\u001b[0m Trial 51 finished with value: 0.40879084061194654 and parameters: {'n_estimators': 102, 'num_leaves': 303, 'max_depth': 4, 'learning_rate': 0.1898318074824934, 'min_child_samples': 29}. Best is trial 44 with value: 0.4122625963100799.\u001b[0m\n",
      "\u001b[32m[I 2021-11-29 16:03:54,567]\u001b[0m Trial 52 finished with value: 0.40723441059041 and parameters: {'n_estimators': 153, 'num_leaves': 323, 'max_depth': 5, 'learning_rate': 0.25512633970891196, 'min_child_samples': 25}. Best is trial 44 with value: 0.4122625963100799.\u001b[0m\n",
      "\u001b[32m[I 2021-11-29 16:03:56,759]\u001b[0m Trial 53 finished with value: 0.40917670913162624 and parameters: {'n_estimators': 119, 'num_leaves': 130, 'max_depth': 5, 'learning_rate': 0.29759385479738826, 'min_child_samples': 28}. Best is trial 44 with value: 0.4122625963100799.\u001b[0m\n",
      "\u001b[32m[I 2021-11-29 16:03:59,954]\u001b[0m Trial 54 finished with value: 0.40049722612627764 and parameters: {'n_estimators': 138, 'num_leaves': 115, 'max_depth': 6, 'learning_rate': 0.5185022709952007, 'min_child_samples': 23}. Best is trial 44 with value: 0.4122625963100799.\u001b[0m\n",
      "\u001b[32m[I 2021-11-29 16:04:02,269]\u001b[0m Trial 55 finished with value: 0.40850880696630487 and parameters: {'n_estimators': 122, 'num_leaves': 51, 'max_depth': 5, 'learning_rate': 0.3047729615984493, 'min_child_samples': 30}. Best is trial 44 with value: 0.4122625963100799.\u001b[0m\n",
      "\u001b[32m[I 2021-11-29 16:04:06,040]\u001b[0m Trial 56 finished with value: 0.4031489104541473 and parameters: {'n_estimators': 164, 'num_leaves': 122, 'max_depth': 7, 'learning_rate': 0.34457374948288166, 'min_child_samples': 22}. Best is trial 44 with value: 0.4122625963100799.\u001b[0m\n",
      "\u001b[32m[I 2021-11-29 16:04:09,056]\u001b[0m Trial 57 finished with value: 0.4115532378119508 and parameters: {'n_estimators': 197, 'num_leaves': 372, 'max_depth': 4, 'learning_rate': 0.2234154851730222, 'min_child_samples': 26}. Best is trial 44 with value: 0.4122625963100799.\u001b[0m\n",
      "\u001b[32m[I 2021-11-29 16:04:14,853]\u001b[0m Trial 58 finished with value: 0.3882749261543878 and parameters: {'n_estimators': 185, 'num_leaves': 370, 'max_depth': 20, 'learning_rate': 0.15374298287153343, 'min_child_samples': 26}. Best is trial 44 with value: 0.4122625963100799.\u001b[0m\n",
      "\u001b[32m[I 2021-11-29 16:04:18,008]\u001b[0m Trial 59 finished with value: 0.41147437402213144 and parameters: {'n_estimators': 198, 'num_leaves': 290, 'max_depth': 4, 'learning_rate': 0.2347870390512021, 'min_child_samples': 26}. Best is trial 44 with value: 0.4122625963100799.\u001b[0m\n"
     ]
    }
   ],
   "source": [
    "def create_model(trial):\n",
    "    n_estimators = trial.suggest_int('n_estimators',100,500)\n",
    "    num_leaves = trial.suggest_int('num_leaves',10,500)\n",
    "    max_depth = trial.suggest_int('max_depth',4,20)\n",
    "    learning_rate = trial.suggest_uniform('learning_rate',0.0001,1)\n",
    "    min_child_samples = trial.suggest_int('min_child_samples',10,50)\n",
    "    model = LGBMClassifier(n_estimators=n_estimators,num_leaves=num_leaves,\n",
    "    max_depth=max_depth,learning_rate=learning_rate,min_child_samples=min_child_samples)\n",
    "    return model\n",
    "\n",
    "def objective(trial):\n",
    "    model = create_model(trial)\n",
    "    model.fit(X_rus,y_rus)\n",
    "    #score = roc_auc_score(y_val,model.predict(X_val))\n",
    "    score = matthews_corrcoef(y_val,model.predict(X_val))  # MWB\n",
    "    return score\n",
    "\n",
    "sampler = TPESampler(seed=42)\n",
    "study = optuna.create_study(sampler=sampler,direction='maximize')\n",
    "study.optimize(objective,n_trials=60)"
   ]
  },
  {
   "cell_type": "code",
   "execution_count": 35,
   "metadata": {},
   "outputs": [
    {
     "name": "stdout",
     "output_type": "stream",
     "text": [
      "              precision    recall  f1-score   support\n",
      "\n",
      "           0       0.99      0.68      0.81     27867\n",
      "           1       0.29      0.93      0.44      3892\n",
      "\n",
      "    accuracy                           0.71     31759\n",
      "   macro avg       0.64      0.80      0.62     31759\n",
      "weighted avg       0.90      0.71      0.76     31759\n",
      "\n",
      "ROC AUC Score: 0.8049223017968443\n"
     ]
    }
   ],
   "source": [
    "lgb_params = study.best_params\n",
    "lgb_params['random_state'] = 42\n",
    "lgb = LGBMClassifier(**lgb_params)\n",
    "lgb.fit(X_rus, y_rus)\n",
    "preds = lgb.predict(X_val)\n",
    "print(classification_report(y_val,lgb.predict(X_val)))\n",
    "print('ROC AUC Score: ' + str(roc_auc_score(y_val,lgb.predict(X_val))))"
   ]
  },
  {
   "cell_type": "code",
   "execution_count": 37,
   "metadata": {},
   "outputs": [
    {
     "name": "stdout",
     "output_type": "stream",
     "text": [
      "              precision    recall  f1-score   support\n",
      "\n",
      "           0       0.98      0.69      0.81     27867\n",
      "           1       0.29      0.91      0.44      3892\n",
      "\n",
      "    accuracy                           0.72     31759\n",
      "   macro avg       0.64      0.80      0.63     31759\n",
      "weighted avg       0.90      0.72      0.77     31759\n",
      "\n",
      "ROC AUC Score: 0.8038184265807293\n"
     ]
    }
   ],
   "source": [
    "lgb_params = study.best_params\n",
    "lgb_params['random_state'] = 42\n",
    "lgb = LGBMClassifier(**lgb_params)\n",
    "lgb.fit(X_rus, y_rus)\n",
    "preds = lgb.predict(X_val)\n",
    "print(classification_report(y_val,lgb.predict(X_val)))\n",
    "print('ROC AUC Score: ' + str(roc_auc_score(y_val,lgb.predict(X_val))))"
   ]
  },
  {
   "cell_type": "code",
   "execution_count": 36,
   "metadata": {
    "scrolled": true
   },
   "outputs": [
    {
     "data": {
      "image/png": "[encoded data removed]",
      "text/plain": [
       "<Figure size 432x288 with 2 Axes>"
      ]
     },
     "metadata": {},
     "output_type": "display_data"
    }
   ],
   "source": [
    "sns.heatmap(confusion_matrix(y_val,lgb.predict(X_val)),cmap='magma',annot=True,fmt='g')\n",
    "plt.show()"
   ]
  },
  {
   "cell_type": "code",
   "execution_count": 38,
   "metadata": {
    "scrolled": true
   },
   "outputs": [
    {
     "data": {
      "image/png": "[encoded data removed]",
      "text/plain": [
       "<Figure size 432x288 with 2 Axes>"
      ]
     },
     "metadata": {},
     "output_type": "display_data"
    }
   ],
   "source": [
    "sns.heatmap(confusion_matrix(y_val,lgb.predict(X_val)),cmap='magma',annot=True,fmt='g')\n",
    "plt.show()"
   ]
  },
  {
   "cell_type": "code",
   "execution_count": 37,
   "metadata": {},
   "outputs": [
    {
     "data": {
      "text/plain": [
       "{'n_estimators': 273,\n",
       " 'num_leaves': 342,\n",
       " 'max_depth': 4,\n",
       " 'learning_rate': 0.13798553166412442,\n",
       " 'min_child_samples': 46,\n",
       " 'random_state': 42}"
      ]
     },
     "execution_count": 37,
     "metadata": {},
     "output_type": "execute_result"
    }
   ],
   "source": [
    "#MWB - old\n",
    "lgb_params"
   ]
  },
  {
   "cell_type": "code",
   "execution_count": 39,
   "metadata": {},
   "outputs": [
    {
     "data": {
      "text/plain": [
       "{'n_estimators': 125,\n",
       " 'num_leaves': 323,\n",
       " 'max_depth': 6,\n",
       " 'learning_rate': 0.2982233778503205,\n",
       " 'min_child_samples': 29,\n",
       " 'random_state': 42}"
      ]
     },
     "execution_count": 39,
     "metadata": {},
     "output_type": "execute_result"
    }
   ],
   "source": [
    "#MWB - new\n",
    "lgb_params"
   ]
  },
  {
   "cell_type": "markdown",
   "metadata": {},
   "source": [
    "<h1 align='center'>Thanks and make sure to learn!</h1>"
   ]
  }
 ],
 "metadata": {
  "kernelspec": {
   "display_name": "Python 3 (ipykernel)",
   "language": "python",
   "name": "python3"
  },
  "language_info": {
   "codemirror_mode": {
    "name": "ipython",
    "version": 3
   },
   "file_extension": ".py",
   "mimetype": "text/x-python",
   "name": "python",
   "nbconvert_exporter": "python",
   "pygments_lexer": "ipython3",
   "version": "3.9.10"
  }
 },
 "nbformat": 4,
 "nbformat_minor": 4
}
